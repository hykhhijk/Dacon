{
 "cells": [
  {
   "cell_type": "markdown",
   "id": "87358a61-c8d3-45ac-b406-c4cc4d241317",
   "metadata": {},
   "source": [
    "# Load libraries & data"
   ]
  },
  {
   "cell_type": "markdown",
   "id": "0a9ec393-8fee-410d-a6b5-c0585e571364",
   "metadata": {},
   "source": [
    "## Import "
   ]
  },
  {
   "cell_type": "code",
   "execution_count": 1,
   "id": "a3f5e910-c944-4950-839f-7f0ffd969e9a",
   "metadata": {},
   "outputs": [],
   "source": [
    "import pandas as pd\n",
    "import numpy as np\n",
    "import os\n",
    "import random\n",
    "from autogluon.timeseries import TimeSeriesDataFrame, TimeSeriesPredictor"
   ]
  },
  {
   "cell_type": "markdown",
   "id": "8e14db32-10ab-429a-9493-8b73897f78f6",
   "metadata": {},
   "source": [
    "## set seed"
   ]
  },
  {
   "cell_type": "code",
   "execution_count": 2,
   "id": "2b629513-f9dc-4361-9432-e3905621de4b",
   "metadata": {},
   "outputs": [],
   "source": [
    "def seed_everything(seed):\n",
    "    random.seed(seed)\n",
    "    os.environ['PYTHONHASHSEED'] = str(seed)\n",
    "    np.random.seed(seed)\n",
    "\n",
    "seed_everything(42) # Seed 고정"
   ]
  },
  {
   "cell_type": "markdown",
   "id": "f46b0c99-2edf-45e0-a7e4-f4754bbe71d8",
   "metadata": {},
   "source": [
    "## Load data "
   ]
  },
  {
   "cell_type": "code",
   "execution_count": 3,
   "id": "fd11c07e-a9d5-4fe9-a468-018958492b5e",
   "metadata": {},
   "outputs": [],
   "source": [
    "path = \"/mnt/d/data/jeju\"\n",
    "\n",
    "train_df = pd.read_csv(os.path.join(path, './train.csv'))\n",
    "test_df = pd.read_csv(os.path.join(path, './test.csv'))"
   ]
  },
  {
   "cell_type": "markdown",
   "id": "3543bc63-76c3-4d1f-bb72-dc68610d8398",
   "metadata": {},
   "source": [
    "# Preprocess"
   ]
  },
  {
   "cell_type": "code",
   "execution_count": 4,
   "metadata": {},
   "outputs": [],
   "source": [
    "#시계열 특성을 학습에 반영하기 위해 timestamp를 월, 일, 시간으로 나눕니다\n",
    "train_df['year'] = train_df['timestamp'].apply(lambda x : int(x[0:4]))\n",
    "train_df['month'] = train_df['timestamp'].apply(lambda x : int(x[5:7]))\n",
    "train_df['day'] = train_df['timestamp'].apply(lambda x : int(x[8:10]))\n",
    "\n",
    "test_df['year'] = test_df['timestamp'].apply(lambda x : int(x[0:4]))\n",
    "test_df['month'] = test_df['timestamp'].apply(lambda x : int(x[5:7]))\n",
    "test_df['day'] = test_df['timestamp'].apply(lambda x : int(x[8:10]))"
   ]
  },
  {
   "cell_type": "code",
   "execution_count": 7,
   "id": "e792bc94-352d-45a9-a219-8f1c0ba7002f",
   "metadata": {},
   "outputs": [
    {
     "name": "stderr",
     "output_type": "stream",
     "text": [
      "/tmp/ipykernel_6270/3300345463.py:4: SettingWithCopyWarning: \n",
      "A value is trying to be set on a copy of a slice from a DataFrame.\n",
      "Try using .loc[row_indexer,col_indexer] = value instead\n",
      "\n",
      "See the caveats in the documentation: https://pandas.pydata.org/pandas-docs/stable/user_guide/indexing.html#returning-a-view-versus-a-copy\n",
      "  new_train['item_id'] = new_train.ID.str[0:6]\n",
      "/tmp/ipykernel_6270/3300345463.py:5: SettingWithCopyWarning: \n",
      "A value is trying to be set on a copy of a slice from a DataFrame.\n",
      "Try using .loc[row_indexer,col_indexer] = value instead\n",
      "\n",
      "See the caveats in the documentation: https://pandas.pydata.org/pandas-docs/stable/user_guide/indexing.html#returning-a-view-versus-a-copy\n",
      "  new_test['item_id'] = new_test.ID.str[0:6]\n"
     ]
    }
   ],
   "source": [
    "new_train = train_df[['ID','timestamp','supply(kg)', 'price(원/kg)', \"year\", \"month\", \"day\"]]\n",
    "new_test = test_df[['ID','timestamp', \"year\", \"month\", \"day\"]]\n",
    "\n",
    "new_train['item_id'] = new_train.ID.str[0:6]\n",
    "new_test['item_id'] = new_test.ID.str[0:6]"
   ]
  },
  {
   "cell_type": "markdown",
   "id": "b8033a3c-94d0-4324-aa47-04cd6a23b048",
   "metadata": {},
   "source": [
    "# Train autogluon"
   ]
  },
  {
   "cell_type": "code",
   "execution_count": 140,
   "id": "dfc979e5-d150-4bed-92c0-f44f6ea7849a",
   "metadata": {},
   "outputs": [
    {
     "name": "stderr",
     "output_type": "stream",
     "text": [
      "================ TimeSeriesPredictor ================\n",
      "TimeSeriesPredictor.fit() called\n",
      "Fitting with arguments:\n",
      "{'enable_ensemble': True,\n",
      " 'evaluation_metric': 'RMSE',\n",
      " 'excluded_model_types': None,\n",
      " 'hyperparameter_tune_kwargs': None,\n",
      " 'hyperparameters': 'default',\n",
      " 'num_val_windows': 3,\n",
      " 'prediction_length': 28,\n",
      " 'random_seed': None,\n",
      " 'target': 'price(원/kg)',\n",
      " 'time_limit': None,\n",
      " 'verbosity': 2}\n",
      "Provided training data set with 59397 rows, 39 items (item = single time series). Average time series length is 1523.0. Data frequency is 'D'.\n",
      "=====================================================\n",
      "AutoGluon will save models to AutogluonModels/ag-20231117_142708\n",
      "AutoGluon will gauge predictive performance using evaluation metric: 'RMSE'\n",
      "\tThis metric's sign has been flipped to adhere to being 'higher is better'. The reported score can be multiplied by -1 to get the metric value.\n",
      "\n",
      "Provided dataset contains following columns:\n",
      "\ttarget:           'price(원/kg)'\n",
      "\tknown covariates: ['year', 'month', 'day']\n",
      "\tpast covariates:  ['supply(kg)']\n",
      "\n",
      "Starting training. Start time is 2023-11-17 23:27:08\n",
      "Models that will be trained: ['Naive', 'SeasonalNaive', 'Theta', 'AutoETS', 'RecursiveTabular', 'DeepAR']\n",
      "Training timeseries model Naive. \n",
      "\t-975.1030     = Validation score (-RMSE)\n",
      "\t0.18    s     = Training runtime\n",
      "\t0.04    s     = Validation (prediction) runtime\n",
      "Training timeseries model SeasonalNaive. \n",
      "\t-872.1644     = Validation score (-RMSE)\n",
      "\t0.16    s     = Training runtime\n",
      "\t0.04    s     = Validation (prediction) runtime\n",
      "Training timeseries model Theta. \n",
      "\t-839.0978     = Validation score (-RMSE)\n",
      "\t3.51    s     = Training runtime\n",
      "\t1.91    s     = Validation (prediction) runtime\n",
      "Training timeseries model AutoETS. \n",
      "\t-786.2084     = Validation score (-RMSE)\n",
      "\t3.24    s     = Training runtime\n",
      "\t1.55    s     = Validation (prediction) runtime\n",
      "Training timeseries model RecursiveTabular. \n",
      "\t-838.4386     = Validation score (-RMSE)\n",
      "\t6.01    s     = Training runtime\n",
      "\t0.68    s     = Validation (prediction) runtime\n",
      "Training timeseries model DeepAR. \n",
      "\t-993.8642     = Validation score (-RMSE)\n",
      "\t879.38  s     = Training runtime\n",
      "\t0.92    s     = Validation (prediction) runtime\n",
      "Fitting simple weighted ensemble.\n",
      "\t-752.2869     = Validation score (-RMSE)\n",
      "\t1.53    s     = Training runtime\n",
      "\t4.22    s     = Validation (prediction) runtime\n",
      "Training complete. Models trained: ['Naive', 'SeasonalNaive', 'Theta', 'AutoETS', 'RecursiveTabular', 'DeepAR', 'WeightedEnsemble']\n",
      "Total runtime: 899.50 s\n",
      "Best model: WeightedEnsemble\n",
      "Best model score: -752.2869\n"
     ]
    },
    {
     "data": {
      "text/plain": [
       "<autogluon.timeseries.predictor.TimeSeriesPredictor at 0x7f3de41bc7f0>"
      ]
     },
     "execution_count": 140,
     "metadata": {},
     "output_type": "execute_result"
    }
   ],
   "source": [
    "data = TimeSeriesDataFrame(new_train.drop(columns=['ID']))\n",
    "predictor = TimeSeriesPredictor( \n",
    "    prediction_length=28,\n",
    "    target=\"price(원/kg)\",\n",
    "    eval_metric=\"RMSE\",\n",
    "     known_covariates_names = [\"year\", \"month\", \"day\"],\n",
    "    # ignore_time_index=True,\n",
    ")\n",
    "# seed 고정\n",
    "predictor.fit(data, num_val_windows=3)"
   ]
  },
  {
   "cell_type": "code",
   "execution_count": 141,
   "metadata": {},
   "outputs": [
    {
     "name": "stdout",
     "output_type": "stream",
     "text": [
      "              model   score_val  pred_time_val  fit_time_marginal  fit_order\n",
      "0  WeightedEnsemble -752.286948       4.218859           1.529638          7\n",
      "1           AutoETS -786.208400       1.550855           3.240808          4\n",
      "2  RecursiveTabular -838.438581       0.677331           6.014990          5\n",
      "3             Theta -839.097795       1.910348           3.513313          3\n",
      "4     SeasonalNaive -872.164353       0.038748           0.164965          2\n",
      "5             Naive -975.103009       0.041576           0.180290          1\n",
      "6            DeepAR -993.864172       0.916366         879.382754          6\n"
     ]
    },
    {
     "data": {
      "text/html": [
       "<div>\n",
       "<style scoped>\n",
       "    .dataframe tbody tr th:only-of-type {\n",
       "        vertical-align: middle;\n",
       "    }\n",
       "\n",
       "    .dataframe tbody tr th {\n",
       "        vertical-align: top;\n",
       "    }\n",
       "\n",
       "    .dataframe thead th {\n",
       "        text-align: right;\n",
       "    }\n",
       "</style>\n",
       "<table border=\"1\" class=\"dataframe\">\n",
       "  <thead>\n",
       "    <tr style=\"text-align: right;\">\n",
       "      <th></th>\n",
       "      <th>model</th>\n",
       "      <th>score_val</th>\n",
       "      <th>pred_time_val</th>\n",
       "      <th>fit_time_marginal</th>\n",
       "      <th>fit_order</th>\n",
       "    </tr>\n",
       "  </thead>\n",
       "  <tbody>\n",
       "    <tr>\n",
       "      <th>0</th>\n",
       "      <td>WeightedEnsemble</td>\n",
       "      <td>-752.286948</td>\n",
       "      <td>4.218859</td>\n",
       "      <td>1.529638</td>\n",
       "      <td>7</td>\n",
       "    </tr>\n",
       "    <tr>\n",
       "      <th>1</th>\n",
       "      <td>AutoETS</td>\n",
       "      <td>-786.208400</td>\n",
       "      <td>1.550855</td>\n",
       "      <td>3.240808</td>\n",
       "      <td>4</td>\n",
       "    </tr>\n",
       "    <tr>\n",
       "      <th>2</th>\n",
       "      <td>RecursiveTabular</td>\n",
       "      <td>-838.438581</td>\n",
       "      <td>0.677331</td>\n",
       "      <td>6.014990</td>\n",
       "      <td>5</td>\n",
       "    </tr>\n",
       "    <tr>\n",
       "      <th>3</th>\n",
       "      <td>Theta</td>\n",
       "      <td>-839.097795</td>\n",
       "      <td>1.910348</td>\n",
       "      <td>3.513313</td>\n",
       "      <td>3</td>\n",
       "    </tr>\n",
       "    <tr>\n",
       "      <th>4</th>\n",
       "      <td>SeasonalNaive</td>\n",
       "      <td>-872.164353</td>\n",
       "      <td>0.038748</td>\n",
       "      <td>0.164965</td>\n",
       "      <td>2</td>\n",
       "    </tr>\n",
       "    <tr>\n",
       "      <th>5</th>\n",
       "      <td>Naive</td>\n",
       "      <td>-975.103009</td>\n",
       "      <td>0.041576</td>\n",
       "      <td>0.180290</td>\n",
       "      <td>1</td>\n",
       "    </tr>\n",
       "    <tr>\n",
       "      <th>6</th>\n",
       "      <td>DeepAR</td>\n",
       "      <td>-993.864172</td>\n",
       "      <td>0.916366</td>\n",
       "      <td>879.382754</td>\n",
       "      <td>6</td>\n",
       "    </tr>\n",
       "  </tbody>\n",
       "</table>\n",
       "</div>"
      ],
      "text/plain": [
       "              model   score_val  pred_time_val  fit_time_marginal  fit_order\n",
       "0  WeightedEnsemble -752.286948       4.218859           1.529638          7\n",
       "1           AutoETS -786.208400       1.550855           3.240808          4\n",
       "2  RecursiveTabular -838.438581       0.677331           6.014990          5\n",
       "3             Theta -839.097795       1.910348           3.513313          3\n",
       "4     SeasonalNaive -872.164353       0.038748           0.164965          2\n",
       "5             Naive -975.103009       0.041576           0.180290          1\n",
       "6            DeepAR -993.864172       0.916366         879.382754          6"
      ]
     },
     "execution_count": 141,
     "metadata": {},
     "output_type": "execute_result"
    }
   ],
   "source": [
    "predictor.leaderboard()"
   ]
  },
  {
   "cell_type": "code",
   "execution_count": 8,
   "id": "3476a33e-5530-4ed2-b3a5-daad72542004",
   "metadata": {},
   "outputs": [
    {
     "name": "stderr",
     "output_type": "stream",
     "text": [
      "\tWARNING: refit_full functionality for TimeSeriesPredictor is experimental and is not yet supported by all models.\n",
      "Refitting models via `refit_full` using all of the data (combined train and validation)...\n",
      "\tModels trained in this way will have the suffix '_FULL' and have NaN validation score.\n",
      "\tThis process is not bound by time_limit, but should take less time than the original `fit` call.\n",
      "Fitting model: Naive_FULL | Skipping fit via cloning parent ...\n",
      "Fitting model: SeasonalNaive_FULL | Skipping fit via cloning parent ...\n",
      "Fitting model: Theta_FULL | Skipping fit via cloning parent ...\n",
      "Fitting model: AutoETS_FULL | Skipping fit via cloning parent ...\n",
      "Fitting model: RecursiveTabular_FULL\n",
      "\t12.38   s     = Training runtime\n",
      "Fitting model: DeepAR_FULL | Skipping fit via cloning parent ...\n",
      "Fitting model: Naive_FULL_FULL | Skipping fit via cloning parent ...\n",
      "Fitting model: SeasonalNaive_FULL_FULL | Skipping fit via cloning parent ...\n",
      "Fitting model: Theta_FULL_FULL | Skipping fit via cloning parent ...\n",
      "Fitting model: AutoETS_FULL_FULL | Skipping fit via cloning parent ...\n",
      "Fitting model: RecursiveTabular_FULL_FULL\n",
      "\t1.27    s     = Training runtime\n",
      "Fitting model: WeightedEnsemble_FULL | Skipping fit via cloning parent ...\n",
      "Refit complete. Models trained: ['Naive_FULL', 'SeasonalNaive_FULL', 'Theta_FULL', 'AutoETS_FULL', 'RecursiveTabular_FULL', 'DeepAR_FULL', 'Naive_FULL_FULL', 'SeasonalNaive_FULL_FULL', 'Theta_FULL_FULL', 'AutoETS_FULL_FULL', 'RecursiveTabular_FULL_FULL', 'WeightedEnsemble_FULL']\n",
      "Total runtime: 14.18 s\n",
      "Updated best model to 'WeightedEnsemble_FULL' (Previously 'WeightedEnsemble'). AutoGluon will default to using 'WeightedEnsemble_FULL' for predict().\n"
     ]
    },
    {
     "data": {
      "text/plain": [
       "{'Naive': 'Naive_FULL',\n",
       " 'SeasonalNaive': 'SeasonalNaive_FULL',\n",
       " 'Theta': 'Theta_FULL',\n",
       " 'AutoETS': 'AutoETS_FULL',\n",
       " 'RecursiveTabular': 'RecursiveTabular_FULL',\n",
       " 'DeepAR': 'DeepAR_FULL',\n",
       " 'Naive_FULL': 'Naive_FULL_FULL',\n",
       " 'SeasonalNaive_FULL': 'SeasonalNaive_FULL_FULL',\n",
       " 'Theta_FULL': 'Theta_FULL_FULL',\n",
       " 'AutoETS_FULL': 'AutoETS_FULL_FULL',\n",
       " 'RecursiveTabular_FULL': 'RecursiveTabular_FULL_FULL',\n",
       " 'WeightedEnsemble': 'WeightedEnsemble_FULL'}"
      ]
     },
     "execution_count": 8,
     "metadata": {},
     "output_type": "execute_result"
    }
   ],
   "source": [
    "predictor.refit_full(model=\"all\")"
   ]
  },
  {
   "cell_type": "code",
   "execution_count": 142,
   "metadata": {},
   "outputs": [],
   "source": [
    "from autogluon.timeseries.utils.forecast import get_forecast_horizon_index_ts_dataframe\n",
    "\n",
    "future_index = get_forecast_horizon_index_ts_dataframe(data, prediction_length=28)\n",
    "\n",
    "future_timestamps = future_index.get_level_values(\"timestamp\")\n",
    "future_index.names = [\"item_ids\", \"item_ids\"]\n",
    "\n",
    "known_covariates = pd.DataFrame(index=future_index)\n",
    "known_covariates['year'] = np.array(future_timestamps.to_series().dt.year)\n",
    "known_covariates['month'] = np.array(future_timestamps.to_series().dt.month)\n",
    "known_covariates['day'] = np.array(future_timestamps.to_series().dt.day)\n"
   ]
  },
  {
   "cell_type": "code",
   "execution_count": 143,
   "metadata": {},
   "outputs": [],
   "source": [
    "test_data = TimeSeriesDataFrame(new_test)"
   ]
  },
  {
   "cell_type": "code",
   "execution_count": 144,
   "metadata": {},
   "outputs": [
    {
     "name": "stderr",
     "output_type": "stream",
     "text": [
      "Global seed set to 123\n",
      "Model not specified in predict, will default to the model with the best validation score: WeightedEnsemble\n"
     ]
    }
   ],
   "source": [
    "pred = predictor.predict(data, known_covariates= test_data)"
   ]
  },
  {
   "cell_type": "code",
   "execution_count": 145,
   "id": "731109df-35e6-427d-a88f-874ba102635b",
   "metadata": {},
   "outputs": [
    {
     "data": {
      "text/html": [
       "<div>\n",
       "<style scoped>\n",
       "    .dataframe tbody tr th:only-of-type {\n",
       "        vertical-align: middle;\n",
       "    }\n",
       "\n",
       "    .dataframe tbody tr th {\n",
       "        vertical-align: top;\n",
       "    }\n",
       "\n",
       "    .dataframe thead th {\n",
       "        text-align: right;\n",
       "    }\n",
       "</style>\n",
       "<table border=\"1\" class=\"dataframe\">\n",
       "  <thead>\n",
       "    <tr style=\"text-align: right;\">\n",
       "      <th></th>\n",
       "      <th>ID</th>\n",
       "      <th>answer</th>\n",
       "    </tr>\n",
       "  </thead>\n",
       "  <tbody>\n",
       "    <tr>\n",
       "      <th>0</th>\n",
       "      <td>TG_A_J_20230304</td>\n",
       "      <td>3094.495123</td>\n",
       "    </tr>\n",
       "    <tr>\n",
       "      <th>1</th>\n",
       "      <td>TG_A_J_20230305</td>\n",
       "      <td>843.988308</td>\n",
       "    </tr>\n",
       "    <tr>\n",
       "      <th>2</th>\n",
       "      <td>TG_A_J_20230306</td>\n",
       "      <td>3076.601860</td>\n",
       "    </tr>\n",
       "    <tr>\n",
       "      <th>3</th>\n",
       "      <td>TG_A_J_20230307</td>\n",
       "      <td>3381.481404</td>\n",
       "    </tr>\n",
       "    <tr>\n",
       "      <th>4</th>\n",
       "      <td>TG_A_J_20230308</td>\n",
       "      <td>3199.946484</td>\n",
       "    </tr>\n",
       "    <tr>\n",
       "      <th>...</th>\n",
       "      <td>...</td>\n",
       "      <td>...</td>\n",
       "    </tr>\n",
       "    <tr>\n",
       "      <th>1087</th>\n",
       "      <td>RD_F_J_20230327</td>\n",
       "      <td>518.467955</td>\n",
       "    </tr>\n",
       "    <tr>\n",
       "      <th>1088</th>\n",
       "      <td>RD_F_J_20230328</td>\n",
       "      <td>538.119704</td>\n",
       "    </tr>\n",
       "    <tr>\n",
       "      <th>1089</th>\n",
       "      <td>RD_F_J_20230329</td>\n",
       "      <td>552.207454</td>\n",
       "    </tr>\n",
       "    <tr>\n",
       "      <th>1090</th>\n",
       "      <td>RD_F_J_20230330</td>\n",
       "      <td>524.074828</td>\n",
       "    </tr>\n",
       "    <tr>\n",
       "      <th>1091</th>\n",
       "      <td>RD_F_J_20230331</td>\n",
       "      <td>515.774613</td>\n",
       "    </tr>\n",
       "  </tbody>\n",
       "</table>\n",
       "<p>1092 rows × 2 columns</p>\n",
       "</div>"
      ],
      "text/plain": [
       "                   ID       answer\n",
       "0     TG_A_J_20230304  3094.495123\n",
       "1     TG_A_J_20230305   843.988308\n",
       "2     TG_A_J_20230306  3076.601860\n",
       "3     TG_A_J_20230307  3381.481404\n",
       "4     TG_A_J_20230308  3199.946484\n",
       "...               ...          ...\n",
       "1087  RD_F_J_20230327   518.467955\n",
       "1088  RD_F_J_20230328   538.119704\n",
       "1089  RD_F_J_20230329   552.207454\n",
       "1090  RD_F_J_20230330   524.074828\n",
       "1091  RD_F_J_20230331   515.774613\n",
       "\n",
       "[1092 rows x 2 columns]"
      ]
     },
     "execution_count": 145,
     "metadata": {},
     "output_type": "execute_result"
    }
   ],
   "source": [
    "submission = pd.read_csv(os.path.join(path, './sample_submission.csv'))\n",
    "submission['answer'] = pred.reset_index()['mean']\n",
    "submission.loc[ submission['answer'] < 0.0, 'answer'] = 0.0\n",
    "submission.to_csv('./dacon_submission.csv', index=False)\n",
    "submission"
   ]
  },
  {
   "cell_type": "code",
   "execution_count": null,
   "metadata": {},
   "outputs": [],
   "source": []
  }
 ],
 "metadata": {
  "kernelspec": {
   "display_name": "ag",
   "language": "python",
   "name": "python3"
  },
  "language_info": {
   "codemirror_mode": {
    "name": "ipython",
    "version": 3
   },
   "file_extension": ".py",
   "mimetype": "text/x-python",
   "name": "python",
   "nbconvert_exporter": "python",
   "pygments_lexer": "ipython3",
   "version": "3.10.13"
  }
 },
 "nbformat": 4,
 "nbformat_minor": 5
}
