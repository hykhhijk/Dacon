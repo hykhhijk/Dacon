{
 "cells": [
  {
   "cell_type": "markdown",
   "id": "df3f4d4f",
   "metadata": {},
   "source": [
    "# Import data& libraries "
   ]
  },
  {
   "cell_type": "code",
   "execution_count": 171,
   "id": "4ad75923",
   "metadata": {
    "ExecuteTime": {
     "end_time": "2022-11-30T13:58:18.030770Z",
     "start_time": "2022-11-30T13:58:18.028130Z"
    }
   },
   "outputs": [],
   "source": [
    "import numpy as np\n",
    "import pandas as pd\n",
    "import matplotlib.pyplot as plt\n",
    "import os\n",
    "import sys"
   ]
  },
  {
   "cell_type": "code",
   "execution_count": 172,
   "id": "919a6881",
   "metadata": {
    "ExecuteTime": {
     "end_time": "2022-11-30T13:58:18.066651Z",
     "start_time": "2022-11-30T13:58:18.032140Z"
    }
   },
   "outputs": [],
   "source": [
    "path= \"/mnt/d/Data/\"\n",
    "\n",
    "X_train = pd.read_csv(os.path.join(path, \"train.csv\"))\n",
    "y = X_train[\"N_category\"]\n",
    "X_train = X_train[X_train.columns[:-1]]\n",
    "X_train = X_train[X_train.columns[3:]]    #ID, 이미지 경로 제거\n",
    "X_test = pd.read_csv(os.path.join(path, \"test.csv\"))\n",
    "submission = pd.read_csv(os.path.join(path, \"sample_submission.csv\"))"
   ]
  },
  {
   "cell_type": "code",
   "execution_count": 173,
   "id": "72738d0f",
   "metadata": {
    "ExecuteTime": {
     "end_time": "2022-11-30T13:58:18.078335Z",
     "start_time": "2022-11-30T13:58:18.067761Z"
    }
   },
   "outputs": [
    {
     "data": {
      "text/html": [
       "<div>\n",
       "<style scoped>\n",
       "    .dataframe tbody tr th:only-of-type {\n",
       "        vertical-align: middle;\n",
       "    }\n",
       "\n",
       "    .dataframe tbody tr th {\n",
       "        vertical-align: top;\n",
       "    }\n",
       "\n",
       "    .dataframe thead th {\n",
       "        text-align: right;\n",
       "    }\n",
       "</style>\n",
       "<table border=\"1\" class=\"dataframe\">\n",
       "  <thead>\n",
       "    <tr style=\"text-align: right;\">\n",
       "      <th></th>\n",
       "      <th>나이</th>\n",
       "      <th>수술연월일</th>\n",
       "      <th>진단명</th>\n",
       "      <th>암의 위치</th>\n",
       "      <th>암의 개수</th>\n",
       "      <th>암의 장경</th>\n",
       "      <th>NG</th>\n",
       "      <th>HG</th>\n",
       "      <th>HG_score_1</th>\n",
       "      <th>HG_score_2</th>\n",
       "      <th>...</th>\n",
       "      <th>ER</th>\n",
       "      <th>ER_Allred_score</th>\n",
       "      <th>PR</th>\n",
       "      <th>PR_Allred_score</th>\n",
       "      <th>KI-67_LI_percent</th>\n",
       "      <th>HER2</th>\n",
       "      <th>HER2_IHC</th>\n",
       "      <th>HER2_SISH</th>\n",
       "      <th>HER2_SISH_ratio</th>\n",
       "      <th>BRCA_mutation</th>\n",
       "    </tr>\n",
       "  </thead>\n",
       "  <tbody>\n",
       "    <tr>\n",
       "      <th>0</th>\n",
       "      <td>63</td>\n",
       "      <td>2015-10-23</td>\n",
       "      <td>1</td>\n",
       "      <td>2</td>\n",
       "      <td>1</td>\n",
       "      <td>19.0</td>\n",
       "      <td>2.0</td>\n",
       "      <td>1.0</td>\n",
       "      <td>2.0</td>\n",
       "      <td>2.0</td>\n",
       "      <td>...</td>\n",
       "      <td>1.0</td>\n",
       "      <td>8.0</td>\n",
       "      <td>1.0</td>\n",
       "      <td>6.0</td>\n",
       "      <td>12.0</td>\n",
       "      <td>0.0</td>\n",
       "      <td>1.0</td>\n",
       "      <td>NaN</td>\n",
       "      <td>NaN</td>\n",
       "      <td>NaN</td>\n",
       "    </tr>\n",
       "    <tr>\n",
       "      <th>1</th>\n",
       "      <td>51</td>\n",
       "      <td>2015-10-28</td>\n",
       "      <td>1</td>\n",
       "      <td>1</td>\n",
       "      <td>1</td>\n",
       "      <td>22.0</td>\n",
       "      <td>3.0</td>\n",
       "      <td>3.0</td>\n",
       "      <td>3.0</td>\n",
       "      <td>3.0</td>\n",
       "      <td>...</td>\n",
       "      <td>0.0</td>\n",
       "      <td>NaN</td>\n",
       "      <td>0.0</td>\n",
       "      <td>NaN</td>\n",
       "      <td>70.0</td>\n",
       "      <td>0.0</td>\n",
       "      <td>0.0</td>\n",
       "      <td>NaN</td>\n",
       "      <td>NaN</td>\n",
       "      <td>NaN</td>\n",
       "    </tr>\n",
       "    <tr>\n",
       "      <th>2</th>\n",
       "      <td>37</td>\n",
       "      <td>2015-10-29</td>\n",
       "      <td>1</td>\n",
       "      <td>2</td>\n",
       "      <td>1</td>\n",
       "      <td>NaN</td>\n",
       "      <td>2.0</td>\n",
       "      <td>NaN</td>\n",
       "      <td>NaN</td>\n",
       "      <td>NaN</td>\n",
       "      <td>...</td>\n",
       "      <td>1.0</td>\n",
       "      <td>7.0</td>\n",
       "      <td>1.0</td>\n",
       "      <td>4.0</td>\n",
       "      <td>7.0</td>\n",
       "      <td>0.0</td>\n",
       "      <td>1.0</td>\n",
       "      <td>NaN</td>\n",
       "      <td>NaN</td>\n",
       "      <td>0.0</td>\n",
       "    </tr>\n",
       "    <tr>\n",
       "      <th>3</th>\n",
       "      <td>54</td>\n",
       "      <td>2016-03-08</td>\n",
       "      <td>1</td>\n",
       "      <td>2</td>\n",
       "      <td>1</td>\n",
       "      <td>0.0</td>\n",
       "      <td>3.0</td>\n",
       "      <td>3.0</td>\n",
       "      <td>3.0</td>\n",
       "      <td>3.0</td>\n",
       "      <td>...</td>\n",
       "      <td>0.0</td>\n",
       "      <td>NaN</td>\n",
       "      <td>0.0</td>\n",
       "      <td>NaN</td>\n",
       "      <td>1.0</td>\n",
       "      <td>1.0</td>\n",
       "      <td>3.0</td>\n",
       "      <td>NaN</td>\n",
       "      <td>NaN</td>\n",
       "      <td>NaN</td>\n",
       "    </tr>\n",
       "    <tr>\n",
       "      <th>4</th>\n",
       "      <td>57</td>\n",
       "      <td>2015-10-30</td>\n",
       "      <td>1</td>\n",
       "      <td>2</td>\n",
       "      <td>1</td>\n",
       "      <td>8.0</td>\n",
       "      <td>2.0</td>\n",
       "      <td>2.0</td>\n",
       "      <td>3.0</td>\n",
       "      <td>2.0</td>\n",
       "      <td>...</td>\n",
       "      <td>1.0</td>\n",
       "      <td>8.0</td>\n",
       "      <td>0.0</td>\n",
       "      <td>NaN</td>\n",
       "      <td>8.0</td>\n",
       "      <td>1.0</td>\n",
       "      <td>2.0</td>\n",
       "      <td>1.0</td>\n",
       "      <td>5.44</td>\n",
       "      <td>NaN</td>\n",
       "    </tr>\n",
       "  </tbody>\n",
       "</table>\n",
       "<p>5 rows × 24 columns</p>\n",
       "</div>"
      ],
      "text/plain": [
       "   나이       수술연월일  진단명  암의 위치  암의 개수  암의 장경   NG   HG  HG_score_1  HG_score_2  \\\n",
       "0  63  2015-10-23    1      2      1   19.0  2.0  1.0         2.0         2.0   \n",
       "1  51  2015-10-28    1      1      1   22.0  3.0  3.0         3.0         3.0   \n",
       "2  37  2015-10-29    1      2      1    NaN  2.0  NaN         NaN         NaN   \n",
       "3  54  2016-03-08    1      2      1    0.0  3.0  3.0         3.0         3.0   \n",
       "4  57  2015-10-30    1      2      1    8.0  2.0  2.0         3.0         2.0   \n",
       "\n",
       "   ...   ER  ER_Allred_score   PR  PR_Allred_score  KI-67_LI_percent  HER2  \\\n",
       "0  ...  1.0              8.0  1.0              6.0              12.0   0.0   \n",
       "1  ...  0.0              NaN  0.0              NaN              70.0   0.0   \n",
       "2  ...  1.0              7.0  1.0              4.0               7.0   0.0   \n",
       "3  ...  0.0              NaN  0.0              NaN               1.0   1.0   \n",
       "4  ...  1.0              8.0  0.0              NaN               8.0   1.0   \n",
       "\n",
       "   HER2_IHC  HER2_SISH  HER2_SISH_ratio  BRCA_mutation  \n",
       "0       1.0        NaN              NaN            NaN  \n",
       "1       0.0        NaN              NaN            NaN  \n",
       "2       1.0        NaN              NaN            0.0  \n",
       "3       3.0        NaN              NaN            NaN  \n",
       "4       2.0        1.0             5.44            NaN  \n",
       "\n",
       "[5 rows x 24 columns]"
      ]
     },
     "execution_count": 173,
     "metadata": {},
     "output_type": "execute_result"
    }
   ],
   "source": [
    "X_train.head(5)"
   ]
  },
  {
   "cell_type": "code",
   "execution_count": 174,
   "id": "96e3501a",
   "metadata": {
    "ExecuteTime": {
     "end_time": "2022-11-30T13:58:18.085996Z",
     "start_time": "2022-11-30T13:58:18.080100Z"
    }
   },
   "outputs": [
    {
     "name": "stdout",
     "output_type": "stream",
     "text": [
      "<class 'pandas.core.frame.DataFrame'>\n",
      "RangeIndex: 1000 entries, 0 to 999\n",
      "Data columns (total 24 columns):\n",
      " #   Column             Non-Null Count  Dtype  \n",
      "---  ------             --------------  -----  \n",
      " 0   나이                 1000 non-null   int64  \n",
      " 1   수술연월일              1000 non-null   object \n",
      " 2   진단명                1000 non-null   int64  \n",
      " 3   암의 위치              1000 non-null   int64  \n",
      " 4   암의 개수              1000 non-null   int64  \n",
      " 5   암의 장경              931 non-null    float64\n",
      " 6   NG                 949 non-null    float64\n",
      " 7   HG                 914 non-null    float64\n",
      " 8   HG_score_1         908 non-null    float64\n",
      " 9   HG_score_2         908 non-null    float64\n",
      " 10  HG_score_3         911 non-null    float64\n",
      " 11  DCIS_or_LCIS_여부    1000 non-null   int64  \n",
      " 12  DCIS_or_LCIS_type  126 non-null    float64\n",
      " 13  T_category         996 non-null    float64\n",
      " 14  ER                 999 non-null    float64\n",
      " 15  ER_Allred_score    703 non-null    float64\n",
      " 16  PR                 999 non-null    float64\n",
      " 17  PR_Allred_score    547 non-null    float64\n",
      " 18  KI-67_LI_percent   765 non-null    float64\n",
      " 19  HER2               986 non-null    float64\n",
      " 20  HER2_IHC           976 non-null    float64\n",
      " 21  HER2_SISH          247 non-null    float64\n",
      " 22  HER2_SISH_ratio    175 non-null    float64\n",
      " 23  BRCA_mutation      55 non-null     float64\n",
      "dtypes: float64(18), int64(5), object(1)\n",
      "memory usage: 187.6+ KB\n",
      "None\n",
      "\n",
      "Size of X_train: 1000\n"
     ]
    }
   ],
   "source": [
    "print(X_train.info())\n",
    "print(f\"\\nSize of X_train: {len(X_train)}\")"
   ]
  },
  {
   "cell_type": "markdown",
   "id": "7e999a13",
   "metadata": {},
   "source": [
    "# Fill missing values"
   ]
  },
  {
   "cell_type": "code",
   "execution_count": 175,
   "id": "43c978ff",
   "metadata": {
    "ExecuteTime": {
     "end_time": "2022-11-30T13:58:18.094249Z",
     "start_time": "2022-11-30T13:58:18.087648Z"
    }
   },
   "outputs": [
    {
     "name": "stderr",
     "output_type": "stream",
     "text": [
      "/tmp/ipykernel_2542/3112579809.py:1: FutureWarning: The default value of numeric_only in DataFrame.mean is deprecated. In a future version, it will default to False. In addition, specifying 'numeric_only=None' is deprecated. Select only valid columns or specify the value of numeric_only to silence this warning.\n",
      "  X_train = X_train.fillna(X_train.mean())\n"
     ]
    }
   ],
   "source": [
    "X_train = X_train.fillna(X_train.mean())"
   ]
  },
  {
   "cell_type": "markdown",
   "id": "eacc6a97",
   "metadata": {},
   "source": [
    "# Process categorical values"
   ]
  },
  {
   "cell_type": "code",
   "execution_count": 176,
   "id": "3b5aca46",
   "metadata": {
    "ExecuteTime": {
     "end_time": "2022-11-30T13:58:18.098307Z",
     "start_time": "2022-11-30T13:58:18.095236Z"
    }
   },
   "outputs": [
    {
     "data": {
      "text/plain": [
       "0    2015-10-23\n",
       "1    2015-10-28\n",
       "2    2015-10-29\n",
       "3    2016-03-08\n",
       "4    2015-10-30\n",
       "Name: 수술연월일, dtype: object"
      ]
     },
     "execution_count": 176,
     "metadata": {},
     "output_type": "execute_result"
    }
   ],
   "source": [
    "X_train[\"수술연월일\"].head(5)"
   ]
  },
  {
   "cell_type": "code",
   "execution_count": 177,
   "id": "d3511559",
   "metadata": {
    "ExecuteTime": {
     "end_time": "2022-11-30T13:58:18.102988Z",
     "start_time": "2022-11-30T13:58:18.099439Z"
    }
   },
   "outputs": [
    {
     "data": {
      "text/plain": [
       "0      2015-10-23\n",
       "1      2015-10-28\n",
       "2      2015-10-29\n",
       "3      2016-03-08\n",
       "4      2015-10-30\n",
       "          ...    \n",
       "995    2006-12-22\n",
       "996    2006-11-17\n",
       "997    2006-11-10\n",
       "998    2006-09-22\n",
       "999    2010-09-01\n",
       "Name: 수술연월일, Length: 1000, dtype: object"
      ]
     },
     "execution_count": 177,
     "metadata": {},
     "output_type": "execute_result"
    }
   ],
   "source": [
    "X_train[\"수술연월일\"]"
   ]
  },
  {
   "cell_type": "code",
   "execution_count": 178,
   "id": "1f409a5e",
   "metadata": {
    "ExecuteTime": {
     "end_time": "2022-11-30T13:58:18.106739Z",
     "start_time": "2022-11-30T13:58:18.104341Z"
    }
   },
   "outputs": [],
   "source": [
    "X_train[\"수술연월일\"] = pd.to_datetime(X_train[\"수술연월일\"])"
   ]
  },
  {
   "cell_type": "code",
   "execution_count": 179,
   "id": "13fb8f3d",
   "metadata": {
    "ExecuteTime": {
     "end_time": "2022-11-30T13:58:18.112603Z",
     "start_time": "2022-11-30T13:58:18.109257Z"
    }
   },
   "outputs": [],
   "source": [
    "X_train[\"year\"] = X_train[\"수술연월일\"].dt.year\n",
    "X_train[\"month\"] = X_train[\"수술연월일\"].dt.month\n",
    "X_train[\"day\"] = X_train[\"수술연월일\"].dt.day\n",
    "X_train[\"day_name\"] = X_train[\"수술연월일\"].dt.day_name"
   ]
  },
  {
   "cell_type": "code",
   "execution_count": 180,
   "id": "736adfdc",
   "metadata": {
    "ExecuteTime": {
     "end_time": "2022-11-30T13:58:18.122028Z",
     "start_time": "2022-11-30T13:58:18.113648Z"
    }
   },
   "outputs": [
    {
     "name": "stdout",
     "output_type": "stream",
     "text": [
      "<class 'pandas.core.frame.DataFrame'>\n",
      "RangeIndex: 1000 entries, 0 to 999\n",
      "Data columns (total 28 columns):\n",
      " #   Column             Non-Null Count  Dtype         \n",
      "---  ------             --------------  -----         \n",
      " 0   나이                 1000 non-null   int64         \n",
      " 1   수술연월일              1000 non-null   datetime64[ns]\n",
      " 2   진단명                1000 non-null   int64         \n",
      " 3   암의 위치              1000 non-null   int64         \n",
      " 4   암의 개수              1000 non-null   int64         \n",
      " 5   암의 장경              1000 non-null   float64       \n",
      " 6   NG                 1000 non-null   float64       \n",
      " 7   HG                 1000 non-null   float64       \n",
      " 8   HG_score_1         1000 non-null   float64       \n",
      " 9   HG_score_2         1000 non-null   float64       \n",
      " 10  HG_score_3         1000 non-null   float64       \n",
      " 11  DCIS_or_LCIS_여부    1000 non-null   int64         \n",
      " 12  DCIS_or_LCIS_type  1000 non-null   float64       \n",
      " 13  T_category         1000 non-null   float64       \n",
      " 14  ER                 1000 non-null   float64       \n",
      " 15  ER_Allred_score    1000 non-null   float64       \n",
      " 16  PR                 1000 non-null   float64       \n",
      " 17  PR_Allred_score    1000 non-null   float64       \n",
      " 18  KI-67_LI_percent   1000 non-null   float64       \n",
      " 19  HER2               1000 non-null   float64       \n",
      " 20  HER2_IHC           1000 non-null   float64       \n",
      " 21  HER2_SISH          1000 non-null   float64       \n",
      " 22  HER2_SISH_ratio    1000 non-null   float64       \n",
      " 23  BRCA_mutation      1000 non-null   float64       \n",
      " 24  year               1000 non-null   int64         \n",
      " 25  month              1000 non-null   int64         \n",
      " 26  day                1000 non-null   int64         \n",
      " 27  day_name           1000 non-null   object        \n",
      "dtypes: datetime64[ns](1), float64(18), int64(8), object(1)\n",
      "memory usage: 218.9+ KB\n"
     ]
    }
   ],
   "source": [
    "X_train.info()"
   ]
  },
  {
   "cell_type": "code",
   "execution_count": 181,
   "id": "b1087cb0",
   "metadata": {
    "ExecuteTime": {
     "end_time": "2022-11-30T13:58:18.134678Z",
     "start_time": "2022-11-30T13:58:18.124060Z"
    }
   },
   "outputs": [],
   "source": [
    "date_list=[]\n",
    "for i in range(len(X_train)):\n",
    "    date_list.append(str(X_train[\"year\"][i]).zfill(2)+str(X_train[\"month\"][i]).zfill(2) +str(X_train[\"day\"][i]).zfill(2))"
   ]
  },
  {
   "cell_type": "code",
   "execution_count": 182,
   "id": "f2eb40e7",
   "metadata": {
    "ExecuteTime": {
     "end_time": "2022-11-30T13:58:18.140211Z",
     "start_time": "2022-11-30T13:58:18.136545Z"
    }
   },
   "outputs": [],
   "source": [
    "X_train[\"수술연월일\"] = date_list\n",
    "X_train = X_train[X_train.columns[:-1]]"
   ]
  },
  {
   "cell_type": "markdown",
   "id": "6cbe764d",
   "metadata": {},
   "source": [
    "추후 위 코드 제거하고 요일 변수 전처리할것"
   ]
  },
  {
   "cell_type": "code",
   "execution_count": 183,
   "id": "d135d1f1",
   "metadata": {
    "ExecuteTime": {
     "end_time": "2022-11-30T13:58:18.144244Z",
     "start_time": "2022-11-30T13:58:18.141655Z"
    }
   },
   "outputs": [],
   "source": [
    "from sklearn.model_selection import train_test_split"
   ]
  },
  {
   "cell_type": "code",
   "execution_count": 184,
   "id": "52a83cd3",
   "metadata": {
    "ExecuteTime": {
     "end_time": "2022-11-30T13:58:18.147848Z",
     "start_time": "2022-11-30T13:58:18.145628Z"
    }
   },
   "outputs": [],
   "source": [
    "original_X = X_train.copy()"
   ]
  },
  {
   "cell_type": "code",
   "execution_count": 128,
   "id": "3d3f6d4e",
   "metadata": {
    "ExecuteTime": {
     "end_time": "2022-11-30T13:33:59.769094Z",
     "start_time": "2022-11-30T13:33:59.765678Z"
    }
   },
   "outputs": [],
   "source": [
    "X_train, X_valid, y_train, y_valid = train_test_split(X_train, y, stratify=y, test_size=0.2)"
   ]
  },
  {
   "cell_type": "markdown",
   "id": "d2a903dd",
   "metadata": {},
   "source": [
    "# Train vanilla RF "
   ]
  },
  {
   "cell_type": "code",
   "execution_count": 129,
   "id": "32b28778",
   "metadata": {
    "ExecuteTime": {
     "end_time": "2022-11-30T13:33:59.772946Z",
     "start_time": "2022-11-30T13:33:59.770912Z"
    }
   },
   "outputs": [],
   "source": [
    "from sklearn.ensemble import RandomForestClassifier"
   ]
  },
  {
   "cell_type": "code",
   "execution_count": 130,
   "id": "7757b3e8",
   "metadata": {
    "ExecuteTime": {
     "end_time": "2022-11-30T13:33:59.863712Z",
     "start_time": "2022-11-30T13:33:59.774359Z"
    }
   },
   "outputs": [
    {
     "data": {
      "text/html": [
       "<style>#sk-container-id-2 {color: black;background-color: white;}#sk-container-id-2 pre{padding: 0;}#sk-container-id-2 div.sk-toggleable {background-color: white;}#sk-container-id-2 label.sk-toggleable__label {cursor: pointer;display: block;width: 100%;margin-bottom: 0;padding: 0.3em;box-sizing: border-box;text-align: center;}#sk-container-id-2 label.sk-toggleable__label-arrow:before {content: \"▸\";float: left;margin-right: 0.25em;color: #696969;}#sk-container-id-2 label.sk-toggleable__label-arrow:hover:before {color: black;}#sk-container-id-2 div.sk-estimator:hover label.sk-toggleable__label-arrow:before {color: black;}#sk-container-id-2 div.sk-toggleable__content {max-height: 0;max-width: 0;overflow: hidden;text-align: left;background-color: #f0f8ff;}#sk-container-id-2 div.sk-toggleable__content pre {margin: 0.2em;color: black;border-radius: 0.25em;background-color: #f0f8ff;}#sk-container-id-2 input.sk-toggleable__control:checked~div.sk-toggleable__content {max-height: 200px;max-width: 100%;overflow: auto;}#sk-container-id-2 input.sk-toggleable__control:checked~label.sk-toggleable__label-arrow:before {content: \"▾\";}#sk-container-id-2 div.sk-estimator input.sk-toggleable__control:checked~label.sk-toggleable__label {background-color: #d4ebff;}#sk-container-id-2 div.sk-label input.sk-toggleable__control:checked~label.sk-toggleable__label {background-color: #d4ebff;}#sk-container-id-2 input.sk-hidden--visually {border: 0;clip: rect(1px 1px 1px 1px);clip: rect(1px, 1px, 1px, 1px);height: 1px;margin: -1px;overflow: hidden;padding: 0;position: absolute;width: 1px;}#sk-container-id-2 div.sk-estimator {font-family: monospace;background-color: #f0f8ff;border: 1px dotted black;border-radius: 0.25em;box-sizing: border-box;margin-bottom: 0.5em;}#sk-container-id-2 div.sk-estimator:hover {background-color: #d4ebff;}#sk-container-id-2 div.sk-parallel-item::after {content: \"\";width: 100%;border-bottom: 1px solid gray;flex-grow: 1;}#sk-container-id-2 div.sk-label:hover label.sk-toggleable__label {background-color: #d4ebff;}#sk-container-id-2 div.sk-serial::before {content: \"\";position: absolute;border-left: 1px solid gray;box-sizing: border-box;top: 0;bottom: 0;left: 50%;z-index: 0;}#sk-container-id-2 div.sk-serial {display: flex;flex-direction: column;align-items: center;background-color: white;padding-right: 0.2em;padding-left: 0.2em;position: relative;}#sk-container-id-2 div.sk-item {position: relative;z-index: 1;}#sk-container-id-2 div.sk-parallel {display: flex;align-items: stretch;justify-content: center;background-color: white;position: relative;}#sk-container-id-2 div.sk-item::before, #sk-container-id-2 div.sk-parallel-item::before {content: \"\";position: absolute;border-left: 1px solid gray;box-sizing: border-box;top: 0;bottom: 0;left: 50%;z-index: -1;}#sk-container-id-2 div.sk-parallel-item {display: flex;flex-direction: column;z-index: 1;position: relative;background-color: white;}#sk-container-id-2 div.sk-parallel-item:first-child::after {align-self: flex-end;width: 50%;}#sk-container-id-2 div.sk-parallel-item:last-child::after {align-self: flex-start;width: 50%;}#sk-container-id-2 div.sk-parallel-item:only-child::after {width: 0;}#sk-container-id-2 div.sk-dashed-wrapped {border: 1px dashed gray;margin: 0 0.4em 0.5em 0.4em;box-sizing: border-box;padding-bottom: 0.4em;background-color: white;}#sk-container-id-2 div.sk-label label {font-family: monospace;font-weight: bold;display: inline-block;line-height: 1.2em;}#sk-container-id-2 div.sk-label-container {text-align: center;}#sk-container-id-2 div.sk-container {/* jupyter's `normalize.less` sets `[hidden] { display: none; }` but bootstrap.min.css set `[hidden] { display: none !important; }` so we also need the `!important` here to be able to override the default hidden behavior on the sphinx rendered scikit-learn.org. See: https://github.com/scikit-learn/scikit-learn/issues/21755 */display: inline-block !important;position: relative;}#sk-container-id-2 div.sk-text-repr-fallback {display: none;}</style><div id=\"sk-container-id-2\" class=\"sk-top-container\"><div class=\"sk-text-repr-fallback\"><pre>RandomForestClassifier()</pre><b>In a Jupyter environment, please rerun this cell to show the HTML representation or trust the notebook. <br />On GitHub, the HTML representation is unable to render, please try loading this page with nbviewer.org.</b></div><div class=\"sk-container\" hidden><div class=\"sk-item\"><div class=\"sk-estimator sk-toggleable\"><input class=\"sk-toggleable__control sk-hidden--visually\" id=\"sk-estimator-id-2\" type=\"checkbox\" checked><label for=\"sk-estimator-id-2\" class=\"sk-toggleable__label sk-toggleable__label-arrow\">RandomForestClassifier</label><div class=\"sk-toggleable__content\"><pre>RandomForestClassifier()</pre></div></div></div></div></div>"
      ],
      "text/plain": [
       "RandomForestClassifier()"
      ]
     },
     "execution_count": 130,
     "metadata": {},
     "output_type": "execute_result"
    }
   ],
   "source": [
    "model = RandomForestClassifier()\n",
    "model.fit(X_train, y_train)"
   ]
  },
  {
   "cell_type": "code",
   "execution_count": 131,
   "id": "18797cb7",
   "metadata": {
    "ExecuteTime": {
     "end_time": "2022-11-30T13:33:59.874979Z",
     "start_time": "2022-11-30T13:33:59.865161Z"
    }
   },
   "outputs": [
    {
     "data": {
      "text/plain": [
       "0.805"
      ]
     },
     "execution_count": 131,
     "metadata": {},
     "output_type": "execute_result"
    }
   ],
   "source": [
    "model.score(X_valid, y_valid)"
   ]
  },
  {
   "cell_type": "code",
   "execution_count": 132,
   "id": "c7a5db41",
   "metadata": {
    "ExecuteTime": {
     "end_time": "2022-11-30T13:33:59.888497Z",
     "start_time": "2022-11-30T13:33:59.876195Z"
    }
   },
   "outputs": [
    {
     "data": {
      "text/html": [
       "<div>\n",
       "<style scoped>\n",
       "    .dataframe tbody tr th:only-of-type {\n",
       "        vertical-align: middle;\n",
       "    }\n",
       "\n",
       "    .dataframe tbody tr th {\n",
       "        vertical-align: top;\n",
       "    }\n",
       "\n",
       "    .dataframe thead th {\n",
       "        text-align: right;\n",
       "    }\n",
       "</style>\n",
       "<table border=\"1\" class=\"dataframe\">\n",
       "  <thead>\n",
       "    <tr style=\"text-align: right;\">\n",
       "      <th></th>\n",
       "      <th>ID</th>\n",
       "      <th>img_path</th>\n",
       "      <th>나이</th>\n",
       "      <th>수술연월일</th>\n",
       "      <th>진단명</th>\n",
       "      <th>암의 위치</th>\n",
       "      <th>암의 개수</th>\n",
       "      <th>암의 장경</th>\n",
       "      <th>NG</th>\n",
       "      <th>HG</th>\n",
       "      <th>...</th>\n",
       "      <th>ER</th>\n",
       "      <th>ER_Allred_score</th>\n",
       "      <th>PR</th>\n",
       "      <th>PR_Allred_score</th>\n",
       "      <th>KI-67_LI_percent</th>\n",
       "      <th>HER2</th>\n",
       "      <th>HER2_IHC</th>\n",
       "      <th>HER2_SISH</th>\n",
       "      <th>HER2_SISH_ratio</th>\n",
       "      <th>BRCA_mutation</th>\n",
       "    </tr>\n",
       "  </thead>\n",
       "  <tbody>\n",
       "    <tr>\n",
       "      <th>0</th>\n",
       "      <td>BC_01_0011</td>\n",
       "      <td>./test_imgs/BC_01_0011.png</td>\n",
       "      <td>55</td>\n",
       "      <td>2015-11-17</td>\n",
       "      <td>2</td>\n",
       "      <td>2</td>\n",
       "      <td>1</td>\n",
       "      <td>23.0</td>\n",
       "      <td>2.0</td>\n",
       "      <td>2.0</td>\n",
       "      <td>...</td>\n",
       "      <td>1.0</td>\n",
       "      <td>8.0</td>\n",
       "      <td>0.0</td>\n",
       "      <td>2.0</td>\n",
       "      <td>5.00</td>\n",
       "      <td>0.0</td>\n",
       "      <td>1.0</td>\n",
       "      <td>NaN</td>\n",
       "      <td>NaN</td>\n",
       "      <td>NaN</td>\n",
       "    </tr>\n",
       "    <tr>\n",
       "      <th>1</th>\n",
       "      <td>BC_01_0220</td>\n",
       "      <td>./test_imgs/BC_01_0220.png</td>\n",
       "      <td>43</td>\n",
       "      <td>2020-06-09</td>\n",
       "      <td>4</td>\n",
       "      <td>2</td>\n",
       "      <td>1</td>\n",
       "      <td>13.0</td>\n",
       "      <td>3.0</td>\n",
       "      <td>2.0</td>\n",
       "      <td>...</td>\n",
       "      <td>1.0</td>\n",
       "      <td>4.0</td>\n",
       "      <td>1.0</td>\n",
       "      <td>8.0</td>\n",
       "      <td>8.67</td>\n",
       "      <td>0.0</td>\n",
       "      <td>0.0</td>\n",
       "      <td>NaN</td>\n",
       "      <td>NaN</td>\n",
       "      <td>NaN</td>\n",
       "    </tr>\n",
       "    <tr>\n",
       "      <th>2</th>\n",
       "      <td>BC_01_0233</td>\n",
       "      <td>./test_imgs/BC_01_0233.png</td>\n",
       "      <td>76</td>\n",
       "      <td>2020-05-14</td>\n",
       "      <td>1</td>\n",
       "      <td>1</td>\n",
       "      <td>1</td>\n",
       "      <td>NaN</td>\n",
       "      <td>NaN</td>\n",
       "      <td>NaN</td>\n",
       "      <td>...</td>\n",
       "      <td>1.0</td>\n",
       "      <td>6.0</td>\n",
       "      <td>1.0</td>\n",
       "      <td>6.0</td>\n",
       "      <td>NaN</td>\n",
       "      <td>NaN</td>\n",
       "      <td>2.0</td>\n",
       "      <td>NaN</td>\n",
       "      <td>NaN</td>\n",
       "      <td>NaN</td>\n",
       "    </tr>\n",
       "    <tr>\n",
       "      <th>3</th>\n",
       "      <td>BC_01_0258</td>\n",
       "      <td>./test_imgs/BC_01_0258.png</td>\n",
       "      <td>58</td>\n",
       "      <td>2020-05-20</td>\n",
       "      <td>1</td>\n",
       "      <td>2</td>\n",
       "      <td>1</td>\n",
       "      <td>1.3</td>\n",
       "      <td>2.0</td>\n",
       "      <td>2.0</td>\n",
       "      <td>...</td>\n",
       "      <td>1.0</td>\n",
       "      <td>7.0</td>\n",
       "      <td>0.0</td>\n",
       "      <td>NaN</td>\n",
       "      <td>21.17</td>\n",
       "      <td>1.0</td>\n",
       "      <td>3.0</td>\n",
       "      <td>NaN</td>\n",
       "      <td>NaN</td>\n",
       "      <td>0.0</td>\n",
       "    </tr>\n",
       "    <tr>\n",
       "      <th>4</th>\n",
       "      <td>BC_01_0260</td>\n",
       "      <td>./test_imgs/BC_01_0260.png</td>\n",
       "      <td>56</td>\n",
       "      <td>2020-05-20</td>\n",
       "      <td>1</td>\n",
       "      <td>2</td>\n",
       "      <td>2</td>\n",
       "      <td>15.0</td>\n",
       "      <td>3.0</td>\n",
       "      <td>3.0</td>\n",
       "      <td>...</td>\n",
       "      <td>1.0</td>\n",
       "      <td>8.0</td>\n",
       "      <td>1.0</td>\n",
       "      <td>3.0</td>\n",
       "      <td>20.57</td>\n",
       "      <td>1.0</td>\n",
       "      <td>3.0</td>\n",
       "      <td>NaN</td>\n",
       "      <td>NaN</td>\n",
       "      <td>NaN</td>\n",
       "    </tr>\n",
       "    <tr>\n",
       "      <th>...</th>\n",
       "      <td>...</td>\n",
       "      <td>...</td>\n",
       "      <td>...</td>\n",
       "      <td>...</td>\n",
       "      <td>...</td>\n",
       "      <td>...</td>\n",
       "      <td>...</td>\n",
       "      <td>...</td>\n",
       "      <td>...</td>\n",
       "      <td>...</td>\n",
       "      <td>...</td>\n",
       "      <td>...</td>\n",
       "      <td>...</td>\n",
       "      <td>...</td>\n",
       "      <td>...</td>\n",
       "      <td>...</td>\n",
       "      <td>...</td>\n",
       "      <td>...</td>\n",
       "      <td>...</td>\n",
       "      <td>...</td>\n",
       "      <td>...</td>\n",
       "    </tr>\n",
       "    <tr>\n",
       "      <th>245</th>\n",
       "      <td>BC_01_3328</td>\n",
       "      <td>./test_imgs/BC_01_3328.png</td>\n",
       "      <td>61</td>\n",
       "      <td>2009-10-30</td>\n",
       "      <td>1</td>\n",
       "      <td>1</td>\n",
       "      <td>1</td>\n",
       "      <td>18.0</td>\n",
       "      <td>2.0</td>\n",
       "      <td>2.0</td>\n",
       "      <td>...</td>\n",
       "      <td>1.0</td>\n",
       "      <td>5.0</td>\n",
       "      <td>1.0</td>\n",
       "      <td>3.0</td>\n",
       "      <td>NaN</td>\n",
       "      <td>0.0</td>\n",
       "      <td>0.0</td>\n",
       "      <td>NaN</td>\n",
       "      <td>NaN</td>\n",
       "      <td>NaN</td>\n",
       "    </tr>\n",
       "    <tr>\n",
       "      <th>246</th>\n",
       "      <td>BC_01_3404</td>\n",
       "      <td>./test_imgs/BC_01_3404.png</td>\n",
       "      <td>42</td>\n",
       "      <td>2009-05-19</td>\n",
       "      <td>1</td>\n",
       "      <td>2</td>\n",
       "      <td>1</td>\n",
       "      <td>20.0</td>\n",
       "      <td>1.0</td>\n",
       "      <td>2.0</td>\n",
       "      <td>...</td>\n",
       "      <td>1.0</td>\n",
       "      <td>5.0</td>\n",
       "      <td>1.0</td>\n",
       "      <td>5.0</td>\n",
       "      <td>NaN</td>\n",
       "      <td>0.0</td>\n",
       "      <td>1.0</td>\n",
       "      <td>NaN</td>\n",
       "      <td>NaN</td>\n",
       "      <td>NaN</td>\n",
       "    </tr>\n",
       "    <tr>\n",
       "      <th>247</th>\n",
       "      <td>BC_01_3418</td>\n",
       "      <td>./test_imgs/BC_01_3418.png</td>\n",
       "      <td>37</td>\n",
       "      <td>2009-04-24</td>\n",
       "      <td>1</td>\n",
       "      <td>1</td>\n",
       "      <td>1</td>\n",
       "      <td>17.0</td>\n",
       "      <td>1.0</td>\n",
       "      <td>1.0</td>\n",
       "      <td>...</td>\n",
       "      <td>1.0</td>\n",
       "      <td>5.0</td>\n",
       "      <td>1.0</td>\n",
       "      <td>5.0</td>\n",
       "      <td>NaN</td>\n",
       "      <td>0.0</td>\n",
       "      <td>0.0</td>\n",
       "      <td>NaN</td>\n",
       "      <td>NaN</td>\n",
       "      <td>NaN</td>\n",
       "    </tr>\n",
       "    <tr>\n",
       "      <th>248</th>\n",
       "      <td>BC_01_3438</td>\n",
       "      <td>./test_imgs/BC_01_3438.png</td>\n",
       "      <td>37</td>\n",
       "      <td>2009-02-06</td>\n",
       "      <td>1</td>\n",
       "      <td>1</td>\n",
       "      <td>1</td>\n",
       "      <td>7.0</td>\n",
       "      <td>1.0</td>\n",
       "      <td>1.0</td>\n",
       "      <td>...</td>\n",
       "      <td>1.0</td>\n",
       "      <td>5.0</td>\n",
       "      <td>1.0</td>\n",
       "      <td>5.0</td>\n",
       "      <td>NaN</td>\n",
       "      <td>0.0</td>\n",
       "      <td>0.0</td>\n",
       "      <td>NaN</td>\n",
       "      <td>NaN</td>\n",
       "      <td>NaN</td>\n",
       "    </tr>\n",
       "    <tr>\n",
       "      <th>249</th>\n",
       "      <td>BC_01_3446</td>\n",
       "      <td>./test_imgs/BC_01_3446.png</td>\n",
       "      <td>84</td>\n",
       "      <td>2009-02-06</td>\n",
       "      <td>1</td>\n",
       "      <td>1</td>\n",
       "      <td>1</td>\n",
       "      <td>3.0</td>\n",
       "      <td>1.0</td>\n",
       "      <td>1.0</td>\n",
       "      <td>...</td>\n",
       "      <td>0.0</td>\n",
       "      <td>NaN</td>\n",
       "      <td>0.0</td>\n",
       "      <td>NaN</td>\n",
       "      <td>NaN</td>\n",
       "      <td>0.0</td>\n",
       "      <td>0.0</td>\n",
       "      <td>NaN</td>\n",
       "      <td>NaN</td>\n",
       "      <td>NaN</td>\n",
       "    </tr>\n",
       "  </tbody>\n",
       "</table>\n",
       "<p>250 rows × 26 columns</p>\n",
       "</div>"
      ],
      "text/plain": [
       "             ID                    img_path  나이       수술연월일  진단명  암의 위치  \\\n",
       "0    BC_01_0011  ./test_imgs/BC_01_0011.png  55  2015-11-17    2      2   \n",
       "1    BC_01_0220  ./test_imgs/BC_01_0220.png  43  2020-06-09    4      2   \n",
       "2    BC_01_0233  ./test_imgs/BC_01_0233.png  76  2020-05-14    1      1   \n",
       "3    BC_01_0258  ./test_imgs/BC_01_0258.png  58  2020-05-20    1      2   \n",
       "4    BC_01_0260  ./test_imgs/BC_01_0260.png  56  2020-05-20    1      2   \n",
       "..          ...                         ...  ..         ...  ...    ...   \n",
       "245  BC_01_3328  ./test_imgs/BC_01_3328.png  61  2009-10-30    1      1   \n",
       "246  BC_01_3404  ./test_imgs/BC_01_3404.png  42  2009-05-19    1      2   \n",
       "247  BC_01_3418  ./test_imgs/BC_01_3418.png  37  2009-04-24    1      1   \n",
       "248  BC_01_3438  ./test_imgs/BC_01_3438.png  37  2009-02-06    1      1   \n",
       "249  BC_01_3446  ./test_imgs/BC_01_3446.png  84  2009-02-06    1      1   \n",
       "\n",
       "     암의 개수  암의 장경   NG   HG  ...   ER  ER_Allred_score   PR  PR_Allred_score  \\\n",
       "0        1   23.0  2.0  2.0  ...  1.0              8.0  0.0              2.0   \n",
       "1        1   13.0  3.0  2.0  ...  1.0              4.0  1.0              8.0   \n",
       "2        1    NaN  NaN  NaN  ...  1.0              6.0  1.0              6.0   \n",
       "3        1    1.3  2.0  2.0  ...  1.0              7.0  0.0              NaN   \n",
       "4        2   15.0  3.0  3.0  ...  1.0              8.0  1.0              3.0   \n",
       "..     ...    ...  ...  ...  ...  ...              ...  ...              ...   \n",
       "245      1   18.0  2.0  2.0  ...  1.0              5.0  1.0              3.0   \n",
       "246      1   20.0  1.0  2.0  ...  1.0              5.0  1.0              5.0   \n",
       "247      1   17.0  1.0  1.0  ...  1.0              5.0  1.0              5.0   \n",
       "248      1    7.0  1.0  1.0  ...  1.0              5.0  1.0              5.0   \n",
       "249      1    3.0  1.0  1.0  ...  0.0              NaN  0.0              NaN   \n",
       "\n",
       "     KI-67_LI_percent  HER2  HER2_IHC  HER2_SISH  HER2_SISH_ratio  \\\n",
       "0                5.00   0.0       1.0        NaN              NaN   \n",
       "1                8.67   0.0       0.0        NaN              NaN   \n",
       "2                 NaN   NaN       2.0        NaN              NaN   \n",
       "3               21.17   1.0       3.0        NaN              NaN   \n",
       "4               20.57   1.0       3.0        NaN              NaN   \n",
       "..                ...   ...       ...        ...              ...   \n",
       "245               NaN   0.0       0.0        NaN              NaN   \n",
       "246               NaN   0.0       1.0        NaN              NaN   \n",
       "247               NaN   0.0       0.0        NaN              NaN   \n",
       "248               NaN   0.0       0.0        NaN              NaN   \n",
       "249               NaN   0.0       0.0        NaN              NaN   \n",
       "\n",
       "     BRCA_mutation  \n",
       "0              NaN  \n",
       "1              NaN  \n",
       "2              NaN  \n",
       "3              0.0  \n",
       "4              NaN  \n",
       "..             ...  \n",
       "245            NaN  \n",
       "246            NaN  \n",
       "247            NaN  \n",
       "248            NaN  \n",
       "249            NaN  \n",
       "\n",
       "[250 rows x 26 columns]"
      ]
     },
     "execution_count": 132,
     "metadata": {},
     "output_type": "execute_result"
    }
   ],
   "source": [
    "X_test"
   ]
  },
  {
   "cell_type": "markdown",
   "id": "723e9bf5",
   "metadata": {},
   "source": [
    "# Data preprocessing "
   ]
  },
  {
   "cell_type": "code",
   "execution_count": 221,
   "id": "e9a78dc6",
   "metadata": {
    "ExecuteTime": {
     "end_time": "2022-11-30T16:15:16.702340Z",
     "start_time": "2022-11-30T16:15:16.698438Z"
    }
   },
   "outputs": [],
   "source": [
    "from sklearn.metrics import classification_report\n",
    "from sklearn.model_selection import StratifiedKFold\n",
    "from sklearn.metrics import precision_recall_fscore_support"
   ]
  },
  {
   "cell_type": "code",
   "execution_count": null,
   "id": "ebf12bcc",
   "metadata": {},
   "outputs": [],
   "source": [
    "for train_index, test_index in skf.split(X, y):\n",
    "...     print(\"TRAIN:\", train_index, \"TEST:\", test_index)\n",
    "...     X_train, X_test = X[train_index], X[test_index]\n",
    "...     y_train, y_test = y[train_index], y[test_index]\n",
    "TRAIN: [1 3] TEST: [0 2]"
   ]
  },
  {
   "cell_type": "code",
   "execution_count": 253,
   "id": "052e4618",
   "metadata": {
    "ExecuteTime": {
     "end_time": "2022-11-30T16:21:23.982289Z",
     "start_time": "2022-11-30T16:21:23.976932Z"
    }
   },
   "outputs": [],
   "source": [
    "def process_score(X):\n",
    "#     X_train, X_valid, y_train, y_valid = train_test_split(data, y, stratify=y, test_size=0.2)\n",
    "    skf = StratifiedKFold(n_splits=5)\n",
    "    skf.get_n_splits(X, y)    \n",
    "    for train_index, test_index in skf.split(X, y):\n",
    "        X_train, X_test = X.iloc[train_index], X.iloc[test_index]\n",
    "        y_train, y_test = y[train_index], y[test_index]\n",
    "        model = RandomForestClassifier()\n",
    "        model.fit(X_train, y_train)\n",
    "        pred = model.predict(X_test)\n",
    "        \n",
    "        print(precision_recall_fscore_support(pred, y_test, average=\"macro\"))"
   ]
  },
  {
   "cell_type": "code",
   "execution_count": 254,
   "id": "4e4339db",
   "metadata": {
    "ExecuteTime": {
     "end_time": "2022-11-30T16:21:25.444527Z",
     "start_time": "2022-11-30T16:21:24.992506Z"
    }
   },
   "outputs": [
    {
     "name": "stdout",
     "output_type": "stream",
     "text": [
      "(0.7297919167667067, 0.8194270616047837, 0.713319810682894, None)\n",
      "(0.7446702031828646, 0.7832232649750899, 0.7395833333333334, None)\n",
      "(0.670703633269943, 0.7827889238932184, 0.640893277971047, None)\n",
      "(0.28385546992293065, 0.2670693560565203, 0.2694805194805195, None)\n",
      "(0.5, 0.2425, 0.3265993265993266, None)\n"
     ]
    },
    {
     "name": "stderr",
     "output_type": "stream",
     "text": [
      "/home/hykhhijk/anaconda3/envs/dl/lib/python3.9/site-packages/sklearn/metrics/_classification.py:1334: UndefinedMetricWarning: Recall and F-score are ill-defined and being set to 0.0 in labels with no true samples. Use `zero_division` parameter to control this behavior.\n",
      "  _warn_prf(average, modifier, msg_start, len(result))\n"
     ]
    }
   ],
   "source": [
    "process_score(original_X)"
   ]
  },
  {
   "cell_type": "code",
   "execution_count": 151,
   "id": "f91313f9",
   "metadata": {
    "ExecuteTime": {
     "end_time": "2022-11-30T13:52:10.654164Z",
     "start_time": "2022-11-30T13:52:10.550080Z"
    }
   },
   "outputs": [
    {
     "data": {
      "text/html": [
       "<div>\n",
       "<style scoped>\n",
       "    .dataframe tbody tr th:only-of-type {\n",
       "        vertical-align: middle;\n",
       "    }\n",
       "\n",
       "    .dataframe tbody tr th {\n",
       "        vertical-align: top;\n",
       "    }\n",
       "\n",
       "    .dataframe thead th {\n",
       "        text-align: right;\n",
       "    }\n",
       "</style>\n",
       "<table border=\"1\" class=\"dataframe\">\n",
       "  <thead>\n",
       "    <tr style=\"text-align: right;\">\n",
       "      <th></th>\n",
       "      <th>0</th>\n",
       "      <th>1</th>\n",
       "    </tr>\n",
       "  </thead>\n",
       "  <tbody>\n",
       "    <tr>\n",
       "      <th>1</th>\n",
       "      <td>수술연월일</td>\n",
       "      <td>0.148001</td>\n",
       "    </tr>\n",
       "    <tr>\n",
       "      <th>24</th>\n",
       "      <td>year</td>\n",
       "      <td>0.107499</td>\n",
       "    </tr>\n",
       "    <tr>\n",
       "      <th>5</th>\n",
       "      <td>암의 장경</td>\n",
       "      <td>0.084935</td>\n",
       "    </tr>\n",
       "    <tr>\n",
       "      <th>6</th>\n",
       "      <td>NG</td>\n",
       "      <td>0.084690</td>\n",
       "    </tr>\n",
       "    <tr>\n",
       "      <th>11</th>\n",
       "      <td>DCIS_or_LCIS_여부</td>\n",
       "      <td>0.059004</td>\n",
       "    </tr>\n",
       "    <tr>\n",
       "      <th>0</th>\n",
       "      <td>나이</td>\n",
       "      <td>0.050954</td>\n",
       "    </tr>\n",
       "    <tr>\n",
       "      <th>26</th>\n",
       "      <td>day</td>\n",
       "      <td>0.048750</td>\n",
       "    </tr>\n",
       "    <tr>\n",
       "      <th>18</th>\n",
       "      <td>KI-67_LI_percent</td>\n",
       "      <td>0.044045</td>\n",
       "    </tr>\n",
       "    <tr>\n",
       "      <th>7</th>\n",
       "      <td>HG</td>\n",
       "      <td>0.038841</td>\n",
       "    </tr>\n",
       "    <tr>\n",
       "      <th>9</th>\n",
       "      <td>HG_score_2</td>\n",
       "      <td>0.033144</td>\n",
       "    </tr>\n",
       "    <tr>\n",
       "      <th>13</th>\n",
       "      <td>T_category</td>\n",
       "      <td>0.032869</td>\n",
       "    </tr>\n",
       "    <tr>\n",
       "      <th>8</th>\n",
       "      <td>HG_score_1</td>\n",
       "      <td>0.032121</td>\n",
       "    </tr>\n",
       "    <tr>\n",
       "      <th>25</th>\n",
       "      <td>month</td>\n",
       "      <td>0.032064</td>\n",
       "    </tr>\n",
       "    <tr>\n",
       "      <th>17</th>\n",
       "      <td>PR_Allred_score</td>\n",
       "      <td>0.028306</td>\n",
       "    </tr>\n",
       "    <tr>\n",
       "      <th>15</th>\n",
       "      <td>ER_Allred_score</td>\n",
       "      <td>0.025333</td>\n",
       "    </tr>\n",
       "    <tr>\n",
       "      <th>20</th>\n",
       "      <td>HER2_IHC</td>\n",
       "      <td>0.019882</td>\n",
       "    </tr>\n",
       "    <tr>\n",
       "      <th>22</th>\n",
       "      <td>HER2_SISH_ratio</td>\n",
       "      <td>0.019492</td>\n",
       "    </tr>\n",
       "    <tr>\n",
       "      <th>3</th>\n",
       "      <td>암의 위치</td>\n",
       "      <td>0.017662</td>\n",
       "    </tr>\n",
       "    <tr>\n",
       "      <th>10</th>\n",
       "      <td>HG_score_3</td>\n",
       "      <td>0.017127</td>\n",
       "    </tr>\n",
       "    <tr>\n",
       "      <th>4</th>\n",
       "      <td>암의 개수</td>\n",
       "      <td>0.016883</td>\n",
       "    </tr>\n",
       "    <tr>\n",
       "      <th>12</th>\n",
       "      <td>DCIS_or_LCIS_type</td>\n",
       "      <td>0.015033</td>\n",
       "    </tr>\n",
       "    <tr>\n",
       "      <th>2</th>\n",
       "      <td>진단명</td>\n",
       "      <td>0.010119</td>\n",
       "    </tr>\n",
       "    <tr>\n",
       "      <th>16</th>\n",
       "      <td>PR</td>\n",
       "      <td>0.009492</td>\n",
       "    </tr>\n",
       "    <tr>\n",
       "      <th>21</th>\n",
       "      <td>HER2_SISH</td>\n",
       "      <td>0.008151</td>\n",
       "    </tr>\n",
       "    <tr>\n",
       "      <th>19</th>\n",
       "      <td>HER2</td>\n",
       "      <td>0.007735</td>\n",
       "    </tr>\n",
       "    <tr>\n",
       "      <th>14</th>\n",
       "      <td>ER</td>\n",
       "      <td>0.005275</td>\n",
       "    </tr>\n",
       "    <tr>\n",
       "      <th>23</th>\n",
       "      <td>BRCA_mutation</td>\n",
       "      <td>0.002592</td>\n",
       "    </tr>\n",
       "  </tbody>\n",
       "</table>\n",
       "</div>"
      ],
      "text/plain": [
       "                    0         1\n",
       "1               수술연월일  0.148001\n",
       "24               year  0.107499\n",
       "5               암의 장경  0.084935\n",
       "6                  NG  0.084690\n",
       "11    DCIS_or_LCIS_여부  0.059004\n",
       "0                  나이  0.050954\n",
       "26                day  0.048750\n",
       "18   KI-67_LI_percent  0.044045\n",
       "7                  HG  0.038841\n",
       "9          HG_score_2  0.033144\n",
       "13         T_category  0.032869\n",
       "8          HG_score_1  0.032121\n",
       "25              month  0.032064\n",
       "17    PR_Allred_score  0.028306\n",
       "15    ER_Allred_score  0.025333\n",
       "20           HER2_IHC  0.019882\n",
       "22    HER2_SISH_ratio  0.019492\n",
       "3               암의 위치  0.017662\n",
       "10         HG_score_3  0.017127\n",
       "4               암의 개수  0.016883\n",
       "12  DCIS_or_LCIS_type  0.015033\n",
       "2                 진단명  0.010119\n",
       "16                 PR  0.009492\n",
       "21          HER2_SISH  0.008151\n",
       "19               HER2  0.007735\n",
       "14                 ER  0.005275\n",
       "23      BRCA_mutation  0.002592"
      ]
     },
     "execution_count": 151,
     "metadata": {},
     "output_type": "execute_result"
    }
   ],
   "source": [
    "feature_list=[]\n",
    "for i in range(len(model.feature_importances_)):\n",
    "    feature_list.append([X_train.columns[i], model.feature_importances_[i]])\n",
    "feature_df = pd.DataFrame(feature_list)\n",
    "feature_df.sort_values(1, ascending=False)\n",
    "# feature_list = np.array(feature_list)\n",
    "# plt.xticks(rotation=45)\n",
    "# plt.bar(feature_list[:,0], feature_list[:,1].astype(\"float\"))"
   ]
  },
  {
   "cell_type": "code",
   "execution_count": 146,
   "id": "1de22c7d",
   "metadata": {
    "ExecuteTime": {
     "end_time": "2022-11-30T13:43:33.531159Z",
     "start_time": "2022-11-30T13:43:33.516540Z"
    }
   },
   "outputs": [
    {
     "name": "stdout",
     "output_type": "stream",
     "text": [
      "<class 'pandas.core.frame.DataFrame'>\n",
      "RangeIndex: 1000 entries, 0 to 999\n",
      "Data columns (total 28 columns):\n",
      " #   Column             Non-Null Count  Dtype  \n",
      "---  ------             --------------  -----  \n",
      " 0   ID                 1000 non-null   object \n",
      " 1   img_path           1000 non-null   object \n",
      " 2   mask_path          1000 non-null   object \n",
      " 3   나이                 1000 non-null   int64  \n",
      " 4   수술연월일              1000 non-null   object \n",
      " 5   진단명                1000 non-null   int64  \n",
      " 6   암의 위치              1000 non-null   int64  \n",
      " 7   암의 개수              1000 non-null   int64  \n",
      " 8   암의 장경              931 non-null    float64\n",
      " 9   NG                 949 non-null    float64\n",
      " 10  HG                 914 non-null    float64\n",
      " 11  HG_score_1         908 non-null    float64\n",
      " 12  HG_score_2         908 non-null    float64\n",
      " 13  HG_score_3         911 non-null    float64\n",
      " 14  DCIS_or_LCIS_여부    1000 non-null   int64  \n",
      " 15  DCIS_or_LCIS_type  126 non-null    float64\n",
      " 16  T_category         996 non-null    float64\n",
      " 17  ER                 999 non-null    float64\n",
      " 18  ER_Allred_score    703 non-null    float64\n",
      " 19  PR                 999 non-null    float64\n",
      " 20  PR_Allred_score    547 non-null    float64\n",
      " 21  KI-67_LI_percent   765 non-null    float64\n",
      " 22  HER2               986 non-null    float64\n",
      " 23  HER2_IHC           976 non-null    float64\n",
      " 24  HER2_SISH          247 non-null    float64\n",
      " 25  HER2_SISH_ratio    175 non-null    float64\n",
      " 26  BRCA_mutation      55 non-null     float64\n",
      " 27  N_category         1000 non-null   int64  \n",
      "dtypes: float64(18), int64(6), object(4)\n",
      "memory usage: 218.9+ KB\n"
     ]
    }
   ],
   "source": [
    "X = pd.read_csv(os.path.join(path, \"train.csv\"))\n",
    "X.info()"
   ]
  },
  {
   "cell_type": "code",
   "execution_count": 140,
   "id": "db38074b",
   "metadata": {
    "ExecuteTime": {
     "end_time": "2022-11-30T13:41:56.163401Z",
     "start_time": "2022-11-30T13:41:56.156220Z"
    }
   },
   "outputs": [
    {
     "name": "stderr",
     "output_type": "stream",
     "text": [
      "/tmp/ipykernel_2542/3921787701.py:1: FutureWarning: The default value of numeric_only in DataFrame.corr is deprecated. In a future version, it will default to False. Select only valid columns or specify the value of numeric_only to silence this warning.\n",
      "  corr = X.corr()\n"
     ]
    }
   ],
   "source": [
    "corr = X.corr()"
   ]
  },
  {
   "cell_type": "code",
   "execution_count": 144,
   "id": "f5d81b6e",
   "metadata": {
    "ExecuteTime": {
     "end_time": "2022-11-30T13:43:07.785577Z",
     "start_time": "2022-11-30T13:43:07.777867Z"
    },
    "scrolled": true
   },
   "outputs": [
    {
     "data": {
      "text/plain": [
       "암의 장경                1.000000\n",
       "T_category           0.809469\n",
       "HG                   0.353011\n",
       "HER2_SISH_ratio      0.348833\n",
       "NG                   0.311455\n",
       "HG_score_2           0.309582\n",
       "HG_score_3           0.308494\n",
       "N_category           0.292102\n",
       "HG_score_1           0.249808\n",
       "KI-67_LI_percent     0.237337\n",
       "나이                   0.127918\n",
       "HER2_SISH            0.112631\n",
       "DCIS_or_LCIS_type    0.095926\n",
       "ER_Allred_score      0.080298\n",
       "PR_Allred_score      0.062952\n",
       "DCIS_or_LCIS_여부      0.021600\n",
       "암의 개수                0.011457\n",
       "진단명                  0.006628\n",
       "HER2                -0.002667\n",
       "암의 위치               -0.005704\n",
       "HER2_IHC            -0.015271\n",
       "BRCA_mutation       -0.078003\n",
       "PR                  -0.101581\n",
       "ER                  -0.140662\n",
       "Name: 암의 장경, dtype: float64"
      ]
     },
     "execution_count": 144,
     "metadata": {},
     "output_type": "execute_result"
    }
   ],
   "source": [
    "corr[\"암의 장경\"].sort_values(ascending=False)"
   ]
  },
  {
   "cell_type": "markdown",
   "id": "a9b90aa4",
   "metadata": {},
   "source": [
    "암의 장경은 T_category및 HG와 연관성이 크므로 이를 이용하여 결측치를 채움"
   ]
  },
  {
   "cell_type": "code",
   "execution_count": 159,
   "id": "c5e003bf",
   "metadata": {
    "ExecuteTime": {
     "end_time": "2022-11-30T13:56:10.087286Z",
     "start_time": "2022-11-30T13:56:10.059476Z"
    }
   },
   "outputs": [
    {
     "name": "stderr",
     "output_type": "stream",
     "text": [
      "/tmp/ipykernel_2542/142092162.py:1: FutureWarning: ['ID', 'img_path', 'mask_path', '수술연월일'] did not aggregate successfully. If any error is raised this will raise in a future version of pandas. Drop these columns/ops to avoid this warning.\n",
      "  X.groupby(\"T_category\").agg([\"mean\", \"median\"])[\"암의 장경\"]\n"
     ]
    },
    {
     "data": {
      "text/html": [
       "<div>\n",
       "<style scoped>\n",
       "    .dataframe tbody tr th:only-of-type {\n",
       "        vertical-align: middle;\n",
       "    }\n",
       "\n",
       "    .dataframe tbody tr th {\n",
       "        vertical-align: top;\n",
       "    }\n",
       "\n",
       "    .dataframe thead th {\n",
       "        text-align: right;\n",
       "    }\n",
       "</style>\n",
       "<table border=\"1\" class=\"dataframe\">\n",
       "  <thead>\n",
       "    <tr style=\"text-align: right;\">\n",
       "      <th></th>\n",
       "      <th>mean</th>\n",
       "      <th>median</th>\n",
       "    </tr>\n",
       "    <tr>\n",
       "      <th>T_category</th>\n",
       "      <th></th>\n",
       "      <th></th>\n",
       "    </tr>\n",
       "  </thead>\n",
       "  <tbody>\n",
       "    <tr>\n",
       "      <th>0.0</th>\n",
       "      <td>0.000000</td>\n",
       "      <td>0.0</td>\n",
       "    </tr>\n",
       "    <tr>\n",
       "      <th>1.0</th>\n",
       "      <td>12.192583</td>\n",
       "      <td>13.0</td>\n",
       "    </tr>\n",
       "    <tr>\n",
       "      <th>2.0</th>\n",
       "      <td>27.715082</td>\n",
       "      <td>25.0</td>\n",
       "    </tr>\n",
       "    <tr>\n",
       "      <th>3.0</th>\n",
       "      <td>66.812500</td>\n",
       "      <td>60.0</td>\n",
       "    </tr>\n",
       "    <tr>\n",
       "      <th>4.0</th>\n",
       "      <td>60.750000</td>\n",
       "      <td>68.0</td>\n",
       "    </tr>\n",
       "  </tbody>\n",
       "</table>\n",
       "</div>"
      ],
      "text/plain": [
       "                 mean  median\n",
       "T_category                   \n",
       "0.0          0.000000     0.0\n",
       "1.0         12.192583    13.0\n",
       "2.0         27.715082    25.0\n",
       "3.0         66.812500    60.0\n",
       "4.0         60.750000    68.0"
      ]
     },
     "execution_count": 159,
     "metadata": {},
     "output_type": "execute_result"
    }
   ],
   "source": [
    "X.groupby(\"T_category\").agg([\"mean\", \"median\"])[\"암의 장경\"]"
   ]
  },
  {
   "cell_type": "code",
   "execution_count": 227,
   "id": "ea4b6022",
   "metadata": {
    "ExecuteTime": {
     "end_time": "2022-11-30T16:17:21.193949Z",
     "start_time": "2022-11-30T16:17:21.159651Z"
    }
   },
   "outputs": [
    {
     "ename": "KeyError",
     "evalue": "\"None of [Int64Index([178, 179, 180, 181, 182, 183, 184, 185, 186, 187,\\n            ...\\n            990, 991, 992, 993, 994, 995, 996, 997, 998, 999],\\n           dtype='int64', length=800)] are in the [columns]\"",
     "output_type": "error",
     "traceback": [
      "\u001b[0;31m---------------------------------------------------------------------------\u001b[0m",
      "\u001b[0;31mKeyError\u001b[0m                                  Traceback (most recent call last)",
      "Cell \u001b[0;32mIn[227], line 1\u001b[0m\n\u001b[0;32m----> 1\u001b[0m \u001b[43mprocess_score\u001b[49m\u001b[43m(\u001b[49m\u001b[43moriginal_X\u001b[49m\u001b[43m)\u001b[49m\n",
      "Cell \u001b[0;32mIn[226], line 6\u001b[0m, in \u001b[0;36mprocess_score\u001b[0;34m(data)\u001b[0m\n\u001b[1;32m      4\u001b[0m skf\u001b[38;5;241m.\u001b[39mget_n_splits(data, y)    \n\u001b[1;32m      5\u001b[0m \u001b[38;5;28;01mfor\u001b[39;00m train_index, test_index \u001b[38;5;129;01min\u001b[39;00m skf\u001b[38;5;241m.\u001b[39msplit(np\u001b[38;5;241m.\u001b[39marray(X), y):\n\u001b[0;32m----> 6\u001b[0m     X_train, X_test \u001b[38;5;241m=\u001b[39m \u001b[43mX\u001b[49m\u001b[43m[\u001b[49m\u001b[43mtrain_index\u001b[49m\u001b[43m]\u001b[49m, X[test_index]\n\u001b[1;32m      7\u001b[0m     y_train, y_test \u001b[38;5;241m=\u001b[39m y[train_index], y[test_index]\n\u001b[1;32m      8\u001b[0m     model \u001b[38;5;241m=\u001b[39m RandomForestClassifier()\n",
      "File \u001b[0;32m~/anaconda3/envs/dl/lib/python3.9/site-packages/pandas/core/frame.py:3811\u001b[0m, in \u001b[0;36mDataFrame.__getitem__\u001b[0;34m(self, key)\u001b[0m\n\u001b[1;32m   3809\u001b[0m     \u001b[38;5;28;01mif\u001b[39;00m is_iterator(key):\n\u001b[1;32m   3810\u001b[0m         key \u001b[38;5;241m=\u001b[39m \u001b[38;5;28mlist\u001b[39m(key)\n\u001b[0;32m-> 3811\u001b[0m     indexer \u001b[38;5;241m=\u001b[39m \u001b[38;5;28;43mself\u001b[39;49m\u001b[38;5;241;43m.\u001b[39;49m\u001b[43mcolumns\u001b[49m\u001b[38;5;241;43m.\u001b[39;49m\u001b[43m_get_indexer_strict\u001b[49m\u001b[43m(\u001b[49m\u001b[43mkey\u001b[49m\u001b[43m,\u001b[49m\u001b[43m \u001b[49m\u001b[38;5;124;43m\"\u001b[39;49m\u001b[38;5;124;43mcolumns\u001b[39;49m\u001b[38;5;124;43m\"\u001b[39;49m\u001b[43m)\u001b[49m[\u001b[38;5;241m1\u001b[39m]\n\u001b[1;32m   3813\u001b[0m \u001b[38;5;66;03m# take() does not accept boolean indexers\u001b[39;00m\n\u001b[1;32m   3814\u001b[0m \u001b[38;5;28;01mif\u001b[39;00m \u001b[38;5;28mgetattr\u001b[39m(indexer, \u001b[38;5;124m\"\u001b[39m\u001b[38;5;124mdtype\u001b[39m\u001b[38;5;124m\"\u001b[39m, \u001b[38;5;28;01mNone\u001b[39;00m) \u001b[38;5;241m==\u001b[39m \u001b[38;5;28mbool\u001b[39m:\n",
      "File \u001b[0;32m~/anaconda3/envs/dl/lib/python3.9/site-packages/pandas/core/indexes/base.py:6113\u001b[0m, in \u001b[0;36mIndex._get_indexer_strict\u001b[0;34m(self, key, axis_name)\u001b[0m\n\u001b[1;32m   6110\u001b[0m \u001b[38;5;28;01melse\u001b[39;00m:\n\u001b[1;32m   6111\u001b[0m     keyarr, indexer, new_indexer \u001b[38;5;241m=\u001b[39m \u001b[38;5;28mself\u001b[39m\u001b[38;5;241m.\u001b[39m_reindex_non_unique(keyarr)\n\u001b[0;32m-> 6113\u001b[0m \u001b[38;5;28;43mself\u001b[39;49m\u001b[38;5;241;43m.\u001b[39;49m\u001b[43m_raise_if_missing\u001b[49m\u001b[43m(\u001b[49m\u001b[43mkeyarr\u001b[49m\u001b[43m,\u001b[49m\u001b[43m \u001b[49m\u001b[43mindexer\u001b[49m\u001b[43m,\u001b[49m\u001b[43m \u001b[49m\u001b[43maxis_name\u001b[49m\u001b[43m)\u001b[49m\n\u001b[1;32m   6115\u001b[0m keyarr \u001b[38;5;241m=\u001b[39m \u001b[38;5;28mself\u001b[39m\u001b[38;5;241m.\u001b[39mtake(indexer)\n\u001b[1;32m   6116\u001b[0m \u001b[38;5;28;01mif\u001b[39;00m \u001b[38;5;28misinstance\u001b[39m(key, Index):\n\u001b[1;32m   6117\u001b[0m     \u001b[38;5;66;03m# GH 42790 - Preserve name from an Index\u001b[39;00m\n",
      "File \u001b[0;32m~/anaconda3/envs/dl/lib/python3.9/site-packages/pandas/core/indexes/base.py:6173\u001b[0m, in \u001b[0;36mIndex._raise_if_missing\u001b[0;34m(self, key, indexer, axis_name)\u001b[0m\n\u001b[1;32m   6171\u001b[0m     \u001b[38;5;28;01mif\u001b[39;00m use_interval_msg:\n\u001b[1;32m   6172\u001b[0m         key \u001b[38;5;241m=\u001b[39m \u001b[38;5;28mlist\u001b[39m(key)\n\u001b[0;32m-> 6173\u001b[0m     \u001b[38;5;28;01mraise\u001b[39;00m \u001b[38;5;167;01mKeyError\u001b[39;00m(\u001b[38;5;124mf\u001b[39m\u001b[38;5;124m\"\u001b[39m\u001b[38;5;124mNone of [\u001b[39m\u001b[38;5;132;01m{\u001b[39;00mkey\u001b[38;5;132;01m}\u001b[39;00m\u001b[38;5;124m] are in the [\u001b[39m\u001b[38;5;132;01m{\u001b[39;00maxis_name\u001b[38;5;132;01m}\u001b[39;00m\u001b[38;5;124m]\u001b[39m\u001b[38;5;124m\"\u001b[39m)\n\u001b[1;32m   6175\u001b[0m not_found \u001b[38;5;241m=\u001b[39m \u001b[38;5;28mlist\u001b[39m(ensure_index(key)[missing_mask\u001b[38;5;241m.\u001b[39mnonzero()[\u001b[38;5;241m0\u001b[39m]]\u001b[38;5;241m.\u001b[39munique())\n\u001b[1;32m   6176\u001b[0m \u001b[38;5;28;01mraise\u001b[39;00m \u001b[38;5;167;01mKeyError\u001b[39;00m(\u001b[38;5;124mf\u001b[39m\u001b[38;5;124m\"\u001b[39m\u001b[38;5;132;01m{\u001b[39;00mnot_found\u001b[38;5;132;01m}\u001b[39;00m\u001b[38;5;124m not in index\u001b[39m\u001b[38;5;124m\"\u001b[39m)\n",
      "\u001b[0;31mKeyError\u001b[0m: \"None of [Int64Index([178, 179, 180, 181, 182, 183, 184, 185, 186, 187,\\n            ...\\n            990, 991, 992, 993, 994, 995, 996, 997, 998, 999],\\n           dtype='int64', length=800)] are in the [columns]\""
     ]
    }
   ],
   "source": [
    "process_score(original_X)"
   ]
  },
  {
   "cell_type": "code",
   "execution_count": 223,
   "id": "5a11cbe8",
   "metadata": {
    "ExecuteTime": {
     "end_time": "2022-11-30T16:16:02.600170Z",
     "start_time": "2022-11-30T16:16:02.516199Z"
    }
   },
   "outputs": [
    {
     "ename": "KeyError",
     "evalue": "\"None of [Int64Index([178, 179, 180, 181, 182, 183, 184, 185, 186, 187,\\n            ...\\n            990, 991, 992, 993, 994, 995, 996, 997, 998, 999],\\n           dtype='int64', length=800)] are in the [columns]\"",
     "output_type": "error",
     "traceback": [
      "\u001b[0;31m---------------------------------------------------------------------------\u001b[0m",
      "\u001b[0;31mKeyError\u001b[0m                                  Traceback (most recent call last)",
      "Cell \u001b[0;32mIn[223], line 4\u001b[0m\n\u001b[1;32m      2\u001b[0m temp_X \u001b[38;5;241m=\u001b[39m original_X\u001b[38;5;241m.\u001b[39mcopy()\n\u001b[1;32m      3\u001b[0m temp_X[\u001b[38;5;124m\"\u001b[39m\u001b[38;5;124m암의 장경\u001b[39m\u001b[38;5;124m\"\u001b[39m] \u001b[38;5;241m=\u001b[39m X[\u001b[38;5;124m\"\u001b[39m\u001b[38;5;124m암의 장경\u001b[39m\u001b[38;5;124m\"\u001b[39m]\n\u001b[0;32m----> 4\u001b[0m \u001b[43mprocess_score\u001b[49m\u001b[43m(\u001b[49m\u001b[43mtemp_X\u001b[49m\u001b[43m)\u001b[49m\n",
      "Cell \u001b[0;32mIn[222], line 6\u001b[0m, in \u001b[0;36mprocess_score\u001b[0;34m(data)\u001b[0m\n\u001b[1;32m      4\u001b[0m skf\u001b[38;5;241m.\u001b[39mget_n_splits(data, y)    \n\u001b[1;32m      5\u001b[0m \u001b[38;5;28;01mfor\u001b[39;00m train_index, test_index \u001b[38;5;129;01min\u001b[39;00m skf\u001b[38;5;241m.\u001b[39msplit(X, y):\n\u001b[0;32m----> 6\u001b[0m     X_train, X_test \u001b[38;5;241m=\u001b[39m \u001b[43mX\u001b[49m\u001b[43m[\u001b[49m\u001b[43mtrain_index\u001b[49m\u001b[43m]\u001b[49m, X[test_index]\n\u001b[1;32m      7\u001b[0m     y_train, y_test \u001b[38;5;241m=\u001b[39m y[train_index], y[test_index]\n\u001b[1;32m      8\u001b[0m     model \u001b[38;5;241m=\u001b[39m RandomForestClassifier()\n",
      "File \u001b[0;32m~/anaconda3/envs/dl/lib/python3.9/site-packages/pandas/core/frame.py:3811\u001b[0m, in \u001b[0;36mDataFrame.__getitem__\u001b[0;34m(self, key)\u001b[0m\n\u001b[1;32m   3809\u001b[0m     \u001b[38;5;28;01mif\u001b[39;00m is_iterator(key):\n\u001b[1;32m   3810\u001b[0m         key \u001b[38;5;241m=\u001b[39m \u001b[38;5;28mlist\u001b[39m(key)\n\u001b[0;32m-> 3811\u001b[0m     indexer \u001b[38;5;241m=\u001b[39m \u001b[38;5;28;43mself\u001b[39;49m\u001b[38;5;241;43m.\u001b[39;49m\u001b[43mcolumns\u001b[49m\u001b[38;5;241;43m.\u001b[39;49m\u001b[43m_get_indexer_strict\u001b[49m\u001b[43m(\u001b[49m\u001b[43mkey\u001b[49m\u001b[43m,\u001b[49m\u001b[43m \u001b[49m\u001b[38;5;124;43m\"\u001b[39;49m\u001b[38;5;124;43mcolumns\u001b[39;49m\u001b[38;5;124;43m\"\u001b[39;49m\u001b[43m)\u001b[49m[\u001b[38;5;241m1\u001b[39m]\n\u001b[1;32m   3813\u001b[0m \u001b[38;5;66;03m# take() does not accept boolean indexers\u001b[39;00m\n\u001b[1;32m   3814\u001b[0m \u001b[38;5;28;01mif\u001b[39;00m \u001b[38;5;28mgetattr\u001b[39m(indexer, \u001b[38;5;124m\"\u001b[39m\u001b[38;5;124mdtype\u001b[39m\u001b[38;5;124m\"\u001b[39m, \u001b[38;5;28;01mNone\u001b[39;00m) \u001b[38;5;241m==\u001b[39m \u001b[38;5;28mbool\u001b[39m:\n",
      "File \u001b[0;32m~/anaconda3/envs/dl/lib/python3.9/site-packages/pandas/core/indexes/base.py:6113\u001b[0m, in \u001b[0;36mIndex._get_indexer_strict\u001b[0;34m(self, key, axis_name)\u001b[0m\n\u001b[1;32m   6110\u001b[0m \u001b[38;5;28;01melse\u001b[39;00m:\n\u001b[1;32m   6111\u001b[0m     keyarr, indexer, new_indexer \u001b[38;5;241m=\u001b[39m \u001b[38;5;28mself\u001b[39m\u001b[38;5;241m.\u001b[39m_reindex_non_unique(keyarr)\n\u001b[0;32m-> 6113\u001b[0m \u001b[38;5;28;43mself\u001b[39;49m\u001b[38;5;241;43m.\u001b[39;49m\u001b[43m_raise_if_missing\u001b[49m\u001b[43m(\u001b[49m\u001b[43mkeyarr\u001b[49m\u001b[43m,\u001b[49m\u001b[43m \u001b[49m\u001b[43mindexer\u001b[49m\u001b[43m,\u001b[49m\u001b[43m \u001b[49m\u001b[43maxis_name\u001b[49m\u001b[43m)\u001b[49m\n\u001b[1;32m   6115\u001b[0m keyarr \u001b[38;5;241m=\u001b[39m \u001b[38;5;28mself\u001b[39m\u001b[38;5;241m.\u001b[39mtake(indexer)\n\u001b[1;32m   6116\u001b[0m \u001b[38;5;28;01mif\u001b[39;00m \u001b[38;5;28misinstance\u001b[39m(key, Index):\n\u001b[1;32m   6117\u001b[0m     \u001b[38;5;66;03m# GH 42790 - Preserve name from an Index\u001b[39;00m\n",
      "File \u001b[0;32m~/anaconda3/envs/dl/lib/python3.9/site-packages/pandas/core/indexes/base.py:6173\u001b[0m, in \u001b[0;36mIndex._raise_if_missing\u001b[0;34m(self, key, indexer, axis_name)\u001b[0m\n\u001b[1;32m   6171\u001b[0m     \u001b[38;5;28;01mif\u001b[39;00m use_interval_msg:\n\u001b[1;32m   6172\u001b[0m         key \u001b[38;5;241m=\u001b[39m \u001b[38;5;28mlist\u001b[39m(key)\n\u001b[0;32m-> 6173\u001b[0m     \u001b[38;5;28;01mraise\u001b[39;00m \u001b[38;5;167;01mKeyError\u001b[39;00m(\u001b[38;5;124mf\u001b[39m\u001b[38;5;124m\"\u001b[39m\u001b[38;5;124mNone of [\u001b[39m\u001b[38;5;132;01m{\u001b[39;00mkey\u001b[38;5;132;01m}\u001b[39;00m\u001b[38;5;124m] are in the [\u001b[39m\u001b[38;5;132;01m{\u001b[39;00maxis_name\u001b[38;5;132;01m}\u001b[39;00m\u001b[38;5;124m]\u001b[39m\u001b[38;5;124m\"\u001b[39m)\n\u001b[1;32m   6175\u001b[0m not_found \u001b[38;5;241m=\u001b[39m \u001b[38;5;28mlist\u001b[39m(ensure_index(key)[missing_mask\u001b[38;5;241m.\u001b[39mnonzero()[\u001b[38;5;241m0\u001b[39m]]\u001b[38;5;241m.\u001b[39munique())\n\u001b[1;32m   6176\u001b[0m \u001b[38;5;28;01mraise\u001b[39;00m \u001b[38;5;167;01mKeyError\u001b[39;00m(\u001b[38;5;124mf\u001b[39m\u001b[38;5;124m\"\u001b[39m\u001b[38;5;132;01m{\u001b[39;00mnot_found\u001b[38;5;132;01m}\u001b[39;00m\u001b[38;5;124m not in index\u001b[39m\u001b[38;5;124m\"\u001b[39m)\n",
      "\u001b[0;31mKeyError\u001b[0m: \"None of [Int64Index([178, 179, 180, 181, 182, 183, 184, 185, 186, 187,\\n            ...\\n            990, 991, 992, 993, 994, 995, 996, 997, 998, 999],\\n           dtype='int64', length=800)] are in the [columns]\""
     ]
    }
   ],
   "source": [
    "X[\"암의 장경\"] = X[\"암의 장경\"].fillna(X.groupby(\"T_category\")[\"암의 장경\"].transform(\"mean\"))\n",
    "temp_X = original_X.copy()\n",
    "temp_X[\"암의 장경\"] = X[\"암의 장경\"]\n",
    "process_score(temp_X)"
   ]
  },
  {
   "cell_type": "code",
   "execution_count": null,
   "id": "b74eb9e8",
   "metadata": {},
   "outputs": [],
   "source": []
  }
 ],
 "metadata": {
  "kernelspec": {
   "display_name": "base",
   "language": "python",
   "name": "dl"
  },
  "language_info": {
   "codemirror_mode": {
    "name": "ipython",
    "version": 3
   },
   "file_extension": ".py",
   "mimetype": "text/x-python",
   "name": "python",
   "nbconvert_exporter": "python",
   "pygments_lexer": "ipython3",
   "version": "3.9.2"
  },
  "toc": {
   "base_numbering": 1,
   "nav_menu": {},
   "number_sections": true,
   "sideBar": true,
   "skip_h1_title": false,
   "title_cell": "Table of Contents",
   "title_sidebar": "Contents",
   "toc_cell": false,
   "toc_position": {
    "height": "calc(100% - 180px)",
    "left": "10px",
    "top": "150px",
    "width": "245px"
   },
   "toc_section_display": true,
   "toc_window_display": true
  },
  "varInspector": {
   "cols": {
    "lenName": 16,
    "lenType": 16,
    "lenVar": 40
   },
   "kernels_config": {
    "python": {
     "delete_cmd_postfix": "",
     "delete_cmd_prefix": "del ",
     "library": "var_list.py",
     "varRefreshCmd": "print(var_dic_list())"
    },
    "r": {
     "delete_cmd_postfix": ") ",
     "delete_cmd_prefix": "rm(",
     "library": "var_list.r",
     "varRefreshCmd": "cat(var_dic_list()) "
    }
   },
   "oldHeight": 122.844,
   "position": {
    "height": "457.844px",
    "left": "1528px",
    "right": "20px",
    "top": "200px",
    "width": "311px"
   },
   "types_to_exclude": [
    "module",
    "function",
    "builtin_function_or_method",
    "instance",
    "_Feature"
   ],
   "varInspector_section_display": "block",
   "window_display": false
  }
 },
 "nbformat": 4,
 "nbformat_minor": 5
}
