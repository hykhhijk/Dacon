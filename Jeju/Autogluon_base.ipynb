{
 "cells": [
  {
   "cell_type": "markdown",
   "id": "87358a61-c8d3-45ac-b406-c4cc4d241317",
   "metadata": {},
   "source": [
    "# Load libraries & data"
   ]
  },
  {
   "cell_type": "markdown",
   "id": "0a9ec393-8fee-410d-a6b5-c0585e571364",
   "metadata": {},
   "source": [
    "## Import "
   ]
  },
  {
   "cell_type": "code",
   "execution_count": 1,
   "id": "a3f5e910-c944-4950-839f-7f0ffd969e9a",
   "metadata": {},
   "outputs": [],
   "source": [
    "import pandas as pd\n",
    "import numpy as np\n",
    "import os\n",
    "import random\n",
    "from autogluon.timeseries import TimeSeriesDataFrame, TimeSeriesPredictor"
   ]
  },
  {
   "cell_type": "markdown",
   "id": "8e14db32-10ab-429a-9493-8b73897f78f6",
   "metadata": {},
   "source": [
    "## set seed"
   ]
  },
  {
   "cell_type": "code",
   "execution_count": 2,
   "id": "2b629513-f9dc-4361-9432-e3905621de4b",
   "metadata": {},
   "outputs": [],
   "source": [
    "def seed_everything(seed):\n",
    "    random.seed(seed)\n",
    "    os.environ['PYTHONHASHSEED'] = str(seed)\n",
    "    np.random.seed(seed)\n",
    "\n",
    "seed_everything(42) # Seed 고정"
   ]
  },
  {
   "cell_type": "markdown",
   "id": "f46b0c99-2edf-45e0-a7e4-f4754bbe71d8",
   "metadata": {},
   "source": [
    "## Load data "
   ]
  },
  {
   "cell_type": "code",
   "execution_count": 3,
   "id": "fd11c07e-a9d5-4fe9-a468-018958492b5e",
   "metadata": {},
   "outputs": [],
   "source": [
    "path = \"/mnt/d/data/jeju\"\n",
    "\n",
    "train_df = pd.read_csv(os.path.join(path, './train.csv'))\n",
    "test_df = pd.read_csv(os.path.join(path, './test.csv'))"
   ]
  },
  {
   "cell_type": "markdown",
   "id": "3543bc63-76c3-4d1f-bb72-dc68610d8398",
   "metadata": {},
   "source": [
    "# Preprocess"
   ]
  },
  {
   "cell_type": "code",
   "execution_count": 4,
   "id": "e792bc94-352d-45a9-a219-8f1c0ba7002f",
   "metadata": {},
   "outputs": [
    {
     "name": "stderr",
     "output_type": "stream",
     "text": [
      "/tmp/ipykernel_11728/4223933317.py:4: SettingWithCopyWarning: \n",
      "A value is trying to be set on a copy of a slice from a DataFrame.\n",
      "Try using .loc[row_indexer,col_indexer] = value instead\n",
      "\n",
      "See the caveats in the documentation: https://pandas.pydata.org/pandas-docs/stable/user_guide/indexing.html#returning-a-view-versus-a-copy\n",
      "  new_train['item_id'] = new_train.ID.str[0:6]\n",
      "/tmp/ipykernel_11728/4223933317.py:5: SettingWithCopyWarning: \n",
      "A value is trying to be set on a copy of a slice from a DataFrame.\n",
      "Try using .loc[row_indexer,col_indexer] = value instead\n",
      "\n",
      "See the caveats in the documentation: https://pandas.pydata.org/pandas-docs/stable/user_guide/indexing.html#returning-a-view-versus-a-copy\n",
      "  new_test['item_id'] = new_test.ID.str[0:6]\n"
     ]
    }
   ],
   "source": [
    "new_train = train_df[['ID','timestamp','supply(kg)', 'price(원/kg)']]\n",
    "new_test = test_df[['ID','timestamp']]\n",
    "\n",
    "new_train['item_id'] = new_train.ID.str[0:6]\n",
    "new_test['item_id'] = new_test.ID.str[0:6]"
   ]
  },
  {
   "cell_type": "markdown",
   "metadata": {},
   "source": [
    "## use only not zero data"
   ]
  },
  {
   "cell_type": "code",
   "execution_count": 5,
   "metadata": {},
   "outputs": [],
   "source": [
    "# new_train = new_train[new_train[\"price(원/kg)\"]!=0]"
   ]
  },
  {
   "cell_type": "markdown",
   "id": "b8033a3c-94d0-4324-aa47-04cd6a23b048",
   "metadata": {},
   "source": [
    "# Train autogluon"
   ]
  },
  {
   "cell_type": "code",
   "execution_count": 6,
   "id": "dfc979e5-d150-4bed-92c0-f44f6ea7849a",
   "metadata": {},
   "outputs": [
    {
     "name": "stderr",
     "output_type": "stream",
     "text": [
      "================ TimeSeriesPredictor ================\n",
      "TimeSeriesPredictor.fit() called\n",
      "Fitting with arguments:\n",
      "{'enable_ensemble': True,\n",
      " 'evaluation_metric': 'RMSE',\n",
      " 'excluded_model_types': None,\n",
      " 'hyperparameter_tune_kwargs': None,\n",
      " 'hyperparameters': 'default',\n",
      " 'num_val_windows': 1,\n",
      " 'prediction_length': 28,\n",
      " 'random_seed': None,\n",
      " 'target': 'price(원/kg)',\n",
      " 'time_limit': None,\n",
      " 'verbosity': 2}\n",
      "Provided training data set with 59397 rows, 39 items (item = single time series). Average time series length is 1523.0. Data frequency is 'D'.\n",
      "=====================================================\n",
      "AutoGluon will save models to AutogluonModels/ag-20231115_144006\n",
      "AutoGluon will gauge predictive performance using evaluation metric: 'RMSE'\n",
      "\tThis metric's sign has been flipped to adhere to being 'higher is better'. The reported score can be multiplied by -1 to get the metric value.\n",
      "\n",
      "Provided dataset contains following columns:\n",
      "\ttarget:           'price(원/kg)'\n",
      "\tpast covariates:  ['supply(kg)']\n",
      "\n",
      "Starting training. Start time is 2023-11-15 23:40:06\n",
      "Models that will be trained: ['Naive', 'SeasonalNaive', 'Theta', 'AutoETS', 'RecursiveTabular', 'DeepAR']\n",
      "Training timeseries model Naive. \n",
      "\t-997.0634     = Validation score (-RMSE)\n",
      "\t0.03    s     = Training runtime\n",
      "\t3.59    s     = Validation (prediction) runtime\n",
      "Training timeseries model SeasonalNaive. \n",
      "\t-843.9258     = Validation score (-RMSE)\n",
      "\t0.03    s     = Training runtime\n",
      "\t0.04    s     = Validation (prediction) runtime\n",
      "Training timeseries model Theta. \n",
      "\t-838.8347     = Validation score (-RMSE)\n",
      "\t0.03    s     = Training runtime\n",
      "\t18.73   s     = Validation (prediction) runtime\n",
      "Training timeseries model AutoETS. \n",
      "\t-797.0592     = Validation score (-RMSE)\n",
      "\t0.03    s     = Training runtime\n",
      "\t9.20    s     = Validation (prediction) runtime\n",
      "Training timeseries model RecursiveTabular. \n",
      "\t-810.2125     = Validation score (-RMSE)\n",
      "\t2.32    s     = Training runtime\n",
      "\t0.97    s     = Validation (prediction) runtime\n",
      "Training timeseries model DeepAR. \n",
      "\t-732.5741     = Validation score (-RMSE)\n",
      "\t166.51  s     = Training runtime\n",
      "\t0.77    s     = Validation (prediction) runtime\n",
      "Fitting simple weighted ensemble.\n",
      "\t-710.5686     = Validation score (-RMSE)\n",
      "\t1.10    s     = Training runtime\n",
      "\t5.33    s     = Validation (prediction) runtime\n",
      "Training complete. Models trained: ['Naive', 'SeasonalNaive', 'Theta', 'AutoETS', 'RecursiveTabular', 'DeepAR', 'WeightedEnsemble']\n",
      "Total runtime: 203.83 s\n",
      "Best model: WeightedEnsemble\n",
      "Best model score: -710.5686\n"
     ]
    },
    {
     "data": {
      "text/plain": [
       "<autogluon.timeseries.predictor.TimeSeriesPredictor at 0x7fef88cfce50>"
      ]
     },
     "execution_count": 6,
     "metadata": {},
     "output_type": "execute_result"
    }
   ],
   "source": [
    "data = TimeSeriesDataFrame(new_train.drop(columns=['ID']))\n",
    "predictor = TimeSeriesPredictor( \n",
    "    prediction_length=28,\n",
    "    target=\"price(원/kg)\",\n",
    "    eval_metric=\"RMSE\",\n",
    "    # ignore_time_index=True,\n",
    ")\n",
    "# seed 고정\n",
    "predictor.fit(data, num_val_windows=1)"
   ]
  },
  {
   "cell_type": "code",
   "execution_count": 8,
   "id": "3476a33e-5530-4ed2-b3a5-daad72542004",
   "metadata": {},
   "outputs": [
    {
     "name": "stderr",
     "output_type": "stream",
     "text": [
      "\tWARNING: refit_full functionality for TimeSeriesPredictor is experimental and is not yet supported by all models.\n",
      "Refitting models via `refit_full` using all of the data (combined train and validation)...\n",
      "\tModels trained in this way will have the suffix '_FULL' and have NaN validation score.\n",
      "\tThis process is not bound by time_limit, but should take less time than the original `fit` call.\n",
      "Fitting model: Naive_FULL | Skipping fit via cloning parent ...\n",
      "Fitting model: SeasonalNaive_FULL | Skipping fit via cloning parent ...\n",
      "Fitting model: Theta_FULL | Skipping fit via cloning parent ...\n",
      "Fitting model: AutoETS_FULL | Skipping fit via cloning parent ...\n",
      "Fitting model: RecursiveTabular_FULL\n",
      "\t12.38   s     = Training runtime\n",
      "Fitting model: DeepAR_FULL | Skipping fit via cloning parent ...\n",
      "Fitting model: Naive_FULL_FULL | Skipping fit via cloning parent ...\n",
      "Fitting model: SeasonalNaive_FULL_FULL | Skipping fit via cloning parent ...\n",
      "Fitting model: Theta_FULL_FULL | Skipping fit via cloning parent ...\n",
      "Fitting model: AutoETS_FULL_FULL | Skipping fit via cloning parent ...\n",
      "Fitting model: RecursiveTabular_FULL_FULL\n",
      "\t1.27    s     = Training runtime\n",
      "Fitting model: WeightedEnsemble_FULL | Skipping fit via cloning parent ...\n",
      "Refit complete. Models trained: ['Naive_FULL', 'SeasonalNaive_FULL', 'Theta_FULL', 'AutoETS_FULL', 'RecursiveTabular_FULL', 'DeepAR_FULL', 'Naive_FULL_FULL', 'SeasonalNaive_FULL_FULL', 'Theta_FULL_FULL', 'AutoETS_FULL_FULL', 'RecursiveTabular_FULL_FULL', 'WeightedEnsemble_FULL']\n",
      "Total runtime: 14.18 s\n",
      "Updated best model to 'WeightedEnsemble_FULL' (Previously 'WeightedEnsemble'). AutoGluon will default to using 'WeightedEnsemble_FULL' for predict().\n"
     ]
    },
    {
     "data": {
      "text/plain": [
       "{'Naive': 'Naive_FULL',\n",
       " 'SeasonalNaive': 'SeasonalNaive_FULL',\n",
       " 'Theta': 'Theta_FULL',\n",
       " 'AutoETS': 'AutoETS_FULL',\n",
       " 'RecursiveTabular': 'RecursiveTabular_FULL',\n",
       " 'DeepAR': 'DeepAR_FULL',\n",
       " 'Naive_FULL': 'Naive_FULL_FULL',\n",
       " 'SeasonalNaive_FULL': 'SeasonalNaive_FULL_FULL',\n",
       " 'Theta_FULL': 'Theta_FULL_FULL',\n",
       " 'AutoETS_FULL': 'AutoETS_FULL_FULL',\n",
       " 'RecursiveTabular_FULL': 'RecursiveTabular_FULL_FULL',\n",
       " 'WeightedEnsemble': 'WeightedEnsemble_FULL'}"
      ]
     },
     "execution_count": 8,
     "metadata": {},
     "output_type": "execute_result"
    }
   ],
   "source": [
    "predictor.refit_full(model=\"all\")"
   ]
  },
  {
   "cell_type": "code",
   "execution_count": 10,
   "metadata": {},
   "outputs": [
    {
     "name": "stderr",
     "output_type": "stream",
     "text": [
      "Global seed set to 123\n",
      "Model not specified in predict, will default to the model with the best validation score: WeightedEnsemble_FULL\n"
     ]
    }
   ],
   "source": [
    "pred = predictor.predict(data)"
   ]
  },
  {
   "cell_type": "code",
   "execution_count": 11,
   "id": "731109df-35e6-427d-a88f-874ba102635b",
   "metadata": {},
   "outputs": [
    {
     "data": {
      "text/html": [
       "<div>\n",
       "<style scoped>\n",
       "    .dataframe tbody tr th:only-of-type {\n",
       "        vertical-align: middle;\n",
       "    }\n",
       "\n",
       "    .dataframe tbody tr th {\n",
       "        vertical-align: top;\n",
       "    }\n",
       "\n",
       "    .dataframe thead th {\n",
       "        text-align: right;\n",
       "    }\n",
       "</style>\n",
       "<table border=\"1\" class=\"dataframe\">\n",
       "  <thead>\n",
       "    <tr style=\"text-align: right;\">\n",
       "      <th></th>\n",
       "      <th>ID</th>\n",
       "      <th>answer</th>\n",
       "    </tr>\n",
       "  </thead>\n",
       "  <tbody>\n",
       "    <tr>\n",
       "      <th>0</th>\n",
       "      <td>TG_A_J_20230304</td>\n",
       "      <td>3305.776155</td>\n",
       "    </tr>\n",
       "    <tr>\n",
       "      <th>1</th>\n",
       "      <td>TG_A_J_20230305</td>\n",
       "      <td>560.808155</td>\n",
       "    </tr>\n",
       "    <tr>\n",
       "      <th>2</th>\n",
       "      <td>TG_A_J_20230306</td>\n",
       "      <td>2991.557792</td>\n",
       "    </tr>\n",
       "    <tr>\n",
       "      <th>3</th>\n",
       "      <td>TG_A_J_20230307</td>\n",
       "      <td>3461.988503</td>\n",
       "    </tr>\n",
       "    <tr>\n",
       "      <th>4</th>\n",
       "      <td>TG_A_J_20230308</td>\n",
       "      <td>3301.765249</td>\n",
       "    </tr>\n",
       "    <tr>\n",
       "      <th>...</th>\n",
       "      <td>...</td>\n",
       "      <td>...</td>\n",
       "    </tr>\n",
       "    <tr>\n",
       "      <th>1087</th>\n",
       "      <td>RD_F_J_20230327</td>\n",
       "      <td>574.323583</td>\n",
       "    </tr>\n",
       "    <tr>\n",
       "      <th>1088</th>\n",
       "      <td>RD_F_J_20230328</td>\n",
       "      <td>540.127946</td>\n",
       "    </tr>\n",
       "    <tr>\n",
       "      <th>1089</th>\n",
       "      <td>RD_F_J_20230329</td>\n",
       "      <td>545.481007</td>\n",
       "    </tr>\n",
       "    <tr>\n",
       "      <th>1090</th>\n",
       "      <td>RD_F_J_20230330</td>\n",
       "      <td>536.382355</td>\n",
       "    </tr>\n",
       "    <tr>\n",
       "      <th>1091</th>\n",
       "      <td>RD_F_J_20230331</td>\n",
       "      <td>515.740771</td>\n",
       "    </tr>\n",
       "  </tbody>\n",
       "</table>\n",
       "<p>1092 rows × 2 columns</p>\n",
       "</div>"
      ],
      "text/plain": [
       "                   ID       answer\n",
       "0     TG_A_J_20230304  3305.776155\n",
       "1     TG_A_J_20230305   560.808155\n",
       "2     TG_A_J_20230306  2991.557792\n",
       "3     TG_A_J_20230307  3461.988503\n",
       "4     TG_A_J_20230308  3301.765249\n",
       "...               ...          ...\n",
       "1087  RD_F_J_20230327   574.323583\n",
       "1088  RD_F_J_20230328   540.127946\n",
       "1089  RD_F_J_20230329   545.481007\n",
       "1090  RD_F_J_20230330   536.382355\n",
       "1091  RD_F_J_20230331   515.740771\n",
       "\n",
       "[1092 rows x 2 columns]"
      ]
     },
     "execution_count": 11,
     "metadata": {},
     "output_type": "execute_result"
    }
   ],
   "source": [
    "submission = pd.read_csv(os.path.join(path, './sample_submission.csv'))\n",
    "submission['answer'] = pred.reset_index()['mean']\n",
    "submission.loc[ submission['answer'] < 0.0, 'answer'] = 0.0\n",
    "submission.to_csv('./dacon_submission.csv', index=False)\n",
    "submission"
   ]
  },
  {
   "cell_type": "code",
   "execution_count": null,
   "id": "f81721fa-f3d3-4676-bbb4-bd712ba87722",
   "metadata": {},
   "outputs": [],
   "source": []
  }
 ],
 "metadata": {
  "kernelspec": {
   "display_name": "ag",
   "language": "python",
   "name": "python3"
  },
  "language_info": {
   "codemirror_mode": {
    "name": "ipython",
    "version": 3
   },
   "file_extension": ".py",
   "mimetype": "text/x-python",
   "name": "python",
   "nbconvert_exporter": "python",
   "pygments_lexer": "ipython3",
   "version": "3.10.13"
  }
 },
 "nbformat": 4,
 "nbformat_minor": 5
}
