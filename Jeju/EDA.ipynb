{
 "cells": [
  {
   "cell_type": "markdown",
   "id": "2e68bc3c",
   "metadata": {},
   "source": [
    "# Import, load data "
   ]
  },
  {
   "cell_type": "code",
   "execution_count": 45,
   "id": "507253d7",
   "metadata": {
    "ExecuteTime": {
     "end_time": "2023-11-09T12:36:47.988352Z",
     "start_time": "2023-11-09T12:36:47.983866Z"
    }
   },
   "outputs": [],
   "source": [
    "import random\n",
    "import pandas as pd\n",
    "import numpy as np\n",
    "import os\n",
    "\n",
    "from sklearn.ensemble import RandomForestRegressor\n",
    "from sklearn.preprocessing import LabelEncoder\n",
    "\n",
    "import warnings\n",
    "warnings.filterwarnings(action='ignore') \n",
    "\n",
    "import matplotlib.pyplot as plt\n",
    "import seaborn as sns"
   ]
  },
  {
   "cell_type": "code",
   "execution_count": 2,
   "id": "7ba40b45",
   "metadata": {
    "ExecuteTime": {
     "end_time": "2023-11-09T12:28:15.950636Z",
     "start_time": "2023-11-09T12:28:15.947609Z"
    }
   },
   "outputs": [],
   "source": [
    "def seed_everything(seed):\n",
    "    random.seed(seed)\n",
    "    os.environ['PYTHONHASHSEED'] = str(seed)\n",
    "    np.random.seed(seed)\n",
    "\n",
    "seed_everything(42) # Seed 고정"
   ]
  },
  {
   "cell_type": "code",
   "execution_count": 3,
   "id": "12f3cd52",
   "metadata": {
    "ExecuteTime": {
     "end_time": "2023-11-09T12:28:16.068515Z",
     "start_time": "2023-11-09T12:28:15.952475Z"
    }
   },
   "outputs": [],
   "source": [
    "path = \"/mnt/d/data/jeju\"\n",
    "\n",
    "train = pd.read_csv(os.path.join(path, './train.csv'))\n",
    "test = pd.read_csv(os.path.join(path, './test.csv'))"
   ]
  },
  {
   "cell_type": "code",
   "execution_count": 4,
   "id": "9a460885",
   "metadata": {
    "ExecuteTime": {
     "end_time": "2023-11-09T12:28:16.083924Z",
     "start_time": "2023-11-09T12:28:16.070117Z"
    }
   },
   "outputs": [
    {
     "data": {
      "text/html": [
       "<div>\n",
       "<style scoped>\n",
       "    .dataframe tbody tr th:only-of-type {\n",
       "        vertical-align: middle;\n",
       "    }\n",
       "\n",
       "    .dataframe tbody tr th {\n",
       "        vertical-align: top;\n",
       "    }\n",
       "\n",
       "    .dataframe thead th {\n",
       "        text-align: right;\n",
       "    }\n",
       "</style>\n",
       "<table border=\"1\" class=\"dataframe\">\n",
       "  <thead>\n",
       "    <tr style=\"text-align: right;\">\n",
       "      <th></th>\n",
       "      <th>ID</th>\n",
       "      <th>timestamp</th>\n",
       "      <th>item</th>\n",
       "      <th>corporation</th>\n",
       "      <th>location</th>\n",
       "      <th>supply(kg)</th>\n",
       "      <th>price(원/kg)</th>\n",
       "    </tr>\n",
       "  </thead>\n",
       "  <tbody>\n",
       "    <tr>\n",
       "      <th>0</th>\n",
       "      <td>TG_A_J_20190101</td>\n",
       "      <td>2019-01-01</td>\n",
       "      <td>TG</td>\n",
       "      <td>A</td>\n",
       "      <td>J</td>\n",
       "      <td>0.0</td>\n",
       "      <td>0.0</td>\n",
       "    </tr>\n",
       "    <tr>\n",
       "      <th>1</th>\n",
       "      <td>TG_A_J_20190102</td>\n",
       "      <td>2019-01-02</td>\n",
       "      <td>TG</td>\n",
       "      <td>A</td>\n",
       "      <td>J</td>\n",
       "      <td>0.0</td>\n",
       "      <td>0.0</td>\n",
       "    </tr>\n",
       "    <tr>\n",
       "      <th>2</th>\n",
       "      <td>TG_A_J_20190103</td>\n",
       "      <td>2019-01-03</td>\n",
       "      <td>TG</td>\n",
       "      <td>A</td>\n",
       "      <td>J</td>\n",
       "      <td>60601.0</td>\n",
       "      <td>1728.0</td>\n",
       "    </tr>\n",
       "    <tr>\n",
       "      <th>3</th>\n",
       "      <td>TG_A_J_20190104</td>\n",
       "      <td>2019-01-04</td>\n",
       "      <td>TG</td>\n",
       "      <td>A</td>\n",
       "      <td>J</td>\n",
       "      <td>25000.0</td>\n",
       "      <td>1408.0</td>\n",
       "    </tr>\n",
       "    <tr>\n",
       "      <th>4</th>\n",
       "      <td>TG_A_J_20190105</td>\n",
       "      <td>2019-01-05</td>\n",
       "      <td>TG</td>\n",
       "      <td>A</td>\n",
       "      <td>J</td>\n",
       "      <td>32352.0</td>\n",
       "      <td>1250.0</td>\n",
       "    </tr>\n",
       "    <tr>\n",
       "      <th>...</th>\n",
       "      <td>...</td>\n",
       "      <td>...</td>\n",
       "      <td>...</td>\n",
       "      <td>...</td>\n",
       "      <td>...</td>\n",
       "      <td>...</td>\n",
       "      <td>...</td>\n",
       "    </tr>\n",
       "    <tr>\n",
       "      <th>59392</th>\n",
       "      <td>RD_F_J_20230227</td>\n",
       "      <td>2023-02-27</td>\n",
       "      <td>RD</td>\n",
       "      <td>F</td>\n",
       "      <td>J</td>\n",
       "      <td>452440.0</td>\n",
       "      <td>468.0</td>\n",
       "    </tr>\n",
       "    <tr>\n",
       "      <th>59393</th>\n",
       "      <td>RD_F_J_20230228</td>\n",
       "      <td>2023-02-28</td>\n",
       "      <td>RD</td>\n",
       "      <td>F</td>\n",
       "      <td>J</td>\n",
       "      <td>421980.0</td>\n",
       "      <td>531.0</td>\n",
       "    </tr>\n",
       "    <tr>\n",
       "      <th>59394</th>\n",
       "      <td>RD_F_J_20230301</td>\n",
       "      <td>2023-03-01</td>\n",
       "      <td>RD</td>\n",
       "      <td>F</td>\n",
       "      <td>J</td>\n",
       "      <td>382980.0</td>\n",
       "      <td>574.0</td>\n",
       "    </tr>\n",
       "    <tr>\n",
       "      <th>59395</th>\n",
       "      <td>RD_F_J_20230302</td>\n",
       "      <td>2023-03-02</td>\n",
       "      <td>RD</td>\n",
       "      <td>F</td>\n",
       "      <td>J</td>\n",
       "      <td>477220.0</td>\n",
       "      <td>523.0</td>\n",
       "    </tr>\n",
       "    <tr>\n",
       "      <th>59396</th>\n",
       "      <td>RD_F_J_20230303</td>\n",
       "      <td>2023-03-03</td>\n",
       "      <td>RD</td>\n",
       "      <td>F</td>\n",
       "      <td>J</td>\n",
       "      <td>427520.0</td>\n",
       "      <td>529.0</td>\n",
       "    </tr>\n",
       "  </tbody>\n",
       "</table>\n",
       "<p>59397 rows × 7 columns</p>\n",
       "</div>"
      ],
      "text/plain": [
       "                    ID   timestamp item corporation location  supply(kg)  \\\n",
       "0      TG_A_J_20190101  2019-01-01   TG           A        J         0.0   \n",
       "1      TG_A_J_20190102  2019-01-02   TG           A        J         0.0   \n",
       "2      TG_A_J_20190103  2019-01-03   TG           A        J     60601.0   \n",
       "3      TG_A_J_20190104  2019-01-04   TG           A        J     25000.0   \n",
       "4      TG_A_J_20190105  2019-01-05   TG           A        J     32352.0   \n",
       "...                ...         ...  ...         ...      ...         ...   \n",
       "59392  RD_F_J_20230227  2023-02-27   RD           F        J    452440.0   \n",
       "59393  RD_F_J_20230228  2023-02-28   RD           F        J    421980.0   \n",
       "59394  RD_F_J_20230301  2023-03-01   RD           F        J    382980.0   \n",
       "59395  RD_F_J_20230302  2023-03-02   RD           F        J    477220.0   \n",
       "59396  RD_F_J_20230303  2023-03-03   RD           F        J    427520.0   \n",
       "\n",
       "       price(원/kg)  \n",
       "0              0.0  \n",
       "1              0.0  \n",
       "2           1728.0  \n",
       "3           1408.0  \n",
       "4           1250.0  \n",
       "...            ...  \n",
       "59392        468.0  \n",
       "59393        531.0  \n",
       "59394        574.0  \n",
       "59395        523.0  \n",
       "59396        529.0  \n",
       "\n",
       "[59397 rows x 7 columns]"
      ]
     },
     "execution_count": 4,
     "metadata": {},
     "output_type": "execute_result"
    }
   ],
   "source": [
    "train"
   ]
  },
  {
   "cell_type": "code",
   "execution_count": 5,
   "id": "aff16bac",
   "metadata": {
    "ExecuteTime": {
     "end_time": "2023-11-09T12:28:16.092407Z",
     "start_time": "2023-11-09T12:28:16.085130Z"
    }
   },
   "outputs": [
    {
     "data": {
      "text/html": [
       "<div>\n",
       "<style scoped>\n",
       "    .dataframe tbody tr th:only-of-type {\n",
       "        vertical-align: middle;\n",
       "    }\n",
       "\n",
       "    .dataframe tbody tr th {\n",
       "        vertical-align: top;\n",
       "    }\n",
       "\n",
       "    .dataframe thead th {\n",
       "        text-align: right;\n",
       "    }\n",
       "</style>\n",
       "<table border=\"1\" class=\"dataframe\">\n",
       "  <thead>\n",
       "    <tr style=\"text-align: right;\">\n",
       "      <th></th>\n",
       "      <th>ID</th>\n",
       "      <th>timestamp</th>\n",
       "      <th>item</th>\n",
       "      <th>corporation</th>\n",
       "      <th>location</th>\n",
       "    </tr>\n",
       "  </thead>\n",
       "  <tbody>\n",
       "    <tr>\n",
       "      <th>0</th>\n",
       "      <td>TG_A_J_20230304</td>\n",
       "      <td>2023-03-04</td>\n",
       "      <td>TG</td>\n",
       "      <td>A</td>\n",
       "      <td>J</td>\n",
       "    </tr>\n",
       "    <tr>\n",
       "      <th>1</th>\n",
       "      <td>TG_A_J_20230305</td>\n",
       "      <td>2023-03-05</td>\n",
       "      <td>TG</td>\n",
       "      <td>A</td>\n",
       "      <td>J</td>\n",
       "    </tr>\n",
       "    <tr>\n",
       "      <th>2</th>\n",
       "      <td>TG_A_J_20230306</td>\n",
       "      <td>2023-03-06</td>\n",
       "      <td>TG</td>\n",
       "      <td>A</td>\n",
       "      <td>J</td>\n",
       "    </tr>\n",
       "    <tr>\n",
       "      <th>3</th>\n",
       "      <td>TG_A_J_20230307</td>\n",
       "      <td>2023-03-07</td>\n",
       "      <td>TG</td>\n",
       "      <td>A</td>\n",
       "      <td>J</td>\n",
       "    </tr>\n",
       "    <tr>\n",
       "      <th>4</th>\n",
       "      <td>TG_A_J_20230308</td>\n",
       "      <td>2023-03-08</td>\n",
       "      <td>TG</td>\n",
       "      <td>A</td>\n",
       "      <td>J</td>\n",
       "    </tr>\n",
       "    <tr>\n",
       "      <th>...</th>\n",
       "      <td>...</td>\n",
       "      <td>...</td>\n",
       "      <td>...</td>\n",
       "      <td>...</td>\n",
       "      <td>...</td>\n",
       "    </tr>\n",
       "    <tr>\n",
       "      <th>1087</th>\n",
       "      <td>RD_F_J_20230327</td>\n",
       "      <td>2023-03-27</td>\n",
       "      <td>RD</td>\n",
       "      <td>F</td>\n",
       "      <td>J</td>\n",
       "    </tr>\n",
       "    <tr>\n",
       "      <th>1088</th>\n",
       "      <td>RD_F_J_20230328</td>\n",
       "      <td>2023-03-28</td>\n",
       "      <td>RD</td>\n",
       "      <td>F</td>\n",
       "      <td>J</td>\n",
       "    </tr>\n",
       "    <tr>\n",
       "      <th>1089</th>\n",
       "      <td>RD_F_J_20230329</td>\n",
       "      <td>2023-03-29</td>\n",
       "      <td>RD</td>\n",
       "      <td>F</td>\n",
       "      <td>J</td>\n",
       "    </tr>\n",
       "    <tr>\n",
       "      <th>1090</th>\n",
       "      <td>RD_F_J_20230330</td>\n",
       "      <td>2023-03-30</td>\n",
       "      <td>RD</td>\n",
       "      <td>F</td>\n",
       "      <td>J</td>\n",
       "    </tr>\n",
       "    <tr>\n",
       "      <th>1091</th>\n",
       "      <td>RD_F_J_20230331</td>\n",
       "      <td>2023-03-31</td>\n",
       "      <td>RD</td>\n",
       "      <td>F</td>\n",
       "      <td>J</td>\n",
       "    </tr>\n",
       "  </tbody>\n",
       "</table>\n",
       "<p>1092 rows × 5 columns</p>\n",
       "</div>"
      ],
      "text/plain": [
       "                   ID   timestamp item corporation location\n",
       "0     TG_A_J_20230304  2023-03-04   TG           A        J\n",
       "1     TG_A_J_20230305  2023-03-05   TG           A        J\n",
       "2     TG_A_J_20230306  2023-03-06   TG           A        J\n",
       "3     TG_A_J_20230307  2023-03-07   TG           A        J\n",
       "4     TG_A_J_20230308  2023-03-08   TG           A        J\n",
       "...               ...         ...  ...         ...      ...\n",
       "1087  RD_F_J_20230327  2023-03-27   RD           F        J\n",
       "1088  RD_F_J_20230328  2023-03-28   RD           F        J\n",
       "1089  RD_F_J_20230329  2023-03-29   RD           F        J\n",
       "1090  RD_F_J_20230330  2023-03-30   RD           F        J\n",
       "1091  RD_F_J_20230331  2023-03-31   RD           F        J\n",
       "\n",
       "[1092 rows x 5 columns]"
      ]
     },
     "execution_count": 5,
     "metadata": {},
     "output_type": "execute_result"
    }
   ],
   "source": [
    "test"
   ]
  },
  {
   "cell_type": "code",
   "execution_count": 6,
   "id": "25e00ccf",
   "metadata": {
    "ExecuteTime": {
     "end_time": "2023-11-09T12:28:16.136470Z",
     "start_time": "2023-11-09T12:28:16.093959Z"
    }
   },
   "outputs": [
    {
     "data": {
      "text/html": [
       "<div>\n",
       "<style scoped>\n",
       "    .dataframe tbody tr th:only-of-type {\n",
       "        vertical-align: middle;\n",
       "    }\n",
       "\n",
       "    .dataframe tbody tr th {\n",
       "        vertical-align: top;\n",
       "    }\n",
       "\n",
       "    .dataframe thead th {\n",
       "        text-align: right;\n",
       "    }\n",
       "</style>\n",
       "<table border=\"1\" class=\"dataframe\">\n",
       "  <thead>\n",
       "    <tr style=\"text-align: right;\">\n",
       "      <th></th>\n",
       "      <th>ID</th>\n",
       "      <th>timestamp</th>\n",
       "      <th>item</th>\n",
       "      <th>corporation</th>\n",
       "      <th>location</th>\n",
       "      <th>supply(kg)</th>\n",
       "      <th>price(원/kg)</th>\n",
       "    </tr>\n",
       "  </thead>\n",
       "  <tbody>\n",
       "    <tr>\n",
       "      <th>count</th>\n",
       "      <td>59397</td>\n",
       "      <td>59397</td>\n",
       "      <td>59397</td>\n",
       "      <td>59397</td>\n",
       "      <td>59397</td>\n",
       "      <td>5.939700e+04</td>\n",
       "      <td>59397.000000</td>\n",
       "    </tr>\n",
       "    <tr>\n",
       "      <th>unique</th>\n",
       "      <td>59397</td>\n",
       "      <td>1523</td>\n",
       "      <td>5</td>\n",
       "      <td>6</td>\n",
       "      <td>2</td>\n",
       "      <td>NaN</td>\n",
       "      <td>NaN</td>\n",
       "    </tr>\n",
       "    <tr>\n",
       "      <th>top</th>\n",
       "      <td>TG_A_J_20190101</td>\n",
       "      <td>2019-01-01</td>\n",
       "      <td>TG</td>\n",
       "      <td>A</td>\n",
       "      <td>J</td>\n",
       "      <td>NaN</td>\n",
       "      <td>NaN</td>\n",
       "    </tr>\n",
       "    <tr>\n",
       "      <th>freq</th>\n",
       "      <td>1</td>\n",
       "      <td>39</td>\n",
       "      <td>15230</td>\n",
       "      <td>13707</td>\n",
       "      <td>35029</td>\n",
       "      <td>NaN</td>\n",
       "      <td>NaN</td>\n",
       "    </tr>\n",
       "    <tr>\n",
       "      <th>mean</th>\n",
       "      <td>NaN</td>\n",
       "      <td>NaN</td>\n",
       "      <td>NaN</td>\n",
       "      <td>NaN</td>\n",
       "      <td>NaN</td>\n",
       "      <td>1.189453e+04</td>\n",
       "      <td>1131.680674</td>\n",
       "    </tr>\n",
       "    <tr>\n",
       "      <th>std</th>\n",
       "      <td>NaN</td>\n",
       "      <td>NaN</td>\n",
       "      <td>NaN</td>\n",
       "      <td>NaN</td>\n",
       "      <td>NaN</td>\n",
       "      <td>5.226400e+04</td>\n",
       "      <td>2029.941445</td>\n",
       "    </tr>\n",
       "    <tr>\n",
       "      <th>min</th>\n",
       "      <td>NaN</td>\n",
       "      <td>NaN</td>\n",
       "      <td>NaN</td>\n",
       "      <td>NaN</td>\n",
       "      <td>NaN</td>\n",
       "      <td>0.000000e+00</td>\n",
       "      <td>0.000000</td>\n",
       "    </tr>\n",
       "    <tr>\n",
       "      <th>25%</th>\n",
       "      <td>NaN</td>\n",
       "      <td>NaN</td>\n",
       "      <td>NaN</td>\n",
       "      <td>NaN</td>\n",
       "      <td>NaN</td>\n",
       "      <td>0.000000e+00</td>\n",
       "      <td>0.000000</td>\n",
       "    </tr>\n",
       "    <tr>\n",
       "      <th>50%</th>\n",
       "      <td>NaN</td>\n",
       "      <td>NaN</td>\n",
       "      <td>NaN</td>\n",
       "      <td>NaN</td>\n",
       "      <td>NaN</td>\n",
       "      <td>0.000000e+00</td>\n",
       "      <td>0.000000</td>\n",
       "    </tr>\n",
       "    <tr>\n",
       "      <th>75%</th>\n",
       "      <td>NaN</td>\n",
       "      <td>NaN</td>\n",
       "      <td>NaN</td>\n",
       "      <td>NaN</td>\n",
       "      <td>NaN</td>\n",
       "      <td>3.800000e+03</td>\n",
       "      <td>1519.000000</td>\n",
       "    </tr>\n",
       "    <tr>\n",
       "      <th>max</th>\n",
       "      <td>NaN</td>\n",
       "      <td>NaN</td>\n",
       "      <td>NaN</td>\n",
       "      <td>NaN</td>\n",
       "      <td>NaN</td>\n",
       "      <td>1.222800e+06</td>\n",
       "      <td>20909.000000</td>\n",
       "    </tr>\n",
       "  </tbody>\n",
       "</table>\n",
       "</div>"
      ],
      "text/plain": [
       "                     ID   timestamp   item corporation location    supply(kg)  \\\n",
       "count             59397       59397  59397       59397    59397  5.939700e+04   \n",
       "unique            59397        1523      5           6        2           NaN   \n",
       "top     TG_A_J_20190101  2019-01-01     TG           A        J           NaN   \n",
       "freq                  1          39  15230       13707    35029           NaN   \n",
       "mean                NaN         NaN    NaN         NaN      NaN  1.189453e+04   \n",
       "std                 NaN         NaN    NaN         NaN      NaN  5.226400e+04   \n",
       "min                 NaN         NaN    NaN         NaN      NaN  0.000000e+00   \n",
       "25%                 NaN         NaN    NaN         NaN      NaN  0.000000e+00   \n",
       "50%                 NaN         NaN    NaN         NaN      NaN  0.000000e+00   \n",
       "75%                 NaN         NaN    NaN         NaN      NaN  3.800000e+03   \n",
       "max                 NaN         NaN    NaN         NaN      NaN  1.222800e+06   \n",
       "\n",
       "         price(원/kg)  \n",
       "count   59397.000000  \n",
       "unique           NaN  \n",
       "top              NaN  \n",
       "freq             NaN  \n",
       "mean     1131.680674  \n",
       "std      2029.941445  \n",
       "min         0.000000  \n",
       "25%         0.000000  \n",
       "50%         0.000000  \n",
       "75%      1519.000000  \n",
       "max     20909.000000  "
      ]
     },
     "execution_count": 6,
     "metadata": {},
     "output_type": "execute_result"
    }
   ],
   "source": [
    "train.describe(include=\"all\")"
   ]
  },
  {
   "cell_type": "markdown",
   "id": "b8bc0b5d",
   "metadata": {},
   "source": [
    "# EDA"
   ]
  },
  {
   "cell_type": "markdown",
   "id": "5851e819",
   "metadata": {},
   "source": [
    "## price(원/kg)"
   ]
  },
  {
   "cell_type": "code",
   "execution_count": 7,
   "id": "07862ae8",
   "metadata": {
    "ExecuteTime": {
     "end_time": "2023-11-09T12:28:16.143061Z",
     "start_time": "2023-11-09T12:28:16.137596Z"
    }
   },
   "outputs": [
    {
     "data": {
      "text/plain": [
       "0.0       35455\n",
       "500.0        50\n",
       "1000.0       45\n",
       "550.0        42\n",
       "400.0        41\n",
       "          ...  \n",
       "6234.0        1\n",
       "5686.0        1\n",
       "5818.0        1\n",
       "5652.0        1\n",
       "655.0         1\n",
       "Name: price(원/kg), Length: 7094, dtype: int64"
      ]
     },
     "execution_count": 7,
     "metadata": {},
     "output_type": "execute_result"
    }
   ],
   "source": [
    "train[\"price(원/kg)\"].value_counts()"
   ]
  },
  {
   "cell_type": "code",
   "execution_count": 8,
   "id": "cbee0ec0",
   "metadata": {
    "ExecuteTime": {
     "end_time": "2023-11-09T12:28:16.148772Z",
     "start_time": "2023-11-09T12:28:16.144338Z"
    }
   },
   "outputs": [],
   "source": [
    "sorted_prices = train[\"price(원/kg)\"].value_counts().sort_index()"
   ]
  },
  {
   "cell_type": "code",
   "execution_count": 9,
   "id": "b05125d0",
   "metadata": {
    "ExecuteTime": {
     "end_time": "2023-11-09T12:28:16.153502Z",
     "start_time": "2023-11-09T12:28:16.149838Z"
    }
   },
   "outputs": [
    {
     "data": {
      "text/plain": [
       "0.0        35455\n",
       "50.0           1\n",
       "55.0           1\n",
       "60.0           1\n",
       "88.0           1\n",
       "           ...  \n",
       "14375.0        2\n",
       "14500.0        1\n",
       "15015.0        1\n",
       "15123.0        1\n",
       "20909.0        1\n",
       "Name: price(원/kg), Length: 7094, dtype: int64"
      ]
     },
     "execution_count": 9,
     "metadata": {},
     "output_type": "execute_result"
    }
   ],
   "source": [
    "sorted_prices"
   ]
  },
  {
   "cell_type": "code",
   "execution_count": 10,
   "id": "194f82e8",
   "metadata": {
    "ExecuteTime": {
     "end_time": "2023-11-09T12:28:16.277077Z",
     "start_time": "2023-11-09T12:28:16.155503Z"
    }
   },
   "outputs": [
    {
     "data": {
      "text/plain": [
       "<matplotlib.collections.PathCollection at 0x7f6a844599d0>"
      ]
     },
     "execution_count": 10,
     "metadata": {},
     "output_type": "execute_result"
    },
    {
     "data": {
      "image/png": "[encoded data removed]",
      "text/plain": [
       "<Figure size 640x480 with 1 Axes>"
      ]
     },
     "metadata": {},
     "output_type": "display_data"
    }
   ],
   "source": [
    "plt.scatter(sorted_prices.index, sorted_prices.values, alpha=0.1)"
   ]
  },
  {
   "cell_type": "code",
   "execution_count": 11,
   "id": "84f9606b",
   "metadata": {
    "ExecuteTime": {
     "end_time": "2023-11-09T12:28:16.282853Z",
     "start_time": "2023-11-09T12:28:16.278252Z"
    }
   },
   "outputs": [
    {
     "name": "stdout",
     "output_type": "stream",
     "text": [
      "가격 중 0원 비율 59.6916%\n"
     ]
    }
   ],
   "source": [
    "print(f\"가격 중 0원 비율 {round(sum(train['price(원/kg)']==0) / len(train) * 100, 4)}%\")"
   ]
  },
  {
   "cell_type": "code",
   "execution_count": 12,
   "id": "5cd31e73",
   "metadata": {
    "ExecuteTime": {
     "end_time": "2023-11-09T12:28:16.357375Z",
     "start_time": "2023-11-09T12:28:16.283864Z"
    }
   },
   "outputs": [
    {
     "data": {
      "text/plain": [
       "<matplotlib.collections.PathCollection at 0x7f6a83c2c9a0>"
      ]
     },
     "execution_count": 12,
     "metadata": {},
     "output_type": "execute_result"
    },
    {
     "data": {
      "image/png": "[encoded data removed]",
      "text/plain": [
       "<Figure size 640x480 with 1 Axes>"
      ]
     },
     "metadata": {},
     "output_type": "display_data"
    }
   ],
   "source": [
    "plt.scatter(sorted_prices.index[1:], sorted_prices.values[1:], alpha=0.1)"
   ]
  },
  {
   "cell_type": "code",
   "execution_count": 13,
   "id": "4e02b470",
   "metadata": {
    "ExecuteTime": {
     "end_time": "2023-11-09T12:28:16.364999Z",
     "start_time": "2023-11-09T12:28:16.358528Z"
    }
   },
   "outputs": [
    {
     "data": {
      "text/html": [
       "<div>\n",
       "<style scoped>\n",
       "    .dataframe tbody tr th:only-of-type {\n",
       "        vertical-align: middle;\n",
       "    }\n",
       "\n",
       "    .dataframe tbody tr th {\n",
       "        vertical-align: top;\n",
       "    }\n",
       "\n",
       "    .dataframe thead th {\n",
       "        text-align: right;\n",
       "    }\n",
       "</style>\n",
       "<table border=\"1\" class=\"dataframe\">\n",
       "  <thead>\n",
       "    <tr style=\"text-align: right;\">\n",
       "      <th></th>\n",
       "      <th>ID</th>\n",
       "      <th>timestamp</th>\n",
       "      <th>item</th>\n",
       "      <th>corporation</th>\n",
       "      <th>location</th>\n",
       "      <th>supply(kg)</th>\n",
       "      <th>price(원/kg)</th>\n",
       "    </tr>\n",
       "  </thead>\n",
       "  <tbody>\n",
       "    <tr>\n",
       "      <th>7304</th>\n",
       "      <td>TG_C_J_20220427</td>\n",
       "      <td>2022-04-27</td>\n",
       "      <td>TG</td>\n",
       "      <td>C</td>\n",
       "      <td>J</td>\n",
       "      <td>55.0</td>\n",
       "      <td>20909.0</td>\n",
       "    </tr>\n",
       "    <tr>\n",
       "      <th>7306</th>\n",
       "      <td>TG_C_J_20220429</td>\n",
       "      <td>2022-04-29</td>\n",
       "      <td>TG</td>\n",
       "      <td>C</td>\n",
       "      <td>J</td>\n",
       "      <td>114.0</td>\n",
       "      <td>15123.0</td>\n",
       "    </tr>\n",
       "    <tr>\n",
       "      <th>7319</th>\n",
       "      <td>TG_C_J_20220512</td>\n",
       "      <td>2022-05-12</td>\n",
       "      <td>TG</td>\n",
       "      <td>C</td>\n",
       "      <td>J</td>\n",
       "      <td>194.0</td>\n",
       "      <td>15015.0</td>\n",
       "    </tr>\n",
       "  </tbody>\n",
       "</table>\n",
       "</div>"
      ],
      "text/plain": [
       "                   ID   timestamp item corporation location  supply(kg)  \\\n",
       "7304  TG_C_J_20220427  2022-04-27   TG           C        J        55.0   \n",
       "7306  TG_C_J_20220429  2022-04-29   TG           C        J       114.0   \n",
       "7319  TG_C_J_20220512  2022-05-12   TG           C        J       194.0   \n",
       "\n",
       "      price(원/kg)  \n",
       "7304      20909.0  \n",
       "7306      15123.0  \n",
       "7319      15015.0  "
      ]
     },
     "execution_count": 13,
     "metadata": {},
     "output_type": "execute_result"
    }
   ],
   "source": [
    "train[train[\"price(원/kg)\"] > 15000]"
   ]
  },
  {
   "cell_type": "code",
   "execution_count": 14,
   "id": "5d279066",
   "metadata": {
    "ExecuteTime": {
     "end_time": "2023-11-09T12:28:16.374719Z",
     "start_time": "2023-11-09T12:28:16.366662Z"
    }
   },
   "outputs": [
    {
     "data": {
      "text/html": [
       "<div>\n",
       "<style scoped>\n",
       "    .dataframe tbody tr th:only-of-type {\n",
       "        vertical-align: middle;\n",
       "    }\n",
       "\n",
       "    .dataframe tbody tr th {\n",
       "        vertical-align: top;\n",
       "    }\n",
       "\n",
       "    .dataframe thead th {\n",
       "        text-align: right;\n",
       "    }\n",
       "</style>\n",
       "<table border=\"1\" class=\"dataframe\">\n",
       "  <thead>\n",
       "    <tr style=\"text-align: right;\">\n",
       "      <th></th>\n",
       "      <th>ID</th>\n",
       "      <th>timestamp</th>\n",
       "      <th>item</th>\n",
       "      <th>corporation</th>\n",
       "      <th>location</th>\n",
       "      <th>supply(kg)</th>\n",
       "      <th>price(원/kg)</th>\n",
       "    </tr>\n",
       "  </thead>\n",
       "  <tbody>\n",
       "    <tr>\n",
       "      <th>6572</th>\n",
       "      <td>TG_C_J_20200425</td>\n",
       "      <td>2020-04-25</td>\n",
       "      <td>TG</td>\n",
       "      <td>C</td>\n",
       "      <td>J</td>\n",
       "      <td>236.0</td>\n",
       "      <td>13347.0</td>\n",
       "    </tr>\n",
       "    <tr>\n",
       "      <th>6576</th>\n",
       "      <td>TG_C_J_20200429</td>\n",
       "      <td>2020-04-29</td>\n",
       "      <td>TG</td>\n",
       "      <td>C</td>\n",
       "      <td>J</td>\n",
       "      <td>40.0</td>\n",
       "      <td>13750.0</td>\n",
       "    </tr>\n",
       "    <tr>\n",
       "      <th>6578</th>\n",
       "      <td>TG_C_J_20200501</td>\n",
       "      <td>2020-05-01</td>\n",
       "      <td>TG</td>\n",
       "      <td>C</td>\n",
       "      <td>J</td>\n",
       "      <td>80.0</td>\n",
       "      <td>13750.0</td>\n",
       "    </tr>\n",
       "    <tr>\n",
       "      <th>6581</th>\n",
       "      <td>TG_C_J_20200504</td>\n",
       "      <td>2020-05-04</td>\n",
       "      <td>TG</td>\n",
       "      <td>C</td>\n",
       "      <td>J</td>\n",
       "      <td>235.0</td>\n",
       "      <td>13404.0</td>\n",
       "    </tr>\n",
       "    <tr>\n",
       "      <th>6583</th>\n",
       "      <td>TG_C_J_20200506</td>\n",
       "      <td>2020-05-06</td>\n",
       "      <td>TG</td>\n",
       "      <td>C</td>\n",
       "      <td>J</td>\n",
       "      <td>48.0</td>\n",
       "      <td>13125.0</td>\n",
       "    </tr>\n",
       "    <tr>\n",
       "      <th>6941</th>\n",
       "      <td>TG_C_J_20210429</td>\n",
       "      <td>2021-04-29</td>\n",
       "      <td>TG</td>\n",
       "      <td>C</td>\n",
       "      <td>J</td>\n",
       "      <td>432.0</td>\n",
       "      <td>13243.0</td>\n",
       "    </tr>\n",
       "    <tr>\n",
       "      <th>6942</th>\n",
       "      <td>TG_C_J_20210430</td>\n",
       "      <td>2021-04-30</td>\n",
       "      <td>TG</td>\n",
       "      <td>C</td>\n",
       "      <td>J</td>\n",
       "      <td>235.0</td>\n",
       "      <td>13681.0</td>\n",
       "    </tr>\n",
       "    <tr>\n",
       "      <th>6947</th>\n",
       "      <td>TG_C_J_20210505</td>\n",
       "      <td>2021-05-05</td>\n",
       "      <td>TG</td>\n",
       "      <td>C</td>\n",
       "      <td>J</td>\n",
       "      <td>64.0</td>\n",
       "      <td>13750.0</td>\n",
       "    </tr>\n",
       "    <tr>\n",
       "      <th>7304</th>\n",
       "      <td>TG_C_J_20220427</td>\n",
       "      <td>2022-04-27</td>\n",
       "      <td>TG</td>\n",
       "      <td>C</td>\n",
       "      <td>J</td>\n",
       "      <td>55.0</td>\n",
       "      <td>20909.0</td>\n",
       "    </tr>\n",
       "    <tr>\n",
       "      <th>7306</th>\n",
       "      <td>TG_C_J_20220429</td>\n",
       "      <td>2022-04-29</td>\n",
       "      <td>TG</td>\n",
       "      <td>C</td>\n",
       "      <td>J</td>\n",
       "      <td>114.0</td>\n",
       "      <td>15123.0</td>\n",
       "    </tr>\n",
       "    <tr>\n",
       "      <th>7312</th>\n",
       "      <td>TG_C_J_20220505</td>\n",
       "      <td>2022-05-05</td>\n",
       "      <td>TG</td>\n",
       "      <td>C</td>\n",
       "      <td>J</td>\n",
       "      <td>180.0</td>\n",
       "      <td>14500.0</td>\n",
       "    </tr>\n",
       "    <tr>\n",
       "      <th>7313</th>\n",
       "      <td>TG_C_J_20220506</td>\n",
       "      <td>2022-05-06</td>\n",
       "      <td>TG</td>\n",
       "      <td>C</td>\n",
       "      <td>J</td>\n",
       "      <td>128.0</td>\n",
       "      <td>14375.0</td>\n",
       "    </tr>\n",
       "    <tr>\n",
       "      <th>7317</th>\n",
       "      <td>TG_C_J_20220510</td>\n",
       "      <td>2022-05-10</td>\n",
       "      <td>TG</td>\n",
       "      <td>C</td>\n",
       "      <td>J</td>\n",
       "      <td>64.0</td>\n",
       "      <td>14375.0</td>\n",
       "    </tr>\n",
       "    <tr>\n",
       "      <th>7319</th>\n",
       "      <td>TG_C_J_20220512</td>\n",
       "      <td>2022-05-12</td>\n",
       "      <td>TG</td>\n",
       "      <td>C</td>\n",
       "      <td>J</td>\n",
       "      <td>194.0</td>\n",
       "      <td>15015.0</td>\n",
       "    </tr>\n",
       "    <tr>\n",
       "      <th>7321</th>\n",
       "      <td>TG_C_J_20220514</td>\n",
       "      <td>2022-05-14</td>\n",
       "      <td>TG</td>\n",
       "      <td>C</td>\n",
       "      <td>J</td>\n",
       "      <td>394.0</td>\n",
       "      <td>14109.0</td>\n",
       "    </tr>\n",
       "  </tbody>\n",
       "</table>\n",
       "</div>"
      ],
      "text/plain": [
       "                   ID   timestamp item corporation location  supply(kg)  \\\n",
       "6572  TG_C_J_20200425  2020-04-25   TG           C        J       236.0   \n",
       "6576  TG_C_J_20200429  2020-04-29   TG           C        J        40.0   \n",
       "6578  TG_C_J_20200501  2020-05-01   TG           C        J        80.0   \n",
       "6581  TG_C_J_20200504  2020-05-04   TG           C        J       235.0   \n",
       "6583  TG_C_J_20200506  2020-05-06   TG           C        J        48.0   \n",
       "6941  TG_C_J_20210429  2021-04-29   TG           C        J       432.0   \n",
       "6942  TG_C_J_20210430  2021-04-30   TG           C        J       235.0   \n",
       "6947  TG_C_J_20210505  2021-05-05   TG           C        J        64.0   \n",
       "7304  TG_C_J_20220427  2022-04-27   TG           C        J        55.0   \n",
       "7306  TG_C_J_20220429  2022-04-29   TG           C        J       114.0   \n",
       "7312  TG_C_J_20220505  2022-05-05   TG           C        J       180.0   \n",
       "7313  TG_C_J_20220506  2022-05-06   TG           C        J       128.0   \n",
       "7317  TG_C_J_20220510  2022-05-10   TG           C        J        64.0   \n",
       "7319  TG_C_J_20220512  2022-05-12   TG           C        J       194.0   \n",
       "7321  TG_C_J_20220514  2022-05-14   TG           C        J       394.0   \n",
       "\n",
       "      price(원/kg)  \n",
       "6572      13347.0  \n",
       "6576      13750.0  \n",
       "6578      13750.0  \n",
       "6581      13404.0  \n",
       "6583      13125.0  \n",
       "6941      13243.0  \n",
       "6942      13681.0  \n",
       "6947      13750.0  \n",
       "7304      20909.0  \n",
       "7306      15123.0  \n",
       "7312      14500.0  \n",
       "7313      14375.0  \n",
       "7317      14375.0  \n",
       "7319      15015.0  \n",
       "7321      14109.0  "
      ]
     },
     "execution_count": 14,
     "metadata": {},
     "output_type": "execute_result"
    }
   ],
   "source": [
    "train[train[\"price(원/kg)\"] > 13000]"
   ]
  },
  {
   "cell_type": "markdown",
   "id": "a424e907",
   "metadata": {},
   "source": [
    "눈대중으로 봤을때 귤 + 봄 + 낮은 수확량 -> 높은 가격  "
   ]
  },
  {
   "cell_type": "code",
   "execution_count": 15,
   "id": "f1c8ef0e",
   "metadata": {
    "ExecuteTime": {
     "end_time": "2023-11-09T12:28:16.385168Z",
     "start_time": "2023-11-09T12:28:16.375953Z"
    }
   },
   "outputs": [
    {
     "data": {
      "text/html": [
       "<div>\n",
       "<style scoped>\n",
       "    .dataframe tbody tr th:only-of-type {\n",
       "        vertical-align: middle;\n",
       "    }\n",
       "\n",
       "    .dataframe tbody tr th {\n",
       "        vertical-align: top;\n",
       "    }\n",
       "\n",
       "    .dataframe thead th {\n",
       "        text-align: right;\n",
       "    }\n",
       "</style>\n",
       "<table border=\"1\" class=\"dataframe\">\n",
       "  <thead>\n",
       "    <tr style=\"text-align: right;\">\n",
       "      <th></th>\n",
       "      <th>supply(kg)</th>\n",
       "      <th>price(원/kg)</th>\n",
       "    </tr>\n",
       "    <tr>\n",
       "      <th>item</th>\n",
       "      <th></th>\n",
       "      <th></th>\n",
       "    </tr>\n",
       "  </thead>\n",
       "  <tbody>\n",
       "    <tr>\n",
       "      <th>BC</th>\n",
       "      <td>1000.060071</td>\n",
       "      <td>910.196615</td>\n",
       "    </tr>\n",
       "    <tr>\n",
       "      <th>CB</th>\n",
       "      <td>11241.532567</td>\n",
       "      <td>152.187131</td>\n",
       "    </tr>\n",
       "    <tr>\n",
       "      <th>CR</th>\n",
       "      <td>5054.161992</td>\n",
       "      <td>273.118938</td>\n",
       "    </tr>\n",
       "    <tr>\n",
       "      <th>RD</th>\n",
       "      <td>27670.840003</td>\n",
       "      <td>187.073539</td>\n",
       "    </tr>\n",
       "    <tr>\n",
       "      <th>TG</th>\n",
       "      <td>14193.242484</td>\n",
       "      <td>3177.442022</td>\n",
       "    </tr>\n",
       "  </tbody>\n",
       "</table>\n",
       "</div>"
      ],
      "text/plain": [
       "        supply(kg)  price(원/kg)\n",
       "item                           \n",
       "BC     1000.060071   910.196615\n",
       "CB    11241.532567   152.187131\n",
       "CR     5054.161992   273.118938\n",
       "RD    27670.840003   187.073539\n",
       "TG    14193.242484  3177.442022"
      ]
     },
     "execution_count": 15,
     "metadata": {},
     "output_type": "execute_result"
    }
   ],
   "source": [
    "train.groupby(\"item\").mean()"
   ]
  },
  {
   "cell_type": "code",
   "execution_count": 16,
   "id": "ead80d60",
   "metadata": {
    "ExecuteTime": {
     "end_time": "2023-11-09T12:28:16.394301Z",
     "start_time": "2023-11-09T12:28:16.386869Z"
    }
   },
   "outputs": [
    {
     "data": {
      "text/html": [
       "<div>\n",
       "<style scoped>\n",
       "    .dataframe tbody tr th:only-of-type {\n",
       "        vertical-align: middle;\n",
       "    }\n",
       "\n",
       "    .dataframe tbody tr th {\n",
       "        vertical-align: top;\n",
       "    }\n",
       "\n",
       "    .dataframe thead th {\n",
       "        text-align: right;\n",
       "    }\n",
       "</style>\n",
       "<table border=\"1\" class=\"dataframe\">\n",
       "  <thead>\n",
       "    <tr style=\"text-align: right;\">\n",
       "      <th></th>\n",
       "      <th>supply(kg)</th>\n",
       "      <th>price(원/kg)</th>\n",
       "    </tr>\n",
       "    <tr>\n",
       "      <th>item</th>\n",
       "      <th></th>\n",
       "      <th></th>\n",
       "    </tr>\n",
       "  </thead>\n",
       "  <tbody>\n",
       "    <tr>\n",
       "      <th>BC</th>\n",
       "      <td>0.0</td>\n",
       "      <td>0.0</td>\n",
       "    </tr>\n",
       "    <tr>\n",
       "      <th>CB</th>\n",
       "      <td>0.0</td>\n",
       "      <td>0.0</td>\n",
       "    </tr>\n",
       "    <tr>\n",
       "      <th>CR</th>\n",
       "      <td>0.0</td>\n",
       "      <td>0.0</td>\n",
       "    </tr>\n",
       "    <tr>\n",
       "      <th>RD</th>\n",
       "      <td>0.0</td>\n",
       "      <td>0.0</td>\n",
       "    </tr>\n",
       "    <tr>\n",
       "      <th>TG</th>\n",
       "      <td>2456.0</td>\n",
       "      <td>2273.5</td>\n",
       "    </tr>\n",
       "  </tbody>\n",
       "</table>\n",
       "</div>"
      ],
      "text/plain": [
       "      supply(kg)  price(원/kg)\n",
       "item                         \n",
       "BC           0.0          0.0\n",
       "CB           0.0          0.0\n",
       "CR           0.0          0.0\n",
       "RD           0.0          0.0\n",
       "TG        2456.0       2273.5"
      ]
     },
     "execution_count": 16,
     "metadata": {},
     "output_type": "execute_result"
    }
   ],
   "source": [
    "train.groupby(\"item\").median()"
   ]
  },
  {
   "cell_type": "markdown",
   "id": "9d1e8bbf",
   "metadata": {},
   "source": [
    "0을 제외하지 않았을때 중앙값이 0->절반이상이 0이니 이를 잘 처리하는게 중요할듯?  "
   ]
  },
  {
   "cell_type": "code",
   "execution_count": 17,
   "id": "d5dd7292",
   "metadata": {
    "ExecuteTime": {
     "end_time": "2023-11-09T12:28:16.401733Z",
     "start_time": "2023-11-09T12:28:16.395327Z"
    }
   },
   "outputs": [
    {
     "data": {
      "text/html": [
       "<div>\n",
       "<style scoped>\n",
       "    .dataframe tbody tr th:only-of-type {\n",
       "        vertical-align: middle;\n",
       "    }\n",
       "\n",
       "    .dataframe tbody tr th {\n",
       "        vertical-align: top;\n",
       "    }\n",
       "\n",
       "    .dataframe thead th {\n",
       "        text-align: right;\n",
       "    }\n",
       "</style>\n",
       "<table border=\"1\" class=\"dataframe\">\n",
       "  <thead>\n",
       "    <tr style=\"text-align: right;\">\n",
       "      <th></th>\n",
       "      <th>supply(kg)</th>\n",
       "      <th>price(원/kg)</th>\n",
       "    </tr>\n",
       "    <tr>\n",
       "      <th>item</th>\n",
       "      <th></th>\n",
       "      <th></th>\n",
       "    </tr>\n",
       "  </thead>\n",
       "  <tbody>\n",
       "    <tr>\n",
       "      <th>BC</th>\n",
       "      <td>3029.353238</td>\n",
       "      <td>2757.141436</td>\n",
       "    </tr>\n",
       "    <tr>\n",
       "      <th>CB</th>\n",
       "      <td>52842.092901</td>\n",
       "      <td>715.373457</td>\n",
       "    </tr>\n",
       "    <tr>\n",
       "      <th>CR</th>\n",
       "      <td>25880.125360</td>\n",
       "      <td>1398.521134</td>\n",
       "    </tr>\n",
       "    <tr>\n",
       "      <th>RD</th>\n",
       "      <td>83450.869950</td>\n",
       "      <td>564.184158</td>\n",
       "    </tr>\n",
       "    <tr>\n",
       "      <th>TG</th>\n",
       "      <td>18515.022701</td>\n",
       "      <td>4144.962912</td>\n",
       "    </tr>\n",
       "  </tbody>\n",
       "</table>\n",
       "</div>"
      ],
      "text/plain": [
       "        supply(kg)  price(원/kg)\n",
       "item                           \n",
       "BC     3029.353238  2757.141436\n",
       "CB    52842.092901   715.373457\n",
       "CR    25880.125360  1398.521134\n",
       "RD    83450.869950   564.184158\n",
       "TG    18515.022701  4144.962912"
      ]
     },
     "execution_count": 17,
     "metadata": {},
     "output_type": "execute_result"
    }
   ],
   "source": [
    "train[train[\"price(원/kg)\"]!=0].groupby(\"item\").mean()"
   ]
  },
  {
   "cell_type": "code",
   "execution_count": 18,
   "id": "e0d9ec1f",
   "metadata": {
    "ExecuteTime": {
     "end_time": "2023-11-09T12:28:16.409597Z",
     "start_time": "2023-11-09T12:28:16.402893Z"
    }
   },
   "outputs": [
    {
     "data": {
      "text/html": [
       "<div>\n",
       "<style scoped>\n",
       "    .dataframe tbody tr th:only-of-type {\n",
       "        vertical-align: middle;\n",
       "    }\n",
       "\n",
       "    .dataframe tbody tr th {\n",
       "        vertical-align: top;\n",
       "    }\n",
       "\n",
       "    .dataframe thead th {\n",
       "        text-align: right;\n",
       "    }\n",
       "</style>\n",
       "<table border=\"1\" class=\"dataframe\">\n",
       "  <thead>\n",
       "    <tr style=\"text-align: right;\">\n",
       "      <th></th>\n",
       "      <th>supply(kg)</th>\n",
       "      <th>price(원/kg)</th>\n",
       "    </tr>\n",
       "    <tr>\n",
       "      <th>item</th>\n",
       "      <th></th>\n",
       "      <th></th>\n",
       "    </tr>\n",
       "  </thead>\n",
       "  <tbody>\n",
       "    <tr>\n",
       "      <th>BC</th>\n",
       "      <td>1608.0</td>\n",
       "      <td>2518.0</td>\n",
       "    </tr>\n",
       "    <tr>\n",
       "      <th>CB</th>\n",
       "      <td>10140.0</td>\n",
       "      <td>619.0</td>\n",
       "    </tr>\n",
       "    <tr>\n",
       "      <th>CR</th>\n",
       "      <td>17920.0</td>\n",
       "      <td>1159.0</td>\n",
       "    </tr>\n",
       "    <tr>\n",
       "      <th>RD</th>\n",
       "      <td>16660.0</td>\n",
       "      <td>468.0</td>\n",
       "    </tr>\n",
       "    <tr>\n",
       "      <th>TG</th>\n",
       "      <td>5985.0</td>\n",
       "      <td>3847.0</td>\n",
       "    </tr>\n",
       "  </tbody>\n",
       "</table>\n",
       "</div>"
      ],
      "text/plain": [
       "      supply(kg)  price(원/kg)\n",
       "item                         \n",
       "BC        1608.0       2518.0\n",
       "CB       10140.0        619.0\n",
       "CR       17920.0       1159.0\n",
       "RD       16660.0        468.0\n",
       "TG        5985.0       3847.0"
      ]
     },
     "execution_count": 18,
     "metadata": {},
     "output_type": "execute_result"
    }
   ],
   "source": [
    "train[train[\"price(원/kg)\"]!=0].groupby(\"item\").median()"
   ]
  },
  {
   "cell_type": "code",
   "execution_count": 19,
   "id": "098ea965",
   "metadata": {
    "ExecuteTime": {
     "end_time": "2023-11-09T12:28:16.453175Z",
     "start_time": "2023-11-09T12:28:16.410611Z"
    }
   },
   "outputs": [],
   "source": [
    "#시계열 특성을 학습에 반영하기 위해 timestamp를 월, 일, 시간으로 나눕니다\n",
    "train['year'] = train['timestamp'].apply(lambda x : int(x[0:4]))\n",
    "train['month'] = train['timestamp'].apply(lambda x : int(x[5:7]))\n",
    "train['day'] = train['timestamp'].apply(lambda x : int(x[8:10]))"
   ]
  },
  {
   "cell_type": "code",
   "execution_count": 20,
   "id": "4324eb55",
   "metadata": {
    "ExecuteTime": {
     "end_time": "2023-11-09T12:28:16.464757Z",
     "start_time": "2023-11-09T12:28:16.454440Z"
    }
   },
   "outputs": [
    {
     "data": {
      "text/html": [
       "<div>\n",
       "<style scoped>\n",
       "    .dataframe tbody tr th:only-of-type {\n",
       "        vertical-align: middle;\n",
       "    }\n",
       "\n",
       "    .dataframe tbody tr th {\n",
       "        vertical-align: top;\n",
       "    }\n",
       "\n",
       "    .dataframe thead th {\n",
       "        text-align: right;\n",
       "    }\n",
       "</style>\n",
       "<table border=\"1\" class=\"dataframe\">\n",
       "  <thead>\n",
       "    <tr style=\"text-align: right;\">\n",
       "      <th></th>\n",
       "      <th>supply(kg)</th>\n",
       "      <th>price(원/kg)</th>\n",
       "      <th>month</th>\n",
       "      <th>day</th>\n",
       "    </tr>\n",
       "    <tr>\n",
       "      <th>year</th>\n",
       "      <th></th>\n",
       "      <th></th>\n",
       "      <th></th>\n",
       "      <th></th>\n",
       "    </tr>\n",
       "  </thead>\n",
       "  <tbody>\n",
       "    <tr>\n",
       "      <th>2019</th>\n",
       "      <td>7536.5</td>\n",
       "      <td>1904.5</td>\n",
       "      <td>4.0</td>\n",
       "      <td>16.0</td>\n",
       "    </tr>\n",
       "    <tr>\n",
       "      <th>2020</th>\n",
       "      <td>6277.5</td>\n",
       "      <td>2050.0</td>\n",
       "      <td>4.0</td>\n",
       "      <td>16.0</td>\n",
       "    </tr>\n",
       "    <tr>\n",
       "      <th>2021</th>\n",
       "      <td>7552.0</td>\n",
       "      <td>1874.5</td>\n",
       "      <td>4.0</td>\n",
       "      <td>16.0</td>\n",
       "    </tr>\n",
       "    <tr>\n",
       "      <th>2022</th>\n",
       "      <td>5880.0</td>\n",
       "      <td>2278.0</td>\n",
       "      <td>5.0</td>\n",
       "      <td>16.0</td>\n",
       "    </tr>\n",
       "    <tr>\n",
       "      <th>2023</th>\n",
       "      <td>11571.0</td>\n",
       "      <td>2088.0</td>\n",
       "      <td>2.0</td>\n",
       "      <td>14.0</td>\n",
       "    </tr>\n",
       "  </tbody>\n",
       "</table>\n",
       "</div>"
      ],
      "text/plain": [
       "      supply(kg)  price(원/kg)  month   day\n",
       "year                                      \n",
       "2019      7536.5       1904.5    4.0  16.0\n",
       "2020      6277.5       2050.0    4.0  16.0\n",
       "2021      7552.0       1874.5    4.0  16.0\n",
       "2022      5880.0       2278.0    5.0  16.0\n",
       "2023     11571.0       2088.0    2.0  14.0"
      ]
     },
     "execution_count": 20,
     "metadata": {},
     "output_type": "execute_result"
    }
   ],
   "source": [
    "train[train[\"price(원/kg)\"]!=0].groupby(\"year\").median()"
   ]
  },
  {
   "cell_type": "code",
   "execution_count": 21,
   "id": "dfed921e",
   "metadata": {
    "ExecuteTime": {
     "end_time": "2023-11-09T12:28:16.473105Z",
     "start_time": "2023-11-09T12:28:16.466425Z"
    }
   },
   "outputs": [],
   "source": [
    "grouped_prices = train[train[\"price(원/kg)\"]!=0].groupby([\"year\", \"item\"]).median()[\"price(원/kg)\"]"
   ]
  },
  {
   "cell_type": "code",
   "execution_count": 22,
   "id": "88912451",
   "metadata": {
    "ExecuteTime": {
     "end_time": "2023-11-09T12:28:16.480856Z",
     "start_time": "2023-11-09T12:28:16.474404Z"
    }
   },
   "outputs": [],
   "source": [
    "names = list(( train[train[\"price(원/kg)\"]!=0].groupby([\"year\", \"item\"]).median()[\"price(원/kg)\"].index))"
   ]
  },
  {
   "cell_type": "code",
   "execution_count": 23,
   "id": "165c82e3",
   "metadata": {
    "ExecuteTime": {
     "end_time": "2023-11-09T12:28:16.762219Z",
     "start_time": "2023-11-09T12:28:16.481896Z"
    }
   },
   "outputs": [
    {
     "data": {
      "image/png": "[encoded data removed]",
      "text/plain": [
       "<Figure size 1400x500 with 5 Axes>"
      ]
     },
     "metadata": {},
     "output_type": "display_data"
    }
   ],
   "source": [
    "fi, axes = plt.subplots(1, 5, figsize=(14, 5))\n",
    "years = [2019, 2020, 2021, 2022, 2023]\n",
    "axes.flatten()\n",
    "for i in range(5):\n",
    "    axes[i].set_title(years[i])\n",
    "    axes[i].bar(range(5), grouped_prices[years[i]])\n",
    "    axes[i].set_xticks(range(5), [y for x, y in names[i*5:i*5+5]])"
   ]
  },
  {
   "cell_type": "code",
   "execution_count": 24,
   "id": "c2810431",
   "metadata": {
    "ExecuteTime": {
     "end_time": "2023-11-09T12:28:16.767377Z",
     "start_time": "2023-11-09T12:28:16.764091Z"
    }
   },
   "outputs": [],
   "source": [
    "reset_group = grouped_prices.reset_index()"
   ]
  },
  {
   "cell_type": "code",
   "execution_count": 25,
   "id": "c399e881",
   "metadata": {
    "ExecuteTime": {
     "end_time": "2023-11-09T12:28:17.041509Z",
     "start_time": "2023-11-09T12:28:16.768550Z"
    }
   },
   "outputs": [
    {
     "data": {
      "image/png": "[encoded data removed]",
      "text/plain": [
       "<Figure size 1400x500 with 5 Axes>"
      ]
     },
     "metadata": {},
     "output_type": "display_data"
    }
   ],
   "source": [
    "fi, axes = plt.subplots(1, 5, figsize=(14, 5))\n",
    "fruits = [\"BC\", \"CB\",\"CR\",\"RD\",\"TG\"]\n",
    "axes.flatten()\n",
    "for i in range(5):\n",
    "    axes[i].set_title(fruits[i])\n",
    "    axes[i].bar(range(5), reset_group[reset_group[\"item\"]==fruits[i]][\"price(원/kg)\"])\n",
    "    axes[i].set_xticks(range(5), years, rotation=45)    "
   ]
  },
  {
   "cell_type": "markdown",
   "id": "a15ec47f",
   "metadata": {},
   "source": [
    "### price(corporation, location)"
   ]
  },
  {
   "cell_type": "code",
   "execution_count": 31,
   "id": "46df5abd",
   "metadata": {
    "ExecuteTime": {
     "end_time": "2023-11-09T12:33:30.580001Z",
     "start_time": "2023-11-09T12:33:30.573491Z"
    }
   },
   "outputs": [],
   "source": [
    "nonzero_train = train[train[\"price(원/kg)\"]!=0]"
   ]
  },
  {
   "cell_type": "code",
   "execution_count": 49,
   "id": "93f76a0b",
   "metadata": {
    "ExecuteTime": {
     "end_time": "2023-11-09T12:37:24.648509Z",
     "start_time": "2023-11-09T12:37:24.640211Z"
    }
   },
   "outputs": [],
   "source": [
    "corps = list(nonzero_train.groupby(\"corporation\").median().index)"
   ]
  },
  {
   "cell_type": "code",
   "execution_count": 50,
   "id": "295d193c",
   "metadata": {
    "ExecuteTime": {
     "end_time": "2023-11-09T12:37:25.007955Z",
     "start_time": "2023-11-09T12:37:24.934869Z"
    }
   },
   "outputs": [
    {
     "data": {
      "text/plain": [
       "([<matplotlib.axis.XTick at 0x7f6a7f0343a0>,\n",
       "  <matplotlib.axis.XTick at 0x7f6a7f034370>,\n",
       "  <matplotlib.axis.XTick at 0x7f6a7f032af0>,\n",
       "  <matplotlib.axis.XTick at 0x7f6a7f054d30>,\n",
       "  <matplotlib.axis.XTick at 0x7f6a7f05f910>,\n",
       "  <matplotlib.axis.XTick at 0x7f6a7f064400>],\n",
       " [Text(0, 0, 'A'),\n",
       "  Text(1, 0, 'B'),\n",
       "  Text(2, 0, 'C'),\n",
       "  Text(3, 0, 'D'),\n",
       "  Text(4, 0, 'E'),\n",
       "  Text(5, 0, 'F')])"
      ]
     },
     "execution_count": 50,
     "metadata": {},
     "output_type": "execute_result"
    },
    {
     "data": {
      "image/png": "[encoded data removed]",
      "text/plain": [
       "<Figure size 640x480 with 1 Axes>"
      ]
     },
     "metadata": {},
     "output_type": "display_data"
    }
   ],
   "source": [
    "plt.bar(range(6), nonzero_train.groupby(\"corporation\").median()[\"price(원/kg)\"])\n",
    "plt.xticks(range(6), corps)"
   ]
  },
  {
   "cell_type": "code",
   "execution_count": 51,
   "id": "3d929c9e",
   "metadata": {
    "ExecuteTime": {
     "end_time": "2023-11-09T12:37:27.858080Z",
     "start_time": "2023-11-09T12:37:27.850661Z"
    }
   },
   "outputs": [],
   "source": [
    "locs = list(nonzero_train.groupby(\"location\").median().index)"
   ]
  },
  {
   "cell_type": "code",
   "execution_count": 54,
   "id": "b8c12d64",
   "metadata": {
    "ExecuteTime": {
     "end_time": "2023-11-09T12:37:43.204007Z",
     "start_time": "2023-11-09T12:37:43.156601Z"
    }
   },
   "outputs": [
    {
     "data": {
      "text/plain": [
       "([<matplotlib.axis.XTick at 0x7f6a7ef42730>,\n",
       "  <matplotlib.axis.XTick at 0x7f6a7ef0aa00>],\n",
       " [Text(0, 0, 'J'), Text(1, 0, 'S')])"
      ]
     },
     "execution_count": 54,
     "metadata": {},
     "output_type": "execute_result"
    },
    {
     "data": {
      "image/png": "[encoded data removed]",
      "text/plain": [
       "<Figure size 640x480 with 1 Axes>"
      ]
     },
     "metadata": {},
     "output_type": "display_data"
    }
   ],
   "source": [
    "plt.bar(range(2), nonzero_train.groupby(\"location\").median()[\"price(원/kg)\"])\n",
    "plt.xticks(range(2), locs)"
   ]
  },
  {
   "cell_type": "code",
   "execution_count": 59,
   "id": "ffdf7857",
   "metadata": {
    "ExecuteTime": {
     "end_time": "2023-11-09T12:40:21.948011Z",
     "start_time": "2023-11-09T12:40:21.920038Z"
    }
   },
   "outputs": [
    {
     "data": {
      "text/html": [
       "<div>\n",
       "<style scoped>\n",
       "    .dataframe tbody tr th:only-of-type {\n",
       "        vertical-align: middle;\n",
       "    }\n",
       "\n",
       "    .dataframe tbody tr th {\n",
       "        vertical-align: top;\n",
       "    }\n",
       "\n",
       "    .dataframe thead th {\n",
       "        text-align: right;\n",
       "    }\n",
       "</style>\n",
       "<table border=\"1\" class=\"dataframe\">\n",
       "  <thead>\n",
       "    <tr style=\"text-align: right;\">\n",
       "      <th></th>\n",
       "      <th>ID</th>\n",
       "      <th>timestamp</th>\n",
       "      <th>item</th>\n",
       "      <th>corporation</th>\n",
       "      <th>location</th>\n",
       "      <th>supply(kg)</th>\n",
       "      <th>price(원/kg)</th>\n",
       "      <th>year</th>\n",
       "      <th>month</th>\n",
       "      <th>day</th>\n",
       "    </tr>\n",
       "  </thead>\n",
       "  <tbody>\n",
       "    <tr>\n",
       "      <th>count</th>\n",
       "      <td>1388</td>\n",
       "      <td>1388</td>\n",
       "      <td>1388</td>\n",
       "      <td>1388</td>\n",
       "      <td>1388</td>\n",
       "      <td>1.388000e+03</td>\n",
       "      <td>1388.000000</td>\n",
       "      <td>1388.000000</td>\n",
       "      <td>1388.000000</td>\n",
       "      <td>1388.000000</td>\n",
       "    </tr>\n",
       "    <tr>\n",
       "      <th>unique</th>\n",
       "      <td>1388</td>\n",
       "      <td>807</td>\n",
       "      <td>2</td>\n",
       "      <td>1</td>\n",
       "      <td>1</td>\n",
       "      <td>NaN</td>\n",
       "      <td>NaN</td>\n",
       "      <td>NaN</td>\n",
       "      <td>NaN</td>\n",
       "      <td>NaN</td>\n",
       "    </tr>\n",
       "    <tr>\n",
       "      <th>top</th>\n",
       "      <td>CB_F_J_20190103</td>\n",
       "      <td>2019-01-03</td>\n",
       "      <td>RD</td>\n",
       "      <td>F</td>\n",
       "      <td>J</td>\n",
       "      <td>NaN</td>\n",
       "      <td>NaN</td>\n",
       "      <td>NaN</td>\n",
       "      <td>NaN</td>\n",
       "      <td>NaN</td>\n",
       "    </tr>\n",
       "    <tr>\n",
       "      <th>freq</th>\n",
       "      <td>1</td>\n",
       "      <td>2</td>\n",
       "      <td>803</td>\n",
       "      <td>1388</td>\n",
       "      <td>1388</td>\n",
       "      <td>NaN</td>\n",
       "      <td>NaN</td>\n",
       "      <td>NaN</td>\n",
       "      <td>NaN</td>\n",
       "      <td>NaN</td>\n",
       "    </tr>\n",
       "    <tr>\n",
       "      <th>mean</th>\n",
       "      <td>NaN</td>\n",
       "      <td>NaN</td>\n",
       "      <td>NaN</td>\n",
       "      <td>NaN</td>\n",
       "      <td>NaN</td>\n",
       "      <td>2.606437e+05</td>\n",
       "      <td>568.649135</td>\n",
       "      <td>2020.739193</td>\n",
       "      <td>4.304035</td>\n",
       "      <td>15.871758</td>\n",
       "    </tr>\n",
       "    <tr>\n",
       "      <th>std</th>\n",
       "      <td>NaN</td>\n",
       "      <td>NaN</td>\n",
       "      <td>NaN</td>\n",
       "      <td>NaN</td>\n",
       "      <td>NaN</td>\n",
       "      <td>2.062395e+05</td>\n",
       "      <td>300.575229</td>\n",
       "      <td>1.241434</td>\n",
       "      <td>3.181337</td>\n",
       "      <td>8.740642</td>\n",
       "    </tr>\n",
       "    <tr>\n",
       "      <th>min</th>\n",
       "      <td>NaN</td>\n",
       "      <td>NaN</td>\n",
       "      <td>NaN</td>\n",
       "      <td>NaN</td>\n",
       "      <td>NaN</td>\n",
       "      <td>3.840000e+03</td>\n",
       "      <td>50.000000</td>\n",
       "      <td>2019.000000</td>\n",
       "      <td>1.000000</td>\n",
       "      <td>1.000000</td>\n",
       "    </tr>\n",
       "    <tr>\n",
       "      <th>25%</th>\n",
       "      <td>NaN</td>\n",
       "      <td>NaN</td>\n",
       "      <td>NaN</td>\n",
       "      <td>NaN</td>\n",
       "      <td>NaN</td>\n",
       "      <td>9.319700e+04</td>\n",
       "      <td>378.000000</td>\n",
       "      <td>2020.000000</td>\n",
       "      <td>2.000000</td>\n",
       "      <td>8.000000</td>\n",
       "    </tr>\n",
       "    <tr>\n",
       "      <th>50%</th>\n",
       "      <td>NaN</td>\n",
       "      <td>NaN</td>\n",
       "      <td>NaN</td>\n",
       "      <td>NaN</td>\n",
       "      <td>NaN</td>\n",
       "      <td>2.208140e+05</td>\n",
       "      <td>472.000000</td>\n",
       "      <td>2021.000000</td>\n",
       "      <td>4.000000</td>\n",
       "      <td>16.000000</td>\n",
       "    </tr>\n",
       "    <tr>\n",
       "      <th>75%</th>\n",
       "      <td>NaN</td>\n",
       "      <td>NaN</td>\n",
       "      <td>NaN</td>\n",
       "      <td>NaN</td>\n",
       "      <td>NaN</td>\n",
       "      <td>3.928600e+05</td>\n",
       "      <td>652.250000</td>\n",
       "      <td>2022.000000</td>\n",
       "      <td>5.000000</td>\n",
       "      <td>23.000000</td>\n",
       "    </tr>\n",
       "    <tr>\n",
       "      <th>max</th>\n",
       "      <td>NaN</td>\n",
       "      <td>NaN</td>\n",
       "      <td>NaN</td>\n",
       "      <td>NaN</td>\n",
       "      <td>NaN</td>\n",
       "      <td>1.222800e+06</td>\n",
       "      <td>2189.000000</td>\n",
       "      <td>2023.000000</td>\n",
       "      <td>12.000000</td>\n",
       "      <td>31.000000</td>\n",
       "    </tr>\n",
       "  </tbody>\n",
       "</table>\n",
       "</div>"
      ],
      "text/plain": [
       "                     ID   timestamp  item corporation location    supply(kg)  \\\n",
       "count              1388        1388  1388        1388     1388  1.388000e+03   \n",
       "unique             1388         807     2           1        1           NaN   \n",
       "top     CB_F_J_20190103  2019-01-03    RD           F        J           NaN   \n",
       "freq                  1           2   803        1388     1388           NaN   \n",
       "mean                NaN         NaN   NaN         NaN      NaN  2.606437e+05   \n",
       "std                 NaN         NaN   NaN         NaN      NaN  2.062395e+05   \n",
       "min                 NaN         NaN   NaN         NaN      NaN  3.840000e+03   \n",
       "25%                 NaN         NaN   NaN         NaN      NaN  9.319700e+04   \n",
       "50%                 NaN         NaN   NaN         NaN      NaN  2.208140e+05   \n",
       "75%                 NaN         NaN   NaN         NaN      NaN  3.928600e+05   \n",
       "max                 NaN         NaN   NaN         NaN      NaN  1.222800e+06   \n",
       "\n",
       "        price(원/kg)         year        month          day  \n",
       "count   1388.000000  1388.000000  1388.000000  1388.000000  \n",
       "unique          NaN          NaN          NaN          NaN  \n",
       "top             NaN          NaN          NaN          NaN  \n",
       "freq            NaN          NaN          NaN          NaN  \n",
       "mean     568.649135  2020.739193     4.304035    15.871758  \n",
       "std      300.575229     1.241434     3.181337     8.740642  \n",
       "min       50.000000  2019.000000     1.000000     1.000000  \n",
       "25%      378.000000  2020.000000     2.000000     8.000000  \n",
       "50%      472.000000  2021.000000     4.000000    16.000000  \n",
       "75%      652.250000  2022.000000     5.000000    23.000000  \n",
       "max     2189.000000  2023.000000    12.000000    31.000000  "
      ]
     },
     "execution_count": 59,
     "metadata": {},
     "output_type": "execute_result"
    }
   ],
   "source": [
    "nonzero_train[nonzero_train[\"corporation\"]==\"F\"].describe(include=\"all\")"
   ]
  },
  {
   "cell_type": "markdown",
   "id": "cbb35f36",
   "metadata": {},
   "source": [
    "corporation\"F\"의 모든 상품은 모두 location\"J\"에서 생산or유통됨 또한 생산품목도 2개뿐임"
   ]
  },
  {
   "cell_type": "code",
   "execution_count": 60,
   "id": "5e042c72",
   "metadata": {
    "ExecuteTime": {
     "end_time": "2023-11-09T12:41:58.767663Z",
     "start_time": "2023-11-09T12:41:58.735894Z"
    }
   },
   "outputs": [
    {
     "data": {
      "text/html": [
       "<div>\n",
       "<style scoped>\n",
       "    .dataframe tbody tr th:only-of-type {\n",
       "        vertical-align: middle;\n",
       "    }\n",
       "\n",
       "    .dataframe tbody tr th {\n",
       "        vertical-align: top;\n",
       "    }\n",
       "\n",
       "    .dataframe thead th {\n",
       "        text-align: right;\n",
       "    }\n",
       "</style>\n",
       "<table border=\"1\" class=\"dataframe\">\n",
       "  <thead>\n",
       "    <tr style=\"text-align: right;\">\n",
       "      <th></th>\n",
       "      <th>ID</th>\n",
       "      <th>timestamp</th>\n",
       "      <th>item</th>\n",
       "      <th>corporation</th>\n",
       "      <th>location</th>\n",
       "      <th>supply(kg)</th>\n",
       "      <th>price(원/kg)</th>\n",
       "      <th>year</th>\n",
       "      <th>month</th>\n",
       "      <th>day</th>\n",
       "    </tr>\n",
       "  </thead>\n",
       "  <tbody>\n",
       "    <tr>\n",
       "      <th>count</th>\n",
       "      <td>22554</td>\n",
       "      <td>22554</td>\n",
       "      <td>22554</td>\n",
       "      <td>22554</td>\n",
       "      <td>22554</td>\n",
       "      <td>22554.000000</td>\n",
       "      <td>22554.000000</td>\n",
       "      <td>22554.000000</td>\n",
       "      <td>22554.000000</td>\n",
       "      <td>22554.000000</td>\n",
       "    </tr>\n",
       "    <tr>\n",
       "      <th>unique</th>\n",
       "      <td>22554</td>\n",
       "      <td>1271</td>\n",
       "      <td>5</td>\n",
       "      <td>5</td>\n",
       "      <td>2</td>\n",
       "      <td>NaN</td>\n",
       "      <td>NaN</td>\n",
       "      <td>NaN</td>\n",
       "      <td>NaN</td>\n",
       "      <td>NaN</td>\n",
       "    </tr>\n",
       "    <tr>\n",
       "      <th>top</th>\n",
       "      <td>TG_A_J_20190103</td>\n",
       "      <td>2019-03-18</td>\n",
       "      <td>TG</td>\n",
       "      <td>A</td>\n",
       "      <td>J</td>\n",
       "      <td>NaN</td>\n",
       "      <td>NaN</td>\n",
       "      <td>NaN</td>\n",
       "      <td>NaN</td>\n",
       "      <td>NaN</td>\n",
       "    </tr>\n",
       "    <tr>\n",
       "      <th>freq</th>\n",
       "      <td>1</td>\n",
       "      <td>33</td>\n",
       "      <td>11675</td>\n",
       "      <td>5809</td>\n",
       "      <td>13539</td>\n",
       "      <td>NaN</td>\n",
       "      <td>NaN</td>\n",
       "      <td>NaN</td>\n",
       "      <td>NaN</td>\n",
       "      <td>NaN</td>\n",
       "    </tr>\n",
       "    <tr>\n",
       "      <th>mean</th>\n",
       "      <td>NaN</td>\n",
       "      <td>NaN</td>\n",
       "      <td>NaN</td>\n",
       "      <td>NaN</td>\n",
       "      <td>NaN</td>\n",
       "      <td>15284.447350</td>\n",
       "      <td>2945.337944</td>\n",
       "      <td>2020.680722</td>\n",
       "      <td>5.493970</td>\n",
       "      <td>15.780926</td>\n",
       "    </tr>\n",
       "    <tr>\n",
       "      <th>std</th>\n",
       "      <td>NaN</td>\n",
       "      <td>NaN</td>\n",
       "      <td>NaN</td>\n",
       "      <td>NaN</td>\n",
       "      <td>NaN</td>\n",
       "      <td>23149.962225</td>\n",
       "      <td>2350.389428</td>\n",
       "      <td>1.230206</td>\n",
       "      <td>3.793217</td>\n",
       "      <td>8.700612</td>\n",
       "    </tr>\n",
       "    <tr>\n",
       "      <th>min</th>\n",
       "      <td>NaN</td>\n",
       "      <td>NaN</td>\n",
       "      <td>NaN</td>\n",
       "      <td>NaN</td>\n",
       "      <td>NaN</td>\n",
       "      <td>6.000000</td>\n",
       "      <td>60.000000</td>\n",
       "      <td>2019.000000</td>\n",
       "      <td>1.000000</td>\n",
       "      <td>1.000000</td>\n",
       "    </tr>\n",
       "    <tr>\n",
       "      <th>25%</th>\n",
       "      <td>NaN</td>\n",
       "      <td>NaN</td>\n",
       "      <td>NaN</td>\n",
       "      <td>NaN</td>\n",
       "      <td>NaN</td>\n",
       "      <td>1365.000000</td>\n",
       "      <td>1156.000000</td>\n",
       "      <td>2020.000000</td>\n",
       "      <td>2.000000</td>\n",
       "      <td>8.000000</td>\n",
       "    </tr>\n",
       "    <tr>\n",
       "      <th>50%</th>\n",
       "      <td>NaN</td>\n",
       "      <td>NaN</td>\n",
       "      <td>NaN</td>\n",
       "      <td>NaN</td>\n",
       "      <td>NaN</td>\n",
       "      <td>6032.000000</td>\n",
       "      <td>2165.000000</td>\n",
       "      <td>2021.000000</td>\n",
       "      <td>4.000000</td>\n",
       "      <td>16.000000</td>\n",
       "    </tr>\n",
       "    <tr>\n",
       "      <th>75%</th>\n",
       "      <td>NaN</td>\n",
       "      <td>NaN</td>\n",
       "      <td>NaN</td>\n",
       "      <td>NaN</td>\n",
       "      <td>NaN</td>\n",
       "      <td>19334.350000</td>\n",
       "      <td>4420.750000</td>\n",
       "      <td>2022.000000</td>\n",
       "      <td>9.000000</td>\n",
       "      <td>23.000000</td>\n",
       "    </tr>\n",
       "    <tr>\n",
       "      <th>max</th>\n",
       "      <td>NaN</td>\n",
       "      <td>NaN</td>\n",
       "      <td>NaN</td>\n",
       "      <td>NaN</td>\n",
       "      <td>NaN</td>\n",
       "      <td>271156.000000</td>\n",
       "      <td>20909.000000</td>\n",
       "      <td>2023.000000</td>\n",
       "      <td>12.000000</td>\n",
       "      <td>31.000000</td>\n",
       "    </tr>\n",
       "  </tbody>\n",
       "</table>\n",
       "</div>"
      ],
      "text/plain": [
       "                     ID   timestamp   item corporation location  \\\n",
       "count             22554       22554  22554       22554    22554   \n",
       "unique            22554        1271      5           5        2   \n",
       "top     TG_A_J_20190103  2019-03-18     TG           A        J   \n",
       "freq                  1          33  11675        5809    13539   \n",
       "mean                NaN         NaN    NaN         NaN      NaN   \n",
       "std                 NaN         NaN    NaN         NaN      NaN   \n",
       "min                 NaN         NaN    NaN         NaN      NaN   \n",
       "25%                 NaN         NaN    NaN         NaN      NaN   \n",
       "50%                 NaN         NaN    NaN         NaN      NaN   \n",
       "75%                 NaN         NaN    NaN         NaN      NaN   \n",
       "max                 NaN         NaN    NaN         NaN      NaN   \n",
       "\n",
       "           supply(kg)   price(원/kg)          year         month           day  \n",
       "count    22554.000000  22554.000000  22554.000000  22554.000000  22554.000000  \n",
       "unique            NaN           NaN           NaN           NaN           NaN  \n",
       "top               NaN           NaN           NaN           NaN           NaN  \n",
       "freq              NaN           NaN           NaN           NaN           NaN  \n",
       "mean     15284.447350   2945.337944   2020.680722      5.493970     15.780926  \n",
       "std      23149.962225   2350.389428      1.230206      3.793217      8.700612  \n",
       "min          6.000000     60.000000   2019.000000      1.000000      1.000000  \n",
       "25%       1365.000000   1156.000000   2020.000000      2.000000      8.000000  \n",
       "50%       6032.000000   2165.000000   2021.000000      4.000000     16.000000  \n",
       "75%      19334.350000   4420.750000   2022.000000      9.000000     23.000000  \n",
       "max     271156.000000  20909.000000   2023.000000     12.000000     31.000000  "
      ]
     },
     "execution_count": 60,
     "metadata": {},
     "output_type": "execute_result"
    }
   ],
   "source": [
    "nonzero_train[nonzero_train[\"corporation\"]!=\"F\"].describe(include=\"all\")"
   ]
  },
  {
   "cell_type": "code",
   "execution_count": 62,
   "id": "f7b893d5",
   "metadata": {
    "ExecuteTime": {
     "end_time": "2023-11-09T12:44:29.280625Z",
     "start_time": "2023-11-09T12:44:29.270847Z"
    }
   },
   "outputs": [
    {
     "data": {
      "text/plain": [
       "RD    803\n",
       "CB    585\n",
       "Name: item, dtype: int64"
      ]
     },
     "execution_count": 62,
     "metadata": {},
     "output_type": "execute_result"
    }
   ],
   "source": [
    "nonzero_train[nonzero_train[\"corporation\"]==\"F\"][\"item\"].value_counts()"
   ]
  },
  {
   "cell_type": "code",
   "execution_count": 63,
   "id": "3be36d6f",
   "metadata": {
    "ExecuteTime": {
     "end_time": "2023-11-09T12:44:48.063181Z",
     "start_time": "2023-11-09T12:44:48.055740Z"
    }
   },
   "outputs": [
    {
     "data": {
      "text/plain": [
       "TG    11675\n",
       "BC     4525\n",
       "RD     4040\n",
       "CR     2082\n",
       "CB     1620\n",
       "Name: item, dtype: int64"
      ]
     },
     "execution_count": 63,
     "metadata": {},
     "output_type": "execute_result"
    }
   ],
   "source": [
    "nonzero_train[\"item\"].value_counts()"
   ]
  },
  {
   "cell_type": "code",
   "execution_count": 75,
   "id": "1f60f182",
   "metadata": {
    "ExecuteTime": {
     "end_time": "2023-11-09T12:49:41.172917Z",
     "start_time": "2023-11-09T12:49:41.160051Z"
    }
   },
   "outputs": [
    {
     "data": {
      "text/html": [
       "<div>\n",
       "<style scoped>\n",
       "    .dataframe tbody tr th:only-of-type {\n",
       "        vertical-align: middle;\n",
       "    }\n",
       "\n",
       "    .dataframe tbody tr th {\n",
       "        vertical-align: top;\n",
       "    }\n",
       "\n",
       "    .dataframe thead th {\n",
       "        text-align: right;\n",
       "    }\n",
       "</style>\n",
       "<table border=\"1\" class=\"dataframe\">\n",
       "  <thead>\n",
       "    <tr style=\"text-align: right;\">\n",
       "      <th></th>\n",
       "      <th>supply(kg)</th>\n",
       "      <th>price(원/kg)</th>\n",
       "      <th>year</th>\n",
       "      <th>month</th>\n",
       "      <th>day</th>\n",
       "    </tr>\n",
       "  </thead>\n",
       "  <tbody>\n",
       "    <tr>\n",
       "      <th>count</th>\n",
       "      <td>1.492700e+04</td>\n",
       "      <td>14927.000000</td>\n",
       "      <td>14927.000000</td>\n",
       "      <td>14927.000000</td>\n",
       "      <td>14927.000000</td>\n",
       "    </tr>\n",
       "    <tr>\n",
       "      <th>mean</th>\n",
       "      <td>3.527624e+04</td>\n",
       "      <td>2493.006632</td>\n",
       "      <td>2020.719703</td>\n",
       "      <td>5.247739</td>\n",
       "      <td>15.778790</td>\n",
       "    </tr>\n",
       "    <tr>\n",
       "      <th>std</th>\n",
       "      <td>9.721628e+04</td>\n",
       "      <td>2332.424268</td>\n",
       "      <td>1.232386</td>\n",
       "      <td>3.809935</td>\n",
       "      <td>8.688991</td>\n",
       "    </tr>\n",
       "    <tr>\n",
       "      <th>min</th>\n",
       "      <td>8.000000e+00</td>\n",
       "      <td>50.000000</td>\n",
       "      <td>2019.000000</td>\n",
       "      <td>1.000000</td>\n",
       "      <td>1.000000</td>\n",
       "    </tr>\n",
       "    <tr>\n",
       "      <th>25%</th>\n",
       "      <td>1.066500e+03</td>\n",
       "      <td>838.000000</td>\n",
       "      <td>2020.000000</td>\n",
       "      <td>2.000000</td>\n",
       "      <td>8.000000</td>\n",
       "    </tr>\n",
       "    <tr>\n",
       "      <th>50%</th>\n",
       "      <td>6.926000e+03</td>\n",
       "      <td>1701.000000</td>\n",
       "      <td>2021.000000</td>\n",
       "      <td>4.000000</td>\n",
       "      <td>16.000000</td>\n",
       "    </tr>\n",
       "    <tr>\n",
       "      <th>75%</th>\n",
       "      <td>2.140000e+04</td>\n",
       "      <td>3227.000000</td>\n",
       "      <td>2022.000000</td>\n",
       "      <td>9.000000</td>\n",
       "      <td>23.000000</td>\n",
       "    </tr>\n",
       "    <tr>\n",
       "      <th>max</th>\n",
       "      <td>1.222800e+06</td>\n",
       "      <td>20909.000000</td>\n",
       "      <td>2023.000000</td>\n",
       "      <td>12.000000</td>\n",
       "      <td>31.000000</td>\n",
       "    </tr>\n",
       "  </tbody>\n",
       "</table>\n",
       "</div>"
      ],
      "text/plain": [
       "         supply(kg)   price(원/kg)          year         month           day\n",
       "count  1.492700e+04  14927.000000  14927.000000  14927.000000  14927.000000\n",
       "mean   3.527624e+04   2493.006632   2020.719703      5.247739     15.778790\n",
       "std    9.721628e+04   2332.424268      1.232386      3.809935      8.688991\n",
       "min    8.000000e+00     50.000000   2019.000000      1.000000      1.000000\n",
       "25%    1.066500e+03    838.000000   2020.000000      2.000000      8.000000\n",
       "50%    6.926000e+03   1701.000000   2021.000000      4.000000     16.000000\n",
       "75%    2.140000e+04   3227.000000   2022.000000      9.000000     23.000000\n",
       "max    1.222800e+06  20909.000000   2023.000000     12.000000     31.000000"
      ]
     },
     "execution_count": 75,
     "metadata": {},
     "output_type": "execute_result"
    }
   ],
   "source": [
    "nonzero_train[nonzero_train[\"location\"]==\"J\"].describe()"
   ]
  },
  {
   "cell_type": "code",
   "execution_count": 76,
   "id": "bacfae18",
   "metadata": {
    "ExecuteTime": {
     "end_time": "2023-11-09T12:49:46.185466Z",
     "start_time": "2023-11-09T12:49:46.164575Z"
    }
   },
   "outputs": [
    {
     "data": {
      "text/html": [
       "<div>\n",
       "<style scoped>\n",
       "    .dataframe tbody tr th:only-of-type {\n",
       "        vertical-align: middle;\n",
       "    }\n",
       "\n",
       "    .dataframe tbody tr th {\n",
       "        vertical-align: top;\n",
       "    }\n",
       "\n",
       "    .dataframe thead th {\n",
       "        text-align: right;\n",
       "    }\n",
       "</style>\n",
       "<table border=\"1\" class=\"dataframe\">\n",
       "  <thead>\n",
       "    <tr style=\"text-align: right;\">\n",
       "      <th></th>\n",
       "      <th>supply(kg)</th>\n",
       "      <th>price(원/kg)</th>\n",
       "      <th>year</th>\n",
       "      <th>month</th>\n",
       "      <th>day</th>\n",
       "    </tr>\n",
       "  </thead>\n",
       "  <tbody>\n",
       "    <tr>\n",
       "      <th>count</th>\n",
       "      <td>9015.000000</td>\n",
       "      <td>9015.000000</td>\n",
       "      <td>9015.00000</td>\n",
       "      <td>9015.000000</td>\n",
       "      <td>9015.000000</td>\n",
       "    </tr>\n",
       "    <tr>\n",
       "      <th>mean</th>\n",
       "      <td>19958.995868</td>\n",
       "      <td>3328.377926</td>\n",
       "      <td>2020.62518</td>\n",
       "      <td>5.718469</td>\n",
       "      <td>15.798447</td>\n",
       "    </tr>\n",
       "    <tr>\n",
       "      <th>std</th>\n",
       "      <td>28677.075542</td>\n",
       "      <td>2282.922845</td>\n",
       "      <td>1.22626</td>\n",
       "      <td>3.686269</td>\n",
       "      <td>8.726032</td>\n",
       "    </tr>\n",
       "    <tr>\n",
       "      <th>min</th>\n",
       "      <td>6.000000</td>\n",
       "      <td>60.000000</td>\n",
       "      <td>2019.00000</td>\n",
       "      <td>1.000000</td>\n",
       "      <td>1.000000</td>\n",
       "    </tr>\n",
       "    <tr>\n",
       "      <th>25%</th>\n",
       "      <td>2250.500000</td>\n",
       "      <td>1516.000000</td>\n",
       "      <td>2020.00000</td>\n",
       "      <td>2.000000</td>\n",
       "      <td>8.000000</td>\n",
       "    </tr>\n",
       "    <tr>\n",
       "      <th>50%</th>\n",
       "      <td>7397.000000</td>\n",
       "      <td>2741.000000</td>\n",
       "      <td>2021.00000</td>\n",
       "      <td>5.000000</td>\n",
       "      <td>16.000000</td>\n",
       "    </tr>\n",
       "    <tr>\n",
       "      <th>75%</th>\n",
       "      <td>27210.000000</td>\n",
       "      <td>5250.000000</td>\n",
       "      <td>2022.00000</td>\n",
       "      <td>9.000000</td>\n",
       "      <td>23.000000</td>\n",
       "    </tr>\n",
       "    <tr>\n",
       "      <th>max</th>\n",
       "      <td>271156.000000</td>\n",
       "      <td>12667.000000</td>\n",
       "      <td>2023.00000</td>\n",
       "      <td>12.000000</td>\n",
       "      <td>31.000000</td>\n",
       "    </tr>\n",
       "  </tbody>\n",
       "</table>\n",
       "</div>"
      ],
      "text/plain": [
       "          supply(kg)   price(원/kg)        year        month          day\n",
       "count    9015.000000   9015.000000  9015.00000  9015.000000  9015.000000\n",
       "mean    19958.995868   3328.377926  2020.62518     5.718469    15.798447\n",
       "std     28677.075542   2282.922845     1.22626     3.686269     8.726032\n",
       "min         6.000000     60.000000  2019.00000     1.000000     1.000000\n",
       "25%      2250.500000   1516.000000  2020.00000     2.000000     8.000000\n",
       "50%      7397.000000   2741.000000  2021.00000     5.000000    16.000000\n",
       "75%     27210.000000   5250.000000  2022.00000     9.000000    23.000000\n",
       "max    271156.000000  12667.000000  2023.00000    12.000000    31.000000"
      ]
     },
     "execution_count": 76,
     "metadata": {},
     "output_type": "execute_result"
    }
   ],
   "source": [
    "nonzero_train[nonzero_train[\"location\"]!=\"J\"].describe()"
   ]
  },
  {
   "cell_type": "code",
   "execution_count": 80,
   "id": "9f827101",
   "metadata": {
    "ExecuteTime": {
     "end_time": "2023-11-09T12:51:01.538538Z",
     "start_time": "2023-11-09T12:51:01.527107Z"
    }
   },
   "outputs": [
    {
     "data": {
      "text/plain": [
       "TG    5505\n",
       "BC    3234\n",
       "RD    2561\n",
       "CR    2046\n",
       "CB    1581\n",
       "Name: item, dtype: int64"
      ]
     },
     "execution_count": 80,
     "metadata": {},
     "output_type": "execute_result"
    }
   ],
   "source": [
    "nonzero_train[nonzero_train[\"location\"]==\"J\"][\"item\"].value_counts()"
   ]
  },
  {
   "cell_type": "code",
   "execution_count": 81,
   "id": "e9a3bfeb",
   "metadata": {
    "ExecuteTime": {
     "end_time": "2023-11-09T12:51:11.494184Z",
     "start_time": "2023-11-09T12:51:11.483504Z"
    }
   },
   "outputs": [
    {
     "data": {
      "text/plain": [
       "TG    6170\n",
       "RD    1479\n",
       "BC    1291\n",
       "CB      39\n",
       "CR      36\n",
       "Name: item, dtype: int64"
      ]
     },
     "execution_count": 81,
     "metadata": {},
     "output_type": "execute_result"
    }
   ],
   "source": [
    "nonzero_train[nonzero_train[\"location\"]==\"S\"][\"item\"].value_counts()"
   ]
  },
  {
   "cell_type": "code",
   "execution_count": 86,
   "id": "dc9ca691",
   "metadata": {
    "ExecuteTime": {
     "end_time": "2023-11-09T12:52:53.501434Z",
     "start_time": "2023-11-09T12:52:53.476260Z"
    }
   },
   "outputs": [
    {
     "data": {
      "text/html": [
       "<div>\n",
       "<style scoped>\n",
       "    .dataframe tbody tr th:only-of-type {\n",
       "        vertical-align: middle;\n",
       "    }\n",
       "\n",
       "    .dataframe tbody tr th {\n",
       "        vertical-align: top;\n",
       "    }\n",
       "\n",
       "    .dataframe thead th {\n",
       "        text-align: right;\n",
       "    }\n",
       "</style>\n",
       "<table border=\"1\" class=\"dataframe\">\n",
       "  <thead>\n",
       "    <tr style=\"text-align: right;\">\n",
       "      <th></th>\n",
       "      <th>supply(kg)</th>\n",
       "      <th>price(원/kg)</th>\n",
       "      <th>year</th>\n",
       "      <th>month</th>\n",
       "      <th>day</th>\n",
       "    </tr>\n",
       "    <tr>\n",
       "      <th>item</th>\n",
       "      <th></th>\n",
       "      <th></th>\n",
       "      <th></th>\n",
       "      <th></th>\n",
       "      <th></th>\n",
       "    </tr>\n",
       "  </thead>\n",
       "  <tbody>\n",
       "    <tr>\n",
       "      <th>BC</th>\n",
       "      <td>1672.0</td>\n",
       "      <td>2477.0</td>\n",
       "      <td>2021.0</td>\n",
       "      <td>3.0</td>\n",
       "      <td>16.0</td>\n",
       "    </tr>\n",
       "    <tr>\n",
       "      <th>CB</th>\n",
       "      <td>10372.0</td>\n",
       "      <td>636.0</td>\n",
       "      <td>2021.0</td>\n",
       "      <td>3.0</td>\n",
       "      <td>16.0</td>\n",
       "    </tr>\n",
       "    <tr>\n",
       "      <th>CR</th>\n",
       "      <td>18800.0</td>\n",
       "      <td>1164.0</td>\n",
       "      <td>2021.0</td>\n",
       "      <td>3.0</td>\n",
       "      <td>16.0</td>\n",
       "    </tr>\n",
       "    <tr>\n",
       "      <th>RD</th>\n",
       "      <td>17240.0</td>\n",
       "      <td>470.0</td>\n",
       "      <td>2021.0</td>\n",
       "      <td>4.0</td>\n",
       "      <td>15.0</td>\n",
       "    </tr>\n",
       "    <tr>\n",
       "      <th>TG</th>\n",
       "      <td>3184.0</td>\n",
       "      <td>3337.0</td>\n",
       "      <td>2021.0</td>\n",
       "      <td>7.0</td>\n",
       "      <td>16.0</td>\n",
       "    </tr>\n",
       "  </tbody>\n",
       "</table>\n",
       "</div>"
      ],
      "text/plain": [
       "      supply(kg)  price(원/kg)    year  month   day\n",
       "item                                              \n",
       "BC        1672.0       2477.0  2021.0    3.0  16.0\n",
       "CB       10372.0        636.0  2021.0    3.0  16.0\n",
       "CR       18800.0       1164.0  2021.0    3.0  16.0\n",
       "RD       17240.0        470.0  2021.0    4.0  15.0\n",
       "TG        3184.0       3337.0  2021.0    7.0  16.0"
      ]
     },
     "execution_count": 86,
     "metadata": {},
     "output_type": "execute_result"
    }
   ],
   "source": [
    "nonzero_train[nonzero_train[\"location\"]==\"J\"].groupby(\"item\").median()"
   ]
  },
  {
   "cell_type": "code",
   "execution_count": 87,
   "id": "95640330",
   "metadata": {
    "ExecuteTime": {
     "end_time": "2023-11-09T12:52:59.400411Z",
     "start_time": "2023-11-09T12:52:59.378688Z"
    }
   },
   "outputs": [
    {
     "data": {
      "text/html": [
       "<div>\n",
       "<style scoped>\n",
       "    .dataframe tbody tr th:only-of-type {\n",
       "        vertical-align: middle;\n",
       "    }\n",
       "\n",
       "    .dataframe tbody tr th {\n",
       "        vertical-align: top;\n",
       "    }\n",
       "\n",
       "    .dataframe thead th {\n",
       "        text-align: right;\n",
       "    }\n",
       "</style>\n",
       "<table border=\"1\" class=\"dataframe\">\n",
       "  <thead>\n",
       "    <tr style=\"text-align: right;\">\n",
       "      <th></th>\n",
       "      <th>supply(kg)</th>\n",
       "      <th>price(원/kg)</th>\n",
       "      <th>year</th>\n",
       "      <th>month</th>\n",
       "      <th>day</th>\n",
       "    </tr>\n",
       "    <tr>\n",
       "      <th>item</th>\n",
       "      <th></th>\n",
       "      <th></th>\n",
       "      <th></th>\n",
       "      <th></th>\n",
       "      <th></th>\n",
       "    </tr>\n",
       "  </thead>\n",
       "  <tbody>\n",
       "    <tr>\n",
       "      <th>BC</th>\n",
       "      <td>1480.0</td>\n",
       "      <td>2622.0</td>\n",
       "      <td>2021.0</td>\n",
       "      <td>3.0</td>\n",
       "      <td>16.0</td>\n",
       "    </tr>\n",
       "    <tr>\n",
       "      <th>CB</th>\n",
       "      <td>3128.0</td>\n",
       "      <td>416.0</td>\n",
       "      <td>2019.0</td>\n",
       "      <td>2.0</td>\n",
       "      <td>14.0</td>\n",
       "    </tr>\n",
       "    <tr>\n",
       "      <th>CR</th>\n",
       "      <td>10080.0</td>\n",
       "      <td>977.5</td>\n",
       "      <td>2020.0</td>\n",
       "      <td>1.5</td>\n",
       "      <td>16.5</td>\n",
       "    </tr>\n",
       "    <tr>\n",
       "      <th>RD</th>\n",
       "      <td>14880.0</td>\n",
       "      <td>464.0</td>\n",
       "      <td>2021.0</td>\n",
       "      <td>3.0</td>\n",
       "      <td>16.0</td>\n",
       "    </tr>\n",
       "    <tr>\n",
       "      <th>TG</th>\n",
       "      <td>9260.0</td>\n",
       "      <td>4163.5</td>\n",
       "      <td>2021.0</td>\n",
       "      <td>6.0</td>\n",
       "      <td>16.0</td>\n",
       "    </tr>\n",
       "  </tbody>\n",
       "</table>\n",
       "</div>"
      ],
      "text/plain": [
       "      supply(kg)  price(원/kg)    year  month   day\n",
       "item                                              \n",
       "BC        1480.0       2622.0  2021.0    3.0  16.0\n",
       "CB        3128.0        416.0  2019.0    2.0  14.0\n",
       "CR       10080.0        977.5  2020.0    1.5  16.5\n",
       "RD       14880.0        464.0  2021.0    3.0  16.0\n",
       "TG        9260.0       4163.5  2021.0    6.0  16.0"
      ]
     },
     "execution_count": 87,
     "metadata": {},
     "output_type": "execute_result"
    }
   ],
   "source": [
    "nonzero_train[nonzero_train[\"location\"]==\"S\"].groupby(\"item\").median()"
   ]
  },
  {
   "cell_type": "code",
   "execution_count": null,
   "id": "7771c06c",
   "metadata": {},
   "outputs": [],
   "source": []
  }
 ],
 "metadata": {
  "kernelspec": {
   "display_name": "base",
   "language": "python",
   "name": "dl"
  },
  "language_info": {
   "codemirror_mode": {
    "name": "ipython",
    "version": 3
   },
   "file_extension": ".py",
   "mimetype": "text/x-python",
   "name": "python",
   "nbconvert_exporter": "python",
   "pygments_lexer": "ipython3",
   "version": "3.9.2"
  },
  "toc": {
   "base_numbering": 1,
   "nav_menu": {},
   "number_sections": true,
   "sideBar": true,
   "skip_h1_title": false,
   "title_cell": "Table of Contents",
   "title_sidebar": "Contents",
   "toc_cell": false,
   "toc_position": {
    "height": "calc(100% - 180px)",
    "left": "10px",
    "top": "150px",
    "width": "165px"
   },
   "toc_section_display": true,
   "toc_window_display": true
  },
  "varInspector": {
   "cols": {
    "lenName": 16,
    "lenType": 16,
    "lenVar": 40
   },
   "kernels_config": {
    "python": {
     "delete_cmd_postfix": "",
     "delete_cmd_prefix": "del ",
     "library": "var_list.py",
     "varRefreshCmd": "print(var_dic_list())"
    },
    "r": {
     "delete_cmd_postfix": ") ",
     "delete_cmd_prefix": "rm(",
     "library": "var_list.r",
     "varRefreshCmd": "cat(var_dic_list()) "
    }
   },
   "types_to_exclude": [
    "module",
    "function",
    "builtin_function_or_method",
    "instance",
    "_Feature"
   ],
   "window_display": false
  }
 },
 "nbformat": 4,
 "nbformat_minor": 5
}
