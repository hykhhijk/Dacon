{
 "cells": [
  {
   "cell_type": "code",
   "execution_count": 1,
   "id": "52ed0a00",
   "metadata": {
    "ExecuteTime": {
     "end_time": "2022-11-27T08:32:54.057654Z",
     "start_time": "2022-11-27T08:32:52.362615Z"
    }
   },
   "outputs": [],
   "source": [
    "import os\n",
    "import pandas as pd\n",
    "import numpy as np\n",
    "import matplotlib.pyplot as plt"
   ]
  },
  {
   "cell_type": "code",
   "execution_count": 3,
   "id": "78bad5cc",
   "metadata": {
    "ExecuteTime": {
     "end_time": "2022-11-27T08:33:04.973579Z",
     "start_time": "2022-11-27T08:33:04.870885Z"
    }
   },
   "outputs": [],
   "source": [
    "path = \"C:/Users/hjhhi/Desktop/Data/\"\n",
    "train = pd.read_csv(os.path.join(path, \"train.csv\"))\n",
    "test = pd.read_csv(os.path.join(path, \"test.csv\"))\n",
    "sample_submission = pd.read_csv(os.path.join(path, \"sample_submission.csv\"))"
   ]
  },
  {
   "cell_type": "code",
   "execution_count": 4,
   "id": "03afa21c",
   "metadata": {
    "ExecuteTime": {
     "end_time": "2022-11-27T08:33:05.819942Z",
     "start_time": "2022-11-27T08:33:05.772973Z"
    }
   },
   "outputs": [
    {
     "data": {
      "text/html": [
       "<div>\n",
       "<style scoped>\n",
       "    .dataframe tbody tr th:only-of-type {\n",
       "        vertical-align: middle;\n",
       "    }\n",
       "\n",
       "    .dataframe tbody tr th {\n",
       "        vertical-align: top;\n",
       "    }\n",
       "\n",
       "    .dataframe thead th {\n",
       "        text-align: right;\n",
       "    }\n",
       "</style>\n",
       "<table border=\"1\" class=\"dataframe\">\n",
       "  <thead>\n",
       "    <tr style=\"text-align: right;\">\n",
       "      <th></th>\n",
       "      <th>ID</th>\n",
       "      <th>COMPONENT_ARBITRARY</th>\n",
       "      <th>ANONYMOUS_1</th>\n",
       "      <th>YEAR</th>\n",
       "      <th>SAMPLE_TRANSFER_DAY</th>\n",
       "      <th>ANONYMOUS_2</th>\n",
       "      <th>AG</th>\n",
       "      <th>AL</th>\n",
       "      <th>B</th>\n",
       "      <th>BA</th>\n",
       "      <th>...</th>\n",
       "      <th>U25</th>\n",
       "      <th>U20</th>\n",
       "      <th>U14</th>\n",
       "      <th>U6</th>\n",
       "      <th>U4</th>\n",
       "      <th>V</th>\n",
       "      <th>V100</th>\n",
       "      <th>V40</th>\n",
       "      <th>ZN</th>\n",
       "      <th>Y_LABEL</th>\n",
       "    </tr>\n",
       "  </thead>\n",
       "  <tbody>\n",
       "    <tr>\n",
       "      <th>0</th>\n",
       "      <td>TRAIN_00000</td>\n",
       "      <td>COMPONENT3</td>\n",
       "      <td>1486</td>\n",
       "      <td>2011</td>\n",
       "      <td>7</td>\n",
       "      <td>200</td>\n",
       "      <td>0</td>\n",
       "      <td>3</td>\n",
       "      <td>93</td>\n",
       "      <td>0</td>\n",
       "      <td>...</td>\n",
       "      <td>NaN</td>\n",
       "      <td>NaN</td>\n",
       "      <td>NaN</td>\n",
       "      <td>NaN</td>\n",
       "      <td>NaN</td>\n",
       "      <td>0</td>\n",
       "      <td>NaN</td>\n",
       "      <td>154.0</td>\n",
       "      <td>75</td>\n",
       "      <td>0</td>\n",
       "    </tr>\n",
       "    <tr>\n",
       "      <th>1</th>\n",
       "      <td>TRAIN_00001</td>\n",
       "      <td>COMPONENT2</td>\n",
       "      <td>1350</td>\n",
       "      <td>2021</td>\n",
       "      <td>51</td>\n",
       "      <td>375</td>\n",
       "      <td>0</td>\n",
       "      <td>2</td>\n",
       "      <td>19</td>\n",
       "      <td>0</td>\n",
       "      <td>...</td>\n",
       "      <td>2.0</td>\n",
       "      <td>4.0</td>\n",
       "      <td>6.0</td>\n",
       "      <td>216.0</td>\n",
       "      <td>1454.0</td>\n",
       "      <td>0</td>\n",
       "      <td>NaN</td>\n",
       "      <td>44.0</td>\n",
       "      <td>652</td>\n",
       "      <td>0</td>\n",
       "    </tr>\n",
       "    <tr>\n",
       "      <th>2</th>\n",
       "      <td>TRAIN_00002</td>\n",
       "      <td>COMPONENT2</td>\n",
       "      <td>2415</td>\n",
       "      <td>2015</td>\n",
       "      <td>2</td>\n",
       "      <td>200</td>\n",
       "      <td>0</td>\n",
       "      <td>110</td>\n",
       "      <td>1</td>\n",
       "      <td>1</td>\n",
       "      <td>...</td>\n",
       "      <td>0.0</td>\n",
       "      <td>3.0</td>\n",
       "      <td>39.0</td>\n",
       "      <td>11261.0</td>\n",
       "      <td>41081.0</td>\n",
       "      <td>0</td>\n",
       "      <td>NaN</td>\n",
       "      <td>72.6</td>\n",
       "      <td>412</td>\n",
       "      <td>1</td>\n",
       "    </tr>\n",
       "    <tr>\n",
       "      <th>3</th>\n",
       "      <td>TRAIN_00003</td>\n",
       "      <td>COMPONENT3</td>\n",
       "      <td>7389</td>\n",
       "      <td>2010</td>\n",
       "      <td>2</td>\n",
       "      <td>200</td>\n",
       "      <td>0</td>\n",
       "      <td>8</td>\n",
       "      <td>3</td>\n",
       "      <td>0</td>\n",
       "      <td>...</td>\n",
       "      <td>NaN</td>\n",
       "      <td>NaN</td>\n",
       "      <td>NaN</td>\n",
       "      <td>NaN</td>\n",
       "      <td>NaN</td>\n",
       "      <td>0</td>\n",
       "      <td>NaN</td>\n",
       "      <td>133.3</td>\n",
       "      <td>7</td>\n",
       "      <td>0</td>\n",
       "    </tr>\n",
       "    <tr>\n",
       "      <th>4</th>\n",
       "      <td>TRAIN_00004</td>\n",
       "      <td>COMPONENT3</td>\n",
       "      <td>3954</td>\n",
       "      <td>2015</td>\n",
       "      <td>4</td>\n",
       "      <td>200</td>\n",
       "      <td>0</td>\n",
       "      <td>1</td>\n",
       "      <td>157</td>\n",
       "      <td>0</td>\n",
       "      <td>...</td>\n",
       "      <td>NaN</td>\n",
       "      <td>NaN</td>\n",
       "      <td>NaN</td>\n",
       "      <td>NaN</td>\n",
       "      <td>NaN</td>\n",
       "      <td>0</td>\n",
       "      <td>NaN</td>\n",
       "      <td>133.1</td>\n",
       "      <td>128</td>\n",
       "      <td>0</td>\n",
       "    </tr>\n",
       "  </tbody>\n",
       "</table>\n",
       "<p>5 rows × 54 columns</p>\n",
       "</div>"
      ],
      "text/plain": [
       "            ID COMPONENT_ARBITRARY  ANONYMOUS_1  YEAR  SAMPLE_TRANSFER_DAY  \\\n",
       "0  TRAIN_00000          COMPONENT3         1486  2011                    7   \n",
       "1  TRAIN_00001          COMPONENT2         1350  2021                   51   \n",
       "2  TRAIN_00002          COMPONENT2         2415  2015                    2   \n",
       "3  TRAIN_00003          COMPONENT3         7389  2010                    2   \n",
       "4  TRAIN_00004          COMPONENT3         3954  2015                    4   \n",
       "\n",
       "   ANONYMOUS_2  AG   AL    B  BA  ...  U25  U20   U14       U6       U4  V  \\\n",
       "0          200   0    3   93   0  ...  NaN  NaN   NaN      NaN      NaN  0   \n",
       "1          375   0    2   19   0  ...  2.0  4.0   6.0    216.0   1454.0  0   \n",
       "2          200   0  110    1   1  ...  0.0  3.0  39.0  11261.0  41081.0  0   \n",
       "3          200   0    8    3   0  ...  NaN  NaN   NaN      NaN      NaN  0   \n",
       "4          200   0    1  157   0  ...  NaN  NaN   NaN      NaN      NaN  0   \n",
       "\n",
       "   V100    V40   ZN  Y_LABEL  \n",
       "0   NaN  154.0   75        0  \n",
       "1   NaN   44.0  652        0  \n",
       "2   NaN   72.6  412        1  \n",
       "3   NaN  133.3    7        0  \n",
       "4   NaN  133.1  128        0  \n",
       "\n",
       "[5 rows x 54 columns]"
      ]
     },
     "execution_count": 4,
     "metadata": {},
     "output_type": "execute_result"
    }
   ],
   "source": [
    "train.head(5)"
   ]
  },
  {
   "cell_type": "code",
   "execution_count": 5,
   "id": "20d44abc",
   "metadata": {
    "ExecuteTime": {
     "end_time": "2022-11-27T08:33:05.945237Z",
     "start_time": "2022-11-27T08:33:05.918220Z"
    }
   },
   "outputs": [
    {
     "data": {
      "text/html": [
       "<div>\n",
       "<style scoped>\n",
       "    .dataframe tbody tr th:only-of-type {\n",
       "        vertical-align: middle;\n",
       "    }\n",
       "\n",
       "    .dataframe tbody tr th {\n",
       "        vertical-align: top;\n",
       "    }\n",
       "\n",
       "    .dataframe thead th {\n",
       "        text-align: right;\n",
       "    }\n",
       "</style>\n",
       "<table border=\"1\" class=\"dataframe\">\n",
       "  <thead>\n",
       "    <tr style=\"text-align: right;\">\n",
       "      <th></th>\n",
       "      <th>ID</th>\n",
       "      <th>COMPONENT_ARBITRARY</th>\n",
       "      <th>ANONYMOUS_1</th>\n",
       "      <th>YEAR</th>\n",
       "      <th>ANONYMOUS_2</th>\n",
       "      <th>AG</th>\n",
       "      <th>CO</th>\n",
       "      <th>CR</th>\n",
       "      <th>CU</th>\n",
       "      <th>FE</th>\n",
       "      <th>H2O</th>\n",
       "      <th>MN</th>\n",
       "      <th>MO</th>\n",
       "      <th>NI</th>\n",
       "      <th>PQINDEX</th>\n",
       "      <th>TI</th>\n",
       "      <th>V</th>\n",
       "      <th>V40</th>\n",
       "      <th>ZN</th>\n",
       "    </tr>\n",
       "  </thead>\n",
       "  <tbody>\n",
       "    <tr>\n",
       "      <th>0</th>\n",
       "      <td>TEST_0000</td>\n",
       "      <td>COMPONENT1</td>\n",
       "      <td>2192</td>\n",
       "      <td>2016</td>\n",
       "      <td>200</td>\n",
       "      <td>0</td>\n",
       "      <td>0</td>\n",
       "      <td>0</td>\n",
       "      <td>1</td>\n",
       "      <td>12</td>\n",
       "      <td>0.0</td>\n",
       "      <td>0</td>\n",
       "      <td>0</td>\n",
       "      <td>0</td>\n",
       "      <td>10</td>\n",
       "      <td>0</td>\n",
       "      <td>0</td>\n",
       "      <td>91.3</td>\n",
       "      <td>1091</td>\n",
       "    </tr>\n",
       "    <tr>\n",
       "      <th>1</th>\n",
       "      <td>TEST_0001</td>\n",
       "      <td>COMPONENT3</td>\n",
       "      <td>2794</td>\n",
       "      <td>2011</td>\n",
       "      <td>200</td>\n",
       "      <td>0</td>\n",
       "      <td>0</td>\n",
       "      <td>2</td>\n",
       "      <td>1</td>\n",
       "      <td>278</td>\n",
       "      <td>0.0</td>\n",
       "      <td>3</td>\n",
       "      <td>0</td>\n",
       "      <td>0</td>\n",
       "      <td>2732</td>\n",
       "      <td>1</td>\n",
       "      <td>0</td>\n",
       "      <td>126.9</td>\n",
       "      <td>12</td>\n",
       "    </tr>\n",
       "    <tr>\n",
       "      <th>2</th>\n",
       "      <td>TEST_0002</td>\n",
       "      <td>COMPONENT2</td>\n",
       "      <td>1982</td>\n",
       "      <td>2010</td>\n",
       "      <td>200</td>\n",
       "      <td>0</td>\n",
       "      <td>0</td>\n",
       "      <td>0</td>\n",
       "      <td>16</td>\n",
       "      <td>5</td>\n",
       "      <td>0.0</td>\n",
       "      <td>0</td>\n",
       "      <td>0</td>\n",
       "      <td>0</td>\n",
       "      <td>11</td>\n",
       "      <td>0</td>\n",
       "      <td>0</td>\n",
       "      <td>44.3</td>\n",
       "      <td>714</td>\n",
       "    </tr>\n",
       "    <tr>\n",
       "      <th>3</th>\n",
       "      <td>TEST_0003</td>\n",
       "      <td>COMPONENT3</td>\n",
       "      <td>1404</td>\n",
       "      <td>2009</td>\n",
       "      <td>200</td>\n",
       "      <td>0</td>\n",
       "      <td>0</td>\n",
       "      <td>3</td>\n",
       "      <td>4</td>\n",
       "      <td>163</td>\n",
       "      <td>0.0</td>\n",
       "      <td>4</td>\n",
       "      <td>3</td>\n",
       "      <td>0</td>\n",
       "      <td>8007</td>\n",
       "      <td>0</td>\n",
       "      <td>0</td>\n",
       "      <td>142.8</td>\n",
       "      <td>94</td>\n",
       "    </tr>\n",
       "    <tr>\n",
       "      <th>4</th>\n",
       "      <td>TEST_0004</td>\n",
       "      <td>COMPONENT2</td>\n",
       "      <td>8225</td>\n",
       "      <td>2013</td>\n",
       "      <td>200</td>\n",
       "      <td>0</td>\n",
       "      <td>0</td>\n",
       "      <td>0</td>\n",
       "      <td>6</td>\n",
       "      <td>13</td>\n",
       "      <td>0.0</td>\n",
       "      <td>0</td>\n",
       "      <td>0</td>\n",
       "      <td>0</td>\n",
       "      <td>16</td>\n",
       "      <td>0</td>\n",
       "      <td>0</td>\n",
       "      <td>63.4</td>\n",
       "      <td>469</td>\n",
       "    </tr>\n",
       "  </tbody>\n",
       "</table>\n",
       "</div>"
      ],
      "text/plain": [
       "          ID COMPONENT_ARBITRARY  ANONYMOUS_1  YEAR  ANONYMOUS_2  AG  CO  CR  \\\n",
       "0  TEST_0000          COMPONENT1         2192  2016          200   0   0   0   \n",
       "1  TEST_0001          COMPONENT3         2794  2011          200   0   0   2   \n",
       "2  TEST_0002          COMPONENT2         1982  2010          200   0   0   0   \n",
       "3  TEST_0003          COMPONENT3         1404  2009          200   0   0   3   \n",
       "4  TEST_0004          COMPONENT2         8225  2013          200   0   0   0   \n",
       "\n",
       "   CU   FE  H2O  MN  MO  NI  PQINDEX  TI  V    V40    ZN  \n",
       "0   1   12  0.0   0   0   0       10   0  0   91.3  1091  \n",
       "1   1  278  0.0   3   0   0     2732   1  0  126.9    12  \n",
       "2  16    5  0.0   0   0   0       11   0  0   44.3   714  \n",
       "3   4  163  0.0   4   3   0     8007   0  0  142.8    94  \n",
       "4   6   13  0.0   0   0   0       16   0  0   63.4   469  "
      ]
     },
     "execution_count": 5,
     "metadata": {},
     "output_type": "execute_result"
    }
   ],
   "source": [
    "test.head(5)"
   ]
  },
  {
   "cell_type": "code",
   "execution_count": 6,
   "id": "1890bb32",
   "metadata": {
    "ExecuteTime": {
     "end_time": "2022-11-27T08:33:06.433706Z",
     "start_time": "2022-11-27T08:33:06.417952Z"
    }
   },
   "outputs": [],
   "source": [
    "categorical_features = ['COMPONENT_ARBITRARY', 'YEAR']\n",
    "# Inference(실제 진단 환경)에 사용하는 컬럼\n",
    "test_stage_features = ['COMPONENT_ARBITRARY', 'ANONYMOUS_1', 'YEAR' , 'ANONYMOUS_2', 'AG', 'CO', 'CR', 'CU', 'FE', 'H2O', 'MN', 'MO', 'NI', 'PQINDEX', 'TI', 'V', 'V40', 'ZN']"
   ]
  },
  {
   "cell_type": "markdown",
   "id": "64504aec",
   "metadata": {},
   "source": [
    "# Category encoding"
   ]
  },
  {
   "cell_type": "code",
   "execution_count": 7,
   "id": "b1fe01b2",
   "metadata": {
    "ExecuteTime": {
     "end_time": "2022-11-27T08:33:09.147822Z",
     "start_time": "2022-11-27T08:33:08.136991Z"
    }
   },
   "outputs": [],
   "source": [
    "from sklearn.preprocessing import OneHotEncoder"
   ]
  },
  {
   "cell_type": "code",
   "execution_count": 8,
   "id": "d1703f1c",
   "metadata": {
    "ExecuteTime": {
     "end_time": "2022-11-27T08:33:09.163810Z",
     "start_time": "2022-11-27T08:33:09.149823Z"
    }
   },
   "outputs": [],
   "source": [
    "def last_num(x):\n",
    "    return int(x[-1])"
   ]
  },
  {
   "cell_type": "code",
   "execution_count": 10,
   "id": "6a57f868",
   "metadata": {
    "ExecuteTime": {
     "end_time": "2022-11-27T08:33:29.974985Z",
     "start_time": "2022-11-27T08:33:29.940343Z"
    }
   },
   "outputs": [],
   "source": [
    "train[\"COMPONENT_ARBITRARY\"] = train[\"COMPONENT_ARBITRARY\"].apply(last_num)\n",
    "test[\"COMPONENT_ARBITRARY\"] = test[\"COMPONENT_ARBITRARY\"].apply(last_num)"
   ]
  },
  {
   "cell_type": "code",
   "execution_count": 11,
   "id": "807c2bc5",
   "metadata": {
    "ExecuteTime": {
     "end_time": "2022-11-27T08:33:31.685266Z",
     "start_time": "2022-11-27T08:33:31.673211Z"
    }
   },
   "outputs": [],
   "source": [
    "# encoder = OneHotEncoder()\n",
    "# train[\"COMPONENT_ARBITRARY\"] = encoder.fit_transform(np.array(train[\"COMPONENT_ARBITRARY\"]).reshape(1, -1)).toarray()[0]\n",
    "# test[\"COMPONENT_ARBITRARY\"] = encoder.transform(np.array(test[\"COMPONENT_ARBITRARY\"]).reshape(1, -1))"
   ]
  },
  {
   "cell_type": "code",
   "execution_count": 12,
   "id": "f27423d0",
   "metadata": {
    "ExecuteTime": {
     "end_time": "2022-11-27T08:33:32.091536Z",
     "start_time": "2022-11-27T08:33:32.036213Z"
    }
   },
   "outputs": [
    {
     "name": "stdout",
     "output_type": "stream",
     "text": [
      "<class 'pandas.core.frame.DataFrame'>\n",
      "RangeIndex: 14095 entries, 0 to 14094\n",
      "Data columns (total 54 columns):\n",
      " #   Column               Non-Null Count  Dtype  \n",
      "---  ------               --------------  -----  \n",
      " 0   ID                   14095 non-null  object \n",
      " 1   COMPONENT_ARBITRARY  14095 non-null  int64  \n",
      " 2   ANONYMOUS_1          14095 non-null  int64  \n",
      " 3   YEAR                 14095 non-null  int64  \n",
      " 4   SAMPLE_TRANSFER_DAY  14095 non-null  int64  \n",
      " 5   ANONYMOUS_2          14095 non-null  int64  \n",
      " 6   AG                   14095 non-null  int64  \n",
      " 7   AL                   14095 non-null  int64  \n",
      " 8   B                    14095 non-null  int64  \n",
      " 9   BA                   14095 non-null  int64  \n",
      " 10  BE                   14095 non-null  int64  \n",
      " 11  CA                   14095 non-null  int64  \n",
      " 12  CD                   12701 non-null  float64\n",
      " 13  CO                   14095 non-null  int64  \n",
      " 14  CR                   14095 non-null  int64  \n",
      " 15  CU                   14095 non-null  int64  \n",
      " 16  FH2O                 3890 non-null   float64\n",
      " 17  FNOX                 3890 non-null   float64\n",
      " 18  FOPTIMETHGLY         3890 non-null   float64\n",
      " 19  FOXID                3890 non-null   float64\n",
      " 20  FSO4                 3890 non-null   float64\n",
      " 21  FTBN                 3890 non-null   float64\n",
      " 22  FE                   14095 non-null  int64  \n",
      " 23  FUEL                 3890 non-null   float64\n",
      " 24  H2O                  14095 non-null  float64\n",
      " 25  K                    11796 non-null  float64\n",
      " 26  LI                   14095 non-null  int64  \n",
      " 27  MG                   14095 non-null  int64  \n",
      " 28  MN                   14095 non-null  int64  \n",
      " 29  MO                   14095 non-null  int64  \n",
      " 30  NA                   14095 non-null  int64  \n",
      " 31  NI                   14095 non-null  int64  \n",
      " 32  P                    14095 non-null  int64  \n",
      " 33  PB                   14095 non-null  int64  \n",
      " 34  PQINDEX              14095 non-null  int64  \n",
      " 35  S                    14095 non-null  int64  \n",
      " 36  SB                   14095 non-null  int64  \n",
      " 37  SI                   14095 non-null  int64  \n",
      " 38  SN                   14095 non-null  int64  \n",
      " 39  SOOTPERCENTAGE       3890 non-null   float64\n",
      " 40  TI                   14095 non-null  int64  \n",
      " 41  U100                 2316 non-null   float64\n",
      " 42  U75                  2316 non-null   float64\n",
      " 43  U50                  2316 non-null   float64\n",
      " 44  U25                  2316 non-null   float64\n",
      " 45  U20                  2316 non-null   float64\n",
      " 46  U14                  2118 non-null   float64\n",
      " 47  U6                   2118 non-null   float64\n",
      " 48  U4                   2118 non-null   float64\n",
      " 49  V                    14095 non-null  int64  \n",
      " 50  V100                 3724 non-null   float64\n",
      " 51  V40                  14095 non-null  float64\n",
      " 52  ZN                   14095 non-null  int64  \n",
      " 53  Y_LABEL              14095 non-null  int64  \n",
      "dtypes: float64(21), int64(32), object(1)\n",
      "memory usage: 5.8+ MB\n"
     ]
    }
   ],
   "source": [
    "train.info()"
   ]
  },
  {
   "cell_type": "markdown",
   "id": "f8afeb9f",
   "metadata": {},
   "source": [
    "# Missing value(need to add scaling for linear model)"
   ]
  },
  {
   "cell_type": "code",
   "execution_count": 13,
   "id": "602ed522",
   "metadata": {
    "ExecuteTime": {
     "end_time": "2022-11-27T08:33:53.912097Z",
     "start_time": "2022-11-27T08:33:53.835275Z"
    }
   },
   "outputs": [
    {
     "name": "stderr",
     "output_type": "stream",
     "text": [
      "C:\\Users\\hjhhi\\AppData\\Local\\Temp\\ipykernel_20096\\1144841304.py:1: FutureWarning: Dropping of nuisance columns in DataFrame reductions (with 'numeric_only=None') is deprecated; in a future version this will raise TypeError.  Select only valid columns before calling the reduction.\n",
      "  train = train.fillna(train.mean())\n",
      "C:\\Users\\hjhhi\\AppData\\Local\\Temp\\ipykernel_20096\\1144841304.py:2: FutureWarning: Dropping of nuisance columns in DataFrame reductions (with 'numeric_only=None') is deprecated; in a future version this will raise TypeError.  Select only valid columns before calling the reduction.\n",
      "  test = test.fillna(test.mean())\n"
     ]
    }
   ],
   "source": [
    "train = train.fillna(train.mean())\n",
    "test = test.fillna(test.mean())"
   ]
  },
  {
   "cell_type": "code",
   "execution_count": 14,
   "id": "5f5fe029",
   "metadata": {
    "ExecuteTime": {
     "end_time": "2022-11-27T08:33:57.452052Z",
     "start_time": "2022-11-27T08:33:57.299928Z"
    }
   },
   "outputs": [],
   "source": [
    "from sklearn.model_selection import train_test_split"
   ]
  },
  {
   "cell_type": "markdown",
   "id": "2acac3e7",
   "metadata": {},
   "source": [
    "# Split "
   ]
  },
  {
   "cell_type": "code",
   "execution_count": 15,
   "id": "a198c967",
   "metadata": {
    "ExecuteTime": {
     "end_time": "2022-11-27T08:33:59.385665Z",
     "start_time": "2022-11-27T08:33:59.339444Z"
    }
   },
   "outputs": [],
   "source": [
    "X = train.drop(['ID', 'Y_LABEL'], axis = 1)\n",
    "y = train['Y_LABEL']\n",
    "\n",
    "test = test.drop(['ID'], axis = 1)\n",
    "\n",
    "X_train, X_val, y_train, y_val = train_test_split(X, y, test_size=0.2, stratify=y)"
   ]
  },
  {
   "cell_type": "markdown",
   "id": "ae40cad7",
   "metadata": {},
   "source": [
    "# Teacher model "
   ]
  },
  {
   "cell_type": "code",
   "execution_count": 16,
   "id": "c15a4225",
   "metadata": {
    "ExecuteTime": {
     "end_time": "2022-11-27T08:34:18.554006Z",
     "start_time": "2022-11-27T08:34:18.249872Z"
    }
   },
   "outputs": [],
   "source": [
    "from sklearn.tree import DecisionTreeClassifier\n",
    "from sklearn.ensemble import RandomForestClassifier\n",
    "from sklearn.linear_model import LogisticRegression\n",
    "from xgboost import XGBClassifier"
   ]
  },
  {
   "cell_type": "code",
   "execution_count": 23,
   "id": "43038b8f",
   "metadata": {
    "ExecuteTime": {
     "end_time": "2022-11-27T08:35:02.179887Z",
     "start_time": "2022-11-27T08:35:01.602280Z"
    }
   },
   "outputs": [
    {
     "data": {
      "text/html": [
       "<style>#sk-container-id-3 {color: black;background-color: white;}#sk-container-id-3 pre{padding: 0;}#sk-container-id-3 div.sk-toggleable {background-color: white;}#sk-container-id-3 label.sk-toggleable__label {cursor: pointer;display: block;width: 100%;margin-bottom: 0;padding: 0.3em;box-sizing: border-box;text-align: center;}#sk-container-id-3 label.sk-toggleable__label-arrow:before {content: \"▸\";float: left;margin-right: 0.25em;color: #696969;}#sk-container-id-3 label.sk-toggleable__label-arrow:hover:before {color: black;}#sk-container-id-3 div.sk-estimator:hover label.sk-toggleable__label-arrow:before {color: black;}#sk-container-id-3 div.sk-toggleable__content {max-height: 0;max-width: 0;overflow: hidden;text-align: left;background-color: #f0f8ff;}#sk-container-id-3 div.sk-toggleable__content pre {margin: 0.2em;color: black;border-radius: 0.25em;background-color: #f0f8ff;}#sk-container-id-3 input.sk-toggleable__control:checked~div.sk-toggleable__content {max-height: 200px;max-width: 100%;overflow: auto;}#sk-container-id-3 input.sk-toggleable__control:checked~label.sk-toggleable__label-arrow:before {content: \"▾\";}#sk-container-id-3 div.sk-estimator input.sk-toggleable__control:checked~label.sk-toggleable__label {background-color: #d4ebff;}#sk-container-id-3 div.sk-label input.sk-toggleable__control:checked~label.sk-toggleable__label {background-color: #d4ebff;}#sk-container-id-3 input.sk-hidden--visually {border: 0;clip: rect(1px 1px 1px 1px);clip: rect(1px, 1px, 1px, 1px);height: 1px;margin: -1px;overflow: hidden;padding: 0;position: absolute;width: 1px;}#sk-container-id-3 div.sk-estimator {font-family: monospace;background-color: #f0f8ff;border: 1px dotted black;border-radius: 0.25em;box-sizing: border-box;margin-bottom: 0.5em;}#sk-container-id-3 div.sk-estimator:hover {background-color: #d4ebff;}#sk-container-id-3 div.sk-parallel-item::after {content: \"\";width: 100%;border-bottom: 1px solid gray;flex-grow: 1;}#sk-container-id-3 div.sk-label:hover label.sk-toggleable__label {background-color: #d4ebff;}#sk-container-id-3 div.sk-serial::before {content: \"\";position: absolute;border-left: 1px solid gray;box-sizing: border-box;top: 0;bottom: 0;left: 50%;z-index: 0;}#sk-container-id-3 div.sk-serial {display: flex;flex-direction: column;align-items: center;background-color: white;padding-right: 0.2em;padding-left: 0.2em;position: relative;}#sk-container-id-3 div.sk-item {position: relative;z-index: 1;}#sk-container-id-3 div.sk-parallel {display: flex;align-items: stretch;justify-content: center;background-color: white;position: relative;}#sk-container-id-3 div.sk-item::before, #sk-container-id-3 div.sk-parallel-item::before {content: \"\";position: absolute;border-left: 1px solid gray;box-sizing: border-box;top: 0;bottom: 0;left: 50%;z-index: -1;}#sk-container-id-3 div.sk-parallel-item {display: flex;flex-direction: column;z-index: 1;position: relative;background-color: white;}#sk-container-id-3 div.sk-parallel-item:first-child::after {align-self: flex-end;width: 50%;}#sk-container-id-3 div.sk-parallel-item:last-child::after {align-self: flex-start;width: 50%;}#sk-container-id-3 div.sk-parallel-item:only-child::after {width: 0;}#sk-container-id-3 div.sk-dashed-wrapped {border: 1px dashed gray;margin: 0 0.4em 0.5em 0.4em;box-sizing: border-box;padding-bottom: 0.4em;background-color: white;}#sk-container-id-3 div.sk-label label {font-family: monospace;font-weight: bold;display: inline-block;line-height: 1.2em;}#sk-container-id-3 div.sk-label-container {text-align: center;}#sk-container-id-3 div.sk-container {/* jupyter's `normalize.less` sets `[hidden] { display: none; }` but bootstrap.min.css set `[hidden] { display: none !important; }` so we also need the `!important` here to be able to override the default hidden behavior on the sphinx rendered scikit-learn.org. See: https://github.com/scikit-learn/scikit-learn/issues/21755 */display: inline-block !important;position: relative;}#sk-container-id-3 div.sk-text-repr-fallback {display: none;}</style><div id=\"sk-container-id-3\" class=\"sk-top-container\"><div class=\"sk-text-repr-fallback\"><pre>XGBClassifier(base_score=0.5, booster=&#x27;gbtree&#x27;, callbacks=None,\n",
       "              colsample_bylevel=1, colsample_bynode=1, colsample_bytree=1,\n",
       "              early_stopping_rounds=None, enable_categorical=False,\n",
       "              eval_metric=None, feature_types=None, gamma=0, gpu_id=-1,\n",
       "              grow_policy=&#x27;depthwise&#x27;, importance_type=None,\n",
       "              interaction_constraints=&#x27;&#x27;, learning_rate=0.300000012,\n",
       "              max_bin=256, max_cat_threshold=64, max_cat_to_onehot=4,\n",
       "              max_delta_step=0, max_depth=6, max_leaves=0, min_child_weight=1,\n",
       "              missing=nan, monotone_constraints=&#x27;()&#x27;, n_estimators=100,\n",
       "              n_jobs=0, num_parallel_tree=1, predictor=&#x27;auto&#x27;, random_state=0, ...)</pre><b>In a Jupyter environment, please rerun this cell to show the HTML representation or trust the notebook. <br />On GitHub, the HTML representation is unable to render, please try loading this page with nbviewer.org.</b></div><div class=\"sk-container\" hidden><div class=\"sk-item\"><div class=\"sk-estimator sk-toggleable\"><input class=\"sk-toggleable__control sk-hidden--visually\" id=\"sk-estimator-id-3\" type=\"checkbox\" checked><label for=\"sk-estimator-id-3\" class=\"sk-toggleable__label sk-toggleable__label-arrow\">XGBClassifier</label><div class=\"sk-toggleable__content\"><pre>XGBClassifier(base_score=0.5, booster=&#x27;gbtree&#x27;, callbacks=None,\n",
       "              colsample_bylevel=1, colsample_bynode=1, colsample_bytree=1,\n",
       "              early_stopping_rounds=None, enable_categorical=False,\n",
       "              eval_metric=None, feature_types=None, gamma=0, gpu_id=-1,\n",
       "              grow_policy=&#x27;depthwise&#x27;, importance_type=None,\n",
       "              interaction_constraints=&#x27;&#x27;, learning_rate=0.300000012,\n",
       "              max_bin=256, max_cat_threshold=64, max_cat_to_onehot=4,\n",
       "              max_delta_step=0, max_depth=6, max_leaves=0, min_child_weight=1,\n",
       "              missing=nan, monotone_constraints=&#x27;()&#x27;, n_estimators=100,\n",
       "              n_jobs=0, num_parallel_tree=1, predictor=&#x27;auto&#x27;, random_state=0, ...)</pre></div></div></div></div></div>"
      ],
      "text/plain": [
       "XGBClassifier(base_score=0.5, booster='gbtree', callbacks=None,\n",
       "              colsample_bylevel=1, colsample_bynode=1, colsample_bytree=1,\n",
       "              early_stopping_rounds=None, enable_categorical=False,\n",
       "              eval_metric=None, feature_types=None, gamma=0, gpu_id=-1,\n",
       "              grow_policy='depthwise', importance_type=None,\n",
       "              interaction_constraints='', learning_rate=0.300000012,\n",
       "              max_bin=256, max_cat_threshold=64, max_cat_to_onehot=4,\n",
       "              max_delta_step=0, max_depth=6, max_leaves=0, min_child_weight=1,\n",
       "              missing=nan, monotone_constraints='()', n_estimators=100,\n",
       "              n_jobs=0, num_parallel_tree=1, predictor='auto', random_state=0, ...)"
      ]
     },
     "execution_count": 23,
     "metadata": {},
     "output_type": "execute_result"
    }
   ],
   "source": [
    "teacher = XGBClassifier()\n",
    "teacher.fit(X_train, y_train)"
   ]
  },
  {
   "cell_type": "markdown",
   "id": "550d7e9f",
   "metadata": {},
   "source": [
    "# Eval teacher (low then base code[0.79])"
   ]
  },
  {
   "cell_type": "code",
   "execution_count": 24,
   "id": "1b63cbec",
   "metadata": {
    "ExecuteTime": {
     "end_time": "2022-11-27T08:35:02.195883Z",
     "start_time": "2022-11-27T08:35:02.181889Z"
    }
   },
   "outputs": [],
   "source": [
    "from sklearn.metrics import f1_score"
   ]
  },
  {
   "cell_type": "code",
   "execution_count": 25,
   "id": "adee65be",
   "metadata": {
    "ExecuteTime": {
     "end_time": "2022-11-27T08:35:02.274407Z",
     "start_time": "2022-11-27T08:35:02.256406Z"
    }
   },
   "outputs": [
    {
     "data": {
      "text/plain": [
       "0.636604774535809"
      ]
     },
     "execution_count": 25,
     "metadata": {},
     "output_type": "execute_result"
    }
   ],
   "source": [
    "pred = teacher.predict(X_val)\n",
    "f1_score(y_val, pred)"
   ]
  },
  {
   "cell_type": "markdown",
   "id": "e524c8fd",
   "metadata": {},
   "source": [
    "# Student"
   ]
  },
  {
   "cell_type": "code",
   "execution_count": 30,
   "id": "abebaa8b",
   "metadata": {
    "ExecuteTime": {
     "end_time": "2022-11-27T08:37:24.195705Z",
     "start_time": "2022-11-27T08:37:24.186110Z"
    }
   },
   "outputs": [],
   "source": [
    "from xgboost import XGBRegressor"
   ]
  },
  {
   "cell_type": "code",
   "execution_count": 31,
   "id": "4aa0fbf8",
   "metadata": {
    "ExecuteTime": {
     "end_time": "2022-11-27T08:37:25.108113Z",
     "start_time": "2022-11-27T08:37:25.080090Z"
    }
   },
   "outputs": [],
   "source": [
    "teacher_pred = teacher.predict_proba(X_train)"
   ]
  },
  {
   "cell_type": "code",
   "execution_count": 32,
   "id": "7eade591",
   "metadata": {
    "ExecuteTime": {
     "end_time": "2022-11-27T08:37:29.976927Z",
     "start_time": "2022-11-27T08:37:29.641410Z"
    }
   },
   "outputs": [
    {
     "data": {
      "text/html": [
       "<style>#sk-container-id-4 {color: black;background-color: white;}#sk-container-id-4 pre{padding: 0;}#sk-container-id-4 div.sk-toggleable {background-color: white;}#sk-container-id-4 label.sk-toggleable__label {cursor: pointer;display: block;width: 100%;margin-bottom: 0;padding: 0.3em;box-sizing: border-box;text-align: center;}#sk-container-id-4 label.sk-toggleable__label-arrow:before {content: \"▸\";float: left;margin-right: 0.25em;color: #696969;}#sk-container-id-4 label.sk-toggleable__label-arrow:hover:before {color: black;}#sk-container-id-4 div.sk-estimator:hover label.sk-toggleable__label-arrow:before {color: black;}#sk-container-id-4 div.sk-toggleable__content {max-height: 0;max-width: 0;overflow: hidden;text-align: left;background-color: #f0f8ff;}#sk-container-id-4 div.sk-toggleable__content pre {margin: 0.2em;color: black;border-radius: 0.25em;background-color: #f0f8ff;}#sk-container-id-4 input.sk-toggleable__control:checked~div.sk-toggleable__content {max-height: 200px;max-width: 100%;overflow: auto;}#sk-container-id-4 input.sk-toggleable__control:checked~label.sk-toggleable__label-arrow:before {content: \"▾\";}#sk-container-id-4 div.sk-estimator input.sk-toggleable__control:checked~label.sk-toggleable__label {background-color: #d4ebff;}#sk-container-id-4 div.sk-label input.sk-toggleable__control:checked~label.sk-toggleable__label {background-color: #d4ebff;}#sk-container-id-4 input.sk-hidden--visually {border: 0;clip: rect(1px 1px 1px 1px);clip: rect(1px, 1px, 1px, 1px);height: 1px;margin: -1px;overflow: hidden;padding: 0;position: absolute;width: 1px;}#sk-container-id-4 div.sk-estimator {font-family: monospace;background-color: #f0f8ff;border: 1px dotted black;border-radius: 0.25em;box-sizing: border-box;margin-bottom: 0.5em;}#sk-container-id-4 div.sk-estimator:hover {background-color: #d4ebff;}#sk-container-id-4 div.sk-parallel-item::after {content: \"\";width: 100%;border-bottom: 1px solid gray;flex-grow: 1;}#sk-container-id-4 div.sk-label:hover label.sk-toggleable__label {background-color: #d4ebff;}#sk-container-id-4 div.sk-serial::before {content: \"\";position: absolute;border-left: 1px solid gray;box-sizing: border-box;top: 0;bottom: 0;left: 50%;z-index: 0;}#sk-container-id-4 div.sk-serial {display: flex;flex-direction: column;align-items: center;background-color: white;padding-right: 0.2em;padding-left: 0.2em;position: relative;}#sk-container-id-4 div.sk-item {position: relative;z-index: 1;}#sk-container-id-4 div.sk-parallel {display: flex;align-items: stretch;justify-content: center;background-color: white;position: relative;}#sk-container-id-4 div.sk-item::before, #sk-container-id-4 div.sk-parallel-item::before {content: \"\";position: absolute;border-left: 1px solid gray;box-sizing: border-box;top: 0;bottom: 0;left: 50%;z-index: -1;}#sk-container-id-4 div.sk-parallel-item {display: flex;flex-direction: column;z-index: 1;position: relative;background-color: white;}#sk-container-id-4 div.sk-parallel-item:first-child::after {align-self: flex-end;width: 50%;}#sk-container-id-4 div.sk-parallel-item:last-child::after {align-self: flex-start;width: 50%;}#sk-container-id-4 div.sk-parallel-item:only-child::after {width: 0;}#sk-container-id-4 div.sk-dashed-wrapped {border: 1px dashed gray;margin: 0 0.4em 0.5em 0.4em;box-sizing: border-box;padding-bottom: 0.4em;background-color: white;}#sk-container-id-4 div.sk-label label {font-family: monospace;font-weight: bold;display: inline-block;line-height: 1.2em;}#sk-container-id-4 div.sk-label-container {text-align: center;}#sk-container-id-4 div.sk-container {/* jupyter's `normalize.less` sets `[hidden] { display: none; }` but bootstrap.min.css set `[hidden] { display: none !important; }` so we also need the `!important` here to be able to override the default hidden behavior on the sphinx rendered scikit-learn.org. See: https://github.com/scikit-learn/scikit-learn/issues/21755 */display: inline-block !important;position: relative;}#sk-container-id-4 div.sk-text-repr-fallback {display: none;}</style><div id=\"sk-container-id-4\" class=\"sk-top-container\"><div class=\"sk-text-repr-fallback\"><pre>XGBRegressor(base_score=0.5, booster=&#x27;gbtree&#x27;, callbacks=None,\n",
       "             colsample_bylevel=1, colsample_bynode=1, colsample_bytree=1,\n",
       "             early_stopping_rounds=None, enable_categorical=False,\n",
       "             eval_metric=None, feature_types=None, gamma=0, gpu_id=-1,\n",
       "             grow_policy=&#x27;depthwise&#x27;, importance_type=None,\n",
       "             interaction_constraints=&#x27;&#x27;, learning_rate=0.300000012, max_bin=256,\n",
       "             max_cat_threshold=64, max_cat_to_onehot=4, max_delta_step=0,\n",
       "             max_depth=6, max_leaves=0, min_child_weight=1, missing=nan,\n",
       "             monotone_constraints=&#x27;()&#x27;, n_estimators=100, n_jobs=0,\n",
       "             num_parallel_tree=1, predictor=&#x27;auto&#x27;, random_state=0, ...)</pre><b>In a Jupyter environment, please rerun this cell to show the HTML representation or trust the notebook. <br />On GitHub, the HTML representation is unable to render, please try loading this page with nbviewer.org.</b></div><div class=\"sk-container\" hidden><div class=\"sk-item\"><div class=\"sk-estimator sk-toggleable\"><input class=\"sk-toggleable__control sk-hidden--visually\" id=\"sk-estimator-id-4\" type=\"checkbox\" checked><label for=\"sk-estimator-id-4\" class=\"sk-toggleable__label sk-toggleable__label-arrow\">XGBRegressor</label><div class=\"sk-toggleable__content\"><pre>XGBRegressor(base_score=0.5, booster=&#x27;gbtree&#x27;, callbacks=None,\n",
       "             colsample_bylevel=1, colsample_bynode=1, colsample_bytree=1,\n",
       "             early_stopping_rounds=None, enable_categorical=False,\n",
       "             eval_metric=None, feature_types=None, gamma=0, gpu_id=-1,\n",
       "             grow_policy=&#x27;depthwise&#x27;, importance_type=None,\n",
       "             interaction_constraints=&#x27;&#x27;, learning_rate=0.300000012, max_bin=256,\n",
       "             max_cat_threshold=64, max_cat_to_onehot=4, max_delta_step=0,\n",
       "             max_depth=6, max_leaves=0, min_child_weight=1, missing=nan,\n",
       "             monotone_constraints=&#x27;()&#x27;, n_estimators=100, n_jobs=0,\n",
       "             num_parallel_tree=1, predictor=&#x27;auto&#x27;, random_state=0, ...)</pre></div></div></div></div></div>"
      ],
      "text/plain": [
       "XGBRegressor(base_score=0.5, booster='gbtree', callbacks=None,\n",
       "             colsample_bylevel=1, colsample_bynode=1, colsample_bytree=1,\n",
       "             early_stopping_rounds=None, enable_categorical=False,\n",
       "             eval_metric=None, feature_types=None, gamma=0, gpu_id=-1,\n",
       "             grow_policy='depthwise', importance_type=None,\n",
       "             interaction_constraints='', learning_rate=0.300000012, max_bin=256,\n",
       "             max_cat_threshold=64, max_cat_to_onehot=4, max_delta_step=0,\n",
       "             max_depth=6, max_leaves=0, min_child_weight=1, missing=nan,\n",
       "             monotone_constraints='()', n_estimators=100, n_jobs=0,\n",
       "             num_parallel_tree=1, predictor='auto', random_state=0, ...)"
      ]
     },
     "execution_count": 32,
     "metadata": {},
     "output_type": "execute_result"
    }
   ],
   "source": [
    "student = XGBRegressor()\n",
    "student.fit(X_train[test_stage_features],teacher_pred[:,1])"
   ]
  },
  {
   "cell_type": "code",
   "execution_count": 95,
   "id": "d43de483",
   "metadata": {
    "ExecuteTime": {
     "end_time": "2022-11-27T08:49:14.612431Z",
     "start_time": "2022-11-27T08:49:14.584436Z"
    }
   },
   "outputs": [
    {
     "data": {
      "text/plain": [
       "0.08029197080291971"
      ]
     },
     "execution_count": 95,
     "metadata": {},
     "output_type": "execute_result"
    }
   ],
   "source": [
    "student_pred = student.predict(X_val[test_stage_features])\n",
    "student_pred = pd.Series([i for i in student_pred>0.5])\n",
    "student_pred[student_pred==False]=0\n",
    "student_pred[student_pred==True]=1\n",
    "student_pred = student_pred.astype(int)\n",
    "f1_score(student_pred, y_val)"
   ]
  },
  {
   "cell_type": "code",
   "execution_count": 96,
   "id": "26a07045",
   "metadata": {
    "ExecuteTime": {
     "end_time": "2022-11-27T08:49:38.044747Z",
     "start_time": "2022-11-27T08:49:38.012067Z"
    }
   },
   "outputs": [],
   "source": [
    "submission = student.predict(test)\n",
    "submission = pd.Series([i for i in submission>0.5])\n",
    "submission[submission==False]=0\n",
    "submission[submission==True]=1\n",
    "submission = submission.astype(int)"
   ]
  },
  {
   "cell_type": "code",
   "execution_count": 97,
   "id": "c4be473f",
   "metadata": {
    "ExecuteTime": {
     "end_time": "2022-11-27T08:49:39.474276Z",
     "start_time": "2022-11-27T08:49:39.456081Z"
    }
   },
   "outputs": [],
   "source": [
    "sample_submission[\"Y_LABEL\"] = submission"
   ]
  },
  {
   "cell_type": "code",
   "execution_count": 98,
   "id": "3d8dbd39",
   "metadata": {
    "ExecuteTime": {
     "end_time": "2022-11-27T08:49:39.645211Z",
     "start_time": "2022-11-27T08:49:39.619202Z"
    }
   },
   "outputs": [],
   "source": [
    "sample_submission.to_csv('./submit.csv', index=False)"
   ]
  },
  {
   "cell_type": "code",
   "execution_count": null,
   "id": "227fd219",
   "metadata": {},
   "outputs": [],
   "source": []
  }
 ],
 "metadata": {
  "kernelspec": {
   "display_name": "raspberry",
   "language": "python",
   "name": "raspberry"
  },
  "language_info": {
   "codemirror_mode": {
    "name": "ipython",
    "version": 3
   },
   "file_extension": ".py",
   "mimetype": "text/x-python",
   "name": "python",
   "nbconvert_exporter": "python",
   "pygments_lexer": "ipython3",
   "version": "3.9.2"
  },
  "toc": {
   "base_numbering": 1,
   "nav_menu": {},
   "number_sections": true,
   "sideBar": true,
   "skip_h1_title": false,
   "title_cell": "Table of Contents",
   "title_sidebar": "Contents",
   "toc_cell": false,
   "toc_position": {},
   "toc_section_display": true,
   "toc_window_display": false
  }
 },
 "nbformat": 4,
 "nbformat_minor": 5
}
