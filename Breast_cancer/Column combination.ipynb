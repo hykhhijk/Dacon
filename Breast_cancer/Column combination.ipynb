{
 "cells": [
  {
   "cell_type": "code",
   "execution_count": 1,
   "id": "008ef803",
   "metadata": {
    "ExecuteTime": {
     "end_time": "2022-12-04T08:21:20.271290Z",
     "start_time": "2022-12-04T08:21:20.267229Z"
    }
   },
   "outputs": [],
   "source": [
    "def preprocess(X_train):\n",
    "    X_train = X_train[X_train.columns[2:]]\n",
    "    X_train = X_train.fillna(X_train.mean())    \n",
    "    X_train[\"수술연월일\"] = pd.to_datetime(X_train[\"수술연월일\"])\n",
    "    X_train[\"year\"] = X_train[\"수술연월일\"].dt.year\n",
    "    X_train[\"month\"] = X_train[\"수술연월일\"].dt.month\n",
    "    X_train[\"day\"] = X_train[\"수술연월일\"].dt.day\n",
    "    X_train[\"day_name\"] = X_train[\"수술연월일\"].dt.day_name()\n",
    "\n",
    "    date_list=[]\n",
    "    for i in range(len(X_train)):\n",
    "        date_list.append(str(X_train[\"year\"][i]).zfill(2)+str(X_train[\"month\"][i]).zfill(2) +str(X_train[\"day\"][i]).zfill(2))\n",
    "\n",
    "    X_train[\"수술연월일\"] = date_list\n",
    "\n",
    "    encoder = LabelEncoder()\n",
    "    X_train[\"day_name\"] = pd.DataFrame(encoder.fit_transform(np.reshape(np.array(X_train[\"day_name\"]), (-1,1))))\n",
    "\n",
    "    index = [i for i in range(28)if i != 24]\n",
    "    X_train = X_train[X_train.columns[index]]\n",
    "    return X_train"
   ]
  },
  {
   "cell_type": "markdown",
   "id": "df3f4d4f",
   "metadata": {},
   "source": [
    "# Import data& libraries "
   ]
  },
  {
   "cell_type": "code",
   "execution_count": 2,
   "id": "4ad75923",
   "metadata": {
    "ExecuteTime": {
     "end_time": "2022-12-04T08:21:21.358166Z",
     "start_time": "2022-12-04T08:21:20.274957Z"
    }
   },
   "outputs": [],
   "source": [
    "import numpy as np\n",
    "import pandas as pd\n",
    "import matplotlib.pyplot as plt\n",
    "import os\n",
    "import sys\n",
    "from sklearn.preprocessing import LabelEncoder\n",
    "from sklearn.metrics import f1_score\n",
    "import itertools"
   ]
  },
  {
   "cell_type": "code",
   "execution_count": 3,
   "id": "919a6881",
   "metadata": {
    "ExecuteTime": {
     "end_time": "2022-12-04T08:21:21.384953Z",
     "start_time": "2022-12-04T08:21:21.359724Z"
    }
   },
   "outputs": [],
   "source": [
    "path= \"/mnt/d/Data/\"\n",
    "\n",
    "X_train = pd.read_csv(os.path.join(path, \"train.csv\"))\n",
    "X_train = X_train.sample(frac=1)\n",
    "y = X_train[\"N_category\"]\n",
    "X_train = X_train[X_train.columns[:-1]]\n",
    "X_train = X_train[X_train.columns[3:]]    #ID, 이미지 경로 제거\n",
    "X_test = pd.read_csv(os.path.join(path, \"test.csv\"))\n",
    "submission = pd.read_csv(os.path.join(path, \"sample_submission.csv\"))"
   ]
  },
  {
   "cell_type": "markdown",
   "id": "7e999a13",
   "metadata": {},
   "source": [
    "# Fill missing values"
   ]
  },
  {
   "cell_type": "code",
   "execution_count": 4,
   "id": "43c978ff",
   "metadata": {
    "ExecuteTime": {
     "end_time": "2022-12-04T08:21:21.392882Z",
     "start_time": "2022-12-04T08:21:21.386364Z"
    }
   },
   "outputs": [
    {
     "name": "stderr",
     "output_type": "stream",
     "text": [
      "/tmp/ipykernel_930/3112579809.py:1: FutureWarning: The default value of numeric_only in DataFrame.mean is deprecated. In a future version, it will default to False. In addition, specifying 'numeric_only=None' is deprecated. Select only valid columns or specify the value of numeric_only to silence this warning.\n",
      "  X_train = X_train.fillna(X_train.mean())\n"
     ]
    }
   ],
   "source": [
    "X_train = X_train.fillna(X_train.mean())"
   ]
  },
  {
   "cell_type": "markdown",
   "id": "eacc6a97",
   "metadata": {},
   "source": [
    "# Process categorical values"
   ]
  },
  {
   "cell_type": "code",
   "execution_count": 5,
   "id": "13fb8f3d",
   "metadata": {
    "ExecuteTime": {
     "end_time": "2022-12-04T08:21:21.415833Z",
     "start_time": "2022-12-04T08:21:21.395245Z"
    }
   },
   "outputs": [
    {
     "name": "stderr",
     "output_type": "stream",
     "text": [
      "/home/hykhhijk/anaconda3/envs/dl/lib/python3.9/site-packages/sklearn/preprocessing/_label.py:115: DataConversionWarning: A column-vector y was passed when a 1d array was expected. Please change the shape of y to (n_samples, ), for example using ravel().\n",
      "  y = column_or_1d(y, warn=True)\n"
     ]
    }
   ],
   "source": [
    "X_train[\"수술연월일\"] = pd.to_datetime(X_train[\"수술연월일\"])\n",
    "\n",
    "X_train[\"year\"] = X_train[\"수술연월일\"].dt.year\n",
    "X_train[\"month\"] = X_train[\"수술연월일\"].dt.month\n",
    "X_train[\"day\"] = X_train[\"수술연월일\"].dt.day\n",
    "X_train[\"day_name\"] = X_train[\"수술연월일\"].dt.day_name()\n",
    "date_list=[]\n",
    "for i in range(len(X_train)):\n",
    "    date_list.append(str(X_train[\"year\"][i]).zfill(2)+str(X_train[\"month\"][i]).zfill(2) +str(X_train[\"day\"][i]).zfill(2))\n",
    "X_train[\"수술연월일\"] = date_list\n",
    "\n",
    "encoder = LabelEncoder()\n",
    "X_train[\"day_name\"] = pd.DataFrame(encoder.fit_transform(np.reshape(np.array(X_train[\"day_name\"]), (-1,1))))\n",
    "\n",
    "index = [i for i in range(28)if i != 24]\n",
    "X_train = X_train[X_train.columns[index]]"
   ]
  },
  {
   "cell_type": "code",
   "execution_count": 6,
   "id": "d135d1f1",
   "metadata": {
    "ExecuteTime": {
     "end_time": "2022-12-04T08:21:21.424479Z",
     "start_time": "2022-12-04T08:21:21.417381Z"
    }
   },
   "outputs": [],
   "source": [
    "from sklearn.model_selection import train_test_split"
   ]
  },
  {
   "cell_type": "code",
   "execution_count": 7,
   "id": "3d3f6d4e",
   "metadata": {
    "ExecuteTime": {
     "end_time": "2022-12-04T08:21:21.430161Z",
     "start_time": "2022-12-04T08:21:21.425945Z"
    }
   },
   "outputs": [],
   "source": [
    "X_train, X_valid, y_train, y_valid = train_test_split(X_train, y, stratify=y, test_size=0.2)"
   ]
  },
  {
   "cell_type": "markdown",
   "id": "d2a903dd",
   "metadata": {},
   "source": [
    "# Train vanilla RF "
   ]
  },
  {
   "cell_type": "code",
   "execution_count": 8,
   "id": "32b28778",
   "metadata": {
    "ExecuteTime": {
     "end_time": "2022-12-04T08:21:21.512886Z",
     "start_time": "2022-12-04T08:21:21.431847Z"
    }
   },
   "outputs": [],
   "source": [
    "from sklearn.ensemble import RandomForestClassifier"
   ]
  },
  {
   "cell_type": "code",
   "execution_count": 9,
   "id": "7757b3e8",
   "metadata": {
    "ExecuteTime": {
     "end_time": "2022-12-04T08:21:21.619529Z",
     "start_time": "2022-12-04T08:21:21.514366Z"
    }
   },
   "outputs": [
    {
     "data": {
      "text/html": [
       "<style>#sk-container-id-1 {color: black;background-color: white;}#sk-container-id-1 pre{padding: 0;}#sk-container-id-1 div.sk-toggleable {background-color: white;}#sk-container-id-1 label.sk-toggleable__label {cursor: pointer;display: block;width: 100%;margin-bottom: 0;padding: 0.3em;box-sizing: border-box;text-align: center;}#sk-container-id-1 label.sk-toggleable__label-arrow:before {content: \"▸\";float: left;margin-right: 0.25em;color: #696969;}#sk-container-id-1 label.sk-toggleable__label-arrow:hover:before {color: black;}#sk-container-id-1 div.sk-estimator:hover label.sk-toggleable__label-arrow:before {color: black;}#sk-container-id-1 div.sk-toggleable__content {max-height: 0;max-width: 0;overflow: hidden;text-align: left;background-color: #f0f8ff;}#sk-container-id-1 div.sk-toggleable__content pre {margin: 0.2em;color: black;border-radius: 0.25em;background-color: #f0f8ff;}#sk-container-id-1 input.sk-toggleable__control:checked~div.sk-toggleable__content {max-height: 200px;max-width: 100%;overflow: auto;}#sk-container-id-1 input.sk-toggleable__control:checked~label.sk-toggleable__label-arrow:before {content: \"▾\";}#sk-container-id-1 div.sk-estimator input.sk-toggleable__control:checked~label.sk-toggleable__label {background-color: #d4ebff;}#sk-container-id-1 div.sk-label input.sk-toggleable__control:checked~label.sk-toggleable__label {background-color: #d4ebff;}#sk-container-id-1 input.sk-hidden--visually {border: 0;clip: rect(1px 1px 1px 1px);clip: rect(1px, 1px, 1px, 1px);height: 1px;margin: -1px;overflow: hidden;padding: 0;position: absolute;width: 1px;}#sk-container-id-1 div.sk-estimator {font-family: monospace;background-color: #f0f8ff;border: 1px dotted black;border-radius: 0.25em;box-sizing: border-box;margin-bottom: 0.5em;}#sk-container-id-1 div.sk-estimator:hover {background-color: #d4ebff;}#sk-container-id-1 div.sk-parallel-item::after {content: \"\";width: 100%;border-bottom: 1px solid gray;flex-grow: 1;}#sk-container-id-1 div.sk-label:hover label.sk-toggleable__label {background-color: #d4ebff;}#sk-container-id-1 div.sk-serial::before {content: \"\";position: absolute;border-left: 1px solid gray;box-sizing: border-box;top: 0;bottom: 0;left: 50%;z-index: 0;}#sk-container-id-1 div.sk-serial {display: flex;flex-direction: column;align-items: center;background-color: white;padding-right: 0.2em;padding-left: 0.2em;position: relative;}#sk-container-id-1 div.sk-item {position: relative;z-index: 1;}#sk-container-id-1 div.sk-parallel {display: flex;align-items: stretch;justify-content: center;background-color: white;position: relative;}#sk-container-id-1 div.sk-item::before, #sk-container-id-1 div.sk-parallel-item::before {content: \"\";position: absolute;border-left: 1px solid gray;box-sizing: border-box;top: 0;bottom: 0;left: 50%;z-index: -1;}#sk-container-id-1 div.sk-parallel-item {display: flex;flex-direction: column;z-index: 1;position: relative;background-color: white;}#sk-container-id-1 div.sk-parallel-item:first-child::after {align-self: flex-end;width: 50%;}#sk-container-id-1 div.sk-parallel-item:last-child::after {align-self: flex-start;width: 50%;}#sk-container-id-1 div.sk-parallel-item:only-child::after {width: 0;}#sk-container-id-1 div.sk-dashed-wrapped {border: 1px dashed gray;margin: 0 0.4em 0.5em 0.4em;box-sizing: border-box;padding-bottom: 0.4em;background-color: white;}#sk-container-id-1 div.sk-label label {font-family: monospace;font-weight: bold;display: inline-block;line-height: 1.2em;}#sk-container-id-1 div.sk-label-container {text-align: center;}#sk-container-id-1 div.sk-container {/* jupyter's `normalize.less` sets `[hidden] { display: none; }` but bootstrap.min.css set `[hidden] { display: none !important; }` so we also need the `!important` here to be able to override the default hidden behavior on the sphinx rendered scikit-learn.org. See: https://github.com/scikit-learn/scikit-learn/issues/21755 */display: inline-block !important;position: relative;}#sk-container-id-1 div.sk-text-repr-fallback {display: none;}</style><div id=\"sk-container-id-1\" class=\"sk-top-container\"><div class=\"sk-text-repr-fallback\"><pre>RandomForestClassifier()</pre><b>In a Jupyter environment, please rerun this cell to show the HTML representation or trust the notebook. <br />On GitHub, the HTML representation is unable to render, please try loading this page with nbviewer.org.</b></div><div class=\"sk-container\" hidden><div class=\"sk-item\"><div class=\"sk-estimator sk-toggleable\"><input class=\"sk-toggleable__control sk-hidden--visually\" id=\"sk-estimator-id-1\" type=\"checkbox\" checked><label for=\"sk-estimator-id-1\" class=\"sk-toggleable__label sk-toggleable__label-arrow\">RandomForestClassifier</label><div class=\"sk-toggleable__content\"><pre>RandomForestClassifier()</pre></div></div></div></div></div>"
      ],
      "text/plain": [
       "RandomForestClassifier()"
      ]
     },
     "execution_count": 9,
     "metadata": {},
     "output_type": "execute_result"
    }
   ],
   "source": [
    "model = RandomForestClassifier()\n",
    "model.fit(X_train, y_train)"
   ]
  },
  {
   "cell_type": "code",
   "execution_count": 10,
   "id": "18797cb7",
   "metadata": {
    "ExecuteTime": {
     "end_time": "2022-12-04T08:21:21.631707Z",
     "start_time": "2022-12-04T08:21:21.620787Z"
    }
   },
   "outputs": [
    {
     "data": {
      "text/plain": [
       "0.755"
      ]
     },
     "execution_count": 10,
     "metadata": {},
     "output_type": "execute_result"
    }
   ],
   "source": [
    "model.score(X_valid, y_valid)"
   ]
  },
  {
   "cell_type": "code",
   "execution_count": 11,
   "id": "bfde3ad5",
   "metadata": {
    "ExecuteTime": {
     "end_time": "2022-12-04T08:21:21.644906Z",
     "start_time": "2022-12-04T08:21:21.634005Z"
    }
   },
   "outputs": [
    {
     "data": {
      "text/plain": [
       "0.7782805429864253"
      ]
     },
     "execution_count": 11,
     "metadata": {},
     "output_type": "execute_result"
    }
   ],
   "source": [
    "pred = model.predict(X_valid)\n",
    "f1_score(pred, y_valid)"
   ]
  },
  {
   "cell_type": "markdown",
   "id": "5a1c8af8",
   "metadata": {},
   "source": [
    "# Check column combinations "
   ]
  },
  {
   "cell_type": "code",
   "execution_count": 12,
   "id": "89a5f7bc",
   "metadata": {
    "ExecuteTime": {
     "end_time": "2022-12-04T08:21:21.649066Z",
     "start_time": "2022-12-04T08:21:21.646336Z"
    }
   },
   "outputs": [
    {
     "data": {
      "text/plain": [
       "27"
      ]
     },
     "execution_count": 12,
     "metadata": {},
     "output_type": "execute_result"
    }
   ],
   "source": [
    "len(X_train.columns)"
   ]
  },
  {
   "cell_type": "code",
   "execution_count": 13,
   "id": "075ce73e",
   "metadata": {
    "ExecuteTime": {
     "end_time": "2022-12-04T08:21:21.652262Z",
     "start_time": "2022-12-04T08:21:21.650184Z"
    }
   },
   "outputs": [],
   "source": [
    "column_list = X_train.columns"
   ]
  },
  {
   "cell_type": "code",
   "execution_count": 48,
   "id": "2255b82b",
   "metadata": {
    "ExecuteTime": {
     "end_time": "2022-12-04T09:25:09.074443Z",
     "start_time": "2022-12-04T09:24:33.546316Z"
    }
   },
   "outputs": [
    {
     "name": "stdout",
     "output_type": "stream",
     "text": [
      "25\n",
      "26\n",
      "27\n"
     ]
    }
   ],
   "source": [
    "score_list = []\n",
    "columns = []\n",
    "for i in range(25, 28, 1):\n",
    "    print(i)\n",
    "    columns_combi = list(itertools.combinations(column_list,i))\n",
    "    for j in columns_combi:\n",
    "        model = RandomForestClassifier()\n",
    "        model.fit(X_train[list(j)], y_train)\n",
    "        pred = model.predict(X_valid[list(j)])\n",
    "        score = f1_score(pred, y_valid)\n",
    "        score_list.append([score, j])"
   ]
  },
  {
   "cell_type": "code",
   "execution_count": 49,
   "id": "d1a109f7",
   "metadata": {
    "ExecuteTime": {
     "end_time": "2022-12-04T09:30:17.959092Z",
     "start_time": "2022-12-04T09:30:17.867524Z"
    }
   },
   "outputs": [],
   "source": [
    "score_list.sort(reverse=True)"
   ]
  },
  {
   "cell_type": "code",
   "execution_count": 53,
   "id": "a7033321",
   "metadata": {
    "ExecuteTime": {
     "end_time": "2022-12-04T09:30:54.836959Z",
     "start_time": "2022-12-04T09:30:54.820435Z"
    }
   },
   "outputs": [
    {
     "name": "stdout",
     "output_type": "stream",
     "text": [
      "0.8165137614678899 25\n",
      "0.8073394495412843 25\n",
      "0.8073394495412843 25\n",
      "0.8073394495412843 25\n",
      "0.8055555555555555 25\n"
     ]
    }
   ],
   "source": [
    "for i in score_list[:5]:\n",
    "    print(i[0],len(i[1]))"
   ]
  },
  {
   "cell_type": "code",
   "execution_count": 56,
   "id": "bee980af",
   "metadata": {
    "ExecuteTime": {
     "end_time": "2022-12-04T09:31:56.412356Z",
     "start_time": "2022-12-04T09:31:56.407464Z"
    }
   },
   "outputs": [
    {
     "name": "stdout",
     "output_type": "stream",
     "text": [
      "('나이', '수술연월일', '진단명', '암의 위치', '암의 개수', 'NG', 'HG', 'HG_score_1', 'HG_score_2', 'HG_score_3', 'DCIS_or_LCIS_여부', 'DCIS_or_LCIS_type', 'T_category', 'ER', 'ER_Allred_score', 'PR', 'PR_Allred_score', 'HER2', 'HER2_IHC', 'HER2_SISH', 'HER2_SISH_ratio', 'BRCA_mutation', 'month', 'day', 'day_name')\n",
      "('나이', '수술연월일', '진단명', '암의 위치', '암의 개수', '암의 장경', 'NG', 'HG_score_1', 'HG_score_2', 'HG_score_3', 'DCIS_or_LCIS_여부', 'DCIS_or_LCIS_type', 'T_category', 'ER', 'ER_Allred_score', 'PR', 'PR_Allred_score', 'KI-67_LI_percent', 'HER2', 'HER2_IHC', 'HER2_SISH', 'HER2_SISH_ratio', 'BRCA_mutation', 'month', 'day')\n",
      "('나이', '수술연월일', '진단명', '암의 위치', '암의 개수', '암의 장경', 'NG', 'HG', 'HG_score_1', 'HG_score_2', 'HG_score_3', 'DCIS_or_LCIS_여부', 'DCIS_or_LCIS_type', 'T_category', 'ER', 'ER_Allred_score', 'PR', 'PR_Allred_score', 'HER2', 'HER2_IHC', 'HER2_SISH', 'HER2_SISH_ratio', 'BRCA_mutation', 'month', 'day_name')\n",
      "('나이', '수술연월일', '진단명', '암의 위치', '암의 개수', '암의 장경', 'NG', 'HG', 'HG_score_1', 'HG_score_2', 'DCIS_or_LCIS_여부', 'DCIS_or_LCIS_type', 'T_category', 'ER', 'ER_Allred_score', 'PR', 'PR_Allred_score', 'HER2', 'HER2_IHC', 'HER2_SISH', 'HER2_SISH_ratio', 'BRCA_mutation', 'month', 'day', 'day_name')\n",
      "('나이', '수술연월일', '진단명', '암의 위치', '암의 개수', '암의 장경', 'NG', 'HG', 'HG_score_1', 'HG_score_3', 'DCIS_or_LCIS_여부', 'DCIS_or_LCIS_type', 'T_category', 'ER', 'ER_Allred_score', 'PR', 'PR_Allred_score', 'KI-67_LI_percent', 'HER2_IHC', 'HER2_SISH', 'HER2_SISH_ratio', 'BRCA_mutation', 'month', 'day', 'day_name')\n"
     ]
    }
   ],
   "source": [
    "for i in score_list[:5]:\n",
    "    print(i[1])"
   ]
  },
  {
   "cell_type": "code",
   "execution_count": null,
   "id": "f49e07f9",
   "metadata": {
    "ExecuteTime": {
     "start_time": "2022-12-04T08:19:12.994Z"
    }
   },
   "outputs": [],
   "source": [
    "score_list = []\n",
    "columns_combi = list(itertools.permutations(column_list,27))\n",
    "print(len(columns_combi))a\n",
    "for j in columns_combi:\n",
    "    model = RandomForestClassifier()\n",
    "    model.fit(X_train[j])\n",
    "    pred = model.predict(X_valid)\n",
    "    score = f1_score(pred, y_valid)\n",
    "    score_list.append([j, score])"
   ]
  },
  {
   "cell_type": "code",
   "execution_count": null,
   "id": "b1c300af",
   "metadata": {},
   "outputs": [],
   "source": []
  }
 ],
 "metadata": {
  "kernelspec": {
   "display_name": "base",
   "language": "python",
   "name": "dl"
  },
  "language_info": {
   "codemirror_mode": {
    "name": "ipython",
    "version": 3
   },
   "file_extension": ".py",
   "mimetype": "text/x-python",
   "name": "python",
   "nbconvert_exporter": "python",
   "pygments_lexer": "ipython3",
   "version": "3.9.2"
  },
  "toc": {
   "base_numbering": 1,
   "nav_menu": {},
   "number_sections": true,
   "sideBar": true,
   "skip_h1_title": false,
   "title_cell": "Table of Contents",
   "title_sidebar": "Contents",
   "toc_cell": false,
   "toc_position": {
    "height": "calc(100% - 180px)",
    "left": "10px",
    "top": "150px",
    "width": "384px"
   },
   "toc_section_display": true,
   "toc_window_display": true
  },
  "varInspector": {
   "cols": {
    "lenName": 16,
    "lenType": 16,
    "lenVar": 40
   },
   "kernels_config": {
    "python": {
     "delete_cmd_postfix": "",
     "delete_cmd_prefix": "del ",
     "library": "var_list.py",
     "varRefreshCmd": "print(var_dic_list())"
    },
    "r": {
     "delete_cmd_postfix": ") ",
     "delete_cmd_prefix": "rm(",
     "library": "var_list.r",
     "varRefreshCmd": "cat(var_dic_list()) "
    }
   },
   "oldHeight": 122.844,
   "position": {
    "height": "457.844px",
    "left": "1528px",
    "right": "20px",
    "top": "200px",
    "width": "311px"
   },
   "types_to_exclude": [
    "module",
    "function",
    "builtin_function_or_method",
    "instance",
    "_Feature"
   ],
   "varInspector_section_display": "block",
   "window_display": false
  }
 },
 "nbformat": 4,
 "nbformat_minor": 5
}
