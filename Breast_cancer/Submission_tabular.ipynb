{
 "cells": [
  {
   "cell_type": "markdown",
   "id": "df3f4d4f",
   "metadata": {},
   "source": [
    "# Import data& libraries "
   ]
  },
  {
   "cell_type": "code",
   "execution_count": 193,
   "id": "4ad75923",
   "metadata": {
    "ExecuteTime": {
     "end_time": "2022-12-02T14:55:45.054451Z",
     "start_time": "2022-12-02T14:55:45.050581Z"
    }
   },
   "outputs": [],
   "source": [
    "import numpy as np\n",
    "import pandas as pd\n",
    "import matplotlib.pyplot as plt\n",
    "import os\n",
    "import sys\n",
    "from sklearn.preprocessing import LabelEncoder\n",
    "from sklearn.metrics import precision_recall_fscore_support"
   ]
  },
  {
   "cell_type": "code",
   "execution_count": 194,
   "id": "919a6881",
   "metadata": {
    "ExecuteTime": {
     "end_time": "2022-12-02T14:55:45.093210Z",
     "start_time": "2022-12-02T14:55:45.057853Z"
    }
   },
   "outputs": [],
   "source": [
    "path= \"/mnt/d/Data/\"\n",
    "\n",
    "X_train = pd.read_csv(os.path.join(path, \"train.csv\"))\n",
    "y = X_train[\"N_category\"]\n",
    "X_train = X_train[X_train.columns[:-1]]\n",
    "X_train = X_train[X_train.columns[3:]]    #ID, 이미지 경로 제거\n",
    "X_test = pd.read_csv(os.path.join(path, \"test.csv\"))\n",
    "submission = pd.read_csv(os.path.join(path, \"sample_submission.csv\"))"
   ]
  },
  {
   "cell_type": "code",
   "execution_count": 195,
   "id": "72738d0f",
   "metadata": {
    "ExecuteTime": {
     "end_time": "2022-12-02T14:55:45.106222Z",
     "start_time": "2022-12-02T14:55:45.094472Z"
    }
   },
   "outputs": [
    {
     "data": {
      "text/html": [
       "<div>\n",
       "<style scoped>\n",
       "    .dataframe tbody tr th:only-of-type {\n",
       "        vertical-align: middle;\n",
       "    }\n",
       "\n",
       "    .dataframe tbody tr th {\n",
       "        vertical-align: top;\n",
       "    }\n",
       "\n",
       "    .dataframe thead th {\n",
       "        text-align: right;\n",
       "    }\n",
       "</style>\n",
       "<table border=\"1\" class=\"dataframe\">\n",
       "  <thead>\n",
       "    <tr style=\"text-align: right;\">\n",
       "      <th></th>\n",
       "      <th>나이</th>\n",
       "      <th>수술연월일</th>\n",
       "      <th>진단명</th>\n",
       "      <th>암의 위치</th>\n",
       "      <th>암의 개수</th>\n",
       "      <th>암의 장경</th>\n",
       "      <th>NG</th>\n",
       "      <th>HG</th>\n",
       "      <th>HG_score_1</th>\n",
       "      <th>HG_score_2</th>\n",
       "      <th>...</th>\n",
       "      <th>ER</th>\n",
       "      <th>ER_Allred_score</th>\n",
       "      <th>PR</th>\n",
       "      <th>PR_Allred_score</th>\n",
       "      <th>KI-67_LI_percent</th>\n",
       "      <th>HER2</th>\n",
       "      <th>HER2_IHC</th>\n",
       "      <th>HER2_SISH</th>\n",
       "      <th>HER2_SISH_ratio</th>\n",
       "      <th>BRCA_mutation</th>\n",
       "    </tr>\n",
       "  </thead>\n",
       "  <tbody>\n",
       "    <tr>\n",
       "      <th>0</th>\n",
       "      <td>63</td>\n",
       "      <td>2015-10-23</td>\n",
       "      <td>1</td>\n",
       "      <td>2</td>\n",
       "      <td>1</td>\n",
       "      <td>19.0</td>\n",
       "      <td>2.0</td>\n",
       "      <td>1.0</td>\n",
       "      <td>2.0</td>\n",
       "      <td>2.0</td>\n",
       "      <td>...</td>\n",
       "      <td>1.0</td>\n",
       "      <td>8.0</td>\n",
       "      <td>1.0</td>\n",
       "      <td>6.0</td>\n",
       "      <td>12.0</td>\n",
       "      <td>0.0</td>\n",
       "      <td>1.0</td>\n",
       "      <td>NaN</td>\n",
       "      <td>NaN</td>\n",
       "      <td>NaN</td>\n",
       "    </tr>\n",
       "    <tr>\n",
       "      <th>1</th>\n",
       "      <td>51</td>\n",
       "      <td>2015-10-28</td>\n",
       "      <td>1</td>\n",
       "      <td>1</td>\n",
       "      <td>1</td>\n",
       "      <td>22.0</td>\n",
       "      <td>3.0</td>\n",
       "      <td>3.0</td>\n",
       "      <td>3.0</td>\n",
       "      <td>3.0</td>\n",
       "      <td>...</td>\n",
       "      <td>0.0</td>\n",
       "      <td>NaN</td>\n",
       "      <td>0.0</td>\n",
       "      <td>NaN</td>\n",
       "      <td>70.0</td>\n",
       "      <td>0.0</td>\n",
       "      <td>0.0</td>\n",
       "      <td>NaN</td>\n",
       "      <td>NaN</td>\n",
       "      <td>NaN</td>\n",
       "    </tr>\n",
       "    <tr>\n",
       "      <th>2</th>\n",
       "      <td>37</td>\n",
       "      <td>2015-10-29</td>\n",
       "      <td>1</td>\n",
       "      <td>2</td>\n",
       "      <td>1</td>\n",
       "      <td>NaN</td>\n",
       "      <td>2.0</td>\n",
       "      <td>NaN</td>\n",
       "      <td>NaN</td>\n",
       "      <td>NaN</td>\n",
       "      <td>...</td>\n",
       "      <td>1.0</td>\n",
       "      <td>7.0</td>\n",
       "      <td>1.0</td>\n",
       "      <td>4.0</td>\n",
       "      <td>7.0</td>\n",
       "      <td>0.0</td>\n",
       "      <td>1.0</td>\n",
       "      <td>NaN</td>\n",
       "      <td>NaN</td>\n",
       "      <td>0.0</td>\n",
       "    </tr>\n",
       "    <tr>\n",
       "      <th>3</th>\n",
       "      <td>54</td>\n",
       "      <td>2016-03-08</td>\n",
       "      <td>1</td>\n",
       "      <td>2</td>\n",
       "      <td>1</td>\n",
       "      <td>0.0</td>\n",
       "      <td>3.0</td>\n",
       "      <td>3.0</td>\n",
       "      <td>3.0</td>\n",
       "      <td>3.0</td>\n",
       "      <td>...</td>\n",
       "      <td>0.0</td>\n",
       "      <td>NaN</td>\n",
       "      <td>0.0</td>\n",
       "      <td>NaN</td>\n",
       "      <td>1.0</td>\n",
       "      <td>1.0</td>\n",
       "      <td>3.0</td>\n",
       "      <td>NaN</td>\n",
       "      <td>NaN</td>\n",
       "      <td>NaN</td>\n",
       "    </tr>\n",
       "    <tr>\n",
       "      <th>4</th>\n",
       "      <td>57</td>\n",
       "      <td>2015-10-30</td>\n",
       "      <td>1</td>\n",
       "      <td>2</td>\n",
       "      <td>1</td>\n",
       "      <td>8.0</td>\n",
       "      <td>2.0</td>\n",
       "      <td>2.0</td>\n",
       "      <td>3.0</td>\n",
       "      <td>2.0</td>\n",
       "      <td>...</td>\n",
       "      <td>1.0</td>\n",
       "      <td>8.0</td>\n",
       "      <td>0.0</td>\n",
       "      <td>NaN</td>\n",
       "      <td>8.0</td>\n",
       "      <td>1.0</td>\n",
       "      <td>2.0</td>\n",
       "      <td>1.0</td>\n",
       "      <td>5.44</td>\n",
       "      <td>NaN</td>\n",
       "    </tr>\n",
       "  </tbody>\n",
       "</table>\n",
       "<p>5 rows × 24 columns</p>\n",
       "</div>"
      ],
      "text/plain": [
       "   나이       수술연월일  진단명  암의 위치  암의 개수  암의 장경   NG   HG  HG_score_1  HG_score_2  \\\n",
       "0  63  2015-10-23    1      2      1   19.0  2.0  1.0         2.0         2.0   \n",
       "1  51  2015-10-28    1      1      1   22.0  3.0  3.0         3.0         3.0   \n",
       "2  37  2015-10-29    1      2      1    NaN  2.0  NaN         NaN         NaN   \n",
       "3  54  2016-03-08    1      2      1    0.0  3.0  3.0         3.0         3.0   \n",
       "4  57  2015-10-30    1      2      1    8.0  2.0  2.0         3.0         2.0   \n",
       "\n",
       "   ...   ER  ER_Allred_score   PR  PR_Allred_score  KI-67_LI_percent  HER2  \\\n",
       "0  ...  1.0              8.0  1.0              6.0              12.0   0.0   \n",
       "1  ...  0.0              NaN  0.0              NaN              70.0   0.0   \n",
       "2  ...  1.0              7.0  1.0              4.0               7.0   0.0   \n",
       "3  ...  0.0              NaN  0.0              NaN               1.0   1.0   \n",
       "4  ...  1.0              8.0  0.0              NaN               8.0   1.0   \n",
       "\n",
       "   HER2_IHC  HER2_SISH  HER2_SISH_ratio  BRCA_mutation  \n",
       "0       1.0        NaN              NaN            NaN  \n",
       "1       0.0        NaN              NaN            NaN  \n",
       "2       1.0        NaN              NaN            0.0  \n",
       "3       3.0        NaN              NaN            NaN  \n",
       "4       2.0        1.0             5.44            NaN  \n",
       "\n",
       "[5 rows x 24 columns]"
      ]
     },
     "execution_count": 195,
     "metadata": {},
     "output_type": "execute_result"
    }
   ],
   "source": [
    "X_train.head(5)"
   ]
  },
  {
   "cell_type": "code",
   "execution_count": 196,
   "id": "96e3501a",
   "metadata": {
    "ExecuteTime": {
     "end_time": "2022-12-02T14:55:45.116411Z",
     "start_time": "2022-12-02T14:55:45.108307Z"
    }
   },
   "outputs": [
    {
     "name": "stdout",
     "output_type": "stream",
     "text": [
      "<class 'pandas.core.frame.DataFrame'>\n",
      "RangeIndex: 1000 entries, 0 to 999\n",
      "Data columns (total 24 columns):\n",
      " #   Column             Non-Null Count  Dtype  \n",
      "---  ------             --------------  -----  \n",
      " 0   나이                 1000 non-null   int64  \n",
      " 1   수술연월일              1000 non-null   object \n",
      " 2   진단명                1000 non-null   int64  \n",
      " 3   암의 위치              1000 non-null   int64  \n",
      " 4   암의 개수              1000 non-null   int64  \n",
      " 5   암의 장경              931 non-null    float64\n",
      " 6   NG                 949 non-null    float64\n",
      " 7   HG                 914 non-null    float64\n",
      " 8   HG_score_1         908 non-null    float64\n",
      " 9   HG_score_2         908 non-null    float64\n",
      " 10  HG_score_3         911 non-null    float64\n",
      " 11  DCIS_or_LCIS_여부    1000 non-null   int64  \n",
      " 12  DCIS_or_LCIS_type  126 non-null    float64\n",
      " 13  T_category         996 non-null    float64\n",
      " 14  ER                 999 non-null    float64\n",
      " 15  ER_Allred_score    703 non-null    float64\n",
      " 16  PR                 999 non-null    float64\n",
      " 17  PR_Allred_score    547 non-null    float64\n",
      " 18  KI-67_LI_percent   765 non-null    float64\n",
      " 19  HER2               986 non-null    float64\n",
      " 20  HER2_IHC           976 non-null    float64\n",
      " 21  HER2_SISH          247 non-null    float64\n",
      " 22  HER2_SISH_ratio    175 non-null    float64\n",
      " 23  BRCA_mutation      55 non-null     float64\n",
      "dtypes: float64(18), int64(5), object(1)\n",
      "memory usage: 187.6+ KB\n",
      "None\n",
      "\n",
      "Size of X_train: 1000\n"
     ]
    }
   ],
   "source": [
    "print(X_train.info())\n",
    "print(f\"\\nSize of X_train: {len(X_train)}\")"
   ]
  },
  {
   "cell_type": "markdown",
   "id": "7e999a13",
   "metadata": {},
   "source": [
    "# Fill missing values"
   ]
  },
  {
   "cell_type": "code",
   "execution_count": 197,
   "id": "43c978ff",
   "metadata": {
    "ExecuteTime": {
     "end_time": "2022-12-02T14:55:45.126254Z",
     "start_time": "2022-12-02T14:55:45.117986Z"
    }
   },
   "outputs": [
    {
     "name": "stderr",
     "output_type": "stream",
     "text": [
      "/tmp/ipykernel_360/3112579809.py:1: FutureWarning: The default value of numeric_only in DataFrame.mean is deprecated. In a future version, it will default to False. In addition, specifying 'numeric_only=None' is deprecated. Select only valid columns or specify the value of numeric_only to silence this warning.\n",
      "  X_train = X_train.fillna(X_train.mean())\n"
     ]
    }
   ],
   "source": [
    "X_train = X_train.fillna(X_train.mean())"
   ]
  },
  {
   "cell_type": "markdown",
   "id": "eacc6a97",
   "metadata": {},
   "source": [
    "# Process categorical values"
   ]
  },
  {
   "cell_type": "code",
   "execution_count": 198,
   "id": "3b5aca46",
   "metadata": {
    "ExecuteTime": {
     "end_time": "2022-12-02T14:55:45.131506Z",
     "start_time": "2022-12-02T14:55:45.127646Z"
    }
   },
   "outputs": [
    {
     "data": {
      "text/plain": [
       "0    2015-10-23\n",
       "1    2015-10-28\n",
       "2    2015-10-29\n",
       "3    2016-03-08\n",
       "4    2015-10-30\n",
       "Name: 수술연월일, dtype: object"
      ]
     },
     "execution_count": 198,
     "metadata": {},
     "output_type": "execute_result"
    }
   ],
   "source": [
    "X_train[\"수술연월일\"].head(5)"
   ]
  },
  {
   "cell_type": "code",
   "execution_count": 200,
   "id": "1f409a5e",
   "metadata": {
    "ExecuteTime": {
     "end_time": "2022-12-02T14:55:45.142927Z",
     "start_time": "2022-12-02T14:55:45.140445Z"
    }
   },
   "outputs": [],
   "source": [
    "X_train[\"수술연월일\"] = pd.to_datetime(X_train[\"수술연월일\"])"
   ]
  },
  {
   "cell_type": "code",
   "execution_count": 201,
   "id": "13fb8f3d",
   "metadata": {
    "ExecuteTime": {
     "end_time": "2022-12-02T14:55:45.159275Z",
     "start_time": "2022-12-02T14:55:45.144149Z"
    }
   },
   "outputs": [
    {
     "name": "stderr",
     "output_type": "stream",
     "text": [
      "/home/hykhhijk/anaconda3/envs/dl/lib/python3.9/site-packages/sklearn/preprocessing/_label.py:115: DataConversionWarning: A column-vector y was passed when a 1d array was expected. Please change the shape of y to (n_samples, ), for example using ravel().\n",
      "  y = column_or_1d(y, warn=True)\n"
     ]
    }
   ],
   "source": [
    "X_train[\"year\"] = X_train[\"수술연월일\"].dt.year\n",
    "X_train[\"month\"] = X_train[\"수술연월일\"].dt.month\n",
    "X_train[\"day\"] = X_train[\"수술연월일\"].dt.day\n",
    "X_train[\"day_name\"] = X_train[\"수술연월일\"].dt.day_name()\n",
    "date_list=[]\n",
    "for i in range(len(X_train)):\n",
    "    date_list.append(str(X_train[\"year\"][i]).zfill(2)+str(X_train[\"month\"][i]).zfill(2) +str(X_train[\"day\"][i]).zfill(2))\n",
    "X_train[\"수술연월일\"] = date_list\n",
    "\n",
    "encoder = LabelEncoder()\n",
    "X_train[\"day_name\"] = pd.DataFrame(encoder.fit_transform(np.reshape(np.array(X_train[\"day_name\"]), (-1,1))))\n",
    "\n",
    "index = [i for i in range(28)if i != 24]\n",
    "X_train = X_train[X_train.columns[index]]"
   ]
  },
  {
   "cell_type": "code",
   "execution_count": 202,
   "id": "95212c91",
   "metadata": {
    "ExecuteTime": {
     "end_time": "2022-12-02T14:55:45.166138Z",
     "start_time": "2022-12-02T14:55:45.162670Z"
    }
   },
   "outputs": [],
   "source": [
    "X_train[\"암의 장경\"] = X_train[\"암의 장경\"].fillna(X_train.groupby(\"T_category\")[\"암의 장경\"].transform(\"median\"))\n",
    "# X_train = original_X.copy()\n",
    "X_train[\"암의 장경\"] = X_train[\"암의 장경\"]\n",
    "# process_score(temp_X)"
   ]
  },
  {
   "cell_type": "code",
   "execution_count": 203,
   "id": "071b3631",
   "metadata": {
    "ExecuteTime": {
     "end_time": "2022-12-02T14:55:45.178937Z",
     "start_time": "2022-12-02T14:55:45.167340Z"
    }
   },
   "outputs": [
    {
     "data": {
      "text/html": [
       "<div>\n",
       "<style scoped>\n",
       "    .dataframe tbody tr th:only-of-type {\n",
       "        vertical-align: middle;\n",
       "    }\n",
       "\n",
       "    .dataframe tbody tr th {\n",
       "        vertical-align: top;\n",
       "    }\n",
       "\n",
       "    .dataframe thead th {\n",
       "        text-align: right;\n",
       "    }\n",
       "</style>\n",
       "<table border=\"1\" class=\"dataframe\">\n",
       "  <thead>\n",
       "    <tr style=\"text-align: right;\">\n",
       "      <th></th>\n",
       "      <th>나이</th>\n",
       "      <th>수술연월일</th>\n",
       "      <th>진단명</th>\n",
       "      <th>암의 위치</th>\n",
       "      <th>암의 개수</th>\n",
       "      <th>암의 장경</th>\n",
       "      <th>NG</th>\n",
       "      <th>HG</th>\n",
       "      <th>HG_score_1</th>\n",
       "      <th>HG_score_2</th>\n",
       "      <th>...</th>\n",
       "      <th>PR_Allred_score</th>\n",
       "      <th>KI-67_LI_percent</th>\n",
       "      <th>HER2</th>\n",
       "      <th>HER2_IHC</th>\n",
       "      <th>HER2_SISH</th>\n",
       "      <th>HER2_SISH_ratio</th>\n",
       "      <th>BRCA_mutation</th>\n",
       "      <th>month</th>\n",
       "      <th>day</th>\n",
       "      <th>day_name</th>\n",
       "    </tr>\n",
       "  </thead>\n",
       "  <tbody>\n",
       "    <tr>\n",
       "      <th>0</th>\n",
       "      <td>63</td>\n",
       "      <td>20151023</td>\n",
       "      <td>1</td>\n",
       "      <td>2</td>\n",
       "      <td>1</td>\n",
       "      <td>19.000000</td>\n",
       "      <td>2.0</td>\n",
       "      <td>1.000000</td>\n",
       "      <td>2.000000</td>\n",
       "      <td>2.000000</td>\n",
       "      <td>...</td>\n",
       "      <td>6.00000</td>\n",
       "      <td>12.000000</td>\n",
       "      <td>0.0</td>\n",
       "      <td>1.0</td>\n",
       "      <td>0.129555</td>\n",
       "      <td>2.460457</td>\n",
       "      <td>0.145455</td>\n",
       "      <td>10</td>\n",
       "      <td>23</td>\n",
       "      <td>0</td>\n",
       "    </tr>\n",
       "    <tr>\n",
       "      <th>1</th>\n",
       "      <td>51</td>\n",
       "      <td>20151028</td>\n",
       "      <td>1</td>\n",
       "      <td>1</td>\n",
       "      <td>1</td>\n",
       "      <td>22.000000</td>\n",
       "      <td>3.0</td>\n",
       "      <td>3.000000</td>\n",
       "      <td>3.000000</td>\n",
       "      <td>3.000000</td>\n",
       "      <td>...</td>\n",
       "      <td>6.04936</td>\n",
       "      <td>70.000000</td>\n",
       "      <td>0.0</td>\n",
       "      <td>0.0</td>\n",
       "      <td>0.129555</td>\n",
       "      <td>2.460457</td>\n",
       "      <td>0.145455</td>\n",
       "      <td>10</td>\n",
       "      <td>28</td>\n",
       "      <td>4</td>\n",
       "    </tr>\n",
       "    <tr>\n",
       "      <th>2</th>\n",
       "      <td>37</td>\n",
       "      <td>20151029</td>\n",
       "      <td>1</td>\n",
       "      <td>2</td>\n",
       "      <td>1</td>\n",
       "      <td>18.375564</td>\n",
       "      <td>2.0</td>\n",
       "      <td>1.897155</td>\n",
       "      <td>2.588106</td>\n",
       "      <td>2.144273</td>\n",
       "      <td>...</td>\n",
       "      <td>4.00000</td>\n",
       "      <td>7.000000</td>\n",
       "      <td>0.0</td>\n",
       "      <td>1.0</td>\n",
       "      <td>0.129555</td>\n",
       "      <td>2.460457</td>\n",
       "      <td>0.000000</td>\n",
       "      <td>10</td>\n",
       "      <td>29</td>\n",
       "      <td>2</td>\n",
       "    </tr>\n",
       "    <tr>\n",
       "      <th>3</th>\n",
       "      <td>54</td>\n",
       "      <td>20160308</td>\n",
       "      <td>1</td>\n",
       "      <td>2</td>\n",
       "      <td>1</td>\n",
       "      <td>0.000000</td>\n",
       "      <td>3.0</td>\n",
       "      <td>3.000000</td>\n",
       "      <td>3.000000</td>\n",
       "      <td>3.000000</td>\n",
       "      <td>...</td>\n",
       "      <td>6.04936</td>\n",
       "      <td>1.000000</td>\n",
       "      <td>1.0</td>\n",
       "      <td>3.0</td>\n",
       "      <td>0.129555</td>\n",
       "      <td>2.460457</td>\n",
       "      <td>0.145455</td>\n",
       "      <td>3</td>\n",
       "      <td>8</td>\n",
       "      <td>3</td>\n",
       "    </tr>\n",
       "    <tr>\n",
       "      <th>4</th>\n",
       "      <td>57</td>\n",
       "      <td>20151030</td>\n",
       "      <td>1</td>\n",
       "      <td>2</td>\n",
       "      <td>1</td>\n",
       "      <td>8.000000</td>\n",
       "      <td>2.0</td>\n",
       "      <td>2.000000</td>\n",
       "      <td>3.000000</td>\n",
       "      <td>2.000000</td>\n",
       "      <td>...</td>\n",
       "      <td>6.04936</td>\n",
       "      <td>8.000000</td>\n",
       "      <td>1.0</td>\n",
       "      <td>2.0</td>\n",
       "      <td>1.000000</td>\n",
       "      <td>5.440000</td>\n",
       "      <td>0.145455</td>\n",
       "      <td>10</td>\n",
       "      <td>30</td>\n",
       "      <td>0</td>\n",
       "    </tr>\n",
       "    <tr>\n",
       "      <th>...</th>\n",
       "      <td>...</td>\n",
       "      <td>...</td>\n",
       "      <td>...</td>\n",
       "      <td>...</td>\n",
       "      <td>...</td>\n",
       "      <td>...</td>\n",
       "      <td>...</td>\n",
       "      <td>...</td>\n",
       "      <td>...</td>\n",
       "      <td>...</td>\n",
       "      <td>...</td>\n",
       "      <td>...</td>\n",
       "      <td>...</td>\n",
       "      <td>...</td>\n",
       "      <td>...</td>\n",
       "      <td>...</td>\n",
       "      <td>...</td>\n",
       "      <td>...</td>\n",
       "      <td>...</td>\n",
       "      <td>...</td>\n",
       "      <td>...</td>\n",
       "    </tr>\n",
       "    <tr>\n",
       "      <th>995</th>\n",
       "      <td>65</td>\n",
       "      <td>20061222</td>\n",
       "      <td>1</td>\n",
       "      <td>2</td>\n",
       "      <td>1</td>\n",
       "      <td>25.000000</td>\n",
       "      <td>1.0</td>\n",
       "      <td>1.000000</td>\n",
       "      <td>2.000000</td>\n",
       "      <td>1.000000</td>\n",
       "      <td>...</td>\n",
       "      <td>6.04936</td>\n",
       "      <td>18.037229</td>\n",
       "      <td>0.0</td>\n",
       "      <td>0.0</td>\n",
       "      <td>0.129555</td>\n",
       "      <td>2.460457</td>\n",
       "      <td>0.145455</td>\n",
       "      <td>12</td>\n",
       "      <td>22</td>\n",
       "      <td>0</td>\n",
       "    </tr>\n",
       "    <tr>\n",
       "      <th>996</th>\n",
       "      <td>48</td>\n",
       "      <td>20061117</td>\n",
       "      <td>1</td>\n",
       "      <td>1</td>\n",
       "      <td>1</td>\n",
       "      <td>7.000000</td>\n",
       "      <td>1.0</td>\n",
       "      <td>1.000000</td>\n",
       "      <td>1.000000</td>\n",
       "      <td>1.000000</td>\n",
       "      <td>...</td>\n",
       "      <td>6.04936</td>\n",
       "      <td>18.037229</td>\n",
       "      <td>0.0</td>\n",
       "      <td>0.0</td>\n",
       "      <td>0.129555</td>\n",
       "      <td>2.460457</td>\n",
       "      <td>0.145455</td>\n",
       "      <td>11</td>\n",
       "      <td>17</td>\n",
       "      <td>0</td>\n",
       "    </tr>\n",
       "    <tr>\n",
       "      <th>997</th>\n",
       "      <td>64</td>\n",
       "      <td>20061110</td>\n",
       "      <td>1</td>\n",
       "      <td>2</td>\n",
       "      <td>1</td>\n",
       "      <td>15.000000</td>\n",
       "      <td>1.0</td>\n",
       "      <td>1.000000</td>\n",
       "      <td>2.000000</td>\n",
       "      <td>1.000000</td>\n",
       "      <td>...</td>\n",
       "      <td>6.04936</td>\n",
       "      <td>18.037229</td>\n",
       "      <td>0.0</td>\n",
       "      <td>0.0</td>\n",
       "      <td>0.129555</td>\n",
       "      <td>2.460457</td>\n",
       "      <td>0.145455</td>\n",
       "      <td>11</td>\n",
       "      <td>10</td>\n",
       "      <td>0</td>\n",
       "    </tr>\n",
       "    <tr>\n",
       "      <th>998</th>\n",
       "      <td>50</td>\n",
       "      <td>20060922</td>\n",
       "      <td>1</td>\n",
       "      <td>1</td>\n",
       "      <td>1</td>\n",
       "      <td>7.000000</td>\n",
       "      <td>1.0</td>\n",
       "      <td>1.000000</td>\n",
       "      <td>1.000000</td>\n",
       "      <td>2.000000</td>\n",
       "      <td>...</td>\n",
       "      <td>6.04936</td>\n",
       "      <td>18.037229</td>\n",
       "      <td>0.0</td>\n",
       "      <td>0.0</td>\n",
       "      <td>0.129555</td>\n",
       "      <td>2.460457</td>\n",
       "      <td>0.145455</td>\n",
       "      <td>9</td>\n",
       "      <td>22</td>\n",
       "      <td>0</td>\n",
       "    </tr>\n",
       "    <tr>\n",
       "      <th>999</th>\n",
       "      <td>76</td>\n",
       "      <td>20100901</td>\n",
       "      <td>1</td>\n",
       "      <td>2</td>\n",
       "      <td>1</td>\n",
       "      <td>20.000000</td>\n",
       "      <td>3.0</td>\n",
       "      <td>3.000000</td>\n",
       "      <td>2.000000</td>\n",
       "      <td>3.000000</td>\n",
       "      <td>...</td>\n",
       "      <td>2.00000</td>\n",
       "      <td>18.037229</td>\n",
       "      <td>0.0</td>\n",
       "      <td>1.0</td>\n",
       "      <td>0.129555</td>\n",
       "      <td>2.460457</td>\n",
       "      <td>0.145455</td>\n",
       "      <td>9</td>\n",
       "      <td>1</td>\n",
       "      <td>4</td>\n",
       "    </tr>\n",
       "  </tbody>\n",
       "</table>\n",
       "<p>1000 rows × 27 columns</p>\n",
       "</div>"
      ],
      "text/plain": [
       "     나이     수술연월일  진단명  암의 위치  암의 개수      암의 장경   NG        HG  HG_score_1  \\\n",
       "0    63  20151023    1      2      1  19.000000  2.0  1.000000    2.000000   \n",
       "1    51  20151028    1      1      1  22.000000  3.0  3.000000    3.000000   \n",
       "2    37  20151029    1      2      1  18.375564  2.0  1.897155    2.588106   \n",
       "3    54  20160308    1      2      1   0.000000  3.0  3.000000    3.000000   \n",
       "4    57  20151030    1      2      1   8.000000  2.0  2.000000    3.000000   \n",
       "..   ..       ...  ...    ...    ...        ...  ...       ...         ...   \n",
       "995  65  20061222    1      2      1  25.000000  1.0  1.000000    2.000000   \n",
       "996  48  20061117    1      1      1   7.000000  1.0  1.000000    1.000000   \n",
       "997  64  20061110    1      2      1  15.000000  1.0  1.000000    2.000000   \n",
       "998  50  20060922    1      1      1   7.000000  1.0  1.000000    1.000000   \n",
       "999  76  20100901    1      2      1  20.000000  3.0  3.000000    2.000000   \n",
       "\n",
       "     HG_score_2  ...  PR_Allred_score  KI-67_LI_percent  HER2  HER2_IHC  \\\n",
       "0      2.000000  ...          6.00000         12.000000   0.0       1.0   \n",
       "1      3.000000  ...          6.04936         70.000000   0.0       0.0   \n",
       "2      2.144273  ...          4.00000          7.000000   0.0       1.0   \n",
       "3      3.000000  ...          6.04936          1.000000   1.0       3.0   \n",
       "4      2.000000  ...          6.04936          8.000000   1.0       2.0   \n",
       "..          ...  ...              ...               ...   ...       ...   \n",
       "995    1.000000  ...          6.04936         18.037229   0.0       0.0   \n",
       "996    1.000000  ...          6.04936         18.037229   0.0       0.0   \n",
       "997    1.000000  ...          6.04936         18.037229   0.0       0.0   \n",
       "998    2.000000  ...          6.04936         18.037229   0.0       0.0   \n",
       "999    3.000000  ...          2.00000         18.037229   0.0       1.0   \n",
       "\n",
       "     HER2_SISH  HER2_SISH_ratio  BRCA_mutation  month  day  day_name  \n",
       "0     0.129555         2.460457       0.145455     10   23         0  \n",
       "1     0.129555         2.460457       0.145455     10   28         4  \n",
       "2     0.129555         2.460457       0.000000     10   29         2  \n",
       "3     0.129555         2.460457       0.145455      3    8         3  \n",
       "4     1.000000         5.440000       0.145455     10   30         0  \n",
       "..         ...              ...            ...    ...  ...       ...  \n",
       "995   0.129555         2.460457       0.145455     12   22         0  \n",
       "996   0.129555         2.460457       0.145455     11   17         0  \n",
       "997   0.129555         2.460457       0.145455     11   10         0  \n",
       "998   0.129555         2.460457       0.145455      9   22         0  \n",
       "999   0.129555         2.460457       0.145455      9    1         4  \n",
       "\n",
       "[1000 rows x 27 columns]"
      ]
     },
     "execution_count": 203,
     "metadata": {},
     "output_type": "execute_result"
    }
   ],
   "source": [
    "X_train"
   ]
  },
  {
   "cell_type": "code",
   "execution_count": 204,
   "id": "736adfdc",
   "metadata": {
    "ExecuteTime": {
     "end_time": "2022-12-02T14:55:45.186746Z",
     "start_time": "2022-12-02T14:55:45.180081Z"
    }
   },
   "outputs": [
    {
     "name": "stdout",
     "output_type": "stream",
     "text": [
      "<class 'pandas.core.frame.DataFrame'>\n",
      "RangeIndex: 1000 entries, 0 to 999\n",
      "Data columns (total 27 columns):\n",
      " #   Column             Non-Null Count  Dtype  \n",
      "---  ------             --------------  -----  \n",
      " 0   나이                 1000 non-null   int64  \n",
      " 1   수술연월일              1000 non-null   object \n",
      " 2   진단명                1000 non-null   int64  \n",
      " 3   암의 위치              1000 non-null   int64  \n",
      " 4   암의 개수              1000 non-null   int64  \n",
      " 5   암의 장경              1000 non-null   float64\n",
      " 6   NG                 1000 non-null   float64\n",
      " 7   HG                 1000 non-null   float64\n",
      " 8   HG_score_1         1000 non-null   float64\n",
      " 9   HG_score_2         1000 non-null   float64\n",
      " 10  HG_score_3         1000 non-null   float64\n",
      " 11  DCIS_or_LCIS_여부    1000 non-null   int64  \n",
      " 12  DCIS_or_LCIS_type  1000 non-null   float64\n",
      " 13  T_category         1000 non-null   float64\n",
      " 14  ER                 1000 non-null   float64\n",
      " 15  ER_Allred_score    1000 non-null   float64\n",
      " 16  PR                 1000 non-null   float64\n",
      " 17  PR_Allred_score    1000 non-null   float64\n",
      " 18  KI-67_LI_percent   1000 non-null   float64\n",
      " 19  HER2               1000 non-null   float64\n",
      " 20  HER2_IHC           1000 non-null   float64\n",
      " 21  HER2_SISH          1000 non-null   float64\n",
      " 22  HER2_SISH_ratio    1000 non-null   float64\n",
      " 23  BRCA_mutation      1000 non-null   float64\n",
      " 24  month              1000 non-null   int64  \n",
      " 25  day                1000 non-null   int64  \n",
      " 26  day_name           1000 non-null   int64  \n",
      "dtypes: float64(18), int64(8), object(1)\n",
      "memory usage: 211.1+ KB\n"
     ]
    }
   ],
   "source": [
    "X_train.info()"
   ]
  },
  {
   "cell_type": "code",
   "execution_count": 205,
   "id": "d135d1f1",
   "metadata": {
    "ExecuteTime": {
     "end_time": "2022-12-02T14:55:45.190140Z",
     "start_time": "2022-12-02T14:55:45.188310Z"
    }
   },
   "outputs": [],
   "source": [
    "from sklearn.model_selection import train_test_split"
   ]
  },
  {
   "cell_type": "code",
   "execution_count": 206,
   "id": "5e38c495",
   "metadata": {
    "ExecuteTime": {
     "end_time": "2022-12-02T14:55:45.193649Z",
     "start_time": "2022-12-02T14:55:45.191296Z"
    }
   },
   "outputs": [],
   "source": [
    "original_X = X_train.copy()"
   ]
  },
  {
   "cell_type": "code",
   "execution_count": 207,
   "id": "3d3f6d4e",
   "metadata": {
    "ExecuteTime": {
     "end_time": "2022-12-02T14:55:45.198148Z",
     "start_time": "2022-12-02T14:55:45.195008Z"
    }
   },
   "outputs": [],
   "source": [
    "X_train, X_valid, y_train, y_valid = train_test_split(X_train, y, stratify=y, test_size=0.2)"
   ]
  },
  {
   "cell_type": "markdown",
   "id": "d2a903dd",
   "metadata": {},
   "source": [
    "# Train vanilla RF "
   ]
  },
  {
   "cell_type": "code",
   "execution_count": 208,
   "id": "32b28778",
   "metadata": {
    "ExecuteTime": {
     "end_time": "2022-12-02T14:55:45.201479Z",
     "start_time": "2022-12-02T14:55:45.199604Z"
    }
   },
   "outputs": [],
   "source": [
    "from sklearn.ensemble import RandomForestClassifier"
   ]
  },
  {
   "cell_type": "code",
   "execution_count": 209,
   "id": "7757b3e8",
   "metadata": {
    "ExecuteTime": {
     "end_time": "2022-12-02T14:55:45.298266Z",
     "start_time": "2022-12-02T14:55:45.202509Z"
    }
   },
   "outputs": [
    {
     "data": {
      "text/html": [
       "<style>#sk-container-id-6 {color: black;background-color: white;}#sk-container-id-6 pre{padding: 0;}#sk-container-id-6 div.sk-toggleable {background-color: white;}#sk-container-id-6 label.sk-toggleable__label {cursor: pointer;display: block;width: 100%;margin-bottom: 0;padding: 0.3em;box-sizing: border-box;text-align: center;}#sk-container-id-6 label.sk-toggleable__label-arrow:before {content: \"▸\";float: left;margin-right: 0.25em;color: #696969;}#sk-container-id-6 label.sk-toggleable__label-arrow:hover:before {color: black;}#sk-container-id-6 div.sk-estimator:hover label.sk-toggleable__label-arrow:before {color: black;}#sk-container-id-6 div.sk-toggleable__content {max-height: 0;max-width: 0;overflow: hidden;text-align: left;background-color: #f0f8ff;}#sk-container-id-6 div.sk-toggleable__content pre {margin: 0.2em;color: black;border-radius: 0.25em;background-color: #f0f8ff;}#sk-container-id-6 input.sk-toggleable__control:checked~div.sk-toggleable__content {max-height: 200px;max-width: 100%;overflow: auto;}#sk-container-id-6 input.sk-toggleable__control:checked~label.sk-toggleable__label-arrow:before {content: \"▾\";}#sk-container-id-6 div.sk-estimator input.sk-toggleable__control:checked~label.sk-toggleable__label {background-color: #d4ebff;}#sk-container-id-6 div.sk-label input.sk-toggleable__control:checked~label.sk-toggleable__label {background-color: #d4ebff;}#sk-container-id-6 input.sk-hidden--visually {border: 0;clip: rect(1px 1px 1px 1px);clip: rect(1px, 1px, 1px, 1px);height: 1px;margin: -1px;overflow: hidden;padding: 0;position: absolute;width: 1px;}#sk-container-id-6 div.sk-estimator {font-family: monospace;background-color: #f0f8ff;border: 1px dotted black;border-radius: 0.25em;box-sizing: border-box;margin-bottom: 0.5em;}#sk-container-id-6 div.sk-estimator:hover {background-color: #d4ebff;}#sk-container-id-6 div.sk-parallel-item::after {content: \"\";width: 100%;border-bottom: 1px solid gray;flex-grow: 1;}#sk-container-id-6 div.sk-label:hover label.sk-toggleable__label {background-color: #d4ebff;}#sk-container-id-6 div.sk-serial::before {content: \"\";position: absolute;border-left: 1px solid gray;box-sizing: border-box;top: 0;bottom: 0;left: 50%;z-index: 0;}#sk-container-id-6 div.sk-serial {display: flex;flex-direction: column;align-items: center;background-color: white;padding-right: 0.2em;padding-left: 0.2em;position: relative;}#sk-container-id-6 div.sk-item {position: relative;z-index: 1;}#sk-container-id-6 div.sk-parallel {display: flex;align-items: stretch;justify-content: center;background-color: white;position: relative;}#sk-container-id-6 div.sk-item::before, #sk-container-id-6 div.sk-parallel-item::before {content: \"\";position: absolute;border-left: 1px solid gray;box-sizing: border-box;top: 0;bottom: 0;left: 50%;z-index: -1;}#sk-container-id-6 div.sk-parallel-item {display: flex;flex-direction: column;z-index: 1;position: relative;background-color: white;}#sk-container-id-6 div.sk-parallel-item:first-child::after {align-self: flex-end;width: 50%;}#sk-container-id-6 div.sk-parallel-item:last-child::after {align-self: flex-start;width: 50%;}#sk-container-id-6 div.sk-parallel-item:only-child::after {width: 0;}#sk-container-id-6 div.sk-dashed-wrapped {border: 1px dashed gray;margin: 0 0.4em 0.5em 0.4em;box-sizing: border-box;padding-bottom: 0.4em;background-color: white;}#sk-container-id-6 div.sk-label label {font-family: monospace;font-weight: bold;display: inline-block;line-height: 1.2em;}#sk-container-id-6 div.sk-label-container {text-align: center;}#sk-container-id-6 div.sk-container {/* jupyter's `normalize.less` sets `[hidden] { display: none; }` but bootstrap.min.css set `[hidden] { display: none !important; }` so we also need the `!important` here to be able to override the default hidden behavior on the sphinx rendered scikit-learn.org. See: https://github.com/scikit-learn/scikit-learn/issues/21755 */display: inline-block !important;position: relative;}#sk-container-id-6 div.sk-text-repr-fallback {display: none;}</style><div id=\"sk-container-id-6\" class=\"sk-top-container\"><div class=\"sk-text-repr-fallback\"><pre>RandomForestClassifier()</pre><b>In a Jupyter environment, please rerun this cell to show the HTML representation or trust the notebook. <br />On GitHub, the HTML representation is unable to render, please try loading this page with nbviewer.org.</b></div><div class=\"sk-container\" hidden><div class=\"sk-item\"><div class=\"sk-estimator sk-toggleable\"><input class=\"sk-toggleable__control sk-hidden--visually\" id=\"sk-estimator-id-6\" type=\"checkbox\" checked><label for=\"sk-estimator-id-6\" class=\"sk-toggleable__label sk-toggleable__label-arrow\">RandomForestClassifier</label><div class=\"sk-toggleable__content\"><pre>RandomForestClassifier()</pre></div></div></div></div></div>"
      ],
      "text/plain": [
       "RandomForestClassifier()"
      ]
     },
     "execution_count": 209,
     "metadata": {},
     "output_type": "execute_result"
    }
   ],
   "source": [
    "model = RandomForestClassifier()\n",
    "model.fit(X_train, y_train)"
   ]
  },
  {
   "cell_type": "code",
   "execution_count": 210,
   "id": "18797cb7",
   "metadata": {
    "ExecuteTime": {
     "end_time": "2022-12-02T14:55:45.309581Z",
     "start_time": "2022-12-02T14:55:45.299716Z"
    }
   },
   "outputs": [
    {
     "data": {
      "text/plain": [
       "0.815"
      ]
     },
     "execution_count": 210,
     "metadata": {},
     "output_type": "execute_result"
    }
   ],
   "source": [
    "model.score(X_valid, y_valid)"
   ]
  },
  {
   "cell_type": "code",
   "execution_count": 211,
   "id": "c7a5db41",
   "metadata": {
    "ExecuteTime": {
     "end_time": "2022-12-02T14:55:45.323801Z",
     "start_time": "2022-12-02T14:55:45.310660Z"
    }
   },
   "outputs": [
    {
     "data": {
      "text/html": [
       "<div>\n",
       "<style scoped>\n",
       "    .dataframe tbody tr th:only-of-type {\n",
       "        vertical-align: middle;\n",
       "    }\n",
       "\n",
       "    .dataframe tbody tr th {\n",
       "        vertical-align: top;\n",
       "    }\n",
       "\n",
       "    .dataframe thead th {\n",
       "        text-align: right;\n",
       "    }\n",
       "</style>\n",
       "<table border=\"1\" class=\"dataframe\">\n",
       "  <thead>\n",
       "    <tr style=\"text-align: right;\">\n",
       "      <th></th>\n",
       "      <th>ID</th>\n",
       "      <th>img_path</th>\n",
       "      <th>나이</th>\n",
       "      <th>수술연월일</th>\n",
       "      <th>진단명</th>\n",
       "      <th>암의 위치</th>\n",
       "      <th>암의 개수</th>\n",
       "      <th>암의 장경</th>\n",
       "      <th>NG</th>\n",
       "      <th>HG</th>\n",
       "      <th>...</th>\n",
       "      <th>ER</th>\n",
       "      <th>ER_Allred_score</th>\n",
       "      <th>PR</th>\n",
       "      <th>PR_Allred_score</th>\n",
       "      <th>KI-67_LI_percent</th>\n",
       "      <th>HER2</th>\n",
       "      <th>HER2_IHC</th>\n",
       "      <th>HER2_SISH</th>\n",
       "      <th>HER2_SISH_ratio</th>\n",
       "      <th>BRCA_mutation</th>\n",
       "    </tr>\n",
       "  </thead>\n",
       "  <tbody>\n",
       "    <tr>\n",
       "      <th>0</th>\n",
       "      <td>BC_01_0011</td>\n",
       "      <td>./test_imgs/BC_01_0011.png</td>\n",
       "      <td>55</td>\n",
       "      <td>2015-11-17</td>\n",
       "      <td>2</td>\n",
       "      <td>2</td>\n",
       "      <td>1</td>\n",
       "      <td>23.0</td>\n",
       "      <td>2.0</td>\n",
       "      <td>2.0</td>\n",
       "      <td>...</td>\n",
       "      <td>1.0</td>\n",
       "      <td>8.0</td>\n",
       "      <td>0.0</td>\n",
       "      <td>2.0</td>\n",
       "      <td>5.00</td>\n",
       "      <td>0.0</td>\n",
       "      <td>1.0</td>\n",
       "      <td>NaN</td>\n",
       "      <td>NaN</td>\n",
       "      <td>NaN</td>\n",
       "    </tr>\n",
       "    <tr>\n",
       "      <th>1</th>\n",
       "      <td>BC_01_0220</td>\n",
       "      <td>./test_imgs/BC_01_0220.png</td>\n",
       "      <td>43</td>\n",
       "      <td>2020-06-09</td>\n",
       "      <td>4</td>\n",
       "      <td>2</td>\n",
       "      <td>1</td>\n",
       "      <td>13.0</td>\n",
       "      <td>3.0</td>\n",
       "      <td>2.0</td>\n",
       "      <td>...</td>\n",
       "      <td>1.0</td>\n",
       "      <td>4.0</td>\n",
       "      <td>1.0</td>\n",
       "      <td>8.0</td>\n",
       "      <td>8.67</td>\n",
       "      <td>0.0</td>\n",
       "      <td>0.0</td>\n",
       "      <td>NaN</td>\n",
       "      <td>NaN</td>\n",
       "      <td>NaN</td>\n",
       "    </tr>\n",
       "    <tr>\n",
       "      <th>2</th>\n",
       "      <td>BC_01_0233</td>\n",
       "      <td>./test_imgs/BC_01_0233.png</td>\n",
       "      <td>76</td>\n",
       "      <td>2020-05-14</td>\n",
       "      <td>1</td>\n",
       "      <td>1</td>\n",
       "      <td>1</td>\n",
       "      <td>NaN</td>\n",
       "      <td>NaN</td>\n",
       "      <td>NaN</td>\n",
       "      <td>...</td>\n",
       "      <td>1.0</td>\n",
       "      <td>6.0</td>\n",
       "      <td>1.0</td>\n",
       "      <td>6.0</td>\n",
       "      <td>NaN</td>\n",
       "      <td>NaN</td>\n",
       "      <td>2.0</td>\n",
       "      <td>NaN</td>\n",
       "      <td>NaN</td>\n",
       "      <td>NaN</td>\n",
       "    </tr>\n",
       "    <tr>\n",
       "      <th>3</th>\n",
       "      <td>BC_01_0258</td>\n",
       "      <td>./test_imgs/BC_01_0258.png</td>\n",
       "      <td>58</td>\n",
       "      <td>2020-05-20</td>\n",
       "      <td>1</td>\n",
       "      <td>2</td>\n",
       "      <td>1</td>\n",
       "      <td>1.3</td>\n",
       "      <td>2.0</td>\n",
       "      <td>2.0</td>\n",
       "      <td>...</td>\n",
       "      <td>1.0</td>\n",
       "      <td>7.0</td>\n",
       "      <td>0.0</td>\n",
       "      <td>NaN</td>\n",
       "      <td>21.17</td>\n",
       "      <td>1.0</td>\n",
       "      <td>3.0</td>\n",
       "      <td>NaN</td>\n",
       "      <td>NaN</td>\n",
       "      <td>0.0</td>\n",
       "    </tr>\n",
       "    <tr>\n",
       "      <th>4</th>\n",
       "      <td>BC_01_0260</td>\n",
       "      <td>./test_imgs/BC_01_0260.png</td>\n",
       "      <td>56</td>\n",
       "      <td>2020-05-20</td>\n",
       "      <td>1</td>\n",
       "      <td>2</td>\n",
       "      <td>2</td>\n",
       "      <td>15.0</td>\n",
       "      <td>3.0</td>\n",
       "      <td>3.0</td>\n",
       "      <td>...</td>\n",
       "      <td>1.0</td>\n",
       "      <td>8.0</td>\n",
       "      <td>1.0</td>\n",
       "      <td>3.0</td>\n",
       "      <td>20.57</td>\n",
       "      <td>1.0</td>\n",
       "      <td>3.0</td>\n",
       "      <td>NaN</td>\n",
       "      <td>NaN</td>\n",
       "      <td>NaN</td>\n",
       "    </tr>\n",
       "    <tr>\n",
       "      <th>...</th>\n",
       "      <td>...</td>\n",
       "      <td>...</td>\n",
       "      <td>...</td>\n",
       "      <td>...</td>\n",
       "      <td>...</td>\n",
       "      <td>...</td>\n",
       "      <td>...</td>\n",
       "      <td>...</td>\n",
       "      <td>...</td>\n",
       "      <td>...</td>\n",
       "      <td>...</td>\n",
       "      <td>...</td>\n",
       "      <td>...</td>\n",
       "      <td>...</td>\n",
       "      <td>...</td>\n",
       "      <td>...</td>\n",
       "      <td>...</td>\n",
       "      <td>...</td>\n",
       "      <td>...</td>\n",
       "      <td>...</td>\n",
       "      <td>...</td>\n",
       "    </tr>\n",
       "    <tr>\n",
       "      <th>245</th>\n",
       "      <td>BC_01_3328</td>\n",
       "      <td>./test_imgs/BC_01_3328.png</td>\n",
       "      <td>61</td>\n",
       "      <td>2009-10-30</td>\n",
       "      <td>1</td>\n",
       "      <td>1</td>\n",
       "      <td>1</td>\n",
       "      <td>18.0</td>\n",
       "      <td>2.0</td>\n",
       "      <td>2.0</td>\n",
       "      <td>...</td>\n",
       "      <td>1.0</td>\n",
       "      <td>5.0</td>\n",
       "      <td>1.0</td>\n",
       "      <td>3.0</td>\n",
       "      <td>NaN</td>\n",
       "      <td>0.0</td>\n",
       "      <td>0.0</td>\n",
       "      <td>NaN</td>\n",
       "      <td>NaN</td>\n",
       "      <td>NaN</td>\n",
       "    </tr>\n",
       "    <tr>\n",
       "      <th>246</th>\n",
       "      <td>BC_01_3404</td>\n",
       "      <td>./test_imgs/BC_01_3404.png</td>\n",
       "      <td>42</td>\n",
       "      <td>2009-05-19</td>\n",
       "      <td>1</td>\n",
       "      <td>2</td>\n",
       "      <td>1</td>\n",
       "      <td>20.0</td>\n",
       "      <td>1.0</td>\n",
       "      <td>2.0</td>\n",
       "      <td>...</td>\n",
       "      <td>1.0</td>\n",
       "      <td>5.0</td>\n",
       "      <td>1.0</td>\n",
       "      <td>5.0</td>\n",
       "      <td>NaN</td>\n",
       "      <td>0.0</td>\n",
       "      <td>1.0</td>\n",
       "      <td>NaN</td>\n",
       "      <td>NaN</td>\n",
       "      <td>NaN</td>\n",
       "    </tr>\n",
       "    <tr>\n",
       "      <th>247</th>\n",
       "      <td>BC_01_3418</td>\n",
       "      <td>./test_imgs/BC_01_3418.png</td>\n",
       "      <td>37</td>\n",
       "      <td>2009-04-24</td>\n",
       "      <td>1</td>\n",
       "      <td>1</td>\n",
       "      <td>1</td>\n",
       "      <td>17.0</td>\n",
       "      <td>1.0</td>\n",
       "      <td>1.0</td>\n",
       "      <td>...</td>\n",
       "      <td>1.0</td>\n",
       "      <td>5.0</td>\n",
       "      <td>1.0</td>\n",
       "      <td>5.0</td>\n",
       "      <td>NaN</td>\n",
       "      <td>0.0</td>\n",
       "      <td>0.0</td>\n",
       "      <td>NaN</td>\n",
       "      <td>NaN</td>\n",
       "      <td>NaN</td>\n",
       "    </tr>\n",
       "    <tr>\n",
       "      <th>248</th>\n",
       "      <td>BC_01_3438</td>\n",
       "      <td>./test_imgs/BC_01_3438.png</td>\n",
       "      <td>37</td>\n",
       "      <td>2009-02-06</td>\n",
       "      <td>1</td>\n",
       "      <td>1</td>\n",
       "      <td>1</td>\n",
       "      <td>7.0</td>\n",
       "      <td>1.0</td>\n",
       "      <td>1.0</td>\n",
       "      <td>...</td>\n",
       "      <td>1.0</td>\n",
       "      <td>5.0</td>\n",
       "      <td>1.0</td>\n",
       "      <td>5.0</td>\n",
       "      <td>NaN</td>\n",
       "      <td>0.0</td>\n",
       "      <td>0.0</td>\n",
       "      <td>NaN</td>\n",
       "      <td>NaN</td>\n",
       "      <td>NaN</td>\n",
       "    </tr>\n",
       "    <tr>\n",
       "      <th>249</th>\n",
       "      <td>BC_01_3446</td>\n",
       "      <td>./test_imgs/BC_01_3446.png</td>\n",
       "      <td>84</td>\n",
       "      <td>2009-02-06</td>\n",
       "      <td>1</td>\n",
       "      <td>1</td>\n",
       "      <td>1</td>\n",
       "      <td>3.0</td>\n",
       "      <td>1.0</td>\n",
       "      <td>1.0</td>\n",
       "      <td>...</td>\n",
       "      <td>0.0</td>\n",
       "      <td>NaN</td>\n",
       "      <td>0.0</td>\n",
       "      <td>NaN</td>\n",
       "      <td>NaN</td>\n",
       "      <td>0.0</td>\n",
       "      <td>0.0</td>\n",
       "      <td>NaN</td>\n",
       "      <td>NaN</td>\n",
       "      <td>NaN</td>\n",
       "    </tr>\n",
       "  </tbody>\n",
       "</table>\n",
       "<p>250 rows × 26 columns</p>\n",
       "</div>"
      ],
      "text/plain": [
       "             ID                    img_path  나이       수술연월일  진단명  암의 위치  \\\n",
       "0    BC_01_0011  ./test_imgs/BC_01_0011.png  55  2015-11-17    2      2   \n",
       "1    BC_01_0220  ./test_imgs/BC_01_0220.png  43  2020-06-09    4      2   \n",
       "2    BC_01_0233  ./test_imgs/BC_01_0233.png  76  2020-05-14    1      1   \n",
       "3    BC_01_0258  ./test_imgs/BC_01_0258.png  58  2020-05-20    1      2   \n",
       "4    BC_01_0260  ./test_imgs/BC_01_0260.png  56  2020-05-20    1      2   \n",
       "..          ...                         ...  ..         ...  ...    ...   \n",
       "245  BC_01_3328  ./test_imgs/BC_01_3328.png  61  2009-10-30    1      1   \n",
       "246  BC_01_3404  ./test_imgs/BC_01_3404.png  42  2009-05-19    1      2   \n",
       "247  BC_01_3418  ./test_imgs/BC_01_3418.png  37  2009-04-24    1      1   \n",
       "248  BC_01_3438  ./test_imgs/BC_01_3438.png  37  2009-02-06    1      1   \n",
       "249  BC_01_3446  ./test_imgs/BC_01_3446.png  84  2009-02-06    1      1   \n",
       "\n",
       "     암의 개수  암의 장경   NG   HG  ...   ER  ER_Allred_score   PR  PR_Allred_score  \\\n",
       "0        1   23.0  2.0  2.0  ...  1.0              8.0  0.0              2.0   \n",
       "1        1   13.0  3.0  2.0  ...  1.0              4.0  1.0              8.0   \n",
       "2        1    NaN  NaN  NaN  ...  1.0              6.0  1.0              6.0   \n",
       "3        1    1.3  2.0  2.0  ...  1.0              7.0  0.0              NaN   \n",
       "4        2   15.0  3.0  3.0  ...  1.0              8.0  1.0              3.0   \n",
       "..     ...    ...  ...  ...  ...  ...              ...  ...              ...   \n",
       "245      1   18.0  2.0  2.0  ...  1.0              5.0  1.0              3.0   \n",
       "246      1   20.0  1.0  2.0  ...  1.0              5.0  1.0              5.0   \n",
       "247      1   17.0  1.0  1.0  ...  1.0              5.0  1.0              5.0   \n",
       "248      1    7.0  1.0  1.0  ...  1.0              5.0  1.0              5.0   \n",
       "249      1    3.0  1.0  1.0  ...  0.0              NaN  0.0              NaN   \n",
       "\n",
       "     KI-67_LI_percent  HER2  HER2_IHC  HER2_SISH  HER2_SISH_ratio  \\\n",
       "0                5.00   0.0       1.0        NaN              NaN   \n",
       "1                8.67   0.0       0.0        NaN              NaN   \n",
       "2                 NaN   NaN       2.0        NaN              NaN   \n",
       "3               21.17   1.0       3.0        NaN              NaN   \n",
       "4               20.57   1.0       3.0        NaN              NaN   \n",
       "..                ...   ...       ...        ...              ...   \n",
       "245               NaN   0.0       0.0        NaN              NaN   \n",
       "246               NaN   0.0       1.0        NaN              NaN   \n",
       "247               NaN   0.0       0.0        NaN              NaN   \n",
       "248               NaN   0.0       0.0        NaN              NaN   \n",
       "249               NaN   0.0       0.0        NaN              NaN   \n",
       "\n",
       "     BRCA_mutation  \n",
       "0              NaN  \n",
       "1              NaN  \n",
       "2              NaN  \n",
       "3              0.0  \n",
       "4              NaN  \n",
       "..             ...  \n",
       "245            NaN  \n",
       "246            NaN  \n",
       "247            NaN  \n",
       "248            NaN  \n",
       "249            NaN  \n",
       "\n",
       "[250 rows x 26 columns]"
      ]
     },
     "execution_count": 211,
     "metadata": {},
     "output_type": "execute_result"
    }
   ],
   "source": [
    "X_test"
   ]
  },
  {
   "cell_type": "code",
   "execution_count": 212,
   "id": "6bb3c7b6",
   "metadata": {
    "ExecuteTime": {
     "end_time": "2022-12-02T14:55:45.328795Z",
     "start_time": "2022-12-02T14:55:45.325050Z"
    }
   },
   "outputs": [],
   "source": [
    "def preprocess(X_train):\n",
    "    X_train = X_train[X_train.columns[2:]]\n",
    "    X_train = X_train.fillna(X_train.mean())    \n",
    "    X_train[\"수술연월일\"] = pd.to_datetime(X_train[\"수술연월일\"])\n",
    "    X_train[\"year\"] = X_train[\"수술연월일\"].dt.year\n",
    "    X_train[\"month\"] = X_train[\"수술연월일\"].dt.month\n",
    "    X_train[\"day\"] = X_train[\"수술연월일\"].dt.day\n",
    "    X_train[\"day_name\"] = X_train[\"수술연월일\"].dt.day_name()\n",
    "\n",
    "    date_list=[]\n",
    "    for i in range(len(X_train)):\n",
    "        date_list.append(str(X_train[\"year\"][i]).zfill(2)+str(X_train[\"month\"][i]).zfill(2) +str(X_train[\"day\"][i]).zfill(2))\n",
    "\n",
    "    X_train[\"수술연월일\"] = date_list\n",
    "\n",
    "    encoder = LabelEncoder()\n",
    "    X_train[\"day_name\"] = pd.DataFrame(encoder.fit_transform(np.reshape(np.array(X_train[\"day_name\"]), (-1,1))))\n",
    "\n",
    "    index = [i for i in range(28)if i != 24]\n",
    "    X_train = X_train[X_train.columns[index]]\n",
    "    return X_train"
   ]
  },
  {
   "cell_type": "code",
   "execution_count": 213,
   "id": "e538161b",
   "metadata": {
    "ExecuteTime": {
     "end_time": "2022-12-02T14:55:45.343007Z",
     "start_time": "2022-12-02T14:55:45.330269Z"
    }
   },
   "outputs": [
    {
     "name": "stderr",
     "output_type": "stream",
     "text": [
      "/tmp/ipykernel_360/2787174443.py:3: FutureWarning: The default value of numeric_only in DataFrame.mean is deprecated. In a future version, it will default to False. In addition, specifying 'numeric_only=None' is deprecated. Select only valid columns or specify the value of numeric_only to silence this warning.\n",
      "  X_train = X_train.fillna(X_train.mean())\n",
      "/home/hykhhijk/anaconda3/envs/dl/lib/python3.9/site-packages/sklearn/preprocessing/_label.py:115: DataConversionWarning: A column-vector y was passed when a 1d array was expected. Please change the shape of y to (n_samples, ), for example using ravel().\n",
      "  y = column_or_1d(y, warn=True)\n"
     ]
    }
   ],
   "source": [
    "X_test = preprocess(X_test)"
   ]
  },
  {
   "cell_type": "code",
   "execution_count": 214,
   "id": "8e19dae5",
   "metadata": {
    "ExecuteTime": {
     "end_time": "2022-12-02T14:55:45.355416Z",
     "start_time": "2022-12-02T14:55:45.344201Z"
    }
   },
   "outputs": [
    {
     "data": {
      "text/html": [
       "<div>\n",
       "<style scoped>\n",
       "    .dataframe tbody tr th:only-of-type {\n",
       "        vertical-align: middle;\n",
       "    }\n",
       "\n",
       "    .dataframe tbody tr th {\n",
       "        vertical-align: top;\n",
       "    }\n",
       "\n",
       "    .dataframe thead th {\n",
       "        text-align: right;\n",
       "    }\n",
       "</style>\n",
       "<table border=\"1\" class=\"dataframe\">\n",
       "  <thead>\n",
       "    <tr style=\"text-align: right;\">\n",
       "      <th></th>\n",
       "      <th>나이</th>\n",
       "      <th>수술연월일</th>\n",
       "      <th>진단명</th>\n",
       "      <th>암의 위치</th>\n",
       "      <th>암의 개수</th>\n",
       "      <th>암의 장경</th>\n",
       "      <th>NG</th>\n",
       "      <th>HG</th>\n",
       "      <th>HG_score_1</th>\n",
       "      <th>HG_score_2</th>\n",
       "      <th>...</th>\n",
       "      <th>PR_Allred_score</th>\n",
       "      <th>KI-67_LI_percent</th>\n",
       "      <th>HER2</th>\n",
       "      <th>HER2_IHC</th>\n",
       "      <th>HER2_SISH</th>\n",
       "      <th>HER2_SISH_ratio</th>\n",
       "      <th>BRCA_mutation</th>\n",
       "      <th>month</th>\n",
       "      <th>day</th>\n",
       "      <th>day_name</th>\n",
       "    </tr>\n",
       "  </thead>\n",
       "  <tbody>\n",
       "    <tr>\n",
       "      <th>0</th>\n",
       "      <td>55</td>\n",
       "      <td>20151117</td>\n",
       "      <td>2</td>\n",
       "      <td>2</td>\n",
       "      <td>1</td>\n",
       "      <td>23.000000</td>\n",
       "      <td>2.000000</td>\n",
       "      <td>2.000000</td>\n",
       "      <td>3.000000</td>\n",
       "      <td>2.000000</td>\n",
       "      <td>...</td>\n",
       "      <td>2.0</td>\n",
       "      <td>5.000000</td>\n",
       "      <td>0.00000</td>\n",
       "      <td>1.0</td>\n",
       "      <td>0.213115</td>\n",
       "      <td>2.290222</td>\n",
       "      <td>0.0</td>\n",
       "      <td>11</td>\n",
       "      <td>17</td>\n",
       "      <td>4</td>\n",
       "    </tr>\n",
       "    <tr>\n",
       "      <th>1</th>\n",
       "      <td>43</td>\n",
       "      <td>20200609</td>\n",
       "      <td>4</td>\n",
       "      <td>2</td>\n",
       "      <td>1</td>\n",
       "      <td>13.000000</td>\n",
       "      <td>3.000000</td>\n",
       "      <td>2.000000</td>\n",
       "      <td>2.000000</td>\n",
       "      <td>3.000000</td>\n",
       "      <td>...</td>\n",
       "      <td>8.0</td>\n",
       "      <td>8.670000</td>\n",
       "      <td>0.00000</td>\n",
       "      <td>0.0</td>\n",
       "      <td>0.213115</td>\n",
       "      <td>2.290222</td>\n",
       "      <td>0.0</td>\n",
       "      <td>6</td>\n",
       "      <td>9</td>\n",
       "      <td>4</td>\n",
       "    </tr>\n",
       "    <tr>\n",
       "      <th>2</th>\n",
       "      <td>76</td>\n",
       "      <td>20200514</td>\n",
       "      <td>1</td>\n",
       "      <td>1</td>\n",
       "      <td>1</td>\n",
       "      <td>18.793249</td>\n",
       "      <td>2.076596</td>\n",
       "      <td>1.974359</td>\n",
       "      <td>2.659483</td>\n",
       "      <td>2.155172</td>\n",
       "      <td>...</td>\n",
       "      <td>6.0</td>\n",
       "      <td>17.404697</td>\n",
       "      <td>0.27459</td>\n",
       "      <td>2.0</td>\n",
       "      <td>0.213115</td>\n",
       "      <td>2.290222</td>\n",
       "      <td>0.0</td>\n",
       "      <td>5</td>\n",
       "      <td>14</td>\n",
       "      <td>3</td>\n",
       "    </tr>\n",
       "    <tr>\n",
       "      <th>3</th>\n",
       "      <td>58</td>\n",
       "      <td>20200520</td>\n",
       "      <td>1</td>\n",
       "      <td>2</td>\n",
       "      <td>1</td>\n",
       "      <td>1.300000</td>\n",
       "      <td>2.000000</td>\n",
       "      <td>2.000000</td>\n",
       "      <td>3.000000</td>\n",
       "      <td>2.000000</td>\n",
       "      <td>...</td>\n",
       "      <td>6.0</td>\n",
       "      <td>21.170000</td>\n",
       "      <td>1.00000</td>\n",
       "      <td>3.0</td>\n",
       "      <td>0.213115</td>\n",
       "      <td>2.290222</td>\n",
       "      <td>0.0</td>\n",
       "      <td>5</td>\n",
       "      <td>20</td>\n",
       "      <td>5</td>\n",
       "    </tr>\n",
       "    <tr>\n",
       "      <th>4</th>\n",
       "      <td>56</td>\n",
       "      <td>20200520</td>\n",
       "      <td>1</td>\n",
       "      <td>2</td>\n",
       "      <td>2</td>\n",
       "      <td>15.000000</td>\n",
       "      <td>3.000000</td>\n",
       "      <td>3.000000</td>\n",
       "      <td>3.000000</td>\n",
       "      <td>3.000000</td>\n",
       "      <td>...</td>\n",
       "      <td>3.0</td>\n",
       "      <td>20.570000</td>\n",
       "      <td>1.00000</td>\n",
       "      <td>3.0</td>\n",
       "      <td>0.213115</td>\n",
       "      <td>2.290222</td>\n",
       "      <td>0.0</td>\n",
       "      <td>5</td>\n",
       "      <td>20</td>\n",
       "      <td>5</td>\n",
       "    </tr>\n",
       "    <tr>\n",
       "      <th>...</th>\n",
       "      <td>...</td>\n",
       "      <td>...</td>\n",
       "      <td>...</td>\n",
       "      <td>...</td>\n",
       "      <td>...</td>\n",
       "      <td>...</td>\n",
       "      <td>...</td>\n",
       "      <td>...</td>\n",
       "      <td>...</td>\n",
       "      <td>...</td>\n",
       "      <td>...</td>\n",
       "      <td>...</td>\n",
       "      <td>...</td>\n",
       "      <td>...</td>\n",
       "      <td>...</td>\n",
       "      <td>...</td>\n",
       "      <td>...</td>\n",
       "      <td>...</td>\n",
       "      <td>...</td>\n",
       "      <td>...</td>\n",
       "      <td>...</td>\n",
       "    </tr>\n",
       "    <tr>\n",
       "      <th>245</th>\n",
       "      <td>61</td>\n",
       "      <td>20091030</td>\n",
       "      <td>1</td>\n",
       "      <td>1</td>\n",
       "      <td>1</td>\n",
       "      <td>18.000000</td>\n",
       "      <td>2.000000</td>\n",
       "      <td>2.000000</td>\n",
       "      <td>3.000000</td>\n",
       "      <td>2.000000</td>\n",
       "      <td>...</td>\n",
       "      <td>3.0</td>\n",
       "      <td>17.404697</td>\n",
       "      <td>0.00000</td>\n",
       "      <td>0.0</td>\n",
       "      <td>0.213115</td>\n",
       "      <td>2.290222</td>\n",
       "      <td>0.0</td>\n",
       "      <td>10</td>\n",
       "      <td>30</td>\n",
       "      <td>0</td>\n",
       "    </tr>\n",
       "    <tr>\n",
       "      <th>246</th>\n",
       "      <td>42</td>\n",
       "      <td>20090519</td>\n",
       "      <td>1</td>\n",
       "      <td>2</td>\n",
       "      <td>1</td>\n",
       "      <td>20.000000</td>\n",
       "      <td>1.000000</td>\n",
       "      <td>2.000000</td>\n",
       "      <td>3.000000</td>\n",
       "      <td>2.000000</td>\n",
       "      <td>...</td>\n",
       "      <td>5.0</td>\n",
       "      <td>17.404697</td>\n",
       "      <td>0.00000</td>\n",
       "      <td>1.0</td>\n",
       "      <td>0.213115</td>\n",
       "      <td>2.290222</td>\n",
       "      <td>0.0</td>\n",
       "      <td>5</td>\n",
       "      <td>19</td>\n",
       "      <td>4</td>\n",
       "    </tr>\n",
       "    <tr>\n",
       "      <th>247</th>\n",
       "      <td>37</td>\n",
       "      <td>20090424</td>\n",
       "      <td>1</td>\n",
       "      <td>1</td>\n",
       "      <td>1</td>\n",
       "      <td>17.000000</td>\n",
       "      <td>1.000000</td>\n",
       "      <td>1.000000</td>\n",
       "      <td>3.000000</td>\n",
       "      <td>1.000000</td>\n",
       "      <td>...</td>\n",
       "      <td>5.0</td>\n",
       "      <td>17.404697</td>\n",
       "      <td>0.00000</td>\n",
       "      <td>0.0</td>\n",
       "      <td>0.213115</td>\n",
       "      <td>2.290222</td>\n",
       "      <td>0.0</td>\n",
       "      <td>4</td>\n",
       "      <td>24</td>\n",
       "      <td>0</td>\n",
       "    </tr>\n",
       "    <tr>\n",
       "      <th>248</th>\n",
       "      <td>37</td>\n",
       "      <td>20090206</td>\n",
       "      <td>1</td>\n",
       "      <td>1</td>\n",
       "      <td>1</td>\n",
       "      <td>7.000000</td>\n",
       "      <td>1.000000</td>\n",
       "      <td>1.000000</td>\n",
       "      <td>2.000000</td>\n",
       "      <td>1.000000</td>\n",
       "      <td>...</td>\n",
       "      <td>5.0</td>\n",
       "      <td>17.404697</td>\n",
       "      <td>0.00000</td>\n",
       "      <td>0.0</td>\n",
       "      <td>0.213115</td>\n",
       "      <td>2.290222</td>\n",
       "      <td>0.0</td>\n",
       "      <td>2</td>\n",
       "      <td>6</td>\n",
       "      <td>0</td>\n",
       "    </tr>\n",
       "    <tr>\n",
       "      <th>249</th>\n",
       "      <td>84</td>\n",
       "      <td>20090206</td>\n",
       "      <td>1</td>\n",
       "      <td>1</td>\n",
       "      <td>1</td>\n",
       "      <td>3.000000</td>\n",
       "      <td>1.000000</td>\n",
       "      <td>1.000000</td>\n",
       "      <td>1.000000</td>\n",
       "      <td>1.000000</td>\n",
       "      <td>...</td>\n",
       "      <td>6.0</td>\n",
       "      <td>17.404697</td>\n",
       "      <td>0.00000</td>\n",
       "      <td>0.0</td>\n",
       "      <td>0.213115</td>\n",
       "      <td>2.290222</td>\n",
       "      <td>0.0</td>\n",
       "      <td>2</td>\n",
       "      <td>6</td>\n",
       "      <td>0</td>\n",
       "    </tr>\n",
       "  </tbody>\n",
       "</table>\n",
       "<p>250 rows × 27 columns</p>\n",
       "</div>"
      ],
      "text/plain": [
       "     나이     수술연월일  진단명  암의 위치  암의 개수      암의 장경        NG        HG  \\\n",
       "0    55  20151117    2      2      1  23.000000  2.000000  2.000000   \n",
       "1    43  20200609    4      2      1  13.000000  3.000000  2.000000   \n",
       "2    76  20200514    1      1      1  18.793249  2.076596  1.974359   \n",
       "3    58  20200520    1      2      1   1.300000  2.000000  2.000000   \n",
       "4    56  20200520    1      2      2  15.000000  3.000000  3.000000   \n",
       "..   ..       ...  ...    ...    ...        ...       ...       ...   \n",
       "245  61  20091030    1      1      1  18.000000  2.000000  2.000000   \n",
       "246  42  20090519    1      2      1  20.000000  1.000000  2.000000   \n",
       "247  37  20090424    1      1      1  17.000000  1.000000  1.000000   \n",
       "248  37  20090206    1      1      1   7.000000  1.000000  1.000000   \n",
       "249  84  20090206    1      1      1   3.000000  1.000000  1.000000   \n",
       "\n",
       "     HG_score_1  HG_score_2  ...  PR_Allred_score  KI-67_LI_percent     HER2  \\\n",
       "0      3.000000    2.000000  ...              2.0          5.000000  0.00000   \n",
       "1      2.000000    3.000000  ...              8.0          8.670000  0.00000   \n",
       "2      2.659483    2.155172  ...              6.0         17.404697  0.27459   \n",
       "3      3.000000    2.000000  ...              6.0         21.170000  1.00000   \n",
       "4      3.000000    3.000000  ...              3.0         20.570000  1.00000   \n",
       "..          ...         ...  ...              ...               ...      ...   \n",
       "245    3.000000    2.000000  ...              3.0         17.404697  0.00000   \n",
       "246    3.000000    2.000000  ...              5.0         17.404697  0.00000   \n",
       "247    3.000000    1.000000  ...              5.0         17.404697  0.00000   \n",
       "248    2.000000    1.000000  ...              5.0         17.404697  0.00000   \n",
       "249    1.000000    1.000000  ...              6.0         17.404697  0.00000   \n",
       "\n",
       "     HER2_IHC  HER2_SISH  HER2_SISH_ratio  BRCA_mutation  month  day  day_name  \n",
       "0         1.0   0.213115         2.290222            0.0     11   17         4  \n",
       "1         0.0   0.213115         2.290222            0.0      6    9         4  \n",
       "2         2.0   0.213115         2.290222            0.0      5   14         3  \n",
       "3         3.0   0.213115         2.290222            0.0      5   20         5  \n",
       "4         3.0   0.213115         2.290222            0.0      5   20         5  \n",
       "..        ...        ...              ...            ...    ...  ...       ...  \n",
       "245       0.0   0.213115         2.290222            0.0     10   30         0  \n",
       "246       1.0   0.213115         2.290222            0.0      5   19         4  \n",
       "247       0.0   0.213115         2.290222            0.0      4   24         0  \n",
       "248       0.0   0.213115         2.290222            0.0      2    6         0  \n",
       "249       0.0   0.213115         2.290222            0.0      2    6         0  \n",
       "\n",
       "[250 rows x 27 columns]"
      ]
     },
     "execution_count": 214,
     "metadata": {},
     "output_type": "execute_result"
    }
   ],
   "source": [
    "X_test"
   ]
  },
  {
   "cell_type": "code",
   "execution_count": 228,
   "id": "b0ef6a35",
   "metadata": {
    "ExecuteTime": {
     "end_time": "2022-12-02T14:55:52.699972Z",
     "start_time": "2022-12-02T14:55:52.687009Z"
    }
   },
   "outputs": [],
   "source": [
    "pred = model.predict(X_test)"
   ]
  },
  {
   "cell_type": "code",
   "execution_count": 229,
   "id": "56ddafc1",
   "metadata": {
    "ExecuteTime": {
     "end_time": "2022-12-02T14:55:56.495583Z",
     "start_time": "2022-12-02T14:55:56.492002Z"
    }
   },
   "outputs": [],
   "source": [
    "submission[\"N_category\"] = pred"
   ]
  },
  {
   "cell_type": "code",
   "execution_count": 230,
   "id": "3f1e492f",
   "metadata": {
    "ExecuteTime": {
     "end_time": "2022-12-02T14:56:00.187901Z",
     "start_time": "2022-12-02T14:56:00.165661Z"
    }
   },
   "outputs": [],
   "source": [
    "submission.to_csv(\"./submission_tabular.csv\", index=False)"
   ]
  },
  {
   "cell_type": "markdown",
   "id": "52ef52c3",
   "metadata": {},
   "source": [
    "# Data preprocessing "
   ]
  },
  {
   "cell_type": "code",
   "execution_count": 215,
   "id": "bb9142e9",
   "metadata": {
    "ExecuteTime": {
     "end_time": "2022-12-02T14:55:45.358630Z",
     "start_time": "2022-12-02T14:55:45.356591Z"
    }
   },
   "outputs": [],
   "source": [
    "from sklearn.metrics import classification_report\n",
    "from sklearn.model_selection import StratifiedKFold\n",
    "from sklearn.metrics import precision_recall_fscore_support"
   ]
  },
  {
   "cell_type": "code",
   "execution_count": 216,
   "id": "08b9d685",
   "metadata": {
    "ExecuteTime": {
     "end_time": "2022-12-02T14:55:45.375555Z",
     "start_time": "2022-12-02T14:55:45.360062Z"
    }
   },
   "outputs": [
    {
     "name": "stderr",
     "output_type": "stream",
     "text": [
      "/home/hykhhijk/anaconda3/envs/dl/lib/python3.9/site-packages/sklearn/preprocessing/_label.py:115: DataConversionWarning: A column-vector y was passed when a 1d array was expected. Please change the shape of y to (n_samples, ), for example using ravel().\n",
      "  y = column_or_1d(y, warn=True)\n"
     ]
    }
   ],
   "source": [
    "original_X[\"수술연월일\"] = pd.to_datetime(original_X[\"수술연월일\"])\n",
    "original_X[\"year\"] = original_X[\"수술연월일\"].dt.year\n",
    "original_X[\"month\"] = original_X[\"수술연월일\"].dt.month\n",
    "original_X[\"day\"] = original_X[\"수술연월일\"].dt.day\n",
    "original_X[\"day_name\"] = original_X[\"수술연월일\"].dt.day_name()\n",
    "encoder = LabelEncoder()\n",
    "original_X[\"day_name\"] = pd.DataFrame(encoder.fit_transform(np.reshape(np.array(original_X[\"day_name\"]), (-1,1))))\n",
    "\n",
    "date_list=[]\n",
    "for i in range(len(original_X)):\n",
    "    date_list.append(str(original_X[\"year\"][i]).zfill(2)+str(original_X[\"month\"][i]).zfill(2) +str(original_X[\"day\"][i]).zfill(2))\n",
    "original_X[\"수술연월일\"] = date_list"
   ]
  },
  {
   "cell_type": "code",
   "execution_count": 217,
   "id": "43d576a8",
   "metadata": {
    "ExecuteTime": {
     "end_time": "2022-12-02T14:55:45.379699Z",
     "start_time": "2022-12-02T14:55:45.376769Z"
    }
   },
   "outputs": [],
   "source": [
    "def process_score(X):\n",
    "    f1_list=[]\n",
    "#     X_train, X_valid, y_train, y_valid = train_test_split(data, y, stratify=y, test_size=0.2)\n",
    "    skf = StratifiedKFold(n_splits=5)\n",
    "    skf.get_n_splits(X, y)    \n",
    "    for train_index, test_index in skf.split(X, y):\n",
    "        X_train, X_test = X.iloc[train_index], X.iloc[test_index]\n",
    "        y_train, y_test = y[train_index], y[test_index]\n",
    "        model = RandomForestClassifier()\n",
    "        model.fit(X_train, y_train)\n",
    "        pred = model.predict(X_test)\n",
    "        f1_list.append(precision_recall_fscore_support(pred, y_test, average=\"macro\")[2])\n",
    "    print(np.array(f1_list).mean())"
   ]
  },
  {
   "cell_type": "code",
   "execution_count": 218,
   "id": "2f974ea4",
   "metadata": {
    "ExecuteTime": {
     "end_time": "2022-12-02T14:55:45.870980Z",
     "start_time": "2022-12-02T14:55:45.381585Z"
    }
   },
   "outputs": [
    {
     "name": "stdout",
     "output_type": "stream",
     "text": [
      "0.5515236378569701\n"
     ]
    },
    {
     "name": "stderr",
     "output_type": "stream",
     "text": [
      "/home/hykhhijk/anaconda3/envs/dl/lib/python3.9/site-packages/sklearn/metrics/_classification.py:1334: UndefinedMetricWarning: Recall and F-score are ill-defined and being set to 0.0 in labels with no true samples. Use `zero_division` parameter to control this behavior.\n",
      "  _warn_prf(average, modifier, msg_start, len(result))\n"
     ]
    }
   ],
   "source": [
    "process_score(original_X)"
   ]
  },
  {
   "cell_type": "code",
   "execution_count": 219,
   "id": "68af775b",
   "metadata": {
    "ExecuteTime": {
     "end_time": "2022-12-02T14:55:45.972093Z",
     "start_time": "2022-12-02T14:55:45.872395Z"
    }
   },
   "outputs": [
    {
     "data": {
      "text/html": [
       "<div>\n",
       "<style scoped>\n",
       "    .dataframe tbody tr th:only-of-type {\n",
       "        vertical-align: middle;\n",
       "    }\n",
       "\n",
       "    .dataframe tbody tr th {\n",
       "        vertical-align: top;\n",
       "    }\n",
       "\n",
       "    .dataframe thead th {\n",
       "        text-align: right;\n",
       "    }\n",
       "</style>\n",
       "<table border=\"1\" class=\"dataframe\">\n",
       "  <thead>\n",
       "    <tr style=\"text-align: right;\">\n",
       "      <th></th>\n",
       "      <th>0</th>\n",
       "      <th>1</th>\n",
       "    </tr>\n",
       "  </thead>\n",
       "  <tbody>\n",
       "    <tr>\n",
       "      <th>1</th>\n",
       "      <td>수술연월일</td>\n",
       "      <td>0.188094</td>\n",
       "    </tr>\n",
       "    <tr>\n",
       "      <th>5</th>\n",
       "      <td>암의 장경</td>\n",
       "      <td>0.085509</td>\n",
       "    </tr>\n",
       "    <tr>\n",
       "      <th>11</th>\n",
       "      <td>DCIS_or_LCIS_여부</td>\n",
       "      <td>0.071029</td>\n",
       "    </tr>\n",
       "    <tr>\n",
       "      <th>6</th>\n",
       "      <td>NG</td>\n",
       "      <td>0.064210</td>\n",
       "    </tr>\n",
       "    <tr>\n",
       "      <th>0</th>\n",
       "      <td>나이</td>\n",
       "      <td>0.062080</td>\n",
       "    </tr>\n",
       "    <tr>\n",
       "      <th>25</th>\n",
       "      <td>day</td>\n",
       "      <td>0.051184</td>\n",
       "    </tr>\n",
       "    <tr>\n",
       "      <th>18</th>\n",
       "      <td>KI-67_LI_percent</td>\n",
       "      <td>0.046831</td>\n",
       "    </tr>\n",
       "    <tr>\n",
       "      <th>24</th>\n",
       "      <td>month</td>\n",
       "      <td>0.040431</td>\n",
       "    </tr>\n",
       "    <tr>\n",
       "      <th>7</th>\n",
       "      <td>HG</td>\n",
       "      <td>0.039255</td>\n",
       "    </tr>\n",
       "    <tr>\n",
       "      <th>17</th>\n",
       "      <td>PR_Allred_score</td>\n",
       "      <td>0.035308</td>\n",
       "    </tr>\n",
       "    <tr>\n",
       "      <th>8</th>\n",
       "      <td>HG_score_1</td>\n",
       "      <td>0.034428</td>\n",
       "    </tr>\n",
       "    <tr>\n",
       "      <th>13</th>\n",
       "      <td>T_category</td>\n",
       "      <td>0.031258</td>\n",
       "    </tr>\n",
       "    <tr>\n",
       "      <th>9</th>\n",
       "      <td>HG_score_2</td>\n",
       "      <td>0.027112</td>\n",
       "    </tr>\n",
       "    <tr>\n",
       "      <th>26</th>\n",
       "      <td>day_name</td>\n",
       "      <td>0.027092</td>\n",
       "    </tr>\n",
       "    <tr>\n",
       "      <th>15</th>\n",
       "      <td>ER_Allred_score</td>\n",
       "      <td>0.025627</td>\n",
       "    </tr>\n",
       "    <tr>\n",
       "      <th>20</th>\n",
       "      <td>HER2_IHC</td>\n",
       "      <td>0.021386</td>\n",
       "    </tr>\n",
       "    <tr>\n",
       "      <th>22</th>\n",
       "      <td>HER2_SISH_ratio</td>\n",
       "      <td>0.021379</td>\n",
       "    </tr>\n",
       "    <tr>\n",
       "      <th>12</th>\n",
       "      <td>DCIS_or_LCIS_type</td>\n",
       "      <td>0.021125</td>\n",
       "    </tr>\n",
       "    <tr>\n",
       "      <th>4</th>\n",
       "      <td>암의 개수</td>\n",
       "      <td>0.020614</td>\n",
       "    </tr>\n",
       "    <tr>\n",
       "      <th>3</th>\n",
       "      <td>암의 위치</td>\n",
       "      <td>0.019121</td>\n",
       "    </tr>\n",
       "    <tr>\n",
       "      <th>10</th>\n",
       "      <td>HG_score_3</td>\n",
       "      <td>0.016717</td>\n",
       "    </tr>\n",
       "    <tr>\n",
       "      <th>16</th>\n",
       "      <td>PR</td>\n",
       "      <td>0.013278</td>\n",
       "    </tr>\n",
       "    <tr>\n",
       "      <th>2</th>\n",
       "      <td>진단명</td>\n",
       "      <td>0.009918</td>\n",
       "    </tr>\n",
       "    <tr>\n",
       "      <th>19</th>\n",
       "      <td>HER2</td>\n",
       "      <td>0.008694</td>\n",
       "    </tr>\n",
       "    <tr>\n",
       "      <th>21</th>\n",
       "      <td>HER2_SISH</td>\n",
       "      <td>0.007587</td>\n",
       "    </tr>\n",
       "    <tr>\n",
       "      <th>14</th>\n",
       "      <td>ER</td>\n",
       "      <td>0.006314</td>\n",
       "    </tr>\n",
       "    <tr>\n",
       "      <th>23</th>\n",
       "      <td>BRCA_mutation</td>\n",
       "      <td>0.004418</td>\n",
       "    </tr>\n",
       "  </tbody>\n",
       "</table>\n",
       "</div>"
      ],
      "text/plain": [
       "                    0         1\n",
       "1               수술연월일  0.188094\n",
       "5               암의 장경  0.085509\n",
       "11    DCIS_or_LCIS_여부  0.071029\n",
       "6                  NG  0.064210\n",
       "0                  나이  0.062080\n",
       "25                day  0.051184\n",
       "18   KI-67_LI_percent  0.046831\n",
       "24              month  0.040431\n",
       "7                  HG  0.039255\n",
       "17    PR_Allred_score  0.035308\n",
       "8          HG_score_1  0.034428\n",
       "13         T_category  0.031258\n",
       "9          HG_score_2  0.027112\n",
       "26           day_name  0.027092\n",
       "15    ER_Allred_score  0.025627\n",
       "20           HER2_IHC  0.021386\n",
       "22    HER2_SISH_ratio  0.021379\n",
       "12  DCIS_or_LCIS_type  0.021125\n",
       "4               암의 개수  0.020614\n",
       "3               암의 위치  0.019121\n",
       "10         HG_score_3  0.016717\n",
       "16                 PR  0.013278\n",
       "2                 진단명  0.009918\n",
       "19               HER2  0.008694\n",
       "21          HER2_SISH  0.007587\n",
       "14                 ER  0.006314\n",
       "23      BRCA_mutation  0.004418"
      ]
     },
     "execution_count": 219,
     "metadata": {},
     "output_type": "execute_result"
    }
   ],
   "source": [
    "feature_list=[]\n",
    "for i in range(len(model.feature_importances_)):\n",
    "    feature_list.append([X_train.columns[i], model.feature_importances_[i]])\n",
    "feature_df = pd.DataFrame(feature_list)\n",
    "feature_df.sort_values(1, ascending=False)\n",
    "# feature_list = np.array(feature_list)\n",
    "# plt.xticks(rotation=45)\n",
    "# plt.bar(feature_list[:,0], feature_list[:,1].astype(\"float\"))"
   ]
  },
  {
   "cell_type": "code",
   "execution_count": 220,
   "id": "c99dd3b6",
   "metadata": {
    "ExecuteTime": {
     "end_time": "2022-12-02T14:55:45.990954Z",
     "start_time": "2022-12-02T14:55:45.976030Z"
    }
   },
   "outputs": [
    {
     "name": "stdout",
     "output_type": "stream",
     "text": [
      "<class 'pandas.core.frame.DataFrame'>\n",
      "RangeIndex: 1000 entries, 0 to 999\n",
      "Data columns (total 28 columns):\n",
      " #   Column             Non-Null Count  Dtype  \n",
      "---  ------             --------------  -----  \n",
      " 0   ID                 1000 non-null   object \n",
      " 1   img_path           1000 non-null   object \n",
      " 2   mask_path          1000 non-null   object \n",
      " 3   나이                 1000 non-null   int64  \n",
      " 4   수술연월일              1000 non-null   object \n",
      " 5   진단명                1000 non-null   int64  \n",
      " 6   암의 위치              1000 non-null   int64  \n",
      " 7   암의 개수              1000 non-null   int64  \n",
      " 8   암의 장경              931 non-null    float64\n",
      " 9   NG                 949 non-null    float64\n",
      " 10  HG                 914 non-null    float64\n",
      " 11  HG_score_1         908 non-null    float64\n",
      " 12  HG_score_2         908 non-null    float64\n",
      " 13  HG_score_3         911 non-null    float64\n",
      " 14  DCIS_or_LCIS_여부    1000 non-null   int64  \n",
      " 15  DCIS_or_LCIS_type  126 non-null    float64\n",
      " 16  T_category         996 non-null    float64\n",
      " 17  ER                 999 non-null    float64\n",
      " 18  ER_Allred_score    703 non-null    float64\n",
      " 19  PR                 999 non-null    float64\n",
      " 20  PR_Allred_score    547 non-null    float64\n",
      " 21  KI-67_LI_percent   765 non-null    float64\n",
      " 22  HER2               986 non-null    float64\n",
      " 23  HER2_IHC           976 non-null    float64\n",
      " 24  HER2_SISH          247 non-null    float64\n",
      " 25  HER2_SISH_ratio    175 non-null    float64\n",
      " 26  BRCA_mutation      55 non-null     float64\n",
      " 27  N_category         1000 non-null   int64  \n",
      "dtypes: float64(18), int64(6), object(4)\n",
      "memory usage: 218.9+ KB\n"
     ]
    }
   ],
   "source": [
    "X = pd.read_csv(os.path.join(path, \"train.csv\"))\n",
    "X.info()"
   ]
  },
  {
   "cell_type": "code",
   "execution_count": 221,
   "id": "757609db",
   "metadata": {
    "ExecuteTime": {
     "end_time": "2022-12-02T14:55:45.995926Z",
     "start_time": "2022-12-02T14:55:45.992161Z"
    }
   },
   "outputs": [
    {
     "name": "stderr",
     "output_type": "stream",
     "text": [
      "/tmp/ipykernel_360/3921787701.py:1: FutureWarning: The default value of numeric_only in DataFrame.corr is deprecated. In a future version, it will default to False. Select only valid columns or specify the value of numeric_only to silence this warning.\n",
      "  corr = X.corr()\n"
     ]
    }
   ],
   "source": [
    "corr = X.corr()"
   ]
  },
  {
   "cell_type": "markdown",
   "id": "3fa22b49",
   "metadata": {},
   "source": [
    "## missing values"
   ]
  },
  {
   "cell_type": "code",
   "execution_count": 222,
   "id": "b5fa4d06",
   "metadata": {
    "ExecuteTime": {
     "end_time": "2022-12-02T14:55:46.001578Z",
     "start_time": "2022-12-02T14:55:45.997170Z"
    },
    "scrolled": true
   },
   "outputs": [
    {
     "name": "stdout",
     "output_type": "stream",
     "text": [
      "암의 장경                1.000000\n",
      "T_category           0.809469\n",
      "HG                   0.353011\n",
      "HER2_SISH_ratio      0.348833\n",
      "NG                   0.311455\n",
      "HG_score_2           0.309582\n",
      "HG_score_3           0.308494\n",
      "N_category           0.292102\n",
      "HG_score_1           0.249808\n",
      "KI-67_LI_percent     0.237337\n",
      "나이                   0.127918\n",
      "HER2_SISH            0.112631\n",
      "DCIS_or_LCIS_type    0.095926\n",
      "ER_Allred_score      0.080298\n",
      "PR_Allred_score      0.062952\n",
      "DCIS_or_LCIS_여부      0.021600\n",
      "암의 개수                0.011457\n",
      "진단명                  0.006628\n",
      "HER2                -0.002667\n",
      "암의 위치               -0.005704\n",
      "HER2_IHC            -0.015271\n",
      "BRCA_mutation       -0.078003\n",
      "PR                  -0.101581\n",
      "ER                  -0.140662\n",
      "Name: 암의 장경, dtype: float64\n"
     ]
    }
   ],
   "source": [
    "print(corr[\"암의 장경\"].sort_values(ascending=False))"
   ]
  },
  {
   "cell_type": "markdown",
   "id": "91f1512f",
   "metadata": {},
   "source": [
    "암의 장경은 T_category및 HG와 연관성이 크므로 이를 이용하여 결측치를 채움"
   ]
  },
  {
   "cell_type": "code",
   "execution_count": 223,
   "id": "fbfeee26",
   "metadata": {
    "ExecuteTime": {
     "end_time": "2022-12-02T14:55:46.019519Z",
     "start_time": "2022-12-02T14:55:46.002752Z"
    }
   },
   "outputs": [
    {
     "name": "stderr",
     "output_type": "stream",
     "text": [
      "/tmp/ipykernel_360/142092162.py:1: FutureWarning: ['ID', 'img_path', 'mask_path', '수술연월일'] did not aggregate successfully. If any error is raised this will raise in a future version of pandas. Drop these columns/ops to avoid this warning.\n",
      "  X.groupby(\"T_category\").agg([\"mean\", \"median\"])[\"암의 장경\"]\n"
     ]
    },
    {
     "data": {
      "text/html": [
       "<div>\n",
       "<style scoped>\n",
       "    .dataframe tbody tr th:only-of-type {\n",
       "        vertical-align: middle;\n",
       "    }\n",
       "\n",
       "    .dataframe tbody tr th {\n",
       "        vertical-align: top;\n",
       "    }\n",
       "\n",
       "    .dataframe thead th {\n",
       "        text-align: right;\n",
       "    }\n",
       "</style>\n",
       "<table border=\"1\" class=\"dataframe\">\n",
       "  <thead>\n",
       "    <tr style=\"text-align: right;\">\n",
       "      <th></th>\n",
       "      <th>mean</th>\n",
       "      <th>median</th>\n",
       "    </tr>\n",
       "    <tr>\n",
       "      <th>T_category</th>\n",
       "      <th></th>\n",
       "      <th></th>\n",
       "    </tr>\n",
       "  </thead>\n",
       "  <tbody>\n",
       "    <tr>\n",
       "      <th>0.0</th>\n",
       "      <td>0.000000</td>\n",
       "      <td>0.0</td>\n",
       "    </tr>\n",
       "    <tr>\n",
       "      <th>1.0</th>\n",
       "      <td>12.192583</td>\n",
       "      <td>13.0</td>\n",
       "    </tr>\n",
       "    <tr>\n",
       "      <th>2.0</th>\n",
       "      <td>27.715082</td>\n",
       "      <td>25.0</td>\n",
       "    </tr>\n",
       "    <tr>\n",
       "      <th>3.0</th>\n",
       "      <td>66.812500</td>\n",
       "      <td>60.0</td>\n",
       "    </tr>\n",
       "    <tr>\n",
       "      <th>4.0</th>\n",
       "      <td>60.750000</td>\n",
       "      <td>68.0</td>\n",
       "    </tr>\n",
       "  </tbody>\n",
       "</table>\n",
       "</div>"
      ],
      "text/plain": [
       "                 mean  median\n",
       "T_category                   \n",
       "0.0          0.000000     0.0\n",
       "1.0         12.192583    13.0\n",
       "2.0         27.715082    25.0\n",
       "3.0         66.812500    60.0\n",
       "4.0         60.750000    68.0"
      ]
     },
     "execution_count": 223,
     "metadata": {},
     "output_type": "execute_result"
    }
   ],
   "source": [
    "X.groupby(\"T_category\").agg([\"mean\", \"median\"])[\"암의 장경\"]"
   ]
  },
  {
   "cell_type": "code",
   "execution_count": 224,
   "id": "893c969b",
   "metadata": {
    "ExecuteTime": {
     "end_time": "2022-12-02T14:55:46.036716Z",
     "start_time": "2022-12-02T14:55:46.020974Z"
    }
   },
   "outputs": [
    {
     "name": "stderr",
     "output_type": "stream",
     "text": [
      "/tmp/ipykernel_360/40916919.py:1: FutureWarning: ['ID', 'img_path', 'mask_path', '수술연월일'] did not aggregate successfully. If any error is raised this will raise in a future version of pandas. Drop these columns/ops to avoid this warning.\n",
      "  X.groupby(\"HG\").agg([\"mean\", \"median\"])[\"암의 장경\"]\n"
     ]
    },
    {
     "data": {
      "text/html": [
       "<div>\n",
       "<style scoped>\n",
       "    .dataframe tbody tr th:only-of-type {\n",
       "        vertical-align: middle;\n",
       "    }\n",
       "\n",
       "    .dataframe tbody tr th {\n",
       "        vertical-align: top;\n",
       "    }\n",
       "\n",
       "    .dataframe thead th {\n",
       "        text-align: right;\n",
       "    }\n",
       "</style>\n",
       "<table border=\"1\" class=\"dataframe\">\n",
       "  <thead>\n",
       "    <tr style=\"text-align: right;\">\n",
       "      <th></th>\n",
       "      <th>mean</th>\n",
       "      <th>median</th>\n",
       "    </tr>\n",
       "    <tr>\n",
       "      <th>HG</th>\n",
       "      <th></th>\n",
       "      <th></th>\n",
       "    </tr>\n",
       "  </thead>\n",
       "  <tbody>\n",
       "    <tr>\n",
       "      <th>1.0</th>\n",
       "      <td>13.491135</td>\n",
       "      <td>12.0</td>\n",
       "    </tr>\n",
       "    <tr>\n",
       "      <th>2.0</th>\n",
       "      <td>18.653409</td>\n",
       "      <td>17.0</td>\n",
       "    </tr>\n",
       "    <tr>\n",
       "      <th>3.0</th>\n",
       "      <td>25.632979</td>\n",
       "      <td>22.0</td>\n",
       "    </tr>\n",
       "  </tbody>\n",
       "</table>\n",
       "</div>"
      ],
      "text/plain": [
       "          mean  median\n",
       "HG                    \n",
       "1.0  13.491135    12.0\n",
       "2.0  18.653409    17.0\n",
       "3.0  25.632979    22.0"
      ]
     },
     "execution_count": 224,
     "metadata": {},
     "output_type": "execute_result"
    }
   ],
   "source": [
    "X.groupby(\"HG\").agg([\"mean\", \"median\"])[\"암의 장경\"]"
   ]
  },
  {
   "cell_type": "code",
   "execution_count": 225,
   "id": "74f84c45",
   "metadata": {
    "ExecuteTime": {
     "end_time": "2022-12-02T14:55:46.509034Z",
     "start_time": "2022-12-02T14:55:46.038367Z"
    }
   },
   "outputs": [
    {
     "name": "stdout",
     "output_type": "stream",
     "text": [
      "0.5653889500066233\n"
     ]
    },
    {
     "name": "stderr",
     "output_type": "stream",
     "text": [
      "/home/hykhhijk/anaconda3/envs/dl/lib/python3.9/site-packages/sklearn/metrics/_classification.py:1334: UndefinedMetricWarning: Recall and F-score are ill-defined and being set to 0.0 in labels with no true samples. Use `zero_division` parameter to control this behavior.\n",
      "  _warn_prf(average, modifier, msg_start, len(result))\n"
     ]
    }
   ],
   "source": [
    "process_score(original_X)"
   ]
  },
  {
   "cell_type": "code",
   "execution_count": 226,
   "id": "b3e303a5",
   "metadata": {
    "ExecuteTime": {
     "end_time": "2022-12-02T14:55:46.988807Z",
     "start_time": "2022-12-02T14:55:46.510546Z"
    }
   },
   "outputs": [
    {
     "name": "stdout",
     "output_type": "stream",
     "text": [
      "0.5660857120304175\n"
     ]
    },
    {
     "name": "stderr",
     "output_type": "stream",
     "text": [
      "/home/hykhhijk/anaconda3/envs/dl/lib/python3.9/site-packages/sklearn/metrics/_classification.py:1334: UndefinedMetricWarning: Recall and F-score are ill-defined and being set to 0.0 in labels with no true samples. Use `zero_division` parameter to control this behavior.\n",
      "  _warn_prf(average, modifier, msg_start, len(result))\n"
     ]
    }
   ],
   "source": [
    "X[\"암의 장경\"] = X[\"암의 장경\"].fillna(X.groupby(\"T_category\")[\"암의 장경\"].transform(\"median\"))\n",
    "temp_X = original_X.copy()\n",
    "temp_X[\"암의 장경\"] = X[\"암의 장경\"]\n",
    "process_score(temp_X)"
   ]
  },
  {
   "cell_type": "code",
   "execution_count": 227,
   "id": "af7367b3",
   "metadata": {
    "ExecuteTime": {
     "end_time": "2022-12-02T14:55:46.993524Z",
     "start_time": "2022-12-02T14:55:46.989998Z"
    }
   },
   "outputs": [
    {
     "ename": "SyntaxError",
     "evalue": "invalid syntax (2165959682.py, line 1)",
     "output_type": "error",
     "traceback": [
      "\u001b[0;36m  Cell \u001b[0;32mIn[227], line 1\u001b[0;36m\u001b[0m\n\u001b[0;31m    process_score(original_X[original_X.columns][])\u001b[0m\n\u001b[0m                                                 ^\u001b[0m\n\u001b[0;31mSyntaxError\u001b[0m\u001b[0;31m:\u001b[0m invalid syntax\n"
     ]
    }
   ],
   "source": [
    "process_score(original_X[original_X.columns][])"
   ]
  },
  {
   "cell_type": "code",
   "execution_count": null,
   "id": "1a126eab",
   "metadata": {
    "ExecuteTime": {
     "end_time": "2022-12-02T14:55:46.994936Z",
     "start_time": "2022-12-02T14:55:46.994929Z"
    }
   },
   "outputs": [],
   "source": [
    "original_X[original_X.columns]"
   ]
  },
  {
   "cell_type": "code",
   "execution_count": null,
   "id": "65be73b6",
   "metadata": {
    "ExecuteTime": {
     "end_time": "2022-12-02T14:55:46.995840Z",
     "start_time": "2022-12-02T14:55:46.995833Z"
    }
   },
   "outputs": [],
   "source": [
    "original_X.columns"
   ]
  },
  {
   "cell_type": "code",
   "execution_count": null,
   "id": "438b9055",
   "metadata": {
    "ExecuteTime": {
     "end_time": "2022-12-02T14:55:46.996783Z",
     "start_time": "2022-12-02T14:55:46.996776Z"
    }
   },
   "outputs": [],
   "source": [
    "index = [i for i in range(28)if i != 24]\n",
    "del_year = original_X[original_X.columns[index]]"
   ]
  },
  {
   "cell_type": "code",
   "execution_count": null,
   "id": "8bd9bc0c",
   "metadata": {
    "ExecuteTime": {
     "end_time": "2022-12-02T14:55:46.997759Z",
     "start_time": "2022-12-02T14:55:46.997752Z"
    }
   },
   "outputs": [],
   "source": [
    "process_score(original_X[original_X.columns][])"
   ]
  }
 ],
 "metadata": {
  "kernelspec": {
   "display_name": "base",
   "language": "python",
   "name": "dl"
  },
  "language_info": {
   "codemirror_mode": {
    "name": "ipython",
    "version": 3
   },
   "file_extension": ".py",
   "mimetype": "text/x-python",
   "name": "python",
   "nbconvert_exporter": "python",
   "pygments_lexer": "ipython3",
   "version": "3.9.2"
  },
  "toc": {
   "base_numbering": 1,
   "nav_menu": {},
   "number_sections": true,
   "sideBar": true,
   "skip_h1_title": false,
   "title_cell": "Table of Contents",
   "title_sidebar": "Contents",
   "toc_cell": false,
   "toc_position": {
    "height": "calc(100% - 180px)",
    "left": "10px",
    "top": "150px",
    "width": "245px"
   },
   "toc_section_display": true,
   "toc_window_display": true
  },
  "varInspector": {
   "cols": {
    "lenName": 16,
    "lenType": 16,
    "lenVar": 40
   },
   "kernels_config": {
    "python": {
     "delete_cmd_postfix": "",
     "delete_cmd_prefix": "del ",
     "library": "var_list.py",
     "varRefreshCmd": "print(var_dic_list())"
    },
    "r": {
     "delete_cmd_postfix": ") ",
     "delete_cmd_prefix": "rm(",
     "library": "var_list.r",
     "varRefreshCmd": "cat(var_dic_list()) "
    }
   },
   "oldHeight": 122.844,
   "position": {
    "height": "457.841px",
    "left": "1060.98px",
    "right": "20px",
    "top": "222.994px",
    "width": "310.966px"
   },
   "types_to_exclude": [
    "module",
    "function",
    "builtin_function_or_method",
    "instance",
    "_Feature"
   ],
   "varInspector_section_display": "block",
   "window_display": false
  }
 },
 "nbformat": 4,
 "nbformat_minor": 5
}
