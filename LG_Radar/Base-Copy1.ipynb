{
 "cells": [
  {
   "cell_type": "code",
   "execution_count": 1,
   "id": "e88c25d3",
   "metadata": {
    "ExecuteTime": {
     "end_time": "2022-08-25T10:42:44.680750Z",
     "start_time": "2022-08-25T10:42:43.019071Z"
    }
   },
   "outputs": [],
   "source": [
    "import numpy as np\n",
    "import pandas as pd\n",
    "import matplotlib.pyplot as plt\n",
    "from sklearn.model_selection import train_test_split\n",
    "from sklearn.metrics import mean_squared_error\n",
    "from sklearn.ensemble import RandomForestRegressor\n",
    "from xgboost import XGBRegressor\n",
    "from sklearn.model_selection  import GridSearchCV\n",
    "from sklearn.multioutput import MultiOutputRegressor"
   ]
  },
  {
   "cell_type": "code",
   "execution_count": 3,
   "id": "f9897528",
   "metadata": {
    "ExecuteTime": {
     "end_time": "2022-08-25T10:42:56.347390Z",
     "start_time": "2022-08-25T10:42:55.823582Z"
    }
   },
   "outputs": [],
   "source": [
    "path = \"D:/LG_Radar\"\n",
    "train = pd.read_csv(path+\"/train.csv\")\n",
    "test = pd.read_csv(path+\"/test.csv\")\n",
    "submission = pd.read_csv(path+\"/sample_submission.csv\")"
   ]
  },
  {
   "cell_type": "code",
   "execution_count": 4,
   "id": "e6f8a5d3",
   "metadata": {
    "ExecuteTime": {
     "end_time": "2022-08-25T10:42:56.503372Z",
     "start_time": "2022-08-25T10:42:56.488275Z"
    }
   },
   "outputs": [],
   "source": [
    "def lg_nrmse(gt, preds):\n",
    "    # 각 Y Feature별 NRMSE 총합\n",
    "    # Y_01 ~ Y_08 까지 20% 가중치 부여\n",
    "    all_nrmse = []\n",
    "    for idx in range(14): # ignore 'ID'\n",
    "        rmse = mean_squared_error(gt[:,idx], preds[:,idx], squared=False)\n",
    "        nrmse = rmse/np.mean(np.abs(gt[:,idx]))\n",
    "        all_nrmse.append(nrmse)\n",
    "    score = 1.2 * np.sum(all_nrmse[:8]) + 1.0 * np.sum(all_nrmse[8:14])\n",
    "    print(all_nrmse)\n",
    "    return score"
   ]
  },
  {
   "cell_type": "code",
   "execution_count": 5,
   "id": "17cfb42c",
   "metadata": {
    "ExecuteTime": {
     "end_time": "2022-08-25T10:42:56.689397Z",
     "start_time": "2022-08-25T10:42:56.642451Z"
    }
   },
   "outputs": [
    {
     "data": {
      "text/html": [
       "<div>\n",
       "<style scoped>\n",
       "    .dataframe tbody tr th:only-of-type {\n",
       "        vertical-align: middle;\n",
       "    }\n",
       "\n",
       "    .dataframe tbody tr th {\n",
       "        vertical-align: top;\n",
       "    }\n",
       "\n",
       "    .dataframe thead th {\n",
       "        text-align: right;\n",
       "    }\n",
       "</style>\n",
       "<table border=\"1\" class=\"dataframe\">\n",
       "  <thead>\n",
       "    <tr style=\"text-align: right;\">\n",
       "      <th></th>\n",
       "      <th>ID</th>\n",
       "      <th>X_01</th>\n",
       "      <th>X_02</th>\n",
       "      <th>X_03</th>\n",
       "      <th>X_04</th>\n",
       "      <th>X_05</th>\n",
       "      <th>X_06</th>\n",
       "      <th>X_07</th>\n",
       "      <th>X_08</th>\n",
       "      <th>X_09</th>\n",
       "      <th>...</th>\n",
       "      <th>Y_05</th>\n",
       "      <th>Y_06</th>\n",
       "      <th>Y_07</th>\n",
       "      <th>Y_08</th>\n",
       "      <th>Y_09</th>\n",
       "      <th>Y_10</th>\n",
       "      <th>Y_11</th>\n",
       "      <th>Y_12</th>\n",
       "      <th>Y_13</th>\n",
       "      <th>Y_14</th>\n",
       "    </tr>\n",
       "  </thead>\n",
       "  <tbody>\n",
       "    <tr>\n",
       "      <th>0</th>\n",
       "      <td>TRAIN_00001</td>\n",
       "      <td>70.544</td>\n",
       "      <td>103.320</td>\n",
       "      <td>67.47</td>\n",
       "      <td>1</td>\n",
       "      <td>101.892</td>\n",
       "      <td>74.983</td>\n",
       "      <td>29.45</td>\n",
       "      <td>62.38</td>\n",
       "      <td>245.71</td>\n",
       "      <td>...</td>\n",
       "      <td>29.632</td>\n",
       "      <td>16.083</td>\n",
       "      <td>4.276</td>\n",
       "      <td>-25.381</td>\n",
       "      <td>-25.529</td>\n",
       "      <td>-22.769</td>\n",
       "      <td>23.792</td>\n",
       "      <td>-25.470</td>\n",
       "      <td>-25.409</td>\n",
       "      <td>-25.304</td>\n",
       "    </tr>\n",
       "    <tr>\n",
       "      <th>1</th>\n",
       "      <td>TRAIN_00002</td>\n",
       "      <td>69.524</td>\n",
       "      <td>103.321</td>\n",
       "      <td>65.17</td>\n",
       "      <td>1</td>\n",
       "      <td>101.944</td>\n",
       "      <td>72.943</td>\n",
       "      <td>28.73</td>\n",
       "      <td>61.23</td>\n",
       "      <td>233.61</td>\n",
       "      <td>...</td>\n",
       "      <td>33.179</td>\n",
       "      <td>16.736</td>\n",
       "      <td>3.229</td>\n",
       "      <td>-26.619</td>\n",
       "      <td>-26.523</td>\n",
       "      <td>-22.574</td>\n",
       "      <td>24.691</td>\n",
       "      <td>-26.253</td>\n",
       "      <td>-26.497</td>\n",
       "      <td>-26.438</td>\n",
       "    </tr>\n",
       "    <tr>\n",
       "      <th>2</th>\n",
       "      <td>TRAIN_00003</td>\n",
       "      <td>72.583</td>\n",
       "      <td>103.320</td>\n",
       "      <td>64.07</td>\n",
       "      <td>1</td>\n",
       "      <td>103.153</td>\n",
       "      <td>72.943</td>\n",
       "      <td>28.81</td>\n",
       "      <td>105.77</td>\n",
       "      <td>272.20</td>\n",
       "      <td>...</td>\n",
       "      <td>31.801</td>\n",
       "      <td>17.080</td>\n",
       "      <td>2.839</td>\n",
       "      <td>-26.238</td>\n",
       "      <td>-26.216</td>\n",
       "      <td>-22.169</td>\n",
       "      <td>24.649</td>\n",
       "      <td>-26.285</td>\n",
       "      <td>-26.215</td>\n",
       "      <td>-26.370</td>\n",
       "    </tr>\n",
       "    <tr>\n",
       "      <th>3</th>\n",
       "      <td>TRAIN_00004</td>\n",
       "      <td>71.563</td>\n",
       "      <td>103.320</td>\n",
       "      <td>67.57</td>\n",
       "      <td>1</td>\n",
       "      <td>101.971</td>\n",
       "      <td>77.022</td>\n",
       "      <td>28.92</td>\n",
       "      <td>115.21</td>\n",
       "      <td>255.36</td>\n",
       "      <td>...</td>\n",
       "      <td>34.503</td>\n",
       "      <td>17.143</td>\n",
       "      <td>3.144</td>\n",
       "      <td>-25.426</td>\n",
       "      <td>-25.079</td>\n",
       "      <td>-21.765</td>\n",
       "      <td>24.913</td>\n",
       "      <td>-25.254</td>\n",
       "      <td>-25.021</td>\n",
       "      <td>-25.345</td>\n",
       "    </tr>\n",
       "    <tr>\n",
       "      <th>4</th>\n",
       "      <td>TRAIN_00005</td>\n",
       "      <td>69.524</td>\n",
       "      <td>103.320</td>\n",
       "      <td>63.57</td>\n",
       "      <td>1</td>\n",
       "      <td>101.981</td>\n",
       "      <td>70.904</td>\n",
       "      <td>29.68</td>\n",
       "      <td>103.38</td>\n",
       "      <td>241.46</td>\n",
       "      <td>...</td>\n",
       "      <td>32.602</td>\n",
       "      <td>17.569</td>\n",
       "      <td>3.138</td>\n",
       "      <td>-25.376</td>\n",
       "      <td>-25.242</td>\n",
       "      <td>-21.072</td>\n",
       "      <td>25.299</td>\n",
       "      <td>-25.072</td>\n",
       "      <td>-25.195</td>\n",
       "      <td>-24.974</td>\n",
       "    </tr>\n",
       "    <tr>\n",
       "      <th>...</th>\n",
       "      <td>...</td>\n",
       "      <td>...</td>\n",
       "      <td>...</td>\n",
       "      <td>...</td>\n",
       "      <td>...</td>\n",
       "      <td>...</td>\n",
       "      <td>...</td>\n",
       "      <td>...</td>\n",
       "      <td>...</td>\n",
       "      <td>...</td>\n",
       "      <td>...</td>\n",
       "      <td>...</td>\n",
       "      <td>...</td>\n",
       "      <td>...</td>\n",
       "      <td>...</td>\n",
       "      <td>...</td>\n",
       "      <td>...</td>\n",
       "      <td>...</td>\n",
       "      <td>...</td>\n",
       "      <td>...</td>\n",
       "      <td>...</td>\n",
       "    </tr>\n",
       "    <tr>\n",
       "      <th>39602</th>\n",
       "      <td>TRAIN_39603</td>\n",
       "      <td>66.465</td>\n",
       "      <td>103.320</td>\n",
       "      <td>62.27</td>\n",
       "      <td>1</td>\n",
       "      <td>103.150</td>\n",
       "      <td>66.825</td>\n",
       "      <td>30.20</td>\n",
       "      <td>77.83</td>\n",
       "      <td>298.05</td>\n",
       "      <td>...</td>\n",
       "      <td>29.194</td>\n",
       "      <td>16.582</td>\n",
       "      <td>3.410</td>\n",
       "      <td>-26.486</td>\n",
       "      <td>-26.581</td>\n",
       "      <td>-22.772</td>\n",
       "      <td>24.261</td>\n",
       "      <td>-26.491</td>\n",
       "      <td>-26.584</td>\n",
       "      <td>-26.580</td>\n",
       "    </tr>\n",
       "    <tr>\n",
       "      <th>39603</th>\n",
       "      <td>TRAIN_39604</td>\n",
       "      <td>66.465</td>\n",
       "      <td>103.321</td>\n",
       "      <td>62.77</td>\n",
       "      <td>1</td>\n",
       "      <td>102.021</td>\n",
       "      <td>66.825</td>\n",
       "      <td>29.21</td>\n",
       "      <td>102.25</td>\n",
       "      <td>270.67</td>\n",
       "      <td>...</td>\n",
       "      <td>29.859</td>\n",
       "      <td>15.659</td>\n",
       "      <td>3.406</td>\n",
       "      <td>-27.308</td>\n",
       "      <td>-27.203</td>\n",
       "      <td>-24.674</td>\n",
       "      <td>23.427</td>\n",
       "      <td>-27.250</td>\n",
       "      <td>-27.334</td>\n",
       "      <td>-27.325</td>\n",
       "    </tr>\n",
       "    <tr>\n",
       "      <th>39604</th>\n",
       "      <td>TRAIN_39605</td>\n",
       "      <td>68.504</td>\n",
       "      <td>103.320</td>\n",
       "      <td>64.67</td>\n",
       "      <td>1</td>\n",
       "      <td>103.144</td>\n",
       "      <td>68.864</td>\n",
       "      <td>29.96</td>\n",
       "      <td>102.61</td>\n",
       "      <td>198.07</td>\n",
       "      <td>...</td>\n",
       "      <td>24.720</td>\n",
       "      <td>16.823</td>\n",
       "      <td>3.215</td>\n",
       "      <td>-26.502</td>\n",
       "      <td>-26.687</td>\n",
       "      <td>-22.577</td>\n",
       "      <td>24.301</td>\n",
       "      <td>-26.388</td>\n",
       "      <td>-26.425</td>\n",
       "      <td>-26.601</td>\n",
       "    </tr>\n",
       "    <tr>\n",
       "      <th>39605</th>\n",
       "      <td>TRAIN_39606</td>\n",
       "      <td>66.465</td>\n",
       "      <td>103.320</td>\n",
       "      <td>63.67</td>\n",
       "      <td>1</td>\n",
       "      <td>102.025</td>\n",
       "      <td>67.845</td>\n",
       "      <td>30.30</td>\n",
       "      <td>112.60</td>\n",
       "      <td>275.52</td>\n",
       "      <td>...</td>\n",
       "      <td>26.412</td>\n",
       "      <td>15.757</td>\n",
       "      <td>4.216</td>\n",
       "      <td>-26.760</td>\n",
       "      <td>-26.634</td>\n",
       "      <td>-24.066</td>\n",
       "      <td>23.305</td>\n",
       "      <td>-26.536</td>\n",
       "      <td>-26.751</td>\n",
       "      <td>-26.635</td>\n",
       "    </tr>\n",
       "    <tr>\n",
       "      <th>39606</th>\n",
       "      <td>TRAIN_39607</td>\n",
       "      <td>66.465</td>\n",
       "      <td>103.320</td>\n",
       "      <td>65.67</td>\n",
       "      <td>1</td>\n",
       "      <td>102.004</td>\n",
       "      <td>69.884</td>\n",
       "      <td>30.16</td>\n",
       "      <td>112.90</td>\n",
       "      <td>276.06</td>\n",
       "      <td>...</td>\n",
       "      <td>30.745</td>\n",
       "      <td>16.781</td>\n",
       "      <td>3.307</td>\n",
       "      <td>-26.054</td>\n",
       "      <td>-26.251</td>\n",
       "      <td>-23.257</td>\n",
       "      <td>24.450</td>\n",
       "      <td>-26.224</td>\n",
       "      <td>-26.256</td>\n",
       "      <td>-26.093</td>\n",
       "    </tr>\n",
       "  </tbody>\n",
       "</table>\n",
       "<p>39607 rows × 71 columns</p>\n",
       "</div>"
      ],
      "text/plain": [
       "                ID    X_01     X_02   X_03  X_04     X_05    X_06   X_07  \\\n",
       "0      TRAIN_00001  70.544  103.320  67.47     1  101.892  74.983  29.45   \n",
       "1      TRAIN_00002  69.524  103.321  65.17     1  101.944  72.943  28.73   \n",
       "2      TRAIN_00003  72.583  103.320  64.07     1  103.153  72.943  28.81   \n",
       "3      TRAIN_00004  71.563  103.320  67.57     1  101.971  77.022  28.92   \n",
       "4      TRAIN_00005  69.524  103.320  63.57     1  101.981  70.904  29.68   \n",
       "...            ...     ...      ...    ...   ...      ...     ...    ...   \n",
       "39602  TRAIN_39603  66.465  103.320  62.27     1  103.150  66.825  30.20   \n",
       "39603  TRAIN_39604  66.465  103.321  62.77     1  102.021  66.825  29.21   \n",
       "39604  TRAIN_39605  68.504  103.320  64.67     1  103.144  68.864  29.96   \n",
       "39605  TRAIN_39606  66.465  103.320  63.67     1  102.025  67.845  30.30   \n",
       "39606  TRAIN_39607  66.465  103.320  65.67     1  102.004  69.884  30.16   \n",
       "\n",
       "         X_08    X_09  ...    Y_05    Y_06   Y_07    Y_08    Y_09    Y_10  \\\n",
       "0       62.38  245.71  ...  29.632  16.083  4.276 -25.381 -25.529 -22.769   \n",
       "1       61.23  233.61  ...  33.179  16.736  3.229 -26.619 -26.523 -22.574   \n",
       "2      105.77  272.20  ...  31.801  17.080  2.839 -26.238 -26.216 -22.169   \n",
       "3      115.21  255.36  ...  34.503  17.143  3.144 -25.426 -25.079 -21.765   \n",
       "4      103.38  241.46  ...  32.602  17.569  3.138 -25.376 -25.242 -21.072   \n",
       "...       ...     ...  ...     ...     ...    ...     ...     ...     ...   \n",
       "39602   77.83  298.05  ...  29.194  16.582  3.410 -26.486 -26.581 -22.772   \n",
       "39603  102.25  270.67  ...  29.859  15.659  3.406 -27.308 -27.203 -24.674   \n",
       "39604  102.61  198.07  ...  24.720  16.823  3.215 -26.502 -26.687 -22.577   \n",
       "39605  112.60  275.52  ...  26.412  15.757  4.216 -26.760 -26.634 -24.066   \n",
       "39606  112.90  276.06  ...  30.745  16.781  3.307 -26.054 -26.251 -23.257   \n",
       "\n",
       "         Y_11    Y_12    Y_13    Y_14  \n",
       "0      23.792 -25.470 -25.409 -25.304  \n",
       "1      24.691 -26.253 -26.497 -26.438  \n",
       "2      24.649 -26.285 -26.215 -26.370  \n",
       "3      24.913 -25.254 -25.021 -25.345  \n",
       "4      25.299 -25.072 -25.195 -24.974  \n",
       "...       ...     ...     ...     ...  \n",
       "39602  24.261 -26.491 -26.584 -26.580  \n",
       "39603  23.427 -27.250 -27.334 -27.325  \n",
       "39604  24.301 -26.388 -26.425 -26.601  \n",
       "39605  23.305 -26.536 -26.751 -26.635  \n",
       "39606  24.450 -26.224 -26.256 -26.093  \n",
       "\n",
       "[39607 rows x 71 columns]"
      ]
     },
     "execution_count": 5,
     "metadata": {},
     "output_type": "execute_result"
    }
   ],
   "source": [
    "train"
   ]
  },
  {
   "cell_type": "code",
   "execution_count": 6,
   "id": "bd3a7947",
   "metadata": {
    "ExecuteTime": {
     "end_time": "2022-08-25T10:42:56.860521Z",
     "start_time": "2022-08-25T10:42:56.846560Z"
    }
   },
   "outputs": [
    {
     "data": {
      "text/plain": [
       "Index(['ID', 'X_01', 'X_02', 'X_03', 'X_04', 'X_05', 'X_06', 'X_07', 'X_08',\n",
       "       'X_09', 'X_10', 'X_11', 'X_12', 'X_13', 'X_14', 'X_15', 'X_16', 'X_17',\n",
       "       'X_18', 'X_19', 'X_20', 'X_21', 'X_22', 'X_23', 'X_24', 'X_25', 'X_26',\n",
       "       'X_27', 'X_28', 'X_29', 'X_30', 'X_31', 'X_32', 'X_33', 'X_34', 'X_35',\n",
       "       'X_36', 'X_37', 'X_38', 'X_39', 'X_40', 'X_41', 'X_42', 'X_43', 'X_44',\n",
       "       'X_45', 'X_46', 'X_47', 'X_48', 'X_49', 'X_50', 'X_51', 'X_52', 'X_53',\n",
       "       'X_54', 'X_55', 'X_56', 'Y_01', 'Y_02', 'Y_03', 'Y_04', 'Y_05', 'Y_06',\n",
       "       'Y_07', 'Y_08', 'Y_09', 'Y_10', 'Y_11', 'Y_12', 'Y_13', 'Y_14'],\n",
       "      dtype='object')"
      ]
     },
     "execution_count": 6,
     "metadata": {},
     "output_type": "execute_result"
    }
   ],
   "source": [
    "train.columns"
   ]
  },
  {
   "cell_type": "code",
   "execution_count": 7,
   "id": "97181ca7",
   "metadata": {
    "ExecuteTime": {
     "end_time": "2022-08-25T10:42:57.360214Z",
     "start_time": "2022-08-25T10:42:57.340268Z"
    }
   },
   "outputs": [],
   "source": [
    "X = train[list(train.columns[1:57])]\n",
    "y = train[list(train.columns[57:])]"
   ]
  },
  {
   "cell_type": "code",
   "execution_count": 8,
   "id": "40fc7937",
   "metadata": {
    "ExecuteTime": {
     "end_time": "2022-08-25T10:42:58.095820Z",
     "start_time": "2022-08-25T10:42:58.059550Z"
    }
   },
   "outputs": [],
   "source": [
    "X_train, X_test, y_train, y_test = train_test_split(X, np.array(y))"
   ]
  },
  {
   "cell_type": "markdown",
   "id": "e4530da9",
   "metadata": {},
   "source": [
    "# XGBResressor"
   ]
  },
  {
   "cell_type": "code",
   "execution_count": 8,
   "id": "6cb698ad",
   "metadata": {
    "ExecuteTime": {
     "end_time": "2022-08-25T04:19:00.130245Z",
     "start_time": "2022-08-25T04:18:23.236490Z"
    }
   },
   "outputs": [
    {
     "name": "stderr",
     "output_type": "stream",
     "text": [
      "C:\\Users\\hjhhi\\anaconda3\\envs\\python3.9.0\\lib\\site-packages\\xgboost\\data.py:250: FutureWarning: pandas.Int64Index is deprecated and will be removed from pandas in a future version. Use pandas.Index with the appropriate dtype instead.\n",
      "  elif isinstance(data.columns, (pd.Int64Index, pd.RangeIndex)):\n",
      "C:\\Users\\hjhhi\\anaconda3\\envs\\python3.9.0\\lib\\site-packages\\xgboost\\data.py:250: FutureWarning: pandas.Int64Index is deprecated and will be removed from pandas in a future version. Use pandas.Index with the appropriate dtype instead.\n",
      "  elif isinstance(data.columns, (pd.Int64Index, pd.RangeIndex)):\n",
      "C:\\Users\\hjhhi\\anaconda3\\envs\\python3.9.0\\lib\\site-packages\\xgboost\\data.py:250: FutureWarning: pandas.Int64Index is deprecated and will be removed from pandas in a future version. Use pandas.Index with the appropriate dtype instead.\n",
      "  elif isinstance(data.columns, (pd.Int64Index, pd.RangeIndex)):\n",
      "C:\\Users\\hjhhi\\anaconda3\\envs\\python3.9.0\\lib\\site-packages\\xgboost\\data.py:250: FutureWarning: pandas.Int64Index is deprecated and will be removed from pandas in a future version. Use pandas.Index with the appropriate dtype instead.\n",
      "  elif isinstance(data.columns, (pd.Int64Index, pd.RangeIndex)):\n",
      "C:\\Users\\hjhhi\\anaconda3\\envs\\python3.9.0\\lib\\site-packages\\xgboost\\data.py:250: FutureWarning: pandas.Int64Index is deprecated and will be removed from pandas in a future version. Use pandas.Index with the appropriate dtype instead.\n",
      "  elif isinstance(data.columns, (pd.Int64Index, pd.RangeIndex)):\n",
      "C:\\Users\\hjhhi\\anaconda3\\envs\\python3.9.0\\lib\\site-packages\\xgboost\\data.py:250: FutureWarning: pandas.Int64Index is deprecated and will be removed from pandas in a future version. Use pandas.Index with the appropriate dtype instead.\n",
      "  elif isinstance(data.columns, (pd.Int64Index, pd.RangeIndex)):\n",
      "C:\\Users\\hjhhi\\anaconda3\\envs\\python3.9.0\\lib\\site-packages\\xgboost\\data.py:250: FutureWarning: pandas.Int64Index is deprecated and will be removed from pandas in a future version. Use pandas.Index with the appropriate dtype instead.\n",
      "  elif isinstance(data.columns, (pd.Int64Index, pd.RangeIndex)):\n",
      "C:\\Users\\hjhhi\\anaconda3\\envs\\python3.9.0\\lib\\site-packages\\xgboost\\data.py:250: FutureWarning: pandas.Int64Index is deprecated and will be removed from pandas in a future version. Use pandas.Index with the appropriate dtype instead.\n",
      "  elif isinstance(data.columns, (pd.Int64Index, pd.RangeIndex)):\n",
      "C:\\Users\\hjhhi\\anaconda3\\envs\\python3.9.0\\lib\\site-packages\\xgboost\\data.py:250: FutureWarning: pandas.Int64Index is deprecated and will be removed from pandas in a future version. Use pandas.Index with the appropriate dtype instead.\n",
      "  elif isinstance(data.columns, (pd.Int64Index, pd.RangeIndex)):\n",
      "C:\\Users\\hjhhi\\anaconda3\\envs\\python3.9.0\\lib\\site-packages\\xgboost\\data.py:250: FutureWarning: pandas.Int64Index is deprecated and will be removed from pandas in a future version. Use pandas.Index with the appropriate dtype instead.\n",
      "  elif isinstance(data.columns, (pd.Int64Index, pd.RangeIndex)):\n",
      "C:\\Users\\hjhhi\\anaconda3\\envs\\python3.9.0\\lib\\site-packages\\xgboost\\data.py:250: FutureWarning: pandas.Int64Index is deprecated and will be removed from pandas in a future version. Use pandas.Index with the appropriate dtype instead.\n",
      "  elif isinstance(data.columns, (pd.Int64Index, pd.RangeIndex)):\n",
      "C:\\Users\\hjhhi\\anaconda3\\envs\\python3.9.0\\lib\\site-packages\\xgboost\\data.py:250: FutureWarning: pandas.Int64Index is deprecated and will be removed from pandas in a future version. Use pandas.Index with the appropriate dtype instead.\n",
      "  elif isinstance(data.columns, (pd.Int64Index, pd.RangeIndex)):\n",
      "C:\\Users\\hjhhi\\anaconda3\\envs\\python3.9.0\\lib\\site-packages\\xgboost\\data.py:250: FutureWarning: pandas.Int64Index is deprecated and will be removed from pandas in a future version. Use pandas.Index with the appropriate dtype instead.\n",
      "  elif isinstance(data.columns, (pd.Int64Index, pd.RangeIndex)):\n",
      "C:\\Users\\hjhhi\\anaconda3\\envs\\python3.9.0\\lib\\site-packages\\xgboost\\data.py:250: FutureWarning: pandas.Int64Index is deprecated and will be removed from pandas in a future version. Use pandas.Index with the appropriate dtype instead.\n",
      "  elif isinstance(data.columns, (pd.Int64Index, pd.RangeIndex)):\n"
     ]
    }
   ],
   "source": [
    "pred = []\n",
    "models= []\n",
    "for i in range(14):\n",
    "    model = XGBRegressor()\n",
    "    model.fit(X_train, y_train[:,i])\n",
    "    pred.append(model.predict(X_test[list(X_test.columns)]))\n",
    "    models.append(model)"
   ]
  },
  {
   "cell_type": "code",
   "execution_count": 12,
   "id": "d4e2dea3",
   "metadata": {
    "ExecuteTime": {
     "end_time": "2022-08-25T04:19:40.469825Z",
     "start_time": "2022-08-25T04:19:40.459405Z"
    }
   },
   "outputs": [],
   "source": [
    "def prediction(X):\n",
    "    pred=[]\n",
    "    for i in range(14):\n",
    "        pred.append(models[i].predict(X[list(X.columns)]))\n",
    "    return np.transpose(pred)"
   ]
  },
  {
   "cell_type": "code",
   "execution_count": 13,
   "id": "f6158d18",
   "metadata": {
    "ExecuteTime": {
     "end_time": "2022-08-25T04:19:41.266437Z",
     "start_time": "2022-08-25T04:19:41.011565Z"
    }
   },
   "outputs": [],
   "source": [
    "pred = prediction(X_test)"
   ]
  },
  {
   "cell_type": "code",
   "execution_count": 14,
   "id": "70850f75",
   "metadata": {
    "ExecuteTime": {
     "end_time": "2022-08-25T04:19:41.546950Z",
     "start_time": "2022-08-25T04:19:41.533407Z"
    }
   },
   "outputs": [
    {
     "name": "stdout",
     "output_type": "stream",
     "text": [
      "[0.2628051302141368, 0.36337473869068826, 0.3596614229680816, 0.19329970484581827, 0.08115774306045123, 0.1072757132045397, 0.1313353107968666, 0.024628517821905584, 0.02437679150926346, 0.03887366174856646, 0.03425848916637719, 0.02446206931057224, 0.02440613343266399, 0.024572832941537743]\n"
     ]
    },
    {
     "data": {
      "text/plain": [
       "1.9991959160319668"
      ]
     },
     "execution_count": 14,
     "metadata": {},
     "output_type": "execute_result"
    }
   ],
   "source": [
    "lg_nrmse(np.array(y_test),pred)"
   ]
  },
  {
   "cell_type": "code",
   "execution_count": 16,
   "id": "a9490f78",
   "metadata": {
    "ExecuteTime": {
     "end_time": "2022-08-25T04:27:07.673274Z",
     "start_time": "2022-08-25T04:27:07.619472Z"
    }
   },
   "outputs": [],
   "source": [
    "GridSearchCV?"
   ]
  },
  {
   "cell_type": "code",
   "execution_count": null,
   "id": "cbc1ac08",
   "metadata": {},
   "outputs": [],
   "source": [
    "cv_params = {\n",
    "    'max_depth': np.arange(1, 10, 1), \n",
    "    'min_child_weight': np.arange(1, 4, 1),\n",
    "    'learning_rate': np.arange(0.05, 0.6, 0.05),\n",
    "    'n_estimators': np.arange(50, 300, 50),\n",
    "}    # parameters to be tries in the grid search\n",
    "\n",
    "fix_params = {\n",
    "   'booster': 'gbtree',\n",
    "#     'objective': 'binary:logistic',\n",
    "#     'learning_rate': 0.03,\n",
    "#     'n_estimators': 150,\n",
    "#     'reg_alpha' : 0.15,\n",
    "#     'reg_lambda': 0.7,\n",
    "#     'max_depth': 4,\n",
    "}   #other parameters, fixed for the moment \n",
    "\n",
    "csv = GridSearchCV(XGBClassifier(**fix_params), \n",
    "                   cv_params, \n",
    "                   scoring = 'neg_root_mean_squared_error', \n",
    "                   cv = 5,\n",
    "                  n_jobs=11)\n",
    "csv.fit(x_train, y_train)\n",
    "# show best cross validation score\n",
    "print(csv.best_score_)\n",
    "# show best parameter score\n",
    "print(csv.best_params_)\n",
    "\n",
    "# make predictions for test data\n",
    "y_pred = csv.predict(x_test)\n",
    "predictions = [round(value) for value in y_pred]\n",
    "\n",
    "# evaluate predictions\n",
    "for parameter in csv.cv_results_[\"params\"]:\n",
    "    print(parameter)"
   ]
  },
  {
   "cell_type": "code",
   "execution_count": 31,
   "id": "34edf524",
   "metadata": {
    "ExecuteTime": {
     "end_time": "2022-08-25T07:38:26.488319Z",
     "start_time": "2022-08-25T04:49:07.681942Z"
    }
   },
   "outputs": [
    {
     "name": "stdout",
     "output_type": "stream",
     "text": [
      "Fitting 5 folds for each of 99 candidates, totalling 495 fits\n",
      "Fitting 5 folds for each of 99 candidates, totalling 495 fits\n",
      "Fitting 5 folds for each of 99 candidates, totalling 495 fits\n",
      "Fitting 5 folds for each of 99 candidates, totalling 495 fits\n",
      "Fitting 5 folds for each of 99 candidates, totalling 495 fits\n",
      "Fitting 5 folds for each of 99 candidates, totalling 495 fits\n",
      "Fitting 5 folds for each of 99 candidates, totalling 495 fits\n",
      "Fitting 5 folds for each of 99 candidates, totalling 495 fits\n",
      "Fitting 5 folds for each of 99 candidates, totalling 495 fits\n",
      "Fitting 5 folds for each of 99 candidates, totalling 495 fits\n",
      "Fitting 5 folds for each of 99 candidates, totalling 495 fits\n",
      "Fitting 5 folds for each of 99 candidates, totalling 495 fits\n",
      "Fitting 5 folds for each of 99 candidates, totalling 495 fits\n",
      "Fitting 5 folds for each of 99 candidates, totalling 495 fits\n"
     ]
    }
   ],
   "source": [
    "pred = []\n",
    "models= []\n",
    "cv_params = {\n",
    "    'max_depth': np.arange(1, 10, 1), \n",
    "#     'min_child_weight': np.arange(1, 3, 1),\n",
    "    'learning_rate': np.arange(0.05, 0.6, 0.05),\n",
    "#     'n_estimators': np.arange(50, 300, 50),\n",
    "}    # parameters to be tries in the grid search\n",
    "\n",
    "fix_params = {\n",
    "    'booster': 'gbtree',\n",
    "    #     'objective': 'binary:logistic',\n",
    "    #     'learning_rate': 0.03,\n",
    "    #     'n_estimators': 150,\n",
    "    #     'reg_alpha' : 0.15,\n",
    "    #     'reg_lambda': 0.7,\n",
    "    #     'max_depth': 4,\n",
    "}   #other parameters, fixed for the moment \n",
    "\n",
    "for i in range(14):\n",
    "    csv = GridSearchCV(XGBRegressor(**fix_params), \n",
    "                       cv_params, \n",
    "                       scoring = 'neg_root_mean_squared_error', \n",
    "                       cv = 5,\n",
    "                      n_jobs=-1,\n",
    "                      verbose=2)\n",
    "    csv.fit(X_train, y_train[:,i])\n",
    "    models.append(csv)"
   ]
  },
  {
   "cell_type": "code",
   "execution_count": 37,
   "id": "598419c6",
   "metadata": {
    "ExecuteTime": {
     "end_time": "2022-08-25T08:42:14.683912Z",
     "start_time": "2022-08-25T08:42:14.672942Z"
    }
   },
   "outputs": [
    {
     "name": "stdout",
     "output_type": "stream",
     "text": [
      "{'learning_rate': 0.05, 'max_depth': 5}\n",
      "{'learning_rate': 0.05, 'max_depth': 5}\n",
      "{'learning_rate': 0.05, 'max_depth': 5}\n",
      "{'learning_rate': 0.1, 'max_depth': 8}\n",
      "{'learning_rate': 0.1, 'max_depth': 5}\n",
      "{'learning_rate': 0.05, 'max_depth': 9}\n",
      "{'learning_rate': 0.05, 'max_depth': 7}\n",
      "{'learning_rate': 0.1, 'max_depth': 5}\n",
      "{'learning_rate': 0.1, 'max_depth': 5}\n",
      "{'learning_rate': 0.1, 'max_depth': 9}\n",
      "{'learning_rate': 0.1, 'max_depth': 5}\n",
      "{'learning_rate': 0.1, 'max_depth': 6}\n",
      "{'learning_rate': 0.1, 'max_depth': 6}\n",
      "{'learning_rate': 0.1, 'max_depth': 6}\n"
     ]
    }
   ],
   "source": [
    "for i in models:\n",
    "    print(i.best_params_)"
   ]
  },
  {
   "cell_type": "markdown",
   "id": "9024bfa9",
   "metadata": {},
   "source": [
    "학습률은 작은값으로 튜닝하고 max_depth는 범위를 늘려 새로 튜닝하는게 좋아보임  \n",
    "빠른 검증을 위해 각각의 컬럼을 하나씩 튜닝하고 점수를 체크할 예정"
   ]
  },
  {
   "cell_type": "code",
   "execution_count": 38,
   "id": "8b7140c6",
   "metadata": {
    "ExecuteTime": {
     "end_time": "2022-08-25T08:44:04.779473Z",
     "start_time": "2022-08-25T08:44:04.517392Z"
    }
   },
   "outputs": [],
   "source": [
    "pred = prediction(X_test)"
   ]
  },
  {
   "cell_type": "code",
   "execution_count": 39,
   "id": "5fde6e7e",
   "metadata": {
    "ExecuteTime": {
     "end_time": "2022-08-25T08:44:12.352885Z",
     "start_time": "2022-08-25T08:44:12.329112Z"
    }
   },
   "outputs": [
    {
     "name": "stdout",
     "output_type": "stream",
     "text": [
      "[0.25644896647318666, 0.35419428281316856, 0.3501462360496395, 0.18914191553947782, 0.0793762309138478, 0.09927294376409831, 0.12812724806839143, 0.024105689942841544, 0.023965628809133267, 0.038006724587326714, 0.03356862425944726, 0.024103873334016857, 0.024063642485379438, 0.024066106472503776]\n"
     ]
    },
    {
     "data": {
      "text/plain": [
       "1.9447508162253893"
      ]
     },
     "execution_count": 39,
     "metadata": {},
     "output_type": "execute_result"
    }
   ],
   "source": [
    "lg_nrmse(y_test, pred)"
   ]
  },
  {
   "cell_type": "code",
   "execution_count": 111,
   "id": "7c026675",
   "metadata": {
    "ExecuteTime": {
     "end_time": "2022-08-25T10:14:29.727684Z",
     "start_time": "2022-08-25T10:14:28.608617Z"
    }
   },
   "outputs": [
    {
     "data": {
      "image/png": "[encoded data removed]",
      "text/plain": [
       "<Figure size 1008x720 with 15 Axes>"
      ]
     },
     "metadata": {
      "needs_background": "light"
     },
     "output_type": "display_data"
    }
   ],
   "source": [
    "visualize(models)"
   ]
  },
  {
   "cell_type": "markdown",
   "id": "0f00216e",
   "metadata": {},
   "source": [
    "# 2번 부터 모델을 하나씩 튜닝한다"
   ]
  },
  {
   "cell_type": "code",
   "execution_count": 9,
   "id": "d3b1ee37",
   "metadata": {
    "ExecuteTime": {
     "end_time": "2022-08-25T10:43:20.713574Z",
     "start_time": "2022-08-25T10:43:20.699611Z"
    }
   },
   "outputs": [
    {
     "data": {
      "text/plain": [
       "array([  1.6  ,   1.454,   1.359,  15.907,  36.087,  18.017,   3.23 ,\n",
       "       -25.456, -25.296, -21.034,  25.882, -25.271, -25.418, -25.254])"
      ]
     },
     "execution_count": 9,
     "metadata": {},
     "output_type": "execute_result"
    }
   ],
   "source": [
    "y_test[1]"
   ]
  },
  {
   "cell_type": "code",
   "execution_count": 10,
   "id": "89b6a32f",
   "metadata": {
    "ExecuteTime": {
     "end_time": "2022-08-25T10:43:21.057622Z",
     "start_time": "2022-08-25T10:43:21.012453Z"
    }
   },
   "outputs": [
    {
     "data": {
      "text/html": [
       "<div>\n",
       "<style scoped>\n",
       "    .dataframe tbody tr th:only-of-type {\n",
       "        vertical-align: middle;\n",
       "    }\n",
       "\n",
       "    .dataframe tbody tr th {\n",
       "        vertical-align: top;\n",
       "    }\n",
       "\n",
       "    .dataframe thead th {\n",
       "        text-align: right;\n",
       "    }\n",
       "</style>\n",
       "<table border=\"1\" class=\"dataframe\">\n",
       "  <thead>\n",
       "    <tr style=\"text-align: right;\">\n",
       "      <th></th>\n",
       "      <th>ID</th>\n",
       "      <th>X_01</th>\n",
       "      <th>X_02</th>\n",
       "      <th>X_03</th>\n",
       "      <th>X_04</th>\n",
       "      <th>X_05</th>\n",
       "      <th>X_06</th>\n",
       "      <th>X_07</th>\n",
       "      <th>X_08</th>\n",
       "      <th>X_09</th>\n",
       "      <th>...</th>\n",
       "      <th>X_47</th>\n",
       "      <th>X_48</th>\n",
       "      <th>X_49</th>\n",
       "      <th>X_50</th>\n",
       "      <th>X_51</th>\n",
       "      <th>X_52</th>\n",
       "      <th>X_53</th>\n",
       "      <th>X_54</th>\n",
       "      <th>X_55</th>\n",
       "      <th>X_56</th>\n",
       "    </tr>\n",
       "  </thead>\n",
       "  <tbody>\n",
       "    <tr>\n",
       "      <th>0</th>\n",
       "      <td>TEST_00001</td>\n",
       "      <td>68.504</td>\n",
       "      <td>103.321</td>\n",
       "      <td>76.67</td>\n",
       "      <td>1</td>\n",
       "      <td>101.867</td>\n",
       "      <td>73.963</td>\n",
       "      <td>30.51</td>\n",
       "      <td>63.57</td>\n",
       "      <td>239.80</td>\n",
       "      <td>...</td>\n",
       "      <td>1</td>\n",
       "      <td>1</td>\n",
       "      <td>17227.63</td>\n",
       "      <td>138.130429</td>\n",
       "      <td>129.460682</td>\n",
       "      <td>141.506570</td>\n",
       "      <td>133.427229</td>\n",
       "      <td>129.711498</td>\n",
       "      <td>133.138096</td>\n",
       "      <td>121.859684</td>\n",
       "    </tr>\n",
       "    <tr>\n",
       "      <th>1</th>\n",
       "      <td>TEST_00002</td>\n",
       "      <td>67.485</td>\n",
       "      <td>103.320</td>\n",
       "      <td>69.37</td>\n",
       "      <td>1</td>\n",
       "      <td>101.992</td>\n",
       "      <td>67.845</td>\n",
       "      <td>28.03</td>\n",
       "      <td>116.99</td>\n",
       "      <td>189.23</td>\n",
       "      <td>...</td>\n",
       "      <td>1</td>\n",
       "      <td>1</td>\n",
       "      <td>17134.53</td>\n",
       "      <td>136.148839</td>\n",
       "      <td>128.266277</td>\n",
       "      <td>145.911745</td>\n",
       "      <td>131.196417</td>\n",
       "      <td>132.411480</td>\n",
       "      <td>133.629025</td>\n",
       "      <td>124.178623</td>\n",
       "    </tr>\n",
       "    <tr>\n",
       "      <th>2</th>\n",
       "      <td>TEST_00003</td>\n",
       "      <td>69.524</td>\n",
       "      <td>103.320</td>\n",
       "      <td>68.97</td>\n",
       "      <td>1</td>\n",
       "      <td>101.884</td>\n",
       "      <td>77.022</td>\n",
       "      <td>29.65</td>\n",
       "      <td>205.68</td>\n",
       "      <td>214.93</td>\n",
       "      <td>...</td>\n",
       "      <td>1</td>\n",
       "      <td>1</td>\n",
       "      <td>14860.83</td>\n",
       "      <td>120.447446</td>\n",
       "      <td>119.988804</td>\n",
       "      <td>132.099908</td>\n",
       "      <td>120.450155</td>\n",
       "      <td>130.051708</td>\n",
       "      <td>128.252972</td>\n",
       "      <td>114.475628</td>\n",
       "    </tr>\n",
       "    <tr>\n",
       "      <th>3</th>\n",
       "      <td>TEST_00004</td>\n",
       "      <td>69.524</td>\n",
       "      <td>103.320</td>\n",
       "      <td>65.87</td>\n",
       "      <td>1</td>\n",
       "      <td>101.866</td>\n",
       "      <td>73.963</td>\n",
       "      <td>28.15</td>\n",
       "      <td>103.38</td>\n",
       "      <td>180.80</td>\n",
       "      <td>...</td>\n",
       "      <td>1</td>\n",
       "      <td>1</td>\n",
       "      <td>15252.53</td>\n",
       "      <td>133.994695</td>\n",
       "      <td>125.069180</td>\n",
       "      <td>147.507669</td>\n",
       "      <td>123.142653</td>\n",
       "      <td>125.963665</td>\n",
       "      <td>139.666592</td>\n",
       "      <td>126.589253</td>\n",
       "    </tr>\n",
       "    <tr>\n",
       "      <th>4</th>\n",
       "      <td>TEST_00005</td>\n",
       "      <td>73.603</td>\n",
       "      <td>103.321</td>\n",
       "      <td>66.67</td>\n",
       "      <td>1</td>\n",
       "      <td>101.891</td>\n",
       "      <td>74.983</td>\n",
       "      <td>29.92</td>\n",
       "      <td>71.20</td>\n",
       "      <td>231.93</td>\n",
       "      <td>...</td>\n",
       "      <td>1</td>\n",
       "      <td>1</td>\n",
       "      <td>10752.23</td>\n",
       "      <td>137.918202</td>\n",
       "      <td>135.116192</td>\n",
       "      <td>138.600473</td>\n",
       "      <td>127.173033</td>\n",
       "      <td>137.252712</td>\n",
       "      <td>134.411335</td>\n",
       "      <td>124.020016</td>\n",
       "    </tr>\n",
       "    <tr>\n",
       "      <th>...</th>\n",
       "      <td>...</td>\n",
       "      <td>...</td>\n",
       "      <td>...</td>\n",
       "      <td>...</td>\n",
       "      <td>...</td>\n",
       "      <td>...</td>\n",
       "      <td>...</td>\n",
       "      <td>...</td>\n",
       "      <td>...</td>\n",
       "      <td>...</td>\n",
       "      <td>...</td>\n",
       "      <td>...</td>\n",
       "      <td>...</td>\n",
       "      <td>...</td>\n",
       "      <td>...</td>\n",
       "      <td>...</td>\n",
       "      <td>...</td>\n",
       "      <td>...</td>\n",
       "      <td>...</td>\n",
       "      <td>...</td>\n",
       "      <td>...</td>\n",
       "    </tr>\n",
       "    <tr>\n",
       "      <th>39603</th>\n",
       "      <td>TEST_39604</td>\n",
       "      <td>68.504</td>\n",
       "      <td>103.320</td>\n",
       "      <td>63.97</td>\n",
       "      <td>1</td>\n",
       "      <td>103.157</td>\n",
       "      <td>68.864</td>\n",
       "      <td>29.49</td>\n",
       "      <td>116.35</td>\n",
       "      <td>284.16</td>\n",
       "      <td>...</td>\n",
       "      <td>1</td>\n",
       "      <td>1</td>\n",
       "      <td>62123.53</td>\n",
       "      <td>127.741246</td>\n",
       "      <td>126.494312</td>\n",
       "      <td>139.119905</td>\n",
       "      <td>125.271109</td>\n",
       "      <td>128.284572</td>\n",
       "      <td>140.176945</td>\n",
       "      <td>128.292843</td>\n",
       "    </tr>\n",
       "    <tr>\n",
       "      <th>39604</th>\n",
       "      <td>TEST_39605</td>\n",
       "      <td>68.504</td>\n",
       "      <td>103.320</td>\n",
       "      <td>61.37</td>\n",
       "      <td>1</td>\n",
       "      <td>103.137</td>\n",
       "      <td>68.864</td>\n",
       "      <td>32.29</td>\n",
       "      <td>116.28</td>\n",
       "      <td>272.41</td>\n",
       "      <td>...</td>\n",
       "      <td>1</td>\n",
       "      <td>1</td>\n",
       "      <td>61844.13</td>\n",
       "      <td>127.767377</td>\n",
       "      <td>124.062809</td>\n",
       "      <td>138.238664</td>\n",
       "      <td>119.879393</td>\n",
       "      <td>127.322529</td>\n",
       "      <td>137.312047</td>\n",
       "      <td>131.570614</td>\n",
       "    </tr>\n",
       "    <tr>\n",
       "      <th>39605</th>\n",
       "      <td>TEST_39606</td>\n",
       "      <td>69.524</td>\n",
       "      <td>103.320</td>\n",
       "      <td>63.67</td>\n",
       "      <td>1</td>\n",
       "      <td>103.149</td>\n",
       "      <td>69.884</td>\n",
       "      <td>30.00</td>\n",
       "      <td>113.05</td>\n",
       "      <td>295.54</td>\n",
       "      <td>...</td>\n",
       "      <td>1</td>\n",
       "      <td>1</td>\n",
       "      <td>60277.53</td>\n",
       "      <td>128.593640</td>\n",
       "      <td>124.774037</td>\n",
       "      <td>138.659624</td>\n",
       "      <td>123.999571</td>\n",
       "      <td>126.075542</td>\n",
       "      <td>135.656132</td>\n",
       "      <td>127.671108</td>\n",
       "    </tr>\n",
       "    <tr>\n",
       "      <th>39606</th>\n",
       "      <td>TEST_39607</td>\n",
       "      <td>67.485</td>\n",
       "      <td>103.321</td>\n",
       "      <td>61.77</td>\n",
       "      <td>1</td>\n",
       "      <td>103.148</td>\n",
       "      <td>67.845</td>\n",
       "      <td>32.05</td>\n",
       "      <td>115.05</td>\n",
       "      <td>267.26</td>\n",
       "      <td>...</td>\n",
       "      <td>1</td>\n",
       "      <td>1</td>\n",
       "      <td>60236.73</td>\n",
       "      <td>121.110646</td>\n",
       "      <td>125.471699</td>\n",
       "      <td>134.989984</td>\n",
       "      <td>120.889578</td>\n",
       "      <td>129.296909</td>\n",
       "      <td>132.673977</td>\n",
       "      <td>131.882893</td>\n",
       "    </tr>\n",
       "    <tr>\n",
       "      <th>39607</th>\n",
       "      <td>TEST_39608</td>\n",
       "      <td>71.563</td>\n",
       "      <td>103.320</td>\n",
       "      <td>63.07</td>\n",
       "      <td>1</td>\n",
       "      <td>103.158</td>\n",
       "      <td>71.923</td>\n",
       "      <td>31.14</td>\n",
       "      <td>102.22</td>\n",
       "      <td>215.85</td>\n",
       "      <td>...</td>\n",
       "      <td>1</td>\n",
       "      <td>1</td>\n",
       "      <td>60680.73</td>\n",
       "      <td>134.263593</td>\n",
       "      <td>129.765515</td>\n",
       "      <td>139.681833</td>\n",
       "      <td>128.243391</td>\n",
       "      <td>131.757923</td>\n",
       "      <td>139.903401</td>\n",
       "      <td>121.479191</td>\n",
       "    </tr>\n",
       "  </tbody>\n",
       "</table>\n",
       "<p>39608 rows × 57 columns</p>\n",
       "</div>"
      ],
      "text/plain": [
       "               ID    X_01     X_02   X_03  X_04     X_05    X_06   X_07  \\\n",
       "0      TEST_00001  68.504  103.321  76.67     1  101.867  73.963  30.51   \n",
       "1      TEST_00002  67.485  103.320  69.37     1  101.992  67.845  28.03   \n",
       "2      TEST_00003  69.524  103.320  68.97     1  101.884  77.022  29.65   \n",
       "3      TEST_00004  69.524  103.320  65.87     1  101.866  73.963  28.15   \n",
       "4      TEST_00005  73.603  103.321  66.67     1  101.891  74.983  29.92   \n",
       "...           ...     ...      ...    ...   ...      ...     ...    ...   \n",
       "39603  TEST_39604  68.504  103.320  63.97     1  103.157  68.864  29.49   \n",
       "39604  TEST_39605  68.504  103.320  61.37     1  103.137  68.864  32.29   \n",
       "39605  TEST_39606  69.524  103.320  63.67     1  103.149  69.884  30.00   \n",
       "39606  TEST_39607  67.485  103.321  61.77     1  103.148  67.845  32.05   \n",
       "39607  TEST_39608  71.563  103.320  63.07     1  103.158  71.923  31.14   \n",
       "\n",
       "         X_08    X_09  ...  X_47  X_48      X_49        X_50        X_51  \\\n",
       "0       63.57  239.80  ...     1     1  17227.63  138.130429  129.460682   \n",
       "1      116.99  189.23  ...     1     1  17134.53  136.148839  128.266277   \n",
       "2      205.68  214.93  ...     1     1  14860.83  120.447446  119.988804   \n",
       "3      103.38  180.80  ...     1     1  15252.53  133.994695  125.069180   \n",
       "4       71.20  231.93  ...     1     1  10752.23  137.918202  135.116192   \n",
       "...       ...     ...  ...   ...   ...       ...         ...         ...   \n",
       "39603  116.35  284.16  ...     1     1  62123.53  127.741246  126.494312   \n",
       "39604  116.28  272.41  ...     1     1  61844.13  127.767377  124.062809   \n",
       "39605  113.05  295.54  ...     1     1  60277.53  128.593640  124.774037   \n",
       "39606  115.05  267.26  ...     1     1  60236.73  121.110646  125.471699   \n",
       "39607  102.22  215.85  ...     1     1  60680.73  134.263593  129.765515   \n",
       "\n",
       "             X_52        X_53        X_54        X_55        X_56  \n",
       "0      141.506570  133.427229  129.711498  133.138096  121.859684  \n",
       "1      145.911745  131.196417  132.411480  133.629025  124.178623  \n",
       "2      132.099908  120.450155  130.051708  128.252972  114.475628  \n",
       "3      147.507669  123.142653  125.963665  139.666592  126.589253  \n",
       "4      138.600473  127.173033  137.252712  134.411335  124.020016  \n",
       "...           ...         ...         ...         ...         ...  \n",
       "39603  139.119905  125.271109  128.284572  140.176945  128.292843  \n",
       "39604  138.238664  119.879393  127.322529  137.312047  131.570614  \n",
       "39605  138.659624  123.999571  126.075542  135.656132  127.671108  \n",
       "39606  134.989984  120.889578  129.296909  132.673977  131.882893  \n",
       "39607  139.681833  128.243391  131.757923  139.903401  121.479191  \n",
       "\n",
       "[39608 rows x 57 columns]"
      ]
     },
     "execution_count": 10,
     "metadata": {},
     "output_type": "execute_result"
    }
   ],
   "source": [
    "test"
   ]
  },
  {
   "cell_type": "code",
   "execution_count": 11,
   "id": "1c1eac51",
   "metadata": {
    "ExecuteTime": {
     "end_time": "2022-08-25T10:43:22.784307Z",
     "start_time": "2022-08-25T10:43:22.323485Z"
    }
   },
   "outputs": [
    {
     "ename": "NameError",
     "evalue": "name 'models' is not defined",
     "output_type": "error",
     "traceback": [
      "\u001b[1;31m---------------------------------------------------------------------------\u001b[0m",
      "\u001b[1;31mNameError\u001b[0m                                 Traceback (most recent call last)",
      "Input \u001b[1;32mIn [11]\u001b[0m, in \u001b[0;36m<cell line: 1>\u001b[1;34m()\u001b[0m\n\u001b[1;32m----> 1\u001b[0m \u001b[38;5;28mprint\u001b[39m(mean_squared_error(y_train[:, \u001b[38;5;241m1\u001b[39m], \u001b[43mmodels\u001b[49m[\u001b[38;5;241m1\u001b[39m]\u001b[38;5;241m.\u001b[39mpredict(X_train[\u001b[38;5;28mlist\u001b[39m(X_test\u001b[38;5;241m.\u001b[39mcolumns)])))\n\u001b[0;32m      2\u001b[0m \u001b[38;5;28mprint\u001b[39m(mean_squared_error(y_test[:, \u001b[38;5;241m1\u001b[39m], models[\u001b[38;5;241m1\u001b[39m]\u001b[38;5;241m.\u001b[39mpredict(X_test[\u001b[38;5;28mlist\u001b[39m(X_test\u001b[38;5;241m.\u001b[39mcolumns)])))\n",
      "\u001b[1;31mNameError\u001b[0m: name 'models' is not defined"
     ]
    }
   ],
   "source": [
    "print(mean_squared_error(y_train[:, 1], models[1].predict(X_train[list(X_test.columns)])))\n",
    "print(mean_squared_error(y_test[:, 1], models[1].predict(X_test[list(X_test.columns)])))"
   ]
  },
  {
   "cell_type": "markdown",
   "id": "ee3bc1b5",
   "metadata": {},
   "source": [
    "base train mse: 0.131?  \n",
    "base mse: 0.1397..."
   ]
  },
  {
   "cell_type": "code",
   "execution_count": 12,
   "id": "7ae47c2c",
   "metadata": {
    "ExecuteTime": {
     "end_time": "2022-08-25T10:43:37.498998Z",
     "start_time": "2022-08-25T10:43:37.483952Z"
    }
   },
   "outputs": [
    {
     "data": {
      "text/plain": [
       "1.057096751388655"
      ]
     },
     "execution_count": 12,
     "metadata": {},
     "output_type": "execute_result"
    }
   ],
   "source": [
    "np.mean(y_train[:, 1])"
   ]
  },
  {
   "cell_type": "code",
   "execution_count": 13,
   "id": "4f8ae240",
   "metadata": {
    "ExecuteTime": {
     "end_time": "2022-08-25T10:43:39.444856Z",
     "start_time": "2022-08-25T10:43:39.438872Z"
    }
   },
   "outputs": [
    {
     "data": {
      "text/plain": [
       "1.0577787315693798"
      ]
     },
     "execution_count": 13,
     "metadata": {},
     "output_type": "execute_result"
    }
   ],
   "source": [
    "np.mean(y_test[:, 1])"
   ]
  },
  {
   "cell_type": "code",
   "execution_count": 19,
   "id": "2325c4e8",
   "metadata": {
    "ExecuteTime": {
     "end_time": "2022-08-25T10:54:55.938883Z",
     "start_time": "2022-08-25T10:50:13.475794Z"
    }
   },
   "outputs": [
    {
     "name": "stdout",
     "output_type": "stream",
     "text": [
      "Fitting 5 folds for each of 72 candidates, totalling 360 fits\n"
     ]
    },
    {
     "data": {
      "text/plain": [
       "GridSearchCV(cv=5,\n",
       "             estimator=XGBRegressor(base_score=None, booster='gbtree',\n",
       "                                    callbacks=None, colsample_bylevel=None,\n",
       "                                    colsample_bynode=None,\n",
       "                                    colsample_bytree=None,\n",
       "                                    early_stopping_rounds=None,\n",
       "                                    enable_categorical=False,\n",
       "                                    eval_metric='rmse', gamma=None, gpu_id=0,\n",
       "                                    grow_policy=None, importance_type=None,\n",
       "                                    interaction_constraints=None,\n",
       "                                    learning_rate=None, max_bin=None,\n",
       "                                    max_...\n",
       "                                    min_child_weight=None, missing=nan,\n",
       "                                    monotone_constraints=None, n_estimators=100,\n",
       "                                    n_jobs=None, num_parallel_tree=None,\n",
       "                                    predictor=None, random_state=None,\n",
       "                                    reg_alpha=None, reg_lambda=None, ...),\n",
       "             n_jobs=-1,\n",
       "             param_grid={'learning_rate': array([0.01, 0.06, 0.11, 0.16, 0.21, 0.26]),\n",
       "                         'max_depth': array([3, 4, 5, 6]),\n",
       "                         'n_estimators': array([100, 175, 250])},\n",
       "             scoring='neg_root_mean_squared_error', verbose=3)"
      ]
     },
     "execution_count": 19,
     "metadata": {},
     "output_type": "execute_result"
    }
   ],
   "source": [
    "pred = []\n",
    "cv_params = {\n",
    "    'max_depth': np.arange(3, 7, 1), \n",
    "    'learning_rate': np.arange(0.01, 0.12, 0.02),\n",
    "#     \"colsample_bytree\": np.arange(0.5, 1.01, 0.25),\n",
    "    'n_estimators': np.arange(100, 300, 75)    \n",
    "}    \n",
    "\n",
    "fix_params = {\n",
    "    'booster': 'gbtree',\n",
    "    'objective': 'reg:squarederror',\n",
    "    \"eval_metric\": \"rmse\",\n",
    "    \"seed\": 42,\n",
    "#     \"num_early_stopping_rounds\": 5,\n",
    "    \"gpu_id\": 0,\n",
    "    \"tree_method\": \"gpu_hist\"\n",
    "}  \n",
    "\n",
    "cv = GridSearchCV(XGBRegressor(**fix_params), \n",
    "                   cv_params, \n",
    "                   scoring = 'neg_root_mean_squared_error', \n",
    "                   cv = 5,\n",
    "                  n_jobs=-1,\n",
    "                  verbose=3)\n",
    "cv.fit(X_train, y_train[:,1])"
   ]
  },
  {
   "cell_type": "code",
   "execution_count": 20,
   "id": "f44ed736",
   "metadata": {
    "ExecuteTime": {
     "end_time": "2022-08-25T10:55:02.180298Z",
     "start_time": "2022-08-25T10:55:02.171298Z"
    }
   },
   "outputs": [
    {
     "data": {
      "text/plain": [
       "XGBRegressor(base_score=0.5, booster='gbtree', callbacks=None,\n",
       "             colsample_bylevel=1, colsample_bynode=1, colsample_bytree=1,\n",
       "             early_stopping_rounds=None, enable_categorical=False,\n",
       "             eval_metric='rmse', gamma=0, gpu_id=0, grow_policy='depthwise',\n",
       "             importance_type=None, interaction_constraints='',\n",
       "             learning_rate=0.060000000000000005, max_bin=256,\n",
       "             max_cat_to_onehot=4, max_delta_step=0, max_depth=5, max_leaves=0,\n",
       "             min_child_weight=1, missing=nan, monotone_constraints='()',\n",
       "             n_estimators=100, n_jobs=0, num_parallel_tree=1, predictor='auto',\n",
       "             random_state=42, reg_alpha=0, reg_lambda=1, ...)"
      ]
     },
     "execution_count": 20,
     "metadata": {},
     "output_type": "execute_result"
    }
   ],
   "source": [
    "cv.best_estimator_"
   ]
  },
  {
   "cell_type": "code",
   "execution_count": 123,
   "id": "ec01ab0f",
   "metadata": {
    "ExecuteTime": {
     "end_time": "2022-08-25T11:19:03.689115Z",
     "start_time": "2022-08-25T11:19:03.675296Z"
    }
   },
   "outputs": [
    {
     "data": {
      "text/plain": [
       "{'alpha': 4, 'gamma': 1, 'reg_lambda': 7}"
      ]
     },
     "execution_count": 123,
     "metadata": {},
     "output_type": "execute_result"
    }
   ],
   "source": [
    "cv.best_params_"
   ]
  },
  {
   "cell_type": "code",
   "execution_count": 22,
   "id": "d53dde82",
   "metadata": {
    "ExecuteTime": {
     "end_time": "2022-08-25T10:55:10.021055Z",
     "start_time": "2022-08-25T10:55:09.943264Z"
    }
   },
   "outputs": [
    {
     "name": "stdout",
     "output_type": "stream",
     "text": [
      "0.13008806267158202\n",
      "0.14101682888652375\n"
     ]
    }
   ],
   "source": [
    "print(mean_squared_error(y_train[:, 1],cv.predict(X_train[list(X_test.columns)])))\n",
    "print(mean_squared_error(y_test[:, 1],cv.predict(X_test[list(X_test.columns)])))"
   ]
  },
  {
   "cell_type": "code",
   "execution_count": 114,
   "id": "f1d34e1b",
   "metadata": {
    "ExecuteTime": {
     "end_time": "2022-08-25T11:13:32.443334Z",
     "start_time": "2022-08-25T11:13:31.375736Z"
    }
   },
   "outputs": [
    {
     "data": {
      "text/plain": [
       "XGBRegressor(alpha=0.3, base_score=0.5, booster='gbtree', callbacks=None,\n",
       "             colsample_bylevel=1, colsample_bynode=1, colsample_bytree=0.75,\n",
       "             early_stopping_rounds=None, enable_categorical=False,\n",
       "             eval_metric=None, gamma=0.3, gpu_id=0, grow_policy='depthwise',\n",
       "             importance_type=None, interaction_constraints='',\n",
       "             learning_rate=0.07, max_bin=256, max_cat_to_onehot=4,\n",
       "             max_delta_step=0, max_depth=5, max_leaves=0, min_child_weight=1,\n",
       "             missing=nan, monotone_constraints='()', n_estimators=300, n_jobs=0,\n",
       "             num_parallel_tree=1, predictor='auto', random_state=0,\n",
       "             reg_alpha=0.300000012, ...)"
      ]
     },
     "execution_count": 114,
     "metadata": {},
     "output_type": "execute_result"
    }
   ],
   "source": [
    "model = XGBRegressor(learning_rate = 0.07, max_depth=5, n_estimators=300, tree_method=\"gpu_hist\", colsample_bytree=0.75,\n",
    "                    objective=\"reg:squarederror\", gamma=0.3, reg_lambda=0.3, alpha=0.3, scale_pos_weight=0.1)\n",
    "model.fit(X_train, y_train[:,1])"
   ]
  },
  {
   "cell_type": "code",
   "execution_count": 115,
   "id": "1fc12915",
   "metadata": {
    "ExecuteTime": {
     "end_time": "2022-08-25T11:13:32.901110Z",
     "start_time": "2022-08-25T11:13:32.823318Z"
    }
   },
   "outputs": [
    {
     "name": "stdout",
     "output_type": "stream",
     "text": [
      "0.12516711335627578\n",
      "0.14127976649927323\n"
     ]
    }
   ],
   "source": [
    "print(mean_squared_error(y_train[:, 1],model.predict(X_train[list(X_test.columns)])))\n",
    "print(mean_squared_error(y_test[:, 1],model.predict(X_test[list(X_test.columns)])))"
   ]
  },
  {
   "cell_type": "code",
   "execution_count": 125,
   "id": "89dc6057",
   "metadata": {
    "ExecuteTime": {
     "end_time": "2022-08-25T11:27:17.079380Z",
     "start_time": "2022-08-25T11:19:49.255604Z"
    }
   },
   "outputs": [
    {
     "name": "stdout",
     "output_type": "stream",
     "text": [
      "Fitting 5 folds for each of 343 candidates, totalling 1715 fits\n"
     ]
    },
    {
     "data": {
      "text/plain": [
       "GridSearchCV(cv=5,\n",
       "             estimator=XGBRegressor(base_score=None, booster='gbtree',\n",
       "                                    callbacks=None, colsample_bylevel=None,\n",
       "                                    colsample_bynode=None,\n",
       "                                    colsample_bytree=None,\n",
       "                                    early_stopping_rounds=None,\n",
       "                                    enable_categorical=False,\n",
       "                                    eval_metric='rmse', gamma=None, gpu_id=0,\n",
       "                                    grow_policy=None, importance_type=None,\n",
       "                                    interaction_constraints=None,\n",
       "                                    learning_rate=0.5, max_bin=None,\n",
       "                                    max_c...\n",
       "                                    monotone_constraints=None, n_estimators=300,\n",
       "                                    n_jobs=None, num_parallel_tree=None,\n",
       "                                    predictor=None, random_state=None,\n",
       "                                    reg_alpha=None, reg_lambda=None, ...),\n",
       "             n_jobs=-1,\n",
       "             param_grid={'alpha': array([6. , 6.3, 6.6, 6.9, 7.2, 7.5, 7.8]),\n",
       "                         'gamma': array([3. , 3.3, 3.6, 3.9, 4.2, 4.5, 4.8]),\n",
       "                         'reg_lambda': array([0. , 0.3, 0.6, 0.9, 1.2, 1.5, 1.8])},\n",
       "             scoring='neg_root_mean_squared_error', verbose=3)"
      ]
     },
     "execution_count": 125,
     "metadata": {},
     "output_type": "execute_result"
    }
   ],
   "source": [
    "pred = []\n",
    "cv_params = {\n",
    "#     'max_depth': np.arange(3, 7, 1), \n",
    "#     'learning_rate': np.arange(0.01, 0.12, 0.02),\n",
    "#     \"colsample_bytree\": np.arange(0.5, 1.01, 0.25),\n",
    "#     'n_estimators': np.arange(100, 300, 75)   \n",
    "    \"gamma\":np.arange(3, 5, 0.3),\n",
    "    \"reg_lambda\":np.arange(0, 2, 0.3),\n",
    "    \"alpha\":np.arange(6, 8, 0.3),\n",
    "    \n",
    "}    \n",
    "\n",
    "fix_params = {\n",
    "    'booster': 'gbtree',\n",
    "    'objective': 'reg:squarederror',\n",
    "    \"eval_metric\": \"rmse\",\n",
    "    \"seed\": 42,\n",
    "#     \"num_early_stopping_rounds\": 5,\n",
    "    \"gpu_id\": 0,\n",
    "    \"tree_method\": \"gpu_hist\",\n",
    "    \"learning_rate\":0.5,\n",
    "    \"max_depth\":6,\n",
    "    \"n_estimators\":300\n",
    "}  \n",
    "\n",
    "cv = GridSearchCV(XGBRegressor(**fix_params), \n",
    "                   cv_params, \n",
    "                   scoring = 'neg_root_mean_squared_error', \n",
    "                   cv = 5,\n",
    "                  n_jobs=-1,\n",
    "                  verbose=3)\n",
    "cv.fit(X_train, y_train[:,1])"
   ]
  },
  {
   "cell_type": "code",
   "execution_count": 126,
   "id": "5c6b9d9d",
   "metadata": {
    "ExecuteTime": {
     "end_time": "2022-08-25T11:36:47.554232Z",
     "start_time": "2022-08-25T11:36:47.546221Z"
    }
   },
   "outputs": [
    {
     "data": {
      "text/plain": [
       "{'alpha': 6.8999999999999995, 'gamma': 3.0, 'reg_lambda': 1.2}"
      ]
     },
     "execution_count": 126,
     "metadata": {},
     "output_type": "execute_result"
    }
   ],
   "source": [
    "cv.best_params_"
   ]
  },
  {
   "cell_type": "code",
   "execution_count": 127,
   "id": "a3250494",
   "metadata": {
    "ExecuteTime": {
     "end_time": "2022-08-25T11:36:49.822823Z",
     "start_time": "2022-08-25T11:36:49.734060Z"
    }
   },
   "outputs": [
    {
     "name": "stdout",
     "output_type": "stream",
     "text": [
      "0.14314917216849002\n",
      "0.14271089026484776\n"
     ]
    }
   ],
   "source": [
    "print(mean_squared_error(y_train[:, 1],cv.predict(X_train[list(X_test.columns)])))\n",
    "print(mean_squared_error(y_test[:, 1],cv.predict(X_test[list(X_test.columns)])))"
   ]
  },
  {
   "cell_type": "code",
   "execution_count": null,
   "id": "752fe943",
   "metadata": {},
   "outputs": [],
   "source": []
  },
  {
   "cell_type": "code",
   "execution_count": null,
   "id": "fa0f0533",
   "metadata": {},
   "outputs": [],
   "source": []
  },
  {
   "cell_type": "code",
   "execution_count": null,
   "id": "a543fdff",
   "metadata": {},
   "outputs": [],
   "source": []
  },
  {
   "cell_type": "code",
   "execution_count": null,
   "id": "9c982df3",
   "metadata": {},
   "outputs": [],
   "source": []
  },
  {
   "cell_type": "code",
   "execution_count": null,
   "id": "07f0d1b4",
   "metadata": {},
   "outputs": [],
   "source": []
  },
  {
   "cell_type": "code",
   "execution_count": null,
   "id": "d6c1107d",
   "metadata": {},
   "outputs": [],
   "source": []
  },
  {
   "cell_type": "code",
   "execution_count": null,
   "id": "2e893281",
   "metadata": {},
   "outputs": [],
   "source": []
  },
  {
   "cell_type": "markdown",
   "id": "eb2cc04c",
   "metadata": {},
   "source": [
    "# Submission"
   ]
  },
  {
   "cell_type": "code",
   "execution_count": 42,
   "id": "93c77910",
   "metadata": {
    "ExecuteTime": {
     "end_time": "2022-08-25T08:47:22.094766Z",
     "start_time": "2022-08-25T08:47:21.345845Z"
    }
   },
   "outputs": [],
   "source": [
    "submission[list(submission.columns[1:])] = prediction(test[list(test.columns[1:57])])"
   ]
  },
  {
   "cell_type": "code",
   "execution_count": 43,
   "id": "f2104731",
   "metadata": {
    "ExecuteTime": {
     "end_time": "2022-08-25T08:47:23.656074Z",
     "start_time": "2022-08-25T08:47:23.625731Z"
    }
   },
   "outputs": [
    {
     "data": {
      "text/html": [
       "<div>\n",
       "<style scoped>\n",
       "    .dataframe tbody tr th:only-of-type {\n",
       "        vertical-align: middle;\n",
       "    }\n",
       "\n",
       "    .dataframe tbody tr th {\n",
       "        vertical-align: top;\n",
       "    }\n",
       "\n",
       "    .dataframe thead th {\n",
       "        text-align: right;\n",
       "    }\n",
       "</style>\n",
       "<table border=\"1\" class=\"dataframe\">\n",
       "  <thead>\n",
       "    <tr style=\"text-align: right;\">\n",
       "      <th></th>\n",
       "      <th>Y_01</th>\n",
       "      <th>Y_02</th>\n",
       "      <th>Y_03</th>\n",
       "      <th>Y_04</th>\n",
       "      <th>Y_05</th>\n",
       "      <th>Y_06</th>\n",
       "      <th>Y_07</th>\n",
       "      <th>Y_08</th>\n",
       "      <th>Y_09</th>\n",
       "      <th>Y_10</th>\n",
       "      <th>Y_11</th>\n",
       "      <th>Y_12</th>\n",
       "      <th>Y_13</th>\n",
       "      <th>Y_14</th>\n",
       "    </tr>\n",
       "  </thead>\n",
       "  <tbody>\n",
       "    <tr>\n",
       "      <th>0</th>\n",
       "      <td>1.431872</td>\n",
       "      <td>1.168564</td>\n",
       "      <td>1.122446</td>\n",
       "      <td>13.323411</td>\n",
       "      <td>30.732706</td>\n",
       "      <td>16.161852</td>\n",
       "      <td>3.089605</td>\n",
       "      <td>-26.051510</td>\n",
       "      <td>-26.168472</td>\n",
       "      <td>-22.168365</td>\n",
       "      <td>24.439182</td>\n",
       "      <td>-26.186672</td>\n",
       "      <td>-26.014246</td>\n",
       "      <td>-26.034195</td>\n",
       "    </tr>\n",
       "    <tr>\n",
       "      <th>1</th>\n",
       "      <td>1.482981</td>\n",
       "      <td>1.177855</td>\n",
       "      <td>1.146533</td>\n",
       "      <td>13.417275</td>\n",
       "      <td>31.291752</td>\n",
       "      <td>16.535276</td>\n",
       "      <td>3.086622</td>\n",
       "      <td>-26.172918</td>\n",
       "      <td>-26.178089</td>\n",
       "      <td>-22.419561</td>\n",
       "      <td>24.422762</td>\n",
       "      <td>-26.106010</td>\n",
       "      <td>-26.051546</td>\n",
       "      <td>-26.062809</td>\n",
       "    </tr>\n",
       "    <tr>\n",
       "      <th>2</th>\n",
       "      <td>1.381617</td>\n",
       "      <td>1.073072</td>\n",
       "      <td>1.079412</td>\n",
       "      <td>13.683433</td>\n",
       "      <td>32.246677</td>\n",
       "      <td>16.707188</td>\n",
       "      <td>2.975574</td>\n",
       "      <td>-25.802059</td>\n",
       "      <td>-25.667589</td>\n",
       "      <td>-22.183771</td>\n",
       "      <td>24.736397</td>\n",
       "      <td>-25.690916</td>\n",
       "      <td>-25.804255</td>\n",
       "      <td>-25.815447</td>\n",
       "    </tr>\n",
       "    <tr>\n",
       "      <th>3</th>\n",
       "      <td>1.441587</td>\n",
       "      <td>1.145865</td>\n",
       "      <td>1.039582</td>\n",
       "      <td>14.999978</td>\n",
       "      <td>32.469048</td>\n",
       "      <td>16.957319</td>\n",
       "      <td>2.981209</td>\n",
       "      <td>-25.602610</td>\n",
       "      <td>-25.674963</td>\n",
       "      <td>-21.888788</td>\n",
       "      <td>24.877396</td>\n",
       "      <td>-25.607964</td>\n",
       "      <td>-25.519442</td>\n",
       "      <td>-25.599375</td>\n",
       "    </tr>\n",
       "    <tr>\n",
       "      <th>4</th>\n",
       "      <td>1.310262</td>\n",
       "      <td>1.031289</td>\n",
       "      <td>0.899140</td>\n",
       "      <td>15.033303</td>\n",
       "      <td>31.517897</td>\n",
       "      <td>16.819544</td>\n",
       "      <td>3.020349</td>\n",
       "      <td>-25.816376</td>\n",
       "      <td>-25.819689</td>\n",
       "      <td>-21.840166</td>\n",
       "      <td>24.674677</td>\n",
       "      <td>-25.802046</td>\n",
       "      <td>-25.810757</td>\n",
       "      <td>-25.733101</td>\n",
       "    </tr>\n",
       "    <tr>\n",
       "      <th>...</th>\n",
       "      <td>...</td>\n",
       "      <td>...</td>\n",
       "      <td>...</td>\n",
       "      <td>...</td>\n",
       "      <td>...</td>\n",
       "      <td>...</td>\n",
       "      <td>...</td>\n",
       "      <td>...</td>\n",
       "      <td>...</td>\n",
       "      <td>...</td>\n",
       "      <td>...</td>\n",
       "      <td>...</td>\n",
       "      <td>...</td>\n",
       "      <td>...</td>\n",
       "    </tr>\n",
       "    <tr>\n",
       "      <th>39603</th>\n",
       "      <td>1.246434</td>\n",
       "      <td>0.945124</td>\n",
       "      <td>0.949532</td>\n",
       "      <td>12.708375</td>\n",
       "      <td>31.178970</td>\n",
       "      <td>16.615458</td>\n",
       "      <td>3.150761</td>\n",
       "      <td>-26.540054</td>\n",
       "      <td>-26.486897</td>\n",
       "      <td>-22.553228</td>\n",
       "      <td>24.410305</td>\n",
       "      <td>-26.427046</td>\n",
       "      <td>-26.355572</td>\n",
       "      <td>-26.467617</td>\n",
       "    </tr>\n",
       "    <tr>\n",
       "      <th>39604</th>\n",
       "      <td>1.265963</td>\n",
       "      <td>0.913743</td>\n",
       "      <td>0.991946</td>\n",
       "      <td>14.474705</td>\n",
       "      <td>31.336872</td>\n",
       "      <td>16.921745</td>\n",
       "      <td>3.187699</td>\n",
       "      <td>-26.431139</td>\n",
       "      <td>-26.472315</td>\n",
       "      <td>-22.433453</td>\n",
       "      <td>24.471724</td>\n",
       "      <td>-26.422443</td>\n",
       "      <td>-26.472694</td>\n",
       "      <td>-26.346188</td>\n",
       "    </tr>\n",
       "    <tr>\n",
       "      <th>39605</th>\n",
       "      <td>1.183705</td>\n",
       "      <td>0.921559</td>\n",
       "      <td>0.923979</td>\n",
       "      <td>12.437606</td>\n",
       "      <td>31.413551</td>\n",
       "      <td>16.507736</td>\n",
       "      <td>3.131315</td>\n",
       "      <td>-26.583241</td>\n",
       "      <td>-26.589739</td>\n",
       "      <td>-22.840784</td>\n",
       "      <td>24.421360</td>\n",
       "      <td>-26.496462</td>\n",
       "      <td>-26.441900</td>\n",
       "      <td>-26.496752</td>\n",
       "    </tr>\n",
       "    <tr>\n",
       "      <th>39606</th>\n",
       "      <td>1.218740</td>\n",
       "      <td>0.892097</td>\n",
       "      <td>0.949491</td>\n",
       "      <td>13.292331</td>\n",
       "      <td>31.499372</td>\n",
       "      <td>16.675983</td>\n",
       "      <td>3.153240</td>\n",
       "      <td>-26.583809</td>\n",
       "      <td>-26.534300</td>\n",
       "      <td>-22.919586</td>\n",
       "      <td>24.494181</td>\n",
       "      <td>-26.508875</td>\n",
       "      <td>-26.386637</td>\n",
       "      <td>-26.414085</td>\n",
       "    </tr>\n",
       "    <tr>\n",
       "      <th>39607</th>\n",
       "      <td>1.330505</td>\n",
       "      <td>0.968173</td>\n",
       "      <td>1.026428</td>\n",
       "      <td>12.655840</td>\n",
       "      <td>30.495018</td>\n",
       "      <td>16.344387</td>\n",
       "      <td>3.194479</td>\n",
       "      <td>-26.596851</td>\n",
       "      <td>-26.568184</td>\n",
       "      <td>-22.903173</td>\n",
       "      <td>24.367910</td>\n",
       "      <td>-26.672073</td>\n",
       "      <td>-26.511587</td>\n",
       "      <td>-26.468136</td>\n",
       "    </tr>\n",
       "  </tbody>\n",
       "</table>\n",
       "<p>39608 rows × 14 columns</p>\n",
       "</div>"
      ],
      "text/plain": [
       "           Y_01      Y_02      Y_03       Y_04       Y_05       Y_06  \\\n",
       "0      1.431872  1.168564  1.122446  13.323411  30.732706  16.161852   \n",
       "1      1.482981  1.177855  1.146533  13.417275  31.291752  16.535276   \n",
       "2      1.381617  1.073072  1.079412  13.683433  32.246677  16.707188   \n",
       "3      1.441587  1.145865  1.039582  14.999978  32.469048  16.957319   \n",
       "4      1.310262  1.031289  0.899140  15.033303  31.517897  16.819544   \n",
       "...         ...       ...       ...        ...        ...        ...   \n",
       "39603  1.246434  0.945124  0.949532  12.708375  31.178970  16.615458   \n",
       "39604  1.265963  0.913743  0.991946  14.474705  31.336872  16.921745   \n",
       "39605  1.183705  0.921559  0.923979  12.437606  31.413551  16.507736   \n",
       "39606  1.218740  0.892097  0.949491  13.292331  31.499372  16.675983   \n",
       "39607  1.330505  0.968173  1.026428  12.655840  30.495018  16.344387   \n",
       "\n",
       "           Y_07       Y_08       Y_09       Y_10       Y_11       Y_12  \\\n",
       "0      3.089605 -26.051510 -26.168472 -22.168365  24.439182 -26.186672   \n",
       "1      3.086622 -26.172918 -26.178089 -22.419561  24.422762 -26.106010   \n",
       "2      2.975574 -25.802059 -25.667589 -22.183771  24.736397 -25.690916   \n",
       "3      2.981209 -25.602610 -25.674963 -21.888788  24.877396 -25.607964   \n",
       "4      3.020349 -25.816376 -25.819689 -21.840166  24.674677 -25.802046   \n",
       "...         ...        ...        ...        ...        ...        ...   \n",
       "39603  3.150761 -26.540054 -26.486897 -22.553228  24.410305 -26.427046   \n",
       "39604  3.187699 -26.431139 -26.472315 -22.433453  24.471724 -26.422443   \n",
       "39605  3.131315 -26.583241 -26.589739 -22.840784  24.421360 -26.496462   \n",
       "39606  3.153240 -26.583809 -26.534300 -22.919586  24.494181 -26.508875   \n",
       "39607  3.194479 -26.596851 -26.568184 -22.903173  24.367910 -26.672073   \n",
       "\n",
       "            Y_13       Y_14  \n",
       "0     -26.014246 -26.034195  \n",
       "1     -26.051546 -26.062809  \n",
       "2     -25.804255 -25.815447  \n",
       "3     -25.519442 -25.599375  \n",
       "4     -25.810757 -25.733101  \n",
       "...          ...        ...  \n",
       "39603 -26.355572 -26.467617  \n",
       "39604 -26.472694 -26.346188  \n",
       "39605 -26.441900 -26.496752  \n",
       "39606 -26.386637 -26.414085  \n",
       "39607 -26.511587 -26.468136  \n",
       "\n",
       "[39608 rows x 14 columns]"
      ]
     },
     "execution_count": 43,
     "metadata": {},
     "output_type": "execute_result"
    }
   ],
   "source": [
    "submission[list(submission.columns[1:])]"
   ]
  },
  {
   "cell_type": "code",
   "execution_count": 44,
   "id": "6fd8fcd6",
   "metadata": {
    "ExecuteTime": {
     "end_time": "2022-08-25T08:47:38.174958Z",
     "start_time": "2022-08-25T08:47:37.677504Z"
    }
   },
   "outputs": [],
   "source": [
    "submission.to_csv(\"./xgboost.csv\", index=None)"
   ]
  }
 ],
 "metadata": {
  "kernelspec": {
   "display_name": "python3.9.0",
   "language": "python",
   "name": "python3.9.0"
  },
  "language_info": {
   "codemirror_mode": {
    "name": "ipython",
    "version": 3
   },
   "file_extension": ".py",
   "mimetype": "text/x-python",
   "name": "python",
   "nbconvert_exporter": "python",
   "pygments_lexer": "ipython3",
   "version": "3.9.12"
  },
  "toc": {
   "base_numbering": 1,
   "nav_menu": {},
   "number_sections": true,
   "sideBar": true,
   "skip_h1_title": false,
   "title_cell": "Table of Contents",
   "title_sidebar": "Contents",
   "toc_cell": false,
   "toc_position": {},
   "toc_section_display": true,
   "toc_window_display": false
  },
  "varInspector": {
   "cols": {
    "lenName": 16,
    "lenType": 16,
    "lenVar": 40
   },
   "kernels_config": {
    "python": {
     "delete_cmd_postfix": "",
     "delete_cmd_prefix": "del ",
     "library": "var_list.py",
     "varRefreshCmd": "print(var_dic_list())"
    },
    "r": {
     "delete_cmd_postfix": ") ",
     "delete_cmd_prefix": "rm(",
     "library": "var_list.r",
     "varRefreshCmd": "cat(var_dic_list()) "
    }
   },
   "types_to_exclude": [
    "module",
    "function",
    "builtin_function_or_method",
    "instance",
    "_Feature"
   ],
   "window_display": false
  }
 },
 "nbformat": 4,
 "nbformat_minor": 5
}
