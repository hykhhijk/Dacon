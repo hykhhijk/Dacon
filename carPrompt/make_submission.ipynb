{
 "cells": [
  {
   "cell_type": "code",
   "execution_count": 1,
   "metadata": {},
   "outputs": [],
   "source": [
    "import numpy as np\n",
    "import matplotlib.pyplot as plt\n",
    "import pandas as pd\n",
    "import os"
   ]
  },
  {
   "cell_type": "code",
   "execution_count": 2,
   "metadata": {},
   "outputs": [],
   "source": [
    "path = \"/home/yhkim/code/carPrompt/submission\"\n",
    "submission_base = pd.read_csv(os.path.join(path, \"base.csv\"))"
   ]
  },
  {
   "cell_type": "code",
   "execution_count": 3,
   "metadata": {},
   "outputs": [
    {
     "data": {
      "text/plain": [
       "'당신은 자동차 데이터 전문가입니다. 입력으로 들어오는 데이터가 자동차 관련 데이터라면 1, 아니라면 0으로 판별해주세요. 답변해야할 데이터는 ID : TEST_00 ~ TEST_39로 40개며, 각 데이터 당 행으로 구분하여 0 또는 1로 답변해주세요.'"
      ]
     },
     "execution_count": 3,
     "metadata": {},
     "output_type": "execute_result"
    }
   ],
   "source": [
    "submission_base[\"system\"].iloc[0]"
   ]
  },
  {
   "cell_type": "code",
   "execution_count": 4,
   "metadata": {},
   "outputs": [],
   "source": [
    "# print(submission_base[\"user\"].iloc[0])"
   ]
  },
  {
   "cell_type": "markdown",
   "metadata": {},
   "source": [
    "# submission[\"user\"] chk(프롬프트 취사 선택만 가능, 변조 및 요약은 불가)"
   ]
  },
  {
   "cell_type": "code",
   "execution_count": 5,
   "metadata": {},
   "outputs": [],
   "source": [
    "test_prompts = pd.DataFrame(submission_base[\"user\"].iloc[0].split(\"\\n\\n\"))"
   ]
  },
  {
   "cell_type": "code",
   "execution_count": 6,
   "metadata": {},
   "outputs": [
    {
     "data": {
      "text/html": [
       "<div>\n",
       "<style scoped>\n",
       "    .dataframe tbody tr th:only-of-type {\n",
       "        vertical-align: middle;\n",
       "    }\n",
       "\n",
       "    .dataframe tbody tr th {\n",
       "        vertical-align: top;\n",
       "    }\n",
       "\n",
       "    .dataframe thead th {\n",
       "        text-align: right;\n",
       "    }\n",
       "</style>\n",
       "<table border=\"1\" class=\"dataframe\">\n",
       "  <thead>\n",
       "    <tr style=\"text-align: right;\">\n",
       "      <th></th>\n",
       "      <th>0</th>\n",
       "    </tr>\n",
       "  </thead>\n",
       "  <tbody>\n",
       "    <tr>\n",
       "      <th>0</th>\n",
       "      <td>ID: TEST_00\\ntitle: Beach Profile Data Collect...</td>\n",
       "    </tr>\n",
       "    <tr>\n",
       "      <th>1</th>\n",
       "      <td>ID: TEST_01\\ntitle: Nota media de la nota de a...</td>\n",
       "    </tr>\n",
       "    <tr>\n",
       "      <th>2</th>\n",
       "      <td>ID: TEST_02\\ntitle: Internet-based platform se...</td>\n",
       "    </tr>\n",
       "    <tr>\n",
       "      <th>3</th>\n",
       "      <td>ID: TEST_03\\ntitle: 경상남도 김해시_자동차등록 현황\\nnotes: ...</td>\n",
       "    </tr>\n",
       "    <tr>\n",
       "      <th>4</th>\n",
       "      <td>ID: TEST_04\\ntitle: EV用充電設備の設置状況データ一覧\\nnotes: ...</td>\n",
       "    </tr>\n",
       "  </tbody>\n",
       "</table>\n",
       "</div>"
      ],
      "text/plain": [
       "                                                   0\n",
       "0  ID: TEST_00\\ntitle: Beach Profile Data Collect...\n",
       "1  ID: TEST_01\\ntitle: Nota media de la nota de a...\n",
       "2  ID: TEST_02\\ntitle: Internet-based platform se...\n",
       "3  ID: TEST_03\\ntitle: 경상남도 김해시_자동차등록 현황\\nnotes: ...\n",
       "4  ID: TEST_04\\ntitle: EV用充電設備の設置状況データ一覧\\nnotes: ..."
      ]
     },
     "execution_count": 6,
     "metadata": {},
     "output_type": "execute_result"
    }
   ],
   "source": [
    "test_prompts.head(5)"
   ]
  },
  {
   "cell_type": "code",
   "execution_count": 7,
   "metadata": {},
   "outputs": [
    {
     "data": {
      "text/plain": [
       "'ID: TEST_00\\ntitle: Beach Profile Data Collected from Madeira Beach, Florida (January 15, 2021)\\nnotes: This dataset, prepared by the U.S. Geological Survey (USGS) St. Petersburg Coastal and Marine Science Center (SPCMSC), provides beach profile data collected at Madeira Beach, Florida. Data were collected on foot by a person equipped with a Global Positioning System (GPS) antenna affixed to a backpack outfitted for surveying location and elevation data (XYZ) along pre-determined transects. The horizontal position data are given in the Universal Transverse Mercator (UTM) projected coordinate system, Zone 17 North (17N), referenced to the North American Datum of 1983 (NAD 83); the elevation data are referenced to the North American Vertical Datum of 1988 (NAVD 88), GEOID12B.'"
      ]
     },
     "execution_count": 7,
     "metadata": {},
     "output_type": "execute_result"
    }
   ],
   "source": [
    "test_prompts[0][0]"
   ]
  },
  {
   "cell_type": "markdown",
   "metadata": {},
   "source": [
    "# chk' system col "
   ]
  },
  {
   "cell_type": "code",
   "execution_count": 8,
   "metadata": {},
   "outputs": [
    {
     "data": {
      "text/plain": [
       "'당신은 자동차 데이터 전문가입니다. 입력으로 들어오는 데이터가 자동차 관련 데이터라면 1, 아니라면 0으로 판별해주세요. 답변해야할 데이터는 ID : TEST_00 ~ TEST_39로 40개며, 각 데이터 당 행으로 구분하여 0 또는 1로 답변해주세요.'"
      ]
     },
     "execution_count": 8,
     "metadata": {},
     "output_type": "execute_result"
    }
   ],
   "source": [
    "submission_base[\"system\"].iloc[0]"
   ]
  },
  {
   "cell_type": "code",
   "execution_count": 9,
   "metadata": {},
   "outputs": [
    {
     "ename": "SyntaxError",
     "evalue": "unterminated string literal (detected at line 1) (1906397636.py, line 1)",
     "output_type": "error",
     "traceback": [
      "\u001b[0;36m  Cell \u001b[0;32mIn[9], line 1\u001b[0;36m\u001b[0m\n\u001b[0;31m    \"You are an expert in automotive data. Follow these instructions:\u001b[0m\n\u001b[0m    ^\u001b[0m\n\u001b[0;31mSyntaxError\u001b[0m\u001b[0;31m:\u001b[0m unterminated string literal (detected at line 1)\n"
     ]
    }
   ],
   "source": [
    "\"You are an expert in automotive data. Follow these instructions:\n",
    "\n",
    "1. If the input data is automotive-related data, determine it as 1, otherwise 0. There are 40 data to answer.\n",
    "2. ID: TEST_00 ~ TEST_39, and answer as 0 or 1 for each data, separated by row.\n",
    "3. Be aware of output you can only contrain 0 or 1 for each data and '\\n'for seperate this. If you output is wrong you have to go back and reform output\""
   ]
  },
  {
   "cell_type": "code",
   "execution_count": 10,
   "metadata": {},
   "outputs": [],
   "source": [
    "train = pd.read_csv(\"/home/yhkim/data/train.csv\")   #어쩝히 이 경로에서 영원히 안변할듯"
   ]
  },
  {
   "cell_type": "code",
   "execution_count": 11,
   "metadata": {},
   "outputs": [
    {
     "data": {
      "text/html": [
       "<div>\n",
       "<style scoped>\n",
       "    .dataframe tbody tr th:only-of-type {\n",
       "        vertical-align: middle;\n",
       "    }\n",
       "\n",
       "    .dataframe tbody tr th {\n",
       "        vertical-align: top;\n",
       "    }\n",
       "\n",
       "    .dataframe thead th {\n",
       "        text-align: right;\n",
       "    }\n",
       "</style>\n",
       "<table border=\"1\" class=\"dataframe\">\n",
       "  <thead>\n",
       "    <tr style=\"text-align: right;\">\n",
       "      <th></th>\n",
       "      <th>ID</th>\n",
       "      <th>lang</th>\n",
       "      <th>title</th>\n",
       "      <th>notes</th>\n",
       "      <th>target</th>\n",
       "    </tr>\n",
       "  </thead>\n",
       "  <tbody>\n",
       "    <tr>\n",
       "      <th>0</th>\n",
       "      <td>TRAIN_00</td>\n",
       "      <td>de</td>\n",
       "      <td>Steuerbarer Umsatz aus Lieferungen und Leistun...</td>\n",
       "      <td>Steuern, Finanzen, Öffentlicher Dienst - Steue...</td>\n",
       "      <td>0</td>\n",
       "    </tr>\n",
       "    <tr>\n",
       "      <th>1</th>\n",
       "      <td>TRAIN_01</td>\n",
       "      <td>kr</td>\n",
       "      <td>도로교통공단_고속도로구간별 도로위험도지수정보 조회 서비스</td>\n",
       "      <td>고속도로명, 고속도로구간명과 차종코드를 이용하여 구간 내의 도로위험도지수값, 도로위...</td>\n",
       "      <td>1</td>\n",
       "    </tr>\n",
       "    <tr>\n",
       "      <th>2</th>\n",
       "      <td>TRAIN_02</td>\n",
       "      <td>en</td>\n",
       "      <td>New registrations of road vehicles by vehicle ...</td>\n",
       "      <td>This dataset presents the monthly data of new ...</td>\n",
       "      <td>1</td>\n",
       "    </tr>\n",
       "    <tr>\n",
       "      <th>3</th>\n",
       "      <td>TRAIN_03</td>\n",
       "      <td>de</td>\n",
       "      <td>Siedlungs- und Verkehrsflächen nach Nutzungsar...</td>\n",
       "      <td>Gebiet, Fläche - Gebiet - Siedlungs- und Verke...</td>\n",
       "      <td>1</td>\n",
       "    </tr>\n",
       "    <tr>\n",
       "      <th>4</th>\n",
       "      <td>TRAIN_04</td>\n",
       "      <td>en</td>\n",
       "      <td>Marine Geophysical and Seismic Data from aroun...</td>\n",
       "      <td>The British Geological Survey hold a collectio...</td>\n",
       "      <td>0</td>\n",
       "    </tr>\n",
       "    <tr>\n",
       "      <th>5</th>\n",
       "      <td>TRAIN_05</td>\n",
       "      <td>en</td>\n",
       "      <td>Truck Size and Weight Enforcement Data</td>\n",
       "      <td>This dataset consists of truck size and weight...</td>\n",
       "      <td>1</td>\n",
       "    </tr>\n",
       "    <tr>\n",
       "      <th>6</th>\n",
       "      <td>TRAIN_06</td>\n",
       "      <td>kr</td>\n",
       "      <td>고속도로 교통사고 데이터</td>\n",
       "      <td>교통사고 정보</td>\n",
       "      <td>1</td>\n",
       "    </tr>\n",
       "    <tr>\n",
       "      <th>7</th>\n",
       "      <td>TRAIN_07</td>\n",
       "      <td>de</td>\n",
       "      <td>Bevölkerung nach Geschlecht, Altersgruppen und...</td>\n",
       "      <td>Definition:\\nEs werden die höchsten berufliche...</td>\n",
       "      <td>0</td>\n",
       "    </tr>\n",
       "    <tr>\n",
       "      <th>8</th>\n",
       "      <td>TRAIN_08</td>\n",
       "      <td>kr</td>\n",
       "      <td>한국교통안전공단_대중교통 기상상태별 이용인원</td>\n",
       "      <td>대중교통 기상상태별 이용인원 및 통행량에 관한 데이터정보 (맑은 날, 강설, 강우 ...</td>\n",
       "      <td>1</td>\n",
       "    </tr>\n",
       "    <tr>\n",
       "      <th>9</th>\n",
       "      <td>TRAIN_09</td>\n",
       "      <td>kr</td>\n",
       "      <td>경기도 양평군_고령인구현황</td>\n",
       "      <td>2022년 양평군 노인들을 대상으로 노인복지 사각복지를 파악하기 위해서 설문조사를 ...</td>\n",
       "      <td>0</td>\n",
       "    </tr>\n",
       "    <tr>\n",
       "      <th>10</th>\n",
       "      <td>TRAIN_10</td>\n",
       "      <td>es</td>\n",
       "      <td>Tasas de actividad, empleo y paro por tipo de ...</td>\n",
       "      <td>Tasas de actividad, empleo y paro por tipo de ...</td>\n",
       "      <td>0</td>\n",
       "    </tr>\n",
       "  </tbody>\n",
       "</table>\n",
       "</div>"
      ],
      "text/plain": [
       "          ID lang                                              title  \\\n",
       "0   TRAIN_00   de  Steuerbarer Umsatz aus Lieferungen und Leistun...   \n",
       "1   TRAIN_01   kr                    도로교통공단_고속도로구간별 도로위험도지수정보 조회 서비스   \n",
       "2   TRAIN_02   en  New registrations of road vehicles by vehicle ...   \n",
       "3   TRAIN_03   de  Siedlungs- und Verkehrsflächen nach Nutzungsar...   \n",
       "4   TRAIN_04   en  Marine Geophysical and Seismic Data from aroun...   \n",
       "5   TRAIN_05   en             Truck Size and Weight Enforcement Data   \n",
       "6   TRAIN_06   kr                                      고속도로 교통사고 데이터   \n",
       "7   TRAIN_07   de  Bevölkerung nach Geschlecht, Altersgruppen und...   \n",
       "8   TRAIN_08   kr                           한국교통안전공단_대중교통 기상상태별 이용인원   \n",
       "9   TRAIN_09   kr                                     경기도 양평군_고령인구현황   \n",
       "10  TRAIN_10   es  Tasas de actividad, empleo y paro por tipo de ...   \n",
       "\n",
       "                                                notes  target  \n",
       "0   Steuern, Finanzen, Öffentlicher Dienst - Steue...       0  \n",
       "1   고속도로명, 고속도로구간명과 차종코드를 이용하여 구간 내의 도로위험도지수값, 도로위...       1  \n",
       "2   This dataset presents the monthly data of new ...       1  \n",
       "3   Gebiet, Fläche - Gebiet - Siedlungs- und Verke...       1  \n",
       "4   The British Geological Survey hold a collectio...       0  \n",
       "5   This dataset consists of truck size and weight...       1  \n",
       "6                                             교통사고 정보       1  \n",
       "7   Definition:\\nEs werden die höchsten berufliche...       0  \n",
       "8   대중교통 기상상태별 이용인원 및 통행량에 관한 데이터정보 (맑은 날, 강설, 강우 ...       1  \n",
       "9   2022년 양평군 노인들을 대상으로 노인복지 사각복지를 파악하기 위해서 설문조사를 ...       0  \n",
       "10  Tasas de actividad, empleo y paro por tipo de ...       0  "
      ]
     },
     "execution_count": 11,
     "metadata": {},
     "output_type": "execute_result"
    }
   ],
   "source": [
    "train"
   ]
  },
  {
   "cell_type": "code",
   "execution_count": 23,
   "metadata": {},
   "outputs": [
    {
     "data": {
      "text/plain": [
       "0     ID: TRAIN_00\\ntitle: Steuerbarer Umsatz aus Li...\n",
       "1     ID: TRAIN_01\\ntitle: 도로교통공단_고속도로구간별 도로위험도지수정보 ...\n",
       "2     ID: TRAIN_02\\ntitle: New registrations of road...\n",
       "3     ID: TRAIN_03\\ntitle: Siedlungs- und Verkehrsfl...\n",
       "4     ID: TRAIN_04\\ntitle: Marine Geophysical and Se...\n",
       "5     ID: TRAIN_05\\ntitle: Truck Size and Weight Enf...\n",
       "6     ID: TRAIN_06\\ntitle: 고속도로 교통사고 데이터\\nnotes: 교통사...\n",
       "7     ID: TRAIN_07\\ntitle: Bevölkerung nach Geschlec...\n",
       "8     ID: TRAIN_08\\ntitle: 한국교통안전공단_대중교통 기상상태별 이용인원\\...\n",
       "9     ID: TRAIN_09\\ntitle: 경기도 양평군_고령인구현황\\nnotes: 20...\n",
       "10    ID: TRAIN_10\\ntitle: Tasas de actividad, emple...\n",
       "dtype: object"
      ]
     },
     "execution_count": 23,
     "metadata": {},
     "output_type": "execute_result"
    }
   ],
   "source": [
    "formatted_train = train.apply(lambda row: f\"ID: {row['ID']}\\ntitle: {row['title']}\\nnotes: {row['notes']}\\n<<target: {row['target']}>>\", axis=1)\n",
    "formatted_train\n",
    "\n"
   ]
  },
  {
   "cell_type": "code",
   "execution_count": 24,
   "metadata": {},
   "outputs": [
    {
     "data": {
      "text/plain": [
       "'ID: TRAIN_00\\ntitle: Steuerbarer Umsatz aus Lieferungen und Leistungen in Flensburg\\nnotes: Steuern, Finanzen, Öffentlicher Dienst - Steuern - Umsatzsteuerstatistik (Voranmeldungen) - Steuerbarer Umsatz aus Lieferungen und Leistungen in Flensburg \\nZum HTML-Angebot der Zeitreihe\\nRegionaldaten für Schleswig-Holstein\\nStatistisches Amt für Hamburg und Schleswig-Holstein\\n<<target: 0>>'"
      ]
     },
     "execution_count": 24,
     "metadata": {},
     "output_type": "execute_result"
    }
   ],
   "source": [
    "formatted_train[0]"
   ]
  },
  {
   "cell_type": "code",
   "execution_count": 27,
   "metadata": {},
   "outputs": [
    {
     "data": {
      "text/plain": [
       "0    당신은 자동차 데이터 전문가입니다. 입력으로 들어오는 데이터가 자동차 관련 데이터라...\n",
       "Name: system, dtype: object"
      ]
     },
     "execution_count": 27,
     "metadata": {},
     "output_type": "execute_result"
    }
   ],
   "source": [
    "submission_base[\"system\"]"
   ]
  },
  {
   "cell_type": "code",
   "execution_count": 28,
   "metadata": {},
   "outputs": [
    {
     "data": {
      "text/plain": [
       "'ID: TRAIN_00\\ntitle: Steuerbarer Umsatz aus Lieferungen und Leistungen in Flensburg\\nnotes: Steuern, Finanzen, Öffentlicher Dienst - Steuern - Umsatzsteuerstatistik (Voranmeldungen) - Steuerbarer Umsatz aus Lieferungen und Leistungen in Flensburg \\nZum HTML-Angebot der Zeitreihe\\nRegionaldaten für Schleswig-Holstein\\nStatistisches Amt für Hamburg und Schleswig-Holstein\\n<<target: 0>>\\n\\nID: TRAIN_01\\ntitle: 도로교통공단_고속도로구간별 도로위험도지수정보 조회 서비스\\nnotes: 고속도로명, 고속도로구간명과 차종코드를 이용하여 구간 내의 도로위험도지수값, 도로위험도등급 등의 구간좌표별 실시간 도로위험도지수정보를 제공하는 서비스\\n<<target: 1>>\\n\\nID: TRAIN_02\\ntitle: New registrations of road vehicles by vehicle group and type\\nnotes: This dataset presents the monthly data of new registrations of road vehicles (passenger cars, passenger vehicles, goods vehicles, agricultural vehicles, industrial vehicles, motorcycles, trailers) by canton and fuel, since 2005.\\n<<target: 1>>\\n\\nID: TRAIN_03\\ntitle: Siedlungs- und Verkehrsflächen nach Nutzungsartengruppen in Böxlund\\nnotes: Gebiet, Fläche - Gebiet - Siedlungs- und Verkehrsflächen nach Nutzungsartengruppen in Böxlund \\nZum HTML-Angebot der Zeitreihe\\nRegionaldaten für Schleswig-Holstein\\nStatistisches Amt für Hamburg und Schleswig-Holstein\\n<<target: 1>>\\n\\nID: TRAIN_04\\ntitle: Marine Geophysical and Seismic Data from around the UK (1966 Onwards)\\nnotes: The British Geological Survey hold a collection of data recorded during marine geophysical surveys which includes digital data and analogue records. These data result from approximately 350,000 line kilometres of multi-instrument geophysical survey lines. The data include seismic, sonar, magnetic, gravity, echo sounder, multibeam bathymetry and navigation data. The seismic data are mainly for airgun, sparker, boomer and pinger. The data were primarily collected by BGS and the collection also includes additional third party data. The data are primarily from the UKCS (United Kingdom Continental Shelf). The data are stored within the National Geoscience Data Centre (NGDC) and the Marine Environmental Data and Information Network (MEDIN) Data Archive Centre (DAC) for Geology and Geophysics. The majority of legacy geophysical paper records are available as scanned images viewable via the BGS Offshore GeoIndex www.bgs.ac.uk/GeoIndex/offshore.htm. Other records can be scanned on request. Older records are of variable quality. Data not yet available online including segy are available on request enquiries@bgs.ac.uk. The data are applicable to a wide range of uses including environmental, geotechnical, geophysical and geological studies. Reference: Fannin, NGT. (1989) Offshore Investigations 1966-87. British Geological Survey Technical Report WB/89/2, British Geological Survey.\\n<<target: 0>>\\n\\nID: TRAIN_05\\ntitle: Truck Size and Weight Enforcement Data\\nnotes: This dataset consists of truck size and weight enforcement data including number of trucks weighed, number of violations, and number of oversize/overweight permits, as reported by the States in their annual certification to FHWA.\\n<<target: 1>>\\n\\nID: TRAIN_06\\ntitle: 고속도로 교통사고 데이터\\nnotes: 교통사고 정보\\n<<target: 1>>\\n\\nID: TRAIN_07\\ntitle: Bevölkerung nach Geschlecht, Altersgruppen und höchstem beruflichen Bildungsabschluss\\nnotes: Definition:\\nEs werden die höchsten beruflichen Bildungsabschlüsse der Bevölkerung betrachtet. Personen, die sich noch im Bildungssystem befinden – also Auszubildende, Schülerinnen, Schüler und Studierende – gehen dabei nicht in die Analysen ein.\\nDatenquelle:\\nIT.NRW, Mikrozensus\\n<<target: 0>>\\n\\nID: TRAIN_08\\ntitle: 한국교통안전공단_대중교통 기상상태별 이용인원\\nnotes: 대중교통 기상상태별 이용인원 및 통행량에 관한 데이터정보 (맑은 날, 강설, 강우 등)입니다.단위는 명, 통행 입니다.\\n<<target: 1>>\\n\\nID: TRAIN_09\\ntitle: 경기도 양평군_고령인구현황\\nnotes: 2022년 양평군 노인들을 대상으로 노인복지 사각복지를 파악하기 위해서 설문조사를 실시해서 얻은 데이터\\n설문에 응답하지 않는 문항의 값은 -1\\n<<target: 0>>\\n\\nID: TRAIN_10\\ntitle: Tasas de actividad, empleo y paro por tipo de municipio. (A partir de 2017) (Identificador API: /t22/p320/base_2015/serie/l0/03003.px)\\nnotes: Tasas de actividad, empleo y paro por tipo de municipio. (A partir de 2017). Nacional. Estadística del Empleo de las Personas con Discapacidad\\n<<target: 0>>'"
      ]
     },
     "execution_count": 28,
     "metadata": {},
     "output_type": "execute_result"
    }
   ],
   "source": [
    "train_prompt = \"\\n\\n\".join(formatted_train)\n",
    "train_prompt"
   ]
  },
  {
   "cell_type": "code",
   "execution_count": 29,
   "metadata": {},
   "outputs": [],
   "source": [
    "prompt_target = \"\\n\".join(train[\"target\"].astype(str))"
   ]
  },
  {
   "cell_type": "markdown",
   "metadata": {},
   "source": [
    "instruction looks like this  \n",
    "\"You are an expert in automotive data. Follow these instructions:\n",
    "\n",
    "1. If the input data is automotive-related data, determine it as 1, otherwise 0. There are 40 data to answer.\n",
    "2. ID: TEST_00 ~ TEST_39, and answer as 0 or 1 for each data, separated by row.\n",
    "3. Be aware of output you can only contrain 0 or 1 for each data and '\\n'for seperate this. If you output is wrong you have to go back and reform output\""
   ]
  },
  {
   "cell_type": "code",
   "execution_count": 108,
   "metadata": {},
   "outputs": [],
   "source": [
    "instruction = \"\".join(f\"\"\"\n",
    "이후에는 10개의 예시 데이터를 제공할 것입니다. 각 데이터는 두개의 행으로 구분되어 있습니다. 예측해야할 목표는 target입니다. target은 <<와 >>으로 감싸져 있습니다.\n",
    "제출형식은 다음과 같습니다. \"\"\".split(\"\\n\")) + f\"{prompt_target}\" + \"\".join(f\"\"\"\n",
    ". 예측값이 0 또는 1이어야 하며 각 target당 행으로 구분되어 있다는 점을 명심하세요.\n",
    "\"\"\".split(\"\\n\"))"
   ]
  },
  {
   "cell_type": "code",
   "execution_count": 109,
   "metadata": {},
   "outputs": [
    {
     "name": "stdout",
     "output_type": "stream",
     "text": [
      "이후에는 10개의 예시 데이터를 제공할 것입니다. 각 데이터는 두개의 행으로 구분되어 있습니다. 예측해야할 목표는 target입니다. target은 <<와 >>으로 감싸져 있습니다.제출형식은 다음과 같습니다. 0\n",
      "1\n",
      "1\n",
      "1\n",
      "0\n",
      "1\n",
      "1\n",
      "0\n",
      "1\n",
      "0\n",
      "0. 예측값이 0 또는 1이어야 하며 각 target당 행으로 구분되어 있다는 점을 명심하세요.\n"
     ]
    }
   ],
   "source": [
    "print(instruction)"
   ]
  },
  {
   "cell_type": "code",
   "execution_count": 110,
   "metadata": {},
   "outputs": [
    {
     "data": {
      "text/plain": [
       "'이후에는 10개의 예시 데이터를 제공할 것입니다. 각 데이터는 두개의 행으로 구분되어 있습니다. 예측해야할 목표는 target입니다. target은 <<와 >>으로 감싸져 있습니다.제출형식은 다음과 같습니다. 0\\n1\\n1\\n1\\n0\\n1\\n1\\n0\\n1\\n0\\n0. 예측값이 0 또는 1이어야 하며 각 target당 행으로 구분되어 있다는 점을 명심하세요.'"
      ]
     },
     "execution_count": 110,
     "metadata": {},
     "output_type": "execute_result"
    }
   ],
   "source": [
    "instruction"
   ]
  },
  {
   "cell_type": "code",
   "execution_count": 111,
   "metadata": {},
   "outputs": [
    {
     "data": {
      "text/plain": [
       "0    당신은 자동차 데이터 전문가입니다. 입력으로 들어오는 데이터가 자동차 관련 데이터라...\n",
       "Name: system, dtype: object"
      ]
     },
     "execution_count": 111,
     "metadata": {},
     "output_type": "execute_result"
    }
   ],
   "source": [
    "submission_base[\"system\"] + instruction"
   ]
  },
  {
   "cell_type": "code",
   "execution_count": 112,
   "metadata": {},
   "outputs": [
    {
     "name": "stdout",
     "output_type": "stream",
     "text": [
      "당신은 자동차 데이터 전문가입니다. 입력으로 들어오는 데이터가 자동차 관련 데이터라면 1, 아니라면 0으로 판별해주세요. 답변해야할 데이터는 ID : TEST_00 ~ TEST_39로 40개며, 각 데이터 당 행으로 구분하여 0 또는 1로 답변해주세요.이후에는 10개의 예시 데이터를 제공할 것입니다. 각 데이터는 두개의 행으로 구분되어 있습니다. 예측해야할 목표는 target입니다. target은 <<와 >>으로 감싸져 있습니다.제출형식은 다음과 같습니다. {prompt_target}.예측값이 0 또는 1이어야하며 각 target당 행으로 구분되어 있다는 점을 명심하세요.ID: TRAIN_00\n",
      "title: Steuerbarer Umsatz aus Lieferungen und Leistungen in Flensburg\n",
      "notes: Steuern, Finanzen, Öffentlicher Dienst - Steuern - Umsatzsteuerstatistik (Voranmeldungen) - Steuerbarer Umsatz aus Lieferungen und Leistungen in Flensburg \n",
      "Zum HTML-Angebot der Zeitreihe\n",
      "Regionaldaten für Schleswig-Holstein\n",
      "Statistisches Amt für Hamburg und Schleswig-Holstein\n",
      "\n",
      "ID: TRAIN_01\n",
      "title: 도로교통공단_고속도로구간별 도로위험도지수정보 조회 서비스\n",
      "notes: 고속도로명, 고속도로구간명과 차종코드를 이용하여 구간 내의 도로위험도지수값, 도로위험도등급 등의 구간좌표별 실시간 도로위험도지수정보를 제공하는 서비스\n",
      "\n",
      "ID: TRAIN_02\n",
      "title: New registrations of road vehicles by vehicle group and type\n",
      "notes: This dataset presents the monthly data of new registrations of road vehicles (passenger cars, passenger vehicles, goods vehicles, agricultural vehicles, industrial vehicles, motorcycles, trailers) by canton and fuel, since 2005.\n",
      "\n",
      "ID: TRAIN_03\n",
      "title: Siedlungs- und Verkehrsflächen nach Nutzungsartengruppen in Böxlund\n",
      "notes: Gebiet, Fläche - Gebiet - Siedlungs- und Verkehrsflächen nach Nutzungsartengruppen in Böxlund \n",
      "Zum HTML-Angebot der Zeitreihe\n",
      "Regionaldaten für Schleswig-Holstein\n",
      "Statistisches Amt für Hamburg und Schleswig-Holstein\n",
      "\n",
      "ID: TRAIN_04\n",
      "title: Marine Geophysical and Seismic Data from around the UK (1966 Onwards)\n",
      "notes: The British Geological Survey hold a collection of data recorded during marine geophysical surveys which includes digital data and analogue records. These data result from approximately 350,000 line kilometres of multi-instrument geophysical survey lines. The data include seismic, sonar, magnetic, gravity, echo sounder, multibeam bathymetry and navigation data. The seismic data are mainly for airgun, sparker, boomer and pinger. The data were primarily collected by BGS and the collection also includes additional third party data. The data are primarily from the UKCS (United Kingdom Continental Shelf). The data are stored within the National Geoscience Data Centre (NGDC) and the Marine Environmental Data and Information Network (MEDIN) Data Archive Centre (DAC) for Geology and Geophysics. The majority of legacy geophysical paper records are available as scanned images viewable via the BGS Offshore GeoIndex www.bgs.ac.uk/GeoIndex/offshore.htm. Other records can be scanned on request. Older records are of variable quality. Data not yet available online including segy are available on request enquiries@bgs.ac.uk. The data are applicable to a wide range of uses including environmental, geotechnical, geophysical and geological studies. Reference: Fannin, NGT. (1989) Offshore Investigations 1966-87. British Geological Survey Technical Report WB/89/2, British Geological Survey.\n",
      "\n",
      "ID: TRAIN_05\n",
      "title: Truck Size and Weight Enforcement Data\n",
      "notes: This dataset consists of truck size and weight enforcement data including number of trucks weighed, number of violations, and number of oversize/overweight permits, as reported by the States in their annual certification to FHWA.\n",
      "\n",
      "ID: TRAIN_06\n",
      "title: 고속도로 교통사고 데이터\n",
      "notes: 교통사고 정보\n",
      "\n",
      "ID: TRAIN_07\n",
      "title: Bevölkerung nach Geschlecht, Altersgruppen und höchstem beruflichen Bildungsabschluss\n",
      "notes: Definition:\n",
      "Es werden die höchsten beruflichen Bildungsabschlüsse der Bevölkerung betrachtet. Personen, die sich noch im Bildungssystem befinden – also Auszubildende, Schülerinnen, Schüler und Studierende – gehen dabei nicht in die Analysen ein.\n",
      "Datenquelle:\n",
      "IT.NRW, Mikrozensus\n",
      "\n",
      "ID: TRAIN_08\n",
      "title: 한국교통안전공단_대중교통 기상상태별 이용인원\n",
      "notes: 대중교통 기상상태별 이용인원 및 통행량에 관한 데이터정보 (맑은 날, 강설, 강우 등)입니다.단위는 명, 통행 입니다.\n",
      "\n",
      "ID: TRAIN_09\n",
      "title: 경기도 양평군_고령인구현황\n",
      "notes: 2022년 양평군 노인들을 대상으로 노인복지 사각복지를 파악하기 위해서 설문조사를 실시해서 얻은 데이터\n",
      "설문에 응답하지 않는 문항의 값은 -1\n",
      "\n",
      "ID: TRAIN_10\n",
      "title: Tasas de actividad, empleo y paro por tipo de municipio. (A partir de 2017) (Identificador API: /t22/p320/base_2015/serie/l0/03003.px)\n",
      "notes: Tasas de actividad, empleo y paro por tipo de municipio. (A partir de 2017). Nacional. Estadística del Empleo de las Personas con Discapacidad이후에는 10개의 예시 데이터를 제공할 것입니다. 각 데이터는 두개의 행으로 구분되어 있습니다. 예측해야할 목표는 target입니다. target은 <<와 >>으로 감싸져 있습니다.제출형식은 다음과 같습니다. 0\n",
      "1\n",
      "1\n",
      "1\n",
      "0\n",
      "1\n",
      "1\n",
      "0\n",
      "1\n",
      "0\n",
      "0. 예측값이 0 또는 1이어야 하며 각 target당 행으로 구분되어 있다는 점을 명심하세요.\n"
     ]
    }
   ],
   "source": [
    "print((submission_base[\"system\"] + instruction).iloc[0])"
   ]
  },
  {
   "cell_type": "code",
   "execution_count": 113,
   "metadata": {},
   "outputs": [
    {
     "data": {
      "text/plain": [
       "0    당신은 자동차 데이터 전문가입니다. 입력으로 들어오는 데이터가 자동차 관련 데이터라...\n",
       "Name: system, dtype: object"
      ]
     },
     "execution_count": 113,
     "metadata": {},
     "output_type": "execute_result"
    }
   ],
   "source": [
    "submission_base[\"system\"] + train_prompt"
   ]
  },
  {
   "cell_type": "code",
   "execution_count": 127,
   "metadata": {},
   "outputs": [],
   "source": [
    "submission_base[\"system\"] = submission_base[\"system\"] \n",
    "# submission_base[\"system\"] = submission_base[\"system\"] + instruction + train_prompt "
   ]
  },
  {
   "cell_type": "code",
   "execution_count": 125,
   "metadata": {},
   "outputs": [
    {
     "name": "stdout",
     "output_type": "stream",
     "text": [
      "당신은 자동차 데이터 전문가입니다. 입력으로 들어오는 데이터가 자동차 관련 데이터라면 1, 아니라면 0으로 판별해주세요. 답변해야할 데이터는 ID : TEST_00 ~ TEST_39로 40개며, 각 데이터 당 행으로 구분하여 0 또는 1로 답변해주세요.이후에는 10개의 예시 데이터를 제공할 것입니다. 각 데이터는 두개의 행으로 구분되어 있습니다. 예측해야할 목표는 target입니다. target은 <<와 >>으로 감싸져 있습니다.제출형식은 다음과 같습니다. 0\n",
      "1\n",
      "1\n",
      "1\n",
      "0\n",
      "1\n",
      "1\n",
      "0\n",
      "1\n",
      "0\n",
      "0. 예측값이 0 또는 1이어야 하며 각 target당 행으로 구분되어 있다는 점을 명심하세요.\n"
     ]
    }
   ],
   "source": [
    "print(submission_base[\"system\"].iloc[0])"
   ]
  },
  {
   "cell_type": "code",
   "execution_count": 130,
   "metadata": {},
   "outputs": [],
   "source": [
    "submission_base.to_csv(os.path.join(path, \"1011.csv\"), index=False, encoding='utf-8-sig')"
   ]
  },
  {
   "cell_type": "code",
   "execution_count": 82,
   "metadata": {},
   "outputs": [
    {
     "name": "stdout",
     "output_type": "stream",
     "text": [
      "b'\\xef\\xbb\\xbf'\n"
     ]
    }
   ],
   "source": [
    "with open('/home/yhkim/code/carPrompt/submission/base.csv', 'rb') as f:\n",
    "    start_bytes = f.read(3)\n",
    "    print(start_bytes)\n"
   ]
  }
 ],
 "metadata": {
  "kernelspec": {
   "display_name": "car_analysis",
   "language": "python",
   "name": "python3"
  },
  "language_info": {
   "codemirror_mode": {
    "name": "ipython",
    "version": 3
   },
   "file_extension": ".py",
   "mimetype": "text/x-python",
   "name": "python",
   "nbconvert_exporter": "python",
   "pygments_lexer": "ipython3",
   "version": "3.10.12"
  }
 },
 "nbformat": 4,
 "nbformat_minor": 2
}
