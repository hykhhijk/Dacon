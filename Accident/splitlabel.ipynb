{
  "cells": [
    {
      "cell_type": "code",
      "execution_count": 27,
      "metadata": {
        "deletable": false,
        "pbl_cell_type": "hidden_setup_code",
        "step_id": 4887,
        "step_number": 0,
        "trusted": true
      },
      "outputs": [],
      "source": [
        "import matplotlib.pyplot as plt\n",
        "import matplotlib.font_manager as fm"
      ]
    },
    {
      "cell_type": "markdown",
      "metadata": {
        "deletable": false,
        "pbl_cell_type": "markdown",
        "step_id": 4887,
        "step_number": 0,
        "trusted": true
      },
      "source": [
        "# **대구 교통 사고 피해 예측 AI 경진대회 Baseline Code**"
      ]
    },
    {
      "cell_type": "markdown",
      "metadata": {
        "pbl_cell_type": "markdown",
        "step_id": 5096,
        "step_number": 1,
        "trusted": true
      },
      "source": [
        "## **Fixed Random Seed**  \n",
        "\n",
        "seed 값에 의해 동일한 코드를 사용해도 결과가 다를 수 있기에, 동일한 결과를 위해 seed 값을 고정시킵니다"
      ]
    },
    {
      "cell_type": "code",
      "execution_count": 28,
      "metadata": {
        "pbl_cell_type": "code",
        "step_id": 5096,
        "step_number": 1,
        "trusted": true
      },
      "outputs": [],
      "source": [
        "import os\n",
        "import random\n",
        "import numpy as np\n",
        "\n",
        "def seed_everything(seed):\n",
        "    random.seed(seed)\n",
        "    os.environ['PYTHONHASHSEED'] = str(seed)\n",
        "    np.random.seed(seed)\n",
        "\n",
        "seed_everything(42)"
      ]
    },
    {
      "cell_type": "markdown",
      "metadata": {
        "pbl_cell_type": "markdown",
        "step_id": 5096,
        "step_number": 1,
        "trusted": true
      },
      "source": [
        "## **데이터 불러오기 및 상위행 확인**  \n",
        "\n",
        "train.csv, test.csv 파일을 로드하여 상위행을 출력해 봅시다"
      ]
    },
    {
      "cell_type": "code",
      "execution_count": 29,
      "metadata": {
        "pbl_cell_type": "code",
        "step_id": 5096,
        "step_number": 1,
        "trusted": true
      },
      "outputs": [],
      "source": [
        "import pandas as pd \n",
        "\n",
        "path = \"/mnt/d/data/accident/\"\n",
        "\n",
        "train_org = pd.read_csv(path + 'train.csv') \n",
        "test_org = pd.read_csv(path + 'test.csv')\n",
        "\n",
        "sample_submission = pd.read_csv(path+\"sample_submission.csv\")"
      ]
    },
    {
      "cell_type": "markdown",
      "metadata": {
        "pbl_cell_type": "markdown",
        "step_id": 5096,
        "step_number": 1,
        "trusted": true
      },
      "source": [
        "## **train, test 데이터 기간 확인하기**  \n",
        "\n",
        "학습(train) 데이터의 기간과 예측 대상이 되는 test 데이터의 기간을 살펴 봅니다"
      ]
    },
    {
      "cell_type": "code",
      "execution_count": 30,
      "metadata": {
        "pbl_cell_type": "code",
        "step_id": 5096,
        "step_number": 1,
        "trusted": true
      },
      "outputs": [
        {
          "data": {
            "text/plain": [
              "'train : 2019-01-01 00 ~ 2021-12-31 23'"
            ]
          },
          "metadata": {},
          "output_type": "display_data"
        },
        {
          "data": {
            "text/plain": [
              "'test : 2022-01-01 01 ~ 2022-12-31 21'"
            ]
          },
          "metadata": {},
          "output_type": "display_data"
        }
      ],
      "source": [
        "display(f\"train : {train_org.iloc[0]['사고일시']} ~ {train_org.iloc[-1]['사고일시']}\")\n",
        "display(f\"test : {test_org.iloc[0]['사고일시']} ~ {test_org.iloc[-1]['사고일시']}\")     "
      ]
    },
    {
      "cell_type": "markdown",
      "metadata": {
        "pbl_cell_type": "markdown",
        "step_id": 5168,
        "step_number": 2,
        "trusted": true
      },
      "source": [
        "# **데이터 전처리**  \n",
        "\n",
        "현재 '사고일시', '시군구', '도로형태' 컬럼은 반복되는 패턴으로 여러 정보를 포함하고 있습니다\n",
        "이런 반복되는 패턴을 일반화하면 pandas에서 제공하는 str.extract를 통해 한 번에 추출 가능합니다  \n",
        "\n",
        "## **파생 변수 생성 1 : 날짜, 시간정보 생성**\n",
        "\n",
        "'사고일시' 컬럼으로 부터 연도, 월, 일, 시간 정보 추출 및 변환 합니다"
      ]
    },
    {
      "cell_type": "code",
      "execution_count": 31,
      "metadata": {
        "pbl_cell_type": "code",
        "step_id": 5168,
        "step_number": 2,
        "trusted": true
      },
      "outputs": [],
      "source": [
        "train_df = train_org.copy()\n",
        "test_df = test_org.copy()\n",
        "\n",
        "time_pattern = r'(\\d{4})-(\\d{1,2})-(\\d{1,2}) (\\d{1,2})' \n",
        "\n",
        "train_df[['연', '월', '일', '시간']] = train_org['사고일시'].str.extract(time_pattern)\n",
        "train_df[['연', '월', '일', '시간']] = train_df[['연', '월', '일', '시간']].apply(pd.to_numeric) # 추출된 문자열을 수치화해줍니다 \n",
        "train_df = train_df.drop(columns=['사고일시']) # 정보 추출이 완료된 '사고일시' 컬럼은 제거합니다 \n",
        "\n",
        "# 해당 과정을 test_x에 대해서도 반복해줍니다 \n",
        "test_df[['연', '월', '일', '시간']] = test_org['사고일시'].str.extract(time_pattern)\n",
        "test_df[['연', '월', '일', '시간']] = test_df[['연', '월', '일', '시간']].apply(pd.to_numeric)\n",
        "test_df = test_df.drop(columns=['사고일시'])"
      ]
    },
    {
      "cell_type": "markdown",
      "metadata": {
        "pbl_cell_type": "markdown",
        "step_id": 5169,
        "step_number": 3,
        "trusted": true
      },
      "source": [
        "## **파생 변수 생성 2 : 공간(위치) 정보 생성** \n",
        "\n",
        "'시군구' 컬럼으로부터 의미 있는 공산 정보를 추출 및 변환 합니다"
      ]
    },
    {
      "cell_type": "code",
      "execution_count": 32,
      "metadata": {
        "pbl_cell_type": "code",
        "step_id": 5169,
        "step_number": 3,
        "trusted": true
      },
      "outputs": [],
      "source": [
        "location_pattern = r'(\\S+) (\\S+) (\\S+)'\n",
        "\n",
        "train_df[['도시', '구', '동']] = train_org['시군구'].str.extract(location_pattern)\n",
        "train_df = train_df.drop(columns=['시군구'])\n",
        "\n",
        "test_df[['도시', '구', '동']] = test_org['시군구'].str.extract(location_pattern)\n",
        "test_df = test_df.drop(columns=['시군구'])"
      ]
    },
    {
      "cell_type": "markdown",
      "metadata": {
        "pbl_cell_type": "markdown",
        "step_id": 5170,
        "step_number": 4,
        "trusted": true
      },
      "source": [
        "## **파생 변수 추출 3 : 도로 형태 정보 추출**  \n",
        "\n",
        "'도로형태' 컬럼은 '단일로 - 기타'와 같은 패턴으로 구성되어 있습니다. 이를 두종류의 독립된 정보로 보고 두개의 컬럼으로 분리하여 생성합니다."
      ]
    },
    {
      "cell_type": "code",
      "execution_count": 33,
      "metadata": {
        "pbl_cell_type": "code",
        "step_id": 5170,
        "step_number": 4,
        "trusted": true
      },
      "outputs": [],
      "source": [
        "road_pattern = r'(.+) - (.+)'\n",
        "\n",
        "train_df[['도로형태1', '도로형태2']] = train_org['도로형태'].str.extract(road_pattern)\n",
        "train_df = train_df.drop(columns=['도로형태'])\n",
        "\n",
        "test_df[['도로형태1', '도로형태2']] = test_org['도로형태'].str.extract(road_pattern)\n",
        "test_df = test_df.drop(columns=['도로형태'])"
      ]
    },
    {
      "cell_type": "markdown",
      "metadata": {},
      "source": [
        "## Use three values for predict ECLO\n",
        "ECLO = 사망자수 * 10 + 중상자수 * 5 + 경상자수 * 3 + 부상자수 * 1"
      ]
    },
    {
      "cell_type": "code",
      "execution_count": 46,
      "metadata": {},
      "outputs": [],
      "source": [
        "train_y = train_df['ECLO'].copy()\n",
        "train_ys = train_df[['중상자수', '경상자수', '부상자수']]"
      ]
    },
    {
      "cell_type": "markdown",
      "metadata": {
        "pbl_cell_type": "markdown",
        "step_id": 5173,
        "step_number": 7,
        "trusted": true
      },
      "source": [
        "## Drop labels not included in test_x"
      ]
    },
    {
      "cell_type": "code",
      "execution_count": 40,
      "metadata": {
        "pbl_cell_type": "code",
        "step_id": 5173,
        "step_number": 7,
        "trusted": true
      },
      "outputs": [],
      "source": [
        "test_x = test_df.drop(columns=['ID']).copy()\n",
        "train_x = train_df[test_x.columns].copy()\n",
        "train_y = train_df['ECLO'].copy()"
      ]
    },
    {
      "cell_type": "markdown",
      "metadata": {
        "pbl_cell_type": "markdown",
        "step_id": 5174,
        "step_number": 8,
        "trusted": true
      },
      "source": [
        "## **범주형(Categorical) 변수, 수치형 변수로 변환하기**\n",
        "\n",
        "모델 학습을 위해 train_x의 문자열 타입의 컬럼들을 추출하고, LabelEncoder를 활용하여 이 컬럼들을 모두 수치형 변수로 변환해 보겠습니다"
      ]
    },
    {
      "cell_type": "code",
      "execution_count": 41,
      "metadata": {
        "pbl_cell_type": "code",
        "step_id": 5174,
        "step_number": 8,
        "trusted": true
      },
      "outputs": [
        {
          "data": {
            "text/plain": [
              "['요일', '기상상태', '노면상태', '사고유형', '도시', '구', '동', '도로형태1', '도로형태2']"
            ]
          },
          "metadata": {},
          "output_type": "display_data"
        }
      ],
      "source": [
        "from sklearn.preprocessing import LabelEncoder\n",
        "\n",
        "categorical_features = list(train_x.dtypes[train_x.dtypes == \"object\"].index)\n",
        "# 추출된 문자열 변수 확인\n",
        "display(categorical_features)\n",
        "\n",
        "for i in categorical_features:\n",
        "    le = LabelEncoder()\n",
        "    le=le.fit(train_x[i]) \n",
        "    train_x[i]=le.transform(train_x[i])\n",
        "    \n",
        "    test_x[i]=le.transform(test_x[i])"
      ]
    },
    {
      "cell_type": "markdown",
      "metadata": {
        "pbl_cell_type": "markdown",
        "step_id": 5176,
        "step_number": 10,
        "trusted": true
      },
      "source": [
        "# **Model Train & Prediction** \n",
        "\n",
        "전체 학습 데이터에 대하여 학습후 최종 예측을 합니다. 여기서는 DecisionTreeRegressor 모델로 학습하고 예측하는 예시 코드입니다."
      ]
    },
    {
      "cell_type": "code",
      "execution_count": 24,
      "metadata": {
        "pbl_cell_type": "code",
        "step_id": 5176,
        "step_number": 10,
        "trusted": true
      },
      "outputs": [
        {
          "data": {
            "text/plain": [
              "array([15.,  5., 18., ...,  6.,  1., 15.])"
            ]
          },
          "execution_count": 24,
          "metadata": {},
          "output_type": "execute_result"
        }
      ],
      "source": [
        "from sklearn.tree import DecisionTreeRegressor\n",
        "model = DecisionTreeRegressor() \n",
        "model.fit(train_x, train_y)\n",
        "\n",
        "prediction = model.predict(test_x)\n",
        "prediction"
      ]
    },
    {
      "cell_type": "markdown",
      "metadata": {},
      "source": [
        "## Train three models for split labels"
      ]
    },
    {
      "cell_type": "code",
      "execution_count": 50,
      "metadata": {},
      "outputs": [],
      "source": [
        "from sklearn.ensemble import RandomForestRegressor\n",
        "models = []\n",
        "preds = []\n",
        "labels = ['중상자수', '경상자수', '부상자수']           #5, 3, 1 순서대로 곱해주면 됨\n",
        "for label in labels:\n",
        "    model = RandomForestRegressor()\n",
        "    train_y = train_ys[label]\n",
        "    model.fit(train_x, train_y)\n",
        "    models.append(model)\n",
        "\n",
        "    prediction = model.predict(test_x)\n",
        "    preds.append(prediction)"
      ]
    },
    {
      "cell_type": "code",
      "execution_count": 55,
      "metadata": {},
      "outputs": [],
      "source": [
        "prediction = np.zeros(preds[0].shape)\n",
        "values = [5, 3, 1]\n",
        "for i, pred in enumerate(preds):\n",
        "    prediction += (values[i] * pred)"
      ]
    },
    {
      "cell_type": "code",
      "execution_count": 56,
      "metadata": {},
      "outputs": [
        {
          "data": {
            "text/plain": [
              "array([4.17 , 4.07 , 6.37 , ..., 5.135, 6.13 , 8.19 ])"
            ]
          },
          "execution_count": 56,
          "metadata": {},
          "output_type": "execute_result"
        }
      ],
      "source": [
        "prediction"
      ]
    },
    {
      "cell_type": "markdown",
      "metadata": {
        "pbl_cell_type": "markdown",
        "step_id": 5178,
        "step_number": 12,
        "trusted": true
      },
      "source": [
        "## **Submission 양식 확인**\n",
        "\n",
        "sample_submission.csv 화일 데이터(sample_submission)를 그대로 복사한 후, \n",
        "양식의 'ECLO' 컬럼에 test_x에 대한 ECLO(y) 예측값을 입력합니다 "
      ]
    },
    {
      "cell_type": "code",
      "execution_count": 57,
      "metadata": {
        "pbl_cell_type": "code",
        "step_id": 5178,
        "step_number": 12,
        "trusted": true
      },
      "outputs": [
        {
          "data": {
            "text/html": [
              "<div>\n",
              "<style scoped>\n",
              "    .dataframe tbody tr th:only-of-type {\n",
              "        vertical-align: middle;\n",
              "    }\n",
              "\n",
              "    .dataframe tbody tr th {\n",
              "        vertical-align: top;\n",
              "    }\n",
              "\n",
              "    .dataframe thead th {\n",
              "        text-align: right;\n",
              "    }\n",
              "</style>\n",
              "<table border=\"1\" class=\"dataframe\">\n",
              "  <thead>\n",
              "    <tr style=\"text-align: right;\">\n",
              "      <th></th>\n",
              "      <th>ID</th>\n",
              "      <th>ECLO</th>\n",
              "    </tr>\n",
              "  </thead>\n",
              "  <tbody>\n",
              "    <tr>\n",
              "      <th>0</th>\n",
              "      <td>ACCIDENT_39609</td>\n",
              "      <td>4.170000</td>\n",
              "    </tr>\n",
              "    <tr>\n",
              "      <th>1</th>\n",
              "      <td>ACCIDENT_39610</td>\n",
              "      <td>4.070000</td>\n",
              "    </tr>\n",
              "    <tr>\n",
              "      <th>2</th>\n",
              "      <td>ACCIDENT_39611</td>\n",
              "      <td>6.370000</td>\n",
              "    </tr>\n",
              "    <tr>\n",
              "      <th>3</th>\n",
              "      <td>ACCIDENT_39612</td>\n",
              "      <td>4.610000</td>\n",
              "    </tr>\n",
              "    <tr>\n",
              "      <th>4</th>\n",
              "      <td>ACCIDENT_39613</td>\n",
              "      <td>7.040000</td>\n",
              "    </tr>\n",
              "    <tr>\n",
              "      <th>...</th>\n",
              "      <td>...</td>\n",
              "      <td>...</td>\n",
              "    </tr>\n",
              "    <tr>\n",
              "      <th>10958</th>\n",
              "      <td>ACCIDENT_50567</td>\n",
              "      <td>6.793333</td>\n",
              "    </tr>\n",
              "    <tr>\n",
              "      <th>10959</th>\n",
              "      <td>ACCIDENT_50568</td>\n",
              "      <td>4.960000</td>\n",
              "    </tr>\n",
              "    <tr>\n",
              "      <th>10960</th>\n",
              "      <td>ACCIDENT_50569</td>\n",
              "      <td>5.135000</td>\n",
              "    </tr>\n",
              "    <tr>\n",
              "      <th>10961</th>\n",
              "      <td>ACCIDENT_50570</td>\n",
              "      <td>6.130000</td>\n",
              "    </tr>\n",
              "    <tr>\n",
              "      <th>10962</th>\n",
              "      <td>ACCIDENT_50571</td>\n",
              "      <td>8.190000</td>\n",
              "    </tr>\n",
              "  </tbody>\n",
              "</table>\n",
              "<p>10963 rows × 2 columns</p>\n",
              "</div>"
            ],
            "text/plain": [
              "                   ID      ECLO\n",
              "0      ACCIDENT_39609  4.170000\n",
              "1      ACCIDENT_39610  4.070000\n",
              "2      ACCIDENT_39611  6.370000\n",
              "3      ACCIDENT_39612  4.610000\n",
              "4      ACCIDENT_39613  7.040000\n",
              "...               ...       ...\n",
              "10958  ACCIDENT_50567  6.793333\n",
              "10959  ACCIDENT_50568  4.960000\n",
              "10960  ACCIDENT_50569  5.135000\n",
              "10961  ACCIDENT_50570  6.130000\n",
              "10962  ACCIDENT_50571  8.190000\n",
              "\n",
              "[10963 rows x 2 columns]"
            ]
          },
          "execution_count": 57,
          "metadata": {},
          "output_type": "execute_result"
        }
      ],
      "source": [
        "baseline_submission = sample_submission.copy()\n",
        "baseline_submission['ECLO'] = prediction\n",
        "baseline_submission "
      ]
    },
    {
      "cell_type": "markdown",
      "metadata": {
        "pbl_cell_type": "markdown",
        "step_id": 5178,
        "step_number": 12,
        "trusted": true
      },
      "source": [
        "## **답안지 저장 및 제출하기**"
      ]
    },
    {
      "cell_type": "code",
      "execution_count": 58,
      "metadata": {
        "pbl_cell_type": "code",
        "step_id": 5178,
        "step_number": 12,
        "trusted": true
      },
      "outputs": [],
      "source": [
        "baseline_submission.to_csv('baseline_submit.csv', index=False)"
      ]
    },
    {
      "cell_type": "code",
      "execution_count": null,
      "metadata": {},
      "outputs": [],
      "source": []
    }
  ],
  "metadata": {
    "kernelspec": {
      "display_name": "ag",
      "language": "python",
      "name": "python3"
    },
    "language_info": {
      "codemirror_mode": {
        "name": "ipython",
        "version": 3
      },
      "file_extension": ".py",
      "mimetype": "text/x-python",
      "name": "python",
      "nbconvert_exporter": "python",
      "pygments_lexer": "ipython3",
      "version": "3.10.13"
    }
  },
  "nbformat": 4,
  "nbformat_minor": 4
}
