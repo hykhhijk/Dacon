{
 "cells": [
  {
   "cell_type": "code",
   "execution_count": 270,
   "id": "e88c25d3",
   "metadata": {
    "ExecuteTime": {
     "end_time": "2022-08-25T16:04:51.783674Z",
     "start_time": "2022-08-25T16:04:51.766720Z"
    }
   },
   "outputs": [],
   "source": [
    "import numpy as np\n",
    "import pandas as pd\n",
    "import matplotlib.pyplot as plt\n",
    "from sklearn.model_selection import train_test_split\n",
    "from sklearn.metrics import mean_squared_error\n",
    "from sklearn.ensemble import RandomForestRegressor\n",
    "from sklearn.preprocessing import StandardScaler\n",
    "from xgboost import XGBRegressor\n",
    "from sklearn.svm import SVR\n",
    "from sklearn.multioutput import RegressorChain\n",
    "from sklearn.multioutput import MultiOutputRegressor\n",
    "import tensorflow.keras as keras\n",
    "import tensorflow as tf\n",
    "from sklearn.model_selection import KFold"
   ]
  },
  {
   "cell_type": "code",
   "execution_count": 271,
   "id": "f9897528",
   "metadata": {
    "ExecuteTime": {
     "end_time": "2022-08-25T16:04:52.536459Z",
     "start_time": "2022-08-25T16:04:51.973747Z"
    }
   },
   "outputs": [],
   "source": [
    "path = \"D:/LG_Radar\"\n",
    "train = pd.read_csv(path+\"/train.csv\")\n",
    "test = pd.read_csv(path+\"/test.csv\")\n",
    "submission = pd.read_csv(path+\"/sample_submission.csv\")"
   ]
  },
  {
   "cell_type": "code",
   "execution_count": 272,
   "id": "e6f8a5d3",
   "metadata": {
    "ExecuteTime": {
     "end_time": "2022-08-25T16:04:52.693434Z",
     "start_time": "2022-08-25T16:04:52.679468Z"
    }
   },
   "outputs": [],
   "source": [
    "def lg_nrmse(gt, preds):\n",
    "    # 각 Y Feature별 NRMSE 총합\n",
    "    # Y_01 ~ Y_08 까지 20% 가중치 부여\n",
    "    all_nrmse = []\n",
    "    for idx in range(14): # ignore 'ID'\n",
    "        rmse = mean_squared_error(gt[:,idx], preds[:,idx], squared=False)\n",
    "        nrmse = rmse/np.mean(np.abs(gt[:,idx]))\n",
    "        all_nrmse.append(nrmse)\n",
    "    score = 1.2 * np.sum(all_nrmse[:8]) + 1.0 * np.sum(all_nrmse[8:14])\n",
    "    print(all_nrmse)\n",
    "    return score"
   ]
  },
  {
   "cell_type": "code",
   "execution_count": 273,
   "id": "17cfb42c",
   "metadata": {
    "ExecuteTime": {
     "end_time": "2022-08-25T16:04:52.865000Z",
     "start_time": "2022-08-25T16:04:52.821089Z"
    }
   },
   "outputs": [
    {
     "data": {
      "text/html": [
       "<div>\n",
       "<style scoped>\n",
       "    .dataframe tbody tr th:only-of-type {\n",
       "        vertical-align: middle;\n",
       "    }\n",
       "\n",
       "    .dataframe tbody tr th {\n",
       "        vertical-align: top;\n",
       "    }\n",
       "\n",
       "    .dataframe thead th {\n",
       "        text-align: right;\n",
       "    }\n",
       "</style>\n",
       "<table border=\"1\" class=\"dataframe\">\n",
       "  <thead>\n",
       "    <tr style=\"text-align: right;\">\n",
       "      <th></th>\n",
       "      <th>ID</th>\n",
       "      <th>X_01</th>\n",
       "      <th>X_02</th>\n",
       "      <th>X_03</th>\n",
       "      <th>X_04</th>\n",
       "      <th>X_05</th>\n",
       "      <th>X_06</th>\n",
       "      <th>X_07</th>\n",
       "      <th>X_08</th>\n",
       "      <th>X_09</th>\n",
       "      <th>...</th>\n",
       "      <th>Y_05</th>\n",
       "      <th>Y_06</th>\n",
       "      <th>Y_07</th>\n",
       "      <th>Y_08</th>\n",
       "      <th>Y_09</th>\n",
       "      <th>Y_10</th>\n",
       "      <th>Y_11</th>\n",
       "      <th>Y_12</th>\n",
       "      <th>Y_13</th>\n",
       "      <th>Y_14</th>\n",
       "    </tr>\n",
       "  </thead>\n",
       "  <tbody>\n",
       "    <tr>\n",
       "      <th>0</th>\n",
       "      <td>TRAIN_00001</td>\n",
       "      <td>70.544</td>\n",
       "      <td>103.320</td>\n",
       "      <td>67.47</td>\n",
       "      <td>1</td>\n",
       "      <td>101.892</td>\n",
       "      <td>74.983</td>\n",
       "      <td>29.45</td>\n",
       "      <td>62.38</td>\n",
       "      <td>245.71</td>\n",
       "      <td>...</td>\n",
       "      <td>29.632</td>\n",
       "      <td>16.083</td>\n",
       "      <td>4.276</td>\n",
       "      <td>-25.381</td>\n",
       "      <td>-25.529</td>\n",
       "      <td>-22.769</td>\n",
       "      <td>23.792</td>\n",
       "      <td>-25.470</td>\n",
       "      <td>-25.409</td>\n",
       "      <td>-25.304</td>\n",
       "    </tr>\n",
       "    <tr>\n",
       "      <th>1</th>\n",
       "      <td>TRAIN_00002</td>\n",
       "      <td>69.524</td>\n",
       "      <td>103.321</td>\n",
       "      <td>65.17</td>\n",
       "      <td>1</td>\n",
       "      <td>101.944</td>\n",
       "      <td>72.943</td>\n",
       "      <td>28.73</td>\n",
       "      <td>61.23</td>\n",
       "      <td>233.61</td>\n",
       "      <td>...</td>\n",
       "      <td>33.179</td>\n",
       "      <td>16.736</td>\n",
       "      <td>3.229</td>\n",
       "      <td>-26.619</td>\n",
       "      <td>-26.523</td>\n",
       "      <td>-22.574</td>\n",
       "      <td>24.691</td>\n",
       "      <td>-26.253</td>\n",
       "      <td>-26.497</td>\n",
       "      <td>-26.438</td>\n",
       "    </tr>\n",
       "    <tr>\n",
       "      <th>2</th>\n",
       "      <td>TRAIN_00003</td>\n",
       "      <td>72.583</td>\n",
       "      <td>103.320</td>\n",
       "      <td>64.07</td>\n",
       "      <td>1</td>\n",
       "      <td>103.153</td>\n",
       "      <td>72.943</td>\n",
       "      <td>28.81</td>\n",
       "      <td>105.77</td>\n",
       "      <td>272.20</td>\n",
       "      <td>...</td>\n",
       "      <td>31.801</td>\n",
       "      <td>17.080</td>\n",
       "      <td>2.839</td>\n",
       "      <td>-26.238</td>\n",
       "      <td>-26.216</td>\n",
       "      <td>-22.169</td>\n",
       "      <td>24.649</td>\n",
       "      <td>-26.285</td>\n",
       "      <td>-26.215</td>\n",
       "      <td>-26.370</td>\n",
       "    </tr>\n",
       "    <tr>\n",
       "      <th>3</th>\n",
       "      <td>TRAIN_00004</td>\n",
       "      <td>71.563</td>\n",
       "      <td>103.320</td>\n",
       "      <td>67.57</td>\n",
       "      <td>1</td>\n",
       "      <td>101.971</td>\n",
       "      <td>77.022</td>\n",
       "      <td>28.92</td>\n",
       "      <td>115.21</td>\n",
       "      <td>255.36</td>\n",
       "      <td>...</td>\n",
       "      <td>34.503</td>\n",
       "      <td>17.143</td>\n",
       "      <td>3.144</td>\n",
       "      <td>-25.426</td>\n",
       "      <td>-25.079</td>\n",
       "      <td>-21.765</td>\n",
       "      <td>24.913</td>\n",
       "      <td>-25.254</td>\n",
       "      <td>-25.021</td>\n",
       "      <td>-25.345</td>\n",
       "    </tr>\n",
       "    <tr>\n",
       "      <th>4</th>\n",
       "      <td>TRAIN_00005</td>\n",
       "      <td>69.524</td>\n",
       "      <td>103.320</td>\n",
       "      <td>63.57</td>\n",
       "      <td>1</td>\n",
       "      <td>101.981</td>\n",
       "      <td>70.904</td>\n",
       "      <td>29.68</td>\n",
       "      <td>103.38</td>\n",
       "      <td>241.46</td>\n",
       "      <td>...</td>\n",
       "      <td>32.602</td>\n",
       "      <td>17.569</td>\n",
       "      <td>3.138</td>\n",
       "      <td>-25.376</td>\n",
       "      <td>-25.242</td>\n",
       "      <td>-21.072</td>\n",
       "      <td>25.299</td>\n",
       "      <td>-25.072</td>\n",
       "      <td>-25.195</td>\n",
       "      <td>-24.974</td>\n",
       "    </tr>\n",
       "    <tr>\n",
       "      <th>...</th>\n",
       "      <td>...</td>\n",
       "      <td>...</td>\n",
       "      <td>...</td>\n",
       "      <td>...</td>\n",
       "      <td>...</td>\n",
       "      <td>...</td>\n",
       "      <td>...</td>\n",
       "      <td>...</td>\n",
       "      <td>...</td>\n",
       "      <td>...</td>\n",
       "      <td>...</td>\n",
       "      <td>...</td>\n",
       "      <td>...</td>\n",
       "      <td>...</td>\n",
       "      <td>...</td>\n",
       "      <td>...</td>\n",
       "      <td>...</td>\n",
       "      <td>...</td>\n",
       "      <td>...</td>\n",
       "      <td>...</td>\n",
       "      <td>...</td>\n",
       "    </tr>\n",
       "    <tr>\n",
       "      <th>39602</th>\n",
       "      <td>TRAIN_39603</td>\n",
       "      <td>66.465</td>\n",
       "      <td>103.320</td>\n",
       "      <td>62.27</td>\n",
       "      <td>1</td>\n",
       "      <td>103.150</td>\n",
       "      <td>66.825</td>\n",
       "      <td>30.20</td>\n",
       "      <td>77.83</td>\n",
       "      <td>298.05</td>\n",
       "      <td>...</td>\n",
       "      <td>29.194</td>\n",
       "      <td>16.582</td>\n",
       "      <td>3.410</td>\n",
       "      <td>-26.486</td>\n",
       "      <td>-26.581</td>\n",
       "      <td>-22.772</td>\n",
       "      <td>24.261</td>\n",
       "      <td>-26.491</td>\n",
       "      <td>-26.584</td>\n",
       "      <td>-26.580</td>\n",
       "    </tr>\n",
       "    <tr>\n",
       "      <th>39603</th>\n",
       "      <td>TRAIN_39604</td>\n",
       "      <td>66.465</td>\n",
       "      <td>103.321</td>\n",
       "      <td>62.77</td>\n",
       "      <td>1</td>\n",
       "      <td>102.021</td>\n",
       "      <td>66.825</td>\n",
       "      <td>29.21</td>\n",
       "      <td>102.25</td>\n",
       "      <td>270.67</td>\n",
       "      <td>...</td>\n",
       "      <td>29.859</td>\n",
       "      <td>15.659</td>\n",
       "      <td>3.406</td>\n",
       "      <td>-27.308</td>\n",
       "      <td>-27.203</td>\n",
       "      <td>-24.674</td>\n",
       "      <td>23.427</td>\n",
       "      <td>-27.250</td>\n",
       "      <td>-27.334</td>\n",
       "      <td>-27.325</td>\n",
       "    </tr>\n",
       "    <tr>\n",
       "      <th>39604</th>\n",
       "      <td>TRAIN_39605</td>\n",
       "      <td>68.504</td>\n",
       "      <td>103.320</td>\n",
       "      <td>64.67</td>\n",
       "      <td>1</td>\n",
       "      <td>103.144</td>\n",
       "      <td>68.864</td>\n",
       "      <td>29.96</td>\n",
       "      <td>102.61</td>\n",
       "      <td>198.07</td>\n",
       "      <td>...</td>\n",
       "      <td>24.720</td>\n",
       "      <td>16.823</td>\n",
       "      <td>3.215</td>\n",
       "      <td>-26.502</td>\n",
       "      <td>-26.687</td>\n",
       "      <td>-22.577</td>\n",
       "      <td>24.301</td>\n",
       "      <td>-26.388</td>\n",
       "      <td>-26.425</td>\n",
       "      <td>-26.601</td>\n",
       "    </tr>\n",
       "    <tr>\n",
       "      <th>39605</th>\n",
       "      <td>TRAIN_39606</td>\n",
       "      <td>66.465</td>\n",
       "      <td>103.320</td>\n",
       "      <td>63.67</td>\n",
       "      <td>1</td>\n",
       "      <td>102.025</td>\n",
       "      <td>67.845</td>\n",
       "      <td>30.30</td>\n",
       "      <td>112.60</td>\n",
       "      <td>275.52</td>\n",
       "      <td>...</td>\n",
       "      <td>26.412</td>\n",
       "      <td>15.757</td>\n",
       "      <td>4.216</td>\n",
       "      <td>-26.760</td>\n",
       "      <td>-26.634</td>\n",
       "      <td>-24.066</td>\n",
       "      <td>23.305</td>\n",
       "      <td>-26.536</td>\n",
       "      <td>-26.751</td>\n",
       "      <td>-26.635</td>\n",
       "    </tr>\n",
       "    <tr>\n",
       "      <th>39606</th>\n",
       "      <td>TRAIN_39607</td>\n",
       "      <td>66.465</td>\n",
       "      <td>103.320</td>\n",
       "      <td>65.67</td>\n",
       "      <td>1</td>\n",
       "      <td>102.004</td>\n",
       "      <td>69.884</td>\n",
       "      <td>30.16</td>\n",
       "      <td>112.90</td>\n",
       "      <td>276.06</td>\n",
       "      <td>...</td>\n",
       "      <td>30.745</td>\n",
       "      <td>16.781</td>\n",
       "      <td>3.307</td>\n",
       "      <td>-26.054</td>\n",
       "      <td>-26.251</td>\n",
       "      <td>-23.257</td>\n",
       "      <td>24.450</td>\n",
       "      <td>-26.224</td>\n",
       "      <td>-26.256</td>\n",
       "      <td>-26.093</td>\n",
       "    </tr>\n",
       "  </tbody>\n",
       "</table>\n",
       "<p>39607 rows × 71 columns</p>\n",
       "</div>"
      ],
      "text/plain": [
       "                ID    X_01     X_02   X_03  X_04     X_05    X_06   X_07  \\\n",
       "0      TRAIN_00001  70.544  103.320  67.47     1  101.892  74.983  29.45   \n",
       "1      TRAIN_00002  69.524  103.321  65.17     1  101.944  72.943  28.73   \n",
       "2      TRAIN_00003  72.583  103.320  64.07     1  103.153  72.943  28.81   \n",
       "3      TRAIN_00004  71.563  103.320  67.57     1  101.971  77.022  28.92   \n",
       "4      TRAIN_00005  69.524  103.320  63.57     1  101.981  70.904  29.68   \n",
       "...            ...     ...      ...    ...   ...      ...     ...    ...   \n",
       "39602  TRAIN_39603  66.465  103.320  62.27     1  103.150  66.825  30.20   \n",
       "39603  TRAIN_39604  66.465  103.321  62.77     1  102.021  66.825  29.21   \n",
       "39604  TRAIN_39605  68.504  103.320  64.67     1  103.144  68.864  29.96   \n",
       "39605  TRAIN_39606  66.465  103.320  63.67     1  102.025  67.845  30.30   \n",
       "39606  TRAIN_39607  66.465  103.320  65.67     1  102.004  69.884  30.16   \n",
       "\n",
       "         X_08    X_09  ...    Y_05    Y_06   Y_07    Y_08    Y_09    Y_10  \\\n",
       "0       62.38  245.71  ...  29.632  16.083  4.276 -25.381 -25.529 -22.769   \n",
       "1       61.23  233.61  ...  33.179  16.736  3.229 -26.619 -26.523 -22.574   \n",
       "2      105.77  272.20  ...  31.801  17.080  2.839 -26.238 -26.216 -22.169   \n",
       "3      115.21  255.36  ...  34.503  17.143  3.144 -25.426 -25.079 -21.765   \n",
       "4      103.38  241.46  ...  32.602  17.569  3.138 -25.376 -25.242 -21.072   \n",
       "...       ...     ...  ...     ...     ...    ...     ...     ...     ...   \n",
       "39602   77.83  298.05  ...  29.194  16.582  3.410 -26.486 -26.581 -22.772   \n",
       "39603  102.25  270.67  ...  29.859  15.659  3.406 -27.308 -27.203 -24.674   \n",
       "39604  102.61  198.07  ...  24.720  16.823  3.215 -26.502 -26.687 -22.577   \n",
       "39605  112.60  275.52  ...  26.412  15.757  4.216 -26.760 -26.634 -24.066   \n",
       "39606  112.90  276.06  ...  30.745  16.781  3.307 -26.054 -26.251 -23.257   \n",
       "\n",
       "         Y_11    Y_12    Y_13    Y_14  \n",
       "0      23.792 -25.470 -25.409 -25.304  \n",
       "1      24.691 -26.253 -26.497 -26.438  \n",
       "2      24.649 -26.285 -26.215 -26.370  \n",
       "3      24.913 -25.254 -25.021 -25.345  \n",
       "4      25.299 -25.072 -25.195 -24.974  \n",
       "...       ...     ...     ...     ...  \n",
       "39602  24.261 -26.491 -26.584 -26.580  \n",
       "39603  23.427 -27.250 -27.334 -27.325  \n",
       "39604  24.301 -26.388 -26.425 -26.601  \n",
       "39605  23.305 -26.536 -26.751 -26.635  \n",
       "39606  24.450 -26.224 -26.256 -26.093  \n",
       "\n",
       "[39607 rows x 71 columns]"
      ]
     },
     "execution_count": 273,
     "metadata": {},
     "output_type": "execute_result"
    }
   ],
   "source": [
    "train"
   ]
  },
  {
   "cell_type": "code",
   "execution_count": 274,
   "id": "bd3a7947",
   "metadata": {
    "ExecuteTime": {
     "end_time": "2022-08-25T16:04:53.161367Z",
     "start_time": "2022-08-25T16:04:53.145411Z"
    }
   },
   "outputs": [
    {
     "data": {
      "text/plain": [
       "Index(['ID', 'X_01', 'X_02', 'X_03', 'X_04', 'X_05', 'X_06', 'X_07', 'X_08',\n",
       "       'X_09', 'X_10', 'X_11', 'X_12', 'X_13', 'X_14', 'X_15', 'X_16', 'X_17',\n",
       "       'X_18', 'X_19', 'X_20', 'X_21', 'X_22', 'X_23', 'X_24', 'X_25', 'X_26',\n",
       "       'X_27', 'X_28', 'X_29', 'X_30', 'X_31', 'X_32', 'X_33', 'X_34', 'X_35',\n",
       "       'X_36', 'X_37', 'X_38', 'X_39', 'X_40', 'X_41', 'X_42', 'X_43', 'X_44',\n",
       "       'X_45', 'X_46', 'X_47', 'X_48', 'X_49', 'X_50', 'X_51', 'X_52', 'X_53',\n",
       "       'X_54', 'X_55', 'X_56', 'Y_01', 'Y_02', 'Y_03', 'Y_04', 'Y_05', 'Y_06',\n",
       "       'Y_07', 'Y_08', 'Y_09', 'Y_10', 'Y_11', 'Y_12', 'Y_13', 'Y_14'],\n",
       "      dtype='object')"
      ]
     },
     "execution_count": 274,
     "metadata": {},
     "output_type": "execute_result"
    }
   ],
   "source": [
    "train.columns"
   ]
  },
  {
   "cell_type": "code",
   "execution_count": 275,
   "id": "97181ca7",
   "metadata": {
    "ExecuteTime": {
     "end_time": "2022-08-25T16:04:54.627081Z",
     "start_time": "2022-08-25T16:04:54.601057Z"
    }
   },
   "outputs": [],
   "source": [
    "X = train[list(train.columns[1:57])]\n",
    "y = train[list(train.columns[57:])]\n",
    "y = np.array(y)"
   ]
  },
  {
   "cell_type": "code",
   "execution_count": 276,
   "id": "40fc7937",
   "metadata": {
    "ExecuteTime": {
     "end_time": "2022-08-25T16:04:56.837553Z",
     "start_time": "2022-08-25T16:04:56.801410Z"
    }
   },
   "outputs": [],
   "source": [
    "X_train, X_test, y_train, y_test = train_test_split(X,y)"
   ]
  },
  {
   "cell_type": "markdown",
   "id": "92d5aece",
   "metadata": {},
   "source": [
    "# Make base models"
   ]
  },
  {
   "cell_type": "markdown",
   "id": "29f45287",
   "metadata": {},
   "source": [
    "각각의 모델의 에러를 가중치로 평균내어 예측한다."
   ]
  },
  {
   "cell_type": "code",
   "execution_count": 322,
   "id": "8d0ff770",
   "metadata": {
    "ExecuteTime": {
     "end_time": "2022-08-25T16:47:45.945728Z",
     "start_time": "2022-08-25T16:47:45.925809Z"
    }
   },
   "outputs": [],
   "source": [
    "reduce_lr = keras.callbacks.ReduceLROnPlateau(monitor = \"val_loss\", factor=0.5, patience=3, verbose=3)\n",
    "es = keras.callbacks.EarlyStopping(monitor = \"val_loss\", patience=10)\n",
    "mc = keras.callbacks.ModelCheckpoint(monitor = \"val_loss\", verbose=3, save_best_only=True,\n",
    "                                     mode=\"min\", filepath=\"./checkpoint.h5\")"
   ]
  },
  {
   "cell_type": "code",
   "execution_count": 277,
   "id": "0035e6d9",
   "metadata": {
    "ExecuteTime": {
     "end_time": "2022-08-25T16:05:27.155131Z",
     "start_time": "2022-08-25T16:05:27.093227Z"
    }
   },
   "outputs": [],
   "source": [
    "scaler = StandardScaler()\n",
    "scaler.fit(X_train)\n",
    "X_train_scaled, X_test_scaled = scaler.transform(X_train), scaler.transform(X_test)"
   ]
  },
  {
   "cell_type": "code",
   "execution_count": 495,
   "id": "1f7dddf3",
   "metadata": {
    "ExecuteTime": {
     "end_time": "2022-08-26T05:46:03.053003Z",
     "start_time": "2022-08-26T05:43:18.789564Z"
    }
   },
   "outputs": [
    {
     "name": "stdout",
     "output_type": "stream",
     "text": [
      "\n",
      "Epoch 00009: ReduceLROnPlateau reducing learning rate to 0.004999999888241291.\n",
      "\n",
      "Epoch 00016: ReduceLROnPlateau reducing learning rate to 0.0024999999441206455.\n",
      "\n",
      "Epoch 00022: ReduceLROnPlateau reducing learning rate to 0.0012499999720603228.\n",
      "\n",
      "Epoch 00030: ReduceLROnPlateau reducing learning rate to 0.0006249999860301614.\n",
      "\n",
      "Epoch 00033: ReduceLROnPlateau reducing learning rate to 0.0003124999930150807.\n",
      "\n",
      "Epoch 00036: ReduceLROnPlateau reducing learning rate to 0.00015624999650754035.\n",
      "[0.2578274245634931, 0.35941457609819133, 0.3518269246718135, 0.18375679397269445, 0.07795451216409248, 0.1044228822742948, 0.1287621998829742, 0.023838861663792805, 0.02367351467052767, 0.038234717994075865, 0.03321270826254574, 0.023821558101719025, 0.023742642362077366, 0.023778610512081282]\n",
      "1.951828762252643\n",
      "[0.2628197348875235, 0.35856748975641634, 0.3532133305125901, 0.1916021182624245, 0.0799183332209255, 0.1420741533219168, 0.13347433490037658, 0.024589879320090022, 0.024498276503584587, 0.04194513705268254, 0.03414059324835663, 0.024479503479172403, 0.024506260829690506, 0.024613676468686233]\n",
      "2.0296946966008886\n",
      "\n",
      "Epoch 00019: ReduceLROnPlateau reducing learning rate to 0.004999999888241291.\n",
      "\n",
      "Epoch 00025: ReduceLROnPlateau reducing learning rate to 0.0024999999441206455.\n",
      "\n",
      "Epoch 00028: ReduceLROnPlateau reducing learning rate to 0.0012499999720603228.\n",
      "\n",
      "Epoch 00031: ReduceLROnPlateau reducing learning rate to 0.0006249999860301614.\n",
      "[0.25750279436445106, 0.35691623011867485, 0.3506194360199585, 0.18373940299637878, 0.07770680436884111, 0.10911831768226278, 0.12908263874469553, 0.02374665531363673, 0.02357257177479557, 0.03838365886280639, 0.03303458847469425, 0.023709326339558474, 0.023648255578897628, 0.023699111104735195]\n",
      "1.9521662476661665\n",
      "[0.2633693384454154, 0.3675267995825684, 0.35773655365159435, 0.19121480365166194, 0.08043641925584417, 0.11647348063383269, 0.13246929654212874, 0.02447669748192306, 0.024231693100754795, 0.040074124898844196, 0.0342476818792962, 0.02451198852728291, 0.024403262071580452, 0.024407877054971685]\n",
      "2.0123206946266925\n",
      "\n",
      "Epoch 00013: ReduceLROnPlateau reducing learning rate to 0.004999999888241291.\n",
      "\n",
      "Epoch 00017: ReduceLROnPlateau reducing learning rate to 0.0024999999441206455.\n",
      "\n",
      "Epoch 00020: ReduceLROnPlateau reducing learning rate to 0.0012499999720603228.\n",
      "\n",
      "Epoch 00023: ReduceLROnPlateau reducing learning rate to 0.0006249999860301614.\n",
      "[0.25854752267774306, 0.3591523408571482, 0.35232717624682963, 0.18565640972121708, 0.0781353279430358, 0.11434066339120937, 0.13025847619869307, 0.02414980619003672, 0.02390320417586804, 0.039205280434003585, 0.033482446101922796, 0.02406710527871061, 0.024072262695851238, 0.02404114757095392]\n",
      "1.9718527141284057\n",
      "[0.2580220718202735, 0.35694063227274964, 0.35199745499549157, 0.188133532551123, 0.08061463647077821, 0.10877233545542848, 0.1295372178139257, 0.02424109712136099, 0.024021337641429705, 0.03920567535135434, 0.03366717225145958, 0.024206878688259183, 0.02422609489915696, 0.024271121325543134]\n",
      "1.9675090543585603\n",
      "\n",
      "Epoch 00015: ReduceLROnPlateau reducing learning rate to 0.004999999888241291.\n",
      "\n",
      "Epoch 00019: ReduceLROnPlateau reducing learning rate to 0.0024999999441206455.\n",
      "\n",
      "Epoch 00024: ReduceLROnPlateau reducing learning rate to 0.0012499999720603228.\n",
      "\n",
      "Epoch 00027: ReduceLROnPlateau reducing learning rate to 0.0006249999860301614.\n",
      "\n",
      "Epoch 00030: ReduceLROnPlateau reducing learning rate to 0.0003124999930150807.\n",
      "[0.2588002171484356, 0.3576912279024359, 0.35246404837660467, 0.1843505681932132, 0.07799159782248222, 0.11045454928331339, 0.12887508881735144, 0.023908362002112007, 0.02372970608726088, 0.038909908314251555, 0.03324418979778714, 0.023865099679435467, 0.023901322922020338, 0.02388255998318782]\n",
      "1.9609755782390812\n",
      "[0.2577859487200823, 0.36242261780283797, 0.35096904725113737, 0.19191929928247362, 0.08092428439903245, 0.10862766142930735, 0.13174313620300918, 0.024695381968462878, 0.024513177805642144, 0.03948021833096113, 0.03451588659142086, 0.024594354348159125, 0.024580488026461757, 0.024550957094371384]\n",
      "1.9831399346646281\n",
      "\n",
      "Epoch 00016: ReduceLROnPlateau reducing learning rate to 0.004999999888241291.\n",
      "\n",
      "Epoch 00024: ReduceLROnPlateau reducing learning rate to 0.0024999999441206455.\n",
      "\n",
      "Epoch 00027: ReduceLROnPlateau reducing learning rate to 0.0012499999720603228.\n",
      "\n",
      "Epoch 00030: ReduceLROnPlateau reducing learning rate to 0.0006249999860301614.\n",
      "[0.25790058569623364, 0.3590879896605582, 0.35158878093048657, 0.1850059833355851, 0.07820775667047022, 0.11134262079015037, 0.1295492659090683, 0.024044119504343965, 0.02388192250084831, 0.038828309606155895, 0.03343759948260234, 0.02401280202999597, 0.02393151581588197, 0.023974079285263256]\n",
      "1.9641387517170232\n",
      "[0.258424942633897, 0.35711615831951626, 0.3527875908716168, 0.19216273174408927, 0.0810750182747263, 0.0984464919710807, 0.1305869246456217, 0.024361543406531017, 0.02420372229371925, 0.03875038628619569, 0.034183203153067915, 0.024292603130256402, 0.024242470072579528, 0.024264769933243287]\n",
      "1.9638908371095567\n"
     ]
    }
   ],
   "source": [
    "kf = KFold(n_splits=5)\n",
    "model_list=[]\n",
    "for train_index, test_index in kf.split(X_train_scaled):\n",
    "    X_train, X_test = X_train_scaled[train_index], X_train_scaled[test_index]\n",
    "    y_train_, y_test_ = y_train[train_index], y_train[test_index]\n",
    "\n",
    "    Input = keras.layers.Input(shape=X_train.shape[1])\n",
    "    x = keras.layers.Dense(32, activation=\"relu\", kernel_initializer=keras.initializers.he_normal)(Input)\n",
    "    x = keras.layers.BatchNormalization()(x)\n",
    "    x = keras.layers.Dense(32, activation=\"relu\", kernel_initializer=keras.initializers.he_normal)(x)\n",
    "    x = keras.layers.BatchNormalization()(x)\n",
    "\n",
    "    Output = keras.layers.Dense(14, activation=\"linear\", kernel_initializer=keras.initializers.he_normal)(x)\n",
    "\n",
    "\n",
    "    model = keras.models.Model(inputs = Input, outputs = Output)\n",
    "    model.compile(loss=\"mse\", optimizer=keras.optimizers.Adam(learning_rate=0.01), metrics=[\"mse\", \"mae\"])\n",
    "    model.fit(X_train, y_train_, epochs=70, validation_data = (X_test, y_test_), batch_size=128, callbacks=[reduce_lr, es], verbose=0)\n",
    "    print(lg_nrmse(y_train_, model.predict(X_train)))\n",
    "    print(lg_nrmse(y_test_, model.predict(X_test)))    \n",
    "    model_list.append(model)"
   ]
  },
  {
   "cell_type": "code",
   "execution_count": 496,
   "id": "c2b258c4",
   "metadata": {
    "ExecuteTime": {
     "end_time": "2022-08-26T05:46:04.665653Z",
     "start_time": "2022-08-26T05:46:03.181810Z"
    }
   },
   "outputs": [],
   "source": [
    "pred=[]\n",
    "for i in range(len(model_list)):\n",
    "    pred.append(model_list[i].predict(X_test_scaled))"
   ]
  },
  {
   "cell_type": "code",
   "execution_count": 497,
   "id": "761c167b",
   "metadata": {
    "ExecuteTime": {
     "end_time": "2022-08-26T05:46:06.293668Z",
     "start_time": "2022-08-26T05:46:04.791798Z"
    }
   },
   "outputs": [
    {
     "name": "stdout",
     "output_type": "stream",
     "text": [
      "[0.2579675057305892, 0.35983434048308727, 0.35257505072733747, 0.19732038771223753, 0.07913340783060467, 0.10327848197332934, 0.13033117701221966, 0.024064688804649986, 0.02391677997276643, 0.03828000964887613, 0.03358500654905552, 0.024042124017197908, 0.023999631355785506, 0.024018111243114194]\n"
     ]
    },
    {
     "data": {
      "text/plain": [
       "1.9732477111156617"
      ]
     },
     "execution_count": 497,
     "metadata": {},
     "output_type": "execute_result"
    }
   ],
   "source": [
    "lg_nrmse(y_test, model_list[0].predict(X_test_scaled)*0.2 + model_list[1].predict(X_test_scaled)*0.2 + model_list[2].predict(X_test_scaled)*0.2 + model_list[3].predict(X_test_scaled)*0.2 + model_list[4].predict(X_test_scaled)*0.2 )"
   ]
  },
  {
   "cell_type": "code",
   "execution_count": 498,
   "id": "0d652255",
   "metadata": {
    "ExecuteTime": {
     "end_time": "2022-08-26T05:46:06.435652Z",
     "start_time": "2022-08-26T05:46:06.421590Z"
    }
   },
   "outputs": [
    {
     "name": "stdout",
     "output_type": "stream",
     "text": [
      "[0.25796750547982294, 0.3598343396165711, 0.35257505164232406, 0.19732038749308217, 0.07913340842930658, 0.10327848264108869, 0.13033117756189697, 0.024064688503433327, 0.023916779483540176, 0.038280009539930375, 0.03358500620660196, 0.024042123661841157, 0.02399963136866422, 0.024018112025927074]\n"
     ]
    },
    {
     "data": {
      "text/plain": [
       "1.9732477119275358"
      ]
     },
     "execution_count": 498,
     "metadata": {},
     "output_type": "execute_result"
    }
   ],
   "source": [
    "lg_nrmse(y_test, np.sum(pred, axis=0)/5)"
   ]
  },
  {
   "cell_type": "code",
   "execution_count": 481,
   "id": "f7c2b07e",
   "metadata": {
    "ExecuteTime": {
     "end_time": "2022-08-26T05:29:57.501279Z",
     "start_time": "2022-08-26T05:29:57.411009Z"
    }
   },
   "outputs": [],
   "source": [
    "Input = keras.layers.Input(shape=X_train.shape[1])\n",
    "x = keras.layers.Dense(32, activation=\"relu\", kernel_initializer=keras.initializers.he_normal)(Input)\n",
    "x_1 = keras.layers.BatchNormalization()(x)\n",
    "x_2 = keras.layers.Dense(32, activation=\"relu\", kernel_initializer=keras.initializers.he_normal)(x_1)\n",
    "x= keras.layers.BatchNormalization()(x_2)\n",
    "\n",
    "# x = keras.layers.Add()([x_1, x_2])\n",
    "# x = keras.layers.BatchNormalization()(x)\n",
    "\n",
    "Output = keras.layers.Dense(14, activation=\"linear\", kernel_initializer=keras.initializers.he_normal)(x)\n",
    "\n",
    "model = keras.models.Model(inputs = Input, outputs = Output)\n",
    "model.compile(loss=\"mse\", optimizer=keras.optimizers.Adam(learning_rate=0.05), metrics=[\"mse\", \"mae\"])"
   ]
  },
  {
   "cell_type": "code",
   "execution_count": 485,
   "id": "3cfd4cb1",
   "metadata": {
    "ExecuteTime": {
     "end_time": "2022-08-26T05:31:10.715965Z",
     "start_time": "2022-08-26T05:31:10.655992Z"
    }
   },
   "outputs": [],
   "source": [
    "Input = keras.layers.Input(shape=X_train.shape[1])\n",
    "x = keras.layers.Dense(32, activation=\"relu\", kernel_initializer=keras.initializers.he_normal)(Input)\n",
    "x = keras.layers.BatchNormalization()(x)\n",
    "x = keras.layers.Dense(32, activation=\"relu\", kernel_initializer=keras.initializers.he_normal)(x)\n",
    "x = keras.layers.BatchNormalization()(x)\n",
    "\n",
    "Output = keras.layers.Dense(14, activation=\"linear\", kernel_initializer=keras.initializers.he_normal)(x)\n",
    "\n",
    "model = keras.models.Model(inputs = Input, outputs = Output)\n",
    "model.compile(loss=\"mse\", optimizer=keras.optimizers.Adam(learning_rate=0.01), metrics=[\"mse\", \"mae\"])"
   ]
  },
  {
   "cell_type": "code",
   "execution_count": 488,
   "id": "a09c324b",
   "metadata": {
    "ExecuteTime": {
     "end_time": "2022-08-26T05:32:35.651877Z",
     "start_time": "2022-08-26T05:32:15.746945Z"
    }
   },
   "outputs": [
    {
     "name": "stdout",
     "output_type": "stream",
     "text": [
      "Epoch 1/70\n",
      "117/117 [==============================] - 1s 7ms/step - loss: 149.9395 - mse: 149.9395 - mae: 7.8580 - val_loss: 1.7782 - val_mse: 1.7782 - val_mae: 0.8380\n",
      "Epoch 2/70\n",
      "117/117 [==============================] - 1s 6ms/step - loss: 1.5426 - mse: 1.5426 - mae: 0.7210 - val_loss: 1.5552 - val_mse: 1.5552 - val_mae: 0.7373\n",
      "Epoch 3/70\n",
      "117/117 [==============================] - 1s 6ms/step - loss: 1.5188 - mse: 1.5188 - mae: 0.7106 - val_loss: 1.5004 - val_mse: 1.5004 - val_mae: 0.7100\n",
      "Epoch 4/70\n",
      "117/117 [==============================] - 1s 6ms/step - loss: 1.5115 - mse: 1.5115 - mae: 0.7081 - val_loss: 1.4917 - val_mse: 1.4917 - val_mae: 0.7044\n",
      "Epoch 5/70\n",
      "117/117 [==============================] - 1s 6ms/step - loss: 1.5029 - mse: 1.5029 - mae: 0.7053 - val_loss: 1.5174 - val_mse: 1.5174 - val_mae: 0.7175\n",
      "Epoch 6/70\n",
      "117/117 [==============================] - 1s 6ms/step - loss: 1.5002 - mse: 1.5002 - mae: 0.7050 - val_loss: 1.4810 - val_mse: 1.4810 - val_mae: 0.6998\n",
      "Epoch 7/70\n",
      "117/117 [==============================] - 1s 6ms/step - loss: 1.4929 - mse: 1.4929 - mae: 0.7024 - val_loss: 1.4985 - val_mse: 1.4985 - val_mae: 0.7133\n",
      "Epoch 8/70\n",
      "117/117 [==============================] - 1s 6ms/step - loss: 1.4888 - mse: 1.4888 - mae: 0.7021 - val_loss: 1.4777 - val_mse: 1.4777 - val_mae: 0.6996\n",
      "Epoch 9/70\n",
      "117/117 [==============================] - 1s 6ms/step - loss: 1.4861 - mse: 1.4861 - mae: 0.7013 - val_loss: 1.4781 - val_mse: 1.4781 - val_mae: 0.7003\n",
      "Epoch 10/70\n",
      "117/117 [==============================] - 1s 6ms/step - loss: 1.4825 - mse: 1.4825 - mae: 0.7000 - val_loss: 1.4825 - val_mse: 1.4825 - val_mae: 0.7021\n",
      "Epoch 11/70\n",
      "117/117 [==============================] - 1s 6ms/step - loss: 1.4837 - mse: 1.4837 - mae: 0.7015 - val_loss: 1.4829 - val_mse: 1.4829 - val_mae: 0.7018\n",
      "\n",
      "Epoch 00011: ReduceLROnPlateau reducing learning rate to 0.004999999888241291.\n",
      "Epoch 12/70\n",
      "117/117 [==============================] - 1s 6ms/step - loss: 1.4737 - mse: 1.4737 - mae: 0.6975 - val_loss: 1.4687 - val_mse: 1.4687 - val_mae: 0.6954\n",
      "Epoch 13/70\n",
      "117/117 [==============================] - 1s 6ms/step - loss: 1.4704 - mse: 1.4704 - mae: 0.6968 - val_loss: 1.4721 - val_mse: 1.4721 - val_mae: 0.6966\n",
      "Epoch 14/70\n",
      "117/117 [==============================] - 1s 6ms/step - loss: 1.4689 - mse: 1.4689 - mae: 0.6972 - val_loss: 1.4710 - val_mse: 1.4710 - val_mae: 0.6949\n",
      "Epoch 15/70\n",
      "117/117 [==============================] - 1s 6ms/step - loss: 1.4688 - mse: 1.4688 - mae: 0.6964 - val_loss: 1.4782 - val_mse: 1.4782 - val_mae: 0.6983\n",
      "\n",
      "Epoch 00015: ReduceLROnPlateau reducing learning rate to 0.0024999999441206455.\n",
      "Epoch 16/70\n",
      "117/117 [==============================] - 1s 6ms/step - loss: 1.4625 - mse: 1.4625 - mae: 0.6956 - val_loss: 1.4723 - val_mse: 1.4723 - val_mae: 0.6958\n",
      "Epoch 17/70\n",
      "117/117 [==============================] - 1s 6ms/step - loss: 1.4596 - mse: 1.4596 - mae: 0.6945 - val_loss: 1.4689 - val_mse: 1.4689 - val_mae: 0.6954\n",
      "Epoch 18/70\n",
      "117/117 [==============================] - 1s 6ms/step - loss: 1.4604 - mse: 1.4604 - mae: 0.6947 - val_loss: 1.4674 - val_mse: 1.4674 - val_mae: 0.6946\n",
      "Epoch 19/70\n",
      "117/117 [==============================] - 1s 6ms/step - loss: 1.4590 - mse: 1.4590 - mae: 0.6947 - val_loss: 1.4820 - val_mse: 1.4820 - val_mae: 0.6987\n",
      "Epoch 20/70\n",
      "117/117 [==============================] - 1s 6ms/step - loss: 1.4595 - mse: 1.4595 - mae: 0.6950 - val_loss: 1.4708 - val_mse: 1.4708 - val_mae: 0.6959\n",
      "Epoch 21/70\n",
      "117/117 [==============================] - 1s 6ms/step - loss: 1.4572 - mse: 1.4572 - mae: 0.6940 - val_loss: 1.4718 - val_mse: 1.4718 - val_mae: 0.6975\n",
      "\n",
      "Epoch 00021: ReduceLROnPlateau reducing learning rate to 0.0012499999720603228.\n",
      "Epoch 22/70\n",
      "117/117 [==============================] - 1s 6ms/step - loss: 1.4531 - mse: 1.4531 - mae: 0.6932 - val_loss: 1.4688 - val_mse: 1.4688 - val_mae: 0.6947\n",
      "Epoch 23/70\n",
      "117/117 [==============================] - 1s 6ms/step - loss: 1.4509 - mse: 1.4509 - mae: 0.6921 - val_loss: 1.4719 - val_mse: 1.4719 - val_mae: 0.6969\n",
      "Epoch 24/70\n",
      "117/117 [==============================] - 1s 6ms/step - loss: 1.4502 - mse: 1.4502 - mae: 0.6922 - val_loss: 1.4742 - val_mse: 1.4742 - val_mae: 0.6984\n",
      "\n",
      "Epoch 00024: ReduceLROnPlateau reducing learning rate to 0.0006249999860301614.\n",
      "Epoch 25/70\n",
      "117/117 [==============================] - 1s 6ms/step - loss: 1.4476 - mse: 1.4476 - mae: 0.6913 - val_loss: 1.4701 - val_mse: 1.4701 - val_mae: 0.6954\n",
      "Epoch 26/70\n",
      "117/117 [==============================] - 1s 6ms/step - loss: 1.4473 - mse: 1.4473 - mae: 0.6912 - val_loss: 1.4705 - val_mse: 1.4705 - val_mae: 0.6959\n",
      "Epoch 27/70\n",
      "117/117 [==============================] - 1s 6ms/step - loss: 1.4466 - mse: 1.4466 - mae: 0.6913 - val_loss: 1.4711 - val_mse: 1.4711 - val_mae: 0.6958\n",
      "\n",
      "Epoch 00027: ReduceLROnPlateau reducing learning rate to 0.0003124999930150807.\n",
      "Epoch 28/70\n",
      "117/117 [==============================] - 1s 6ms/step - loss: 1.4450 - mse: 1.4450 - mae: 0.6904 - val_loss: 1.4706 - val_mse: 1.4706 - val_mae: 0.6960\n"
     ]
    },
    {
     "data": {
      "text/plain": [
       "<keras.callbacks.History at 0x19ed7c8ed30>"
      ]
     },
     "execution_count": 488,
     "metadata": {},
     "output_type": "execute_result"
    }
   ],
   "source": [
    "model.fit(X_train_scaled, y_train, epochs=70, validation_data = (X_test_scaled, y_test), batch_size=256, callbacks=[reduce_lr, es])"
   ]
  },
  {
   "cell_type": "code",
   "execution_count": 489,
   "id": "deba6844",
   "metadata": {
    "ExecuteTime": {
     "end_time": "2022-08-26T05:32:38.230517Z",
     "start_time": "2022-08-26T05:32:37.382796Z"
    }
   },
   "outputs": [
    {
     "name": "stdout",
     "output_type": "stream",
     "text": [
      "[0.2595140024890998, 0.3601153734183418, 0.3530520242441651, 0.18675111789412252, 0.07891708119237315, 0.11491165563047351, 0.13032811649405382, 0.02411649147389635, 0.02393450481760124, 0.039281182968370985, 0.033552245346686084, 0.024044466242581813, 0.024058385509737885, 0.02405155612177991]\n"
     ]
    },
    {
     "data": {
      "text/plain": [
       "1.9781693764105892"
      ]
     },
     "execution_count": 489,
     "metadata": {},
     "output_type": "execute_result"
    }
   ],
   "source": [
    "lg_nrmse(y_train, model.predict(X_train_scaled))"
   ]
  },
  {
   "cell_type": "code",
   "execution_count": 490,
   "id": "424d9220",
   "metadata": {
    "ExecuteTime": {
     "end_time": "2022-08-26T05:32:38.729636Z",
     "start_time": "2022-08-26T05:32:38.386526Z"
    }
   },
   "outputs": [
    {
     "name": "stdout",
     "output_type": "stream",
     "text": [
      "[0.2598716478394388, 0.3622498358743623, 0.35490040792564254, 0.19864034728027008, 0.07942686690116546, 0.10456161123152158, 0.13110728541433286, 0.02435067247956746, 0.024180521319207116, 0.038566905424082636, 0.033809961684162435, 0.02429498865456671, 0.024285057295465762, 0.024304235572907305]\n"
     ]
    },
    {
     "data": {
      "text/plain": [
       "1.9875720798859533"
      ]
     },
     "execution_count": 490,
     "metadata": {},
     "output_type": "execute_result"
    }
   ],
   "source": [
    "lg_nrmse(y_test, model.predict(X_test_scaled))"
   ]
  },
  {
   "cell_type": "markdown",
   "id": "80b03b50",
   "metadata": {},
   "source": [
    "# XGBResressor"
   ]
  },
  {
   "cell_type": "code",
   "execution_count": 8,
   "id": "f68ddc6c",
   "metadata": {
    "ExecuteTime": {
     "end_time": "2022-08-25T11:38:09.683110Z",
     "start_time": "2022-08-25T11:38:09.675131Z"
    }
   },
   "outputs": [],
   "source": [
    "def prediction(X):\n",
    "    pred=[]\n",
    "    for i in range(14):\n",
    "        pred.append(models[i].predict(X[list(X.columns)]))\n",
    "    return np.transpose(pred)"
   ]
  },
  {
   "cell_type": "code",
   "execution_count": 34,
   "id": "6cb698ad",
   "metadata": {
    "ExecuteTime": {
     "end_time": "2022-08-25T04:17:09.193038Z",
     "start_time": "2022-08-25T04:16:29.748457Z"
    }
   },
   "outputs": [
    {
     "name": "stderr",
     "output_type": "stream",
     "text": [
      "C:\\Users\\hjhhi\\anaconda3\\envs\\python3.9.0\\lib\\site-packages\\xgboost\\data.py:250: FutureWarning: pandas.Int64Index is deprecated and will be removed from pandas in a future version. Use pandas.Index with the appropriate dtype instead.\n",
      "  elif isinstance(data.columns, (pd.Int64Index, pd.RangeIndex)):\n"
     ]
    }
   ],
   "source": [
    "models= []\n",
    "for i in range(14):\n",
    "    model = XGBRegressor()\n",
    "    model.fit(X_train, y_train[:,i])\n",
    "    models.append(model)"
   ]
  },
  {
   "cell_type": "code",
   "execution_count": 37,
   "id": "122833ab",
   "metadata": {
    "ExecuteTime": {
     "end_time": "2022-08-25T04:17:39.240432Z",
     "start_time": "2022-08-25T04:17:38.987558Z"
    }
   },
   "outputs": [],
   "source": [
    "pred = prediction(X_test)"
   ]
  },
  {
   "cell_type": "code",
   "execution_count": 38,
   "id": "70850f75",
   "metadata": {
    "ExecuteTime": {
     "end_time": "2022-08-25T04:17:40.342849Z",
     "start_time": "2022-08-25T04:17:40.331846Z"
    }
   },
   "outputs": [
    {
     "name": "stdout",
     "output_type": "stream",
     "text": [
      "[0.262495545679322, 0.367331189787829, 0.3581213245182812, 0.19204247825260873, 0.08058056594375078, 0.11879452646607998, 0.13381720492578428, 0.02461084828458363, 0.024420097046054634, 0.03978019663952962, 0.03419074584699197, 0.024568896779369763, 0.024551394882750443, 0.024606731634419284]\n"
     ]
    },
    {
     "data": {
      "text/plain": [
       "2.0174704834590034"
      ]
     },
     "execution_count": 38,
     "metadata": {},
     "output_type": "execute_result"
    }
   ],
   "source": [
    "lg_nrmse(np.array(y_test),pred)"
   ]
  },
  {
   "cell_type": "markdown",
   "id": "842cb6f9",
   "metadata": {},
   "source": [
    "# Predict Y_11 First"
   ]
  },
  {
   "cell_type": "code",
   "execution_count": 50,
   "id": "8f343044",
   "metadata": {
    "ExecuteTime": {
     "end_time": "2022-08-16T12:50:31.154334Z",
     "start_time": "2022-08-16T12:50:31.104156Z"
    }
   },
   "outputs": [],
   "source": [
    "X_train, X_test, y_train, y_test = train_test_split(X, y)"
   ]
  },
  {
   "cell_type": "code",
   "execution_count": 51,
   "id": "fa528d56",
   "metadata": {
    "ExecuteTime": {
     "end_time": "2022-08-16T12:50:31.502204Z",
     "start_time": "2022-08-16T12:50:31.495225Z"
    }
   },
   "outputs": [],
   "source": [
    "y_train_11 = y_train[\"Y_11\"]\n",
    "y_test_11 = y_test[\"Y_11\"]"
   ]
  },
  {
   "cell_type": "code",
   "execution_count": 52,
   "id": "2f08c872",
   "metadata": {
    "ExecuteTime": {
     "end_time": "2022-08-16T12:51:58.453732Z",
     "start_time": "2022-08-16T12:50:37.767128Z"
    }
   },
   "outputs": [
    {
     "data": {
      "text/plain": [
       "RandomForestRegressor()"
      ]
     },
     "execution_count": 52,
     "metadata": {},
     "output_type": "execute_result"
    }
   ],
   "source": [
    "model = RandomForestRegressor()\n",
    "model.fit(X_train, y_train_11)"
   ]
  },
  {
   "cell_type": "code",
   "execution_count": 53,
   "id": "bbdf45da",
   "metadata": {
    "ExecuteTime": {
     "end_time": "2022-08-16T12:53:50.951116Z",
     "start_time": "2022-08-16T12:51:58.680321Z"
    }
   },
   "outputs": [
    {
     "data": {
      "text/plain": [
       "RandomForestRegressor()"
      ]
     },
     "execution_count": 53,
     "metadata": {},
     "output_type": "execute_result"
    }
   ],
   "source": [
    "X_train[\"Y_11\"] = model.predict(X_train)\n",
    "model_2 = RandomForestRegressor()\n",
    "model_2.fit(X_train, y_train)"
   ]
  },
  {
   "cell_type": "code",
   "execution_count": 59,
   "id": "a9dcfb61",
   "metadata": {
    "ExecuteTime": {
     "end_time": "2022-08-16T12:55:24.795285Z",
     "start_time": "2022-08-16T12:55:24.425456Z"
    }
   },
   "outputs": [],
   "source": [
    "# X_test[\"Y_11\"] = model.predict(X_test)\n",
    "pred = model_2.predict(X_test)"
   ]
  },
  {
   "cell_type": "code",
   "execution_count": 65,
   "id": "a6fab8f3",
   "metadata": {
    "ExecuteTime": {
     "end_time": "2022-08-16T12:56:10.248382Z",
     "start_time": "2022-08-16T12:56:10.225443Z"
    }
   },
   "outputs": [
    {
     "data": {
      "text/html": [
       "<div>\n",
       "<style scoped>\n",
       "    .dataframe tbody tr th:only-of-type {\n",
       "        vertical-align: middle;\n",
       "    }\n",
       "\n",
       "    .dataframe tbody tr th {\n",
       "        vertical-align: top;\n",
       "    }\n",
       "\n",
       "    .dataframe thead th {\n",
       "        text-align: right;\n",
       "    }\n",
       "</style>\n",
       "<table border=\"1\" class=\"dataframe\">\n",
       "  <thead>\n",
       "    <tr style=\"text-align: right;\">\n",
       "      <th></th>\n",
       "      <th>Y_01</th>\n",
       "      <th>Y_02</th>\n",
       "      <th>Y_03</th>\n",
       "      <th>Y_04</th>\n",
       "      <th>Y_05</th>\n",
       "      <th>Y_06</th>\n",
       "      <th>Y_07</th>\n",
       "      <th>Y_08</th>\n",
       "      <th>Y_09</th>\n",
       "      <th>Y_10</th>\n",
       "      <th>Y_11</th>\n",
       "      <th>Y_12</th>\n",
       "      <th>Y_13</th>\n",
       "      <th>Y_14</th>\n",
       "    </tr>\n",
       "  </thead>\n",
       "  <tbody>\n",
       "    <tr>\n",
       "      <th>26267</th>\n",
       "      <td>1.100</td>\n",
       "      <td>0.669</td>\n",
       "      <td>0.497</td>\n",
       "      <td>13.258</td>\n",
       "      <td>30.600</td>\n",
       "      <td>16.605</td>\n",
       "      <td>4.063</td>\n",
       "      <td>-26.046</td>\n",
       "      <td>-26.311</td>\n",
       "      <td>-23.005</td>\n",
       "      <td>24.146</td>\n",
       "      <td>-26.301</td>\n",
       "      <td>-26.348</td>\n",
       "      <td>-26.237</td>\n",
       "    </tr>\n",
       "    <tr>\n",
       "      <th>9686</th>\n",
       "      <td>1.264</td>\n",
       "      <td>0.548</td>\n",
       "      <td>0.707</td>\n",
       "      <td>12.993</td>\n",
       "      <td>33.641</td>\n",
       "      <td>16.809</td>\n",
       "      <td>3.230</td>\n",
       "      <td>-26.418</td>\n",
       "      <td>-26.428</td>\n",
       "      <td>-22.225</td>\n",
       "      <td>24.515</td>\n",
       "      <td>-26.330</td>\n",
       "      <td>-26.322</td>\n",
       "      <td>-26.353</td>\n",
       "    </tr>\n",
       "    <tr>\n",
       "      <th>3845</th>\n",
       "      <td>1.211</td>\n",
       "      <td>0.883</td>\n",
       "      <td>0.673</td>\n",
       "      <td>15.075</td>\n",
       "      <td>33.486</td>\n",
       "      <td>16.623</td>\n",
       "      <td>3.140</td>\n",
       "      <td>-25.767</td>\n",
       "      <td>-25.704</td>\n",
       "      <td>-21.973</td>\n",
       "      <td>24.793</td>\n",
       "      <td>-25.621</td>\n",
       "      <td>-25.673</td>\n",
       "      <td>-25.775</td>\n",
       "    </tr>\n",
       "    <tr>\n",
       "      <th>19533</th>\n",
       "      <td>1.668</td>\n",
       "      <td>1.553</td>\n",
       "      <td>1.150</td>\n",
       "      <td>15.068</td>\n",
       "      <td>32.486</td>\n",
       "      <td>17.674</td>\n",
       "      <td>2.764</td>\n",
       "      <td>-25.829</td>\n",
       "      <td>-26.002</td>\n",
       "      <td>-21.193</td>\n",
       "      <td>25.282</td>\n",
       "      <td>-25.871</td>\n",
       "      <td>-25.864</td>\n",
       "      <td>-25.874</td>\n",
       "    </tr>\n",
       "    <tr>\n",
       "      <th>37747</th>\n",
       "      <td>1.056</td>\n",
       "      <td>0.828</td>\n",
       "      <td>0.752</td>\n",
       "      <td>15.572</td>\n",
       "      <td>32.294</td>\n",
       "      <td>16.999</td>\n",
       "      <td>3.331</td>\n",
       "      <td>-25.683</td>\n",
       "      <td>-25.652</td>\n",
       "      <td>-21.734</td>\n",
       "      <td>24.761</td>\n",
       "      <td>-25.741</td>\n",
       "      <td>-25.431</td>\n",
       "      <td>-25.682</td>\n",
       "    </tr>\n",
       "    <tr>\n",
       "      <th>...</th>\n",
       "      <td>...</td>\n",
       "      <td>...</td>\n",
       "      <td>...</td>\n",
       "      <td>...</td>\n",
       "      <td>...</td>\n",
       "      <td>...</td>\n",
       "      <td>...</td>\n",
       "      <td>...</td>\n",
       "      <td>...</td>\n",
       "      <td>...</td>\n",
       "      <td>...</td>\n",
       "      <td>...</td>\n",
       "      <td>...</td>\n",
       "      <td>...</td>\n",
       "    </tr>\n",
       "    <tr>\n",
       "      <th>32197</th>\n",
       "      <td>1.841</td>\n",
       "      <td>1.431</td>\n",
       "      <td>1.453</td>\n",
       "      <td>14.111</td>\n",
       "      <td>28.704</td>\n",
       "      <td>17.051</td>\n",
       "      <td>3.700</td>\n",
       "      <td>-25.328</td>\n",
       "      <td>-25.481</td>\n",
       "      <td>-21.489</td>\n",
       "      <td>24.761</td>\n",
       "      <td>-25.130</td>\n",
       "      <td>-25.312</td>\n",
       "      <td>-25.263</td>\n",
       "    </tr>\n",
       "    <tr>\n",
       "      <th>19726</th>\n",
       "      <td>1.747</td>\n",
       "      <td>1.529</td>\n",
       "      <td>1.356</td>\n",
       "      <td>12.844</td>\n",
       "      <td>27.614</td>\n",
       "      <td>17.400</td>\n",
       "      <td>3.217</td>\n",
       "      <td>-25.904</td>\n",
       "      <td>-25.910</td>\n",
       "      <td>-21.907</td>\n",
       "      <td>24.939</td>\n",
       "      <td>-25.759</td>\n",
       "      <td>-25.784</td>\n",
       "      <td>-25.738</td>\n",
       "    </tr>\n",
       "    <tr>\n",
       "      <th>16537</th>\n",
       "      <td>0.824</td>\n",
       "      <td>0.641</td>\n",
       "      <td>0.426</td>\n",
       "      <td>10.815</td>\n",
       "      <td>27.039</td>\n",
       "      <td>15.235</td>\n",
       "      <td>3.395</td>\n",
       "      <td>-27.305</td>\n",
       "      <td>-27.270</td>\n",
       "      <td>-23.855</td>\n",
       "      <td>22.744</td>\n",
       "      <td>-27.300</td>\n",
       "      <td>-27.030</td>\n",
       "      <td>-27.208</td>\n",
       "    </tr>\n",
       "    <tr>\n",
       "      <th>11381</th>\n",
       "      <td>1.133</td>\n",
       "      <td>0.802</td>\n",
       "      <td>0.798</td>\n",
       "      <td>16.117</td>\n",
       "      <td>32.786</td>\n",
       "      <td>16.120</td>\n",
       "      <td>2.882</td>\n",
       "      <td>-27.529</td>\n",
       "      <td>-27.363</td>\n",
       "      <td>-23.028</td>\n",
       "      <td>23.727</td>\n",
       "      <td>-27.142</td>\n",
       "      <td>-27.105</td>\n",
       "      <td>-27.171</td>\n",
       "    </tr>\n",
       "    <tr>\n",
       "      <th>17561</th>\n",
       "      <td>1.203</td>\n",
       "      <td>0.555</td>\n",
       "      <td>0.763</td>\n",
       "      <td>13.560</td>\n",
       "      <td>32.117</td>\n",
       "      <td>16.909</td>\n",
       "      <td>3.550</td>\n",
       "      <td>-25.691</td>\n",
       "      <td>-25.848</td>\n",
       "      <td>-22.586</td>\n",
       "      <td>24.701</td>\n",
       "      <td>-25.768</td>\n",
       "      <td>-25.810</td>\n",
       "      <td>-25.821</td>\n",
       "    </tr>\n",
       "  </tbody>\n",
       "</table>\n",
       "<p>9902 rows × 14 columns</p>\n",
       "</div>"
      ],
      "text/plain": [
       "        Y_01   Y_02   Y_03    Y_04    Y_05    Y_06   Y_07    Y_08    Y_09  \\\n",
       "26267  1.100  0.669  0.497  13.258  30.600  16.605  4.063 -26.046 -26.311   \n",
       "9686   1.264  0.548  0.707  12.993  33.641  16.809  3.230 -26.418 -26.428   \n",
       "3845   1.211  0.883  0.673  15.075  33.486  16.623  3.140 -25.767 -25.704   \n",
       "19533  1.668  1.553  1.150  15.068  32.486  17.674  2.764 -25.829 -26.002   \n",
       "37747  1.056  0.828  0.752  15.572  32.294  16.999  3.331 -25.683 -25.652   \n",
       "...      ...    ...    ...     ...     ...     ...    ...     ...     ...   \n",
       "32197  1.841  1.431  1.453  14.111  28.704  17.051  3.700 -25.328 -25.481   \n",
       "19726  1.747  1.529  1.356  12.844  27.614  17.400  3.217 -25.904 -25.910   \n",
       "16537  0.824  0.641  0.426  10.815  27.039  15.235  3.395 -27.305 -27.270   \n",
       "11381  1.133  0.802  0.798  16.117  32.786  16.120  2.882 -27.529 -27.363   \n",
       "17561  1.203  0.555  0.763  13.560  32.117  16.909  3.550 -25.691 -25.848   \n",
       "\n",
       "         Y_10    Y_11    Y_12    Y_13    Y_14  \n",
       "26267 -23.005  24.146 -26.301 -26.348 -26.237  \n",
       "9686  -22.225  24.515 -26.330 -26.322 -26.353  \n",
       "3845  -21.973  24.793 -25.621 -25.673 -25.775  \n",
       "19533 -21.193  25.282 -25.871 -25.864 -25.874  \n",
       "37747 -21.734  24.761 -25.741 -25.431 -25.682  \n",
       "...       ...     ...     ...     ...     ...  \n",
       "32197 -21.489  24.761 -25.130 -25.312 -25.263  \n",
       "19726 -21.907  24.939 -25.759 -25.784 -25.738  \n",
       "16537 -23.855  22.744 -27.300 -27.030 -27.208  \n",
       "11381 -23.028  23.727 -27.142 -27.105 -27.171  \n",
       "17561 -22.586  24.701 -25.768 -25.810 -25.821  \n",
       "\n",
       "[9902 rows x 14 columns]"
      ]
     },
     "execution_count": 65,
     "metadata": {},
     "output_type": "execute_result"
    }
   ],
   "source": [
    "y_test"
   ]
  },
  {
   "cell_type": "code",
   "execution_count": 66,
   "id": "05a095e4",
   "metadata": {
    "ExecuteTime": {
     "end_time": "2022-08-16T12:56:17.218095Z",
     "start_time": "2022-08-16T12:56:17.202137Z"
    }
   },
   "outputs": [
    {
     "data": {
      "text/plain": [
       "(9902, 14)"
      ]
     },
     "execution_count": 66,
     "metadata": {},
     "output_type": "execute_result"
    }
   ],
   "source": [
    "pred.shape"
   ]
  },
  {
   "cell_type": "code",
   "execution_count": 69,
   "id": "eb8211e7",
   "metadata": {
    "ExecuteTime": {
     "end_time": "2022-08-16T12:56:43.666252Z",
     "start_time": "2022-08-16T12:56:43.646305Z"
    }
   },
   "outputs": [
    {
     "name": "stdout",
     "output_type": "stream",
     "text": [
      "[0.2585291730802704, 0.36219962829722213, 0.35592982005569895, 0.19109341376725766, 0.08059765128520041, 0.12004935054679504, 0.13253389894506237, 0.024076788441728697, 0.023886355660720598, 0.0396287596597299, 0.03345471538767088, 0.023998868839385686, 0.023919889964008376, 0.02404848325845188]\n"
     ]
    },
    {
     "data": {
      "text/plain": [
       "1.9989487420730498"
      ]
     },
     "execution_count": 69,
     "metadata": {},
     "output_type": "execute_result"
    }
   ],
   "source": [
    "lg_nrmse(np.array(y_test), pred)"
   ]
  },
  {
   "cell_type": "code",
   "execution_count": 79,
   "id": "e345cd9d",
   "metadata": {
    "ExecuteTime": {
     "end_time": "2022-08-16T13:04:27.938045Z",
     "start_time": "2022-08-16T13:04:27.923085Z"
    }
   },
   "outputs": [
    {
     "data": {
      "text/html": [
       "<div>\n",
       "<style scoped>\n",
       "    .dataframe tbody tr th:only-of-type {\n",
       "        vertical-align: middle;\n",
       "    }\n",
       "\n",
       "    .dataframe tbody tr th {\n",
       "        vertical-align: top;\n",
       "    }\n",
       "\n",
       "    .dataframe thead th {\n",
       "        text-align: right;\n",
       "    }\n",
       "</style>\n",
       "<table border=\"1\" class=\"dataframe\">\n",
       "  <thead>\n",
       "    <tr style=\"text-align: right;\">\n",
       "      <th></th>\n",
       "      <th>Y_01</th>\n",
       "      <th>Y_02</th>\n",
       "      <th>Y_03</th>\n",
       "      <th>Y_04</th>\n",
       "      <th>Y_05</th>\n",
       "      <th>Y_06</th>\n",
       "      <th>Y_07</th>\n",
       "      <th>Y_08</th>\n",
       "      <th>Y_09</th>\n",
       "      <th>Y_10</th>\n",
       "      <th>Y_11</th>\n",
       "      <th>Y_12</th>\n",
       "      <th>Y_13</th>\n",
       "      <th>Y_14</th>\n",
       "    </tr>\n",
       "  </thead>\n",
       "  <tbody>\n",
       "    <tr>\n",
       "      <th>0</th>\n",
       "      <td>0.259478</td>\n",
       "      <td>0.360865</td>\n",
       "      <td>0.352996</td>\n",
       "      <td>0.187073</td>\n",
       "      <td>0.079103</td>\n",
       "      <td>0.119714</td>\n",
       "      <td>0.130048</td>\n",
       "      <td>0.024186</td>\n",
       "      <td>0.023799</td>\n",
       "      <td>0.039477</td>\n",
       "      <td>0.033371</td>\n",
       "      <td>0.023993</td>\n",
       "      <td>0.023965</td>\n",
       "      <td>0.023989</td>\n",
       "    </tr>\n",
       "  </tbody>\n",
       "</table>\n",
       "</div>"
      ],
      "text/plain": [
       "       Y_01      Y_02      Y_03      Y_04      Y_05      Y_06      Y_07  \\\n",
       "0  0.259478  0.360865  0.352996  0.187073  0.079103  0.119714  0.130048   \n",
       "\n",
       "       Y_08      Y_09      Y_10      Y_11      Y_12      Y_13      Y_14  \n",
       "0  0.024186  0.023799  0.039477  0.033371  0.023993  0.023965  0.023989  "
      ]
     },
     "execution_count": 79,
     "metadata": {},
     "output_type": "execute_result"
    }
   ],
   "source": [
    "pd.DataFrame([0.2594777429390943, 0.3608651752575464, 0.35299554221448104, 0.18707286611813304, 0.07910317604116744, 0.11971384182649097, 0.13004823447152736, 0.024185815130866747, 0.023799344141429164, 0.0394765219333084, 0.03337109441235436, 0.023992849164211377, 0.02396454569120152, 0.02398859789548287], y.columns, ).transpose()"
   ]
  },
  {
   "cell_type": "code",
   "execution_count": 38,
   "id": "d10cf32c",
   "metadata": {
    "ExecuteTime": {
     "end_time": "2022-08-16T12:44:29.991148Z",
     "start_time": "2022-08-16T12:44:29.972196Z"
    }
   },
   "outputs": [
    {
     "data": {
      "text/html": [
       "<div>\n",
       "<style scoped>\n",
       "    .dataframe tbody tr th:only-of-type {\n",
       "        vertical-align: middle;\n",
       "    }\n",
       "\n",
       "    .dataframe tbody tr th {\n",
       "        vertical-align: top;\n",
       "    }\n",
       "\n",
       "    .dataframe thead th {\n",
       "        text-align: right;\n",
       "    }\n",
       "</style>\n",
       "<table border=\"1\" class=\"dataframe\">\n",
       "  <thead>\n",
       "    <tr style=\"text-align: right;\">\n",
       "      <th></th>\n",
       "      <th>Y_01</th>\n",
       "      <th>Y_02</th>\n",
       "      <th>Y_03</th>\n",
       "      <th>Y_04</th>\n",
       "      <th>Y_05</th>\n",
       "      <th>Y_06</th>\n",
       "      <th>Y_07</th>\n",
       "      <th>Y_08</th>\n",
       "      <th>Y_09</th>\n",
       "      <th>Y_10</th>\n",
       "      <th>Y_11</th>\n",
       "      <th>Y_12</th>\n",
       "      <th>Y_13</th>\n",
       "      <th>Y_14</th>\n",
       "    </tr>\n",
       "  </thead>\n",
       "  <tbody>\n",
       "    <tr>\n",
       "      <th>0</th>\n",
       "      <td>2.056</td>\n",
       "      <td>1.456</td>\n",
       "      <td>1.680</td>\n",
       "      <td>10.502</td>\n",
       "      <td>29.632</td>\n",
       "      <td>16.083</td>\n",
       "      <td>4.276</td>\n",
       "      <td>-25.381</td>\n",
       "      <td>-25.529</td>\n",
       "      <td>-22.769</td>\n",
       "      <td>23.792</td>\n",
       "      <td>-25.470</td>\n",
       "      <td>-25.409</td>\n",
       "      <td>-25.304</td>\n",
       "    </tr>\n",
       "    <tr>\n",
       "      <th>1</th>\n",
       "      <td>1.446</td>\n",
       "      <td>1.184</td>\n",
       "      <td>1.268</td>\n",
       "      <td>18.507</td>\n",
       "      <td>33.179</td>\n",
       "      <td>16.736</td>\n",
       "      <td>3.229</td>\n",
       "      <td>-26.619</td>\n",
       "      <td>-26.523</td>\n",
       "      <td>-22.574</td>\n",
       "      <td>24.691</td>\n",
       "      <td>-26.253</td>\n",
       "      <td>-26.497</td>\n",
       "      <td>-26.438</td>\n",
       "    </tr>\n",
       "    <tr>\n",
       "      <th>2</th>\n",
       "      <td>1.251</td>\n",
       "      <td>0.665</td>\n",
       "      <td>0.782</td>\n",
       "      <td>14.082</td>\n",
       "      <td>31.801</td>\n",
       "      <td>17.080</td>\n",
       "      <td>2.839</td>\n",
       "      <td>-26.238</td>\n",
       "      <td>-26.216</td>\n",
       "      <td>-22.169</td>\n",
       "      <td>24.649</td>\n",
       "      <td>-26.285</td>\n",
       "      <td>-26.215</td>\n",
       "      <td>-26.370</td>\n",
       "    </tr>\n",
       "    <tr>\n",
       "      <th>3</th>\n",
       "      <td>1.464</td>\n",
       "      <td>1.079</td>\n",
       "      <td>1.052</td>\n",
       "      <td>16.975</td>\n",
       "      <td>34.503</td>\n",
       "      <td>17.143</td>\n",
       "      <td>3.144</td>\n",
       "      <td>-25.426</td>\n",
       "      <td>-25.079</td>\n",
       "      <td>-21.765</td>\n",
       "      <td>24.913</td>\n",
       "      <td>-25.254</td>\n",
       "      <td>-25.021</td>\n",
       "      <td>-25.345</td>\n",
       "    </tr>\n",
       "    <tr>\n",
       "      <th>4</th>\n",
       "      <td>0.983</td>\n",
       "      <td>0.646</td>\n",
       "      <td>0.689</td>\n",
       "      <td>15.047</td>\n",
       "      <td>32.602</td>\n",
       "      <td>17.569</td>\n",
       "      <td>3.138</td>\n",
       "      <td>-25.376</td>\n",
       "      <td>-25.242</td>\n",
       "      <td>-21.072</td>\n",
       "      <td>25.299</td>\n",
       "      <td>-25.072</td>\n",
       "      <td>-25.195</td>\n",
       "      <td>-24.974</td>\n",
       "    </tr>\n",
       "    <tr>\n",
       "      <th>...</th>\n",
       "      <td>...</td>\n",
       "      <td>...</td>\n",
       "      <td>...</td>\n",
       "      <td>...</td>\n",
       "      <td>...</td>\n",
       "      <td>...</td>\n",
       "      <td>...</td>\n",
       "      <td>...</td>\n",
       "      <td>...</td>\n",
       "      <td>...</td>\n",
       "      <td>...</td>\n",
       "      <td>...</td>\n",
       "      <td>...</td>\n",
       "      <td>...</td>\n",
       "    </tr>\n",
       "    <tr>\n",
       "      <th>39602</th>\n",
       "      <td>1.382</td>\n",
       "      <td>1.215</td>\n",
       "      <td>1.263</td>\n",
       "      <td>10.874</td>\n",
       "      <td>29.194</td>\n",
       "      <td>16.582</td>\n",
       "      <td>3.410</td>\n",
       "      <td>-26.486</td>\n",
       "      <td>-26.581</td>\n",
       "      <td>-22.772</td>\n",
       "      <td>24.261</td>\n",
       "      <td>-26.491</td>\n",
       "      <td>-26.584</td>\n",
       "      <td>-26.580</td>\n",
       "    </tr>\n",
       "    <tr>\n",
       "      <th>39603</th>\n",
       "      <td>1.482</td>\n",
       "      <td>0.606</td>\n",
       "      <td>1.083</td>\n",
       "      <td>8.759</td>\n",
       "      <td>29.859</td>\n",
       "      <td>15.659</td>\n",
       "      <td>3.406</td>\n",
       "      <td>-27.308</td>\n",
       "      <td>-27.203</td>\n",
       "      <td>-24.674</td>\n",
       "      <td>23.427</td>\n",
       "      <td>-27.250</td>\n",
       "      <td>-27.334</td>\n",
       "      <td>-27.325</td>\n",
       "    </tr>\n",
       "    <tr>\n",
       "      <th>39604</th>\n",
       "      <td>1.117</td>\n",
       "      <td>1.154</td>\n",
       "      <td>0.993</td>\n",
       "      <td>13.159</td>\n",
       "      <td>24.720</td>\n",
       "      <td>16.823</td>\n",
       "      <td>3.215</td>\n",
       "      <td>-26.502</td>\n",
       "      <td>-26.687</td>\n",
       "      <td>-22.577</td>\n",
       "      <td>24.301</td>\n",
       "      <td>-26.388</td>\n",
       "      <td>-26.425</td>\n",
       "      <td>-26.601</td>\n",
       "    </tr>\n",
       "    <tr>\n",
       "      <th>39605</th>\n",
       "      <td>0.895</td>\n",
       "      <td>0.187</td>\n",
       "      <td>0.477</td>\n",
       "      <td>9.123</td>\n",
       "      <td>26.412</td>\n",
       "      <td>15.757</td>\n",
       "      <td>4.216</td>\n",
       "      <td>-26.760</td>\n",
       "      <td>-26.634</td>\n",
       "      <td>-24.066</td>\n",
       "      <td>23.305</td>\n",
       "      <td>-26.536</td>\n",
       "      <td>-26.751</td>\n",
       "      <td>-26.635</td>\n",
       "    </tr>\n",
       "    <tr>\n",
       "      <th>39606</th>\n",
       "      <td>1.147</td>\n",
       "      <td>0.348</td>\n",
       "      <td>0.852</td>\n",
       "      <td>10.421</td>\n",
       "      <td>30.745</td>\n",
       "      <td>16.781</td>\n",
       "      <td>3.307</td>\n",
       "      <td>-26.054</td>\n",
       "      <td>-26.251</td>\n",
       "      <td>-23.257</td>\n",
       "      <td>24.450</td>\n",
       "      <td>-26.224</td>\n",
       "      <td>-26.256</td>\n",
       "      <td>-26.093</td>\n",
       "    </tr>\n",
       "  </tbody>\n",
       "</table>\n",
       "<p>39607 rows × 14 columns</p>\n",
       "</div>"
      ],
      "text/plain": [
       "        Y_01   Y_02   Y_03    Y_04    Y_05    Y_06   Y_07    Y_08    Y_09  \\\n",
       "0      2.056  1.456  1.680  10.502  29.632  16.083  4.276 -25.381 -25.529   \n",
       "1      1.446  1.184  1.268  18.507  33.179  16.736  3.229 -26.619 -26.523   \n",
       "2      1.251  0.665  0.782  14.082  31.801  17.080  2.839 -26.238 -26.216   \n",
       "3      1.464  1.079  1.052  16.975  34.503  17.143  3.144 -25.426 -25.079   \n",
       "4      0.983  0.646  0.689  15.047  32.602  17.569  3.138 -25.376 -25.242   \n",
       "...      ...    ...    ...     ...     ...     ...    ...     ...     ...   \n",
       "39602  1.382  1.215  1.263  10.874  29.194  16.582  3.410 -26.486 -26.581   \n",
       "39603  1.482  0.606  1.083   8.759  29.859  15.659  3.406 -27.308 -27.203   \n",
       "39604  1.117  1.154  0.993  13.159  24.720  16.823  3.215 -26.502 -26.687   \n",
       "39605  0.895  0.187  0.477   9.123  26.412  15.757  4.216 -26.760 -26.634   \n",
       "39606  1.147  0.348  0.852  10.421  30.745  16.781  3.307 -26.054 -26.251   \n",
       "\n",
       "         Y_10    Y_11    Y_12    Y_13    Y_14  \n",
       "0     -22.769  23.792 -25.470 -25.409 -25.304  \n",
       "1     -22.574  24.691 -26.253 -26.497 -26.438  \n",
       "2     -22.169  24.649 -26.285 -26.215 -26.370  \n",
       "3     -21.765  24.913 -25.254 -25.021 -25.345  \n",
       "4     -21.072  25.299 -25.072 -25.195 -24.974  \n",
       "...       ...     ...     ...     ...     ...  \n",
       "39602 -22.772  24.261 -26.491 -26.584 -26.580  \n",
       "39603 -24.674  23.427 -27.250 -27.334 -27.325  \n",
       "39604 -22.577  24.301 -26.388 -26.425 -26.601  \n",
       "39605 -24.066  23.305 -26.536 -26.751 -26.635  \n",
       "39606 -23.257  24.450 -26.224 -26.256 -26.093  \n",
       "\n",
       "[39607 rows x 14 columns]"
      ]
     },
     "execution_count": 38,
     "metadata": {},
     "output_type": "execute_result"
    }
   ],
   "source": [
    "X_test[\"Y_11\"] = model.predict()"
   ]
  },
  {
   "cell_type": "code",
   "execution_count": 73,
   "id": "a887f7b1",
   "metadata": {
    "ExecuteTime": {
     "end_time": "2022-08-16T13:00:00.056644Z",
     "start_time": "2022-08-16T12:59:57.682577Z"
    }
   },
   "outputs": [],
   "source": [
    "test[\"Y_11\"] = model.predict(test[list(test.columns[1:])])\n",
    "pred = model_2.predict(test[list(test.columns[1:])])"
   ]
  },
  {
   "cell_type": "code",
   "execution_count": null,
   "id": "69ea5b6a",
   "metadata": {},
   "outputs": [],
   "source": []
  },
  {
   "cell_type": "code",
   "execution_count": null,
   "id": "cbc1ac08",
   "metadata": {},
   "outputs": [],
   "source": []
  },
  {
   "cell_type": "code",
   "execution_count": null,
   "id": "8b7140c6",
   "metadata": {},
   "outputs": [],
   "source": []
  },
  {
   "cell_type": "markdown",
   "id": "eb2cc04c",
   "metadata": {},
   "source": [
    "# Submission"
   ]
  },
  {
   "cell_type": "code",
   "execution_count": 81,
   "id": "93c77910",
   "metadata": {
    "ExecuteTime": {
     "end_time": "2022-08-13T14:22:00.230181Z",
     "start_time": "2022-08-13T14:22:00.021297Z"
    }
   },
   "outputs": [
    {
     "ename": "ValueError",
     "evalue": "Columns must be same length as key",
     "output_type": "error",
     "traceback": [
      "\u001b[1;31m---------------------------------------------------------------------------\u001b[0m",
      "\u001b[1;31mValueError\u001b[0m                                Traceback (most recent call last)",
      "Input \u001b[1;32mIn [81]\u001b[0m, in \u001b[0;36m<cell line: 1>\u001b[1;34m()\u001b[0m\n\u001b[1;32m----> 1\u001b[0m submission[\u001b[38;5;28mlist\u001b[39m(submission\u001b[38;5;241m.\u001b[39mcolumns[\u001b[38;5;241m1\u001b[39m:])] \u001b[38;5;241m=\u001b[39m model\u001b[38;5;241m.\u001b[39mpredict(test[\u001b[38;5;28mlist\u001b[39m(test\u001b[38;5;241m.\u001b[39mcolumns[\u001b[38;5;241m1\u001b[39m:\u001b[38;5;241m57\u001b[39m])])\n",
      "File \u001b[1;32m~\\anaconda3\\envs\\python3.9.0\\lib\\site-packages\\pandas\\core\\frame.py:3643\u001b[0m, in \u001b[0;36mDataFrame.__setitem__\u001b[1;34m(self, key, value)\u001b[0m\n\u001b[0;32m   3641\u001b[0m     \u001b[38;5;28mself\u001b[39m\u001b[38;5;241m.\u001b[39m_setitem_frame(key, value)\n\u001b[0;32m   3642\u001b[0m \u001b[38;5;28;01melif\u001b[39;00m \u001b[38;5;28misinstance\u001b[39m(key, (Series, np\u001b[38;5;241m.\u001b[39mndarray, \u001b[38;5;28mlist\u001b[39m, Index)):\n\u001b[1;32m-> 3643\u001b[0m     \u001b[38;5;28;43mself\u001b[39;49m\u001b[38;5;241;43m.\u001b[39;49m\u001b[43m_setitem_array\u001b[49m\u001b[43m(\u001b[49m\u001b[43mkey\u001b[49m\u001b[43m,\u001b[49m\u001b[43m \u001b[49m\u001b[43mvalue\u001b[49m\u001b[43m)\u001b[49m\n\u001b[0;32m   3644\u001b[0m \u001b[38;5;28;01melif\u001b[39;00m \u001b[38;5;28misinstance\u001b[39m(value, DataFrame):\n\u001b[0;32m   3645\u001b[0m     \u001b[38;5;28mself\u001b[39m\u001b[38;5;241m.\u001b[39m_set_item_frame_value(key, value)\n",
      "File \u001b[1;32m~\\anaconda3\\envs\\python3.9.0\\lib\\site-packages\\pandas\\core\\frame.py:3702\u001b[0m, in \u001b[0;36mDataFrame._setitem_array\u001b[1;34m(self, key, value)\u001b[0m\n\u001b[0;32m   3699\u001b[0m     \u001b[38;5;28;01mreturn\u001b[39;00m \u001b[38;5;28mself\u001b[39m\u001b[38;5;241m.\u001b[39m_setitem_array(key, value)\n\u001b[0;32m   3701\u001b[0m \u001b[38;5;28;01melse\u001b[39;00m:\n\u001b[1;32m-> 3702\u001b[0m     \u001b[38;5;28;43mself\u001b[39;49m\u001b[38;5;241;43m.\u001b[39;49m\u001b[43m_iset_not_inplace\u001b[49m\u001b[43m(\u001b[49m\u001b[43mkey\u001b[49m\u001b[43m,\u001b[49m\u001b[43m \u001b[49m\u001b[43mvalue\u001b[49m\u001b[43m)\u001b[49m\n",
      "File \u001b[1;32m~\\anaconda3\\envs\\python3.9.0\\lib\\site-packages\\pandas\\core\\frame.py:3721\u001b[0m, in \u001b[0;36mDataFrame._iset_not_inplace\u001b[1;34m(self, key, value)\u001b[0m\n\u001b[0;32m   3719\u001b[0m \u001b[38;5;28;01mif\u001b[39;00m \u001b[38;5;28mself\u001b[39m\u001b[38;5;241m.\u001b[39mcolumns\u001b[38;5;241m.\u001b[39mis_unique:\n\u001b[0;32m   3720\u001b[0m     \u001b[38;5;28;01mif\u001b[39;00m np\u001b[38;5;241m.\u001b[39mshape(value)[\u001b[38;5;241m-\u001b[39m\u001b[38;5;241m1\u001b[39m] \u001b[38;5;241m!=\u001b[39m \u001b[38;5;28mlen\u001b[39m(key):\n\u001b[1;32m-> 3721\u001b[0m         \u001b[38;5;28;01mraise\u001b[39;00m \u001b[38;5;167;01mValueError\u001b[39;00m(\u001b[38;5;124m\"\u001b[39m\u001b[38;5;124mColumns must be same length as key\u001b[39m\u001b[38;5;124m\"\u001b[39m)\n\u001b[0;32m   3723\u001b[0m     \u001b[38;5;28;01mfor\u001b[39;00m i, col \u001b[38;5;129;01min\u001b[39;00m \u001b[38;5;28menumerate\u001b[39m(key):\n\u001b[0;32m   3724\u001b[0m         \u001b[38;5;28mself\u001b[39m[col] \u001b[38;5;241m=\u001b[39m igetitem(value, i)\n",
      "\u001b[1;31mValueError\u001b[0m: Columns must be same length as key"
     ]
    }
   ],
   "source": [
    "submission[list(submission.columns[1:])] = model.predict(test[list(test.columns[1:57])])"
   ]
  },
  {
   "cell_type": "code",
   "execution_count": 11,
   "id": "f2104731",
   "metadata": {
    "ExecuteTime": {
     "end_time": "2022-08-13T13:52:32.432715Z",
     "start_time": "2022-08-13T13:52:32.404693Z"
    }
   },
   "outputs": [
    {
     "data": {
      "text/html": [
       "<div>\n",
       "<style scoped>\n",
       "    .dataframe tbody tr th:only-of-type {\n",
       "        vertical-align: middle;\n",
       "    }\n",
       "\n",
       "    .dataframe tbody tr th {\n",
       "        vertical-align: top;\n",
       "    }\n",
       "\n",
       "    .dataframe thead th {\n",
       "        text-align: right;\n",
       "    }\n",
       "</style>\n",
       "<table border=\"1\" class=\"dataframe\">\n",
       "  <thead>\n",
       "    <tr style=\"text-align: right;\">\n",
       "      <th></th>\n",
       "      <th>Y_01</th>\n",
       "      <th>Y_02</th>\n",
       "      <th>Y_03</th>\n",
       "      <th>Y_04</th>\n",
       "      <th>Y_05</th>\n",
       "      <th>Y_06</th>\n",
       "      <th>Y_07</th>\n",
       "      <th>Y_08</th>\n",
       "      <th>Y_09</th>\n",
       "      <th>Y_10</th>\n",
       "      <th>Y_11</th>\n",
       "      <th>Y_12</th>\n",
       "      <th>Y_13</th>\n",
       "      <th>Y_14</th>\n",
       "    </tr>\n",
       "  </thead>\n",
       "  <tbody>\n",
       "    <tr>\n",
       "      <th>0</th>\n",
       "      <td>1.37042</td>\n",
       "      <td>1.08067</td>\n",
       "      <td>1.02674</td>\n",
       "      <td>14.13674</td>\n",
       "      <td>31.41828</td>\n",
       "      <td>16.65789</td>\n",
       "      <td>3.08395</td>\n",
       "      <td>-26.19325</td>\n",
       "      <td>-26.22382</td>\n",
       "      <td>-22.29272</td>\n",
       "      <td>24.39037</td>\n",
       "      <td>-26.18821</td>\n",
       "      <td>-26.14404</td>\n",
       "      <td>-26.17236</td>\n",
       "    </tr>\n",
       "    <tr>\n",
       "      <th>1</th>\n",
       "      <td>1.42886</td>\n",
       "      <td>1.17319</td>\n",
       "      <td>1.09452</td>\n",
       "      <td>13.65158</td>\n",
       "      <td>31.15232</td>\n",
       "      <td>16.22329</td>\n",
       "      <td>3.15314</td>\n",
       "      <td>-26.19807</td>\n",
       "      <td>-26.24616</td>\n",
       "      <td>-22.39741</td>\n",
       "      <td>24.30276</td>\n",
       "      <td>-26.15097</td>\n",
       "      <td>-26.16346</td>\n",
       "      <td>-26.16413</td>\n",
       "    </tr>\n",
       "    <tr>\n",
       "      <th>2</th>\n",
       "      <td>1.21642</td>\n",
       "      <td>0.95266</td>\n",
       "      <td>0.86042</td>\n",
       "      <td>14.38804</td>\n",
       "      <td>31.22530</td>\n",
       "      <td>16.52038</td>\n",
       "      <td>3.18037</td>\n",
       "      <td>-26.02520</td>\n",
       "      <td>-26.06254</td>\n",
       "      <td>-22.37890</td>\n",
       "      <td>24.24936</td>\n",
       "      <td>-25.99856</td>\n",
       "      <td>-25.96044</td>\n",
       "      <td>-26.01583</td>\n",
       "    </tr>\n",
       "    <tr>\n",
       "      <th>3</th>\n",
       "      <td>1.40970</td>\n",
       "      <td>1.11500</td>\n",
       "      <td>1.02503</td>\n",
       "      <td>14.51187</td>\n",
       "      <td>31.67424</td>\n",
       "      <td>16.93885</td>\n",
       "      <td>3.26058</td>\n",
       "      <td>-25.85866</td>\n",
       "      <td>-25.86165</td>\n",
       "      <td>-22.01656</td>\n",
       "      <td>24.63577</td>\n",
       "      <td>-25.81670</td>\n",
       "      <td>-25.80881</td>\n",
       "      <td>-25.79592</td>\n",
       "    </tr>\n",
       "    <tr>\n",
       "      <th>4</th>\n",
       "      <td>1.44573</td>\n",
       "      <td>1.14124</td>\n",
       "      <td>1.03202</td>\n",
       "      <td>15.46684</td>\n",
       "      <td>32.48300</td>\n",
       "      <td>17.30291</td>\n",
       "      <td>3.03163</td>\n",
       "      <td>-25.54372</td>\n",
       "      <td>-25.56196</td>\n",
       "      <td>-21.71003</td>\n",
       "      <td>25.04654</td>\n",
       "      <td>-25.48317</td>\n",
       "      <td>-25.45379</td>\n",
       "      <td>-25.47709</td>\n",
       "    </tr>\n",
       "    <tr>\n",
       "      <th>...</th>\n",
       "      <td>...</td>\n",
       "      <td>...</td>\n",
       "      <td>...</td>\n",
       "      <td>...</td>\n",
       "      <td>...</td>\n",
       "      <td>...</td>\n",
       "      <td>...</td>\n",
       "      <td>...</td>\n",
       "      <td>...</td>\n",
       "      <td>...</td>\n",
       "      <td>...</td>\n",
       "      <td>...</td>\n",
       "      <td>...</td>\n",
       "      <td>...</td>\n",
       "    </tr>\n",
       "    <tr>\n",
       "      <th>39603</th>\n",
       "      <td>1.23272</td>\n",
       "      <td>0.89982</td>\n",
       "      <td>0.91766</td>\n",
       "      <td>12.98898</td>\n",
       "      <td>30.89798</td>\n",
       "      <td>16.54172</td>\n",
       "      <td>3.28001</td>\n",
       "      <td>-26.44070</td>\n",
       "      <td>-26.43320</td>\n",
       "      <td>-22.63336</td>\n",
       "      <td>24.22475</td>\n",
       "      <td>-26.36413</td>\n",
       "      <td>-26.35827</td>\n",
       "      <td>-26.37433</td>\n",
       "    </tr>\n",
       "    <tr>\n",
       "      <th>39604</th>\n",
       "      <td>1.29859</td>\n",
       "      <td>0.92517</td>\n",
       "      <td>0.97948</td>\n",
       "      <td>13.00220</td>\n",
       "      <td>30.86109</td>\n",
       "      <td>16.49300</td>\n",
       "      <td>3.28951</td>\n",
       "      <td>-26.47837</td>\n",
       "      <td>-26.49514</td>\n",
       "      <td>-22.71105</td>\n",
       "      <td>24.17363</td>\n",
       "      <td>-26.42971</td>\n",
       "      <td>-26.43080</td>\n",
       "      <td>-26.43203</td>\n",
       "    </tr>\n",
       "    <tr>\n",
       "      <th>39605</th>\n",
       "      <td>1.28119</td>\n",
       "      <td>0.94297</td>\n",
       "      <td>0.95854</td>\n",
       "      <td>12.92747</td>\n",
       "      <td>30.85459</td>\n",
       "      <td>16.48530</td>\n",
       "      <td>3.17961</td>\n",
       "      <td>-26.53564</td>\n",
       "      <td>-26.54602</td>\n",
       "      <td>-22.82558</td>\n",
       "      <td>24.17078</td>\n",
       "      <td>-26.47484</td>\n",
       "      <td>-26.45665</td>\n",
       "      <td>-26.49213</td>\n",
       "    </tr>\n",
       "    <tr>\n",
       "      <th>39606</th>\n",
       "      <td>1.23907</td>\n",
       "      <td>0.88723</td>\n",
       "      <td>0.92271</td>\n",
       "      <td>13.16475</td>\n",
       "      <td>30.97334</td>\n",
       "      <td>16.53911</td>\n",
       "      <td>3.21328</td>\n",
       "      <td>-26.51936</td>\n",
       "      <td>-26.50770</td>\n",
       "      <td>-22.76473</td>\n",
       "      <td>24.21642</td>\n",
       "      <td>-26.46513</td>\n",
       "      <td>-26.44715</td>\n",
       "      <td>-26.45363</td>\n",
       "    </tr>\n",
       "    <tr>\n",
       "      <th>39607</th>\n",
       "      <td>1.23372</td>\n",
       "      <td>0.98117</td>\n",
       "      <td>0.96123</td>\n",
       "      <td>12.41517</td>\n",
       "      <td>30.23002</td>\n",
       "      <td>16.31155</td>\n",
       "      <td>3.25189</td>\n",
       "      <td>-26.67982</td>\n",
       "      <td>-26.68190</td>\n",
       "      <td>-22.95654</td>\n",
       "      <td>23.97622</td>\n",
       "      <td>-26.62453</td>\n",
       "      <td>-26.61673</td>\n",
       "      <td>-26.64081</td>\n",
       "    </tr>\n",
       "  </tbody>\n",
       "</table>\n",
       "<p>39608 rows × 14 columns</p>\n",
       "</div>"
      ],
      "text/plain": [
       "          Y_01     Y_02     Y_03      Y_04      Y_05      Y_06     Y_07  \\\n",
       "0      1.37042  1.08067  1.02674  14.13674  31.41828  16.65789  3.08395   \n",
       "1      1.42886  1.17319  1.09452  13.65158  31.15232  16.22329  3.15314   \n",
       "2      1.21642  0.95266  0.86042  14.38804  31.22530  16.52038  3.18037   \n",
       "3      1.40970  1.11500  1.02503  14.51187  31.67424  16.93885  3.26058   \n",
       "4      1.44573  1.14124  1.03202  15.46684  32.48300  17.30291  3.03163   \n",
       "...        ...      ...      ...       ...       ...       ...      ...   \n",
       "39603  1.23272  0.89982  0.91766  12.98898  30.89798  16.54172  3.28001   \n",
       "39604  1.29859  0.92517  0.97948  13.00220  30.86109  16.49300  3.28951   \n",
       "39605  1.28119  0.94297  0.95854  12.92747  30.85459  16.48530  3.17961   \n",
       "39606  1.23907  0.88723  0.92271  13.16475  30.97334  16.53911  3.21328   \n",
       "39607  1.23372  0.98117  0.96123  12.41517  30.23002  16.31155  3.25189   \n",
       "\n",
       "           Y_08      Y_09      Y_10      Y_11      Y_12      Y_13      Y_14  \n",
       "0     -26.19325 -26.22382 -22.29272  24.39037 -26.18821 -26.14404 -26.17236  \n",
       "1     -26.19807 -26.24616 -22.39741  24.30276 -26.15097 -26.16346 -26.16413  \n",
       "2     -26.02520 -26.06254 -22.37890  24.24936 -25.99856 -25.96044 -26.01583  \n",
       "3     -25.85866 -25.86165 -22.01656  24.63577 -25.81670 -25.80881 -25.79592  \n",
       "4     -25.54372 -25.56196 -21.71003  25.04654 -25.48317 -25.45379 -25.47709  \n",
       "...         ...       ...       ...       ...       ...       ...       ...  \n",
       "39603 -26.44070 -26.43320 -22.63336  24.22475 -26.36413 -26.35827 -26.37433  \n",
       "39604 -26.47837 -26.49514 -22.71105  24.17363 -26.42971 -26.43080 -26.43203  \n",
       "39605 -26.53564 -26.54602 -22.82558  24.17078 -26.47484 -26.45665 -26.49213  \n",
       "39606 -26.51936 -26.50770 -22.76473  24.21642 -26.46513 -26.44715 -26.45363  \n",
       "39607 -26.67982 -26.68190 -22.95654  23.97622 -26.62453 -26.61673 -26.64081  \n",
       "\n",
       "[39608 rows x 14 columns]"
      ]
     },
     "execution_count": 11,
     "metadata": {},
     "output_type": "execute_result"
    }
   ],
   "source": [
    "submission[list(submission.columns[1:])]"
   ]
  },
  {
   "cell_type": "code",
   "execution_count": 36,
   "id": "6fd8fcd6",
   "metadata": {
    "ExecuteTime": {
     "end_time": "2022-08-11T08:14:24.969291Z",
     "start_time": "2022-08-11T08:14:24.319661Z"
    }
   },
   "outputs": [],
   "source": [
    "submission.to_csv(\"./base_submission.csv\", index=None)"
   ]
  },
  {
   "cell_type": "code",
   "execution_count": 76,
   "id": "5e832364",
   "metadata": {
    "ExecuteTime": {
     "end_time": "2022-08-16T13:00:22.720304Z",
     "start_time": "2022-08-16T13:00:22.694301Z"
    }
   },
   "outputs": [],
   "source": [
    "submission[list(submission.columns[1:])] = pred"
   ]
  },
  {
   "cell_type": "code",
   "execution_count": 77,
   "id": "cc6fa2db",
   "metadata": {
    "ExecuteTime": {
     "end_time": "2022-08-16T13:00:24.372540Z",
     "start_time": "2022-08-16T13:00:24.349575Z"
    }
   },
   "outputs": [
    {
     "data": {
      "text/html": [
       "<div>\n",
       "<style scoped>\n",
       "    .dataframe tbody tr th:only-of-type {\n",
       "        vertical-align: middle;\n",
       "    }\n",
       "\n",
       "    .dataframe tbody tr th {\n",
       "        vertical-align: top;\n",
       "    }\n",
       "\n",
       "    .dataframe thead th {\n",
       "        text-align: right;\n",
       "    }\n",
       "</style>\n",
       "<table border=\"1\" class=\"dataframe\">\n",
       "  <thead>\n",
       "    <tr style=\"text-align: right;\">\n",
       "      <th></th>\n",
       "      <th>ID</th>\n",
       "      <th>Y_01</th>\n",
       "      <th>Y_02</th>\n",
       "      <th>Y_03</th>\n",
       "      <th>Y_04</th>\n",
       "      <th>Y_05</th>\n",
       "      <th>Y_06</th>\n",
       "      <th>Y_07</th>\n",
       "      <th>Y_08</th>\n",
       "      <th>Y_09</th>\n",
       "      <th>Y_10</th>\n",
       "      <th>Y_11</th>\n",
       "      <th>Y_12</th>\n",
       "      <th>Y_13</th>\n",
       "      <th>Y_14</th>\n",
       "    </tr>\n",
       "  </thead>\n",
       "  <tbody>\n",
       "    <tr>\n",
       "      <th>0</th>\n",
       "      <td>TEST_00001</td>\n",
       "      <td>1.35715</td>\n",
       "      <td>1.03671</td>\n",
       "      <td>0.99336</td>\n",
       "      <td>14.09131</td>\n",
       "      <td>31.69138</td>\n",
       "      <td>16.72478</td>\n",
       "      <td>3.07788</td>\n",
       "      <td>-26.13267</td>\n",
       "      <td>-26.13365</td>\n",
       "      <td>-22.18535</td>\n",
       "      <td>24.48519</td>\n",
       "      <td>-26.05869</td>\n",
       "      <td>-26.03910</td>\n",
       "      <td>-26.07058</td>\n",
       "    </tr>\n",
       "    <tr>\n",
       "      <th>1</th>\n",
       "      <td>TEST_00002</td>\n",
       "      <td>1.42831</td>\n",
       "      <td>1.12109</td>\n",
       "      <td>1.02897</td>\n",
       "      <td>13.69207</td>\n",
       "      <td>31.43461</td>\n",
       "      <td>16.85669</td>\n",
       "      <td>3.10026</td>\n",
       "      <td>-26.02814</td>\n",
       "      <td>-26.04793</td>\n",
       "      <td>-22.01384</td>\n",
       "      <td>24.56186</td>\n",
       "      <td>-25.95946</td>\n",
       "      <td>-25.98444</td>\n",
       "      <td>-25.99097</td>\n",
       "    </tr>\n",
       "    <tr>\n",
       "      <th>2</th>\n",
       "      <td>TEST_00003</td>\n",
       "      <td>1.36997</td>\n",
       "      <td>1.06288</td>\n",
       "      <td>1.02683</td>\n",
       "      <td>13.41389</td>\n",
       "      <td>31.46871</td>\n",
       "      <td>16.40396</td>\n",
       "      <td>3.07858</td>\n",
       "      <td>-26.24907</td>\n",
       "      <td>-26.27106</td>\n",
       "      <td>-22.34511</td>\n",
       "      <td>24.45382</td>\n",
       "      <td>-26.17200</td>\n",
       "      <td>-26.19355</td>\n",
       "      <td>-26.18957</td>\n",
       "    </tr>\n",
       "    <tr>\n",
       "      <th>3</th>\n",
       "      <td>TEST_00004</td>\n",
       "      <td>1.44211</td>\n",
       "      <td>1.18059</td>\n",
       "      <td>1.05732</td>\n",
       "      <td>14.99515</td>\n",
       "      <td>32.40908</td>\n",
       "      <td>16.55465</td>\n",
       "      <td>2.92662</td>\n",
       "      <td>-25.73173</td>\n",
       "      <td>-25.75175</td>\n",
       "      <td>-21.90083</td>\n",
       "      <td>25.04108</td>\n",
       "      <td>-25.70984</td>\n",
       "      <td>-25.70497</td>\n",
       "      <td>-25.70435</td>\n",
       "    </tr>\n",
       "    <tr>\n",
       "      <th>4</th>\n",
       "      <td>TEST_00005</td>\n",
       "      <td>1.41916</td>\n",
       "      <td>1.09096</td>\n",
       "      <td>1.01876</td>\n",
       "      <td>14.41536</td>\n",
       "      <td>32.13287</td>\n",
       "      <td>17.22580</td>\n",
       "      <td>3.01528</td>\n",
       "      <td>-25.73981</td>\n",
       "      <td>-25.75782</td>\n",
       "      <td>-21.84433</td>\n",
       "      <td>24.96186</td>\n",
       "      <td>-25.70938</td>\n",
       "      <td>-25.72326</td>\n",
       "      <td>-25.71942</td>\n",
       "    </tr>\n",
       "    <tr>\n",
       "      <th>...</th>\n",
       "      <td>...</td>\n",
       "      <td>...</td>\n",
       "      <td>...</td>\n",
       "      <td>...</td>\n",
       "      <td>...</td>\n",
       "      <td>...</td>\n",
       "      <td>...</td>\n",
       "      <td>...</td>\n",
       "      <td>...</td>\n",
       "      <td>...</td>\n",
       "      <td>...</td>\n",
       "      <td>...</td>\n",
       "      <td>...</td>\n",
       "      <td>...</td>\n",
       "      <td>...</td>\n",
       "    </tr>\n",
       "    <tr>\n",
       "      <th>39603</th>\n",
       "      <td>TEST_39604</td>\n",
       "      <td>1.28790</td>\n",
       "      <td>0.92080</td>\n",
       "      <td>0.91305</td>\n",
       "      <td>14.44741</td>\n",
       "      <td>32.25306</td>\n",
       "      <td>16.99792</td>\n",
       "      <td>3.03814</td>\n",
       "      <td>-26.19200</td>\n",
       "      <td>-26.19888</td>\n",
       "      <td>-22.31393</td>\n",
       "      <td>24.70607</td>\n",
       "      <td>-26.12315</td>\n",
       "      <td>-26.10704</td>\n",
       "      <td>-26.12000</td>\n",
       "    </tr>\n",
       "    <tr>\n",
       "      <th>39604</th>\n",
       "      <td>TEST_39605</td>\n",
       "      <td>1.32271</td>\n",
       "      <td>0.97324</td>\n",
       "      <td>0.97803</td>\n",
       "      <td>15.14405</td>\n",
       "      <td>31.78722</td>\n",
       "      <td>16.99181</td>\n",
       "      <td>3.07120</td>\n",
       "      <td>-26.20886</td>\n",
       "      <td>-26.22867</td>\n",
       "      <td>-22.33916</td>\n",
       "      <td>24.68012</td>\n",
       "      <td>-26.13987</td>\n",
       "      <td>-26.13783</td>\n",
       "      <td>-26.14408</td>\n",
       "    </tr>\n",
       "    <tr>\n",
       "      <th>39605</th>\n",
       "      <td>TEST_39606</td>\n",
       "      <td>1.25544</td>\n",
       "      <td>0.93182</td>\n",
       "      <td>0.90208</td>\n",
       "      <td>14.36359</td>\n",
       "      <td>32.09843</td>\n",
       "      <td>16.98801</td>\n",
       "      <td>3.04539</td>\n",
       "      <td>-26.18726</td>\n",
       "      <td>-26.16501</td>\n",
       "      <td>-22.36627</td>\n",
       "      <td>24.69319</td>\n",
       "      <td>-26.11795</td>\n",
       "      <td>-26.09544</td>\n",
       "      <td>-26.14106</td>\n",
       "    </tr>\n",
       "    <tr>\n",
       "      <th>39606</th>\n",
       "      <td>TEST_39607</td>\n",
       "      <td>1.37600</td>\n",
       "      <td>1.03907</td>\n",
       "      <td>1.01584</td>\n",
       "      <td>14.97587</td>\n",
       "      <td>32.87738</td>\n",
       "      <td>17.18376</td>\n",
       "      <td>2.95024</td>\n",
       "      <td>-26.11946</td>\n",
       "      <td>-26.13365</td>\n",
       "      <td>-22.08794</td>\n",
       "      <td>24.88659</td>\n",
       "      <td>-26.06411</td>\n",
       "      <td>-26.05527</td>\n",
       "      <td>-26.05518</td>\n",
       "    </tr>\n",
       "    <tr>\n",
       "      <th>39607</th>\n",
       "      <td>TEST_39608</td>\n",
       "      <td>1.33166</td>\n",
       "      <td>1.00685</td>\n",
       "      <td>0.97948</td>\n",
       "      <td>13.97825</td>\n",
       "      <td>31.53962</td>\n",
       "      <td>16.93820</td>\n",
       "      <td>3.12133</td>\n",
       "      <td>-26.21345</td>\n",
       "      <td>-26.23043</td>\n",
       "      <td>-22.28940</td>\n",
       "      <td>24.61845</td>\n",
       "      <td>-26.13117</td>\n",
       "      <td>-26.12300</td>\n",
       "      <td>-26.16474</td>\n",
       "    </tr>\n",
       "  </tbody>\n",
       "</table>\n",
       "<p>39608 rows × 15 columns</p>\n",
       "</div>"
      ],
      "text/plain": [
       "               ID     Y_01     Y_02     Y_03      Y_04      Y_05      Y_06  \\\n",
       "0      TEST_00001  1.35715  1.03671  0.99336  14.09131  31.69138  16.72478   \n",
       "1      TEST_00002  1.42831  1.12109  1.02897  13.69207  31.43461  16.85669   \n",
       "2      TEST_00003  1.36997  1.06288  1.02683  13.41389  31.46871  16.40396   \n",
       "3      TEST_00004  1.44211  1.18059  1.05732  14.99515  32.40908  16.55465   \n",
       "4      TEST_00005  1.41916  1.09096  1.01876  14.41536  32.13287  17.22580   \n",
       "...           ...      ...      ...      ...       ...       ...       ...   \n",
       "39603  TEST_39604  1.28790  0.92080  0.91305  14.44741  32.25306  16.99792   \n",
       "39604  TEST_39605  1.32271  0.97324  0.97803  15.14405  31.78722  16.99181   \n",
       "39605  TEST_39606  1.25544  0.93182  0.90208  14.36359  32.09843  16.98801   \n",
       "39606  TEST_39607  1.37600  1.03907  1.01584  14.97587  32.87738  17.18376   \n",
       "39607  TEST_39608  1.33166  1.00685  0.97948  13.97825  31.53962  16.93820   \n",
       "\n",
       "          Y_07      Y_08      Y_09      Y_10      Y_11      Y_12      Y_13  \\\n",
       "0      3.07788 -26.13267 -26.13365 -22.18535  24.48519 -26.05869 -26.03910   \n",
       "1      3.10026 -26.02814 -26.04793 -22.01384  24.56186 -25.95946 -25.98444   \n",
       "2      3.07858 -26.24907 -26.27106 -22.34511  24.45382 -26.17200 -26.19355   \n",
       "3      2.92662 -25.73173 -25.75175 -21.90083  25.04108 -25.70984 -25.70497   \n",
       "4      3.01528 -25.73981 -25.75782 -21.84433  24.96186 -25.70938 -25.72326   \n",
       "...        ...       ...       ...       ...       ...       ...       ...   \n",
       "39603  3.03814 -26.19200 -26.19888 -22.31393  24.70607 -26.12315 -26.10704   \n",
       "39604  3.07120 -26.20886 -26.22867 -22.33916  24.68012 -26.13987 -26.13783   \n",
       "39605  3.04539 -26.18726 -26.16501 -22.36627  24.69319 -26.11795 -26.09544   \n",
       "39606  2.95024 -26.11946 -26.13365 -22.08794  24.88659 -26.06411 -26.05527   \n",
       "39607  3.12133 -26.21345 -26.23043 -22.28940  24.61845 -26.13117 -26.12300   \n",
       "\n",
       "           Y_14  \n",
       "0     -26.07058  \n",
       "1     -25.99097  \n",
       "2     -26.18957  \n",
       "3     -25.70435  \n",
       "4     -25.71942  \n",
       "...         ...  \n",
       "39603 -26.12000  \n",
       "39604 -26.14408  \n",
       "39605 -26.14106  \n",
       "39606 -26.05518  \n",
       "39607 -26.16474  \n",
       "\n",
       "[39608 rows x 15 columns]"
      ]
     },
     "execution_count": 77,
     "metadata": {},
     "output_type": "execute_result"
    }
   ],
   "source": [
    "submission"
   ]
  },
  {
   "cell_type": "code",
   "execution_count": 78,
   "id": "212fecbb",
   "metadata": {
    "ExecuteTime": {
     "end_time": "2022-08-16T13:00:26.449974Z",
     "start_time": "2022-08-16T13:00:25.817485Z"
    }
   },
   "outputs": [],
   "source": [
    "submission.to_csv(\"./base_submission.csv\", index=None)"
   ]
  },
  {
   "cell_type": "code",
   "execution_count": null,
   "id": "7af0ee23",
   "metadata": {},
   "outputs": [],
   "source": []
  }
 ],
 "metadata": {
  "kernelspec": {
   "display_name": "python3.9.0",
   "language": "python",
   "name": "python3.9.0"
  },
  "language_info": {
   "codemirror_mode": {
    "name": "ipython",
    "version": 3
   },
   "file_extension": ".py",
   "mimetype": "text/x-python",
   "name": "python",
   "nbconvert_exporter": "python",
   "pygments_lexer": "ipython3",
   "version": "3.9.12"
  },
  "toc": {
   "base_numbering": 1,
   "nav_menu": {},
   "number_sections": true,
   "sideBar": true,
   "skip_h1_title": false,
   "title_cell": "Table of Contents",
   "title_sidebar": "Contents",
   "toc_cell": false,
   "toc_position": {},
   "toc_section_display": true,
   "toc_window_display": false
  },
  "varInspector": {
   "cols": {
    "lenName": 16,
    "lenType": 16,
    "lenVar": 40
   },
   "kernels_config": {
    "python": {
     "delete_cmd_postfix": "",
     "delete_cmd_prefix": "del ",
     "library": "var_list.py",
     "varRefreshCmd": "print(var_dic_list())"
    },
    "r": {
     "delete_cmd_postfix": ") ",
     "delete_cmd_prefix": "rm(",
     "library": "var_list.r",
     "varRefreshCmd": "cat(var_dic_list()) "
    }
   },
   "types_to_exclude": [
    "module",
    "function",
    "builtin_function_or_method",
    "instance",
    "_Feature"
   ],
   "window_display": false
  }
 },
 "nbformat": 4,
 "nbformat_minor": 5
}
