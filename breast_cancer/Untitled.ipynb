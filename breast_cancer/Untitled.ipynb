{
 "cells": [
  {
   "cell_type": "markdown",
   "id": "df3f4d4f",
   "metadata": {},
   "source": [
    "# Import data& libraries "
   ]
  },
  {
   "cell_type": "code",
   "execution_count": 7,
   "id": "4ad75923",
   "metadata": {
    "ExecuteTime": {
     "end_time": "2022-11-30T09:03:29.950141Z",
     "start_time": "2022-11-30T09:03:29.922762Z"
    }
   },
   "outputs": [],
   "source": [
    "import numpy as np\n",
    "import pandas as pd\n",
    "import matplotlib.pyplot as plt\n",
    "import os\n",
    "import sys"
   ]
  },
  {
   "cell_type": "code",
   "execution_count": 9,
   "id": "8279b523",
   "metadata": {
    "ExecuteTime": {
     "end_time": "2022-11-30T09:03:36.871766Z",
     "start_time": "2022-11-30T09:03:36.798796Z"
    }
   },
   "outputs": [
    {
     "data": {
      "text/html": [
       "<div>\n",
       "<style scoped>\n",
       "    .dataframe tbody tr th:only-of-type {\n",
       "        vertical-align: middle;\n",
       "    }\n",
       "\n",
       "    .dataframe tbody tr th {\n",
       "        vertical-align: top;\n",
       "    }\n",
       "\n",
       "    .dataframe thead th {\n",
       "        text-align: right;\n",
       "    }\n",
       "</style>\n",
       "<table border=\"1\" class=\"dataframe\">\n",
       "  <thead>\n",
       "    <tr style=\"text-align: right;\">\n",
       "      <th></th>\n",
       "      <th>ID</th>\n",
       "      <th>COMPONENT_ARBITRARY</th>\n",
       "      <th>ANONYMOUS_1</th>\n",
       "      <th>YEAR</th>\n",
       "      <th>SAMPLE_TRANSFER_DAY</th>\n",
       "      <th>ANONYMOUS_2</th>\n",
       "      <th>AG</th>\n",
       "      <th>AL</th>\n",
       "      <th>B</th>\n",
       "      <th>BA</th>\n",
       "      <th>...</th>\n",
       "      <th>U25</th>\n",
       "      <th>U20</th>\n",
       "      <th>U14</th>\n",
       "      <th>U6</th>\n",
       "      <th>U4</th>\n",
       "      <th>V</th>\n",
       "      <th>V100</th>\n",
       "      <th>V40</th>\n",
       "      <th>ZN</th>\n",
       "      <th>Y_LABEL</th>\n",
       "    </tr>\n",
       "  </thead>\n",
       "  <tbody>\n",
       "    <tr>\n",
       "      <th>0</th>\n",
       "      <td>TRAIN_00000</td>\n",
       "      <td>COMPONENT3</td>\n",
       "      <td>1486</td>\n",
       "      <td>2011</td>\n",
       "      <td>7</td>\n",
       "      <td>200</td>\n",
       "      <td>0</td>\n",
       "      <td>3</td>\n",
       "      <td>93</td>\n",
       "      <td>0</td>\n",
       "      <td>...</td>\n",
       "      <td>NaN</td>\n",
       "      <td>NaN</td>\n",
       "      <td>NaN</td>\n",
       "      <td>NaN</td>\n",
       "      <td>NaN</td>\n",
       "      <td>0</td>\n",
       "      <td>NaN</td>\n",
       "      <td>154.0</td>\n",
       "      <td>75</td>\n",
       "      <td>0</td>\n",
       "    </tr>\n",
       "    <tr>\n",
       "      <th>1</th>\n",
       "      <td>TRAIN_00001</td>\n",
       "      <td>COMPONENT2</td>\n",
       "      <td>1350</td>\n",
       "      <td>2021</td>\n",
       "      <td>51</td>\n",
       "      <td>375</td>\n",
       "      <td>0</td>\n",
       "      <td>2</td>\n",
       "      <td>19</td>\n",
       "      <td>0</td>\n",
       "      <td>...</td>\n",
       "      <td>2.0</td>\n",
       "      <td>4.0</td>\n",
       "      <td>6.0</td>\n",
       "      <td>216.0</td>\n",
       "      <td>1454.0</td>\n",
       "      <td>0</td>\n",
       "      <td>NaN</td>\n",
       "      <td>44.0</td>\n",
       "      <td>652</td>\n",
       "      <td>0</td>\n",
       "    </tr>\n",
       "    <tr>\n",
       "      <th>2</th>\n",
       "      <td>TRAIN_00002</td>\n",
       "      <td>COMPONENT2</td>\n",
       "      <td>2415</td>\n",
       "      <td>2015</td>\n",
       "      <td>2</td>\n",
       "      <td>200</td>\n",
       "      <td>0</td>\n",
       "      <td>110</td>\n",
       "      <td>1</td>\n",
       "      <td>1</td>\n",
       "      <td>...</td>\n",
       "      <td>0.0</td>\n",
       "      <td>3.0</td>\n",
       "      <td>39.0</td>\n",
       "      <td>11261.0</td>\n",
       "      <td>41081.0</td>\n",
       "      <td>0</td>\n",
       "      <td>NaN</td>\n",
       "      <td>72.6</td>\n",
       "      <td>412</td>\n",
       "      <td>1</td>\n",
       "    </tr>\n",
       "    <tr>\n",
       "      <th>3</th>\n",
       "      <td>TRAIN_00003</td>\n",
       "      <td>COMPONENT3</td>\n",
       "      <td>7389</td>\n",
       "      <td>2010</td>\n",
       "      <td>2</td>\n",
       "      <td>200</td>\n",
       "      <td>0</td>\n",
       "      <td>8</td>\n",
       "      <td>3</td>\n",
       "      <td>0</td>\n",
       "      <td>...</td>\n",
       "      <td>NaN</td>\n",
       "      <td>NaN</td>\n",
       "      <td>NaN</td>\n",
       "      <td>NaN</td>\n",
       "      <td>NaN</td>\n",
       "      <td>0</td>\n",
       "      <td>NaN</td>\n",
       "      <td>133.3</td>\n",
       "      <td>7</td>\n",
       "      <td>0</td>\n",
       "    </tr>\n",
       "    <tr>\n",
       "      <th>4</th>\n",
       "      <td>TRAIN_00004</td>\n",
       "      <td>COMPONENT3</td>\n",
       "      <td>3954</td>\n",
       "      <td>2015</td>\n",
       "      <td>4</td>\n",
       "      <td>200</td>\n",
       "      <td>0</td>\n",
       "      <td>1</td>\n",
       "      <td>157</td>\n",
       "      <td>0</td>\n",
       "      <td>...</td>\n",
       "      <td>NaN</td>\n",
       "      <td>NaN</td>\n",
       "      <td>NaN</td>\n",
       "      <td>NaN</td>\n",
       "      <td>NaN</td>\n",
       "      <td>0</td>\n",
       "      <td>NaN</td>\n",
       "      <td>133.1</td>\n",
       "      <td>128</td>\n",
       "      <td>0</td>\n",
       "    </tr>\n",
       "    <tr>\n",
       "      <th>...</th>\n",
       "      <td>...</td>\n",
       "      <td>...</td>\n",
       "      <td>...</td>\n",
       "      <td>...</td>\n",
       "      <td>...</td>\n",
       "      <td>...</td>\n",
       "      <td>...</td>\n",
       "      <td>...</td>\n",
       "      <td>...</td>\n",
       "      <td>...</td>\n",
       "      <td>...</td>\n",
       "      <td>...</td>\n",
       "      <td>...</td>\n",
       "      <td>...</td>\n",
       "      <td>...</td>\n",
       "      <td>...</td>\n",
       "      <td>...</td>\n",
       "      <td>...</td>\n",
       "      <td>...</td>\n",
       "      <td>...</td>\n",
       "      <td>...</td>\n",
       "    </tr>\n",
       "    <tr>\n",
       "      <th>14090</th>\n",
       "      <td>TRAIN_14090</td>\n",
       "      <td>COMPONENT3</td>\n",
       "      <td>1616</td>\n",
       "      <td>2014</td>\n",
       "      <td>8</td>\n",
       "      <td>200</td>\n",
       "      <td>0</td>\n",
       "      <td>2</td>\n",
       "      <td>201</td>\n",
       "      <td>1</td>\n",
       "      <td>...</td>\n",
       "      <td>NaN</td>\n",
       "      <td>NaN</td>\n",
       "      <td>NaN</td>\n",
       "      <td>NaN</td>\n",
       "      <td>NaN</td>\n",
       "      <td>0</td>\n",
       "      <td>NaN</td>\n",
       "      <td>135.4</td>\n",
       "      <td>16</td>\n",
       "      <td>0</td>\n",
       "    </tr>\n",
       "    <tr>\n",
       "      <th>14091</th>\n",
       "      <td>TRAIN_14091</td>\n",
       "      <td>COMPONENT1</td>\n",
       "      <td>2784</td>\n",
       "      <td>2013</td>\n",
       "      <td>2</td>\n",
       "      <td>200</td>\n",
       "      <td>0</td>\n",
       "      <td>3</td>\n",
       "      <td>85</td>\n",
       "      <td>0</td>\n",
       "      <td>...</td>\n",
       "      <td>NaN</td>\n",
       "      <td>NaN</td>\n",
       "      <td>NaN</td>\n",
       "      <td>NaN</td>\n",
       "      <td>NaN</td>\n",
       "      <td>0</td>\n",
       "      <td>14.5</td>\n",
       "      <td>117.5</td>\n",
       "      <td>1408</td>\n",
       "      <td>0</td>\n",
       "    </tr>\n",
       "    <tr>\n",
       "      <th>14092</th>\n",
       "      <td>TRAIN_14092</td>\n",
       "      <td>COMPONENT3</td>\n",
       "      <td>1788</td>\n",
       "      <td>2008</td>\n",
       "      <td>9</td>\n",
       "      <td>550</td>\n",
       "      <td>0</td>\n",
       "      <td>6</td>\n",
       "      <td>0</td>\n",
       "      <td>1</td>\n",
       "      <td>...</td>\n",
       "      <td>NaN</td>\n",
       "      <td>NaN</td>\n",
       "      <td>NaN</td>\n",
       "      <td>NaN</td>\n",
       "      <td>NaN</td>\n",
       "      <td>0</td>\n",
       "      <td>NaN</td>\n",
       "      <td>54.0</td>\n",
       "      <td>1301</td>\n",
       "      <td>0</td>\n",
       "    </tr>\n",
       "    <tr>\n",
       "      <th>14093</th>\n",
       "      <td>TRAIN_14093</td>\n",
       "      <td>COMPONENT2</td>\n",
       "      <td>2498</td>\n",
       "      <td>2009</td>\n",
       "      <td>19</td>\n",
       "      <td>550</td>\n",
       "      <td>0</td>\n",
       "      <td>2</td>\n",
       "      <td>4</td>\n",
       "      <td>0</td>\n",
       "      <td>...</td>\n",
       "      <td>7.0</td>\n",
       "      <td>8.0</td>\n",
       "      <td>100.0</td>\n",
       "      <td>1625.0</td>\n",
       "      <td>18890.0</td>\n",
       "      <td>0</td>\n",
       "      <td>NaN</td>\n",
       "      <td>44.3</td>\n",
       "      <td>652</td>\n",
       "      <td>0</td>\n",
       "    </tr>\n",
       "    <tr>\n",
       "      <th>14094</th>\n",
       "      <td>TRAIN_14094</td>\n",
       "      <td>COMPONENT2</td>\n",
       "      <td>1902</td>\n",
       "      <td>2012</td>\n",
       "      <td>15</td>\n",
       "      <td>200</td>\n",
       "      <td>0</td>\n",
       "      <td>0</td>\n",
       "      <td>77</td>\n",
       "      <td>0</td>\n",
       "      <td>...</td>\n",
       "      <td>1163.0</td>\n",
       "      <td>2565.0</td>\n",
       "      <td>11296.0</td>\n",
       "      <td>181016.0</td>\n",
       "      <td>325823.0</td>\n",
       "      <td>0</td>\n",
       "      <td>NaN</td>\n",
       "      <td>47.0</td>\n",
       "      <td>612</td>\n",
       "      <td>0</td>\n",
       "    </tr>\n",
       "  </tbody>\n",
       "</table>\n",
       "<p>14095 rows × 54 columns</p>\n",
       "</div>"
      ],
      "text/plain": [
       "                ID COMPONENT_ARBITRARY  ANONYMOUS_1  YEAR  \\\n",
       "0      TRAIN_00000          COMPONENT3         1486  2011   \n",
       "1      TRAIN_00001          COMPONENT2         1350  2021   \n",
       "2      TRAIN_00002          COMPONENT2         2415  2015   \n",
       "3      TRAIN_00003          COMPONENT3         7389  2010   \n",
       "4      TRAIN_00004          COMPONENT3         3954  2015   \n",
       "...            ...                 ...          ...   ...   \n",
       "14090  TRAIN_14090          COMPONENT3         1616  2014   \n",
       "14091  TRAIN_14091          COMPONENT1         2784  2013   \n",
       "14092  TRAIN_14092          COMPONENT3         1788  2008   \n",
       "14093  TRAIN_14093          COMPONENT2         2498  2009   \n",
       "14094  TRAIN_14094          COMPONENT2         1902  2012   \n",
       "\n",
       "       SAMPLE_TRANSFER_DAY  ANONYMOUS_2  AG   AL    B  BA  ...     U25  \\\n",
       "0                        7          200   0    3   93   0  ...     NaN   \n",
       "1                       51          375   0    2   19   0  ...     2.0   \n",
       "2                        2          200   0  110    1   1  ...     0.0   \n",
       "3                        2          200   0    8    3   0  ...     NaN   \n",
       "4                        4          200   0    1  157   0  ...     NaN   \n",
       "...                    ...          ...  ..  ...  ...  ..  ...     ...   \n",
       "14090                    8          200   0    2  201   1  ...     NaN   \n",
       "14091                    2          200   0    3   85   0  ...     NaN   \n",
       "14092                    9          550   0    6    0   1  ...     NaN   \n",
       "14093                   19          550   0    2    4   0  ...     7.0   \n",
       "14094                   15          200   0    0   77   0  ...  1163.0   \n",
       "\n",
       "          U20      U14        U6        U4  V  V100    V40    ZN  Y_LABEL  \n",
       "0         NaN      NaN       NaN       NaN  0   NaN  154.0    75        0  \n",
       "1         4.0      6.0     216.0    1454.0  0   NaN   44.0   652        0  \n",
       "2         3.0     39.0   11261.0   41081.0  0   NaN   72.6   412        1  \n",
       "3         NaN      NaN       NaN       NaN  0   NaN  133.3     7        0  \n",
       "4         NaN      NaN       NaN       NaN  0   NaN  133.1   128        0  \n",
       "...       ...      ...       ...       ... ..   ...    ...   ...      ...  \n",
       "14090     NaN      NaN       NaN       NaN  0   NaN  135.4    16        0  \n",
       "14091     NaN      NaN       NaN       NaN  0  14.5  117.5  1408        0  \n",
       "14092     NaN      NaN       NaN       NaN  0   NaN   54.0  1301        0  \n",
       "14093     8.0    100.0    1625.0   18890.0  0   NaN   44.3   652        0  \n",
       "14094  2565.0  11296.0  181016.0  325823.0  0   NaN   47.0   612        0  \n",
       "\n",
       "[14095 rows x 54 columns]"
      ]
     },
     "execution_count": 9,
     "metadata": {},
     "output_type": "execute_result"
    }
   ],
   "source": [
    "X_train"
   ]
  },
  {
   "cell_type": "code",
   "execution_count": 8,
   "id": "919a6881",
   "metadata": {
    "ExecuteTime": {
     "end_time": "2022-11-30T09:03:30.206142Z",
     "start_time": "2022-11-30T09:03:29.950141Z"
    }
   },
   "outputs": [
    {
     "ename": "KeyError",
     "evalue": "'N_category'",
     "output_type": "error",
     "traceback": [
      "\u001b[1;31m---------------------------------------------------------------------------\u001b[0m",
      "\u001b[1;31mKeyError\u001b[0m                                  Traceback (most recent call last)",
      "File \u001b[1;32m~\\Anaconda3\\envs\\raspberry\\lib\\site-packages\\pandas\\core\\indexes\\base.py:3621\u001b[0m, in \u001b[0;36mIndex.get_loc\u001b[1;34m(self, key, method, tolerance)\u001b[0m\n\u001b[0;32m   3620\u001b[0m \u001b[38;5;28;01mtry\u001b[39;00m:\n\u001b[1;32m-> 3621\u001b[0m     \u001b[38;5;28;01mreturn\u001b[39;00m \u001b[38;5;28;43mself\u001b[39;49m\u001b[38;5;241;43m.\u001b[39;49m\u001b[43m_engine\u001b[49m\u001b[38;5;241;43m.\u001b[39;49m\u001b[43mget_loc\u001b[49m\u001b[43m(\u001b[49m\u001b[43mcasted_key\u001b[49m\u001b[43m)\u001b[49m\n\u001b[0;32m   3622\u001b[0m \u001b[38;5;28;01mexcept\u001b[39;00m \u001b[38;5;167;01mKeyError\u001b[39;00m \u001b[38;5;28;01mas\u001b[39;00m err:\n",
      "File \u001b[1;32m~\\Anaconda3\\envs\\raspberry\\lib\\site-packages\\pandas\\_libs\\index.pyx:136\u001b[0m, in \u001b[0;36mpandas._libs.index.IndexEngine.get_loc\u001b[1;34m()\u001b[0m\n",
      "File \u001b[1;32m~\\Anaconda3\\envs\\raspberry\\lib\\site-packages\\pandas\\_libs\\index.pyx:163\u001b[0m, in \u001b[0;36mpandas._libs.index.IndexEngine.get_loc\u001b[1;34m()\u001b[0m\n",
      "File \u001b[1;32mpandas\\_libs\\hashtable_class_helper.pxi:5198\u001b[0m, in \u001b[0;36mpandas._libs.hashtable.PyObjectHashTable.get_item\u001b[1;34m()\u001b[0m\n",
      "File \u001b[1;32mpandas\\_libs\\hashtable_class_helper.pxi:5206\u001b[0m, in \u001b[0;36mpandas._libs.hashtable.PyObjectHashTable.get_item\u001b[1;34m()\u001b[0m\n",
      "\u001b[1;31mKeyError\u001b[0m: 'N_category'",
      "\nThe above exception was the direct cause of the following exception:\n",
      "\u001b[1;31mKeyError\u001b[0m                                  Traceback (most recent call last)",
      "Input \u001b[1;32mIn [8]\u001b[0m, in \u001b[0;36m<cell line: 4>\u001b[1;34m()\u001b[0m\n\u001b[0;32m      1\u001b[0m path\u001b[38;5;241m=\u001b[39m \u001b[38;5;124m\"\u001b[39m\u001b[38;5;124m../../../Data/\u001b[39m\u001b[38;5;124m\"\u001b[39m\n\u001b[0;32m      3\u001b[0m X_train \u001b[38;5;241m=\u001b[39m pd\u001b[38;5;241m.\u001b[39mread_csv(os\u001b[38;5;241m.\u001b[39mpath\u001b[38;5;241m.\u001b[39mjoin(path, \u001b[38;5;124m\"\u001b[39m\u001b[38;5;124mtrain.csv\u001b[39m\u001b[38;5;124m\"\u001b[39m))\n\u001b[1;32m----> 4\u001b[0m y \u001b[38;5;241m=\u001b[39m \u001b[43mX_train\u001b[49m\u001b[43m[\u001b[49m\u001b[38;5;124;43m\"\u001b[39;49m\u001b[38;5;124;43mN_category\u001b[39;49m\u001b[38;5;124;43m\"\u001b[39;49m\u001b[43m]\u001b[49m\n\u001b[0;32m      5\u001b[0m X_train \u001b[38;5;241m=\u001b[39m X_train[X_train\u001b[38;5;241m.\u001b[39mcolumns[:\u001b[38;5;241m-\u001b[39m\u001b[38;5;241m1\u001b[39m]]\n\u001b[0;32m      6\u001b[0m X_train \u001b[38;5;241m=\u001b[39m X_train[X_train\u001b[38;5;241m.\u001b[39mcolumns[\u001b[38;5;241m3\u001b[39m:]]    \u001b[38;5;66;03m#ID, 이미지 경로 제거\u001b[39;00m\n",
      "File \u001b[1;32m~\\Anaconda3\\envs\\raspberry\\lib\\site-packages\\pandas\\core\\frame.py:3505\u001b[0m, in \u001b[0;36mDataFrame.__getitem__\u001b[1;34m(self, key)\u001b[0m\n\u001b[0;32m   3503\u001b[0m \u001b[38;5;28;01mif\u001b[39;00m \u001b[38;5;28mself\u001b[39m\u001b[38;5;241m.\u001b[39mcolumns\u001b[38;5;241m.\u001b[39mnlevels \u001b[38;5;241m>\u001b[39m \u001b[38;5;241m1\u001b[39m:\n\u001b[0;32m   3504\u001b[0m     \u001b[38;5;28;01mreturn\u001b[39;00m \u001b[38;5;28mself\u001b[39m\u001b[38;5;241m.\u001b[39m_getitem_multilevel(key)\n\u001b[1;32m-> 3505\u001b[0m indexer \u001b[38;5;241m=\u001b[39m \u001b[38;5;28;43mself\u001b[39;49m\u001b[38;5;241;43m.\u001b[39;49m\u001b[43mcolumns\u001b[49m\u001b[38;5;241;43m.\u001b[39;49m\u001b[43mget_loc\u001b[49m\u001b[43m(\u001b[49m\u001b[43mkey\u001b[49m\u001b[43m)\u001b[49m\n\u001b[0;32m   3506\u001b[0m \u001b[38;5;28;01mif\u001b[39;00m is_integer(indexer):\n\u001b[0;32m   3507\u001b[0m     indexer \u001b[38;5;241m=\u001b[39m [indexer]\n",
      "File \u001b[1;32m~\\Anaconda3\\envs\\raspberry\\lib\\site-packages\\pandas\\core\\indexes\\base.py:3623\u001b[0m, in \u001b[0;36mIndex.get_loc\u001b[1;34m(self, key, method, tolerance)\u001b[0m\n\u001b[0;32m   3621\u001b[0m     \u001b[38;5;28;01mreturn\u001b[39;00m \u001b[38;5;28mself\u001b[39m\u001b[38;5;241m.\u001b[39m_engine\u001b[38;5;241m.\u001b[39mget_loc(casted_key)\n\u001b[0;32m   3622\u001b[0m \u001b[38;5;28;01mexcept\u001b[39;00m \u001b[38;5;167;01mKeyError\u001b[39;00m \u001b[38;5;28;01mas\u001b[39;00m err:\n\u001b[1;32m-> 3623\u001b[0m     \u001b[38;5;28;01mraise\u001b[39;00m \u001b[38;5;167;01mKeyError\u001b[39;00m(key) \u001b[38;5;28;01mfrom\u001b[39;00m \u001b[38;5;21;01merr\u001b[39;00m\n\u001b[0;32m   3624\u001b[0m \u001b[38;5;28;01mexcept\u001b[39;00m \u001b[38;5;167;01mTypeError\u001b[39;00m:\n\u001b[0;32m   3625\u001b[0m     \u001b[38;5;66;03m# If we have a listlike key, _check_indexing_error will raise\u001b[39;00m\n\u001b[0;32m   3626\u001b[0m     \u001b[38;5;66;03m#  InvalidIndexError. Otherwise we fall through and re-raise\u001b[39;00m\n\u001b[0;32m   3627\u001b[0m     \u001b[38;5;66;03m#  the TypeError.\u001b[39;00m\n\u001b[0;32m   3628\u001b[0m     \u001b[38;5;28mself\u001b[39m\u001b[38;5;241m.\u001b[39m_check_indexing_error(key)\n",
      "\u001b[1;31mKeyError\u001b[0m: 'N_category'"
     ]
    }
   ],
   "source": [
    "path= \"../../../Data/\"\n",
    "\n",
    "X_train = pd.read_csv(os.path.join(path, \"train.csv\"))\n",
    "y = X_train[\"N_category\"]\n",
    "X_train = X_train[X_train.columns[:-1]]\n",
    "X_train = X_train[X_train.columns[3:]]    #ID, 이미지 경로 제거\n",
    "X_test = pd.read_csv(os.path.join(path, \"test.csv\"))\n",
    "submission = pd.read_csv(os.path.join(path, \"sample_submission.csv\"))"
   ]
  },
  {
   "cell_type": "code",
   "execution_count": null,
   "id": "72738d0f",
   "metadata": {
    "ExecuteTime": {
     "end_time": "2022-11-30T09:03:30.206142Z",
     "start_time": "2022-11-30T09:03:30.206142Z"
    }
   },
   "outputs": [],
   "source": [
    "X_train.head(5)"
   ]
  },
  {
   "cell_type": "code",
   "execution_count": null,
   "id": "96e3501a",
   "metadata": {
    "ExecuteTime": {
     "end_time": "2022-11-30T09:03:30.214149Z",
     "start_time": "2022-11-30T09:03:30.214149Z"
    }
   },
   "outputs": [],
   "source": [
    "print(X_train.info())\n",
    "print(f\"\\nSize of X_train: {len(X_train)}\")"
   ]
  },
  {
   "cell_type": "markdown",
   "id": "7e999a13",
   "metadata": {},
   "source": [
    "# Fill missing values"
   ]
  },
  {
   "cell_type": "code",
   "execution_count": null,
   "id": "43c978ff",
   "metadata": {
    "ExecuteTime": {
     "end_time": "2022-11-30T09:03:30.214149Z",
     "start_time": "2022-11-30T09:03:30.214149Z"
    }
   },
   "outputs": [],
   "source": [
    "X_train = X_train.fillna(X_train.mean())"
   ]
  },
  {
   "cell_type": "markdown",
   "id": "eacc6a97",
   "metadata": {},
   "source": [
    "# Process categorical values"
   ]
  },
  {
   "cell_type": "code",
   "execution_count": null,
   "id": "3b5aca46",
   "metadata": {
    "ExecuteTime": {
     "end_time": "2022-11-30T09:03:30.222148Z",
     "start_time": "2022-11-30T09:03:30.222148Z"
    }
   },
   "outputs": [],
   "source": [
    "X_train[\"수술연월일\"].head(5)"
   ]
  },
  {
   "cell_type": "code",
   "execution_count": null,
   "id": "d3511559",
   "metadata": {
    "ExecuteTime": {
     "end_time": "2022-11-30T09:03:30.222148Z",
     "start_time": "2022-11-30T09:03:30.222148Z"
    }
   },
   "outputs": [],
   "source": [
    "X_train[\"수술연월일\"]"
   ]
  },
  {
   "cell_type": "code",
   "execution_count": null,
   "id": "1f409a5e",
   "metadata": {
    "ExecuteTime": {
     "end_time": "2022-11-30T09:03:30.230145Z",
     "start_time": "2022-11-30T09:03:30.230145Z"
    }
   },
   "outputs": [],
   "source": [
    "X_train[\"수술연월일\"] = pd.to_datetime(X_train[\"수술연월일\"])"
   ]
  },
  {
   "cell_type": "code",
   "execution_count": null,
   "id": "13fb8f3d",
   "metadata": {
    "ExecuteTime": {
     "end_time": "2022-11-30T09:03:30.230145Z",
     "start_time": "2022-11-30T09:03:30.230145Z"
    }
   },
   "outputs": [],
   "source": [
    "X_train[\"year\"] = X_train[\"수술연월일\"].dt.year\n",
    "X_train[\"month\"] = X_train[\"수술연월일\"].dt.month\n",
    "X_train[\"day\"] = X_train[\"수술연월일\"].dt.day\n",
    "X_train[\"day_name\"] = X_train[\"수술연월일\"].dt.day_name"
   ]
  },
  {
   "cell_type": "code",
   "execution_count": null,
   "id": "736adfdc",
   "metadata": {
    "ExecuteTime": {
     "end_time": "2022-11-30T09:03:30.238142Z",
     "start_time": "2022-11-30T09:03:30.238142Z"
    }
   },
   "outputs": [],
   "source": [
    "X_train.info()"
   ]
  },
  {
   "cell_type": "code",
   "execution_count": null,
   "id": "b1087cb0",
   "metadata": {
    "ExecuteTime": {
     "end_time": "2022-11-30T09:03:30.238142Z",
     "start_time": "2022-11-30T09:03:30.238142Z"
    }
   },
   "outputs": [],
   "source": [
    "date_list=[]\n",
    "for i in range(len(X_train)):\n",
    "    date_list.append(str(X_train[\"month\"][i]).zfill(2) +str(X_train[\"day\"][i]).zfill(2))"
   ]
  },
  {
   "cell_type": "code",
   "execution_count": null,
   "id": "f2eb40e7",
   "metadata": {
    "ExecuteTime": {
     "end_time": "2022-11-30T09:03:30.246151Z",
     "start_time": "2022-11-30T09:03:30.246151Z"
    }
   },
   "outputs": [],
   "source": [
    "X_train[\"수술연월일\"] = date_list\n",
    "X_train = X_train[X_train.columns[:-1]]"
   ]
  },
  {
   "cell_type": "markdown",
   "id": "6cbe764d",
   "metadata": {},
   "source": [
    "추후 위 코드 제거하고 요일 변수 전처리할것"
   ]
  },
  {
   "cell_type": "code",
   "execution_count": null,
   "id": "d135d1f1",
   "metadata": {
    "ExecuteTime": {
     "end_time": "2022-11-30T09:03:30.254143Z",
     "start_time": "2022-11-30T09:03:30.254143Z"
    }
   },
   "outputs": [],
   "source": [
    "from sklearn.model_selection import train_test_split"
   ]
  },
  {
   "cell_type": "code",
   "execution_count": null,
   "id": "3d3f6d4e",
   "metadata": {
    "ExecuteTime": {
     "end_time": "2022-11-30T09:03:30.254143Z",
     "start_time": "2022-11-30T09:03:30.254143Z"
    }
   },
   "outputs": [],
   "source": [
    "X_train, X_valid, y_train, y_valid = train_test_split(X_train, y, stratify=y, test_size=0.2)"
   ]
  },
  {
   "cell_type": "markdown",
   "id": "d2a903dd",
   "metadata": {},
   "source": [
    "# Train vanilla RF "
   ]
  },
  {
   "cell_type": "code",
   "execution_count": null,
   "id": "32b28778",
   "metadata": {
    "ExecuteTime": {
     "end_time": "2022-11-30T09:03:30.254143Z",
     "start_time": "2022-11-30T09:03:30.254143Z"
    }
   },
   "outputs": [],
   "source": [
    "from sklearn.ensemble import RandomForestClassifier"
   ]
  },
  {
   "cell_type": "code",
   "execution_count": null,
   "id": "7757b3e8",
   "metadata": {
    "ExecuteTime": {
     "end_time": "2022-11-30T09:03:30.262154Z",
     "start_time": "2022-11-30T09:03:30.262154Z"
    }
   },
   "outputs": [],
   "source": [
    "model = RandomForestClassifier()\n",
    "model.fit(X_train, y_train)"
   ]
  },
  {
   "cell_type": "code",
   "execution_count": null,
   "id": "18797cb7",
   "metadata": {
    "ExecuteTime": {
     "end_time": "2022-11-30T09:03:30.262154Z",
     "start_time": "2022-11-30T09:03:30.262154Z"
    }
   },
   "outputs": [],
   "source": [
    "model.score(X_valid, y_valid)"
   ]
  },
  {
   "cell_type": "code",
   "execution_count": null,
   "id": "c7a5db41",
   "metadata": {
    "ExecuteTime": {
     "end_time": "2022-11-30T09:03:30.270149Z",
     "start_time": "2022-11-30T09:03:30.270149Z"
    }
   },
   "outputs": [],
   "source": [
    "X_test"
   ]
  },
  {
   "cell_type": "code",
   "execution_count": null,
   "id": "fb6ff620",
   "metadata": {
    "ExecuteTime": {
     "end_time": "2022-11-30T09:03:30.270149Z",
     "start_time": "2022-11-30T09:03:30.270149Z"
    }
   },
   "outputs": [],
   "source": [
    "def preprocess(X_train):\n",
    "    X_train = X_train[X_train.columns[2:]]\n",
    "    X_train = X_train.fillna(X_train.mean())    \n",
    "    X_train[\"수술연월일\"] = pd.to_datetime(X_train[\"수술연월일\"])\n",
    "    X_train[\"year\"] = X_train[\"수술연월일\"].dt.year\n",
    "    X_train[\"month\"] = X_train[\"수술연월일\"].dt.month\n",
    "    X_train[\"day\"] = X_train[\"수술연월일\"].dt.day\n",
    "    X_train[\"day_name\"] = X_train[\"수술연월일\"].dt.day_name\n",
    "\n",
    "    date_list=[]\n",
    "    for i in range(len(X_train)):\n",
    "        date_list.append(str(X_train[\"month\"][i]).zfill(2) +str(X_train[\"day\"][i]).zfill(2))\n",
    "\n",
    "    X_train[\"수술연월일\"] = date_list\n",
    "    X_train = X_train[X_train.columns[:-1]]\n",
    "    return X_train"
   ]
  },
  {
   "cell_type": "code",
   "execution_count": null,
   "id": "a871071b",
   "metadata": {
    "ExecuteTime": {
     "end_time": "2022-11-30T09:03:30.278145Z",
     "start_time": "2022-11-30T09:03:30.278145Z"
    }
   },
   "outputs": [],
   "source": [
    "X_test = preprocess(X_test)"
   ]
  },
  {
   "cell_type": "code",
   "execution_count": null,
   "id": "9634fccd",
   "metadata": {
    "ExecuteTime": {
     "end_time": "2022-11-30T09:03:30.278145Z",
     "start_time": "2022-11-30T09:03:30.278145Z"
    }
   },
   "outputs": [],
   "source": [
    "pred = model.predict(X_test)"
   ]
  },
  {
   "cell_type": "code",
   "execution_count": null,
   "id": "f1f5a4ee",
   "metadata": {
    "ExecuteTime": {
     "end_time": "2022-11-30T09:03:30.286145Z",
     "start_time": "2022-11-30T09:03:30.286145Z"
    }
   },
   "outputs": [],
   "source": [
    "submission[\"N_category\"] = pred"
   ]
  },
  {
   "cell_type": "code",
   "execution_count": null,
   "id": "afc2d233",
   "metadata": {
    "ExecuteTime": {
     "end_time": "2022-11-30T09:03:30.286145Z",
     "start_time": "2022-11-30T09:03:30.286145Z"
    }
   },
   "outputs": [],
   "source": [
    "submission.to_csv(\"./submission_tabular.csv\", index=False)"
   ]
  },
  {
   "cell_type": "code",
   "execution_count": null,
   "id": "da7d86bd",
   "metadata": {},
   "outputs": [],
   "source": []
  }
 ],
 "metadata": {
  "kernelspec": {
   "display_name": "raspberry",
   "language": "python",
   "name": "raspberry"
  },
  "language_info": {
   "codemirror_mode": {
    "name": "ipython",
    "version": 3
   },
   "file_extension": ".py",
   "mimetype": "text/x-python",
   "name": "python",
   "nbconvert_exporter": "python",
   "pygments_lexer": "ipython3",
   "version": "3.9.2"
  },
  "toc": {
   "base_numbering": 1,
   "nav_menu": {},
   "number_sections": true,
   "sideBar": true,
   "skip_h1_title": false,
   "title_cell": "Table of Contents",
   "title_sidebar": "Contents",
   "toc_cell": false,
   "toc_position": {},
   "toc_section_display": true,
   "toc_window_display": true
  },
  "varInspector": {
   "cols": {
    "lenName": 16,
    "lenType": 16,
    "lenVar": 40
   },
   "kernels_config": {
    "python": {
     "delete_cmd_postfix": "",
     "delete_cmd_prefix": "del ",
     "library": "var_list.py",
     "varRefreshCmd": "print(var_dic_list())"
    },
    "r": {
     "delete_cmd_postfix": ") ",
     "delete_cmd_prefix": "rm(",
     "library": "var_list.r",
     "varRefreshCmd": "cat(var_dic_list()) "
    }
   },
   "oldHeight": 122.844,
   "position": {
    "height": "457.844px",
    "left": "1528px",
    "right": "20px",
    "top": "200px",
    "width": "311px"
   },
   "types_to_exclude": [
    "module",
    "function",
    "builtin_function_or_method",
    "instance",
    "_Feature"
   ],
   "varInspector_section_display": "block",
   "window_display": false
  }
 },
 "nbformat": 4,
 "nbformat_minor": 5
}
