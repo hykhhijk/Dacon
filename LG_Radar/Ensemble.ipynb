{
 "cells": [
  {
   "cell_type": "code",
   "execution_count": 1,
   "id": "e88c25d3",
   "metadata": {
    "ExecuteTime": {
     "end_time": "2022-08-25T17:16:09.436933Z",
     "start_time": "2022-08-25T17:16:07.198548Z"
    }
   },
   "outputs": [],
   "source": [
    "import numpy as np\n",
    "import pandas as pd\n",
    "import matplotlib.pyplot as plt\n",
    "from sklearn.model_selection import train_test_split\n",
    "from sklearn.metrics import mean_squared_error\n",
    "from sklearn.ensemble import RandomForestRegressor\n",
    "from sklearn.preprocessing import StandardScaler\n",
    "from xgboost import XGBRegressor\n",
    "from sklearn.svm import SVR\n",
    "from sklearn.multioutput import RegressorChain\n",
    "from sklearn.multioutput import MultiOutputRegressor\n",
    "from sklearn.model_selection import KFold"
   ]
  },
  {
   "cell_type": "code",
   "execution_count": 2,
   "id": "f9897528",
   "metadata": {
    "ExecuteTime": {
     "end_time": "2022-08-25T17:16:12.325146Z",
     "start_time": "2022-08-25T17:16:11.836039Z"
    }
   },
   "outputs": [],
   "source": [
    "path = \"D:/LG_Radar\"\n",
    "train = pd.read_csv(path+\"/train.csv\")\n",
    "test = pd.read_csv(path+\"/test.csv\")\n",
    "submission = pd.read_csv(path+\"/sample_submission.csv\")"
   ]
  },
  {
   "cell_type": "code",
   "execution_count": 3,
   "id": "e6f8a5d3",
   "metadata": {
    "ExecuteTime": {
     "end_time": "2022-08-25T17:16:12.418784Z",
     "start_time": "2022-08-25T17:16:12.398838Z"
    }
   },
   "outputs": [],
   "source": [
    "def lg_nrmse(gt, preds):\n",
    "    # 각 Y Feature별 NRMSE 총합\n",
    "    # Y_01 ~ Y_08 까지 20% 가중치 부여\n",
    "    all_nrmse = []\n",
    "    for idx in range(14): # ignore 'ID'\n",
    "        rmse = mean_squared_error(gt[:,idx], preds[:,idx], squared=False)\n",
    "        nrmse = rmse/np.mean(np.abs(gt[:,idx]))\n",
    "        all_nrmse.append(nrmse)\n",
    "    score = 1.2 * np.sum(all_nrmse[:8]) + 1.0 * np.sum(all_nrmse[8:14])\n",
    "    print(all_nrmse)\n",
    "    return score"
   ]
  },
  {
   "cell_type": "code",
   "execution_count": 4,
   "id": "17cfb42c",
   "metadata": {
    "ExecuteTime": {
     "end_time": "2022-08-25T17:16:13.026057Z",
     "start_time": "2022-08-25T17:16:12.980771Z"
    }
   },
   "outputs": [
    {
     "data": {
      "text/html": [
       "<div>\n",
       "<style scoped>\n",
       "    .dataframe tbody tr th:only-of-type {\n",
       "        vertical-align: middle;\n",
       "    }\n",
       "\n",
       "    .dataframe tbody tr th {\n",
       "        vertical-align: top;\n",
       "    }\n",
       "\n",
       "    .dataframe thead th {\n",
       "        text-align: right;\n",
       "    }\n",
       "</style>\n",
       "<table border=\"1\" class=\"dataframe\">\n",
       "  <thead>\n",
       "    <tr style=\"text-align: right;\">\n",
       "      <th></th>\n",
       "      <th>ID</th>\n",
       "      <th>X_01</th>\n",
       "      <th>X_02</th>\n",
       "      <th>X_03</th>\n",
       "      <th>X_04</th>\n",
       "      <th>X_05</th>\n",
       "      <th>X_06</th>\n",
       "      <th>X_07</th>\n",
       "      <th>X_08</th>\n",
       "      <th>X_09</th>\n",
       "      <th>...</th>\n",
       "      <th>Y_05</th>\n",
       "      <th>Y_06</th>\n",
       "      <th>Y_07</th>\n",
       "      <th>Y_08</th>\n",
       "      <th>Y_09</th>\n",
       "      <th>Y_10</th>\n",
       "      <th>Y_11</th>\n",
       "      <th>Y_12</th>\n",
       "      <th>Y_13</th>\n",
       "      <th>Y_14</th>\n",
       "    </tr>\n",
       "  </thead>\n",
       "  <tbody>\n",
       "    <tr>\n",
       "      <th>0</th>\n",
       "      <td>TRAIN_00001</td>\n",
       "      <td>70.544</td>\n",
       "      <td>103.320</td>\n",
       "      <td>67.47</td>\n",
       "      <td>1</td>\n",
       "      <td>101.892</td>\n",
       "      <td>74.983</td>\n",
       "      <td>29.45</td>\n",
       "      <td>62.38</td>\n",
       "      <td>245.71</td>\n",
       "      <td>...</td>\n",
       "      <td>29.632</td>\n",
       "      <td>16.083</td>\n",
       "      <td>4.276</td>\n",
       "      <td>-25.381</td>\n",
       "      <td>-25.529</td>\n",
       "      <td>-22.769</td>\n",
       "      <td>23.792</td>\n",
       "      <td>-25.470</td>\n",
       "      <td>-25.409</td>\n",
       "      <td>-25.304</td>\n",
       "    </tr>\n",
       "    <tr>\n",
       "      <th>1</th>\n",
       "      <td>TRAIN_00002</td>\n",
       "      <td>69.524</td>\n",
       "      <td>103.321</td>\n",
       "      <td>65.17</td>\n",
       "      <td>1</td>\n",
       "      <td>101.944</td>\n",
       "      <td>72.943</td>\n",
       "      <td>28.73</td>\n",
       "      <td>61.23</td>\n",
       "      <td>233.61</td>\n",
       "      <td>...</td>\n",
       "      <td>33.179</td>\n",
       "      <td>16.736</td>\n",
       "      <td>3.229</td>\n",
       "      <td>-26.619</td>\n",
       "      <td>-26.523</td>\n",
       "      <td>-22.574</td>\n",
       "      <td>24.691</td>\n",
       "      <td>-26.253</td>\n",
       "      <td>-26.497</td>\n",
       "      <td>-26.438</td>\n",
       "    </tr>\n",
       "    <tr>\n",
       "      <th>2</th>\n",
       "      <td>TRAIN_00003</td>\n",
       "      <td>72.583</td>\n",
       "      <td>103.320</td>\n",
       "      <td>64.07</td>\n",
       "      <td>1</td>\n",
       "      <td>103.153</td>\n",
       "      <td>72.943</td>\n",
       "      <td>28.81</td>\n",
       "      <td>105.77</td>\n",
       "      <td>272.20</td>\n",
       "      <td>...</td>\n",
       "      <td>31.801</td>\n",
       "      <td>17.080</td>\n",
       "      <td>2.839</td>\n",
       "      <td>-26.238</td>\n",
       "      <td>-26.216</td>\n",
       "      <td>-22.169</td>\n",
       "      <td>24.649</td>\n",
       "      <td>-26.285</td>\n",
       "      <td>-26.215</td>\n",
       "      <td>-26.370</td>\n",
       "    </tr>\n",
       "    <tr>\n",
       "      <th>3</th>\n",
       "      <td>TRAIN_00004</td>\n",
       "      <td>71.563</td>\n",
       "      <td>103.320</td>\n",
       "      <td>67.57</td>\n",
       "      <td>1</td>\n",
       "      <td>101.971</td>\n",
       "      <td>77.022</td>\n",
       "      <td>28.92</td>\n",
       "      <td>115.21</td>\n",
       "      <td>255.36</td>\n",
       "      <td>...</td>\n",
       "      <td>34.503</td>\n",
       "      <td>17.143</td>\n",
       "      <td>3.144</td>\n",
       "      <td>-25.426</td>\n",
       "      <td>-25.079</td>\n",
       "      <td>-21.765</td>\n",
       "      <td>24.913</td>\n",
       "      <td>-25.254</td>\n",
       "      <td>-25.021</td>\n",
       "      <td>-25.345</td>\n",
       "    </tr>\n",
       "    <tr>\n",
       "      <th>4</th>\n",
       "      <td>TRAIN_00005</td>\n",
       "      <td>69.524</td>\n",
       "      <td>103.320</td>\n",
       "      <td>63.57</td>\n",
       "      <td>1</td>\n",
       "      <td>101.981</td>\n",
       "      <td>70.904</td>\n",
       "      <td>29.68</td>\n",
       "      <td>103.38</td>\n",
       "      <td>241.46</td>\n",
       "      <td>...</td>\n",
       "      <td>32.602</td>\n",
       "      <td>17.569</td>\n",
       "      <td>3.138</td>\n",
       "      <td>-25.376</td>\n",
       "      <td>-25.242</td>\n",
       "      <td>-21.072</td>\n",
       "      <td>25.299</td>\n",
       "      <td>-25.072</td>\n",
       "      <td>-25.195</td>\n",
       "      <td>-24.974</td>\n",
       "    </tr>\n",
       "    <tr>\n",
       "      <th>...</th>\n",
       "      <td>...</td>\n",
       "      <td>...</td>\n",
       "      <td>...</td>\n",
       "      <td>...</td>\n",
       "      <td>...</td>\n",
       "      <td>...</td>\n",
       "      <td>...</td>\n",
       "      <td>...</td>\n",
       "      <td>...</td>\n",
       "      <td>...</td>\n",
       "      <td>...</td>\n",
       "      <td>...</td>\n",
       "      <td>...</td>\n",
       "      <td>...</td>\n",
       "      <td>...</td>\n",
       "      <td>...</td>\n",
       "      <td>...</td>\n",
       "      <td>...</td>\n",
       "      <td>...</td>\n",
       "      <td>...</td>\n",
       "      <td>...</td>\n",
       "    </tr>\n",
       "    <tr>\n",
       "      <th>39602</th>\n",
       "      <td>TRAIN_39603</td>\n",
       "      <td>66.465</td>\n",
       "      <td>103.320</td>\n",
       "      <td>62.27</td>\n",
       "      <td>1</td>\n",
       "      <td>103.150</td>\n",
       "      <td>66.825</td>\n",
       "      <td>30.20</td>\n",
       "      <td>77.83</td>\n",
       "      <td>298.05</td>\n",
       "      <td>...</td>\n",
       "      <td>29.194</td>\n",
       "      <td>16.582</td>\n",
       "      <td>3.410</td>\n",
       "      <td>-26.486</td>\n",
       "      <td>-26.581</td>\n",
       "      <td>-22.772</td>\n",
       "      <td>24.261</td>\n",
       "      <td>-26.491</td>\n",
       "      <td>-26.584</td>\n",
       "      <td>-26.580</td>\n",
       "    </tr>\n",
       "    <tr>\n",
       "      <th>39603</th>\n",
       "      <td>TRAIN_39604</td>\n",
       "      <td>66.465</td>\n",
       "      <td>103.321</td>\n",
       "      <td>62.77</td>\n",
       "      <td>1</td>\n",
       "      <td>102.021</td>\n",
       "      <td>66.825</td>\n",
       "      <td>29.21</td>\n",
       "      <td>102.25</td>\n",
       "      <td>270.67</td>\n",
       "      <td>...</td>\n",
       "      <td>29.859</td>\n",
       "      <td>15.659</td>\n",
       "      <td>3.406</td>\n",
       "      <td>-27.308</td>\n",
       "      <td>-27.203</td>\n",
       "      <td>-24.674</td>\n",
       "      <td>23.427</td>\n",
       "      <td>-27.250</td>\n",
       "      <td>-27.334</td>\n",
       "      <td>-27.325</td>\n",
       "    </tr>\n",
       "    <tr>\n",
       "      <th>39604</th>\n",
       "      <td>TRAIN_39605</td>\n",
       "      <td>68.504</td>\n",
       "      <td>103.320</td>\n",
       "      <td>64.67</td>\n",
       "      <td>1</td>\n",
       "      <td>103.144</td>\n",
       "      <td>68.864</td>\n",
       "      <td>29.96</td>\n",
       "      <td>102.61</td>\n",
       "      <td>198.07</td>\n",
       "      <td>...</td>\n",
       "      <td>24.720</td>\n",
       "      <td>16.823</td>\n",
       "      <td>3.215</td>\n",
       "      <td>-26.502</td>\n",
       "      <td>-26.687</td>\n",
       "      <td>-22.577</td>\n",
       "      <td>24.301</td>\n",
       "      <td>-26.388</td>\n",
       "      <td>-26.425</td>\n",
       "      <td>-26.601</td>\n",
       "    </tr>\n",
       "    <tr>\n",
       "      <th>39605</th>\n",
       "      <td>TRAIN_39606</td>\n",
       "      <td>66.465</td>\n",
       "      <td>103.320</td>\n",
       "      <td>63.67</td>\n",
       "      <td>1</td>\n",
       "      <td>102.025</td>\n",
       "      <td>67.845</td>\n",
       "      <td>30.30</td>\n",
       "      <td>112.60</td>\n",
       "      <td>275.52</td>\n",
       "      <td>...</td>\n",
       "      <td>26.412</td>\n",
       "      <td>15.757</td>\n",
       "      <td>4.216</td>\n",
       "      <td>-26.760</td>\n",
       "      <td>-26.634</td>\n",
       "      <td>-24.066</td>\n",
       "      <td>23.305</td>\n",
       "      <td>-26.536</td>\n",
       "      <td>-26.751</td>\n",
       "      <td>-26.635</td>\n",
       "    </tr>\n",
       "    <tr>\n",
       "      <th>39606</th>\n",
       "      <td>TRAIN_39607</td>\n",
       "      <td>66.465</td>\n",
       "      <td>103.320</td>\n",
       "      <td>65.67</td>\n",
       "      <td>1</td>\n",
       "      <td>102.004</td>\n",
       "      <td>69.884</td>\n",
       "      <td>30.16</td>\n",
       "      <td>112.90</td>\n",
       "      <td>276.06</td>\n",
       "      <td>...</td>\n",
       "      <td>30.745</td>\n",
       "      <td>16.781</td>\n",
       "      <td>3.307</td>\n",
       "      <td>-26.054</td>\n",
       "      <td>-26.251</td>\n",
       "      <td>-23.257</td>\n",
       "      <td>24.450</td>\n",
       "      <td>-26.224</td>\n",
       "      <td>-26.256</td>\n",
       "      <td>-26.093</td>\n",
       "    </tr>\n",
       "  </tbody>\n",
       "</table>\n",
       "<p>39607 rows × 71 columns</p>\n",
       "</div>"
      ],
      "text/plain": [
       "                ID    X_01     X_02   X_03  X_04     X_05    X_06   X_07  \\\n",
       "0      TRAIN_00001  70.544  103.320  67.47     1  101.892  74.983  29.45   \n",
       "1      TRAIN_00002  69.524  103.321  65.17     1  101.944  72.943  28.73   \n",
       "2      TRAIN_00003  72.583  103.320  64.07     1  103.153  72.943  28.81   \n",
       "3      TRAIN_00004  71.563  103.320  67.57     1  101.971  77.022  28.92   \n",
       "4      TRAIN_00005  69.524  103.320  63.57     1  101.981  70.904  29.68   \n",
       "...            ...     ...      ...    ...   ...      ...     ...    ...   \n",
       "39602  TRAIN_39603  66.465  103.320  62.27     1  103.150  66.825  30.20   \n",
       "39603  TRAIN_39604  66.465  103.321  62.77     1  102.021  66.825  29.21   \n",
       "39604  TRAIN_39605  68.504  103.320  64.67     1  103.144  68.864  29.96   \n",
       "39605  TRAIN_39606  66.465  103.320  63.67     1  102.025  67.845  30.30   \n",
       "39606  TRAIN_39607  66.465  103.320  65.67     1  102.004  69.884  30.16   \n",
       "\n",
       "         X_08    X_09  ...    Y_05    Y_06   Y_07    Y_08    Y_09    Y_10  \\\n",
       "0       62.38  245.71  ...  29.632  16.083  4.276 -25.381 -25.529 -22.769   \n",
       "1       61.23  233.61  ...  33.179  16.736  3.229 -26.619 -26.523 -22.574   \n",
       "2      105.77  272.20  ...  31.801  17.080  2.839 -26.238 -26.216 -22.169   \n",
       "3      115.21  255.36  ...  34.503  17.143  3.144 -25.426 -25.079 -21.765   \n",
       "4      103.38  241.46  ...  32.602  17.569  3.138 -25.376 -25.242 -21.072   \n",
       "...       ...     ...  ...     ...     ...    ...     ...     ...     ...   \n",
       "39602   77.83  298.05  ...  29.194  16.582  3.410 -26.486 -26.581 -22.772   \n",
       "39603  102.25  270.67  ...  29.859  15.659  3.406 -27.308 -27.203 -24.674   \n",
       "39604  102.61  198.07  ...  24.720  16.823  3.215 -26.502 -26.687 -22.577   \n",
       "39605  112.60  275.52  ...  26.412  15.757  4.216 -26.760 -26.634 -24.066   \n",
       "39606  112.90  276.06  ...  30.745  16.781  3.307 -26.054 -26.251 -23.257   \n",
       "\n",
       "         Y_11    Y_12    Y_13    Y_14  \n",
       "0      23.792 -25.470 -25.409 -25.304  \n",
       "1      24.691 -26.253 -26.497 -26.438  \n",
       "2      24.649 -26.285 -26.215 -26.370  \n",
       "3      24.913 -25.254 -25.021 -25.345  \n",
       "4      25.299 -25.072 -25.195 -24.974  \n",
       "...       ...     ...     ...     ...  \n",
       "39602  24.261 -26.491 -26.584 -26.580  \n",
       "39603  23.427 -27.250 -27.334 -27.325  \n",
       "39604  24.301 -26.388 -26.425 -26.601  \n",
       "39605  23.305 -26.536 -26.751 -26.635  \n",
       "39606  24.450 -26.224 -26.256 -26.093  \n",
       "\n",
       "[39607 rows x 71 columns]"
      ]
     },
     "execution_count": 4,
     "metadata": {},
     "output_type": "execute_result"
    }
   ],
   "source": [
    "train"
   ]
  },
  {
   "cell_type": "code",
   "execution_count": 5,
   "id": "bd3a7947",
   "metadata": {
    "ExecuteTime": {
     "end_time": "2022-08-25T17:16:13.509752Z",
     "start_time": "2022-08-25T17:16:13.499753Z"
    }
   },
   "outputs": [
    {
     "data": {
      "text/plain": [
       "Index(['ID', 'X_01', 'X_02', 'X_03', 'X_04', 'X_05', 'X_06', 'X_07', 'X_08',\n",
       "       'X_09', 'X_10', 'X_11', 'X_12', 'X_13', 'X_14', 'X_15', 'X_16', 'X_17',\n",
       "       'X_18', 'X_19', 'X_20', 'X_21', 'X_22', 'X_23', 'X_24', 'X_25', 'X_26',\n",
       "       'X_27', 'X_28', 'X_29', 'X_30', 'X_31', 'X_32', 'X_33', 'X_34', 'X_35',\n",
       "       'X_36', 'X_37', 'X_38', 'X_39', 'X_40', 'X_41', 'X_42', 'X_43', 'X_44',\n",
       "       'X_45', 'X_46', 'X_47', 'X_48', 'X_49', 'X_50', 'X_51', 'X_52', 'X_53',\n",
       "       'X_54', 'X_55', 'X_56', 'Y_01', 'Y_02', 'Y_03', 'Y_04', 'Y_05', 'Y_06',\n",
       "       'Y_07', 'Y_08', 'Y_09', 'Y_10', 'Y_11', 'Y_12', 'Y_13', 'Y_14'],\n",
       "      dtype='object')"
      ]
     },
     "execution_count": 5,
     "metadata": {},
     "output_type": "execute_result"
    }
   ],
   "source": [
    "train.columns"
   ]
  },
  {
   "cell_type": "code",
   "execution_count": 6,
   "id": "97181ca7",
   "metadata": {
    "ExecuteTime": {
     "end_time": "2022-08-25T17:16:14.752203Z",
     "start_time": "2022-08-25T17:16:14.724239Z"
    }
   },
   "outputs": [],
   "source": [
    "X = np.array(train[list(train.columns[1:57])])\n",
    "y = np.array(train[list(train.columns[57:])])"
   ]
  },
  {
   "cell_type": "code",
   "execution_count": 7,
   "id": "40fc7937",
   "metadata": {
    "ExecuteTime": {
     "end_time": "2022-08-25T17:16:15.765872Z",
     "start_time": "2022-08-25T17:16:15.723760Z"
    }
   },
   "outputs": [],
   "source": [
    "X_train, X_test, y_train, y_test = train_test_split(X, np.array(y), random_state=42)"
   ]
  },
  {
   "cell_type": "markdown",
   "id": "92d5aece",
   "metadata": {},
   "source": [
    "# Make base models"
   ]
  },
  {
   "cell_type": "markdown",
   "id": "278a29c7",
   "metadata": {},
   "source": [
    "각각의 모델의 에러를 가중치로 평균내어 예측한다."
   ]
  },
  {
   "cell_type": "code",
   "execution_count": 31,
   "id": "2f9a6e3f",
   "metadata": {
    "ExecuteTime": {
     "end_time": "2022-08-25T16:23:19.959160Z",
     "start_time": "2022-08-25T16:23:19.942207Z"
    }
   },
   "outputs": [],
   "source": [
    "from sklearn.tree import ExtraTreeRegressor"
   ]
  },
  {
   "cell_type": "code",
   "execution_count": 43,
   "id": "9487091e",
   "metadata": {
    "ExecuteTime": {
     "end_time": "2022-08-25T16:34:40.702178Z",
     "start_time": "2022-08-25T16:32:27.278153Z"
    }
   },
   "outputs": [
    {
     "name": "stdout",
     "output_type": "stream",
     "text": [
      "[0.09670271964051644, 0.1345721632517782, 0.13186672359605406, 0.07192073482021387, 0.029781159088212893, 0.03930302386084485, 0.04861211090853905, 0.009036646958175666, 0.008965430882527782, 0.014479332867538401, 0.012568602167582417, 0.009024673411063831, 0.008997954369851504, 0.009004457764971593]\n",
      "0.7371947900127376\n",
      "[0.25766138905404445, 0.35886539520721955, 0.3505850821448126, 0.1875901595996728, 0.08019460711328945, 0.11834099431345166, 0.12938286333961457, 0.02375178956958381, 0.023517120082524347, 0.03924488944474016, 0.03335460764072608, 0.023655385261588856, 0.023577889904899667, 0.023706885184489487]\n",
      "1.974703513928995\n"
     ]
    }
   ],
   "source": [
    "models_list=[]\n",
    "rf_model = RandomForestRegressor()\n",
    "rf_model.fit(X_train, y_train)\n",
    "print(lg_nrmse(y_train, rf_model.predict(X_train)))\n",
    "print(lg_nrmse(y_test, rf_model.predict(X_test)))"
   ]
  },
  {
   "cell_type": "code",
   "execution_count": 10,
   "id": "ed05793f",
   "metadata": {
    "ExecuteTime": {
     "end_time": "2022-08-25T14:39:20.581575Z",
     "start_time": "2022-08-25T14:39:20.508506Z"
    }
   },
   "outputs": [],
   "source": [
    "scaler = StandardScaler()\n",
    "scaler.fit(X_train)\n",
    "X_train_scaled, X_test_scaled = scaler.transform(X_train), scaler.transform(X_test) \n",
    "svm_model = MultiOutputRegressor(SVR())\n",
    "svm_model.fit(X_train_scaled, y_train)\n",
    "print(lg_nrmse(y_test, svm_model.predict(X_test_scaled)))"
   ]
  },
  {
   "cell_type": "code",
   "execution_count": 25,
   "id": "17dcd25e",
   "metadata": {
    "ExecuteTime": {
     "end_time": "2022-08-25T15:55:57.781855Z",
     "start_time": "2022-08-25T15:55:28.172176Z"
    }
   },
   "outputs": [
    {
     "name": "stdout",
     "output_type": "stream",
     "text": [
      "[0.2523191488237303, 0.3471716072995733, 0.34291181589665465, 0.17924742818676148, 0.07528309089874936, 0.0861067120607161, 0.12551482815256845, 0.023022719935640458, 0.022867724240378702, 0.03635485902932705, 0.03195408792574978, 0.022998638186077818, 0.022940338792546144, 0.02299854675715869]\n",
      "1.878007016436511\n",
      "[0.2561240472193856, 0.35727586271824735, 0.3479654264452222, 0.18822887493532348, 0.08036300316087812, 0.11843145716290114, 0.12995804292448906, 0.023770709108455572, 0.02353078587312592, 0.03925235171604544, 0.033328623048510524, 0.02364746084163248, 0.023614672274852578, 0.02370478280264867]\n",
      "1.9696195849666984\n"
     ]
    }
   ],
   "source": [
    "xgb_model = MultiOutputRegressor(XGBRegressor(max_depth=5, learning_rate=0.1, alpha=4, gamma=1, reg_lambda=7))\n",
    "xgb_model.fit(X_train, y_train)\n",
    "print(lg_nrmse(y_train, xgb_model.predict(X_train)))\n",
    "print(lg_nrmse(y_test, xgb_model.predict(X_test)))"
   ]
  },
  {
   "cell_type": "markdown",
   "id": "8ff3da00",
   "metadata": {},
   "source": [
    "# Make k-fold model list"
   ]
  },
  {
   "cell_type": "code",
   "execution_count": 68,
   "id": "c2eff2d7",
   "metadata": {
    "ExecuteTime": {
     "end_time": "2022-08-25T17:05:02.998322Z",
     "start_time": "2022-08-25T16:56:31.494728Z"
    }
   },
   "outputs": [
    {
     "name": "stdout",
     "output_type": "stream",
     "text": [
      "TRAIN: [ 5941  5942  5943 ... 29702 29703 29704] TEST: [   0    1    2 ... 5938 5939 5940]\n",
      "[0.0968982588077051, 0.13493379906531625, 0.1322291423198844, 0.06990854383380529, 0.029795495303081235, 0.041120252490417626, 0.04863168862442539, 0.008988719402081468, 0.008904755378445591, 0.014576228855578958, 0.012544719796381451, 0.008951184465179122, 0.008947913153435324, 0.008955143795984903]\n",
      "0.7378870252610653\n",
      "[0.25725632925758907, 0.35854823526404667, 0.3520502137909118, 0.19044036114193488, 0.08074997011469774, 0.10544975272401833, 0.13074285626407803, 0.02455845832504542, 0.0243004462215293, 0.038963182781578336, 0.03419552426913025, 0.02446037191112769, 0.024386764211662425, 0.024446302771107223]\n",
      "1.9705080044249217\n",
      "TRAIN: [    0     1     2 ... 29702 29703 29704] TEST: [ 5941  5942  5943 ... 11879 11880 11881]\n",
      "[0.09709111226493157, 0.13484122414472058, 0.13206485303098467, 0.070363904189417, 0.02991219815989195, 0.04303463450028892, 0.04888005895021412, 0.009021830818256938, 0.008933215263449402, 0.014756789599501819, 0.012546190455880953, 0.008990654735565243, 0.008977645776328525, 0.008985945785692683]\n",
      "0.7414422208868655\n",
      "[0.2558569272285747, 0.3623841997832105, 0.35315760056748186, 0.1859741731004432, 0.07921341070005301, 0.10429437966952991, 0.12902615954670854, 0.02380642681786653, 0.02363493179992537, 0.03842984445633161, 0.03350212219668665, 0.023733621864605984, 0.023775875427946857, 0.023837914165360952]\n",
      "1.9593702428074995\n",
      "TRAIN: [    0     1     2 ... 29702 29703 29704] TEST: [11882 11883 11884 ... 17820 17821 17822]\n",
      "[0.09611860293715165, 0.1339551608576436, 0.13122626233311407, 0.07000277625596021, 0.029808229471324364, 0.040017662011399655, 0.048428156700703544, 0.009017144154855059, 0.008924688131995215, 0.01449128824801596, 0.012566059743087008, 0.008968639603851658, 0.008969229175404027, 0.008983157268038472]\n",
      "0.7331918558369749\n",
      "[0.2623102462826622, 0.36272032520797687, 0.354916144674059, 0.1886222683953164, 0.0800593539161684, 0.12084129319148584, 0.13219256805149898, 0.023891568429353895, 0.023718229922528773, 0.03976227106301147, 0.03332534564376521, 0.02386382951646899, 0.023804620496232626, 0.023874867395711503]\n",
      "1.9990136858159444\n",
      "TRAIN: [    0     1     2 ... 29702 29703 29704] TEST: [17823 17824 17825 ... 23761 23762 23763]\n",
      "[0.0970947067786115, 0.13487626637685957, 0.13212098200093159, 0.07050189255928861, 0.02988544581725196, 0.04177942703988237, 0.04886800790745856, 0.008993751290765042, 0.008913043680529316, 0.014631056102221584, 0.012577047818884251, 0.008962129836837087, 0.00895809798490193, 0.00896848119176562]\n",
      "0.7399544323403988\n",
      "[0.25845225317128645, 0.3607938716919932, 0.3547768047305849, 0.18544135660833594, 0.07886417172133973, 0.10868076815922674, 0.12866780489627644, 0.02389169028342001, 0.02365113833139237, 0.03852810556842226, 0.03342154497663169, 0.023833566331713393, 0.023814080663545192, 0.02390817316783707]\n",
      "1.966639074554498\n",
      "TRAIN: [    0     1     2 ... 23761 23762 23763] TEST: [23764 23765 23766 ... 29702 29703 29704]\n",
      "[0.09666110972197446, 0.13503944298133705, 0.13232951822772326, 0.07002498111056314, 0.029774638254010367, 0.04081771722093502, 0.048745047731894885, 0.008976287153280143, 0.008904786342972395, 0.014524780987003034, 0.012566353505882916, 0.008957182054229596, 0.008948290295414024, 0.008966574339484192]\n",
      "0.7377104584070481\n",
      "[0.25855093237604654, 0.35489861875536793, 0.3478879782885802, 0.1881500321927056, 0.08025354076109484, 0.10602407018311565, 0.12980278491681566, 0.024070424157530784, 0.023773022364625182, 0.03871264845062571, 0.03345750728560309, 0.023924061933669256, 0.02387568523661865, 0.023877713889911882]\n",
      "1.955186697118562\n"
     ]
    }
   ],
   "source": [
    "kf = KFold(n_splits=5)\n",
    "model_list=[]\n",
    "for train_index, test_index in kf.split(X_train):\n",
    "    print(\"TRAIN:\", train_index, \"TEST:\", test_index)\n",
    "    X_train_, X_test_ = X_train[train_index], X_train[test_index]\n",
    "    y_train_, y_test_ = y_train[train_index], y_train[test_index]\n",
    "    rf_model = RandomForestRegressor()\n",
    "    rf_model.fit(X_train_, y_train_)\n",
    "    print(lg_nrmse(y_train_, rf_model.predict(X_train_)))\n",
    "    print(lg_nrmse(y_test_, rf_model.predict(X_test_)))\n",
    "    model_list.append(rf_model)"
   ]
  },
  {
   "cell_type": "markdown",
   "id": "dc336886",
   "metadata": {},
   "source": [
    "## SVM "
   ]
  },
  {
   "cell_type": "code",
   "execution_count": 9,
   "id": "946fe2d4",
   "metadata": {
    "ExecuteTime": {
     "end_time": "2022-08-25T21:07:12.269796Z",
     "start_time": "2022-08-25T17:17:13.628594Z"
    }
   },
   "outputs": [
    {
     "name": "stdout",
     "output_type": "stream",
     "text": [
      "TRAIN: [ 7922  7923  7924 ... 39604 39605 39606] TEST: [   0    1    2 ... 7919 7920 7921]\n",
      "[0.2815756897092332, 0.37063937424303056, 0.36987828250168964, 0.1856965413527071, 0.08577237882852964, 0.18691677366001389, 0.14722979041520667, 0.02727669425390407, 0.027008057302565516, 0.04593303162893563, 0.035488417318156794, 0.027144869897271377, 0.027255197314886483, 0.02713577254239472]\n",
      "2.175947975961388\n",
      "TRAIN: [    0     1     2 ... 39604 39605 39606] TEST: [ 7922  7923  7924 ... 15841 15842 15843]\n",
      "[0.2694430091705296, 0.35866987420717134, 0.35615010044913736, 0.18125981809516695, 0.08296816358174403, 0.15275360792786732, 0.14174317582607596, 0.026020854499405364, 0.02583647057696563, 0.041580958653128955, 0.03457091577568738, 0.025805771884371092, 0.025807472663254213, 0.025921746359970705]\n",
      "2.0623336604218956\n",
      "TRAIN: [    0     1     2 ... 39604 39605 39606] TEST: [15844 15845 15846 ... 23762 23763 23764]\n",
      "[0.25626473679844414, 0.37080209850582807, 0.3615477084808052, 0.19393407463650442, 0.07816039974622443, 0.04674536018788964, 0.12787248350198419, 0.02305258785096167, 0.02288749292967534, 0.0362967906341636, 0.03332010246128651, 0.023180876624332745, 0.0229940183143398, 0.02306523276932075]\n",
      "1.9117998533834886\n",
      "TRAIN: [    0     1     2 ... 39604 39605 39606] TEST: [23765 23766 23767 ... 31683 31684 31685]\n",
      "[0.26679181388539364, 0.3790051723423819, 0.3665627465314154, 0.21734185654312552, 0.08284533210386938, 0.049668412587437025, 0.13063852703464485, 0.024104593808768754, 0.023876231175190818, 0.03845892223203804, 0.035417697342948966, 0.024151484556039247, 0.024039715946579433, 0.024069789603769633]\n",
      "1.9903639866610097\n",
      "TRAIN: [    0     1     2 ... 31683 31684 31685] TEST: [31686 31687 31688 ... 39604 39605 39606]\n",
      "[0.2535904711906282, 0.3700384237047678, 0.35693415092067216, 0.19023603714357015, 0.07718825581557505, 0.04584976970147281, 0.1259732742845102, 0.022263271202074116, 0.022157234743503347, 0.03612738414791928, 0.032559720847704476, 0.022379448781690677, 0.022282204551749736, 0.022336062101849956]\n",
      "1.8883304399303422\n"
     ]
    }
   ],
   "source": [
    "kf = KFold(n_splits=5)\n",
    "scaler = StandardScaler()\n",
    "X_scaled = scaler.fit_transform(X)\n",
    "model_list=[]\n",
    "for train_index, test_index in kf.split(X_scaled):\n",
    "    print(\"TRAIN:\", train_index, \"TEST:\", test_index)\n",
    "    X_train_, X_test_ = X_scaled[train_index], X_scaled[test_index]\n",
    "    y_train_, y_test_ = y[train_index], y[test_index]\n",
    "    svm_model = MultiOutputRegressor(SVR())\n",
    "    svm_model.fit(X_train_, y_train_)\n",
    "#     print(lg_nrmse(y_train_, svm_model.predict(X_train_)))\n",
    "    print(lg_nrmse(y_test_, svm_model.predict(X_test_)))\n",
    "    model_list.append(svm_model)"
   ]
  },
  {
   "cell_type": "code",
   "execution_count": 22,
   "id": "a8cd9072",
   "metadata": {
    "ExecuteTime": {
     "end_time": "2022-08-26T01:53:11.543917Z",
     "start_time": "2022-08-26T01:53:11.494051Z"
    }
   },
   "outputs": [
    {
     "name": "stderr",
     "output_type": "stream",
     "text": [
      "C:\\Users\\hjhhi\\anaconda3\\envs\\python3.9.0\\lib\\site-packages\\sklearn\\base.py:443: UserWarning: X has feature names, but StandardScaler was fitted without feature names\n",
      "  warnings.warn(\n"
     ]
    }
   ],
   "source": [
    "X_test_submission = test[list(test.columns[1:57])]\n",
    "X_test_submission_scaled = scaler.transform(X_test_submission)"
   ]
  },
  {
   "cell_type": "code",
   "execution_count": 23,
   "id": "dd85b578",
   "metadata": {
    "ExecuteTime": {
     "end_time": "2022-08-26T04:03:41.231072Z",
     "start_time": "2022-08-26T01:53:15.454182Z"
    }
   },
   "outputs": [],
   "source": [
    "pred=[]\n",
    "for i in range(len(model_list)):\n",
    "    pred.append(model_list[i].predict(X_test_submission_scaled))"
   ]
  },
  {
   "cell_type": "code",
   "execution_count": 27,
   "id": "b1a1357c",
   "metadata": {
    "ExecuteTime": {
     "end_time": "2022-08-26T04:10:29.540652Z",
     "start_time": "2022-08-26T04:10:29.504215Z"
    }
   },
   "outputs": [
    {
     "data": {
      "text/plain": [
       "['./svm_pred_test.pkl']"
      ]
     },
     "execution_count": 27,
     "metadata": {},
     "output_type": "execute_result"
    }
   ],
   "source": [
    "joblib.dump(pred, \"./svm_pred_test.pkl\")"
   ]
  },
  {
   "cell_type": "code",
   "execution_count": 26,
   "id": "b63db611",
   "metadata": {
    "ExecuteTime": {
     "end_time": "2022-08-26T04:10:04.837480Z",
     "start_time": "2022-08-26T04:10:04.724253Z"
    }
   },
   "outputs": [
    {
     "ename": "ValueError",
     "evalue": "Found input variables with inconsistent numbers of samples: [9902, 39608]",
     "output_type": "error",
     "traceback": [
      "\u001b[1;31m---------------------------------------------------------------------------\u001b[0m",
      "\u001b[1;31mValueError\u001b[0m                                Traceback (most recent call last)",
      "Input \u001b[1;32mIn [26]\u001b[0m, in \u001b[0;36m<cell line: 1>\u001b[1;34m()\u001b[0m\n\u001b[1;32m----> 1\u001b[0m \u001b[43mlg_nrmse\u001b[49m\u001b[43m(\u001b[49m\u001b[43my_test\u001b[49m\u001b[43m,\u001b[49m\u001b[43m \u001b[49m\u001b[43mnp\u001b[49m\u001b[38;5;241;43m.\u001b[39;49m\u001b[43msum\u001b[49m\u001b[43m(\u001b[49m\u001b[43mpred\u001b[49m\u001b[43m,\u001b[49m\u001b[43m \u001b[49m\u001b[43maxis\u001b[49m\u001b[38;5;241;43m=\u001b[39;49m\u001b[38;5;241;43m0\u001b[39;49m\u001b[43m)\u001b[49m\u001b[38;5;241;43m/\u001b[39;49m\u001b[38;5;241;43m5\u001b[39;49m\u001b[43m)\u001b[49m\n",
      "Input \u001b[1;32mIn [3]\u001b[0m, in \u001b[0;36mlg_nrmse\u001b[1;34m(gt, preds)\u001b[0m\n\u001b[0;32m      4\u001b[0m all_nrmse \u001b[38;5;241m=\u001b[39m []\n\u001b[0;32m      5\u001b[0m \u001b[38;5;28;01mfor\u001b[39;00m idx \u001b[38;5;129;01min\u001b[39;00m \u001b[38;5;28mrange\u001b[39m(\u001b[38;5;241m14\u001b[39m): \u001b[38;5;66;03m# ignore 'ID'\u001b[39;00m\n\u001b[1;32m----> 6\u001b[0m     rmse \u001b[38;5;241m=\u001b[39m \u001b[43mmean_squared_error\u001b[49m\u001b[43m(\u001b[49m\u001b[43mgt\u001b[49m\u001b[43m[\u001b[49m\u001b[43m:\u001b[49m\u001b[43m,\u001b[49m\u001b[43midx\u001b[49m\u001b[43m]\u001b[49m\u001b[43m,\u001b[49m\u001b[43m \u001b[49m\u001b[43mpreds\u001b[49m\u001b[43m[\u001b[49m\u001b[43m:\u001b[49m\u001b[43m,\u001b[49m\u001b[43midx\u001b[49m\u001b[43m]\u001b[49m\u001b[43m,\u001b[49m\u001b[43m \u001b[49m\u001b[43msquared\u001b[49m\u001b[38;5;241;43m=\u001b[39;49m\u001b[38;5;28;43;01mFalse\u001b[39;49;00m\u001b[43m)\u001b[49m\n\u001b[0;32m      7\u001b[0m     nrmse \u001b[38;5;241m=\u001b[39m rmse\u001b[38;5;241m/\u001b[39mnp\u001b[38;5;241m.\u001b[39mmean(np\u001b[38;5;241m.\u001b[39mabs(gt[:,idx]))\n\u001b[0;32m      8\u001b[0m     all_nrmse\u001b[38;5;241m.\u001b[39mappend(nrmse)\n",
      "File \u001b[1;32m~\\anaconda3\\envs\\python3.9.0\\lib\\site-packages\\sklearn\\metrics\\_regression.py:438\u001b[0m, in \u001b[0;36mmean_squared_error\u001b[1;34m(y_true, y_pred, sample_weight, multioutput, squared)\u001b[0m\n\u001b[0;32m    378\u001b[0m \u001b[38;5;28;01mdef\u001b[39;00m \u001b[38;5;21mmean_squared_error\u001b[39m(\n\u001b[0;32m    379\u001b[0m     y_true, y_pred, \u001b[38;5;241m*\u001b[39m, sample_weight\u001b[38;5;241m=\u001b[39m\u001b[38;5;28;01mNone\u001b[39;00m, multioutput\u001b[38;5;241m=\u001b[39m\u001b[38;5;124m\"\u001b[39m\u001b[38;5;124muniform_average\u001b[39m\u001b[38;5;124m\"\u001b[39m, squared\u001b[38;5;241m=\u001b[39m\u001b[38;5;28;01mTrue\u001b[39;00m\n\u001b[0;32m    380\u001b[0m ):\n\u001b[0;32m    381\u001b[0m     \u001b[38;5;124;03m\"\"\"Mean squared error regression loss.\u001b[39;00m\n\u001b[0;32m    382\u001b[0m \n\u001b[0;32m    383\u001b[0m \u001b[38;5;124;03m    Read more in the :ref:`User Guide <mean_squared_error>`.\u001b[39;00m\n\u001b[1;32m   (...)\u001b[0m\n\u001b[0;32m    436\u001b[0m \u001b[38;5;124;03m    0.825...\u001b[39;00m\n\u001b[0;32m    437\u001b[0m \u001b[38;5;124;03m    \"\"\"\u001b[39;00m\n\u001b[1;32m--> 438\u001b[0m     y_type, y_true, y_pred, multioutput \u001b[38;5;241m=\u001b[39m \u001b[43m_check_reg_targets\u001b[49m\u001b[43m(\u001b[49m\n\u001b[0;32m    439\u001b[0m \u001b[43m        \u001b[49m\u001b[43my_true\u001b[49m\u001b[43m,\u001b[49m\u001b[43m \u001b[49m\u001b[43my_pred\u001b[49m\u001b[43m,\u001b[49m\u001b[43m \u001b[49m\u001b[43mmultioutput\u001b[49m\n\u001b[0;32m    440\u001b[0m \u001b[43m    \u001b[49m\u001b[43m)\u001b[49m\n\u001b[0;32m    441\u001b[0m     check_consistent_length(y_true, y_pred, sample_weight)\n\u001b[0;32m    442\u001b[0m     output_errors \u001b[38;5;241m=\u001b[39m np\u001b[38;5;241m.\u001b[39maverage((y_true \u001b[38;5;241m-\u001b[39m y_pred) \u001b[38;5;241m*\u001b[39m\u001b[38;5;241m*\u001b[39m \u001b[38;5;241m2\u001b[39m, axis\u001b[38;5;241m=\u001b[39m\u001b[38;5;241m0\u001b[39m, weights\u001b[38;5;241m=\u001b[39msample_weight)\n",
      "File \u001b[1;32m~\\anaconda3\\envs\\python3.9.0\\lib\\site-packages\\sklearn\\metrics\\_regression.py:94\u001b[0m, in \u001b[0;36m_check_reg_targets\u001b[1;34m(y_true, y_pred, multioutput, dtype)\u001b[0m\n\u001b[0;32m     60\u001b[0m \u001b[38;5;28;01mdef\u001b[39;00m \u001b[38;5;21m_check_reg_targets\u001b[39m(y_true, y_pred, multioutput, dtype\u001b[38;5;241m=\u001b[39m\u001b[38;5;124m\"\u001b[39m\u001b[38;5;124mnumeric\u001b[39m\u001b[38;5;124m\"\u001b[39m):\n\u001b[0;32m     61\u001b[0m     \u001b[38;5;124;03m\"\"\"Check that y_true and y_pred belong to the same regression task.\u001b[39;00m\n\u001b[0;32m     62\u001b[0m \n\u001b[0;32m     63\u001b[0m \u001b[38;5;124;03m    Parameters\u001b[39;00m\n\u001b[1;32m   (...)\u001b[0m\n\u001b[0;32m     92\u001b[0m \u001b[38;5;124;03m        the dtype argument passed to check_array.\u001b[39;00m\n\u001b[0;32m     93\u001b[0m \u001b[38;5;124;03m    \"\"\"\u001b[39;00m\n\u001b[1;32m---> 94\u001b[0m     \u001b[43mcheck_consistent_length\u001b[49m\u001b[43m(\u001b[49m\u001b[43my_true\u001b[49m\u001b[43m,\u001b[49m\u001b[43m \u001b[49m\u001b[43my_pred\u001b[49m\u001b[43m)\u001b[49m\n\u001b[0;32m     95\u001b[0m     y_true \u001b[38;5;241m=\u001b[39m check_array(y_true, ensure_2d\u001b[38;5;241m=\u001b[39m\u001b[38;5;28;01mFalse\u001b[39;00m, dtype\u001b[38;5;241m=\u001b[39mdtype)\n\u001b[0;32m     96\u001b[0m     y_pred \u001b[38;5;241m=\u001b[39m check_array(y_pred, ensure_2d\u001b[38;5;241m=\u001b[39m\u001b[38;5;28;01mFalse\u001b[39;00m, dtype\u001b[38;5;241m=\u001b[39mdtype)\n",
      "File \u001b[1;32m~\\anaconda3\\envs\\python3.9.0\\lib\\site-packages\\sklearn\\utils\\validation.py:332\u001b[0m, in \u001b[0;36mcheck_consistent_length\u001b[1;34m(*arrays)\u001b[0m\n\u001b[0;32m    330\u001b[0m uniques \u001b[38;5;241m=\u001b[39m np\u001b[38;5;241m.\u001b[39munique(lengths)\n\u001b[0;32m    331\u001b[0m \u001b[38;5;28;01mif\u001b[39;00m \u001b[38;5;28mlen\u001b[39m(uniques) \u001b[38;5;241m>\u001b[39m \u001b[38;5;241m1\u001b[39m:\n\u001b[1;32m--> 332\u001b[0m     \u001b[38;5;28;01mraise\u001b[39;00m \u001b[38;5;167;01mValueError\u001b[39;00m(\n\u001b[0;32m    333\u001b[0m         \u001b[38;5;124m\"\u001b[39m\u001b[38;5;124mFound input variables with inconsistent numbers of samples: \u001b[39m\u001b[38;5;132;01m%r\u001b[39;00m\u001b[38;5;124m\"\u001b[39m\n\u001b[0;32m    334\u001b[0m         \u001b[38;5;241m%\u001b[39m [\u001b[38;5;28mint\u001b[39m(l) \u001b[38;5;28;01mfor\u001b[39;00m l \u001b[38;5;129;01min\u001b[39;00m lengths]\n\u001b[0;32m    335\u001b[0m     )\n",
      "\u001b[1;31mValueError\u001b[0m: Found input variables with inconsistent numbers of samples: [9902, 39608]"
     ]
    }
   ],
   "source": [
    "lg_nrmse(y_test, np.sum(pred, axis=0)/5)"
   ]
  },
  {
   "cell_type": "code",
   "execution_count": 27,
   "id": "05c0b415",
   "metadata": {
    "ExecuteTime": {
     "end_time": "2022-08-25T16:02:42.489280Z",
     "start_time": "2022-08-25T15:56:28.269769Z"
    }
   },
   "outputs": [],
   "source": [
    "pred_1 = rf_model.predict(X_test)*0.4\n",
    "pred_2 = svm_model.predict(X_test_scaled) * 0.2\n",
    "pred_3 = xgb_model.predict(X_test)*0.4"
   ]
  },
  {
   "cell_type": "code",
   "execution_count": 29,
   "id": "76a5964a",
   "metadata": {
    "ExecuteTime": {
     "end_time": "2022-08-25T16:17:13.894919Z",
     "start_time": "2022-08-25T16:17:13.878962Z"
    }
   },
   "outputs": [],
   "source": [
    "pred = pred_1 + pred_2 + pred_3"
   ]
  },
  {
   "cell_type": "code",
   "execution_count": 28,
   "id": "4b2fcf77",
   "metadata": {
    "ExecuteTime": {
     "end_time": "2022-08-26T07:36:49.002151Z",
     "start_time": "2022-08-26T07:36:48.896879Z"
    }
   },
   "outputs": [
    {
     "ename": "TypeError",
     "evalue": "list indices must be integers or slices, not tuple",
     "output_type": "error",
     "traceback": [
      "\u001b[1;31m---------------------------------------------------------------------------\u001b[0m",
      "\u001b[1;31mTypeError\u001b[0m                                 Traceback (most recent call last)",
      "Input \u001b[1;32mIn [28]\u001b[0m, in \u001b[0;36m<cell line: 1>\u001b[1;34m()\u001b[0m\n\u001b[1;32m----> 1\u001b[0m \u001b[43mlg_nrmse\u001b[49m\u001b[43m(\u001b[49m\u001b[43my_test\u001b[49m\u001b[43m,\u001b[49m\u001b[43m \u001b[49m\u001b[43mpred\u001b[49m\u001b[43m)\u001b[49m\n",
      "Input \u001b[1;32mIn [3]\u001b[0m, in \u001b[0;36mlg_nrmse\u001b[1;34m(gt, preds)\u001b[0m\n\u001b[0;32m      4\u001b[0m all_nrmse \u001b[38;5;241m=\u001b[39m []\n\u001b[0;32m      5\u001b[0m \u001b[38;5;28;01mfor\u001b[39;00m idx \u001b[38;5;129;01min\u001b[39;00m \u001b[38;5;28mrange\u001b[39m(\u001b[38;5;241m14\u001b[39m): \u001b[38;5;66;03m# ignore 'ID'\u001b[39;00m\n\u001b[1;32m----> 6\u001b[0m     rmse \u001b[38;5;241m=\u001b[39m mean_squared_error(gt[:,idx], \u001b[43mpreds\u001b[49m\u001b[43m[\u001b[49m\u001b[43m:\u001b[49m\u001b[43m,\u001b[49m\u001b[43midx\u001b[49m\u001b[43m]\u001b[49m, squared\u001b[38;5;241m=\u001b[39m\u001b[38;5;28;01mFalse\u001b[39;00m)\n\u001b[0;32m      7\u001b[0m     nrmse \u001b[38;5;241m=\u001b[39m rmse\u001b[38;5;241m/\u001b[39mnp\u001b[38;5;241m.\u001b[39mmean(np\u001b[38;5;241m.\u001b[39mabs(gt[:,idx]))\n\u001b[0;32m      8\u001b[0m     all_nrmse\u001b[38;5;241m.\u001b[39mappend(nrmse)\n",
      "\u001b[1;31mTypeError\u001b[0m: list indices must be integers or slices, not tuple"
     ]
    }
   ],
   "source": [
    "lg_nrmse(y_test, pred)"
   ]
  },
  {
   "cell_type": "markdown",
   "id": "eb2cc04c",
   "metadata": {},
   "source": [
    "# Submission"
   ]
  },
  {
   "cell_type": "code",
   "execution_count": 22,
   "id": "9d5add2a",
   "metadata": {
    "ExecuteTime": {
     "end_time": "2022-08-25T15:52:55.560915Z",
     "start_time": "2022-08-25T15:52:55.460458Z"
    }
   },
   "outputs": [],
   "source": [
    "import joblib\n",
    "svm_model = joblib.load(\"./svm.pkl\")\n",
    "pred_svm = joblib.load(\"./pred_svm.pkl\")"
   ]
  },
  {
   "cell_type": "code",
   "execution_count": 12,
   "id": "bd400646",
   "metadata": {
    "ExecuteTime": {
     "end_time": "2022-08-25T14:39:30.955142Z",
     "start_time": "2022-08-25T14:39:30.916140Z"
    }
   },
   "outputs": [],
   "source": [
    "X_test_submission = test[list(test.columns[1:57])]\n",
    "X_test_submission_scaled = scaler.transform(X_test_submission)"
   ]
  },
  {
   "cell_type": "code",
   "execution_count": 20,
   "id": "93c77910",
   "metadata": {
    "ExecuteTime": {
     "end_time": "2022-08-25T15:51:59.947645Z",
     "start_time": "2022-08-25T15:51:59.932684Z"
    }
   },
   "outputs": [
    {
     "ename": "NameError",
     "evalue": "name 'rf_model' is not defined",
     "output_type": "error",
     "traceback": [
      "\u001b[1;31m---------------------------------------------------------------------------\u001b[0m",
      "\u001b[1;31mNameError\u001b[0m                                 Traceback (most recent call last)",
      "Input \u001b[1;32mIn [20]\u001b[0m, in \u001b[0;36m<cell line: 1>\u001b[1;34m()\u001b[0m\n\u001b[1;32m----> 1\u001b[0m pred_1 \u001b[38;5;241m=\u001b[39m \u001b[43mrf_model\u001b[49m\u001b[38;5;241m.\u001b[39mpredict(X_test_submission)\u001b[38;5;241m*\u001b[39m\u001b[38;5;241m0.5\u001b[39m\n",
      "\u001b[1;31mNameError\u001b[0m: name 'rf_model' is not defined"
     ]
    }
   ],
   "source": [
    "pred_1 = rf_model.predict(X_test_submission)*0.4"
   ]
  },
  {
   "cell_type": "code",
   "execution_count": null,
   "id": "fa6c1371",
   "metadata": {},
   "outputs": [],
   "source": [
    "pred_2 = pred_svm * 0.2"
   ]
  },
  {
   "cell_type": "code",
   "execution_count": 21,
   "id": "9d2537c2",
   "metadata": {
    "ExecuteTime": {
     "end_time": "2022-08-25T15:52:01.672529Z",
     "start_time": "2022-08-25T15:52:01.644437Z"
    }
   },
   "outputs": [
    {
     "ename": "NameError",
     "evalue": "name 'xgb_model' is not defined",
     "output_type": "error",
     "traceback": [
      "\u001b[1;31m---------------------------------------------------------------------------\u001b[0m",
      "\u001b[1;31mNameError\u001b[0m                                 Traceback (most recent call last)",
      "Input \u001b[1;32mIn [21]\u001b[0m, in \u001b[0;36m<cell line: 1>\u001b[1;34m()\u001b[0m\n\u001b[1;32m----> 1\u001b[0m pred_3 \u001b[38;5;241m=\u001b[39m \u001b[43mxgb_model\u001b[49m\u001b[38;5;241m.\u001b[39mpredict(X_test_submission)\u001b[38;5;241m*\u001b[39m\u001b[38;5;241m0.5\u001b[39m\n",
      "\u001b[1;31mNameError\u001b[0m: name 'xgb_model' is not defined"
     ]
    }
   ],
   "source": [
    "pred_3 = xgb_model.predict(X_test_submission)*0.4"
   ]
  },
  {
   "cell_type": "code",
   "execution_count": 25,
   "id": "25efbdf5",
   "metadata": {
    "ExecuteTime": {
     "end_time": "2022-08-25T14:25:24.695717Z",
     "start_time": "2022-08-25T14:25:24.676765Z"
    }
   },
   "outputs": [],
   "source": [
    "submission_data = pred_1 + pred_3"
   ]
  },
  {
   "cell_type": "code",
   "execution_count": 28,
   "id": "f2104731",
   "metadata": {
    "ExecuteTime": {
     "end_time": "2022-08-25T14:25:48.008182Z",
     "start_time": "2022-08-25T14:25:47.986241Z"
    }
   },
   "outputs": [],
   "source": [
    "submission[list(submission.columns[1:])] = submission_data"
   ]
  },
  {
   "cell_type": "code",
   "execution_count": 31,
   "id": "b204128a",
   "metadata": {
    "ExecuteTime": {
     "end_time": "2022-08-25T14:26:21.536887Z",
     "start_time": "2022-08-25T14:26:21.508933Z"
    }
   },
   "outputs": [
    {
     "data": {
      "text/html": [
       "<div>\n",
       "<style scoped>\n",
       "    .dataframe tbody tr th:only-of-type {\n",
       "        vertical-align: middle;\n",
       "    }\n",
       "\n",
       "    .dataframe tbody tr th {\n",
       "        vertical-align: top;\n",
       "    }\n",
       "\n",
       "    .dataframe thead th {\n",
       "        text-align: right;\n",
       "    }\n",
       "</style>\n",
       "<table border=\"1\" class=\"dataframe\">\n",
       "  <thead>\n",
       "    <tr style=\"text-align: right;\">\n",
       "      <th></th>\n",
       "      <th>ID</th>\n",
       "      <th>Y_01</th>\n",
       "      <th>Y_02</th>\n",
       "      <th>Y_03</th>\n",
       "      <th>Y_04</th>\n",
       "      <th>Y_05</th>\n",
       "      <th>Y_06</th>\n",
       "      <th>Y_07</th>\n",
       "      <th>Y_08</th>\n",
       "      <th>Y_09</th>\n",
       "      <th>Y_10</th>\n",
       "      <th>Y_11</th>\n",
       "      <th>Y_12</th>\n",
       "      <th>Y_13</th>\n",
       "      <th>Y_14</th>\n",
       "    </tr>\n",
       "  </thead>\n",
       "  <tbody>\n",
       "    <tr>\n",
       "      <th>0</th>\n",
       "      <td>TEST_00001</td>\n",
       "      <td>1.409515</td>\n",
       "      <td>1.210701</td>\n",
       "      <td>1.083776</td>\n",
       "      <td>13.933078</td>\n",
       "      <td>31.433623</td>\n",
       "      <td>16.756577</td>\n",
       "      <td>3.122686</td>\n",
       "      <td>-26.144023</td>\n",
       "      <td>-26.197439</td>\n",
       "      <td>-22.219550</td>\n",
       "      <td>24.426465</td>\n",
       "      <td>-26.089073</td>\n",
       "      <td>-26.061156</td>\n",
       "      <td>-26.105292</td>\n",
       "    </tr>\n",
       "    <tr>\n",
       "      <th>1</th>\n",
       "      <td>TEST_00002</td>\n",
       "      <td>1.461119</td>\n",
       "      <td>1.187049</td>\n",
       "      <td>1.120219</td>\n",
       "      <td>13.868451</td>\n",
       "      <td>31.126204</td>\n",
       "      <td>16.657150</td>\n",
       "      <td>3.105777</td>\n",
       "      <td>-26.138793</td>\n",
       "      <td>-26.162941</td>\n",
       "      <td>-22.235692</td>\n",
       "      <td>24.417072</td>\n",
       "      <td>-26.103904</td>\n",
       "      <td>-26.091830</td>\n",
       "      <td>-26.132909</td>\n",
       "    </tr>\n",
       "    <tr>\n",
       "      <th>2</th>\n",
       "      <td>TEST_00003</td>\n",
       "      <td>1.366390</td>\n",
       "      <td>1.038038</td>\n",
       "      <td>1.003808</td>\n",
       "      <td>14.027303</td>\n",
       "      <td>31.619934</td>\n",
       "      <td>16.673731</td>\n",
       "      <td>3.119544</td>\n",
       "      <td>-25.962618</td>\n",
       "      <td>-25.939933</td>\n",
       "      <td>-22.145309</td>\n",
       "      <td>24.470158</td>\n",
       "      <td>-25.925116</td>\n",
       "      <td>-25.893393</td>\n",
       "      <td>-25.882908</td>\n",
       "    </tr>\n",
       "    <tr>\n",
       "      <th>3</th>\n",
       "      <td>TEST_00004</td>\n",
       "      <td>1.425013</td>\n",
       "      <td>1.124561</td>\n",
       "      <td>1.045093</td>\n",
       "      <td>14.876444</td>\n",
       "      <td>32.198437</td>\n",
       "      <td>17.084132</td>\n",
       "      <td>3.110118</td>\n",
       "      <td>-25.639896</td>\n",
       "      <td>-25.654441</td>\n",
       "      <td>-21.805200</td>\n",
       "      <td>24.879766</td>\n",
       "      <td>-25.687802</td>\n",
       "      <td>-25.557868</td>\n",
       "      <td>-25.690587</td>\n",
       "    </tr>\n",
       "    <tr>\n",
       "      <th>4</th>\n",
       "      <td>TEST_00005</td>\n",
       "      <td>1.339584</td>\n",
       "      <td>1.039257</td>\n",
       "      <td>0.969167</td>\n",
       "      <td>14.823126</td>\n",
       "      <td>31.544785</td>\n",
       "      <td>17.015359</td>\n",
       "      <td>3.142881</td>\n",
       "      <td>-25.675690</td>\n",
       "      <td>-25.739396</td>\n",
       "      <td>-22.102114</td>\n",
       "      <td>24.768741</td>\n",
       "      <td>-25.578993</td>\n",
       "      <td>-25.634174</td>\n",
       "      <td>-25.639194</td>\n",
       "    </tr>\n",
       "    <tr>\n",
       "      <th>...</th>\n",
       "      <td>...</td>\n",
       "      <td>...</td>\n",
       "      <td>...</td>\n",
       "      <td>...</td>\n",
       "      <td>...</td>\n",
       "      <td>...</td>\n",
       "      <td>...</td>\n",
       "      <td>...</td>\n",
       "      <td>...</td>\n",
       "      <td>...</td>\n",
       "      <td>...</td>\n",
       "      <td>...</td>\n",
       "      <td>...</td>\n",
       "      <td>...</td>\n",
       "      <td>...</td>\n",
       "    </tr>\n",
       "    <tr>\n",
       "      <th>39603</th>\n",
       "      <td>TEST_39604</td>\n",
       "      <td>1.294672</td>\n",
       "      <td>0.998447</td>\n",
       "      <td>1.012693</td>\n",
       "      <td>12.803720</td>\n",
       "      <td>31.132021</td>\n",
       "      <td>16.575491</td>\n",
       "      <td>3.206131</td>\n",
       "      <td>-26.549717</td>\n",
       "      <td>-26.525038</td>\n",
       "      <td>-22.732996</td>\n",
       "      <td>24.272350</td>\n",
       "      <td>-26.438003</td>\n",
       "      <td>-26.461607</td>\n",
       "      <td>-26.466054</td>\n",
       "    </tr>\n",
       "    <tr>\n",
       "      <th>39604</th>\n",
       "      <td>TEST_39605</td>\n",
       "      <td>1.226949</td>\n",
       "      <td>0.896240</td>\n",
       "      <td>0.933956</td>\n",
       "      <td>14.105540</td>\n",
       "      <td>30.992607</td>\n",
       "      <td>16.591816</td>\n",
       "      <td>3.215134</td>\n",
       "      <td>-26.489779</td>\n",
       "      <td>-26.498661</td>\n",
       "      <td>-22.826320</td>\n",
       "      <td>24.361330</td>\n",
       "      <td>-26.442771</td>\n",
       "      <td>-26.478468</td>\n",
       "      <td>-26.412184</td>\n",
       "    </tr>\n",
       "    <tr>\n",
       "      <th>39605</th>\n",
       "      <td>TEST_39606</td>\n",
       "      <td>1.264823</td>\n",
       "      <td>0.910235</td>\n",
       "      <td>0.958471</td>\n",
       "      <td>13.050433</td>\n",
       "      <td>31.079248</td>\n",
       "      <td>16.587271</td>\n",
       "      <td>3.161601</td>\n",
       "      <td>-26.567321</td>\n",
       "      <td>-26.585213</td>\n",
       "      <td>-22.770649</td>\n",
       "      <td>24.162510</td>\n",
       "      <td>-26.500153</td>\n",
       "      <td>-26.524040</td>\n",
       "      <td>-26.507245</td>\n",
       "    </tr>\n",
       "    <tr>\n",
       "      <th>39606</th>\n",
       "      <td>TEST_39607</td>\n",
       "      <td>1.215846</td>\n",
       "      <td>0.927153</td>\n",
       "      <td>0.943064</td>\n",
       "      <td>12.815964</td>\n",
       "      <td>30.535386</td>\n",
       "      <td>16.598558</td>\n",
       "      <td>3.203439</td>\n",
       "      <td>-26.573993</td>\n",
       "      <td>-26.576417</td>\n",
       "      <td>-22.888135</td>\n",
       "      <td>24.211090</td>\n",
       "      <td>-26.511960</td>\n",
       "      <td>-26.530781</td>\n",
       "      <td>-26.531343</td>\n",
       "    </tr>\n",
       "    <tr>\n",
       "      <th>39607</th>\n",
       "      <td>TEST_39608</td>\n",
       "      <td>1.323023</td>\n",
       "      <td>0.996226</td>\n",
       "      <td>1.012866</td>\n",
       "      <td>13.196428</td>\n",
       "      <td>31.022059</td>\n",
       "      <td>16.533545</td>\n",
       "      <td>3.212789</td>\n",
       "      <td>-26.530499</td>\n",
       "      <td>-26.530665</td>\n",
       "      <td>-22.802213</td>\n",
       "      <td>24.217665</td>\n",
       "      <td>-26.446247</td>\n",
       "      <td>-26.471352</td>\n",
       "      <td>-26.440996</td>\n",
       "    </tr>\n",
       "  </tbody>\n",
       "</table>\n",
       "<p>39608 rows × 15 columns</p>\n",
       "</div>"
      ],
      "text/plain": [
       "               ID      Y_01      Y_02      Y_03       Y_04       Y_05  \\\n",
       "0      TEST_00001  1.409515  1.210701  1.083776  13.933078  31.433623   \n",
       "1      TEST_00002  1.461119  1.187049  1.120219  13.868451  31.126204   \n",
       "2      TEST_00003  1.366390  1.038038  1.003808  14.027303  31.619934   \n",
       "3      TEST_00004  1.425013  1.124561  1.045093  14.876444  32.198437   \n",
       "4      TEST_00005  1.339584  1.039257  0.969167  14.823126  31.544785   \n",
       "...           ...       ...       ...       ...        ...        ...   \n",
       "39603  TEST_39604  1.294672  0.998447  1.012693  12.803720  31.132021   \n",
       "39604  TEST_39605  1.226949  0.896240  0.933956  14.105540  30.992607   \n",
       "39605  TEST_39606  1.264823  0.910235  0.958471  13.050433  31.079248   \n",
       "39606  TEST_39607  1.215846  0.927153  0.943064  12.815964  30.535386   \n",
       "39607  TEST_39608  1.323023  0.996226  1.012866  13.196428  31.022059   \n",
       "\n",
       "            Y_06      Y_07       Y_08       Y_09       Y_10       Y_11  \\\n",
       "0      16.756577  3.122686 -26.144023 -26.197439 -22.219550  24.426465   \n",
       "1      16.657150  3.105777 -26.138793 -26.162941 -22.235692  24.417072   \n",
       "2      16.673731  3.119544 -25.962618 -25.939933 -22.145309  24.470158   \n",
       "3      17.084132  3.110118 -25.639896 -25.654441 -21.805200  24.879766   \n",
       "4      17.015359  3.142881 -25.675690 -25.739396 -22.102114  24.768741   \n",
       "...          ...       ...        ...        ...        ...        ...   \n",
       "39603  16.575491  3.206131 -26.549717 -26.525038 -22.732996  24.272350   \n",
       "39604  16.591816  3.215134 -26.489779 -26.498661 -22.826320  24.361330   \n",
       "39605  16.587271  3.161601 -26.567321 -26.585213 -22.770649  24.162510   \n",
       "39606  16.598558  3.203439 -26.573993 -26.576417 -22.888135  24.211090   \n",
       "39607  16.533545  3.212789 -26.530499 -26.530665 -22.802213  24.217665   \n",
       "\n",
       "            Y_12       Y_13       Y_14  \n",
       "0     -26.089073 -26.061156 -26.105292  \n",
       "1     -26.103904 -26.091830 -26.132909  \n",
       "2     -25.925116 -25.893393 -25.882908  \n",
       "3     -25.687802 -25.557868 -25.690587  \n",
       "4     -25.578993 -25.634174 -25.639194  \n",
       "...          ...        ...        ...  \n",
       "39603 -26.438003 -26.461607 -26.466054  \n",
       "39604 -26.442771 -26.478468 -26.412184  \n",
       "39605 -26.500153 -26.524040 -26.507245  \n",
       "39606 -26.511960 -26.530781 -26.531343  \n",
       "39607 -26.446247 -26.471352 -26.440996  \n",
       "\n",
       "[39608 rows x 15 columns]"
      ]
     },
     "execution_count": 31,
     "metadata": {},
     "output_type": "execute_result"
    }
   ],
   "source": [
    "submission"
   ]
  },
  {
   "cell_type": "code",
   "execution_count": 30,
   "id": "6fd8fcd6",
   "metadata": {
    "ExecuteTime": {
     "end_time": "2022-08-25T14:26:04.800653Z",
     "start_time": "2022-08-25T14:26:04.115973Z"
    }
   },
   "outputs": [],
   "source": [
    "submission.to_csv(\"./ensemble_submission.csv\", index=None)"
   ]
  }
 ],
 "metadata": {
  "kernelspec": {
   "display_name": "python3.9.0",
   "language": "python",
   "name": "python3.9.0"
  },
  "language_info": {
   "codemirror_mode": {
    "name": "ipython",
    "version": 3
   },
   "file_extension": ".py",
   "mimetype": "text/x-python",
   "name": "python",
   "nbconvert_exporter": "python",
   "pygments_lexer": "ipython3",
   "version": "3.9.12"
  },
  "toc": {
   "base_numbering": 1,
   "nav_menu": {},
   "number_sections": true,
   "sideBar": true,
   "skip_h1_title": false,
   "title_cell": "Table of Contents",
   "title_sidebar": "Contents",
   "toc_cell": false,
   "toc_position": {},
   "toc_section_display": true,
   "toc_window_display": true
  },
  "varInspector": {
   "cols": {
    "lenName": 16,
    "lenType": 16,
    "lenVar": 40
   },
   "kernels_config": {
    "python": {
     "delete_cmd_postfix": "",
     "delete_cmd_prefix": "del ",
     "library": "var_list.py",
     "varRefreshCmd": "print(var_dic_list())"
    },
    "r": {
     "delete_cmd_postfix": ") ",
     "delete_cmd_prefix": "rm(",
     "library": "var_list.r",
     "varRefreshCmd": "cat(var_dic_list()) "
    }
   },
   "types_to_exclude": [
    "module",
    "function",
    "builtin_function_or_method",
    "instance",
    "_Feature"
   ],
   "window_display": false
  }
 },
 "nbformat": 4,
 "nbformat_minor": 5
}
