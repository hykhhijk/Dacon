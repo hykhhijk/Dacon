{
 "cells": [
  {
   "cell_type": "markdown",
   "id": "df3f4d4f",
   "metadata": {},
   "source": [
    "# Import data& libraries "
   ]
  },
  {
   "cell_type": "code",
   "execution_count": 406,
   "id": "4ad75923",
   "metadata": {
    "ExecuteTime": {
     "end_time": "2022-11-26T17:25:07.546198Z",
     "start_time": "2022-11-26T17:25:07.542083Z"
    }
   },
   "outputs": [],
   "source": [
    "import numpy as np\n",
    "import pandas as pd\n",
    "import matplotlib.pyplot as plt\n",
    "import os\n",
    "import sys"
   ]
  },
  {
   "cell_type": "code",
   "execution_count": 407,
   "id": "919a6881",
   "metadata": {
    "ExecuteTime": {
     "end_time": "2022-11-26T17:25:07.583321Z",
     "start_time": "2022-11-26T17:25:07.549754Z"
    }
   },
   "outputs": [],
   "source": [
    "path= \"/mnt/d/Data/\"\n",
    "\n",
    "X_train = pd.read_csv(os.path.join(path, \"train.csv\"))\n",
    "X_train = X_train[X_train.columns[:-1]]\n",
    "X_train = X_train[X_train.columns[3:]]    #ID, 이미지 경로 제거\n",
    "y = train_csv[\"N_category\"]\n",
    "X_test = pd.read_csv(os.path.join(path, \"test.csv\"))\n",
    "submission = pd.read_csv(os.path.join(path, \"sample_submission.csv\"))"
   ]
  },
  {
   "cell_type": "code",
   "execution_count": 408,
   "id": "72738d0f",
   "metadata": {
    "ExecuteTime": {
     "end_time": "2022-11-26T17:25:07.595058Z",
     "start_time": "2022-11-26T17:25:07.584492Z"
    }
   },
   "outputs": [
    {
     "data": {
      "text/html": [
       "<div>\n",
       "<style scoped>\n",
       "    .dataframe tbody tr th:only-of-type {\n",
       "        vertical-align: middle;\n",
       "    }\n",
       "\n",
       "    .dataframe tbody tr th {\n",
       "        vertical-align: top;\n",
       "    }\n",
       "\n",
       "    .dataframe thead th {\n",
       "        text-align: right;\n",
       "    }\n",
       "</style>\n",
       "<table border=\"1\" class=\"dataframe\">\n",
       "  <thead>\n",
       "    <tr style=\"text-align: right;\">\n",
       "      <th></th>\n",
       "      <th>나이</th>\n",
       "      <th>수술연월일</th>\n",
       "      <th>진단명</th>\n",
       "      <th>암의 위치</th>\n",
       "      <th>암의 개수</th>\n",
       "      <th>암의 장경</th>\n",
       "      <th>NG</th>\n",
       "      <th>HG</th>\n",
       "      <th>HG_score_1</th>\n",
       "      <th>HG_score_2</th>\n",
       "      <th>...</th>\n",
       "      <th>ER</th>\n",
       "      <th>ER_Allred_score</th>\n",
       "      <th>PR</th>\n",
       "      <th>PR_Allred_score</th>\n",
       "      <th>KI-67_LI_percent</th>\n",
       "      <th>HER2</th>\n",
       "      <th>HER2_IHC</th>\n",
       "      <th>HER2_SISH</th>\n",
       "      <th>HER2_SISH_ratio</th>\n",
       "      <th>BRCA_mutation</th>\n",
       "    </tr>\n",
       "  </thead>\n",
       "  <tbody>\n",
       "    <tr>\n",
       "      <th>0</th>\n",
       "      <td>63</td>\n",
       "      <td>2015-10-23</td>\n",
       "      <td>1</td>\n",
       "      <td>2</td>\n",
       "      <td>1</td>\n",
       "      <td>19.0</td>\n",
       "      <td>2.0</td>\n",
       "      <td>1.0</td>\n",
       "      <td>2.0</td>\n",
       "      <td>2.0</td>\n",
       "      <td>...</td>\n",
       "      <td>1.0</td>\n",
       "      <td>8.0</td>\n",
       "      <td>1.0</td>\n",
       "      <td>6.0</td>\n",
       "      <td>12.0</td>\n",
       "      <td>0.0</td>\n",
       "      <td>1.0</td>\n",
       "      <td>NaN</td>\n",
       "      <td>NaN</td>\n",
       "      <td>NaN</td>\n",
       "    </tr>\n",
       "    <tr>\n",
       "      <th>1</th>\n",
       "      <td>51</td>\n",
       "      <td>2015-10-28</td>\n",
       "      <td>1</td>\n",
       "      <td>1</td>\n",
       "      <td>1</td>\n",
       "      <td>22.0</td>\n",
       "      <td>3.0</td>\n",
       "      <td>3.0</td>\n",
       "      <td>3.0</td>\n",
       "      <td>3.0</td>\n",
       "      <td>...</td>\n",
       "      <td>0.0</td>\n",
       "      <td>NaN</td>\n",
       "      <td>0.0</td>\n",
       "      <td>NaN</td>\n",
       "      <td>70.0</td>\n",
       "      <td>0.0</td>\n",
       "      <td>0.0</td>\n",
       "      <td>NaN</td>\n",
       "      <td>NaN</td>\n",
       "      <td>NaN</td>\n",
       "    </tr>\n",
       "    <tr>\n",
       "      <th>2</th>\n",
       "      <td>37</td>\n",
       "      <td>2015-10-29</td>\n",
       "      <td>1</td>\n",
       "      <td>2</td>\n",
       "      <td>1</td>\n",
       "      <td>NaN</td>\n",
       "      <td>2.0</td>\n",
       "      <td>NaN</td>\n",
       "      <td>NaN</td>\n",
       "      <td>NaN</td>\n",
       "      <td>...</td>\n",
       "      <td>1.0</td>\n",
       "      <td>7.0</td>\n",
       "      <td>1.0</td>\n",
       "      <td>4.0</td>\n",
       "      <td>7.0</td>\n",
       "      <td>0.0</td>\n",
       "      <td>1.0</td>\n",
       "      <td>NaN</td>\n",
       "      <td>NaN</td>\n",
       "      <td>0.0</td>\n",
       "    </tr>\n",
       "    <tr>\n",
       "      <th>3</th>\n",
       "      <td>54</td>\n",
       "      <td>2016-03-08</td>\n",
       "      <td>1</td>\n",
       "      <td>2</td>\n",
       "      <td>1</td>\n",
       "      <td>0.0</td>\n",
       "      <td>3.0</td>\n",
       "      <td>3.0</td>\n",
       "      <td>3.0</td>\n",
       "      <td>3.0</td>\n",
       "      <td>...</td>\n",
       "      <td>0.0</td>\n",
       "      <td>NaN</td>\n",
       "      <td>0.0</td>\n",
       "      <td>NaN</td>\n",
       "      <td>1.0</td>\n",
       "      <td>1.0</td>\n",
       "      <td>3.0</td>\n",
       "      <td>NaN</td>\n",
       "      <td>NaN</td>\n",
       "      <td>NaN</td>\n",
       "    </tr>\n",
       "    <tr>\n",
       "      <th>4</th>\n",
       "      <td>57</td>\n",
       "      <td>2015-10-30</td>\n",
       "      <td>1</td>\n",
       "      <td>2</td>\n",
       "      <td>1</td>\n",
       "      <td>8.0</td>\n",
       "      <td>2.0</td>\n",
       "      <td>2.0</td>\n",
       "      <td>3.0</td>\n",
       "      <td>2.0</td>\n",
       "      <td>...</td>\n",
       "      <td>1.0</td>\n",
       "      <td>8.0</td>\n",
       "      <td>0.0</td>\n",
       "      <td>NaN</td>\n",
       "      <td>8.0</td>\n",
       "      <td>1.0</td>\n",
       "      <td>2.0</td>\n",
       "      <td>1.0</td>\n",
       "      <td>5.44</td>\n",
       "      <td>NaN</td>\n",
       "    </tr>\n",
       "  </tbody>\n",
       "</table>\n",
       "<p>5 rows × 24 columns</p>\n",
       "</div>"
      ],
      "text/plain": [
       "   나이       수술연월일  진단명  암의 위치  암의 개수  암의 장경   NG   HG  HG_score_1  HG_score_2  \\\n",
       "0  63  2015-10-23    1      2      1   19.0  2.0  1.0         2.0         2.0   \n",
       "1  51  2015-10-28    1      1      1   22.0  3.0  3.0         3.0         3.0   \n",
       "2  37  2015-10-29    1      2      1    NaN  2.0  NaN         NaN         NaN   \n",
       "3  54  2016-03-08    1      2      1    0.0  3.0  3.0         3.0         3.0   \n",
       "4  57  2015-10-30    1      2      1    8.0  2.0  2.0         3.0         2.0   \n",
       "\n",
       "   ...   ER  ER_Allred_score   PR  PR_Allred_score  KI-67_LI_percent  HER2  \\\n",
       "0  ...  1.0              8.0  1.0              6.0              12.0   0.0   \n",
       "1  ...  0.0              NaN  0.0              NaN              70.0   0.0   \n",
       "2  ...  1.0              7.0  1.0              4.0               7.0   0.0   \n",
       "3  ...  0.0              NaN  0.0              NaN               1.0   1.0   \n",
       "4  ...  1.0              8.0  0.0              NaN               8.0   1.0   \n",
       "\n",
       "   HER2_IHC  HER2_SISH  HER2_SISH_ratio  BRCA_mutation  \n",
       "0       1.0        NaN              NaN            NaN  \n",
       "1       0.0        NaN              NaN            NaN  \n",
       "2       1.0        NaN              NaN            0.0  \n",
       "3       3.0        NaN              NaN            NaN  \n",
       "4       2.0        1.0             5.44            NaN  \n",
       "\n",
       "[5 rows x 24 columns]"
      ]
     },
     "execution_count": 408,
     "metadata": {},
     "output_type": "execute_result"
    }
   ],
   "source": [
    "X_train.head(5)"
   ]
  },
  {
   "cell_type": "code",
   "execution_count": 409,
   "id": "96e3501a",
   "metadata": {
    "ExecuteTime": {
     "end_time": "2022-11-26T17:25:07.602573Z",
     "start_time": "2022-11-26T17:25:07.596786Z"
    }
   },
   "outputs": [
    {
     "name": "stdout",
     "output_type": "stream",
     "text": [
      "<class 'pandas.core.frame.DataFrame'>\n",
      "RangeIndex: 1000 entries, 0 to 999\n",
      "Data columns (total 24 columns):\n",
      " #   Column             Non-Null Count  Dtype  \n",
      "---  ------             --------------  -----  \n",
      " 0   나이                 1000 non-null   int64  \n",
      " 1   수술연월일              1000 non-null   object \n",
      " 2   진단명                1000 non-null   int64  \n",
      " 3   암의 위치              1000 non-null   int64  \n",
      " 4   암의 개수              1000 non-null   int64  \n",
      " 5   암의 장경              931 non-null    float64\n",
      " 6   NG                 949 non-null    float64\n",
      " 7   HG                 914 non-null    float64\n",
      " 8   HG_score_1         908 non-null    float64\n",
      " 9   HG_score_2         908 non-null    float64\n",
      " 10  HG_score_3         911 non-null    float64\n",
      " 11  DCIS_or_LCIS_여부    1000 non-null   int64  \n",
      " 12  DCIS_or_LCIS_type  126 non-null    float64\n",
      " 13  T_category         996 non-null    float64\n",
      " 14  ER                 999 non-null    float64\n",
      " 15  ER_Allred_score    703 non-null    float64\n",
      " 16  PR                 999 non-null    float64\n",
      " 17  PR_Allred_score    547 non-null    float64\n",
      " 18  KI-67_LI_percent   765 non-null    float64\n",
      " 19  HER2               986 non-null    float64\n",
      " 20  HER2_IHC           976 non-null    float64\n",
      " 21  HER2_SISH          247 non-null    float64\n",
      " 22  HER2_SISH_ratio    175 non-null    float64\n",
      " 23  BRCA_mutation      55 non-null     float64\n",
      "dtypes: float64(18), int64(5), object(1)\n",
      "memory usage: 187.6+ KB\n",
      "None\n",
      "\n",
      "Size of X_train: 1000\n"
     ]
    }
   ],
   "source": [
    "print(X_train.info())\n",
    "print(f\"\\nSize of X_train: {len(X_train)}\")"
   ]
  },
  {
   "cell_type": "markdown",
   "id": "7e999a13",
   "metadata": {},
   "source": [
    "# Fill missing values"
   ]
  },
  {
   "cell_type": "code",
   "execution_count": 410,
   "id": "43c978ff",
   "metadata": {
    "ExecuteTime": {
     "end_time": "2022-11-26T17:25:07.611191Z",
     "start_time": "2022-11-26T17:25:07.603685Z"
    }
   },
   "outputs": [
    {
     "name": "stderr",
     "output_type": "stream",
     "text": [
      "/tmp/ipykernel_2208/3112579809.py:1: FutureWarning: The default value of numeric_only in DataFrame.mean is deprecated. In a future version, it will default to False. In addition, specifying 'numeric_only=None' is deprecated. Select only valid columns or specify the value of numeric_only to silence this warning.\n",
      "  X_train = X_train.fillna(X_train.mean())\n"
     ]
    }
   ],
   "source": [
    "X_train = X_train.fillna(X_train.mean())"
   ]
  },
  {
   "cell_type": "markdown",
   "id": "eacc6a97",
   "metadata": {},
   "source": [
    "# Process categorical values"
   ]
  },
  {
   "cell_type": "code",
   "execution_count": 411,
   "id": "3b5aca46",
   "metadata": {
    "ExecuteTime": {
     "end_time": "2022-11-26T17:25:07.615808Z",
     "start_time": "2022-11-26T17:25:07.612747Z"
    }
   },
   "outputs": [
    {
     "data": {
      "text/plain": [
       "0    2015-10-23\n",
       "1    2015-10-28\n",
       "2    2015-10-29\n",
       "3    2016-03-08\n",
       "4    2015-10-30\n",
       "Name: 수술연월일, dtype: object"
      ]
     },
     "execution_count": 411,
     "metadata": {},
     "output_type": "execute_result"
    }
   ],
   "source": [
    "X_train[\"수술연월일\"].head(5)"
   ]
  },
  {
   "cell_type": "code",
   "execution_count": 412,
   "id": "d3511559",
   "metadata": {
    "ExecuteTime": {
     "end_time": "2022-11-26T17:25:07.620572Z",
     "start_time": "2022-11-26T17:25:07.617251Z"
    }
   },
   "outputs": [
    {
     "data": {
      "text/plain": [
       "0      2015-10-23\n",
       "1      2015-10-28\n",
       "2      2015-10-29\n",
       "3      2016-03-08\n",
       "4      2015-10-30\n",
       "          ...    \n",
       "995    2006-12-22\n",
       "996    2006-11-17\n",
       "997    2006-11-10\n",
       "998    2006-09-22\n",
       "999    2010-09-01\n",
       "Name: 수술연월일, Length: 1000, dtype: object"
      ]
     },
     "execution_count": 412,
     "metadata": {},
     "output_type": "execute_result"
    }
   ],
   "source": [
    "X_train[\"수술연월일\"]"
   ]
  },
  {
   "cell_type": "code",
   "execution_count": 413,
   "id": "1f409a5e",
   "metadata": {
    "ExecuteTime": {
     "end_time": "2022-11-26T17:25:07.624686Z",
     "start_time": "2022-11-26T17:25:07.621619Z"
    }
   },
   "outputs": [],
   "source": [
    "X_train[\"수술연월일\"] = pd.to_datetime(X_train[\"수술연월일\"])"
   ]
  },
  {
   "cell_type": "code",
   "execution_count": 414,
   "id": "13fb8f3d",
   "metadata": {
    "ExecuteTime": {
     "end_time": "2022-11-26T17:25:07.629779Z",
     "start_time": "2022-11-26T17:25:07.626176Z"
    }
   },
   "outputs": [],
   "source": [
    "X_train[\"year\"] = X_train[\"수술연월일\"].dt.year\n",
    "X_train[\"month\"] = X_train[\"수술연월일\"].dt.month\n",
    "X_train[\"day\"] = X_train[\"수술연월일\"].dt.day\n",
    "X_train[\"day_name\"] = X_train[\"수술연월일\"].dt.day_name"
   ]
  },
  {
   "cell_type": "code",
   "execution_count": 415,
   "id": "736adfdc",
   "metadata": {
    "ExecuteTime": {
     "end_time": "2022-11-26T17:25:07.641172Z",
     "start_time": "2022-11-26T17:25:07.632715Z"
    }
   },
   "outputs": [
    {
     "name": "stdout",
     "output_type": "stream",
     "text": [
      "<class 'pandas.core.frame.DataFrame'>\n",
      "RangeIndex: 1000 entries, 0 to 999\n",
      "Data columns (total 28 columns):\n",
      " #   Column             Non-Null Count  Dtype         \n",
      "---  ------             --------------  -----         \n",
      " 0   나이                 1000 non-null   int64         \n",
      " 1   수술연월일              1000 non-null   datetime64[ns]\n",
      " 2   진단명                1000 non-null   int64         \n",
      " 3   암의 위치              1000 non-null   int64         \n",
      " 4   암의 개수              1000 non-null   int64         \n",
      " 5   암의 장경              1000 non-null   float64       \n",
      " 6   NG                 1000 non-null   float64       \n",
      " 7   HG                 1000 non-null   float64       \n",
      " 8   HG_score_1         1000 non-null   float64       \n",
      " 9   HG_score_2         1000 non-null   float64       \n",
      " 10  HG_score_3         1000 non-null   float64       \n",
      " 11  DCIS_or_LCIS_여부    1000 non-null   int64         \n",
      " 12  DCIS_or_LCIS_type  1000 non-null   float64       \n",
      " 13  T_category         1000 non-null   float64       \n",
      " 14  ER                 1000 non-null   float64       \n",
      " 15  ER_Allred_score    1000 non-null   float64       \n",
      " 16  PR                 1000 non-null   float64       \n",
      " 17  PR_Allred_score    1000 non-null   float64       \n",
      " 18  KI-67_LI_percent   1000 non-null   float64       \n",
      " 19  HER2               1000 non-null   float64       \n",
      " 20  HER2_IHC           1000 non-null   float64       \n",
      " 21  HER2_SISH          1000 non-null   float64       \n",
      " 22  HER2_SISH_ratio    1000 non-null   float64       \n",
      " 23  BRCA_mutation      1000 non-null   float64       \n",
      " 24  year               1000 non-null   int64         \n",
      " 25  month              1000 non-null   int64         \n",
      " 26  day                1000 non-null   int64         \n",
      " 27  day_name           1000 non-null   object        \n",
      "dtypes: datetime64[ns](1), float64(18), int64(8), object(1)\n",
      "memory usage: 218.9+ KB\n"
     ]
    }
   ],
   "source": [
    "X_train.info()"
   ]
  },
  {
   "cell_type": "code",
   "execution_count": 416,
   "id": "b1087cb0",
   "metadata": {
    "ExecuteTime": {
     "end_time": "2022-11-26T17:25:07.653535Z",
     "start_time": "2022-11-26T17:25:07.642415Z"
    }
   },
   "outputs": [],
   "source": [
    "date_list=[]\n",
    "for i in range(len(X_train)):\n",
    "    date_list.append(str(X_train[\"month\"][i]).zfill(2) +str(X_train[\"day\"][i]).zfill(2))"
   ]
  },
  {
   "cell_type": "code",
   "execution_count": 417,
   "id": "f2eb40e7",
   "metadata": {
    "ExecuteTime": {
     "end_time": "2022-11-26T17:25:07.659815Z",
     "start_time": "2022-11-26T17:25:07.655268Z"
    }
   },
   "outputs": [],
   "source": [
    "X_train[\"수술연월일\"] = date_list\n",
    "X_train = X_train[X_train.columns[:-1]]"
   ]
  },
  {
   "cell_type": "markdown",
   "id": "6cbe764d",
   "metadata": {},
   "source": [
    "추후 위 코드 제거하고 요일 변수 전처리할것"
   ]
  },
  {
   "cell_type": "code",
   "execution_count": 418,
   "id": "d135d1f1",
   "metadata": {
    "ExecuteTime": {
     "end_time": "2022-11-26T17:25:07.663159Z",
     "start_time": "2022-11-26T17:25:07.661027Z"
    }
   },
   "outputs": [],
   "source": [
    "from sklearn.model_selection import train_test_split"
   ]
  },
  {
   "cell_type": "code",
   "execution_count": 419,
   "id": "3d3f6d4e",
   "metadata": {
    "ExecuteTime": {
     "end_time": "2022-11-26T17:25:07.667961Z",
     "start_time": "2022-11-26T17:25:07.664462Z"
    }
   },
   "outputs": [],
   "source": [
    "X_train, X_valid, y_train, y_valid = train_test_split(X_train, y, stratify=y, test_size=0.2)"
   ]
  },
  {
   "cell_type": "markdown",
   "id": "d2a903dd",
   "metadata": {},
   "source": [
    "# Train vanilla RF "
   ]
  },
  {
   "cell_type": "code",
   "execution_count": 420,
   "id": "32b28778",
   "metadata": {
    "ExecuteTime": {
     "end_time": "2022-11-26T17:25:07.672141Z",
     "start_time": "2022-11-26T17:25:07.669045Z"
    }
   },
   "outputs": [],
   "source": [
    "from sklearn.ensemble import RandomForestClassifier"
   ]
  },
  {
   "cell_type": "code",
   "execution_count": 421,
   "id": "7757b3e8",
   "metadata": {
    "ExecuteTime": {
     "end_time": "2022-11-26T17:25:07.768874Z",
     "start_time": "2022-11-26T17:25:07.673519Z"
    }
   },
   "outputs": [
    {
     "data": {
      "text/html": [
       "<style>#sk-container-id-9 {color: black;background-color: white;}#sk-container-id-9 pre{padding: 0;}#sk-container-id-9 div.sk-toggleable {background-color: white;}#sk-container-id-9 label.sk-toggleable__label {cursor: pointer;display: block;width: 100%;margin-bottom: 0;padding: 0.3em;box-sizing: border-box;text-align: center;}#sk-container-id-9 label.sk-toggleable__label-arrow:before {content: \"▸\";float: left;margin-right: 0.25em;color: #696969;}#sk-container-id-9 label.sk-toggleable__label-arrow:hover:before {color: black;}#sk-container-id-9 div.sk-estimator:hover label.sk-toggleable__label-arrow:before {color: black;}#sk-container-id-9 div.sk-toggleable__content {max-height: 0;max-width: 0;overflow: hidden;text-align: left;background-color: #f0f8ff;}#sk-container-id-9 div.sk-toggleable__content pre {margin: 0.2em;color: black;border-radius: 0.25em;background-color: #f0f8ff;}#sk-container-id-9 input.sk-toggleable__control:checked~div.sk-toggleable__content {max-height: 200px;max-width: 100%;overflow: auto;}#sk-container-id-9 input.sk-toggleable__control:checked~label.sk-toggleable__label-arrow:before {content: \"▾\";}#sk-container-id-9 div.sk-estimator input.sk-toggleable__control:checked~label.sk-toggleable__label {background-color: #d4ebff;}#sk-container-id-9 div.sk-label input.sk-toggleable__control:checked~label.sk-toggleable__label {background-color: #d4ebff;}#sk-container-id-9 input.sk-hidden--visually {border: 0;clip: rect(1px 1px 1px 1px);clip: rect(1px, 1px, 1px, 1px);height: 1px;margin: -1px;overflow: hidden;padding: 0;position: absolute;width: 1px;}#sk-container-id-9 div.sk-estimator {font-family: monospace;background-color: #f0f8ff;border: 1px dotted black;border-radius: 0.25em;box-sizing: border-box;margin-bottom: 0.5em;}#sk-container-id-9 div.sk-estimator:hover {background-color: #d4ebff;}#sk-container-id-9 div.sk-parallel-item::after {content: \"\";width: 100%;border-bottom: 1px solid gray;flex-grow: 1;}#sk-container-id-9 div.sk-label:hover label.sk-toggleable__label {background-color: #d4ebff;}#sk-container-id-9 div.sk-serial::before {content: \"\";position: absolute;border-left: 1px solid gray;box-sizing: border-box;top: 0;bottom: 0;left: 50%;z-index: 0;}#sk-container-id-9 div.sk-serial {display: flex;flex-direction: column;align-items: center;background-color: white;padding-right: 0.2em;padding-left: 0.2em;position: relative;}#sk-container-id-9 div.sk-item {position: relative;z-index: 1;}#sk-container-id-9 div.sk-parallel {display: flex;align-items: stretch;justify-content: center;background-color: white;position: relative;}#sk-container-id-9 div.sk-item::before, #sk-container-id-9 div.sk-parallel-item::before {content: \"\";position: absolute;border-left: 1px solid gray;box-sizing: border-box;top: 0;bottom: 0;left: 50%;z-index: -1;}#sk-container-id-9 div.sk-parallel-item {display: flex;flex-direction: column;z-index: 1;position: relative;background-color: white;}#sk-container-id-9 div.sk-parallel-item:first-child::after {align-self: flex-end;width: 50%;}#sk-container-id-9 div.sk-parallel-item:last-child::after {align-self: flex-start;width: 50%;}#sk-container-id-9 div.sk-parallel-item:only-child::after {width: 0;}#sk-container-id-9 div.sk-dashed-wrapped {border: 1px dashed gray;margin: 0 0.4em 0.5em 0.4em;box-sizing: border-box;padding-bottom: 0.4em;background-color: white;}#sk-container-id-9 div.sk-label label {font-family: monospace;font-weight: bold;display: inline-block;line-height: 1.2em;}#sk-container-id-9 div.sk-label-container {text-align: center;}#sk-container-id-9 div.sk-container {/* jupyter's `normalize.less` sets `[hidden] { display: none; }` but bootstrap.min.css set `[hidden] { display: none !important; }` so we also need the `!important` here to be able to override the default hidden behavior on the sphinx rendered scikit-learn.org. See: https://github.com/scikit-learn/scikit-learn/issues/21755 */display: inline-block !important;position: relative;}#sk-container-id-9 div.sk-text-repr-fallback {display: none;}</style><div id=\"sk-container-id-9\" class=\"sk-top-container\"><div class=\"sk-text-repr-fallback\"><pre>RandomForestClassifier()</pre><b>In a Jupyter environment, please rerun this cell to show the HTML representation or trust the notebook. <br />On GitHub, the HTML representation is unable to render, please try loading this page with nbviewer.org.</b></div><div class=\"sk-container\" hidden><div class=\"sk-item\"><div class=\"sk-estimator sk-toggleable\"><input class=\"sk-toggleable__control sk-hidden--visually\" id=\"sk-estimator-id-9\" type=\"checkbox\" checked><label for=\"sk-estimator-id-9\" class=\"sk-toggleable__label sk-toggleable__label-arrow\">RandomForestClassifier</label><div class=\"sk-toggleable__content\"><pre>RandomForestClassifier()</pre></div></div></div></div></div>"
      ],
      "text/plain": [
       "RandomForestClassifier()"
      ]
     },
     "execution_count": 421,
     "metadata": {},
     "output_type": "execute_result"
    }
   ],
   "source": [
    "model = RandomForestClassifier()\n",
    "model.fit(X_train, y_train)"
   ]
  },
  {
   "cell_type": "code",
   "execution_count": 422,
   "id": "18797cb7",
   "metadata": {
    "ExecuteTime": {
     "end_time": "2022-11-26T17:25:07.780740Z",
     "start_time": "2022-11-26T17:25:07.770450Z"
    }
   },
   "outputs": [
    {
     "data": {
      "text/plain": [
       "0.83"
      ]
     },
     "execution_count": 422,
     "metadata": {},
     "output_type": "execute_result"
    }
   ],
   "source": [
    "model.score(X_valid, y_valid)"
   ]
  },
  {
   "cell_type": "code",
   "execution_count": 423,
   "id": "c7a5db41",
   "metadata": {
    "ExecuteTime": {
     "end_time": "2022-11-26T17:25:07.794763Z",
     "start_time": "2022-11-26T17:25:07.782129Z"
    }
   },
   "outputs": [
    {
     "data": {
      "text/html": [
       "<div>\n",
       "<style scoped>\n",
       "    .dataframe tbody tr th:only-of-type {\n",
       "        vertical-align: middle;\n",
       "    }\n",
       "\n",
       "    .dataframe tbody tr th {\n",
       "        vertical-align: top;\n",
       "    }\n",
       "\n",
       "    .dataframe thead th {\n",
       "        text-align: right;\n",
       "    }\n",
       "</style>\n",
       "<table border=\"1\" class=\"dataframe\">\n",
       "  <thead>\n",
       "    <tr style=\"text-align: right;\">\n",
       "      <th></th>\n",
       "      <th>ID</th>\n",
       "      <th>img_path</th>\n",
       "      <th>나이</th>\n",
       "      <th>수술연월일</th>\n",
       "      <th>진단명</th>\n",
       "      <th>암의 위치</th>\n",
       "      <th>암의 개수</th>\n",
       "      <th>암의 장경</th>\n",
       "      <th>NG</th>\n",
       "      <th>HG</th>\n",
       "      <th>...</th>\n",
       "      <th>ER</th>\n",
       "      <th>ER_Allred_score</th>\n",
       "      <th>PR</th>\n",
       "      <th>PR_Allred_score</th>\n",
       "      <th>KI-67_LI_percent</th>\n",
       "      <th>HER2</th>\n",
       "      <th>HER2_IHC</th>\n",
       "      <th>HER2_SISH</th>\n",
       "      <th>HER2_SISH_ratio</th>\n",
       "      <th>BRCA_mutation</th>\n",
       "    </tr>\n",
       "  </thead>\n",
       "  <tbody>\n",
       "    <tr>\n",
       "      <th>0</th>\n",
       "      <td>BC_01_0011</td>\n",
       "      <td>./test_imgs/BC_01_0011.png</td>\n",
       "      <td>55</td>\n",
       "      <td>2015-11-17</td>\n",
       "      <td>2</td>\n",
       "      <td>2</td>\n",
       "      <td>1</td>\n",
       "      <td>23.0</td>\n",
       "      <td>2.0</td>\n",
       "      <td>2.0</td>\n",
       "      <td>...</td>\n",
       "      <td>1.0</td>\n",
       "      <td>8.0</td>\n",
       "      <td>0.0</td>\n",
       "      <td>2.0</td>\n",
       "      <td>5.00</td>\n",
       "      <td>0.0</td>\n",
       "      <td>1.0</td>\n",
       "      <td>NaN</td>\n",
       "      <td>NaN</td>\n",
       "      <td>NaN</td>\n",
       "    </tr>\n",
       "    <tr>\n",
       "      <th>1</th>\n",
       "      <td>BC_01_0220</td>\n",
       "      <td>./test_imgs/BC_01_0220.png</td>\n",
       "      <td>43</td>\n",
       "      <td>2020-06-09</td>\n",
       "      <td>4</td>\n",
       "      <td>2</td>\n",
       "      <td>1</td>\n",
       "      <td>13.0</td>\n",
       "      <td>3.0</td>\n",
       "      <td>2.0</td>\n",
       "      <td>...</td>\n",
       "      <td>1.0</td>\n",
       "      <td>4.0</td>\n",
       "      <td>1.0</td>\n",
       "      <td>8.0</td>\n",
       "      <td>8.67</td>\n",
       "      <td>0.0</td>\n",
       "      <td>0.0</td>\n",
       "      <td>NaN</td>\n",
       "      <td>NaN</td>\n",
       "      <td>NaN</td>\n",
       "    </tr>\n",
       "    <tr>\n",
       "      <th>2</th>\n",
       "      <td>BC_01_0233</td>\n",
       "      <td>./test_imgs/BC_01_0233.png</td>\n",
       "      <td>76</td>\n",
       "      <td>2020-05-14</td>\n",
       "      <td>1</td>\n",
       "      <td>1</td>\n",
       "      <td>1</td>\n",
       "      <td>NaN</td>\n",
       "      <td>NaN</td>\n",
       "      <td>NaN</td>\n",
       "      <td>...</td>\n",
       "      <td>1.0</td>\n",
       "      <td>6.0</td>\n",
       "      <td>1.0</td>\n",
       "      <td>6.0</td>\n",
       "      <td>NaN</td>\n",
       "      <td>NaN</td>\n",
       "      <td>2.0</td>\n",
       "      <td>NaN</td>\n",
       "      <td>NaN</td>\n",
       "      <td>NaN</td>\n",
       "    </tr>\n",
       "    <tr>\n",
       "      <th>3</th>\n",
       "      <td>BC_01_0258</td>\n",
       "      <td>./test_imgs/BC_01_0258.png</td>\n",
       "      <td>58</td>\n",
       "      <td>2020-05-20</td>\n",
       "      <td>1</td>\n",
       "      <td>2</td>\n",
       "      <td>1</td>\n",
       "      <td>1.3</td>\n",
       "      <td>2.0</td>\n",
       "      <td>2.0</td>\n",
       "      <td>...</td>\n",
       "      <td>1.0</td>\n",
       "      <td>7.0</td>\n",
       "      <td>0.0</td>\n",
       "      <td>NaN</td>\n",
       "      <td>21.17</td>\n",
       "      <td>1.0</td>\n",
       "      <td>3.0</td>\n",
       "      <td>NaN</td>\n",
       "      <td>NaN</td>\n",
       "      <td>0.0</td>\n",
       "    </tr>\n",
       "    <tr>\n",
       "      <th>4</th>\n",
       "      <td>BC_01_0260</td>\n",
       "      <td>./test_imgs/BC_01_0260.png</td>\n",
       "      <td>56</td>\n",
       "      <td>2020-05-20</td>\n",
       "      <td>1</td>\n",
       "      <td>2</td>\n",
       "      <td>2</td>\n",
       "      <td>15.0</td>\n",
       "      <td>3.0</td>\n",
       "      <td>3.0</td>\n",
       "      <td>...</td>\n",
       "      <td>1.0</td>\n",
       "      <td>8.0</td>\n",
       "      <td>1.0</td>\n",
       "      <td>3.0</td>\n",
       "      <td>20.57</td>\n",
       "      <td>1.0</td>\n",
       "      <td>3.0</td>\n",
       "      <td>NaN</td>\n",
       "      <td>NaN</td>\n",
       "      <td>NaN</td>\n",
       "    </tr>\n",
       "    <tr>\n",
       "      <th>...</th>\n",
       "      <td>...</td>\n",
       "      <td>...</td>\n",
       "      <td>...</td>\n",
       "      <td>...</td>\n",
       "      <td>...</td>\n",
       "      <td>...</td>\n",
       "      <td>...</td>\n",
       "      <td>...</td>\n",
       "      <td>...</td>\n",
       "      <td>...</td>\n",
       "      <td>...</td>\n",
       "      <td>...</td>\n",
       "      <td>...</td>\n",
       "      <td>...</td>\n",
       "      <td>...</td>\n",
       "      <td>...</td>\n",
       "      <td>...</td>\n",
       "      <td>...</td>\n",
       "      <td>...</td>\n",
       "      <td>...</td>\n",
       "      <td>...</td>\n",
       "    </tr>\n",
       "    <tr>\n",
       "      <th>245</th>\n",
       "      <td>BC_01_3328</td>\n",
       "      <td>./test_imgs/BC_01_3328.png</td>\n",
       "      <td>61</td>\n",
       "      <td>2009-10-30</td>\n",
       "      <td>1</td>\n",
       "      <td>1</td>\n",
       "      <td>1</td>\n",
       "      <td>18.0</td>\n",
       "      <td>2.0</td>\n",
       "      <td>2.0</td>\n",
       "      <td>...</td>\n",
       "      <td>1.0</td>\n",
       "      <td>5.0</td>\n",
       "      <td>1.0</td>\n",
       "      <td>3.0</td>\n",
       "      <td>NaN</td>\n",
       "      <td>0.0</td>\n",
       "      <td>0.0</td>\n",
       "      <td>NaN</td>\n",
       "      <td>NaN</td>\n",
       "      <td>NaN</td>\n",
       "    </tr>\n",
       "    <tr>\n",
       "      <th>246</th>\n",
       "      <td>BC_01_3404</td>\n",
       "      <td>./test_imgs/BC_01_3404.png</td>\n",
       "      <td>42</td>\n",
       "      <td>2009-05-19</td>\n",
       "      <td>1</td>\n",
       "      <td>2</td>\n",
       "      <td>1</td>\n",
       "      <td>20.0</td>\n",
       "      <td>1.0</td>\n",
       "      <td>2.0</td>\n",
       "      <td>...</td>\n",
       "      <td>1.0</td>\n",
       "      <td>5.0</td>\n",
       "      <td>1.0</td>\n",
       "      <td>5.0</td>\n",
       "      <td>NaN</td>\n",
       "      <td>0.0</td>\n",
       "      <td>1.0</td>\n",
       "      <td>NaN</td>\n",
       "      <td>NaN</td>\n",
       "      <td>NaN</td>\n",
       "    </tr>\n",
       "    <tr>\n",
       "      <th>247</th>\n",
       "      <td>BC_01_3418</td>\n",
       "      <td>./test_imgs/BC_01_3418.png</td>\n",
       "      <td>37</td>\n",
       "      <td>2009-04-24</td>\n",
       "      <td>1</td>\n",
       "      <td>1</td>\n",
       "      <td>1</td>\n",
       "      <td>17.0</td>\n",
       "      <td>1.0</td>\n",
       "      <td>1.0</td>\n",
       "      <td>...</td>\n",
       "      <td>1.0</td>\n",
       "      <td>5.0</td>\n",
       "      <td>1.0</td>\n",
       "      <td>5.0</td>\n",
       "      <td>NaN</td>\n",
       "      <td>0.0</td>\n",
       "      <td>0.0</td>\n",
       "      <td>NaN</td>\n",
       "      <td>NaN</td>\n",
       "      <td>NaN</td>\n",
       "    </tr>\n",
       "    <tr>\n",
       "      <th>248</th>\n",
       "      <td>BC_01_3438</td>\n",
       "      <td>./test_imgs/BC_01_3438.png</td>\n",
       "      <td>37</td>\n",
       "      <td>2009-02-06</td>\n",
       "      <td>1</td>\n",
       "      <td>1</td>\n",
       "      <td>1</td>\n",
       "      <td>7.0</td>\n",
       "      <td>1.0</td>\n",
       "      <td>1.0</td>\n",
       "      <td>...</td>\n",
       "      <td>1.0</td>\n",
       "      <td>5.0</td>\n",
       "      <td>1.0</td>\n",
       "      <td>5.0</td>\n",
       "      <td>NaN</td>\n",
       "      <td>0.0</td>\n",
       "      <td>0.0</td>\n",
       "      <td>NaN</td>\n",
       "      <td>NaN</td>\n",
       "      <td>NaN</td>\n",
       "    </tr>\n",
       "    <tr>\n",
       "      <th>249</th>\n",
       "      <td>BC_01_3446</td>\n",
       "      <td>./test_imgs/BC_01_3446.png</td>\n",
       "      <td>84</td>\n",
       "      <td>2009-02-06</td>\n",
       "      <td>1</td>\n",
       "      <td>1</td>\n",
       "      <td>1</td>\n",
       "      <td>3.0</td>\n",
       "      <td>1.0</td>\n",
       "      <td>1.0</td>\n",
       "      <td>...</td>\n",
       "      <td>0.0</td>\n",
       "      <td>NaN</td>\n",
       "      <td>0.0</td>\n",
       "      <td>NaN</td>\n",
       "      <td>NaN</td>\n",
       "      <td>0.0</td>\n",
       "      <td>0.0</td>\n",
       "      <td>NaN</td>\n",
       "      <td>NaN</td>\n",
       "      <td>NaN</td>\n",
       "    </tr>\n",
       "  </tbody>\n",
       "</table>\n",
       "<p>250 rows × 26 columns</p>\n",
       "</div>"
      ],
      "text/plain": [
       "             ID                    img_path  나이       수술연월일  진단명  암의 위치  \\\n",
       "0    BC_01_0011  ./test_imgs/BC_01_0011.png  55  2015-11-17    2      2   \n",
       "1    BC_01_0220  ./test_imgs/BC_01_0220.png  43  2020-06-09    4      2   \n",
       "2    BC_01_0233  ./test_imgs/BC_01_0233.png  76  2020-05-14    1      1   \n",
       "3    BC_01_0258  ./test_imgs/BC_01_0258.png  58  2020-05-20    1      2   \n",
       "4    BC_01_0260  ./test_imgs/BC_01_0260.png  56  2020-05-20    1      2   \n",
       "..          ...                         ...  ..         ...  ...    ...   \n",
       "245  BC_01_3328  ./test_imgs/BC_01_3328.png  61  2009-10-30    1      1   \n",
       "246  BC_01_3404  ./test_imgs/BC_01_3404.png  42  2009-05-19    1      2   \n",
       "247  BC_01_3418  ./test_imgs/BC_01_3418.png  37  2009-04-24    1      1   \n",
       "248  BC_01_3438  ./test_imgs/BC_01_3438.png  37  2009-02-06    1      1   \n",
       "249  BC_01_3446  ./test_imgs/BC_01_3446.png  84  2009-02-06    1      1   \n",
       "\n",
       "     암의 개수  암의 장경   NG   HG  ...   ER  ER_Allred_score   PR  PR_Allred_score  \\\n",
       "0        1   23.0  2.0  2.0  ...  1.0              8.0  0.0              2.0   \n",
       "1        1   13.0  3.0  2.0  ...  1.0              4.0  1.0              8.0   \n",
       "2        1    NaN  NaN  NaN  ...  1.0              6.0  1.0              6.0   \n",
       "3        1    1.3  2.0  2.0  ...  1.0              7.0  0.0              NaN   \n",
       "4        2   15.0  3.0  3.0  ...  1.0              8.0  1.0              3.0   \n",
       "..     ...    ...  ...  ...  ...  ...              ...  ...              ...   \n",
       "245      1   18.0  2.0  2.0  ...  1.0              5.0  1.0              3.0   \n",
       "246      1   20.0  1.0  2.0  ...  1.0              5.0  1.0              5.0   \n",
       "247      1   17.0  1.0  1.0  ...  1.0              5.0  1.0              5.0   \n",
       "248      1    7.0  1.0  1.0  ...  1.0              5.0  1.0              5.0   \n",
       "249      1    3.0  1.0  1.0  ...  0.0              NaN  0.0              NaN   \n",
       "\n",
       "     KI-67_LI_percent  HER2  HER2_IHC  HER2_SISH  HER2_SISH_ratio  \\\n",
       "0                5.00   0.0       1.0        NaN              NaN   \n",
       "1                8.67   0.0       0.0        NaN              NaN   \n",
       "2                 NaN   NaN       2.0        NaN              NaN   \n",
       "3               21.17   1.0       3.0        NaN              NaN   \n",
       "4               20.57   1.0       3.0        NaN              NaN   \n",
       "..                ...   ...       ...        ...              ...   \n",
       "245               NaN   0.0       0.0        NaN              NaN   \n",
       "246               NaN   0.0       1.0        NaN              NaN   \n",
       "247               NaN   0.0       0.0        NaN              NaN   \n",
       "248               NaN   0.0       0.0        NaN              NaN   \n",
       "249               NaN   0.0       0.0        NaN              NaN   \n",
       "\n",
       "     BRCA_mutation  \n",
       "0              NaN  \n",
       "1              NaN  \n",
       "2              NaN  \n",
       "3              0.0  \n",
       "4              NaN  \n",
       "..             ...  \n",
       "245            NaN  \n",
       "246            NaN  \n",
       "247            NaN  \n",
       "248            NaN  \n",
       "249            NaN  \n",
       "\n",
       "[250 rows x 26 columns]"
      ]
     },
     "execution_count": 423,
     "metadata": {},
     "output_type": "execute_result"
    }
   ],
   "source": [
    "X_test"
   ]
  },
  {
   "cell_type": "code",
   "execution_count": 424,
   "id": "fb6ff620",
   "metadata": {
    "ExecuteTime": {
     "end_time": "2022-11-26T17:25:07.799371Z",
     "start_time": "2022-11-26T17:25:07.795951Z"
    }
   },
   "outputs": [],
   "source": [
    "def preprocess(X_train):\n",
    "    X_train = X_train[X_train.columns[2:]]\n",
    "    X_train = X_train.fillna(X_train.mean())    \n",
    "    X_train[\"수술연월일\"] = pd.to_datetime(X_train[\"수술연월일\"])\n",
    "    X_train[\"year\"] = X_train[\"수술연월일\"].dt.year\n",
    "    X_train[\"month\"] = X_train[\"수술연월일\"].dt.month\n",
    "    X_train[\"day\"] = X_train[\"수술연월일\"].dt.day\n",
    "    X_train[\"day_name\"] = X_train[\"수술연월일\"].dt.day_name\n",
    "\n",
    "    date_list=[]\n",
    "    for i in range(len(X_train)):\n",
    "        date_list.append(str(X_train[\"month\"][i]).zfill(2) +str(X_train[\"day\"][i]).zfill(2))\n",
    "\n",
    "    X_train[\"수술연월일\"] = date_list\n",
    "    X_train = X_train[X_train.columns[:-1]]\n",
    "    return X_train"
   ]
  },
  {
   "cell_type": "code",
   "execution_count": 425,
   "id": "a871071b",
   "metadata": {
    "ExecuteTime": {
     "end_time": "2022-11-26T17:25:07.812222Z",
     "start_time": "2022-11-26T17:25:07.800546Z"
    }
   },
   "outputs": [
    {
     "name": "stderr",
     "output_type": "stream",
     "text": [
      "/tmp/ipykernel_2208/3131094236.py:3: FutureWarning: The default value of numeric_only in DataFrame.mean is deprecated. In a future version, it will default to False. In addition, specifying 'numeric_only=None' is deprecated. Select only valid columns or specify the value of numeric_only to silence this warning.\n",
      "  X_train = X_train.fillna(X_train.mean())\n"
     ]
    }
   ],
   "source": [
    "X_test = preprocess(X_test)"
   ]
  },
  {
   "cell_type": "code",
   "execution_count": 430,
   "id": "9634fccd",
   "metadata": {
    "ExecuteTime": {
     "end_time": "2022-11-26T17:25:18.121680Z",
     "start_time": "2022-11-26T17:25:18.112307Z"
    }
   },
   "outputs": [],
   "source": [
    "pred = model.predict(X_test)"
   ]
  },
  {
   "cell_type": "code",
   "execution_count": 431,
   "id": "f1f5a4ee",
   "metadata": {
    "ExecuteTime": {
     "end_time": "2022-11-26T17:25:23.970714Z",
     "start_time": "2022-11-26T17:25:23.964989Z"
    }
   },
   "outputs": [],
   "source": [
    "submission[\"N_category\"] = pred"
   ]
  },
  {
   "cell_type": "code",
   "execution_count": 434,
   "id": "afc2d233",
   "metadata": {
    "ExecuteTime": {
     "end_time": "2022-11-26T17:26:50.766004Z",
     "start_time": "2022-11-26T17:26:50.756257Z"
    }
   },
   "outputs": [],
   "source": [
    "submission.to_csv(\"./submission_tabular.csv\", index=False)"
   ]
  },
  {
   "cell_type": "code",
   "execution_count": null,
   "id": "da7d86bd",
   "metadata": {},
   "outputs": [],
   "source": []
  }
 ],
 "metadata": {
  "kernelspec": {
   "display_name": "base",
   "language": "python",
   "name": "home"
  },
  "language_info": {
   "codemirror_mode": {
    "name": "ipython",
    "version": 3
   },
   "file_extension": ".py",
   "mimetype": "text/x-python",
   "name": "python",
   "nbconvert_exporter": "python",
   "pygments_lexer": "ipython3",
   "version": "3.9.2"
  },
  "toc": {
   "base_numbering": 1,
   "nav_menu": {},
   "number_sections": true,
   "sideBar": true,
   "skip_h1_title": false,
   "title_cell": "Table of Contents",
   "title_sidebar": "Contents",
   "toc_cell": false,
   "toc_position": {},
   "toc_section_display": true,
   "toc_window_display": true
  },
  "varInspector": {
   "cols": {
    "lenName": 16,
    "lenType": 16,
    "lenVar": 40
   },
   "kernels_config": {
    "python": {
     "delete_cmd_postfix": "",
     "delete_cmd_prefix": "del ",
     "library": "var_list.py",
     "varRefreshCmd": "print(var_dic_list())"
    },
    "r": {
     "delete_cmd_postfix": ") ",
     "delete_cmd_prefix": "rm(",
     "library": "var_list.r",
     "varRefreshCmd": "cat(var_dic_list()) "
    }
   },
   "oldHeight": 122.844,
   "position": {
    "height": "457.844px",
    "left": "1528px",
    "right": "20px",
    "top": "200px",
    "width": "311px"
   },
   "types_to_exclude": [
    "module",
    "function",
    "builtin_function_or_method",
    "instance",
    "_Feature"
   ],
   "varInspector_section_display": "block",
   "window_display": false
  }
 },
 "nbformat": 4,
 "nbformat_minor": 5
}
